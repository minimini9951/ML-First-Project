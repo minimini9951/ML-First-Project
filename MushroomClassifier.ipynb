{
 "cells": [
  {
   "cell_type": "code",
   "execution_count": 1,
   "id": "f88fd77d-df98-439c-aee4-f3d568ae7ec5",
   "metadata": {
    "execution": {
     "iopub.execute_input": "2022-11-18T09:18:25.594722Z",
     "iopub.status.busy": "2022-11-18T09:18:25.594722Z",
     "iopub.status.idle": "2022-11-18T09:18:28.669688Z",
     "shell.execute_reply": "2022-11-18T09:18:28.668949Z",
     "shell.execute_reply.started": "2022-11-18T09:18:25.594722Z"
    },
    "tags": []
   },
   "outputs": [],
   "source": [
    "import numpy as np\n",
    "import pandas as pd\n",
    "import seaborn as sns\n",
    "import matplotlib as mpl\n",
    "import matplotlib.pyplot as plt\n",
    "from ngboost import NGBClassifier\n",
    "from lightgbm import LGBMClassifier\n",
    "from catboost import CatBoostClassifier\n",
    "from sklearn.metrics import mean_squared_error\n",
    "from sklearn.preprocessing import LabelEncoder\n",
    "from sklearn.model_selection import train_test_split\n",
    "from sklearn.metrics import accuracy_score, f1_score, precision_score, recall_score, confusion_matrix, roc_auc_score\n",
    "\n",
    "import os\n",
    "os.environ[\"OMP_NUM_THREADS\"] = '1'\n",
    "\n",
    "import warnings\n",
    "warnings.simplefilter(action='ignore', category=FutureWarning)\n",
    "\n",
    "%config Completer.use_jedi = False\n",
    "%config InlineBackend.figure_format = 'retina'"
   ]
  },
  {
   "cell_type": "code",
   "execution_count": 2,
   "id": "c98e07c3-e249-441f-9f83-969e9dc9e1d7",
   "metadata": {
    "execution": {
     "iopub.execute_input": "2022-11-18T09:18:28.670821Z",
     "iopub.status.busy": "2022-11-18T09:18:28.670821Z",
     "iopub.status.idle": "2022-11-18T09:18:28.706346Z",
     "shell.execute_reply": "2022-11-18T09:18:28.706346Z",
     "shell.execute_reply.started": "2022-11-18T09:18:28.670821Z"
    },
    "tags": []
   },
   "outputs": [],
   "source": [
    "mush = pd.read_csv('mushrooms.csv')"
   ]
  },
  {
   "cell_type": "code",
   "execution_count": 3,
   "id": "9bfdb6e7-fe8a-4f69-837f-b591c79c64b3",
   "metadata": {
    "execution": {
     "iopub.execute_input": "2022-11-18T09:18:28.706346Z",
     "iopub.status.busy": "2022-11-18T09:18:28.706346Z",
     "iopub.status.idle": "2022-11-18T09:18:28.721915Z",
     "shell.execute_reply": "2022-11-18T09:18:28.721357Z",
     "shell.execute_reply.started": "2022-11-18T09:18:28.706346Z"
    },
    "tags": []
   },
   "outputs": [
    {
     "data": {
      "text/plain": [
       "(8124, 23)"
      ]
     },
     "execution_count": 3,
     "metadata": {},
     "output_type": "execute_result"
    }
   ],
   "source": [
    "mush.shape"
   ]
  },
  {
   "cell_type": "code",
   "execution_count": 4,
   "id": "962d9f08-0973-4bc1-8330-cc85e65f86c5",
   "metadata": {
    "execution": {
     "iopub.execute_input": "2022-11-18T09:18:28.723002Z",
     "iopub.status.busy": "2022-11-18T09:18:28.723002Z",
     "iopub.status.idle": "2022-11-18T09:18:28.733348Z",
     "shell.execute_reply": "2022-11-18T09:18:28.732628Z",
     "shell.execute_reply.started": "2022-11-18T09:18:28.723002Z"
    },
    "tags": []
   },
   "outputs": [
    {
     "data": {
      "text/plain": [
       "Index(['class', 'cap-shape', 'cap-surface', 'cap-color', 'bruises', 'odor',\n",
       "       'gill-attachment', 'gill-spacing', 'gill-size', 'gill-color',\n",
       "       'stalk-shape', 'stalk-root', 'stalk-surface-above-ring',\n",
       "       'stalk-surface-below-ring', 'stalk-color-above-ring',\n",
       "       'stalk-color-below-ring', 'veil-type', 'veil-color', 'ring-number',\n",
       "       'ring-type', 'spore-print-color', 'population', 'habitat'],\n",
       "      dtype='object')"
      ]
     },
     "execution_count": 4,
     "metadata": {},
     "output_type": "execute_result"
    }
   ],
   "source": [
    "mush.keys()"
   ]
  },
  {
   "cell_type": "code",
   "execution_count": 5,
   "id": "8b6d91d8-001a-4a6f-b40e-0491274322f4",
   "metadata": {
    "execution": {
     "iopub.execute_input": "2022-11-18T09:18:28.734047Z",
     "iopub.status.busy": "2022-11-18T09:18:28.734047Z",
     "iopub.status.idle": "2022-11-18T09:18:28.776692Z",
     "shell.execute_reply": "2022-11-18T09:18:28.776692Z",
     "shell.execute_reply.started": "2022-11-18T09:18:28.734047Z"
    },
    "tags": []
   },
   "outputs": [
    {
     "name": "stdout",
     "output_type": "stream",
     "text": [
      "<class 'pandas.core.frame.DataFrame'>\n",
      "RangeIndex: 8124 entries, 0 to 8123\n",
      "Data columns (total 23 columns):\n",
      " #   Column                    Non-Null Count  Dtype \n",
      "---  ------                    --------------  ----- \n",
      " 0   class                     8124 non-null   object\n",
      " 1   cap-shape                 8124 non-null   object\n",
      " 2   cap-surface               8124 non-null   object\n",
      " 3   cap-color                 8124 non-null   object\n",
      " 4   bruises                   8124 non-null   object\n",
      " 5   odor                      8124 non-null   object\n",
      " 6   gill-attachment           8124 non-null   object\n",
      " 7   gill-spacing              8124 non-null   object\n",
      " 8   gill-size                 8124 non-null   object\n",
      " 9   gill-color                8124 non-null   object\n",
      " 10  stalk-shape               8124 non-null   object\n",
      " 11  stalk-root                8124 non-null   object\n",
      " 12  stalk-surface-above-ring  8124 non-null   object\n",
      " 13  stalk-surface-below-ring  8124 non-null   object\n",
      " 14  stalk-color-above-ring    8124 non-null   object\n",
      " 15  stalk-color-below-ring    8124 non-null   object\n",
      " 16  veil-type                 8124 non-null   object\n",
      " 17  veil-color                8124 non-null   object\n",
      " 18  ring-number               8124 non-null   object\n",
      " 19  ring-type                 8124 non-null   object\n",
      " 20  spore-print-color         8124 non-null   object\n",
      " 21  population                8124 non-null   object\n",
      " 22  habitat                   8124 non-null   object\n",
      "dtypes: object(23)\n",
      "memory usage: 1.4+ MB\n"
     ]
    }
   ],
   "source": [
    "mush.info()"
   ]
  },
  {
   "cell_type": "code",
   "execution_count": 6,
   "id": "276f23bb-7e11-44b8-824b-496faece7954",
   "metadata": {
    "execution": {
     "iopub.execute_input": "2022-11-18T09:18:28.778552Z",
     "iopub.status.busy": "2022-11-18T09:18:28.778552Z",
     "iopub.status.idle": "2022-11-18T09:18:28.787182Z",
     "shell.execute_reply": "2022-11-18T09:18:28.787182Z",
     "shell.execute_reply.started": "2022-11-18T09:18:28.778552Z"
    },
    "tags": []
   },
   "outputs": [],
   "source": [
    "df = pd.DataFrame(mush)"
   ]
  },
  {
   "cell_type": "code",
   "execution_count": 7,
   "id": "645682d0-59fa-4ab5-9c23-3aeb11dedfc7",
   "metadata": {
    "execution": {
     "iopub.execute_input": "2022-11-18T09:18:28.791883Z",
     "iopub.status.busy": "2022-11-18T09:18:28.790366Z",
     "iopub.status.idle": "2022-11-18T09:18:28.827839Z",
     "shell.execute_reply": "2022-11-18T09:18:28.827839Z",
     "shell.execute_reply.started": "2022-11-18T09:18:28.791883Z"
    },
    "tags": []
   },
   "outputs": [
    {
     "data": {
      "text/html": [
       "<div>\n",
       "<style scoped>\n",
       "    .dataframe tbody tr th:only-of-type {\n",
       "        vertical-align: middle;\n",
       "    }\n",
       "\n",
       "    .dataframe tbody tr th {\n",
       "        vertical-align: top;\n",
       "    }\n",
       "\n",
       "    .dataframe thead th {\n",
       "        text-align: right;\n",
       "    }\n",
       "</style>\n",
       "<table border=\"1\" class=\"dataframe\">\n",
       "  <thead>\n",
       "    <tr style=\"text-align: right;\">\n",
       "      <th></th>\n",
       "      <th>class</th>\n",
       "      <th>cap-shape</th>\n",
       "      <th>cap-surface</th>\n",
       "      <th>cap-color</th>\n",
       "      <th>bruises</th>\n",
       "      <th>odor</th>\n",
       "      <th>gill-attachment</th>\n",
       "      <th>gill-spacing</th>\n",
       "      <th>gill-size</th>\n",
       "      <th>gill-color</th>\n",
       "      <th>...</th>\n",
       "      <th>stalk-surface-below-ring</th>\n",
       "      <th>stalk-color-above-ring</th>\n",
       "      <th>stalk-color-below-ring</th>\n",
       "      <th>veil-type</th>\n",
       "      <th>veil-color</th>\n",
       "      <th>ring-number</th>\n",
       "      <th>ring-type</th>\n",
       "      <th>spore-print-color</th>\n",
       "      <th>population</th>\n",
       "      <th>habitat</th>\n",
       "    </tr>\n",
       "  </thead>\n",
       "  <tbody>\n",
       "    <tr>\n",
       "      <th>0</th>\n",
       "      <td>p</td>\n",
       "      <td>x</td>\n",
       "      <td>s</td>\n",
       "      <td>n</td>\n",
       "      <td>t</td>\n",
       "      <td>p</td>\n",
       "      <td>f</td>\n",
       "      <td>c</td>\n",
       "      <td>n</td>\n",
       "      <td>k</td>\n",
       "      <td>...</td>\n",
       "      <td>s</td>\n",
       "      <td>w</td>\n",
       "      <td>w</td>\n",
       "      <td>p</td>\n",
       "      <td>w</td>\n",
       "      <td>o</td>\n",
       "      <td>p</td>\n",
       "      <td>k</td>\n",
       "      <td>s</td>\n",
       "      <td>u</td>\n",
       "    </tr>\n",
       "    <tr>\n",
       "      <th>1</th>\n",
       "      <td>e</td>\n",
       "      <td>x</td>\n",
       "      <td>s</td>\n",
       "      <td>y</td>\n",
       "      <td>t</td>\n",
       "      <td>a</td>\n",
       "      <td>f</td>\n",
       "      <td>c</td>\n",
       "      <td>b</td>\n",
       "      <td>k</td>\n",
       "      <td>...</td>\n",
       "      <td>s</td>\n",
       "      <td>w</td>\n",
       "      <td>w</td>\n",
       "      <td>p</td>\n",
       "      <td>w</td>\n",
       "      <td>o</td>\n",
       "      <td>p</td>\n",
       "      <td>n</td>\n",
       "      <td>n</td>\n",
       "      <td>g</td>\n",
       "    </tr>\n",
       "    <tr>\n",
       "      <th>2</th>\n",
       "      <td>e</td>\n",
       "      <td>b</td>\n",
       "      <td>s</td>\n",
       "      <td>w</td>\n",
       "      <td>t</td>\n",
       "      <td>l</td>\n",
       "      <td>f</td>\n",
       "      <td>c</td>\n",
       "      <td>b</td>\n",
       "      <td>n</td>\n",
       "      <td>...</td>\n",
       "      <td>s</td>\n",
       "      <td>w</td>\n",
       "      <td>w</td>\n",
       "      <td>p</td>\n",
       "      <td>w</td>\n",
       "      <td>o</td>\n",
       "      <td>p</td>\n",
       "      <td>n</td>\n",
       "      <td>n</td>\n",
       "      <td>m</td>\n",
       "    </tr>\n",
       "    <tr>\n",
       "      <th>3</th>\n",
       "      <td>p</td>\n",
       "      <td>x</td>\n",
       "      <td>y</td>\n",
       "      <td>w</td>\n",
       "      <td>t</td>\n",
       "      <td>p</td>\n",
       "      <td>f</td>\n",
       "      <td>c</td>\n",
       "      <td>n</td>\n",
       "      <td>n</td>\n",
       "      <td>...</td>\n",
       "      <td>s</td>\n",
       "      <td>w</td>\n",
       "      <td>w</td>\n",
       "      <td>p</td>\n",
       "      <td>w</td>\n",
       "      <td>o</td>\n",
       "      <td>p</td>\n",
       "      <td>k</td>\n",
       "      <td>s</td>\n",
       "      <td>u</td>\n",
       "    </tr>\n",
       "    <tr>\n",
       "      <th>4</th>\n",
       "      <td>e</td>\n",
       "      <td>x</td>\n",
       "      <td>s</td>\n",
       "      <td>g</td>\n",
       "      <td>f</td>\n",
       "      <td>n</td>\n",
       "      <td>f</td>\n",
       "      <td>w</td>\n",
       "      <td>b</td>\n",
       "      <td>k</td>\n",
       "      <td>...</td>\n",
       "      <td>s</td>\n",
       "      <td>w</td>\n",
       "      <td>w</td>\n",
       "      <td>p</td>\n",
       "      <td>w</td>\n",
       "      <td>o</td>\n",
       "      <td>e</td>\n",
       "      <td>n</td>\n",
       "      <td>a</td>\n",
       "      <td>g</td>\n",
       "    </tr>\n",
       "    <tr>\n",
       "      <th>...</th>\n",
       "      <td>...</td>\n",
       "      <td>...</td>\n",
       "      <td>...</td>\n",
       "      <td>...</td>\n",
       "      <td>...</td>\n",
       "      <td>...</td>\n",
       "      <td>...</td>\n",
       "      <td>...</td>\n",
       "      <td>...</td>\n",
       "      <td>...</td>\n",
       "      <td>...</td>\n",
       "      <td>...</td>\n",
       "      <td>...</td>\n",
       "      <td>...</td>\n",
       "      <td>...</td>\n",
       "      <td>...</td>\n",
       "      <td>...</td>\n",
       "      <td>...</td>\n",
       "      <td>...</td>\n",
       "      <td>...</td>\n",
       "      <td>...</td>\n",
       "    </tr>\n",
       "    <tr>\n",
       "      <th>8119</th>\n",
       "      <td>e</td>\n",
       "      <td>k</td>\n",
       "      <td>s</td>\n",
       "      <td>n</td>\n",
       "      <td>f</td>\n",
       "      <td>n</td>\n",
       "      <td>a</td>\n",
       "      <td>c</td>\n",
       "      <td>b</td>\n",
       "      <td>y</td>\n",
       "      <td>...</td>\n",
       "      <td>s</td>\n",
       "      <td>o</td>\n",
       "      <td>o</td>\n",
       "      <td>p</td>\n",
       "      <td>o</td>\n",
       "      <td>o</td>\n",
       "      <td>p</td>\n",
       "      <td>b</td>\n",
       "      <td>c</td>\n",
       "      <td>l</td>\n",
       "    </tr>\n",
       "    <tr>\n",
       "      <th>8120</th>\n",
       "      <td>e</td>\n",
       "      <td>x</td>\n",
       "      <td>s</td>\n",
       "      <td>n</td>\n",
       "      <td>f</td>\n",
       "      <td>n</td>\n",
       "      <td>a</td>\n",
       "      <td>c</td>\n",
       "      <td>b</td>\n",
       "      <td>y</td>\n",
       "      <td>...</td>\n",
       "      <td>s</td>\n",
       "      <td>o</td>\n",
       "      <td>o</td>\n",
       "      <td>p</td>\n",
       "      <td>n</td>\n",
       "      <td>o</td>\n",
       "      <td>p</td>\n",
       "      <td>b</td>\n",
       "      <td>v</td>\n",
       "      <td>l</td>\n",
       "    </tr>\n",
       "    <tr>\n",
       "      <th>8121</th>\n",
       "      <td>e</td>\n",
       "      <td>f</td>\n",
       "      <td>s</td>\n",
       "      <td>n</td>\n",
       "      <td>f</td>\n",
       "      <td>n</td>\n",
       "      <td>a</td>\n",
       "      <td>c</td>\n",
       "      <td>b</td>\n",
       "      <td>n</td>\n",
       "      <td>...</td>\n",
       "      <td>s</td>\n",
       "      <td>o</td>\n",
       "      <td>o</td>\n",
       "      <td>p</td>\n",
       "      <td>o</td>\n",
       "      <td>o</td>\n",
       "      <td>p</td>\n",
       "      <td>b</td>\n",
       "      <td>c</td>\n",
       "      <td>l</td>\n",
       "    </tr>\n",
       "    <tr>\n",
       "      <th>8122</th>\n",
       "      <td>p</td>\n",
       "      <td>k</td>\n",
       "      <td>y</td>\n",
       "      <td>n</td>\n",
       "      <td>f</td>\n",
       "      <td>y</td>\n",
       "      <td>f</td>\n",
       "      <td>c</td>\n",
       "      <td>n</td>\n",
       "      <td>b</td>\n",
       "      <td>...</td>\n",
       "      <td>k</td>\n",
       "      <td>w</td>\n",
       "      <td>w</td>\n",
       "      <td>p</td>\n",
       "      <td>w</td>\n",
       "      <td>o</td>\n",
       "      <td>e</td>\n",
       "      <td>w</td>\n",
       "      <td>v</td>\n",
       "      <td>l</td>\n",
       "    </tr>\n",
       "    <tr>\n",
       "      <th>8123</th>\n",
       "      <td>e</td>\n",
       "      <td>x</td>\n",
       "      <td>s</td>\n",
       "      <td>n</td>\n",
       "      <td>f</td>\n",
       "      <td>n</td>\n",
       "      <td>a</td>\n",
       "      <td>c</td>\n",
       "      <td>b</td>\n",
       "      <td>y</td>\n",
       "      <td>...</td>\n",
       "      <td>s</td>\n",
       "      <td>o</td>\n",
       "      <td>o</td>\n",
       "      <td>p</td>\n",
       "      <td>o</td>\n",
       "      <td>o</td>\n",
       "      <td>p</td>\n",
       "      <td>o</td>\n",
       "      <td>c</td>\n",
       "      <td>l</td>\n",
       "    </tr>\n",
       "  </tbody>\n",
       "</table>\n",
       "<p>8124 rows × 23 columns</p>\n",
       "</div>"
      ],
      "text/plain": [
       "     class cap-shape cap-surface cap-color bruises odor gill-attachment  \\\n",
       "0        p         x           s         n       t    p               f   \n",
       "1        e         x           s         y       t    a               f   \n",
       "2        e         b           s         w       t    l               f   \n",
       "3        p         x           y         w       t    p               f   \n",
       "4        e         x           s         g       f    n               f   \n",
       "...    ...       ...         ...       ...     ...  ...             ...   \n",
       "8119     e         k           s         n       f    n               a   \n",
       "8120     e         x           s         n       f    n               a   \n",
       "8121     e         f           s         n       f    n               a   \n",
       "8122     p         k           y         n       f    y               f   \n",
       "8123     e         x           s         n       f    n               a   \n",
       "\n",
       "     gill-spacing gill-size gill-color  ... stalk-surface-below-ring  \\\n",
       "0               c         n          k  ...                        s   \n",
       "1               c         b          k  ...                        s   \n",
       "2               c         b          n  ...                        s   \n",
       "3               c         n          n  ...                        s   \n",
       "4               w         b          k  ...                        s   \n",
       "...           ...       ...        ...  ...                      ...   \n",
       "8119            c         b          y  ...                        s   \n",
       "8120            c         b          y  ...                        s   \n",
       "8121            c         b          n  ...                        s   \n",
       "8122            c         n          b  ...                        k   \n",
       "8123            c         b          y  ...                        s   \n",
       "\n",
       "     stalk-color-above-ring stalk-color-below-ring veil-type veil-color  \\\n",
       "0                         w                      w         p          w   \n",
       "1                         w                      w         p          w   \n",
       "2                         w                      w         p          w   \n",
       "3                         w                      w         p          w   \n",
       "4                         w                      w         p          w   \n",
       "...                     ...                    ...       ...        ...   \n",
       "8119                      o                      o         p          o   \n",
       "8120                      o                      o         p          n   \n",
       "8121                      o                      o         p          o   \n",
       "8122                      w                      w         p          w   \n",
       "8123                      o                      o         p          o   \n",
       "\n",
       "     ring-number ring-type spore-print-color population habitat  \n",
       "0              o         p                 k          s       u  \n",
       "1              o         p                 n          n       g  \n",
       "2              o         p                 n          n       m  \n",
       "3              o         p                 k          s       u  \n",
       "4              o         e                 n          a       g  \n",
       "...          ...       ...               ...        ...     ...  \n",
       "8119           o         p                 b          c       l  \n",
       "8120           o         p                 b          v       l  \n",
       "8121           o         p                 b          c       l  \n",
       "8122           o         e                 w          v       l  \n",
       "8123           o         p                 o          c       l  \n",
       "\n",
       "[8124 rows x 23 columns]"
      ]
     },
     "execution_count": 7,
     "metadata": {},
     "output_type": "execute_result"
    }
   ],
   "source": [
    "df"
   ]
  },
  {
   "cell_type": "code",
   "execution_count": 8,
   "id": "04d360e3-9f1a-4b46-b33e-c734c0f7f12a",
   "metadata": {
    "execution": {
     "iopub.execute_input": "2022-11-18T09:18:28.827839Z",
     "iopub.status.busy": "2022-11-18T09:18:28.827839Z",
     "iopub.status.idle": "2022-11-18T09:18:28.844001Z",
     "shell.execute_reply": "2022-11-18T09:18:28.844001Z",
     "shell.execute_reply.started": "2022-11-18T09:18:28.827839Z"
    },
    "tags": []
   },
   "outputs": [],
   "source": [
    "df = df.drop('veil-type', axis=1)"
   ]
  },
  {
   "cell_type": "code",
   "execution_count": 9,
   "id": "a8f3158d-bc88-44f0-b914-8851f7f61ae8",
   "metadata": {
    "execution": {
     "iopub.execute_input": "2022-11-18T09:18:28.846511Z",
     "iopub.status.busy": "2022-11-18T09:18:28.846511Z",
     "iopub.status.idle": "2022-11-18T09:18:28.862066Z",
     "shell.execute_reply": "2022-11-18T09:18:28.862066Z",
     "shell.execute_reply.started": "2022-11-18T09:18:28.846511Z"
    },
    "tags": []
   },
   "outputs": [
    {
     "data": {
      "text/plain": [
       "'habitat'"
      ]
     },
     "execution_count": 9,
     "metadata": {},
     "output_type": "execute_result"
    }
   ],
   "source": [
    "df.columns[21]"
   ]
  },
  {
   "cell_type": "code",
   "execution_count": 10,
   "id": "227592de-f43a-48a1-ba0a-7bfcbc5d55b2",
   "metadata": {
    "execution": {
     "iopub.execute_input": "2022-11-18T09:18:28.862066Z",
     "iopub.status.busy": "2022-11-18T09:18:28.862066Z",
     "iopub.status.idle": "2022-11-18T09:18:28.902098Z",
     "shell.execute_reply": "2022-11-18T09:18:28.902098Z",
     "shell.execute_reply.started": "2022-11-18T09:18:28.862066Z"
    },
    "tags": []
   },
   "outputs": [
    {
     "name": "stdout",
     "output_type": "stream",
     "text": [
      "<class 'pandas.core.frame.DataFrame'>\n",
      "RangeIndex: 8124 entries, 0 to 8123\n",
      "Data columns (total 22 columns):\n",
      " #   Column                    Non-Null Count  Dtype \n",
      "---  ------                    --------------  ----- \n",
      " 0   class                     8124 non-null   object\n",
      " 1   cap-shape                 8124 non-null   object\n",
      " 2   cap-surface               8124 non-null   object\n",
      " 3   cap-color                 8124 non-null   object\n",
      " 4   bruises                   8124 non-null   object\n",
      " 5   odor                      8124 non-null   object\n",
      " 6   gill-attachment           8124 non-null   object\n",
      " 7   gill-spacing              8124 non-null   object\n",
      " 8   gill-size                 8124 non-null   object\n",
      " 9   gill-color                8124 non-null   object\n",
      " 10  stalk-shape               8124 non-null   object\n",
      " 11  stalk-root                8124 non-null   object\n",
      " 12  stalk-surface-above-ring  8124 non-null   object\n",
      " 13  stalk-surface-below-ring  8124 non-null   object\n",
      " 14  stalk-color-above-ring    8124 non-null   object\n",
      " 15  stalk-color-below-ring    8124 non-null   object\n",
      " 16  veil-color                8124 non-null   object\n",
      " 17  ring-number               8124 non-null   object\n",
      " 18  ring-type                 8124 non-null   object\n",
      " 19  spore-print-color         8124 non-null   object\n",
      " 20  population                8124 non-null   object\n",
      " 21  habitat                   8124 non-null   object\n",
      "dtypes: object(22)\n",
      "memory usage: 1.4+ MB\n"
     ]
    }
   ],
   "source": [
    "df.info()"
   ]
  },
  {
   "cell_type": "code",
   "execution_count": 11,
   "id": "c9217aab-bf18-4346-abf0-2a36df192ea7",
   "metadata": {
    "execution": {
     "iopub.execute_input": "2022-11-18T09:18:28.902098Z",
     "iopub.status.busy": "2022-11-18T09:18:28.902098Z",
     "iopub.status.idle": "2022-11-18T09:18:28.955198Z",
     "shell.execute_reply": "2022-11-18T09:18:28.953676Z",
     "shell.execute_reply.started": "2022-11-18T09:18:28.902098Z"
    },
    "tags": []
   },
   "outputs": [],
   "source": [
    "le = LabelEncoder()\n",
    "new_cat = pd.DataFrame()\n",
    "for i in range(0, 22):\n",
    "    le.fit(df.iloc[:, i])\n",
    "    le_encoded = le.transform(df.iloc[:, i])\n",
    "    new_cat[df.columns[i]] = le_encoded"
   ]
  },
  {
   "cell_type": "code",
   "execution_count": 12,
   "id": "528b5094-8e11-483b-97d0-6d90fcea3d4c",
   "metadata": {
    "execution": {
     "iopub.execute_input": "2022-11-18T09:18:28.959873Z",
     "iopub.status.busy": "2022-11-18T09:18:28.959873Z",
     "iopub.status.idle": "2022-11-18T09:18:28.986465Z",
     "shell.execute_reply": "2022-11-18T09:18:28.985598Z",
     "shell.execute_reply.started": "2022-11-18T09:18:28.959873Z"
    },
    "tags": []
   },
   "outputs": [
    {
     "data": {
      "text/html": [
       "<div>\n",
       "<style scoped>\n",
       "    .dataframe tbody tr th:only-of-type {\n",
       "        vertical-align: middle;\n",
       "    }\n",
       "\n",
       "    .dataframe tbody tr th {\n",
       "        vertical-align: top;\n",
       "    }\n",
       "\n",
       "    .dataframe thead th {\n",
       "        text-align: right;\n",
       "    }\n",
       "</style>\n",
       "<table border=\"1\" class=\"dataframe\">\n",
       "  <thead>\n",
       "    <tr style=\"text-align: right;\">\n",
       "      <th></th>\n",
       "      <th>class</th>\n",
       "      <th>cap-shape</th>\n",
       "      <th>cap-surface</th>\n",
       "      <th>cap-color</th>\n",
       "      <th>bruises</th>\n",
       "      <th>odor</th>\n",
       "      <th>gill-attachment</th>\n",
       "      <th>gill-spacing</th>\n",
       "      <th>gill-size</th>\n",
       "      <th>gill-color</th>\n",
       "      <th>...</th>\n",
       "      <th>stalk-surface-above-ring</th>\n",
       "      <th>stalk-surface-below-ring</th>\n",
       "      <th>stalk-color-above-ring</th>\n",
       "      <th>stalk-color-below-ring</th>\n",
       "      <th>veil-color</th>\n",
       "      <th>ring-number</th>\n",
       "      <th>ring-type</th>\n",
       "      <th>spore-print-color</th>\n",
       "      <th>population</th>\n",
       "      <th>habitat</th>\n",
       "    </tr>\n",
       "  </thead>\n",
       "  <tbody>\n",
       "    <tr>\n",
       "      <th>0</th>\n",
       "      <td>1</td>\n",
       "      <td>5</td>\n",
       "      <td>2</td>\n",
       "      <td>4</td>\n",
       "      <td>1</td>\n",
       "      <td>6</td>\n",
       "      <td>1</td>\n",
       "      <td>0</td>\n",
       "      <td>1</td>\n",
       "      <td>4</td>\n",
       "      <td>...</td>\n",
       "      <td>2</td>\n",
       "      <td>2</td>\n",
       "      <td>7</td>\n",
       "      <td>7</td>\n",
       "      <td>2</td>\n",
       "      <td>1</td>\n",
       "      <td>4</td>\n",
       "      <td>2</td>\n",
       "      <td>3</td>\n",
       "      <td>5</td>\n",
       "    </tr>\n",
       "    <tr>\n",
       "      <th>1</th>\n",
       "      <td>0</td>\n",
       "      <td>5</td>\n",
       "      <td>2</td>\n",
       "      <td>9</td>\n",
       "      <td>1</td>\n",
       "      <td>0</td>\n",
       "      <td>1</td>\n",
       "      <td>0</td>\n",
       "      <td>0</td>\n",
       "      <td>4</td>\n",
       "      <td>...</td>\n",
       "      <td>2</td>\n",
       "      <td>2</td>\n",
       "      <td>7</td>\n",
       "      <td>7</td>\n",
       "      <td>2</td>\n",
       "      <td>1</td>\n",
       "      <td>4</td>\n",
       "      <td>3</td>\n",
       "      <td>2</td>\n",
       "      <td>1</td>\n",
       "    </tr>\n",
       "    <tr>\n",
       "      <th>2</th>\n",
       "      <td>0</td>\n",
       "      <td>0</td>\n",
       "      <td>2</td>\n",
       "      <td>8</td>\n",
       "      <td>1</td>\n",
       "      <td>3</td>\n",
       "      <td>1</td>\n",
       "      <td>0</td>\n",
       "      <td>0</td>\n",
       "      <td>5</td>\n",
       "      <td>...</td>\n",
       "      <td>2</td>\n",
       "      <td>2</td>\n",
       "      <td>7</td>\n",
       "      <td>7</td>\n",
       "      <td>2</td>\n",
       "      <td>1</td>\n",
       "      <td>4</td>\n",
       "      <td>3</td>\n",
       "      <td>2</td>\n",
       "      <td>3</td>\n",
       "    </tr>\n",
       "    <tr>\n",
       "      <th>3</th>\n",
       "      <td>1</td>\n",
       "      <td>5</td>\n",
       "      <td>3</td>\n",
       "      <td>8</td>\n",
       "      <td>1</td>\n",
       "      <td>6</td>\n",
       "      <td>1</td>\n",
       "      <td>0</td>\n",
       "      <td>1</td>\n",
       "      <td>5</td>\n",
       "      <td>...</td>\n",
       "      <td>2</td>\n",
       "      <td>2</td>\n",
       "      <td>7</td>\n",
       "      <td>7</td>\n",
       "      <td>2</td>\n",
       "      <td>1</td>\n",
       "      <td>4</td>\n",
       "      <td>2</td>\n",
       "      <td>3</td>\n",
       "      <td>5</td>\n",
       "    </tr>\n",
       "    <tr>\n",
       "      <th>4</th>\n",
       "      <td>0</td>\n",
       "      <td>5</td>\n",
       "      <td>2</td>\n",
       "      <td>3</td>\n",
       "      <td>0</td>\n",
       "      <td>5</td>\n",
       "      <td>1</td>\n",
       "      <td>1</td>\n",
       "      <td>0</td>\n",
       "      <td>4</td>\n",
       "      <td>...</td>\n",
       "      <td>2</td>\n",
       "      <td>2</td>\n",
       "      <td>7</td>\n",
       "      <td>7</td>\n",
       "      <td>2</td>\n",
       "      <td>1</td>\n",
       "      <td>0</td>\n",
       "      <td>3</td>\n",
       "      <td>0</td>\n",
       "      <td>1</td>\n",
       "    </tr>\n",
       "    <tr>\n",
       "      <th>...</th>\n",
       "      <td>...</td>\n",
       "      <td>...</td>\n",
       "      <td>...</td>\n",
       "      <td>...</td>\n",
       "      <td>...</td>\n",
       "      <td>...</td>\n",
       "      <td>...</td>\n",
       "      <td>...</td>\n",
       "      <td>...</td>\n",
       "      <td>...</td>\n",
       "      <td>...</td>\n",
       "      <td>...</td>\n",
       "      <td>...</td>\n",
       "      <td>...</td>\n",
       "      <td>...</td>\n",
       "      <td>...</td>\n",
       "      <td>...</td>\n",
       "      <td>...</td>\n",
       "      <td>...</td>\n",
       "      <td>...</td>\n",
       "      <td>...</td>\n",
       "    </tr>\n",
       "    <tr>\n",
       "      <th>8119</th>\n",
       "      <td>0</td>\n",
       "      <td>3</td>\n",
       "      <td>2</td>\n",
       "      <td>4</td>\n",
       "      <td>0</td>\n",
       "      <td>5</td>\n",
       "      <td>0</td>\n",
       "      <td>0</td>\n",
       "      <td>0</td>\n",
       "      <td>11</td>\n",
       "      <td>...</td>\n",
       "      <td>2</td>\n",
       "      <td>2</td>\n",
       "      <td>5</td>\n",
       "      <td>5</td>\n",
       "      <td>1</td>\n",
       "      <td>1</td>\n",
       "      <td>4</td>\n",
       "      <td>0</td>\n",
       "      <td>1</td>\n",
       "      <td>2</td>\n",
       "    </tr>\n",
       "    <tr>\n",
       "      <th>8120</th>\n",
       "      <td>0</td>\n",
       "      <td>5</td>\n",
       "      <td>2</td>\n",
       "      <td>4</td>\n",
       "      <td>0</td>\n",
       "      <td>5</td>\n",
       "      <td>0</td>\n",
       "      <td>0</td>\n",
       "      <td>0</td>\n",
       "      <td>11</td>\n",
       "      <td>...</td>\n",
       "      <td>2</td>\n",
       "      <td>2</td>\n",
       "      <td>5</td>\n",
       "      <td>5</td>\n",
       "      <td>0</td>\n",
       "      <td>1</td>\n",
       "      <td>4</td>\n",
       "      <td>0</td>\n",
       "      <td>4</td>\n",
       "      <td>2</td>\n",
       "    </tr>\n",
       "    <tr>\n",
       "      <th>8121</th>\n",
       "      <td>0</td>\n",
       "      <td>2</td>\n",
       "      <td>2</td>\n",
       "      <td>4</td>\n",
       "      <td>0</td>\n",
       "      <td>5</td>\n",
       "      <td>0</td>\n",
       "      <td>0</td>\n",
       "      <td>0</td>\n",
       "      <td>5</td>\n",
       "      <td>...</td>\n",
       "      <td>2</td>\n",
       "      <td>2</td>\n",
       "      <td>5</td>\n",
       "      <td>5</td>\n",
       "      <td>1</td>\n",
       "      <td>1</td>\n",
       "      <td>4</td>\n",
       "      <td>0</td>\n",
       "      <td>1</td>\n",
       "      <td>2</td>\n",
       "    </tr>\n",
       "    <tr>\n",
       "      <th>8122</th>\n",
       "      <td>1</td>\n",
       "      <td>3</td>\n",
       "      <td>3</td>\n",
       "      <td>4</td>\n",
       "      <td>0</td>\n",
       "      <td>8</td>\n",
       "      <td>1</td>\n",
       "      <td>0</td>\n",
       "      <td>1</td>\n",
       "      <td>0</td>\n",
       "      <td>...</td>\n",
       "      <td>2</td>\n",
       "      <td>1</td>\n",
       "      <td>7</td>\n",
       "      <td>7</td>\n",
       "      <td>2</td>\n",
       "      <td>1</td>\n",
       "      <td>0</td>\n",
       "      <td>7</td>\n",
       "      <td>4</td>\n",
       "      <td>2</td>\n",
       "    </tr>\n",
       "    <tr>\n",
       "      <th>8123</th>\n",
       "      <td>0</td>\n",
       "      <td>5</td>\n",
       "      <td>2</td>\n",
       "      <td>4</td>\n",
       "      <td>0</td>\n",
       "      <td>5</td>\n",
       "      <td>0</td>\n",
       "      <td>0</td>\n",
       "      <td>0</td>\n",
       "      <td>11</td>\n",
       "      <td>...</td>\n",
       "      <td>2</td>\n",
       "      <td>2</td>\n",
       "      <td>5</td>\n",
       "      <td>5</td>\n",
       "      <td>1</td>\n",
       "      <td>1</td>\n",
       "      <td>4</td>\n",
       "      <td>4</td>\n",
       "      <td>1</td>\n",
       "      <td>2</td>\n",
       "    </tr>\n",
       "  </tbody>\n",
       "</table>\n",
       "<p>8124 rows × 22 columns</p>\n",
       "</div>"
      ],
      "text/plain": [
       "      class  cap-shape  cap-surface  cap-color  bruises  odor  \\\n",
       "0         1          5            2          4        1     6   \n",
       "1         0          5            2          9        1     0   \n",
       "2         0          0            2          8        1     3   \n",
       "3         1          5            3          8        1     6   \n",
       "4         0          5            2          3        0     5   \n",
       "...     ...        ...          ...        ...      ...   ...   \n",
       "8119      0          3            2          4        0     5   \n",
       "8120      0          5            2          4        0     5   \n",
       "8121      0          2            2          4        0     5   \n",
       "8122      1          3            3          4        0     8   \n",
       "8123      0          5            2          4        0     5   \n",
       "\n",
       "      gill-attachment  gill-spacing  gill-size  gill-color  ...  \\\n",
       "0                   1             0          1           4  ...   \n",
       "1                   1             0          0           4  ...   \n",
       "2                   1             0          0           5  ...   \n",
       "3                   1             0          1           5  ...   \n",
       "4                   1             1          0           4  ...   \n",
       "...               ...           ...        ...         ...  ...   \n",
       "8119                0             0          0          11  ...   \n",
       "8120                0             0          0          11  ...   \n",
       "8121                0             0          0           5  ...   \n",
       "8122                1             0          1           0  ...   \n",
       "8123                0             0          0          11  ...   \n",
       "\n",
       "      stalk-surface-above-ring  stalk-surface-below-ring  \\\n",
       "0                            2                         2   \n",
       "1                            2                         2   \n",
       "2                            2                         2   \n",
       "3                            2                         2   \n",
       "4                            2                         2   \n",
       "...                        ...                       ...   \n",
       "8119                         2                         2   \n",
       "8120                         2                         2   \n",
       "8121                         2                         2   \n",
       "8122                         2                         1   \n",
       "8123                         2                         2   \n",
       "\n",
       "      stalk-color-above-ring  stalk-color-below-ring  veil-color  ring-number  \\\n",
       "0                          7                       7           2            1   \n",
       "1                          7                       7           2            1   \n",
       "2                          7                       7           2            1   \n",
       "3                          7                       7           2            1   \n",
       "4                          7                       7           2            1   \n",
       "...                      ...                     ...         ...          ...   \n",
       "8119                       5                       5           1            1   \n",
       "8120                       5                       5           0            1   \n",
       "8121                       5                       5           1            1   \n",
       "8122                       7                       7           2            1   \n",
       "8123                       5                       5           1            1   \n",
       "\n",
       "      ring-type  spore-print-color  population  habitat  \n",
       "0             4                  2           3        5  \n",
       "1             4                  3           2        1  \n",
       "2             4                  3           2        3  \n",
       "3             4                  2           3        5  \n",
       "4             0                  3           0        1  \n",
       "...         ...                ...         ...      ...  \n",
       "8119          4                  0           1        2  \n",
       "8120          4                  0           4        2  \n",
       "8121          4                  0           1        2  \n",
       "8122          0                  7           4        2  \n",
       "8123          4                  4           1        2  \n",
       "\n",
       "[8124 rows x 22 columns]"
      ]
     },
     "execution_count": 12,
     "metadata": {},
     "output_type": "execute_result"
    }
   ],
   "source": [
    "new_cat"
   ]
  },
  {
   "cell_type": "code",
   "execution_count": 13,
   "id": "6ba29be6-c6c5-4404-8e39-7eea5271fcef",
   "metadata": {
    "execution": {
     "iopub.execute_input": "2022-11-18T09:18:28.988099Z",
     "iopub.status.busy": "2022-11-18T09:18:28.987726Z",
     "iopub.status.idle": "2022-11-18T09:18:28.998561Z",
     "shell.execute_reply": "2022-11-18T09:18:28.998561Z",
     "shell.execute_reply.started": "2022-11-18T09:18:28.988099Z"
    },
    "tags": []
   },
   "outputs": [],
   "source": [
    "a = np.array(new_cat)"
   ]
  },
  {
   "cell_type": "code",
   "execution_count": 14,
   "id": "3ff605da-802c-491f-88f8-e62e539f31c7",
   "metadata": {
    "execution": {
     "iopub.execute_input": "2022-11-18T09:18:29.003161Z",
     "iopub.status.busy": "2022-11-18T09:18:29.003161Z",
     "iopub.status.idle": "2022-11-18T09:18:29.017320Z",
     "shell.execute_reply": "2022-11-18T09:18:29.014183Z",
     "shell.execute_reply.started": "2022-11-18T09:18:29.003161Z"
    },
    "tags": []
   },
   "outputs": [],
   "source": [
    "X = a[:, 1:]"
   ]
  },
  {
   "cell_type": "code",
   "execution_count": 15,
   "id": "b2ba7738-9ff0-4d0a-8b18-6235e1291741",
   "metadata": {
    "execution": {
     "iopub.execute_input": "2022-11-18T09:18:29.017320Z",
     "iopub.status.busy": "2022-11-18T09:18:29.017320Z",
     "iopub.status.idle": "2022-11-18T09:18:29.030875Z",
     "shell.execute_reply": "2022-11-18T09:18:29.030376Z",
     "shell.execute_reply.started": "2022-11-18T09:18:29.017320Z"
    },
    "tags": []
   },
   "outputs": [],
   "source": [
    "y = a[:, 0]"
   ]
  },
  {
   "cell_type": "code",
   "execution_count": 16,
   "id": "e96d4b70-36e0-465e-9e9a-99426b7904e4",
   "metadata": {
    "execution": {
     "iopub.execute_input": "2022-11-18T09:18:29.031893Z",
     "iopub.status.busy": "2022-11-18T09:18:29.031893Z",
     "iopub.status.idle": "2022-11-18T09:18:29.050524Z",
     "shell.execute_reply": "2022-11-18T09:18:29.048386Z",
     "shell.execute_reply.started": "2022-11-18T09:18:29.031893Z"
    },
    "tags": []
   },
   "outputs": [],
   "source": [
    "X_train, X_test, y_train, y_test = train_test_split(X, y, test_size=0.2)"
   ]
  },
  {
   "cell_type": "code",
   "execution_count": 17,
   "id": "e0698563-1f05-4e88-acef-022da006830e",
   "metadata": {
    "execution": {
     "iopub.execute_input": "2022-11-18T09:18:29.051495Z",
     "iopub.status.busy": "2022-11-18T09:18:29.051495Z",
     "iopub.status.idle": "2022-11-18T09:18:29.068829Z",
     "shell.execute_reply": "2022-11-18T09:18:29.068707Z",
     "shell.execute_reply.started": "2022-11-18T09:18:29.051495Z"
    },
    "tags": []
   },
   "outputs": [
    {
     "data": {
      "text/plain": [
       "(6499, 21)"
      ]
     },
     "execution_count": 17,
     "metadata": {},
     "output_type": "execute_result"
    }
   ],
   "source": [
    "X_train.shape"
   ]
  },
  {
   "cell_type": "code",
   "execution_count": 18,
   "id": "030c892d-ae22-40e9-a8e7-300301112523",
   "metadata": {
    "execution": {
     "iopub.execute_input": "2022-11-18T09:18:29.068829Z",
     "iopub.status.busy": "2022-11-18T09:18:29.068829Z",
     "iopub.status.idle": "2022-11-18T09:18:29.085285Z",
     "shell.execute_reply": "2022-11-18T09:18:29.085285Z",
     "shell.execute_reply.started": "2022-11-18T09:18:29.068829Z"
    },
    "tags": []
   },
   "outputs": [
    {
     "data": {
      "text/plain": [
       "(1625, 21)"
      ]
     },
     "execution_count": 18,
     "metadata": {},
     "output_type": "execute_result"
    }
   ],
   "source": [
    "X_test.shape"
   ]
  },
  {
   "cell_type": "code",
   "execution_count": 19,
   "id": "224b34fc-d91f-439f-896c-f4a66b3a16d4",
   "metadata": {
    "execution": {
     "iopub.execute_input": "2022-11-18T09:18:29.085285Z",
     "iopub.status.busy": "2022-11-18T09:18:29.085285Z",
     "iopub.status.idle": "2022-11-18T09:18:29.100573Z",
     "shell.execute_reply": "2022-11-18T09:18:29.099848Z",
     "shell.execute_reply.started": "2022-11-18T09:18:29.085285Z"
    },
    "tags": []
   },
   "outputs": [
    {
     "data": {
      "text/plain": [
       "(6499,)"
      ]
     },
     "execution_count": 19,
     "metadata": {},
     "output_type": "execute_result"
    }
   ],
   "source": [
    "y_train.shape"
   ]
  },
  {
   "cell_type": "code",
   "execution_count": 20,
   "id": "37f7a6bd-ca22-4247-88a9-219eab61afce",
   "metadata": {
    "execution": {
     "iopub.execute_input": "2022-11-18T09:18:29.100573Z",
     "iopub.status.busy": "2022-11-18T09:18:29.100573Z",
     "iopub.status.idle": "2022-11-18T09:18:29.429443Z",
     "shell.execute_reply": "2022-11-18T09:18:29.429443Z",
     "shell.execute_reply.started": "2022-11-18T09:18:29.100573Z"
    },
    "tags": []
   },
   "outputs": [
    {
     "data": {
      "text/html": [
       "<style>#sk-container-id-1 {color: black;background-color: white;}#sk-container-id-1 pre{padding: 0;}#sk-container-id-1 div.sk-toggleable {background-color: white;}#sk-container-id-1 label.sk-toggleable__label {cursor: pointer;display: block;width: 100%;margin-bottom: 0;padding: 0.3em;box-sizing: border-box;text-align: center;}#sk-container-id-1 label.sk-toggleable__label-arrow:before {content: \"▸\";float: left;margin-right: 0.25em;color: #696969;}#sk-container-id-1 label.sk-toggleable__label-arrow:hover:before {color: black;}#sk-container-id-1 div.sk-estimator:hover label.sk-toggleable__label-arrow:before {color: black;}#sk-container-id-1 div.sk-toggleable__content {max-height: 0;max-width: 0;overflow: hidden;text-align: left;background-color: #f0f8ff;}#sk-container-id-1 div.sk-toggleable__content pre {margin: 0.2em;color: black;border-radius: 0.25em;background-color: #f0f8ff;}#sk-container-id-1 input.sk-toggleable__control:checked~div.sk-toggleable__content {max-height: 200px;max-width: 100%;overflow: auto;}#sk-container-id-1 input.sk-toggleable__control:checked~label.sk-toggleable__label-arrow:before {content: \"▾\";}#sk-container-id-1 div.sk-estimator input.sk-toggleable__control:checked~label.sk-toggleable__label {background-color: #d4ebff;}#sk-container-id-1 div.sk-label input.sk-toggleable__control:checked~label.sk-toggleable__label {background-color: #d4ebff;}#sk-container-id-1 input.sk-hidden--visually {border: 0;clip: rect(1px 1px 1px 1px);clip: rect(1px, 1px, 1px, 1px);height: 1px;margin: -1px;overflow: hidden;padding: 0;position: absolute;width: 1px;}#sk-container-id-1 div.sk-estimator {font-family: monospace;background-color: #f0f8ff;border: 1px dotted black;border-radius: 0.25em;box-sizing: border-box;margin-bottom: 0.5em;}#sk-container-id-1 div.sk-estimator:hover {background-color: #d4ebff;}#sk-container-id-1 div.sk-parallel-item::after {content: \"\";width: 100%;border-bottom: 1px solid gray;flex-grow: 1;}#sk-container-id-1 div.sk-label:hover label.sk-toggleable__label {background-color: #d4ebff;}#sk-container-id-1 div.sk-serial::before {content: \"\";position: absolute;border-left: 1px solid gray;box-sizing: border-box;top: 0;bottom: 0;left: 50%;z-index: 0;}#sk-container-id-1 div.sk-serial {display: flex;flex-direction: column;align-items: center;background-color: white;padding-right: 0.2em;padding-left: 0.2em;position: relative;}#sk-container-id-1 div.sk-item {position: relative;z-index: 1;}#sk-container-id-1 div.sk-parallel {display: flex;align-items: stretch;justify-content: center;background-color: white;position: relative;}#sk-container-id-1 div.sk-item::before, #sk-container-id-1 div.sk-parallel-item::before {content: \"\";position: absolute;border-left: 1px solid gray;box-sizing: border-box;top: 0;bottom: 0;left: 50%;z-index: -1;}#sk-container-id-1 div.sk-parallel-item {display: flex;flex-direction: column;z-index: 1;position: relative;background-color: white;}#sk-container-id-1 div.sk-parallel-item:first-child::after {align-self: flex-end;width: 50%;}#sk-container-id-1 div.sk-parallel-item:last-child::after {align-self: flex-start;width: 50%;}#sk-container-id-1 div.sk-parallel-item:only-child::after {width: 0;}#sk-container-id-1 div.sk-dashed-wrapped {border: 1px dashed gray;margin: 0 0.4em 0.5em 0.4em;box-sizing: border-box;padding-bottom: 0.4em;background-color: white;}#sk-container-id-1 div.sk-label label {font-family: monospace;font-weight: bold;display: inline-block;line-height: 1.2em;}#sk-container-id-1 div.sk-label-container {text-align: center;}#sk-container-id-1 div.sk-container {/* jupyter's `normalize.less` sets `[hidden] { display: none; }` but bootstrap.min.css set `[hidden] { display: none !important; }` so we also need the `!important` here to be able to override the default hidden behavior on the sphinx rendered scikit-learn.org. See: https://github.com/scikit-learn/scikit-learn/issues/21755 */display: inline-block !important;position: relative;}#sk-container-id-1 div.sk-text-repr-fallback {display: none;}</style><div id=\"sk-container-id-1\" class=\"sk-top-container\"><div class=\"sk-text-repr-fallback\"><pre>LGBMClassifier(application=&#x27;binary&#x27;)</pre><b>In a Jupyter environment, please rerun this cell to show the HTML representation or trust the notebook. <br />On GitHub, the HTML representation is unable to render, please try loading this page with nbviewer.org.</b></div><div class=\"sk-container\" hidden><div class=\"sk-item\"><div class=\"sk-estimator sk-toggleable\"><input class=\"sk-toggleable__control sk-hidden--visually\" id=\"sk-estimator-id-1\" type=\"checkbox\" checked><label for=\"sk-estimator-id-1\" class=\"sk-toggleable__label sk-toggleable__label-arrow\">LGBMClassifier</label><div class=\"sk-toggleable__content\"><pre>LGBMClassifier(application=&#x27;binary&#x27;)</pre></div></div></div></div></div>"
      ],
      "text/plain": [
       "LGBMClassifier(application='binary')"
      ]
     },
     "execution_count": 20,
     "metadata": {},
     "output_type": "execute_result"
    }
   ],
   "source": [
    "gbm = LGBMClassifier(max_depth=-1, application='binary', boosting_type='gbdt')\n",
    "gbm.fit(X_train, y_train)"
   ]
  },
  {
   "cell_type": "code",
   "execution_count": 21,
   "id": "c3e2c082-8ca4-4524-aabf-3a6d26474379",
   "metadata": {
    "execution": {
     "iopub.execute_input": "2022-11-18T09:18:29.429443Z",
     "iopub.status.busy": "2022-11-18T09:18:29.429443Z",
     "iopub.status.idle": "2022-11-18T09:18:29.443880Z",
     "shell.execute_reply": "2022-11-18T09:18:29.443880Z",
     "shell.execute_reply.started": "2022-11-18T09:18:29.429443Z"
    },
    "tags": []
   },
   "outputs": [
    {
     "name": "stdout",
     "output_type": "stream",
     "text": [
      "1.0\n",
      "1.0\n"
     ]
    }
   ],
   "source": [
    "pred = gbm.predict(X_test)\n",
    "print(accuracy_score(pred, y_test))\n",
    "print(f1_score(pred, y_test))"
   ]
  },
  {
   "cell_type": "code",
   "execution_count": 22,
   "id": "9d56a707-6ca6-4e6a-bd31-4777b734c19e",
   "metadata": {
    "execution": {
     "iopub.execute_input": "2022-11-18T09:18:29.459881Z",
     "iopub.status.busy": "2022-11-18T09:18:29.451889Z",
     "iopub.status.idle": "2022-11-18T09:18:29.476086Z",
     "shell.execute_reply": "2022-11-18T09:18:29.475274Z",
     "shell.execute_reply.started": "2022-11-18T09:18:29.459881Z"
    },
    "tags": []
   },
   "outputs": [
    {
     "data": {
      "text/plain": [
       "array([19.2, 12.1, 27.1, 11.8, 26.9,  7.1,  7.4, 11.9, 49.4,  2.5, 17.3,\n",
       "        8.5, 12. ,  3.2,  1.7,  0. ,  2.7,  0.9, 31.5, 15.7, 25.9])"
      ]
     },
     "execution_count": 22,
     "metadata": {},
     "output_type": "execute_result"
    }
   ],
   "source": [
    "gbm.feature_importances_/10  # [8], [4], [18]"
   ]
  },
  {
   "cell_type": "code",
   "execution_count": 23,
   "id": "0d0f3169-6851-43fb-87a6-afc5893a6c2d",
   "metadata": {
    "execution": {
     "iopub.execute_input": "2022-11-18T09:18:29.478364Z",
     "iopub.status.busy": "2022-11-18T09:18:29.477709Z",
     "iopub.status.idle": "2022-11-18T09:18:29.983947Z",
     "shell.execute_reply": "2022-11-18T09:18:29.983947Z",
     "shell.execute_reply.started": "2022-11-18T09:18:29.478364Z"
    },
    "tags": []
   },
   "outputs": [
    {
     "name": "stdout",
     "output_type": "stream",
     "text": [
      "Learning rate set to 0.189243\n",
      "0:\tlearn: 0.3760814\ttotal: 175ms\tremaining: 17.3s\n",
      "1:\tlearn: 0.3025494\ttotal: 179ms\tremaining: 8.78s\n",
      "2:\tlearn: 0.1862482\ttotal: 182ms\tremaining: 5.89s\n",
      "3:\tlearn: 0.1286758\ttotal: 184ms\tremaining: 4.43s\n",
      "4:\tlearn: 0.1052005\ttotal: 187ms\tremaining: 3.55s\n",
      "5:\tlearn: 0.0828761\ttotal: 189ms\tremaining: 2.97s\n",
      "6:\tlearn: 0.0680539\ttotal: 192ms\tremaining: 2.55s\n",
      "7:\tlearn: 0.0590747\ttotal: 194ms\tremaining: 2.24s\n",
      "8:\tlearn: 0.0530282\ttotal: 197ms\tremaining: 1.99s\n",
      "9:\tlearn: 0.0485457\ttotal: 199ms\tremaining: 1.79s\n",
      "10:\tlearn: 0.0433108\ttotal: 201ms\tremaining: 1.63s\n",
      "11:\tlearn: 0.0361175\ttotal: 207ms\tremaining: 1.52s\n",
      "12:\tlearn: 0.0317265\ttotal: 211ms\tremaining: 1.42s\n",
      "13:\tlearn: 0.0299222\ttotal: 215ms\tremaining: 1.32s\n",
      "14:\tlearn: 0.0255103\ttotal: 220ms\tremaining: 1.24s\n",
      "15:\tlearn: 0.0213505\ttotal: 224ms\tremaining: 1.18s\n",
      "16:\tlearn: 0.0174879\ttotal: 228ms\tremaining: 1.11s\n",
      "17:\tlearn: 0.0127456\ttotal: 230ms\tremaining: 1.05s\n",
      "18:\tlearn: 0.0098403\ttotal: 233ms\tremaining: 992ms\n",
      "19:\tlearn: 0.0083451\ttotal: 235ms\tremaining: 941ms\n",
      "20:\tlearn: 0.0076318\ttotal: 238ms\tremaining: 894ms\n",
      "21:\tlearn: 0.0072660\ttotal: 240ms\tremaining: 851ms\n",
      "22:\tlearn: 0.0063815\ttotal: 243ms\tremaining: 814ms\n",
      "23:\tlearn: 0.0054152\ttotal: 246ms\tremaining: 778ms\n",
      "24:\tlearn: 0.0048520\ttotal: 248ms\tremaining: 744ms\n",
      "25:\tlearn: 0.0046559\ttotal: 250ms\tremaining: 712ms\n",
      "26:\tlearn: 0.0039565\ttotal: 252ms\tremaining: 682ms\n",
      "27:\tlearn: 0.0036476\ttotal: 255ms\tremaining: 655ms\n",
      "28:\tlearn: 0.0034286\ttotal: 257ms\tremaining: 629ms\n",
      "29:\tlearn: 0.0030073\ttotal: 259ms\tremaining: 605ms\n",
      "30:\tlearn: 0.0029160\ttotal: 261ms\tremaining: 581ms\n",
      "31:\tlearn: 0.0026289\ttotal: 263ms\tremaining: 559ms\n",
      "32:\tlearn: 0.0024789\ttotal: 265ms\tremaining: 539ms\n",
      "33:\tlearn: 0.0024452\ttotal: 268ms\tremaining: 519ms\n",
      "34:\tlearn: 0.0023450\ttotal: 270ms\tremaining: 501ms\n",
      "35:\tlearn: 0.0022562\ttotal: 272ms\tremaining: 483ms\n",
      "36:\tlearn: 0.0018998\ttotal: 274ms\tremaining: 466ms\n",
      "37:\tlearn: 0.0018047\ttotal: 276ms\tremaining: 451ms\n",
      "38:\tlearn: 0.0017143\ttotal: 278ms\tremaining: 436ms\n",
      "39:\tlearn: 0.0015809\ttotal: 281ms\tremaining: 421ms\n",
      "40:\tlearn: 0.0015390\ttotal: 283ms\tremaining: 407ms\n",
      "41:\tlearn: 0.0014939\ttotal: 285ms\tremaining: 393ms\n",
      "42:\tlearn: 0.0014019\ttotal: 287ms\tremaining: 380ms\n",
      "43:\tlearn: 0.0013578\ttotal: 289ms\tremaining: 368ms\n",
      "44:\tlearn: 0.0012774\ttotal: 291ms\tremaining: 356ms\n",
      "45:\tlearn: 0.0012237\ttotal: 293ms\tremaining: 344ms\n",
      "46:\tlearn: 0.0011324\ttotal: 295ms\tremaining: 333ms\n",
      "47:\tlearn: 0.0011324\ttotal: 297ms\tremaining: 322ms\n",
      "48:\tlearn: 0.0010569\ttotal: 299ms\tremaining: 311ms\n",
      "49:\tlearn: 0.0010569\ttotal: 301ms\tremaining: 301ms\n",
      "50:\tlearn: 0.0010569\ttotal: 302ms\tremaining: 290ms\n",
      "51:\tlearn: 0.0009851\ttotal: 304ms\tremaining: 281ms\n",
      "52:\tlearn: 0.0009284\ttotal: 307ms\tremaining: 272ms\n",
      "53:\tlearn: 0.0008630\ttotal: 309ms\tremaining: 263ms\n",
      "54:\tlearn: 0.0008629\ttotal: 311ms\tremaining: 254ms\n",
      "55:\tlearn: 0.0008629\ttotal: 313ms\tremaining: 246ms\n",
      "56:\tlearn: 0.0008122\ttotal: 315ms\tremaining: 237ms\n",
      "57:\tlearn: 0.0007549\ttotal: 317ms\tremaining: 229ms\n",
      "58:\tlearn: 0.0007549\ttotal: 318ms\tremaining: 221ms\n",
      "59:\tlearn: 0.0006834\ttotal: 320ms\tremaining: 214ms\n",
      "60:\tlearn: 0.0006833\ttotal: 322ms\tremaining: 206ms\n",
      "61:\tlearn: 0.0006833\ttotal: 324ms\tremaining: 199ms\n",
      "62:\tlearn: 0.0006833\ttotal: 326ms\tremaining: 192ms\n",
      "63:\tlearn: 0.0006833\ttotal: 328ms\tremaining: 185ms\n",
      "64:\tlearn: 0.0006316\ttotal: 330ms\tremaining: 178ms\n",
      "65:\tlearn: 0.0006315\ttotal: 332ms\tremaining: 171ms\n",
      "66:\tlearn: 0.0006315\ttotal: 334ms\tremaining: 164ms\n",
      "67:\tlearn: 0.0006316\ttotal: 335ms\tremaining: 158ms\n",
      "68:\tlearn: 0.0006315\ttotal: 337ms\tremaining: 151ms\n",
      "69:\tlearn: 0.0006315\ttotal: 339ms\tremaining: 145ms\n",
      "70:\tlearn: 0.0006139\ttotal: 341ms\tremaining: 139ms\n",
      "71:\tlearn: 0.0005992\ttotal: 343ms\tremaining: 133ms\n",
      "72:\tlearn: 0.0005992\ttotal: 345ms\tremaining: 128ms\n",
      "73:\tlearn: 0.0005991\ttotal: 347ms\tremaining: 122ms\n",
      "74:\tlearn: 0.0005991\ttotal: 349ms\tremaining: 116ms\n",
      "75:\tlearn: 0.0005991\ttotal: 350ms\tremaining: 111ms\n",
      "76:\tlearn: 0.0005991\ttotal: 352ms\tremaining: 105ms\n",
      "77:\tlearn: 0.0005990\ttotal: 354ms\tremaining: 99.9ms\n",
      "78:\tlearn: 0.0005990\ttotal: 356ms\tremaining: 94.6ms\n",
      "79:\tlearn: 0.0005989\ttotal: 358ms\tremaining: 89.4ms\n",
      "80:\tlearn: 0.0005988\ttotal: 359ms\tremaining: 84.3ms\n",
      "81:\tlearn: 0.0005988\ttotal: 361ms\tremaining: 79.3ms\n",
      "82:\tlearn: 0.0005985\ttotal: 363ms\tremaining: 74.3ms\n",
      "83:\tlearn: 0.0005985\ttotal: 364ms\tremaining: 69.4ms\n",
      "84:\tlearn: 0.0005985\ttotal: 366ms\tremaining: 64.6ms\n",
      "85:\tlearn: 0.0005985\ttotal: 368ms\tremaining: 59.8ms\n",
      "86:\tlearn: 0.0005985\ttotal: 369ms\tremaining: 55.2ms\n",
      "87:\tlearn: 0.0005985\ttotal: 371ms\tremaining: 50.6ms\n",
      "88:\tlearn: 0.0005985\ttotal: 373ms\tremaining: 46.1ms\n",
      "89:\tlearn: 0.0005985\ttotal: 375ms\tremaining: 41.6ms\n",
      "90:\tlearn: 0.0005985\ttotal: 376ms\tremaining: 37.2ms\n",
      "91:\tlearn: 0.0005985\ttotal: 378ms\tremaining: 32.9ms\n",
      "92:\tlearn: 0.0005985\ttotal: 380ms\tremaining: 28.6ms\n",
      "93:\tlearn: 0.0005985\ttotal: 382ms\tremaining: 24.4ms\n",
      "94:\tlearn: 0.0005985\ttotal: 383ms\tremaining: 20.2ms\n",
      "95:\tlearn: 0.0005985\ttotal: 385ms\tremaining: 16ms\n",
      "96:\tlearn: 0.0005985\ttotal: 387ms\tremaining: 12ms\n",
      "97:\tlearn: 0.0005985\ttotal: 389ms\tremaining: 7.93ms\n",
      "98:\tlearn: 0.0005985\ttotal: 390ms\tremaining: 3.94ms\n",
      "99:\tlearn: 0.0005985\ttotal: 392ms\tremaining: 0us\n",
      "{'iterations': 100, 'random_strength': 10}\n"
     ]
    }
   ],
   "source": [
    "clf_cat = CatBoostClassifier(iterations=100, random_strength=10)\n",
    "fit_model = clf_cat.fit(X_train, y_train)\n",
    "print(fit_model.get_params())"
   ]
  },
  {
   "cell_type": "code",
   "execution_count": 24,
   "id": "17e4c591-3406-4a75-b4e4-dd91bcc1e3f6",
   "metadata": {
    "execution": {
     "iopub.execute_input": "2022-11-18T09:18:29.983947Z",
     "iopub.status.busy": "2022-11-18T09:18:29.983947Z",
     "iopub.status.idle": "2022-11-18T09:18:29.999653Z",
     "shell.execute_reply": "2022-11-18T09:18:29.999653Z",
     "shell.execute_reply.started": "2022-11-18T09:18:29.983947Z"
    },
    "tags": []
   },
   "outputs": [],
   "source": [
    "cat_pred = clf_cat.predict(X_test)"
   ]
  },
  {
   "cell_type": "code",
   "execution_count": 25,
   "id": "611c518a-da35-48d6-8928-a65cfb300abb",
   "metadata": {
    "execution": {
     "iopub.execute_input": "2022-11-18T09:18:29.999653Z",
     "iopub.status.busy": "2022-11-18T09:18:29.999653Z",
     "iopub.status.idle": "2022-11-18T09:18:30.039674Z",
     "shell.execute_reply": "2022-11-18T09:18:30.039674Z",
     "shell.execute_reply.started": "2022-11-18T09:18:29.999653Z"
    },
    "tags": []
   },
   "outputs": [],
   "source": [
    "train_pred = clf_cat.predict(X_train)"
   ]
  },
  {
   "cell_type": "code",
   "execution_count": 26,
   "id": "3637615a-b611-40d7-855d-96589a8570b3",
   "metadata": {
    "execution": {
     "iopub.execute_input": "2022-11-18T09:18:30.042109Z",
     "iopub.status.busy": "2022-11-18T09:18:30.042109Z",
     "iopub.status.idle": "2022-11-18T09:18:30.050750Z",
     "shell.execute_reply": "2022-11-18T09:18:30.050750Z",
     "shell.execute_reply.started": "2022-11-18T09:18:30.042109Z"
    },
    "tags": []
   },
   "outputs": [],
   "source": [
    "b = pd.DataFrame(cat_pred)\n",
    "c = pd.DataFrame(y_test)"
   ]
  },
  {
   "cell_type": "code",
   "execution_count": 27,
   "id": "de506bd1-eb7e-4382-9b31-caad2fa37bc2",
   "metadata": {
    "execution": {
     "iopub.execute_input": "2022-11-18T09:18:30.050750Z",
     "iopub.status.busy": "2022-11-18T09:18:30.050750Z",
     "iopub.status.idle": "2022-11-18T09:18:30.069196Z",
     "shell.execute_reply": "2022-11-18T09:18:30.068695Z",
     "shell.execute_reply.started": "2022-11-18T09:18:30.050750Z"
    },
    "tags": []
   },
   "outputs": [
    {
     "data": {
      "text/plain": [
       "1    827\n",
       "0    798\n",
       "dtype: int64"
      ]
     },
     "execution_count": 27,
     "metadata": {},
     "output_type": "execute_result"
    }
   ],
   "source": [
    "b.value_counts()"
   ]
  },
  {
   "cell_type": "code",
   "execution_count": 28,
   "id": "ed3c9a44-2fb4-4495-9ce3-4120ddd3609b",
   "metadata": {
    "execution": {
     "iopub.execute_input": "2022-11-18T09:18:30.069196Z",
     "iopub.status.busy": "2022-11-18T09:18:30.069196Z",
     "iopub.status.idle": "2022-11-18T09:18:30.091205Z",
     "shell.execute_reply": "2022-11-18T09:18:30.090706Z",
     "shell.execute_reply.started": "2022-11-18T09:18:30.069196Z"
    },
    "tags": []
   },
   "outputs": [
    {
     "data": {
      "text/plain": [
       "1    827\n",
       "0    798\n",
       "dtype: int64"
      ]
     },
     "execution_count": 28,
     "metadata": {},
     "output_type": "execute_result"
    }
   ],
   "source": [
    "c.value_counts()"
   ]
  },
  {
   "cell_type": "code",
   "execution_count": 29,
   "id": "00d7c233-6b2a-4217-b6cb-ab8907918d1b",
   "metadata": {
    "execution": {
     "iopub.execute_input": "2022-11-18T09:18:30.092742Z",
     "iopub.status.busy": "2022-11-18T09:18:30.092742Z",
     "iopub.status.idle": "2022-11-18T09:18:30.100590Z",
     "shell.execute_reply": "2022-11-18T09:18:30.099721Z",
     "shell.execute_reply.started": "2022-11-18T09:18:30.092742Z"
    },
    "tags": []
   },
   "outputs": [
    {
     "name": "stdout",
     "output_type": "stream",
     "text": [
      "1.0\n"
     ]
    }
   ],
   "source": [
    "score = accuracy_score(y_test, cat_pred)\n",
    "print(score)"
   ]
  },
  {
   "cell_type": "code",
   "execution_count": 30,
   "id": "6985a2b8-8a1e-41b4-8ec5-18c8e4ce4176",
   "metadata": {
    "execution": {
     "iopub.execute_input": "2022-11-18T09:18:30.102021Z",
     "iopub.status.busy": "2022-11-18T09:18:30.101092Z",
     "iopub.status.idle": "2022-11-18T09:18:30.113763Z",
     "shell.execute_reply": "2022-11-18T09:18:30.113763Z",
     "shell.execute_reply.started": "2022-11-18T09:18:30.102021Z"
    },
    "tags": []
   },
   "outputs": [
    {
     "name": "stdout",
     "output_type": "stream",
     "text": [
      "1.0\n"
     ]
    }
   ],
   "source": [
    "train_score = accuracy_score(y_train, train_pred)\n",
    "print(train_score)"
   ]
  },
  {
   "cell_type": "code",
   "execution_count": 31,
   "id": "63d6aaf7-942f-419e-9403-1a7284715445",
   "metadata": {
    "execution": {
     "iopub.execute_input": "2022-11-18T09:18:30.116121Z",
     "iopub.status.busy": "2022-11-18T09:18:30.115869Z",
     "iopub.status.idle": "2022-11-18T09:18:30.125472Z",
     "shell.execute_reply": "2022-11-18T09:18:30.124753Z",
     "shell.execute_reply.started": "2022-11-18T09:18:30.116121Z"
    },
    "tags": []
   },
   "outputs": [
    {
     "name": "stdout",
     "output_type": "stream",
     "text": [
      "1.0\n"
     ]
    }
   ],
   "source": [
    "f1 = f1_score(y_test, cat_pred)\n",
    "print(f1)"
   ]
  },
  {
   "cell_type": "code",
   "execution_count": 32,
   "id": "1eadd03c-9922-44b7-a4b9-2f53b0ef2b1b",
   "metadata": {
    "execution": {
     "iopub.execute_input": "2022-11-18T09:18:30.125472Z",
     "iopub.status.busy": "2022-11-18T09:18:30.125472Z",
     "iopub.status.idle": "2022-11-18T09:18:30.141769Z",
     "shell.execute_reply": "2022-11-18T09:18:30.140451Z",
     "shell.execute_reply.started": "2022-11-18T09:18:30.125472Z"
    },
    "tags": []
   },
   "outputs": [
    {
     "name": "stdout",
     "output_type": "stream",
     "text": [
      "1.0\n"
     ]
    }
   ],
   "source": [
    "f1_train = f1_score(y_train, train_pred)\n",
    "print(f1_train)"
   ]
  },
  {
   "cell_type": "code",
   "execution_count": 33,
   "id": "ae657257-ba42-4722-ba8a-ffe36c7f36c8",
   "metadata": {
    "execution": {
     "iopub.execute_input": "2022-11-18T09:18:30.143269Z",
     "iopub.status.busy": "2022-11-18T09:18:30.143269Z",
     "iopub.status.idle": "2022-11-18T09:18:30.155213Z",
     "shell.execute_reply": "2022-11-18T09:18:30.154686Z",
     "shell.execute_reply.started": "2022-11-18T09:18:30.143269Z"
    },
    "tags": []
   },
   "outputs": [
    {
     "name": "stdout",
     "output_type": "stream",
     "text": [
      "[ 1.43699296  3.95121241  2.10566738  1.58395367 13.77307987  0.35716425\n",
      "  5.99078629 17.84289913  1.75704639  5.0753892   4.4785752   9.54332072\n",
      "  5.53779042  5.53344657  0.95761304  0.06246765  1.49572685  3.85845697\n",
      " 11.09231036  0.98408397  2.58201671]\n"
     ]
    }
   ],
   "source": [
    "print(f'{clf_cat.feature_importances_}')  # [7], [4], [10]"
   ]
  },
  {
   "cell_type": "code",
   "execution_count": 34,
   "id": "b5f0c5c7-6001-4a14-8195-8568ec505626",
   "metadata": {
    "execution": {
     "iopub.execute_input": "2022-11-18T09:18:30.157418Z",
     "iopub.status.busy": "2022-11-18T09:18:30.155213Z",
     "iopub.status.idle": "2022-11-18T09:18:30.166617Z",
     "shell.execute_reply": "2022-11-18T09:18:30.166118Z",
     "shell.execute_reply.started": "2022-11-18T09:18:30.157418Z"
    },
    "tags": []
   },
   "outputs": [],
   "source": [
    "X_train, X_test, y_train, y_test = train_test_split(new_cat[['gill-color', 'odor']], y, test_size=0.2)"
   ]
  },
  {
   "cell_type": "code",
   "execution_count": 35,
   "id": "72554441-68c8-4d18-9b1a-a41d94251bc1",
   "metadata": {
    "execution": {
     "iopub.execute_input": "2022-11-18T09:18:30.166617Z",
     "iopub.status.busy": "2022-11-18T09:18:30.166617Z",
     "iopub.status.idle": "2022-11-18T09:18:30.182171Z",
     "shell.execute_reply": "2022-11-18T09:18:30.181590Z",
     "shell.execute_reply.started": "2022-11-18T09:18:30.166617Z"
    },
    "tags": []
   },
   "outputs": [],
   "source": [
    "X_train = np.array(X_train)\n",
    "X_test = np.array(X_test)"
   ]
  },
  {
   "cell_type": "code",
   "execution_count": 36,
   "id": "c4396f87-ae58-4990-ada4-b177b1249cdd",
   "metadata": {
    "execution": {
     "iopub.execute_input": "2022-11-18T09:18:30.183566Z",
     "iopub.status.busy": "2022-11-18T09:18:30.183062Z",
     "iopub.status.idle": "2022-11-18T09:18:30.345824Z",
     "shell.execute_reply": "2022-11-18T09:18:30.345140Z",
     "shell.execute_reply.started": "2022-11-18T09:18:30.183566Z"
    },
    "tags": []
   },
   "outputs": [
    {
     "name": "stdout",
     "output_type": "stream",
     "text": [
      "Learning rate set to 0.189243\n",
      "0:\tlearn: 0.5548127\ttotal: 1.7ms\tremaining: 169ms\n",
      "1:\tlearn: 0.4484401\ttotal: 3.34ms\tremaining: 164ms\n",
      "2:\tlearn: 0.3906095\ttotal: 4.32ms\tremaining: 140ms\n",
      "3:\tlearn: 0.3349759\ttotal: 5.34ms\tremaining: 128ms\n",
      "4:\tlearn: 0.2791185\ttotal: 6.34ms\tremaining: 120ms\n",
      "5:\tlearn: 0.2437818\ttotal: 7.23ms\tremaining: 113ms\n",
      "6:\tlearn: 0.2204822\ttotal: 8.07ms\tremaining: 107ms\n",
      "7:\tlearn: 0.1946382\ttotal: 10ms\tremaining: 115ms\n",
      "8:\tlearn: 0.1709136\ttotal: 11.2ms\tremaining: 114ms\n",
      "9:\tlearn: 0.1583990\ttotal: 12.1ms\tremaining: 109ms\n",
      "10:\tlearn: 0.1444800\ttotal: 13.1ms\tremaining: 106ms\n",
      "11:\tlearn: 0.1359373\ttotal: 14.2ms\tremaining: 104ms\n",
      "12:\tlearn: 0.1337331\ttotal: 15ms\tremaining: 100ms\n",
      "13:\tlearn: 0.1255769\ttotal: 17.2ms\tremaining: 105ms\n",
      "14:\tlearn: 0.1152406\ttotal: 18.1ms\tremaining: 103ms\n",
      "15:\tlearn: 0.1095500\ttotal: 19.1ms\tremaining: 100ms\n",
      "16:\tlearn: 0.1072203\ttotal: 20ms\tremaining: 97.7ms\n",
      "17:\tlearn: 0.0994074\ttotal: 21.2ms\tremaining: 96.7ms\n",
      "18:\tlearn: 0.0990935\ttotal: 21.9ms\tremaining: 93.5ms\n",
      "19:\tlearn: 0.0929960\ttotal: 22.9ms\tremaining: 91.7ms\n",
      "20:\tlearn: 0.0890520\ttotal: 24ms\tremaining: 90.3ms\n",
      "21:\tlearn: 0.0869769\ttotal: 25.3ms\tremaining: 89.5ms\n",
      "22:\tlearn: 0.0859593\ttotal: 26.1ms\tremaining: 87.5ms\n",
      "23:\tlearn: 0.0844341\ttotal: 27.2ms\tremaining: 86.3ms\n",
      "24:\tlearn: 0.0816155\ttotal: 28.4ms\tremaining: 85.1ms\n",
      "25:\tlearn: 0.0802661\ttotal: 29.7ms\tremaining: 84.5ms\n",
      "26:\tlearn: 0.0788755\ttotal: 31.8ms\tremaining: 86ms\n",
      "27:\tlearn: 0.0783048\ttotal: 32.7ms\tremaining: 84.2ms\n",
      "28:\tlearn: 0.0750566\ttotal: 33.8ms\tremaining: 82.7ms\n",
      "29:\tlearn: 0.0737642\ttotal: 35.2ms\tremaining: 82.2ms\n",
      "30:\tlearn: 0.0714487\ttotal: 36.5ms\tremaining: 81.2ms\n",
      "31:\tlearn: 0.0705221\ttotal: 37.5ms\tremaining: 79.7ms\n",
      "32:\tlearn: 0.0699322\ttotal: 38.5ms\tremaining: 78.2ms\n",
      "33:\tlearn: 0.0694199\ttotal: 39.5ms\tremaining: 76.7ms\n",
      "34:\tlearn: 0.0671323\ttotal: 41.6ms\tremaining: 77.2ms\n",
      "35:\tlearn: 0.0659916\ttotal: 43ms\tremaining: 76.5ms\n",
      "36:\tlearn: 0.0655486\ttotal: 44.6ms\tremaining: 75.9ms\n",
      "37:\tlearn: 0.0632855\ttotal: 46.1ms\tremaining: 75.2ms\n",
      "38:\tlearn: 0.0625020\ttotal: 47.2ms\tremaining: 73.8ms\n",
      "39:\tlearn: 0.0622456\ttotal: 48.5ms\tremaining: 72.7ms\n",
      "40:\tlearn: 0.0612745\ttotal: 49.7ms\tremaining: 71.6ms\n",
      "41:\tlearn: 0.0609033\ttotal: 51ms\tremaining: 70.4ms\n",
      "42:\tlearn: 0.0603261\ttotal: 52ms\tremaining: 69ms\n",
      "43:\tlearn: 0.0588595\ttotal: 55.1ms\tremaining: 70.1ms\n",
      "44:\tlearn: 0.0585418\ttotal: 57.4ms\tremaining: 70.2ms\n",
      "45:\tlearn: 0.0577207\ttotal: 58.8ms\tremaining: 69.1ms\n",
      "46:\tlearn: 0.0575042\ttotal: 59.7ms\tremaining: 67.3ms\n",
      "47:\tlearn: 0.0567645\ttotal: 60.7ms\tremaining: 65.7ms\n",
      "48:\tlearn: 0.0566369\ttotal: 61.5ms\tremaining: 64ms\n",
      "49:\tlearn: 0.0552263\ttotal: 62.5ms\tremaining: 62.5ms\n",
      "50:\tlearn: 0.0543529\ttotal: 63.5ms\tremaining: 61ms\n",
      "51:\tlearn: 0.0536670\ttotal: 64.7ms\tremaining: 59.7ms\n",
      "52:\tlearn: 0.0534285\ttotal: 65.5ms\tremaining: 58.1ms\n",
      "53:\tlearn: 0.0522167\ttotal: 66.7ms\tremaining: 56.8ms\n",
      "54:\tlearn: 0.0516572\ttotal: 67.8ms\tremaining: 55.5ms\n",
      "55:\tlearn: 0.0509913\ttotal: 68.7ms\tremaining: 54ms\n",
      "56:\tlearn: 0.0505654\ttotal: 69.7ms\tremaining: 52.6ms\n",
      "57:\tlearn: 0.0499666\ttotal: 70.6ms\tremaining: 51.1ms\n",
      "58:\tlearn: 0.0498145\ttotal: 71.4ms\tremaining: 49.6ms\n",
      "59:\tlearn: 0.0488914\ttotal: 73.1ms\tremaining: 48.7ms\n",
      "60:\tlearn: 0.0482831\ttotal: 74.3ms\tremaining: 47.5ms\n",
      "61:\tlearn: 0.0478252\ttotal: 75.5ms\tremaining: 46.2ms\n",
      "62:\tlearn: 0.0476964\ttotal: 76.2ms\tremaining: 44.7ms\n",
      "63:\tlearn: 0.0470700\ttotal: 77.3ms\tremaining: 43.5ms\n",
      "64:\tlearn: 0.0466242\ttotal: 78.3ms\tremaining: 42.2ms\n",
      "65:\tlearn: 0.0460762\ttotal: 79.4ms\tremaining: 40.9ms\n",
      "66:\tlearn: 0.0456846\ttotal: 80.3ms\tremaining: 39.5ms\n",
      "67:\tlearn: 0.0452776\ttotal: 81.4ms\tremaining: 38.3ms\n",
      "68:\tlearn: 0.0448800\ttotal: 82.4ms\tremaining: 37ms\n",
      "69:\tlearn: 0.0446004\ttotal: 83.5ms\tremaining: 35.8ms\n",
      "70:\tlearn: 0.0442723\ttotal: 84.6ms\tremaining: 34.5ms\n",
      "71:\tlearn: 0.0438688\ttotal: 85.8ms\tremaining: 33.4ms\n",
      "72:\tlearn: 0.0435778\ttotal: 86.9ms\tremaining: 32.1ms\n",
      "73:\tlearn: 0.0433214\ttotal: 88ms\tremaining: 30.9ms\n",
      "74:\tlearn: 0.0431022\ttotal: 89.2ms\tremaining: 29.7ms\n",
      "75:\tlearn: 0.0429284\ttotal: 90.6ms\tremaining: 28.6ms\n",
      "76:\tlearn: 0.0427054\ttotal: 91.9ms\tremaining: 27.5ms\n",
      "77:\tlearn: 0.0423555\ttotal: 93.3ms\tremaining: 26.3ms\n",
      "78:\tlearn: 0.0422026\ttotal: 94.6ms\tremaining: 25.1ms\n",
      "79:\tlearn: 0.0419838\ttotal: 95.9ms\tremaining: 24ms\n",
      "80:\tlearn: 0.0417753\ttotal: 97.2ms\tremaining: 22.8ms\n",
      "81:\tlearn: 0.0416192\ttotal: 98.9ms\tremaining: 21.7ms\n",
      "82:\tlearn: 0.0414460\ttotal: 100ms\tremaining: 20.5ms\n",
      "83:\tlearn: 0.0413265\ttotal: 102ms\tremaining: 19.3ms\n",
      "84:\tlearn: 0.0412023\ttotal: 103ms\tremaining: 18.1ms\n",
      "85:\tlearn: 0.0409425\ttotal: 104ms\tremaining: 16.9ms\n",
      "86:\tlearn: 0.0408187\ttotal: 105ms\tremaining: 15.7ms\n",
      "87:\tlearn: 0.0405994\ttotal: 106ms\tremaining: 14.5ms\n",
      "88:\tlearn: 0.0403842\ttotal: 108ms\tremaining: 13.3ms\n",
      "89:\tlearn: 0.0402854\ttotal: 109ms\tremaining: 12.1ms\n",
      "90:\tlearn: 0.0402072\ttotal: 110ms\tremaining: 10.9ms\n",
      "91:\tlearn: 0.0401203\ttotal: 111ms\tremaining: 9.67ms\n",
      "92:\tlearn: 0.0399489\ttotal: 113ms\tremaining: 8.48ms\n",
      "93:\tlearn: 0.0398771\ttotal: 114ms\tremaining: 7.29ms\n",
      "94:\tlearn: 0.0397956\ttotal: 115ms\tremaining: 6.07ms\n",
      "95:\tlearn: 0.0397309\ttotal: 117ms\tremaining: 4.86ms\n",
      "96:\tlearn: 0.0395911\ttotal: 118ms\tremaining: 3.65ms\n",
      "97:\tlearn: 0.0395375\ttotal: 120ms\tremaining: 2.44ms\n",
      "98:\tlearn: 0.0394822\ttotal: 121ms\tremaining: 1.23ms\n",
      "99:\tlearn: 0.0394218\ttotal: 123ms\tremaining: 0us\n",
      "{'iterations': 100, 'random_strength': 10}\n"
     ]
    }
   ],
   "source": [
    "clf_cat = CatBoostClassifier(iterations=100, random_strength=10)\n",
    "fit_model = clf_cat.fit(X_train, y_train)\n",
    "print(fit_model.get_params())"
   ]
  },
  {
   "cell_type": "code",
   "execution_count": 37,
   "id": "7d0adcac-6172-4f65-88a3-229c39d633ad",
   "metadata": {
    "execution": {
     "iopub.execute_input": "2022-11-18T09:18:30.347530Z",
     "iopub.status.busy": "2022-11-18T09:18:30.347146Z",
     "iopub.status.idle": "2022-11-18T09:18:30.362209Z",
     "shell.execute_reply": "2022-11-18T09:18:30.362209Z",
     "shell.execute_reply.started": "2022-11-18T09:18:30.347530Z"
    },
    "tags": []
   },
   "outputs": [],
   "source": [
    "train_pred = clf_cat.predict(X_train)"
   ]
  },
  {
   "cell_type": "code",
   "execution_count": 38,
   "id": "456461e2-5ef1-49f1-91c6-073aa5e32eac",
   "metadata": {
    "execution": {
     "iopub.execute_input": "2022-11-18T09:18:30.362209Z",
     "iopub.status.busy": "2022-11-18T09:18:30.362209Z",
     "iopub.status.idle": "2022-11-18T09:18:30.384251Z",
     "shell.execute_reply": "2022-11-18T09:18:30.384251Z",
     "shell.execute_reply.started": "2022-11-18T09:18:30.362209Z"
    },
    "tags": []
   },
   "outputs": [],
   "source": [
    "cat_pred = clf_cat.predict(X_test)\n",
    "b = pd.DataFrame(cat_pred)\n",
    "c = pd.DataFrame(y_test)"
   ]
  },
  {
   "cell_type": "code",
   "execution_count": 39,
   "id": "77e8dca5-97af-429b-976d-b8074d10534c",
   "metadata": {
    "execution": {
     "iopub.execute_input": "2022-11-18T09:18:30.389725Z",
     "iopub.status.busy": "2022-11-18T09:18:30.389725Z",
     "iopub.status.idle": "2022-11-18T09:18:30.397761Z",
     "shell.execute_reply": "2022-11-18T09:18:30.397761Z",
     "shell.execute_reply.started": "2022-11-18T09:18:30.389725Z"
    },
    "tags": []
   },
   "outputs": [
    {
     "name": "stdout",
     "output_type": "stream",
     "text": [
      "0.988767502692722\n",
      "0.9882277052088373\n"
     ]
    }
   ],
   "source": [
    "train_score = accuracy_score(y_train, train_pred)\n",
    "print(train_score)\n",
    "f1_train = f1_score(y_train, train_pred)\n",
    "print(f1_train)"
   ]
  },
  {
   "cell_type": "code",
   "execution_count": 40,
   "id": "a62ec901-dad9-45fe-a97a-961b226a79e3",
   "metadata": {
    "execution": {
     "iopub.execute_input": "2022-11-18T09:18:30.397761Z",
     "iopub.status.busy": "2022-11-18T09:18:30.397761Z",
     "iopub.status.idle": "2022-11-18T09:18:30.409749Z",
     "shell.execute_reply": "2022-11-18T09:18:30.409749Z",
     "shell.execute_reply.started": "2022-11-18T09:18:30.397761Z"
    },
    "tags": []
   },
   "outputs": [
    {
     "name": "stdout",
     "output_type": "stream",
     "text": [
      "0.9858461538461538\n",
      "0.9850162866449511\n"
     ]
    }
   ],
   "source": [
    "score = accuracy_score(y_test, cat_pred)\n",
    "print(score)\n",
    "f1 = f1_score(y_test, cat_pred)\n",
    "print(f1)"
   ]
  },
  {
   "cell_type": "code",
   "execution_count": 41,
   "id": "707e58c6-4b64-4fd6-bf1f-734bc03cf3ca",
   "metadata": {
    "execution": {
     "iopub.execute_input": "2022-11-18T09:18:30.409749Z",
     "iopub.status.busy": "2022-11-18T09:18:30.409749Z",
     "iopub.status.idle": "2022-11-18T09:18:30.423738Z",
     "shell.execute_reply": "2022-11-18T09:18:30.423738Z",
     "shell.execute_reply.started": "2022-11-18T09:18:30.409749Z"
    },
    "tags": []
   },
   "outputs": [
    {
     "data": {
      "text/plain": [
       "e    4208\n",
       "p    3916\n",
       "Name: class, dtype: int64"
      ]
     },
     "execution_count": 41,
     "metadata": {},
     "output_type": "execute_result"
    }
   ],
   "source": [
    "df['class'].value_counts()"
   ]
  },
  {
   "cell_type": "code",
   "execution_count": 42,
   "id": "1a462aa3-4947-46a4-a406-f0937da5d6b3",
   "metadata": {
    "execution": {
     "iopub.execute_input": "2022-11-18T09:18:30.423738Z",
     "iopub.status.busy": "2022-11-18T09:18:30.423738Z",
     "iopub.status.idle": "2022-11-18T09:18:30.440157Z",
     "shell.execute_reply": "2022-11-18T09:18:30.439739Z",
     "shell.execute_reply.started": "2022-11-18T09:18:30.423738Z"
    },
    "tags": []
   },
   "outputs": [],
   "source": [
    "def get_clf_eval(y_test, pred=None):\n",
    "    confusion = confusion_matrix(y_test, pred)\n",
    "    accuracy = accuracy_score(y_test, pred)\n",
    "    precision = precision_score(y_test, pred)\n",
    "    recall = recall_score(y_test, pred)\n",
    "    f1 = f1_score(y_test, pred)\n",
    "    print('오차 행렬')\n",
    "    print(confusion)\n",
    "    # ROC-AUC print 추가\n",
    "    print('정확도 : {0:.3f}, 정밀도 : {1:.3f}, 재현율 : {2:.3f}, F1 : {3:.3f},\\\n",
    "    '.format(accuracy, precision, recall, f1))"
   ]
  },
  {
   "cell_type": "code",
   "execution_count": 43,
   "id": "39c800ed-3484-47df-918d-1d547674a134",
   "metadata": {
    "execution": {
     "iopub.execute_input": "2022-11-18T09:18:30.440157Z",
     "iopub.status.busy": "2022-11-18T09:18:30.440157Z",
     "iopub.status.idle": "2022-11-18T09:18:30.465169Z",
     "shell.execute_reply": "2022-11-18T09:18:30.457158Z",
     "shell.execute_reply.started": "2022-11-18T09:18:30.440157Z"
    },
    "tags": []
   },
   "outputs": [
    {
     "name": "stdout",
     "output_type": "stream",
     "text": [
      "오차 행렬\n",
      "[[846   0]\n",
      " [ 23 756]]\n",
      "정확도 : 0.986, 정밀도 : 1.000, 재현율 : 0.970, F1 : 0.985,    \n"
     ]
    }
   ],
   "source": [
    "get_clf_eval(y_test, cat_pred)"
   ]
  },
  {
   "cell_type": "code",
   "execution_count": 44,
   "id": "db20637d-0986-4271-956b-a978cda5a980",
   "metadata": {
    "execution": {
     "iopub.execute_input": "2022-11-18T09:18:30.473168Z",
     "iopub.status.busy": "2022-11-18T09:18:30.473168Z",
     "iopub.status.idle": "2022-11-18T09:18:38.566313Z",
     "shell.execute_reply": "2022-11-18T09:18:38.565343Z",
     "shell.execute_reply.started": "2022-11-18T09:18:30.473168Z"
    },
    "tags": []
   },
   "outputs": [
    {
     "name": "stdout",
     "output_type": "stream",
     "text": [
      "[iter 0] loss=0.6925 val_loss=0.0000 scale=8.0000 norm=16.0000\n",
      "[iter 100] loss=0.0911 val_loss=0.0000 scale=2.0000 norm=2.4692\n",
      "[iter 200] loss=0.0802 val_loss=0.0000 scale=0.5000 norm=0.6166\n",
      "[iter 300] loss=0.0730 val_loss=0.0000 scale=0.5000 norm=0.6264\n",
      "[iter 400] loss=0.0714 val_loss=0.0000 scale=0.2500 norm=0.3166\n",
      "Test MSE 0.024\n"
     ]
    }
   ],
   "source": [
    "ngb = NGBClassifier().fit(X_train, y_train)\n",
    "y_preds = ngb.predict(X_test)\n",
    "\n",
    "# test Mean Squared Error\n",
    "test_MSE = mean_squared_error(y_preds, y_test)\n",
    "print('Test MSE', test_MSE)"
   ]
  },
  {
   "cell_type": "code",
   "execution_count": 45,
   "id": "8837d99d-c6e5-4746-9446-86598af53c82",
   "metadata": {
    "execution": {
     "iopub.execute_input": "2022-11-18T09:18:38.574513Z",
     "iopub.status.busy": "2022-11-18T09:18:38.571568Z",
     "iopub.status.idle": "2022-11-18T09:18:38.604945Z",
     "shell.execute_reply": "2022-11-18T09:18:38.603480Z",
     "shell.execute_reply.started": "2022-11-18T09:18:38.574513Z"
    },
    "tags": []
   },
   "outputs": [
    {
     "name": "stdout",
     "output_type": "stream",
     "text": [
      "오차 행렬\n",
      "[[846   0]\n",
      " [ 39 740]]\n",
      "정확도 : 0.976, 정밀도 : 1.000, 재현율 : 0.950, F1 : 0.974,    \n"
     ]
    }
   ],
   "source": [
    "get_clf_eval(y_test, y_preds)"
   ]
  }
 ],
 "metadata": {
  "kernelspec": {
   "display_name": "Python 3 (ipykernel)",
   "language": "python",
   "name": "python3"
  },
  "language_info": {
   "codemirror_mode": {
    "name": "ipython",
    "version": 3
   },
   "file_extension": ".py",
   "mimetype": "text/x-python",
   "name": "python",
   "nbconvert_exporter": "python",
   "pygments_lexer": "ipython3",
   "version": "3.9.0"
  }
 },
 "nbformat": 4,
 "nbformat_minor": 5
}
