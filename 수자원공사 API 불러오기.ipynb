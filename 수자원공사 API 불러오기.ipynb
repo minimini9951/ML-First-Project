{
 "cells": [
  {
   "cell_type": "code",
   "execution_count": 3,
   "id": "c8ae8386",
   "metadata": {},
   "outputs": [],
   "source": [
    "import json\n",
    "import urllib.request"
   ]
  },
  {
   "cell_type": "code",
   "execution_count": 4,
   "id": "f83bf914",
   "metadata": {},
   "outputs": [
    {
     "name": "stdout",
     "output_type": "stream",
     "text": [
      "b'<?xml version=\"1.0\" encoding=\"UTF-8\" standalone=\"yes\"?><response><header><resultCode>00</resultCode><resultMsg>NORMAL SERVICE.</resultMsg></header><body><items/><numOfRows>10</numOfRows><pageNo>1</pageNo><totalCount>0</totalCount></body></response>'\n"
     ]
    }
   ],
   "source": [
    "import requests\n",
    "\n",
    "url = 'http://apis.data.go.kr/B500001/rwis/waterFlux/waterFlux'\n",
    "params ={'serviceKey' : 'cibkrvwUziVdQP8g4vzUSTcLCvFeoy754BuUSbZRxh6/yNLR6PUnK5L8BGFpdYDs/cP5aYYLnpRaSRYreLMu5g==', 'sujCode' : '320', 'stDt' : '2015-11-20', 'stTm' : '00', 'edDt' : '2015-11-20', 'edTm' : '24', 'pageNo' : '1', 'numOfRows' : '10', 'fcltyMngNo' : '4148012318' }\n",
    "\n",
    "response = requests.get(url, params=params)\n",
    "print(response.content)"
   ]
  },
  {
   "cell_type": "code",
   "execution_count": 5,
   "id": "d0db7cda",
   "metadata": {},
   "outputs": [],
   "source": [
    "key = 'cibkrvwUziVdQP8g4vzUSTcLCvFeoy754BuUSbZRxh6%2FyNLR6PUnK5L8BGFpdYDs%2FcP5aYYLnpRaSRYreLMu5g%3D%3D'"
   ]
  },
  {
   "cell_type": "code",
   "execution_count": 6,
   "id": "f7b206bb",
   "metadata": {},
   "outputs": [],
   "source": [
    "e_key = 'cibkrvwUziVdQP8g4vzUSTcLCvFeoy754BuUSbZRxh6%2FyNLR6PUnK5L8BGFpdYDs%2FcP5aYYLnpRaSRYreLMu5g%3D%3D'"
   ]
  },
  {
   "cell_type": "code",
   "execution_count": 7,
   "id": "3dbf8041",
   "metadata": {},
   "outputs": [],
   "source": [
    "d_key = 'cibkrvwUziVdQP8g4vzUSTcLCvFeoy754BuUSbZRxh6/yNLR6PUnK5L8BGFpdYDs/cP5aYYLnpRaSRYreLMu5g=='"
   ]
  },
  {
   "cell_type": "code",
   "execution_count": null,
   "id": "2718c06b",
   "metadata": {},
   "outputs": [],
   "source": []
  },
  {
   "cell_type": "code",
   "execution_count": 110,
   "id": "c4b0ce17",
   "metadata": {},
   "outputs": [],
   "source": [
    "url = \"http://apis.data.go.kr/B500001/rwis/waterFlux/waterFlux?sujCode=318&fcltyMngNo=4148012318&stDt=2015-11-20&edDt=2015-11-20&stTm=00&edTm=24&serviceKey=\" + key"
   ]
  },
  {
   "cell_type": "code",
   "execution_count": 111,
   "id": "16dbab05",
   "metadata": {},
   "outputs": [],
   "source": [
    "json_page = urllib.request.urlopen(url)"
   ]
  },
  {
   "cell_type": "code",
   "execution_count": 112,
   "id": "b3ad19dc",
   "metadata": {
    "scrolled": true
   },
   "outputs": [
    {
     "data": {
      "text/plain": [
       "<http.client.HTTPResponse at 0x26413561850>"
      ]
     },
     "execution_count": 112,
     "metadata": {},
     "output_type": "execute_result"
    }
   ],
   "source": [
    "json_page"
   ]
  },
  {
   "cell_type": "code",
   "execution_count": 113,
   "id": "891f0cb6",
   "metadata": {},
   "outputs": [],
   "source": [
    "json_data = json_page.read().decode(\"utf-8\")"
   ]
  },
  {
   "cell_type": "code",
   "execution_count": 120,
   "id": "711bc544",
   "metadata": {},
   "outputs": [
    {
     "name": "stdout",
     "output_type": "stream",
     "text": [
      "<?xml version=\"1.0\" encoding=\"UTF-8\" standalone=\"yes\"?><response><header><resultCode>00</resultCode><resultMsg>NORMAL SERVICE.</resultMsg></header><body><items><item><dataItemDesc>파주(정) 원수 유입유량</dataItemDesc><dataItemDiv>M</dataItemDiv><dataItemTagsn>44381</dataItemTagsn><dataVal>7,402</dataVal><fcltyMngNo>4148012318</fcltyMngNo><fcltyNm>파주정수장</fcltyNm><itemUnit>㎥/h</itemUnit><no>48</no><occrrncDt>2015112024</occrrncDt></item><item><dataItemDesc>고양 파주(정) 정수 유출 유량 적산차</dataItemDesc><dataItemDiv>D</dataItemDiv><dataItemTagsn>19166</dataItemTagsn><dataVal>680</dataVal><fcltyMngNo>4148012318</fcltyMngNo><fcltyNm>파주정수장</fcltyNm><itemUnit>㎥</itemUnit><no>47</no><occrrncDt>2015112024</occrrncDt></item><item><dataItemDesc>파주(정) 원수 유입유량</dataItemDesc><dataItemDiv>M</dataItemDiv><dataItemTagsn>44381</dataItemTagsn><dataVal>5,721</dataVal><fcltyMngNo>4148012318</fcltyMngNo><fcltyNm>파주정수장</fcltyNm><itemUnit>㎥/h</itemUnit><no>46</no><occrrncDt>2015112023</occrrncDt></item><item><dataItemDesc>고양 파주(정) 정수 유출 유량 적산차</dataItemDesc><dataItemDiv>D</dataItemDiv><dataItemTagsn>19166</dataItemTagsn><dataVal>636</dataVal><fcltyMngNo>4148012318</fcltyMngNo><fcltyNm>파주정수장</fcltyNm><itemUnit>㎥</itemUnit><no>45</no><occrrncDt>2015112023</occrrncDt></item><item><dataItemDesc>파주(정) 원수 유입유량</dataItemDesc><dataItemDiv>M</dataItemDiv><dataItemTagsn>44381</dataItemTagsn><dataVal>7,128</dataVal><fcltyMngNo>4148012318</fcltyMngNo><fcltyNm>파주정수장</fcltyNm><itemUnit>㎥/h</itemUnit><no>44</no><occrrncDt>2015112022</occrrncDt></item><item><dataItemDesc>고양 파주(정) 정수 유출 유량 적산차</dataItemDesc><dataItemDiv>D</dataItemDiv><dataItemTagsn>19166</dataItemTagsn><dataVal>612</dataVal><fcltyMngNo>4148012318</fcltyMngNo><fcltyNm>파주정수장</fcltyNm><itemUnit>㎥</itemUnit><no>43</no><occrrncDt>2015112022</occrrncDt></item><item><dataItemDesc>파주(정) 원수 유입유량</dataItemDesc><dataItemDiv>M</dataItemDiv><dataItemTagsn>44381</dataItemTagsn><dataVal>7,491</dataVal><fcltyMngNo>4148012318</fcltyMngNo><fcltyNm>파주정수장</fcltyNm><itemUnit>㎥/h</itemUnit><no>42</no><occrrncDt>2015112021</occrrncDt></item><item><dataItemDesc>고양 파주(정) 정수 유출 유량 적산차</dataItemDesc><dataItemDiv>D</dataItemDiv><dataItemTagsn>19166</dataItemTagsn><dataVal>644</dataVal><fcltyMngNo>4148012318</fcltyMngNo><fcltyNm>파주정수장</fcltyNm><itemUnit>㎥</itemUnit><no>41</no><occrrncDt>2015112021</occrrncDt></item><item><dataItemDesc>파주(정) 원수 유입유량</dataItemDesc><dataItemDiv>M</dataItemDiv><dataItemTagsn>44381</dataItemTagsn><dataVal>6,660</dataVal><fcltyMngNo>4148012318</fcltyMngNo><fcltyNm>파주정수장</fcltyNm><itemUnit>㎥/h</itemUnit><no>40</no><occrrncDt>2015112020</occrrncDt></item><item><dataItemDesc>고양 파주(정) 정수 유출 유량 적산차</dataItemDesc><dataItemDiv>D</dataItemDiv><dataItemTagsn>19166</dataItemTagsn><dataVal>620</dataVal><fcltyMngNo>4148012318</fcltyMngNo><fcltyNm>파주정수장</fcltyNm><itemUnit>㎥</itemUnit><no>39</no><occrrncDt>2015112020</occrrncDt></item></items><numOfRows>10</numOfRows><pageNo>1</pageNo><totalCount>48</totalCount></body></response>\n"
     ]
    }
   ],
   "source": [
    "print(json_data)"
   ]
  },
  {
   "cell_type": "code",
   "execution_count": 126,
   "id": "58bfee78",
   "metadata": {},
   "outputs": [],
   "source": [
    "import pandas as pd\n",
    "from pandas.io.json import json_normalize\n",
    "import json"
   ]
  },
  {
   "cell_type": "code",
   "execution_count": null,
   "id": "cf9d1cfb",
   "metadata": {},
   "outputs": [],
   "source": []
  },
  {
   "cell_type": "code",
   "execution_count": null,
   "id": "cbddbf8a",
   "metadata": {},
   "outputs": [],
   "source": []
  },
  {
   "cell_type": "code",
   "execution_count": null,
   "id": "c125e152",
   "metadata": {},
   "outputs": [],
   "source": []
  },
  {
   "cell_type": "code",
   "execution_count": 121,
   "id": "6f8336ae",
   "metadata": {},
   "outputs": [],
   "source": [
    "url2 = \"http://apis.data.go.kr/B500001/rwis/waterFlux/fcltylist/codelist?fcltyDivCode=1&serviceKey=\" + key"
   ]
  },
  {
   "cell_type": "code",
   "execution_count": 122,
   "id": "00928891",
   "metadata": {},
   "outputs": [],
   "source": [
    "json_page = urllib.request.urlopen(url2)"
   ]
  },
  {
   "cell_type": "code",
   "execution_count": 123,
   "id": "2bf06275",
   "metadata": {},
   "outputs": [
    {
     "data": {
      "text/plain": [
       "<http.client.HTTPResponse at 0x264137a5a60>"
      ]
     },
     "execution_count": 123,
     "metadata": {},
     "output_type": "execute_result"
    }
   ],
   "source": [
    "json_page"
   ]
  },
  {
   "cell_type": "code",
   "execution_count": 124,
   "id": "455299bc",
   "metadata": {},
   "outputs": [],
   "source": [
    "json_data = json_page.read().decode(\"utf-8\")"
   ]
  },
  {
   "cell_type": "code",
   "execution_count": 125,
   "id": "382353d5",
   "metadata": {},
   "outputs": [
    {
     "name": "stdout",
     "output_type": "stream",
     "text": [
      "<?xml version=\"1.0\" encoding=\"UTF-8\" standalone=\"yes\"?><response><header><resultCode>00</resultCode><resultMsg>NORMAL SERVICE.</resultMsg></header><body><items><item><fcltyMngNm>팔당1취수장</fcltyMngNm><sujCode>211</sujCode></item><item><fcltyMngNm>팔당2취수장</fcltyMngNm><sujCode>212</sujCode></item><item><fcltyMngNm>자양취수장</fcltyMngNm><sujCode>215</sujCode></item><item><fcltyMngNm>덕소취수장</fcltyMngNm><sujCode>216</sujCode></item><item><fcltyMngNm>팔당3취수장</fcltyMngNm><sujCode>217</sujCode></item><item><fcltyMngNm>고령취수장</fcltyMngNm><sujCode>230</sujCode></item><item><fcltyMngNm>부조취수장</fcltyMngNm><sujCode>231</sujCode></item><item><fcltyMngNm>구천취수장</fcltyMngNm><sujCode>232</sujCode></item><item><fcltyMngNm>남강취수장</fcltyMngNm><sujCode>233</sujCode></item><item><fcltyMngNm>본포취수장</fcltyMngNm><sujCode>234</sujCode></item><item><fcltyMngNm>해평취수장</fcltyMngNm><sujCode>238</sujCode></item><item><fcltyMngNm>원동취수장</fcltyMngNm><sujCode>239</sujCode></item><item><fcltyMngNm>부여취수장</fcltyMngNm><sujCode>251</sujCode></item><item><fcltyMngNm>대청취수장</fcltyMngNm><sujCode>253</sujCode></item><item><fcltyMngNm>현도취수장</fcltyMngNm><sujCode>255</sujCode></item><item><fcltyMngNm>군산취수장</fcltyMngNm><sujCode>260</sujCode></item><item><fcltyMngNm>칠보취수장</fcltyMngNm><sujCode>261</sujCode></item><item><fcltyMngNm>다압취수장(신)</fcltyMngNm><sujCode>262</sujCode></item><item><fcltyMngNm>이사천취수장</fcltyMngNm><sujCode>263</sujCode></item><item><fcltyMngNm>주암취수장</fcltyMngNm><sujCode>264</sujCode></item><item><fcltyMngNm>대불취수장</fcltyMngNm><sujCode>265</sujCode></item><item><fcltyMngNm>광동취수장</fcltyMngNm><sujCode>271</sujCode></item><item><fcltyMngNm>충주취수장</fcltyMngNm><sujCode>272</sujCode></item><item><fcltyMngNm>아산취수장</fcltyMngNm><sujCode>274</sujCode></item></items></body></response>\n"
     ]
    }
   ],
   "source": [
    "print(json_data)"
   ]
  },
  {
   "cell_type": "code",
   "execution_count": null,
   "id": "d2e78da6",
   "metadata": {},
   "outputs": [],
   "source": []
  },
  {
   "cell_type": "code",
   "execution_count": null,
   "id": "d513ebdc",
   "metadata": {},
   "outputs": [],
   "source": []
  },
  {
   "cell_type": "code",
   "execution_count": 149,
   "id": "369e7c2c",
   "metadata": {},
   "outputs": [
    {
     "name": "stdout",
     "output_type": "stream",
     "text": [
      "b'<?xml version=\"1.0\" encoding=\"UTF-8\" standalone=\"yes\"?><response><header><resultCode>00</resultCode><resultMsg>NORMAL SERVICE.</resultMsg></header><body><items><item><dataItemDesc>\\xed\\x8c\\x8c\\xec\\xa3\\xbc(\\xec\\xa0\\x95) \\xec\\x9b\\x90\\xec\\x88\\x98 \\xec\\x9c\\xa0\\xec\\x9e\\x85\\xec\\x9c\\xa0\\xeb\\x9f\\x89</dataItemDesc><dataItemDiv>M</dataItemDiv><dataItemTagsn>44381</dataItemTagsn><dataVal>7,402</dataVal><fcltyMngNo>4148012318</fcltyMngNo><fcltyNm>\\xed\\x8c\\x8c\\xec\\xa3\\xbc\\xec\\xa0\\x95\\xec\\x88\\x98\\xec\\x9e\\xa5</fcltyNm><itemUnit>\\xe3\\x8e\\xa5/h</itemUnit><no>48</no><occrrncDt>2015112024</occrrncDt></item><item><dataItemDesc>\\xea\\xb3\\xa0\\xec\\x96\\x91 \\xed\\x8c\\x8c\\xec\\xa3\\xbc(\\xec\\xa0\\x95) \\xec\\xa0\\x95\\xec\\x88\\x98 \\xec\\x9c\\xa0\\xec\\xb6\\x9c \\xec\\x9c\\xa0\\xeb\\x9f\\x89 \\xec\\xa0\\x81\\xec\\x82\\xb0\\xec\\xb0\\xa8</dataItemDesc><dataItemDiv>D</dataItemDiv><dataItemTagsn>19166</dataItemTagsn><dataVal>680</dataVal><fcltyMngNo>4148012318</fcltyMngNo><fcltyNm>\\xed\\x8c\\x8c\\xec\\xa3\\xbc\\xec\\xa0\\x95\\xec\\x88\\x98\\xec\\x9e\\xa5</fcltyNm><itemUnit>\\xe3\\x8e\\xa5</itemUnit><no>47</no><occrrncDt>2015112024</occrrncDt></item><item><dataItemDesc>\\xed\\x8c\\x8c\\xec\\xa3\\xbc(\\xec\\xa0\\x95) \\xec\\x9b\\x90\\xec\\x88\\x98 \\xec\\x9c\\xa0\\xec\\x9e\\x85\\xec\\x9c\\xa0\\xeb\\x9f\\x89</dataItemDesc><dataItemDiv>M</dataItemDiv><dataItemTagsn>44381</dataItemTagsn><dataVal>5,721</dataVal><fcltyMngNo>4148012318</fcltyMngNo><fcltyNm>\\xed\\x8c\\x8c\\xec\\xa3\\xbc\\xec\\xa0\\x95\\xec\\x88\\x98\\xec\\x9e\\xa5</fcltyNm><itemUnit>\\xe3\\x8e\\xa5/h</itemUnit><no>46</no><occrrncDt>2015112023</occrrncDt></item><item><dataItemDesc>\\xea\\xb3\\xa0\\xec\\x96\\x91 \\xed\\x8c\\x8c\\xec\\xa3\\xbc(\\xec\\xa0\\x95) \\xec\\xa0\\x95\\xec\\x88\\x98 \\xec\\x9c\\xa0\\xec\\xb6\\x9c \\xec\\x9c\\xa0\\xeb\\x9f\\x89 \\xec\\xa0\\x81\\xec\\x82\\xb0\\xec\\xb0\\xa8</dataItemDesc><dataItemDiv>D</dataItemDiv><dataItemTagsn>19166</dataItemTagsn><dataVal>636</dataVal><fcltyMngNo>4148012318</fcltyMngNo><fcltyNm>\\xed\\x8c\\x8c\\xec\\xa3\\xbc\\xec\\xa0\\x95\\xec\\x88\\x98\\xec\\x9e\\xa5</fcltyNm><itemUnit>\\xe3\\x8e\\xa5</itemUnit><no>45</no><occrrncDt>2015112023</occrrncDt></item><item><dataItemDesc>\\xed\\x8c\\x8c\\xec\\xa3\\xbc(\\xec\\xa0\\x95) \\xec\\x9b\\x90\\xec\\x88\\x98 \\xec\\x9c\\xa0\\xec\\x9e\\x85\\xec\\x9c\\xa0\\xeb\\x9f\\x89</dataItemDesc><dataItemDiv>M</dataItemDiv><dataItemTagsn>44381</dataItemTagsn><dataVal>7,128</dataVal><fcltyMngNo>4148012318</fcltyMngNo><fcltyNm>\\xed\\x8c\\x8c\\xec\\xa3\\xbc\\xec\\xa0\\x95\\xec\\x88\\x98\\xec\\x9e\\xa5</fcltyNm><itemUnit>\\xe3\\x8e\\xa5/h</itemUnit><no>44</no><occrrncDt>2015112022</occrrncDt></item><item><dataItemDesc>\\xea\\xb3\\xa0\\xec\\x96\\x91 \\xed\\x8c\\x8c\\xec\\xa3\\xbc(\\xec\\xa0\\x95) \\xec\\xa0\\x95\\xec\\x88\\x98 \\xec\\x9c\\xa0\\xec\\xb6\\x9c \\xec\\x9c\\xa0\\xeb\\x9f\\x89 \\xec\\xa0\\x81\\xec\\x82\\xb0\\xec\\xb0\\xa8</dataItemDesc><dataItemDiv>D</dataItemDiv><dataItemTagsn>19166</dataItemTagsn><dataVal>612</dataVal><fcltyMngNo>4148012318</fcltyMngNo><fcltyNm>\\xed\\x8c\\x8c\\xec\\xa3\\xbc\\xec\\xa0\\x95\\xec\\x88\\x98\\xec\\x9e\\xa5</fcltyNm><itemUnit>\\xe3\\x8e\\xa5</itemUnit><no>43</no><occrrncDt>2015112022</occrrncDt></item><item><dataItemDesc>\\xed\\x8c\\x8c\\xec\\xa3\\xbc(\\xec\\xa0\\x95) \\xec\\x9b\\x90\\xec\\x88\\x98 \\xec\\x9c\\xa0\\xec\\x9e\\x85\\xec\\x9c\\xa0\\xeb\\x9f\\x89</dataItemDesc><dataItemDiv>M</dataItemDiv><dataItemTagsn>44381</dataItemTagsn><dataVal>7,491</dataVal><fcltyMngNo>4148012318</fcltyMngNo><fcltyNm>\\xed\\x8c\\x8c\\xec\\xa3\\xbc\\xec\\xa0\\x95\\xec\\x88\\x98\\xec\\x9e\\xa5</fcltyNm><itemUnit>\\xe3\\x8e\\xa5/h</itemUnit><no>42</no><occrrncDt>2015112021</occrrncDt></item><item><dataItemDesc>\\xea\\xb3\\xa0\\xec\\x96\\x91 \\xed\\x8c\\x8c\\xec\\xa3\\xbc(\\xec\\xa0\\x95) \\xec\\xa0\\x95\\xec\\x88\\x98 \\xec\\x9c\\xa0\\xec\\xb6\\x9c \\xec\\x9c\\xa0\\xeb\\x9f\\x89 \\xec\\xa0\\x81\\xec\\x82\\xb0\\xec\\xb0\\xa8</dataItemDesc><dataItemDiv>D</dataItemDiv><dataItemTagsn>19166</dataItemTagsn><dataVal>644</dataVal><fcltyMngNo>4148012318</fcltyMngNo><fcltyNm>\\xed\\x8c\\x8c\\xec\\xa3\\xbc\\xec\\xa0\\x95\\xec\\x88\\x98\\xec\\x9e\\xa5</fcltyNm><itemUnit>\\xe3\\x8e\\xa5</itemUnit><no>41</no><occrrncDt>2015112021</occrrncDt></item><item><dataItemDesc>\\xed\\x8c\\x8c\\xec\\xa3\\xbc(\\xec\\xa0\\x95) \\xec\\x9b\\x90\\xec\\x88\\x98 \\xec\\x9c\\xa0\\xec\\x9e\\x85\\xec\\x9c\\xa0\\xeb\\x9f\\x89</dataItemDesc><dataItemDiv>M</dataItemDiv><dataItemTagsn>44381</dataItemTagsn><dataVal>6,660</dataVal><fcltyMngNo>4148012318</fcltyMngNo><fcltyNm>\\xed\\x8c\\x8c\\xec\\xa3\\xbc\\xec\\xa0\\x95\\xec\\x88\\x98\\xec\\x9e\\xa5</fcltyNm><itemUnit>\\xe3\\x8e\\xa5/h</itemUnit><no>40</no><occrrncDt>2015112020</occrrncDt></item><item><dataItemDesc>\\xea\\xb3\\xa0\\xec\\x96\\x91 \\xed\\x8c\\x8c\\xec\\xa3\\xbc(\\xec\\xa0\\x95) \\xec\\xa0\\x95\\xec\\x88\\x98 \\xec\\x9c\\xa0\\xec\\xb6\\x9c \\xec\\x9c\\xa0\\xeb\\x9f\\x89 \\xec\\xa0\\x81\\xec\\x82\\xb0\\xec\\xb0\\xa8</dataItemDesc><dataItemDiv>D</dataItemDiv><dataItemTagsn>19166</dataItemTagsn><dataVal>620</dataVal><fcltyMngNo>4148012318</fcltyMngNo><fcltyNm>\\xed\\x8c\\x8c\\xec\\xa3\\xbc\\xec\\xa0\\x95\\xec\\x88\\x98\\xec\\x9e\\xa5</fcltyNm><itemUnit>\\xe3\\x8e\\xa5</itemUnit><no>39</no><occrrncDt>2015112020</occrrncDt></item></items><numOfRows>10</numOfRows><pageNo>1</pageNo><totalCount>48</totalCount></body></response>'\n"
     ]
    }
   ],
   "source": [
    "import requests\n",
    "\n",
    "url = 'http://apis.data.go.kr/B500001/rwis/waterFlux/waterFlux'\n",
    "params ={'serviceKey' : d_key, 'sujCode' : '318', 'stDt' : '2015-11-20', 'stTm' : '00', 'edDt' : '2015-11-20', 'edTm' : '24', 'pageNo' : '1', 'numOfRows' : '10', 'fcltyMngNo' : '4148012318' }\n",
    "\n",
    "response = requests.get(url, params=params)\n",
    "print(response.content)"
   ]
  },
  {
   "cell_type": "code",
   "execution_count": 1,
   "id": "4163aaf7",
   "metadata": {},
   "outputs": [],
   "source": [
    "from urllib.request import Request, urlopen\n",
    "from urllib.parse import urlencode, quote_plus"
   ]
  },
  {
   "cell_type": "code",
   "execution_count": 8,
   "id": "592d3d5a",
   "metadata": {},
   "outputs": [],
   "source": [
    "url = 'http://apis.data.go.kr/B500001/rwis/waterFlux/waterFlux'\n",
    "service_key= d_key\n",
    "queryParams = '?' + urlencode({quote_plus('ServiceKey') : service_key,\n",
    "                               quote_plus('pageNo') : '10',\n",
    "                               quote_plus('numOfRows') : '300',\n",
    "                               quote_plus('dataType') : 'JSON',\n",
    "                               quote_plus('fcltyMngNo') : '4148012318', \n",
    "                               quote_plus('stDt') : '20151120',\n",
    "                               quote_plus('stTm') : '01',\n",
    "                               quote_plus('edDt') : '20151129',\n",
    "                               quote_plus('edTm') : '24',\n",
    "                               quote_plus('sujCode') : '318' })"
   ]
  },
  {
   "cell_type": "code",
   "execution_count": 9,
   "id": "ff66f277",
   "metadata": {},
   "outputs": [],
   "source": [
    "response = urlopen(url + queryParams)\n",
    "json_api = response.read().decode(\"utf-8\")"
   ]
  },
  {
   "cell_type": "code",
   "execution_count": 10,
   "id": "357df614",
   "metadata": {},
   "outputs": [
    {
     "name": "stdout",
     "output_type": "stream",
     "text": [
      "<?xml version=\"1.0\" encoding=\"UTF-8\" standalone=\"yes\"?><response><header><resultCode>00</resultCode><resultMsg>NORMAL SERVICE.</resultMsg></header><body><items/><numOfRows>300</numOfRows><pageNo>10</pageNo><totalCount>480</totalCount></body></response>\n"
     ]
    }
   ],
   "source": [
    "print(json_api)"
   ]
  },
  {
   "cell_type": "code",
   "execution_count": null,
   "id": "6463bf6d",
   "metadata": {},
   "outputs": [],
   "source": []
  }
 ],
 "metadata": {
  "kernelspec": {
   "display_name": "Python 3 (ipykernel)",
   "language": "python",
   "name": "python3"
  },
  "language_info": {
   "codemirror_mode": {
    "name": "ipython",
    "version": 3
   },
   "file_extension": ".py",
   "mimetype": "text/x-python",
   "name": "python",
   "nbconvert_exporter": "python",
   "pygments_lexer": "ipython3",
   "version": "3.9.7"
  },
  "toc": {
   "base_numbering": 1,
   "nav_menu": {},
   "number_sections": true,
   "sideBar": true,
   "skip_h1_title": false,
   "title_cell": "Table of Contents",
   "title_sidebar": "Contents",
   "toc_cell": false,
   "toc_position": {},
   "toc_section_display": true,
   "toc_window_display": false
  }
 },
 "nbformat": 4,
 "nbformat_minor": 5
}
