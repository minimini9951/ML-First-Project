{
 "cells": [
  {
   "cell_type": "markdown",
   "id": "41c5fab3",
   "metadata": {},
   "source": [
    "###### 11월 14일\n"
   ]
  },
  {
   "cell_type": "markdown",
   "id": "5f984d9f",
   "metadata": {},
   "source": [
    "# 모듈 불러오기"
   ]
  },
  {
   "cell_type": "code",
   "execution_count": 1,
   "id": "74aed261",
   "metadata": {},
   "outputs": [],
   "source": [
    "import numpy as np\n",
    "import pandas as pd\n",
    "\n",
    "import matplotlib as mpl\n",
    "import matplotlib.pyplot as plt\n",
    "import seaborn as sns\n",
    "\n",
    "import warnings\n",
    "\n",
    "# 시각화를 주피터에 \n",
    "%matplotlib inline\n",
    "\n",
    "#한글 폰트를 선명하게 보기위해\n",
    "%config Inlinebackend.fiure_format = 'retina'\n",
    "mpl.rc('font',family = 'malgun gothic')\n",
    "# 유니코드에서 음수로 부호설정\n",
    "mpl.rc('axes',unicode_minus = False)\n",
    "\n",
    "# 차트 설정 \n",
    "sns.set(font = \"malgun gothic\", rc = {'axes.unicode_minus':False}, style = 'darkgrid')\n",
    "plt.rc('figure', figsize = (10,8))\n",
    "warnings.filterwarnings('ignore')"
   ]
  },
  {
   "cell_type": "markdown",
   "id": "b2e0adf7",
   "metadata": {},
   "source": [
    "# 데이터셋 로딩"
   ]
  },
  {
   "cell_type": "code",
   "execution_count": null,
   "id": "0c1402a7",
   "metadata": {},
   "outputs": [],
   "source": [
    "# 모기지수 : 일 평균 모기 개체수"
   ]
  },
  {
   "cell_type": "code",
   "execution_count": 2,
   "id": "458204e8",
   "metadata": {},
   "outputs": [],
   "source": [
    "mos = pd.read_csv('C:\\\\k_disital\\\\source\\\\mygit\\\\ML-First-Project\\\\mosquito_Indicator.csv')"
   ]
  },
  {
   "cell_type": "code",
   "execution_count": null,
   "id": "1e63492a",
   "metadata": {},
   "outputs": [],
   "source": [
    "mos"
   ]
  },
  {
   "cell_type": "code",
   "execution_count": null,
   "id": "21fa73fd",
   "metadata": {},
   "outputs": [],
   "source": [
    "mos.info()"
   ]
  },
  {
   "cell_type": "markdown",
   "id": "a6c6a7d5",
   "metadata": {},
   "source": [
    "## 데이터 탐색 EDA"
   ]
  },
  {
   "cell_type": "code",
   "execution_count": null,
   "id": "cd7f59fb",
   "metadata": {},
   "outputs": [],
   "source": [
    "mos.keys()"
   ]
  },
  {
   "cell_type": "code",
   "execution_count": null,
   "id": "cc5dbb83",
   "metadata": {},
   "outputs": [],
   "source": [
    "#mos.columns !! 나중에 보고 삭제"
   ]
  },
  {
   "cell_type": "code",
   "execution_count": null,
   "id": "781cce5a",
   "metadata": {},
   "outputs": [],
   "source": [
    "#colums=mos.keys() !! 나중에 보고 필요없으면 삭제"
   ]
  },
  {
   "cell_type": "code",
   "execution_count": null,
   "id": "8cedfaf9",
   "metadata": {},
   "outputs": [],
   "source": [
    "# !!이거 만들필요가 있나??!!\n",
    "#df = pd.DataFrame(mos , columns=colums)"
   ]
  },
  {
   "cell_type": "code",
   "execution_count": null,
   "id": "72199093",
   "metadata": {},
   "outputs": [],
   "source": [
    "#df.columns = ['date','mosquito_Indicator','rain','mean_T','min_T','max_T'] !! 나중에 보고 삭제"
   ]
  },
  {
   "cell_type": "code",
   "execution_count": null,
   "id": "1b56c17f",
   "metadata": {
    "scrolled": true
   },
   "outputs": [],
   "source": [
    "mos['mosquito_Indicator'].describe()"
   ]
  },
  {
   "cell_type": "markdown",
   "id": "1bbfa909",
   "metadata": {},
   "source": [
    "### 상관계수"
   ]
  },
  {
   "cell_type": "code",
   "execution_count": 3,
   "id": "a173095d",
   "metadata": {},
   "outputs": [
    {
     "data": {
      "text/html": [
       "<div>\n",
       "<style scoped>\n",
       "    .dataframe tbody tr th:only-of-type {\n",
       "        vertical-align: middle;\n",
       "    }\n",
       "\n",
       "    .dataframe tbody tr th {\n",
       "        vertical-align: top;\n",
       "    }\n",
       "\n",
       "    .dataframe thead th {\n",
       "        text-align: right;\n",
       "    }\n",
       "</style>\n",
       "<table border=\"1\" class=\"dataframe\">\n",
       "  <thead>\n",
       "    <tr style=\"text-align: right;\">\n",
       "      <th></th>\n",
       "      <th>mosquito_Indicator</th>\n",
       "      <th>rain(mm)</th>\n",
       "      <th>mean_T(℃)</th>\n",
       "      <th>min_T(℃)</th>\n",
       "      <th>max_T(℃)</th>\n",
       "    </tr>\n",
       "  </thead>\n",
       "  <tbody>\n",
       "    <tr>\n",
       "      <th>mosquito_Indicator</th>\n",
       "      <td>1.000000</td>\n",
       "      <td>0.216325</td>\n",
       "      <td>0.730742</td>\n",
       "      <td>0.746279</td>\n",
       "      <td>0.700929</td>\n",
       "    </tr>\n",
       "    <tr>\n",
       "      <th>rain(mm)</th>\n",
       "      <td>0.216325</td>\n",
       "      <td>1.000000</td>\n",
       "      <td>0.147173</td>\n",
       "      <td>0.189054</td>\n",
       "      <td>0.100173</td>\n",
       "    </tr>\n",
       "    <tr>\n",
       "      <th>mean_T(℃)</th>\n",
       "      <td>0.730742</td>\n",
       "      <td>0.147173</td>\n",
       "      <td>1.000000</td>\n",
       "      <td>0.990174</td>\n",
       "      <td>0.989618</td>\n",
       "    </tr>\n",
       "    <tr>\n",
       "      <th>min_T(℃)</th>\n",
       "      <td>0.746279</td>\n",
       "      <td>0.189054</td>\n",
       "      <td>0.990174</td>\n",
       "      <td>1.000000</td>\n",
       "      <td>0.964941</td>\n",
       "    </tr>\n",
       "    <tr>\n",
       "      <th>max_T(℃)</th>\n",
       "      <td>0.700929</td>\n",
       "      <td>0.100173</td>\n",
       "      <td>0.989618</td>\n",
       "      <td>0.964941</td>\n",
       "      <td>1.000000</td>\n",
       "    </tr>\n",
       "  </tbody>\n",
       "</table>\n",
       "</div>"
      ],
      "text/plain": [
       "                    mosquito_Indicator  rain(mm)  mean_T(℃)  min_T(℃)  \\\n",
       "mosquito_Indicator            1.000000  0.216325   0.730742  0.746279   \n",
       "rain(mm)                      0.216325  1.000000   0.147173  0.189054   \n",
       "mean_T(℃)                     0.730742  0.147173   1.000000  0.990174   \n",
       "min_T(℃)                      0.746279  0.189054   0.990174  1.000000   \n",
       "max_T(℃)                      0.700929  0.100173   0.989618  0.964941   \n",
       "\n",
       "                    max_T(℃)  \n",
       "mosquito_Indicator  0.700929  \n",
       "rain(mm)            0.100173  \n",
       "mean_T(℃)           0.989618  \n",
       "min_T(℃)            0.964941  \n",
       "max_T(℃)            1.000000  "
      ]
     },
     "execution_count": 3,
     "metadata": {},
     "output_type": "execute_result"
    }
   ],
   "source": [
    "mos.corr()"
   ]
  },
  {
   "cell_type": "code",
   "execution_count": 4,
   "id": "5fbb9b93",
   "metadata": {},
   "outputs": [
    {
     "data": {
      "text/plain": [
       "<AxesSubplot:>"
      ]
     },
     "execution_count": 4,
     "metadata": {},
     "output_type": "execute_result"
    },
    {
     "data": {
      "image/png": "[encoded data removed]",
      "text/plain": [
       "<Figure size 1080x576 with 2 Axes>"
      ]
     },
     "metadata": {},
     "output_type": "display_data"
    }
   ],
   "source": [
    "plt.figure(figsize = (15,8))\n",
    "sns.heatmap(mos.corr(), annot=True)\n",
    "\n"
   ]
  },
  {
   "cell_type": "markdown",
   "id": "287e132b",
   "metadata": {},
   "source": [
    "## 데이터 전처리"
   ]
  },
  {
   "cell_type": "markdown",
   "id": "2d48ad80",
   "metadata": {},
   "source": [
    "### 중복된 데이터 제거"
   ]
  },
  {
   "cell_type": "code",
   "execution_count": 5,
   "id": "b7f2d27e",
   "metadata": {},
   "outputs": [
    {
     "data": {
      "text/plain": [
       "False"
      ]
     },
     "execution_count": 5,
     "metadata": {},
     "output_type": "execute_result"
    }
   ],
   "source": [
    "mos.date.is_unique"
   ]
  },
  {
   "cell_type": "code",
   "execution_count": 6,
   "id": "884b82eb",
   "metadata": {},
   "outputs": [
    {
     "name": "stdout",
     "output_type": "stream",
     "text": [
      "1342\n",
      "1295\n"
     ]
    }
   ],
   "source": [
    "print(mos.date.count())\n",
    "print(mos.date.nunique())"
   ]
  },
  {
   "cell_type": "markdown",
   "id": "277158ac",
   "metadata": {},
   "source": [
    "- https://min23th.tistory.com/45\n",
    "- https://wikidocs.net/154060"
   ]
  },
  {
   "cell_type": "code",
   "execution_count": 7,
   "id": "c146eb70",
   "metadata": {},
   "outputs": [],
   "source": [
    "mos.drop_duplicates(subset='date',ignore_index=True,inplace=True) ### 중복된거 지우는거임\n",
    "\n",
    "#ignore_index=True : 인데스도 같이 수정해줌\n"
   ]
  },
  {
   "cell_type": "code",
   "execution_count": 8,
   "id": "f6924ab9",
   "metadata": {},
   "outputs": [
    {
     "data": {
      "text/plain": [
       "True"
      ]
     },
     "execution_count": 8,
     "metadata": {},
     "output_type": "execute_result"
    }
   ],
   "source": [
    "mos.date.is_unique  ## True란것은 중복이 없다는 것임"
   ]
  },
  {
   "cell_type": "code",
   "execution_count": 9,
   "id": "8bd4f7ef",
   "metadata": {},
   "outputs": [
    {
     "name": "stdout",
     "output_type": "stream",
     "text": [
      "1295\n",
      "1295\n"
     ]
    }
   ],
   "source": [
    "print(mos.date.count())\n",
    "print(mos.date.nunique())"
   ]
  },
  {
   "cell_type": "code",
   "execution_count": 10,
   "id": "6bc9dd5f",
   "metadata": {},
   "outputs": [
    {
     "data": {
      "text/html": [
       "<div>\n",
       "<style scoped>\n",
       "    .dataframe tbody tr th:only-of-type {\n",
       "        vertical-align: middle;\n",
       "    }\n",
       "\n",
       "    .dataframe tbody tr th {\n",
       "        vertical-align: top;\n",
       "    }\n",
       "\n",
       "    .dataframe thead th {\n",
       "        text-align: right;\n",
       "    }\n",
       "</style>\n",
       "<table border=\"1\" class=\"dataframe\">\n",
       "  <thead>\n",
       "    <tr style=\"text-align: right;\">\n",
       "      <th></th>\n",
       "      <th>date</th>\n",
       "      <th>mosquito_Indicator</th>\n",
       "      <th>rain(mm)</th>\n",
       "      <th>mean_T(℃)</th>\n",
       "      <th>min_T(℃)</th>\n",
       "      <th>max_T(℃)</th>\n",
       "    </tr>\n",
       "  </thead>\n",
       "  <tbody>\n",
       "    <tr>\n",
       "      <th>0</th>\n",
       "      <td>2016-05-01</td>\n",
       "      <td>254.4</td>\n",
       "      <td>0.0</td>\n",
       "      <td>18.8</td>\n",
       "      <td>12.2</td>\n",
       "      <td>26.0</td>\n",
       "    </tr>\n",
       "    <tr>\n",
       "      <th>1</th>\n",
       "      <td>2016-05-02</td>\n",
       "      <td>273.5</td>\n",
       "      <td>16.5</td>\n",
       "      <td>21.1</td>\n",
       "      <td>16.5</td>\n",
       "      <td>28.4</td>\n",
       "    </tr>\n",
       "    <tr>\n",
       "      <th>2</th>\n",
       "      <td>2016-05-03</td>\n",
       "      <td>304.0</td>\n",
       "      <td>27.0</td>\n",
       "      <td>12.9</td>\n",
       "      <td>8.9</td>\n",
       "      <td>17.6</td>\n",
       "    </tr>\n",
       "    <tr>\n",
       "      <th>3</th>\n",
       "      <td>2016-05-04</td>\n",
       "      <td>256.2</td>\n",
       "      <td>0.0</td>\n",
       "      <td>15.7</td>\n",
       "      <td>10.2</td>\n",
       "      <td>20.6</td>\n",
       "    </tr>\n",
       "    <tr>\n",
       "      <th>4</th>\n",
       "      <td>2016-05-05</td>\n",
       "      <td>243.8</td>\n",
       "      <td>7.5</td>\n",
       "      <td>18.9</td>\n",
       "      <td>10.2</td>\n",
       "      <td>26.9</td>\n",
       "    </tr>\n",
       "    <tr>\n",
       "      <th>...</th>\n",
       "      <td>...</td>\n",
       "      <td>...</td>\n",
       "      <td>...</td>\n",
       "      <td>...</td>\n",
       "      <td>...</td>\n",
       "      <td>...</td>\n",
       "    </tr>\n",
       "    <tr>\n",
       "      <th>1290</th>\n",
       "      <td>2019-12-27</td>\n",
       "      <td>5.5</td>\n",
       "      <td>0.0</td>\n",
       "      <td>-1.7</td>\n",
       "      <td>-4.6</td>\n",
       "      <td>2.6</td>\n",
       "    </tr>\n",
       "    <tr>\n",
       "      <th>1291</th>\n",
       "      <td>2019-12-28</td>\n",
       "      <td>5.5</td>\n",
       "      <td>0.0</td>\n",
       "      <td>1.1</td>\n",
       "      <td>-3.6</td>\n",
       "      <td>6.1</td>\n",
       "    </tr>\n",
       "    <tr>\n",
       "      <th>1292</th>\n",
       "      <td>2019-12-29</td>\n",
       "      <td>5.5</td>\n",
       "      <td>1.4</td>\n",
       "      <td>3.8</td>\n",
       "      <td>1.1</td>\n",
       "      <td>6.2</td>\n",
       "    </tr>\n",
       "    <tr>\n",
       "      <th>1293</th>\n",
       "      <td>2019-12-30</td>\n",
       "      <td>5.5</td>\n",
       "      <td>0.4</td>\n",
       "      <td>2.7</td>\n",
       "      <td>-5.7</td>\n",
       "      <td>6.8</td>\n",
       "    </tr>\n",
       "    <tr>\n",
       "      <th>1294</th>\n",
       "      <td>2019-12-31</td>\n",
       "      <td>5.5</td>\n",
       "      <td>0.0</td>\n",
       "      <td>-7.9</td>\n",
       "      <td>-10.9</td>\n",
       "      <td>-4.5</td>\n",
       "    </tr>\n",
       "  </tbody>\n",
       "</table>\n",
       "<p>1295 rows × 6 columns</p>\n",
       "</div>"
      ],
      "text/plain": [
       "            date  mosquito_Indicator  rain(mm)  mean_T(℃)  min_T(℃)  max_T(℃)\n",
       "0     2016-05-01               254.4       0.0       18.8      12.2      26.0\n",
       "1     2016-05-02               273.5      16.5       21.1      16.5      28.4\n",
       "2     2016-05-03               304.0      27.0       12.9       8.9      17.6\n",
       "3     2016-05-04               256.2       0.0       15.7      10.2      20.6\n",
       "4     2016-05-05               243.8       7.5       18.9      10.2      26.9\n",
       "...          ...                 ...       ...        ...       ...       ...\n",
       "1290  2019-12-27                 5.5       0.0       -1.7      -4.6       2.6\n",
       "1291  2019-12-28                 5.5       0.0        1.1      -3.6       6.1\n",
       "1292  2019-12-29                 5.5       1.4        3.8       1.1       6.2\n",
       "1293  2019-12-30                 5.5       0.4        2.7      -5.7       6.8\n",
       "1294  2019-12-31                 5.5       0.0       -7.9     -10.9      -4.5\n",
       "\n",
       "[1295 rows x 6 columns]"
      ]
     },
     "execution_count": 10,
     "metadata": {},
     "output_type": "execute_result"
    }
   ],
   "source": [
    "mos"
   ]
  },
  {
   "cell_type": "markdown",
   "id": "8925d91f",
   "metadata": {},
   "source": [
    "### 데이터 시각화"
   ]
  },
  {
   "cell_type": "code",
   "execution_count": null,
   "id": "2cd01401",
   "metadata": {},
   "outputs": [],
   "source": [
    "def plot_hist(df):\n",
    "    # 하나의 도화지에 20개의 그래프 그리기\n",
    "    plt.rcParams['figure.figsize'] = [20,16]\n",
    "    fig = plt.figure()\n",
    "    \n",
    "    for i in range(len(df.columns)):\n",
    "        ax = fig.add_subplot(3,2,i+1) # 5행5열에서 i+1번째 #ax : 축\n",
    "        plt.hist(df[df.columns[i]],bins = 50)\n",
    "        ax.set_title(df.columns[i])\n",
    "    plt.show()"
   ]
  },
  {
   "cell_type": "code",
   "execution_count": null,
   "id": "0e17bf96",
   "metadata": {
    "scrolled": false
   },
   "outputs": [],
   "source": [
    "plot_hist(mos)"
   ]
  },
  {
   "cell_type": "markdown",
   "id": "97b57685",
   "metadata": {},
   "source": [
    "### 날짜로 데이터타입 변경"
   ]
  },
  {
   "cell_type": "code",
   "execution_count": 11,
   "id": "56e8a3b9",
   "metadata": {},
   "outputs": [],
   "source": [
    "mos['date'] = pd.to_datetime(mos['date'])"
   ]
  },
  {
   "cell_type": "code",
   "execution_count": null,
   "id": "5b58a228",
   "metadata": {},
   "outputs": [],
   "source": [
    "mos.info()"
   ]
  },
  {
   "cell_type": "markdown",
   "id": "5cabec1c",
   "metadata": {},
   "source": [
    "### 스케일링"
   ]
  },
  {
   "cell_type": "code",
   "execution_count": 39,
   "id": "14e633eb",
   "metadata": {},
   "outputs": [],
   "source": [
    "data = mos.drop(['mosquito_Indicator', 'date'],axis = 1)\n",
    "target = mos['mosquito_Indicator']\n",
    "# !! rain(mm) 넣고 뺴고 해서 값 얼마나 다른지 확인"
   ]
  },
  {
   "cell_type": "code",
   "execution_count": null,
   "id": "b3dc73a7",
   "metadata": {},
   "outputs": [],
   "source": [
    "## rain 뺏을 떄\n",
    "#MAE: 152.595, MSE:  39182.144, RMSE:  197.945, R2:0.544\n",
    "# lr.score(X_train,y_train\n",
    "# 0.5611723963842761\n",
    "\n",
    "# lr.score(X_test, y_test)\n",
    "# 0.5442378010778453\n",
    "\n",
    "\n",
    "##넣었을 떄 \n",
    "# MAE: 152.494, MSE:  39084.151, RMSE:  197.697, R2:0.545\n",
    "                \n",
    "# 0.561818520440136\n",
    "# 0.5453776460188773    \n",
    "\n",
    "## 진짜 얼마 차이 안남.. 근데 다중공산성 검사를 해야한...?"
   ]
  },
  {
   "cell_type": "code",
   "execution_count": 40,
   "id": "6ec2a82b",
   "metadata": {},
   "outputs": [
    {
     "data": {
      "text/html": [
       "<div>\n",
       "<style scoped>\n",
       "    .dataframe tbody tr th:only-of-type {\n",
       "        vertical-align: middle;\n",
       "    }\n",
       "\n",
       "    .dataframe tbody tr th {\n",
       "        vertical-align: top;\n",
       "    }\n",
       "\n",
       "    .dataframe thead th {\n",
       "        text-align: right;\n",
       "    }\n",
       "</style>\n",
       "<table border=\"1\" class=\"dataframe\">\n",
       "  <thead>\n",
       "    <tr style=\"text-align: right;\">\n",
       "      <th></th>\n",
       "      <th>mean_T(℃)</th>\n",
       "      <th>rain(mm)</th>\n",
       "    </tr>\n",
       "  </thead>\n",
       "  <tbody>\n",
       "    <tr>\n",
       "      <th>0</th>\n",
       "      <td>18.8</td>\n",
       "      <td>0.0</td>\n",
       "    </tr>\n",
       "    <tr>\n",
       "      <th>1</th>\n",
       "      <td>21.1</td>\n",
       "      <td>16.5</td>\n",
       "    </tr>\n",
       "    <tr>\n",
       "      <th>2</th>\n",
       "      <td>12.9</td>\n",
       "      <td>27.0</td>\n",
       "    </tr>\n",
       "    <tr>\n",
       "      <th>3</th>\n",
       "      <td>15.7</td>\n",
       "      <td>0.0</td>\n",
       "    </tr>\n",
       "    <tr>\n",
       "      <th>4</th>\n",
       "      <td>18.9</td>\n",
       "      <td>7.5</td>\n",
       "    </tr>\n",
       "    <tr>\n",
       "      <th>...</th>\n",
       "      <td>...</td>\n",
       "      <td>...</td>\n",
       "    </tr>\n",
       "    <tr>\n",
       "      <th>1290</th>\n",
       "      <td>-1.7</td>\n",
       "      <td>0.0</td>\n",
       "    </tr>\n",
       "    <tr>\n",
       "      <th>1291</th>\n",
       "      <td>1.1</td>\n",
       "      <td>0.0</td>\n",
       "    </tr>\n",
       "    <tr>\n",
       "      <th>1292</th>\n",
       "      <td>3.8</td>\n",
       "      <td>1.4</td>\n",
       "    </tr>\n",
       "    <tr>\n",
       "      <th>1293</th>\n",
       "      <td>2.7</td>\n",
       "      <td>0.4</td>\n",
       "    </tr>\n",
       "    <tr>\n",
       "      <th>1294</th>\n",
       "      <td>-7.9</td>\n",
       "      <td>0.0</td>\n",
       "    </tr>\n",
       "  </tbody>\n",
       "</table>\n",
       "<p>1295 rows × 2 columns</p>\n",
       "</div>"
      ],
      "text/plain": [
       "      mean_T(℃)  rain(mm)\n",
       "0          18.8       0.0\n",
       "1          21.1      16.5\n",
       "2          12.9      27.0\n",
       "3          15.7       0.0\n",
       "4          18.9       7.5\n",
       "...         ...       ...\n",
       "1290       -1.7       0.0\n",
       "1291        1.1       0.0\n",
       "1292        3.8       1.4\n",
       "1293        2.7       0.4\n",
       "1294       -7.9       0.0\n",
       "\n",
       "[1295 rows x 2 columns]"
      ]
     },
     "execution_count": 40,
     "metadata": {},
     "output_type": "execute_result"
    }
   ],
   "source": [
    "data"
   ]
  },
  {
   "cell_type": "code",
   "execution_count": null,
   "id": "5e009c1f",
   "metadata": {},
   "outputs": [],
   "source": [
    "target"
   ]
  },
  {
   "cell_type": "code",
   "execution_count": 41,
   "id": "37512bab",
   "metadata": {},
   "outputs": [],
   "source": [
    "from sklearn.preprocessing import MinMaxScaler\n",
    "sc = MinMaxScaler()\n",
    "scaled = sc.fit_transform(data)"
   ]
  },
  {
   "cell_type": "code",
   "execution_count": 24,
   "id": "d86a7dcc",
   "metadata": {},
   "outputs": [
    {
     "data": {
      "text/plain": [
       "(1295, 4)"
      ]
     },
     "execution_count": 24,
     "metadata": {},
     "output_type": "execute_result"
    }
   ],
   "source": [
    "scaled.shape"
   ]
  },
  {
   "cell_type": "code",
   "execution_count": null,
   "id": "ed8b08ee",
   "metadata": {},
   "outputs": [],
   "source": [
    "# # '월' 만 분리 !! 나중에 다시 확인\n",
    "# mos['date_m'] = mos['date'].dt.strftime('%m')\n",
    "# mos.head()"
   ]
  },
  {
   "cell_type": "markdown",
   "id": "a042d3fe",
   "metadata": {},
   "source": [
    "### train, test 나누기"
   ]
  },
  {
   "cell_type": "code",
   "execution_count": 42,
   "id": "44cf96e7",
   "metadata": {},
   "outputs": [],
   "source": [
    "from sklearn.model_selection import train_test_split\n",
    "X_train, X_test, y_train, y_test = train_test_split(scaled, target, test_size = 0.2, random_state = 1121)"
   ]
  },
  {
   "cell_type": "markdown",
   "id": "082a8201",
   "metadata": {},
   "source": [
    "# 회귀분석"
   ]
  },
  {
   "cell_type": "markdown",
   "id": "be7d0331",
   "metadata": {},
   "source": [
    "## LinearRegression 알고리즘"
   ]
  },
  {
   "cell_type": "code",
   "execution_count": 17,
   "id": "7603f334",
   "metadata": {},
   "outputs": [],
   "source": [
    "from sklearn.linear_model import LinearRegression\n",
    "lr = LinearRegression()"
   ]
  },
  {
   "cell_type": "code",
   "execution_count": 43,
   "id": "99b09142",
   "metadata": {},
   "outputs": [],
   "source": [
    "lr.fit(X_train, y_train)\n",
    "pred = lr.predict(X_test)         "
   ]
  },
  {
   "cell_type": "code",
   "execution_count": null,
   "id": "9da822bc",
   "metadata": {},
   "outputs": [],
   "source": [
    "## !! 책323 metrics.mean_absolute, metrics.mean_squared_error, metrics.r2_score\n",
    "## !! 어떤게 낮은게 좋은건지 찾아보기"
   ]
  },
  {
   "cell_type": "code",
   "execution_count": 44,
   "id": "3305ec19",
   "metadata": {},
   "outputs": [
    {
     "name": "stdout",
     "output_type": "stream",
     "text": [
      "MAE: 155.773, MSE:  40164.192, RMSE:  200.410, R2:0.533\n"
     ]
    }
   ],
   "source": [
    "from sklearn.metrics import mean_absolute_error, mean_squared_error, r2_score\n",
    "\n",
    "mae = mean_absolute_error(y_test, pred)\n",
    "mse = mean_squared_error(y_test, pred)\n",
    "rmse = np.sqrt(mse)\n",
    "r2 = r2_score(y_test, pred)\n",
    "\n",
    "print('MAE: {0:.3f}, MSE: {1: .3f}, RMSE: {2: .3f}, R2:{3:.3f}'.format(mae, mse, rmse, r2))"
   ]
  },
  {
   "cell_type": "code",
   "execution_count": 45,
   "id": "1401d32b",
   "metadata": {},
   "outputs": [
    {
     "name": "stdout",
     "output_type": "stream",
     "text": [
      "0.5373456653330635\n",
      "0.5328147344485923\n"
     ]
    }
   ],
   "source": [
    "print(lr.score(X_train,y_train))\n",
    "print(lr.score(X_test, y_test))"
   ]
  },
  {
   "cell_type": "markdown",
   "id": "413b4875",
   "metadata": {},
   "source": [
    "## 다항회귀"
   ]
  },
  {
   "cell_type": "markdown",
   "id": "afb378fe",
   "metadata": {},
   "source": [
    "### 사이킷런 변환기_3차"
   ]
  },
  {
   "cell_type": "code",
   "execution_count": null,
   "id": "c9f0585d",
   "metadata": {},
   "outputs": [],
   "source": [
    "from sklearn.preprocessing import PolynomialFeatures\n",
    "poly = PolynomialFeatures(degree=3 , include_bias = False) # 절편 개수(1을 제거)\n",
    "\n",
    "#poly.fit(X_train)\n",
    "train_poly = poly.fit_transform(X_train)\n",
    "test_poly = poly.transform(X_test)\n",
    "\n",
    "poly.get_feature_names()"
   ]
  },
  {
   "cell_type": "code",
   "execution_count": null,
   "id": "5dff5eb2",
   "metadata": {},
   "outputs": [],
   "source": [
    "lr.fit(train_poly,y_train)\n",
    "pred = lr.predict(test_poly)\n",
    "print(lr.score(train_poly, y_train))\n",
    "print(lr.score(test_poly, y_test))"
   ]
  },
  {
   "cell_type": "code",
   "execution_count": null,
   "id": "674a9fd4",
   "metadata": {},
   "outputs": [],
   "source": [
    "print(X_train.shape)\n",
    "y_train = np.array(y_train).reshape(-1,1) # 2차원으로 차원 변경\n",
    "print(y_train.shape)"
   ]
  },
  {
   "cell_type": "markdown",
   "id": "951a38de",
   "metadata": {},
   "source": [
    "### 사이킷런 변환기_2차"
   ]
  },
  {
   "cell_type": "code",
   "execution_count": null,
   "id": "61b65117",
   "metadata": {},
   "outputs": [],
   "source": [
    "from sklearn.preprocessing import PolynomialFeatures\n",
    "\n",
    "poly = PolynomialFeatures(degree= 2, include_bias = False) # 절편 개수(1을 제거)\n",
    "\n",
    "#poly.fit(X_train)\n",
    "train_poly = poly.fit_transform(X_train)\n",
    "test_poly = poly.transform(X_test)\n",
    "\n",
    "poly.get_feature_names()"
   ]
  },
  {
   "cell_type": "markdown",
   "id": "29059b07",
   "metadata": {},
   "source": [
    "### 다중회귀_2차"
   ]
  },
  {
   "cell_type": "code",
   "execution_count": null,
   "id": "b2a38baf",
   "metadata": {},
   "outputs": [],
   "source": [
    "lr.fit(train_poly,y_train)\n",
    "pred = lr.predict(test_poly)\n",
    "print(lr.score(train_poly, y_train))\n",
    "print(lr.score(test_poly, y_test))"
   ]
  },
  {
   "cell_type": "markdown",
   "id": "d61a7f0b",
   "metadata": {},
   "source": [
    "### 릿지 규제\n",
    "- 릿지 회귀(Ridge Regression) 모델 : 계수를 제곱한 값을 기준으로 규제 적용"
   ]
  },
  {
   "cell_type": "code",
   "execution_count": null,
   "id": "7bb47546",
   "metadata": {},
   "outputs": [],
   "source": [
    "from sklearn.linear_model import Ridge, Lasso\n",
    "# 훈련세트와 테스트세트의 정수가 가장 가까운 지점이 최적의 alpha 값이 된다\n",
    "train_score = []\n",
    "test_score = []\n",
    "\n",
    "alpha_list = [0.001, 0.01, 0.1, 1, 10, 100]\n",
    "for alpha in alpha_list:\n",
    "    #릿지모델\n",
    "    ridge = Ridge(alpha = alpha)\n",
    "    #릿지모델 훈련\n",
    "    ridge.fit(X_train, y_train)\n",
    "    train_score.append(ridge.score(X_train, y_train))\n",
    "    test_score.append(ridge.score(X_test,y_test))"
   ]
  },
  {
   "cell_type": "code",
   "execution_count": null,
   "id": "c975f40c",
   "metadata": {},
   "outputs": [],
   "source": [
    "# print(train_score)\n",
    "# print(test_score)\n",
    "# !!나중에 삭제하기"
   ]
  },
  {
   "cell_type": "code",
   "execution_count": null,
   "id": "469eca37",
   "metadata": {},
   "outputs": [],
   "source": [
    "# 시각화\n",
    "plt.figure(figsize=(10,10))\n",
    "plt.plot(np.log10(alpha_list), train_score) # 로그로 안 보면 크기가 너무 크다.\n",
    "plt.plot(np.log10(alpha_list), test_score)\n",
    "plt.xlabel('alpha')\n",
    "plt.ylabel('score')\n",
    "plt.show()"
   ]
  },
  {
   "cell_type": "markdown",
   "id": "b55ca64c",
   "metadata": {},
   "source": [
    "- 확률일 높은 것 중에 폭이 좁은게 -1(0.1)과 0(1)/ 점수는 낮지만 폭이 좁은건 1(10)"
   ]
  },
  {
   "cell_type": "code",
   "execution_count": null,
   "id": "77da1d16",
   "metadata": {},
   "outputs": [],
   "source": [
    "# alpha가 10(1)\n",
    "ridge = Ridge(alpha = 10)\n",
    "ridge.fit(X_train,y_train)\n",
    "print(ridge.score(X_train,y_train))\n",
    "print(ridge.score(X_test,y_test))"
   ]
  },
  {
   "cell_type": "code",
   "execution_count": null,
   "id": "298c7efa",
   "metadata": {},
   "outputs": [],
   "source": [
    "# alpha가 1\n",
    "ridge = Ridge(alpha = 1)\n",
    "ridge.fit(X_train,y_train)\n",
    "print(ridge.score(X_train,y_train))\n",
    "print(ridge.score(X_test,y_test))"
   ]
  },
  {
   "cell_type": "code",
   "execution_count": null,
   "id": "344f0fc0",
   "metadata": {},
   "outputs": [],
   "source": [
    "# alpha가 -1\n",
    "ridge = Ridge(alpha = 0.1)\n",
    "ridge.fit(X_train,y_train)\n",
    "print(ridge.score(X_train,y_train))\n",
    "print(ridge.score(X_test,y_test))"
   ]
  },
  {
   "cell_type": "markdown",
   "id": "f0b4ca41",
   "metadata": {},
   "source": [
    "- 알파값이 0.1(-1)일때가 예측값이 높고, 과대적합이 가장 최소화 되는 구간? !!"
   ]
  },
  {
   "cell_type": "markdown",
   "id": "ec57b0e9",
   "metadata": {},
   "source": [
    "### 라쏘규제"
   ]
  },
  {
   "cell_type": "code",
   "execution_count": null,
   "id": "ef46acd8",
   "metadata": {},
   "outputs": [],
   "source": [
    "lasso = Lasso()\n",
    "\n",
    "lasso.fit(X_train, y_train)\n",
    "print(lasso.score(X_train,y_train))\n",
    "print(lasso.score(X_test,y_test))"
   ]
  },
  {
   "cell_type": "code",
   "execution_count": null,
   "id": "f57b4e63",
   "metadata": {},
   "outputs": [],
   "source": [
    "train_score = []\n",
    "test_score = []\n",
    "\n",
    "alpha_list = [0.001, 0.01, 0.1, 1, 10, 100]\n",
    "for alpha in alpha_list:\n",
    "    #라쏘모델\n",
    "    lasso = Lasso(alpha = alpha)\n",
    "    #릿지모델 훈련\n",
    "    lasso.fit(X_train, y_train)\n",
    "    #결정계수(R2 score)\n",
    "    train_score.append(lasso.score(X_train,y_train))\n",
    "    test_score.append(lasso.score(X_test,y_test))"
   ]
  },
  {
   "cell_type": "code",
   "execution_count": null,
   "id": "9d075364",
   "metadata": {},
   "outputs": [],
   "source": [
    "# 시각화\n",
    "plt.figure(figsize=(10,10))\n",
    "plt.plot(np.log10(alpha_list), train_score) # 로그로 안 보면 크기가 너무 크다.\n",
    "plt.plot(np.log10(alpha_list), test_score)\n",
    "plt.xlabel('alpha')\n",
    "plt.ylabel('score')\n",
    "plt.show()"
   ]
  },
  {
   "cell_type": "markdown",
   "id": "b41c8469",
   "metadata": {},
   "source": [
    "- 시각화로 봤을 때 -1(0.1), 0(1), 1(10) 넣어보기"
   ]
  },
  {
   "cell_type": "code",
   "execution_count": null,
   "id": "a1fe7d9e",
   "metadata": {},
   "outputs": [],
   "source": [
    "# 알파값 0.1\n",
    "lasso = Lasso(alpha = 0.1)\n",
    "lasso.fit(X_train,y_train)\n",
    "print(lasso.score(X_train,y_train))\n",
    "print(lasso.score(X_test,y_test))"
   ]
  },
  {
   "cell_type": "code",
   "execution_count": null,
   "id": "adcd0609",
   "metadata": {},
   "outputs": [],
   "source": [
    "# 알파값 1\n",
    "lasso = Lasso(alpha = 1)\n",
    "lasso.fit(X_train,y_train)\n",
    "print(lasso.score(X_train,y_train))\n",
    "print(lasso.score(X_test,y_test))"
   ]
  },
  {
   "cell_type": "code",
   "execution_count": null,
   "id": "8eda7781",
   "metadata": {},
   "outputs": [],
   "source": [
    "# 알파값 10\n",
    "lasso = Lasso(alpha = 10)\n",
    "lasso.fit(X_train,y_train)\n",
    "print(lasso.score(X_train,y_train))\n",
    "print(lasso.score(X_test,y_test))"
   ]
  },
  {
   "cell_type": "markdown",
   "id": "2fb8f351",
   "metadata": {},
   "source": [
    "- 릿지가 미세하게 좋은 결과값이 나옴<br> !! 이거 다시얘기해보기\n",
    "\n",
    "릿지 alpha : -1 <br>\n",
    "0.5617292087395449<br>\n",
    "0.5456175742772317<br>\n",
    "<br>\n",
    "라쏘 alpha : 0.1<br>\n",
    "0.5614372438900941<br>\n",
    "0.5437997463207276<br>"
   ]
  },
  {
   "cell_type": "markdown",
   "id": "a660e64d",
   "metadata": {},
   "source": [
    "# 시계열 분석"
   ]
  },
  {
   "cell_type": "markdown",
   "id": "ff9f07f2",
   "metadata": {},
   "source": [
    "## 전처리 및 시각화"
   ]
  },
  {
   "cell_type": "markdown",
   "id": "e782312e",
   "metadata": {},
   "source": [
    "### 모듈 불러오기"
   ]
  },
  {
   "cell_type": "code",
   "execution_count": null,
   "id": "643e2230",
   "metadata": {},
   "outputs": [],
   "source": [
    "import warnings\n",
    "\n",
    "import numpy as np\n",
    "import pandas as pd\n",
    "\n",
    "# hide warnings\n",
    "warnings.filterwarnings(\"ignore\")"
   ]
  },
  {
   "cell_type": "code",
   "execution_count": null,
   "id": "8e9bb947",
   "metadata": {},
   "outputs": [],
   "source": [
    "#_centered 이게 미리 설치 되어 있어서 충돌이 일어나 모듈 import가 안되서 함수로 따로 만듬\n",
    "import  scipy.signal.signaltools\n",
    "\n",
    "def _centered(arr, newsize):\n",
    "    # Return the center newsize portion of the array.\n",
    "    newsize = np.asarray(newsize)\n",
    "    currsize = np.array(arr.shape)\n",
    "    startind = (currsize - newsize) // 2\n",
    "    endind = startind + newsize\n",
    "    myslice = [slice(startind[k], endind[k]) for k in range(len(endind))]\n",
    "    return arr[tuple(myslice)]\n",
    "\n",
    "scipy.signal.signaltools._centered = _centered"
   ]
  },
  {
   "cell_type": "code",
   "execution_count": null,
   "id": "4a26a1c3",
   "metadata": {},
   "outputs": [],
   "source": [
    "# 스케일링 후 date, Indi 를 합친 df\n",
    "mos_scaled = pd.DataFrame(scaled, columns=data.columns)\n",
    "mos_scaled['date'] = mos.date\n",
    "mos_scaled['Indi'] = target\n",
    "mos_scaled"
   ]
  },
  {
   "cell_type": "code",
   "execution_count": null,
   "id": "a56dbd3f",
   "metadata": {
    "scrolled": true
   },
   "outputs": [],
   "source": [
    "mos_scaled.date"
   ]
  },
  {
   "cell_type": "code",
   "execution_count": null,
   "id": "64a022fe",
   "metadata": {},
   "outputs": [],
   "source": [
    "len(mos_scaled.date)"
   ]
  },
  {
   "cell_type": "code",
   "execution_count": null,
   "id": "432dfb4c",
   "metadata": {},
   "outputs": [],
   "source": [
    "# 일별 \n",
    "mos_p = mos_scaled[['date', 'Indi']]\n",
    "mos_p = mos_p.set_index('date')\n",
    "## 시리즈가 아니라서 예측이 제대로 안된거가 해서 바꿔봤음(승객은 시리즈라서)\n",
    "## 근데 바꿔도 예측값이 5.5 밖에 안나옴 !! 데이터 프레임이나 시리즈나 상관 없음 , 나중에 삭제하기\n",
    "#mos_p = mos_p.Indi"
   ]
  },
  {
   "cell_type": "code",
   "execution_count": null,
   "id": "109ad12d",
   "metadata": {},
   "outputs": [],
   "source": [
    "\n",
    "type(mos_p)"
   ]
  },
  {
   "cell_type": "code",
   "execution_count": null,
   "id": "557e765a",
   "metadata": {},
   "outputs": [],
   "source": [
    "mos_p.index"
   ]
  },
  {
   "cell_type": "markdown",
   "id": "5e6f3759",
   "metadata": {},
   "source": [
    "## 일"
   ]
  },
  {
   "cell_type": "markdown",
   "id": "9757c0c2",
   "metadata": {},
   "source": [
    "### 예측"
   ]
  },
  {
   "cell_type": "code",
   "execution_count": null,
   "id": "3d148628",
   "metadata": {},
   "outputs": [],
   "source": [
    "mos_p.index= mos_p.index.to_period(freq = 'D')"
   ]
  },
  {
   "cell_type": "markdown",
   "id": "0c8ee5c2",
   "metadata": {},
   "source": [
    "#### 모기 데이터 시계열 시각화 ( 일)"
   ]
  },
  {
   "cell_type": "code",
   "execution_count": null,
   "id": "79d1f7df",
   "metadata": {
    "scrolled": true
   },
   "outputs": [],
   "source": [
    "# 시계열 데이터 그래프\n",
    "# 인덱스가 데이터 타입인 시리즈를 가지고 그레프 그리기\n",
    "from sktime.utils.plotting import plot_series\n",
    "plot_series(mos_p)"
   ]
  },
  {
   "cell_type": "markdown",
   "id": "f0446dc2",
   "metadata": {},
   "source": [
    "#### 기간(범위) 지정"
   ]
  },
  {
   "cell_type": "code",
   "execution_count": null,
   "id": "86de0fb9",
   "metadata": {},
   "outputs": [],
   "source": [
    "from sktime.forecasting.base import ForecastingHorizon\n",
    "from sktime.forecasting.naive import NaiveForecaster\n",
    "\n",
    "# step 1: data specification : 데이터 세팅\n",
    "y = mos_p\n",
    "\n",
    "# step 2: specifying forecasting horizon : 기간 설정 ( 2년)\n",
    "fh = np.arange(1, 732)\n",
    "# fh = ForecastingHorizon(\n",
    "#     pd.PeriodIndex(pd.date_range(\"2020-01-01\", periods=731, freq=\"D\")), is_relative=False\n",
    "# )\n",
    "\n",
    "# step 3: specifying the forecasting algorithm :알고리즘 인스턴트 생성\n",
    "forecaster = NaiveForecaster(strategy=\"mean\", sp=731)\n",
    "##ValueError: Unknown strategy: first. Expected one of: ('last', 'mean', 'drift').\n",
    "\n",
    "# step 4: fitting the forecaster : 학습\n",
    "forecaster.fit(y, fh=fh)\n",
    "\n",
    "# step 5: querying predictions : 에측\n",
    "y_pred = forecaster.predict(fh)"
   ]
  },
  {
   "cell_type": "code",
   "execution_count": null,
   "id": "407a80ed",
   "metadata": {},
   "outputs": [],
   "source": [
    "y_pred"
   ]
  },
  {
   "cell_type": "code",
   "execution_count": null,
   "id": "91b6dd51",
   "metadata": {},
   "outputs": [],
   "source": [
    "# 시각화\n",
    "plot_series(y, y_pred, labels=[\"y\", \"y_pred\"])"
   ]
  },
  {
   "cell_type": "markdown",
   "id": "2671ef38",
   "metadata": {},
   "source": [
    "#### 데이터 분할"
   ]
  },
  {
   "cell_type": "code",
   "execution_count": null,
   "id": "0abf61d0",
   "metadata": {},
   "outputs": [],
   "source": [
    "from sktime.forecasting.model_selection import temporal_train_test_split\n",
    "y_train, y_test = temporal_train_test_split(y, test_size=0.25)"
   ]
  },
  {
   "cell_type": "code",
   "execution_count": null,
   "id": "211b7f44",
   "metadata": {},
   "outputs": [],
   "source": [
    "# 데이터 학습\n",
    "\n",
    "# we can simply take the indices from `y_test` where they already are stored\n",
    "fh = ForecastingHorizon(y_test.index, is_relative=False)\n",
    "\n",
    "# step 3: specifying the forecasting algorithm :알고리즘 인스턴트 생성\n",
    "forecaster = NaiveForecaster(strategy=\"mean\", sp=731)\n",
    "\n",
    "# step 4: fitting the forecaster : 학습\n",
    "forecaster.fit(y_train)\n",
    "\n",
    "# step 5: querying predictions : 에측\n",
    "y_pred = forecaster.predict(fh)"
   ]
  },
  {
   "cell_type": "code",
   "execution_count": null,
   "id": "6482b860",
   "metadata": {},
   "outputs": [],
   "source": [
    "y_pred.shape"
   ]
  },
  {
   "cell_type": "code",
   "execution_count": null,
   "id": "195fbf3d",
   "metadata": {},
   "outputs": [],
   "source": [
    "# 시각화\n",
    "plot_series(y_train, y_test, y_pred, labels=[\"y_train\", \"y_test\", \"y_pred\"])"
   ]
  },
  {
   "cell_type": "code",
   "execution_count": null,
   "id": "27c401ce",
   "metadata": {},
   "outputs": [],
   "source": [
    "plot_series( y_test, y_pred, labels=[ \"y_test\", \"y_pred\"])"
   ]
  },
  {
   "cell_type": "markdown",
   "id": "7c8fe8d5",
   "metadata": {},
   "source": [
    "#### 평가"
   ]
  },
  {
   "cell_type": "code",
   "execution_count": null,
   "id": "25820344",
   "metadata": {},
   "outputs": [],
   "source": [
    "from sklearn.metrics import mean_absolute_error, mean_squared_error, r2_score\n",
    "\n",
    "mae = mean_absolute_error(y_test, y_pred)\n",
    "mse = mean_squared_error(y_test, y_pred)\n",
    "rmse = np.sqrt(mse)\n",
    "r2 = r2_score(y_test, y_pred)\n",
    "\n",
    "print('MAE: {0:.3f}, MSE: {1: .3f}, RMSE: {2: .3f}, R2:{3:.3f}'.format(mae, mse, rmse, r2))"
   ]
  },
  {
   "cell_type": "markdown",
   "id": "c5f86854",
   "metadata": {},
   "source": [
    "- MAPE는 퍼센트 값을 가지며 0에 가까울수록 회귀 모형의 성능이 좋다고 해석할 수 있음\n",
    "- 0~100% 사이의 값을 가져 이해하기 쉬우므로 성능 비교 해석이 가능\n",
    "- https://acdongpgm.tistory.com/102"
   ]
  },
  {
   "cell_type": "code",
   "execution_count": null,
   "id": "a30fa7c7",
   "metadata": {},
   "outputs": [],
   "source": [
    "from sktime.performance_metrics.forecasting import mean_absolute_percentage_error"
   ]
  },
  {
   "cell_type": "code",
   "execution_count": null,
   "id": "99f26585",
   "metadata": {},
   "outputs": [],
   "source": [
    "mean_absolute_percentage_error(y_test, y_pred, symmetric=False)"
   ]
  },
  {
   "cell_type": "code",
   "execution_count": null,
   "id": "d752440c",
   "metadata": {},
   "outputs": [],
   "source": [
    "mean_absolute_percentage_error(y_test, y_pred, symmetric=True)\n",
    "#이와 같은 숫자를 적절하게 해석하려면 해당 메트릭의 속성을 이해하고(예: 낮을수록 좋음) 적합한 기준선 및 경쟁자 알고리즘과 비교하는 것이 좋습니다(5단계 참조).\n",
    "## symmetric: 번역은 대칭인데... 이게 뭘 의미하는지는 아직 잘 모르ㅔㅆ음!!"
   ]
  },
  {
   "cell_type": "code",
   "execution_count": null,
   "id": "0d7f5573",
   "metadata": {},
   "outputs": [],
   "source": [
    "from sktime.performance_metrics.forecasting import MeanAbsolutePercentageError"
   ]
  },
  {
   "cell_type": "code",
   "execution_count": null,
   "id": "f955553b",
   "metadata": {},
   "outputs": [],
   "source": [
    "# option 2: using the composable class interface\n",
    "mape = MeanAbsolutePercentageError(symmetric=False)\n",
    "# the class interface allows to easily construct variants of the MAPE\n",
    "#  e.g., the non-symmetric verion\n",
    "# it also allows for inspection of metric properties\n",
    "#  e.g., are higher values better (answer: no)?\n",
    "mape.get_tag(\"lower_is_better\")"
   ]
  },
  {
   "cell_type": "code",
   "execution_count": null,
   "id": "d912c26c",
   "metadata": {},
   "outputs": [],
   "source": [
    "mape(y_test, y_pred)"
   ]
  },
  {
   "cell_type": "markdown",
   "id": "2d17ac05",
   "metadata": {},
   "source": [
    "#### 계절성 평가"
   ]
  },
  {
   "cell_type": "code",
   "execution_count": null,
   "id": "c7aed7f5",
   "metadata": {},
   "outputs": [],
   "source": [
    "from sktime.forecasting.exp_smoothing import ExponentialSmoothing"
   ]
  },
  {
   "cell_type": "code",
   "execution_count": null,
   "id": "f561c8dc",
   "metadata": {},
   "outputs": [],
   "source": [
    "forecaster = ExponentialSmoothing(trend=\"additive\", seasonal=\"add\", sp=31)\n",
    "#trend must be one of: 'add', 'mul', 'additive'(첨가물), 'multiplicative'\n",
    "#seasonal must be one of: 'add', 'mul', 'additive', 'multiplicative'\n",
    "forecaster.fit(y_train)\n",
    "y_pred = forecaster.predict(fh)\n",
    "plot_series(y_train, y_test, y_pred, labels=[\"y_train\", \"y_test\", \"y_pred\"])\n",
    "mean_absolute_percentage_error(y_test, y_pred, symmetric=False)"
   ]
  },
  {
   "cell_type": "code",
   "execution_count": null,
   "id": "a8519358",
   "metadata": {},
   "outputs": [],
   "source": [
    "from sktime.forecasting.ets import AutoETS"
   ]
  },
  {
   "cell_type": "code",
   "execution_count": null,
   "id": "ebc1fb5a",
   "metadata": {},
   "outputs": [],
   "source": [
    "forecaster = AutoETS(auto=True, sp=31, n_jobs=-1)\n",
    "\n",
    "forecaster.fit(y_train)\n",
    "y_pred = forecaster.predict(fh)\n",
    "plot_series(y_train, y_test, y_pred, labels=[\"y_train\", \"y_test\", \"y_pred\"])\n",
    "mean_absolute_percentage_error(y_test, y_pred, symmetric=False)"
   ]
  },
  {
   "cell_type": "code",
   "execution_count": null,
   "id": "623144aa",
   "metadata": {},
   "outputs": [],
   "source": [
    "!pip install sktime[all_extras]\n",
    "##!! 아직 안갖고 왔음"
   ]
  },
  {
   "cell_type": "code",
   "execution_count": null,
   "id": "14c2ee28",
   "metadata": {},
   "outputs": [],
   "source": [
    "from sktime.forecasting.arima import ARIMA"
   ]
  },
  {
   "cell_type": "code",
   "execution_count": null,
   "id": "1e34f862",
   "metadata": {},
   "outputs": [],
   "source": [
    "forecaster = ARIMA(\n",
    "    order=(1, 1, 0), seasonal_order=(0, 1, 0, 12), suppress_warnings=True\n",
    ")\n",
    "\n",
    "forecaster.fit(y_train)\n",
    "y_pred = forecaster.predict(fh)\n",
    "plot_series(y_train, y_test, y_pred, labels=[\"y_train\", \"y_test\", \"y_pred\"])\n",
    "mean_absolute_percentage_error(y_test, y_pred, symmetric=False)"
   ]
  },
  {
   "cell_type": "markdown",
   "id": "584547d3",
   "metadata": {},
   "source": [
    "!! 다변량 예측은 여러개의 컬럼을 가지고 하나의 타겟을 예측하는게 아니고, 여러가지 컬럼을 동시에 예측하는 건가?"
   ]
  },
  {
   "cell_type": "code",
   "execution_count": null,
   "id": "191735a8",
   "metadata": {},
   "outputs": [],
   "source": [
    "from sktime.forecasting.arima import ARIMA\n",
    "from sktime.forecasting.compose import TransformedTargetForecaster\n",
    "from sktime.transformations.series.detrend import Deseasonalizer"
   ]
  },
  {
   "cell_type": "code",
   "execution_count": null,
   "id": "fef9b375",
   "metadata": {},
   "outputs": [],
   "source": [
    "forecaster = TransformedTargetForecaster(\n",
    "    [\n",
    "        (\"deseasonalize\", Deseasonalizer(model=\"multiplicative\", sp=31)),\n",
    "        (\"forecast\", ARIMA()),\n",
    "    ]\n",
    ")\n",
    "\n",
    "forecaster.fit(y_train)\n",
    "y_pred = forecaster.predict(fh)\n",
    "plot_series(y_train, y_test, y_pred, labels=[\"y_train\", \"y_test\", \"y_pred\"])\n",
    "mean_absolute_percentage_error(y_test, y_pred, symmetric=False)"
   ]
  },
  {
   "cell_type": "code",
   "execution_count": null,
   "id": "26148313",
   "metadata": {},
   "outputs": [],
   "source": [
    "from sktime.forecasting.compose import MultiplexForecaster\n",
    "from sktime.forecasting.exp_smoothing import ExponentialSmoothing\n",
    "from sktime.forecasting.naive import NaiveForecaster\n",
    "from sktime.forecasting.model_selection import (\n",
    "    ForecastingGridSearchCV,\n",
    "    SlidingWindowSplitter,\n",
    ")"
   ]
  },
  {
   "cell_type": "code",
   "execution_count": null,
   "id": "6d9601a8",
   "metadata": {},
   "outputs": [],
   "source": [
    "forecaster = MultiplexForecaster(\n",
    "    forecasters=[\n",
    "        (\"naive\", NaiveForecaster(strategy=\"mean\")),\n",
    "        (\"ets\", ExponentialSmoothing(trend=\"add\", sp=31)),\n",
    "    ]\n",
    ")\n",
    "cv = SlidingWindowSplitter(initial_window=int(len(y_train) * 0.5), window_length=30)\n",
    "forecaster_param_grid = {\"selected_forecaster\": [\"ets\", \"naive\"]}\n",
    "gscv = ForecastingGridSearchCV(forecaster, cv=cv, param_grid=forecaster_param_grid)"
   ]
  },
  {
   "cell_type": "code",
   "execution_count": null,
   "id": "e960255d",
   "metadata": {},
   "outputs": [],
   "source": [
    "gscv.fit(y_train)\n",
    "y_pred = gscv.predict(fh)\n",
    "plot_series(y_train, y_test, y_pred, labels=[\"y_train\", \"y_test\", \"y_pred\"])\n",
    "mean_absolute_percentage_error(y_test, y_pred, symmetric=False)"
   ]
  },
  {
   "cell_type": "code",
   "execution_count": null,
   "id": "5c1468b7",
   "metadata": {},
   "outputs": [],
   "source": [
    "from sktime.forecasting.compose import EnsembleForecaster\n"
   ]
  },
  {
   "cell_type": "code",
   "execution_count": null,
   "id": "5ed8b140",
   "metadata": {},
   "outputs": [],
   "source": [
    "ses = ExponentialSmoothing(sp=31)\n",
    "holt = ExponentialSmoothing(trend=\"add\", damped_trend=False, sp=31)\n",
    "damped = ExponentialSmoothing(trend=\"add\", damped_trend=False, sp=31)\n",
    "\n",
    "forecaster = EnsembleForecaster(\n",
    "    [\n",
    "        (\"ses\", ses),\n",
    "        (\"holt\", holt),\n",
    "        (\"damped\", damped),\n",
    "    ]\n",
    ")\n",
    "forecaster.fit(y_train)\n",
    "y_pred = forecaster.predict(fh)\n",
    "plot_series(y_train, y_test, y_pred, labels=[\"y_train\", \"y_test\", \"y_pred\"])\n",
    "mean_absolute_percentage_error(y_test, y_pred, symmetric=False)"
   ]
  },
  {
   "cell_type": "code",
   "execution_count": null,
   "id": "7c4af74b",
   "metadata": {},
   "outputs": [],
   "source": [
    "from sktime.forecasting.all import mean_squared_error\n",
    "from sktime.forecasting.online_learning import (\n",
    "    NormalHedgeEnsemble,\n",
    "    OnlineEnsembleForecaster,\n",
    ")"
   ]
  },
  {
   "cell_type": "code",
   "execution_count": null,
   "id": "729519cd",
   "metadata": {},
   "outputs": [],
   "source": [
    "hedge_expert = NormalHedgeEnsemble(n_estimators=3, loss_func=mean_squared_error)\n"
   ]
  },
  {
   "cell_type": "code",
   "execution_count": null,
   "id": "2176f153",
   "metadata": {},
   "outputs": [],
   "source": [
    "forecaster = OnlineEnsembleForecaster(\n",
    "    [\n",
    "        (\"ses\", ses),\n",
    "        (\"holt\", holt),\n",
    "        (\"damped\", damped),\n",
    "    ],\n",
    "    ensemble_algorithm=hedge_expert,\n",
    ")\n",
    "\n",
    "forecaster.fit(y=y_train, fh=fh)\n",
    "y_pred = forecaster.update_predict_single(y_test)\n",
    "plot_series(y_train, y_test, y_pred, labels=[\"y_train\", \"y_test\", \"y_pred\"])\n",
    "mean_absolute_percentage_error(y_test, y_pred, symmetric=False)"
   ]
  },
  {
   "cell_type": "markdown",
   "id": "c73c0b02",
   "metadata": {},
   "source": [
    "### 모기 데이터 시계열 시각화 (월)"
   ]
  },
  {
   "cell_type": "code",
   "execution_count": null,
   "id": "9515d501",
   "metadata": {},
   "outputs": [],
   "source": [
    "에러용"
   ]
  },
  {
   "cell_type": "code",
   "execution_count": null,
   "id": "47348c8c",
   "metadata": {},
   "outputs": [],
   "source": [
    "# 월별\n",
    "mos_p_m = mos_scaled[['date', 'Indi']]\n",
    "mos_p_m = mos_p_m.set_index('date')\n",
    "## 시리즈가 아니라서 예측이 제대로 안된거가 해서 바꿔봤음(승객은 시리즈라서)\n",
    "## 근데 바꿔도 예측값이 5.5 밖에 안나옴 !!\n",
    "#mos_p_m = mos_p_m.Indi\n"
   ]
  },
  {
   "cell_type": "code",
   "execution_count": null,
   "id": "bd8f9bfc",
   "metadata": {},
   "outputs": [],
   "source": [
    "mos_p_m.index= mos_p_m.index.to_period(freq = 'M')"
   ]
  },
  {
   "cell_type": "code",
   "execution_count": null,
   "id": "aa17f7bb",
   "metadata": {},
   "outputs": [],
   "source": [
    "mos_p_m"
   ]
  },
  {
   "cell_type": "code",
   "execution_count": null,
   "id": "7bbeb550",
   "metadata": {},
   "outputs": [],
   "source": [
    "mos_p_m =mos_p_m.groupby([mos_p_m.index])['Indi'].sum()\n",
    "# 위의 거랑 똑같은 식 : mos_p_m =mos_p_m.groupby([mos_p_m.index]).sum('Indi')"
   ]
  },
  {
   "cell_type": "code",
   "execution_count": null,
   "id": "19b8dfc0",
   "metadata": {},
   "outputs": [],
   "source": [
    "mos_p_m"
   ]
  },
  {
   "cell_type": "code",
   "execution_count": null,
   "id": "7428f16e",
   "metadata": {},
   "outputs": [],
   "source": [
    "plot_series(mos_p_m)"
   ]
  },
  {
   "cell_type": "code",
   "execution_count": null,
   "id": "a2729aa2",
   "metadata": {},
   "outputs": [],
   "source": [
    "\n",
    "# step 1: data specification : 데이터 세팅\n",
    "y = mos_p_m\n",
    "\n",
    "# step 2: specifying forecasting horizon : 기간 설정\n",
    "### 예측 범위(2020 1월 달 => 31일)\n",
    "fh = np.arange(1, 32)\n",
    "\n",
    "# step 3: specifying the forecasting algorithm\n",
    "forecaster = NaiveForecaster(strategy=\"last\", sp=31)\n",
    "\n",
    "# step 4: fitting the forecaster\n",
    "forecaster.fit(y)\n",
    "\n",
    "# step 5: querying predictions\n",
    "y_pred_m = forecaster.predict(fh)"
   ]
  },
  {
   "cell_type": "code",
   "execution_count": null,
   "id": "2d7970e7",
   "metadata": {},
   "outputs": [],
   "source": [
    "y_pred_m"
   ]
  },
  {
   "cell_type": "code",
   "execution_count": null,
   "id": "302d0c91",
   "metadata": {},
   "outputs": [],
   "source": [
    "# 시각화\n",
    "plot_series(y, y_pred_m, labels=[\"y\", \"y_pred_m\"])"
   ]
  },
  {
   "cell_type": "markdown",
   "id": "eca2dd0a",
   "metadata": {},
   "source": [
    "### 예측 알고리즘 지정 "
   ]
  },
  {
   "cell_type": "code",
   "execution_count": null,
   "id": "ebe8db3a",
   "metadata": {},
   "outputs": [],
   "source": [
    "from sktime.forecasting.naive import NaiveForecaster\n",
    "forecaster = NaiveForecaster(strategy=\"last\")"
   ]
  },
  {
   "cell_type": "code",
   "execution_count": null,
   "id": "1bb43cee",
   "metadata": {},
   "outputs": [],
   "source": []
  },
  {
   "cell_type": "code",
   "execution_count": null,
   "id": "9c8d1090",
   "metadata": {},
   "outputs": [],
   "source": []
  },
  {
   "cell_type": "markdown",
   "id": "a8ae3bde",
   "metadata": {},
   "source": [
    "### all estimator"
   ]
  },
  {
   "cell_type": "code",
   "execution_count": null,
   "id": "531948c0",
   "metadata": {},
   "outputs": [],
   "source": [
    "from sktime.registry import all_estimators\n",
    "\n",
    "all_estimators(\n",
    "    \"forecaster\", as_dataframe=True, return_tags=[\"scitype:y\", \"requires-fh-in-fit\"]\n",
    ")"
   ]
  },
  {
   "cell_type": "code",
   "execution_count": null,
   "id": "0779bff6",
   "metadata": {},
   "outputs": [],
   "source": [
    "ㅁㄴㅇㄻㄴㅇㄹ!! 나중에 시간 많을 때 돌려보기\n",
    "\n",
    "from sktime.registry import all_estimators\n",
    "\n",
    "all_estimators(\n",
    "    \"forecaster\", as_dataframe=True, return_tags=[\"scitype:y\", \"requires-fh-in-fit\"]\n",
    ")"
   ]
  },
  {
   "cell_type": "code",
   "execution_count": null,
   "id": "250f9bdf",
   "metadata": {},
   "outputs": [],
   "source": []
  },
  {
   "cell_type": "markdown",
   "id": "a0a821b5",
   "metadata": {},
   "source": [
    "## 분류"
   ]
  },
  {
   "cell_type": "markdown",
   "id": "0cb1dabc",
   "metadata": {},
   "source": [
    "## 회귀"
   ]
  }
 ],
 "metadata": {
  "kernelspec": {
   "display_name": "Python 3 (ipykernel)",
   "language": "python",
   "name": "python3"
  },
  "language_info": {
   "codemirror_mode": {
    "name": "ipython",
    "version": 3
   },
   "file_extension": ".py",
   "mimetype": "text/x-python",
   "name": "python",
   "nbconvert_exporter": "python",
   "pygments_lexer": "ipython3",
   "version": "3.9.7"
  },
  "toc": {
   "base_numbering": 1,
   "nav_menu": {},
   "number_sections": true,
   "sideBar": true,
   "skip_h1_title": false,
   "title_cell": "Table of Contents",
   "title_sidebar": "Contents",
   "toc_cell": false,
   "toc_position": {
    "height": "476px",
    "left": "321px",
    "top": "111.136px",
    "width": "303.807px"
   },
   "toc_section_display": true,
   "toc_window_display": true
  }
 },
 "nbformat": 4,
 "nbformat_minor": 5
}
