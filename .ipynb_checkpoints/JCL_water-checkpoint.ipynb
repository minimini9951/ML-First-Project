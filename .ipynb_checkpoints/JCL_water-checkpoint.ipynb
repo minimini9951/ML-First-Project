{
 "cells": [
  {
   "cell_type": "code",
   "execution_count": 63,
   "id": "9477d9b7-ffc0-43e9-86b3-ef367e140441",
   "metadata": {
    "execution": {
     "iopub.execute_input": "2022-11-23T10:04:03.822617Z",
     "iopub.status.busy": "2022-11-23T10:04:03.822617Z",
     "iopub.status.idle": "2022-11-23T10:04:03.864079Z",
     "shell.execute_reply": "2022-11-23T10:04:03.862762Z",
     "shell.execute_reply.started": "2022-11-23T10:04:03.822617Z"
    },
    "tags": []
   },
   "outputs": [],
   "source": [
    "import numpy as np\n",
    "import pandas as pd\n",
    "import seaborn as sns\n",
    "import datetime as dt\n",
    "import matplotlib as mpl\n",
    "from scipy import interpolate\n",
    "import matplotlib.pyplot as plt\n",
    "from sklearn.model_selection import train_test_split\n",
    "import os\n",
    "os.environ[\"OMP_NUM_THREADS\"] = '1'\n",
    "\n",
    "import warnings\n",
    "warnings.simplefilter(action='ignore', category=FutureWarning)\n",
    "\n",
    "%config Completer.use_jedi = False\n",
    "%config InlineBackend.figure_format = 'retina'"
   ]
  },
  {
   "cell_type": "code",
   "execution_count": 64,
   "id": "e76412c5-c53e-43ec-b819-db96033f7702",
   "metadata": {
    "execution": {
     "iopub.execute_input": "2022-11-23T10:04:04.125317Z",
     "iopub.status.busy": "2022-11-23T10:04:04.125317Z",
     "iopub.status.idle": "2022-11-23T10:04:04.172726Z",
     "shell.execute_reply": "2022-11-23T10:04:04.172726Z",
     "shell.execute_reply.started": "2022-11-23T10:04:04.125317Z"
    },
    "tags": []
   },
   "outputs": [],
   "source": [
    "water = pd.read_csv('C:\\\\k_disital\\\\source\\\\mygit\\\\ML-First-Project\\\\data_city\\\\data_tr_city.csv')"
   ]
  },
  {
   "cell_type": "code",
   "execution_count": 65,
   "id": "100f68df-4774-4db0-b323-f6ab16b459a4",
   "metadata": {
    "execution": {
     "iopub.execute_input": "2022-11-23T10:04:05.082235Z",
     "iopub.status.busy": "2022-11-23T10:04:05.082235Z",
     "iopub.status.idle": "2022-11-23T10:04:05.106819Z",
     "shell.execute_reply": "2022-11-23T10:04:05.106819Z",
     "shell.execute_reply.started": "2022-11-23T10:04:05.082235Z"
    },
    "tags": []
   },
   "outputs": [],
   "source": [
    "water['target'] = water['구미 혁신도시배수지 유출유량 적산차']\n",
    "water = water.drop('구미 혁신도시배수지 유출유량 적산차', axis=1)"
   ]
  },
  {
   "cell_type": "code",
   "execution_count": 66,
   "id": "cdf2365a-6a1d-490e-9e68-38d8a4b22cd9",
   "metadata": {
    "execution": {
     "iopub.execute_input": "2022-11-23T10:04:05.365597Z",
     "iopub.status.busy": "2022-11-23T10:04:05.365597Z",
     "iopub.status.idle": "2022-11-23T10:04:05.429511Z",
     "shell.execute_reply": "2022-11-23T10:04:05.429511Z",
     "shell.execute_reply.started": "2022-11-23T10:04:05.365597Z"
    },
    "tags": []
   },
   "outputs": [],
   "source": [
    "water['datetime'] = water['datetime'].astype('datetime64[ns]')"
   ]
  },
  {
   "cell_type": "code",
   "execution_count": 67,
   "id": "82670422-1392-4556-92bb-c2dba3345148",
   "metadata": {
    "execution": {
     "iopub.execute_input": "2022-11-23T10:04:06.366731Z",
     "iopub.status.busy": "2022-11-23T10:04:06.366731Z",
     "iopub.status.idle": "2022-11-23T10:04:06.399032Z",
     "shell.execute_reply": "2022-11-23T10:04:06.399032Z",
     "shell.execute_reply.started": "2022-11-23T10:04:06.366731Z"
    },
    "tags": []
   },
   "outputs": [
    {
     "data": {
      "text/html": [
       "<div>\n",
       "<style scoped>\n",
       "    .dataframe tbody tr th:only-of-type {\n",
       "        vertical-align: middle;\n",
       "    }\n",
       "\n",
       "    .dataframe tbody tr th {\n",
       "        vertical-align: top;\n",
       "    }\n",
       "\n",
       "    .dataframe thead th {\n",
       "        text-align: right;\n",
       "    }\n",
       "</style>\n",
       "<table border=\"1\" class=\"dataframe\">\n",
       "  <thead>\n",
       "    <tr style=\"text-align: right;\">\n",
       "      <th></th>\n",
       "      <th>target</th>\n",
       "    </tr>\n",
       "    <tr>\n",
       "      <th>datetime</th>\n",
       "      <th></th>\n",
       "    </tr>\n",
       "  </thead>\n",
       "  <tbody>\n",
       "    <tr>\n",
       "      <th>2017-01-01 01:00:00</th>\n",
       "      <td>138.0</td>\n",
       "    </tr>\n",
       "    <tr>\n",
       "      <th>2017-01-01 02:00:00</th>\n",
       "      <td>237.0</td>\n",
       "    </tr>\n",
       "    <tr>\n",
       "      <th>2017-01-01 03:00:00</th>\n",
       "      <td>128.0</td>\n",
       "    </tr>\n",
       "    <tr>\n",
       "      <th>2017-01-01 04:00:00</th>\n",
       "      <td>14.0</td>\n",
       "    </tr>\n",
       "    <tr>\n",
       "      <th>2017-01-01 05:00:00</th>\n",
       "      <td>11.0</td>\n",
       "    </tr>\n",
       "    <tr>\n",
       "      <th>...</th>\n",
       "      <td>...</td>\n",
       "    </tr>\n",
       "    <tr>\n",
       "      <th>2020-12-31 19:00:00</th>\n",
       "      <td>328.0</td>\n",
       "    </tr>\n",
       "    <tr>\n",
       "      <th>2020-12-31 20:00:00</th>\n",
       "      <td>347.0</td>\n",
       "    </tr>\n",
       "    <tr>\n",
       "      <th>2020-12-31 21:00:00</th>\n",
       "      <td>335.0</td>\n",
       "    </tr>\n",
       "    <tr>\n",
       "      <th>2020-12-31 22:00:00</th>\n",
       "      <td>141.0</td>\n",
       "    </tr>\n",
       "    <tr>\n",
       "      <th>2020-12-31 23:00:00</th>\n",
       "      <td>112.0</td>\n",
       "    </tr>\n",
       "  </tbody>\n",
       "</table>\n",
       "<p>35063 rows × 1 columns</p>\n",
       "</div>"
      ],
      "text/plain": [
       "                     target\n",
       "datetime                   \n",
       "2017-01-01 01:00:00   138.0\n",
       "2017-01-01 02:00:00   237.0\n",
       "2017-01-01 03:00:00   128.0\n",
       "2017-01-01 04:00:00    14.0\n",
       "2017-01-01 05:00:00    11.0\n",
       "...                     ...\n",
       "2020-12-31 19:00:00   328.0\n",
       "2020-12-31 20:00:00   347.0\n",
       "2020-12-31 21:00:00   335.0\n",
       "2020-12-31 22:00:00   141.0\n",
       "2020-12-31 23:00:00   112.0\n",
       "\n",
       "[35063 rows x 1 columns]"
      ]
     },
     "execution_count": 67,
     "metadata": {},
     "output_type": "execute_result"
    }
   ],
   "source": [
    "water = water.set_index('datetime')\n",
    "water"
   ]
  },
  {
   "cell_type": "code",
   "execution_count": 68,
   "id": "019f8a62-6bc8-43b2-899f-ff0732e8a79f",
   "metadata": {
    "execution": {
     "iopub.execute_input": "2022-11-23T10:04:07.390435Z",
     "iopub.status.busy": "2022-11-23T10:04:07.390435Z",
     "iopub.status.idle": "2022-11-23T10:04:07.414814Z",
     "shell.execute_reply": "2022-11-23T10:04:07.414814Z",
     "shell.execute_reply.started": "2022-11-23T10:04:07.390435Z"
    },
    "tags": []
   },
   "outputs": [],
   "source": [
    "water.index = water.index.to_period('h')"
   ]
  },
  {
   "cell_type": "code",
   "execution_count": 69,
   "id": "ae44b394-eba3-409c-add9-979d12e862b3",
   "metadata": {
    "execution": {
     "iopub.execute_input": "2022-11-23T10:04:07.603527Z",
     "iopub.status.busy": "2022-11-23T10:04:07.603527Z",
     "iopub.status.idle": "2022-11-23T10:04:07.627533Z",
     "shell.execute_reply": "2022-11-23T10:04:07.627533Z",
     "shell.execute_reply.started": "2022-11-23T10:04:07.603527Z"
    },
    "tags": []
   },
   "outputs": [
    {
     "data": {
      "text/plain": [
       "PeriodIndex(['2017-01-01 01:00', '2017-01-01 02:00', '2017-01-01 03:00',\n",
       "             '2017-01-01 04:00', '2017-01-01 05:00', '2017-01-01 06:00',\n",
       "             '2017-01-01 07:00', '2017-01-01 08:00', '2017-01-01 09:00',\n",
       "             '2017-01-01 10:00',\n",
       "             ...\n",
       "             '2020-12-31 14:00', '2020-12-31 15:00', '2020-12-31 16:00',\n",
       "             '2020-12-31 17:00', '2020-12-31 18:00', '2020-12-31 19:00',\n",
       "             '2020-12-31 20:00', '2020-12-31 21:00', '2020-12-31 22:00',\n",
       "             '2020-12-31 23:00'],\n",
       "            dtype='period[H]', name='datetime', length=35063)"
      ]
     },
     "execution_count": 69,
     "metadata": {},
     "output_type": "execute_result"
    }
   ],
   "source": [
    "water.index"
   ]
  },
  {
   "cell_type": "code",
   "execution_count": 70,
   "id": "0f3ad629-bded-4687-83b9-b06fba66e8ff",
   "metadata": {
    "execution": {
     "iopub.execute_input": "2022-11-23T10:04:08.561352Z",
     "iopub.status.busy": "2022-11-23T10:04:08.561352Z",
     "iopub.status.idle": "2022-11-23T10:04:08.981961Z",
     "shell.execute_reply": "2022-11-23T10:04:08.981961Z",
     "shell.execute_reply.started": "2022-11-23T10:04:08.561352Z"
    },
    "tags": []
   },
   "outputs": [
    {
     "data": {
      "text/plain": [
       "<AxesSubplot:xlabel='datetime'>"
      ]
     },
     "execution_count": 70,
     "metadata": {},
     "output_type": "execute_result"
    },
    {
     "data": {
      "image/png": "[encoded data removed]",
      "text/plain": [
       "<Figure size 432x288 with 1 Axes>"
      ]
     },
     "metadata": {
      "image/png": {
       "height": 272,
       "width": 370
      },
      "needs_background": "light"
     },
     "output_type": "display_data"
    }
   ],
   "source": [
    "water.target.plot()"
   ]
  },
  {
   "cell_type": "code",
   "execution_count": 71,
   "id": "e7817c90-2ffe-425a-a0ec-0aad4e212fb3",
   "metadata": {
    "execution": {
     "iopub.execute_input": "2022-11-23T10:04:09.555259Z",
     "iopub.status.busy": "2022-11-23T10:04:09.555259Z",
     "iopub.status.idle": "2022-11-23T10:04:09.589856Z",
     "shell.execute_reply": "2022-11-23T10:04:09.589856Z",
     "shell.execute_reply.started": "2022-11-23T10:04:09.555259Z"
    },
    "tags": []
   },
   "outputs": [
    {
     "data": {
      "text/html": [
       "<div>\n",
       "<style scoped>\n",
       "    .dataframe tbody tr th:only-of-type {\n",
       "        vertical-align: middle;\n",
       "    }\n",
       "\n",
       "    .dataframe tbody tr th {\n",
       "        vertical-align: top;\n",
       "    }\n",
       "\n",
       "    .dataframe thead th {\n",
       "        text-align: right;\n",
       "    }\n",
       "</style>\n",
       "<table border=\"1\" class=\"dataframe\">\n",
       "  <thead>\n",
       "    <tr style=\"text-align: right;\">\n",
       "      <th></th>\n",
       "      <th>target</th>\n",
       "    </tr>\n",
       "    <tr>\n",
       "      <th>datetime</th>\n",
       "      <th></th>\n",
       "    </tr>\n",
       "  </thead>\n",
       "  <tbody>\n",
       "    <tr>\n",
       "      <th>2018-05-15 20:00</th>\n",
       "      <td>4720655.0</td>\n",
       "    </tr>\n",
       "    <tr>\n",
       "      <th>2017-05-27 10:00</th>\n",
       "      <td>4999.0</td>\n",
       "    </tr>\n",
       "    <tr>\n",
       "      <th>2017-05-28 06:00</th>\n",
       "      <td>3357.0</td>\n",
       "    </tr>\n",
       "    <tr>\n",
       "      <th>2017-05-31 08:00</th>\n",
       "      <td>2591.0</td>\n",
       "    </tr>\n",
       "    <tr>\n",
       "      <th>2017-05-28 15:00</th>\n",
       "      <td>2550.0</td>\n",
       "    </tr>\n",
       "    <tr>\n",
       "      <th>...</th>\n",
       "      <td>...</td>\n",
       "    </tr>\n",
       "    <tr>\n",
       "      <th>2018-06-14 22:00</th>\n",
       "      <td>NaN</td>\n",
       "    </tr>\n",
       "    <tr>\n",
       "      <th>2018-07-04 12:00</th>\n",
       "      <td>NaN</td>\n",
       "    </tr>\n",
       "    <tr>\n",
       "      <th>2018-07-06 11:00</th>\n",
       "      <td>NaN</td>\n",
       "    </tr>\n",
       "    <tr>\n",
       "      <th>2020-02-10 14:00</th>\n",
       "      <td>NaN</td>\n",
       "    </tr>\n",
       "    <tr>\n",
       "      <th>2020-02-10 15:00</th>\n",
       "      <td>NaN</td>\n",
       "    </tr>\n",
       "  </tbody>\n",
       "</table>\n",
       "<p>35063 rows × 1 columns</p>\n",
       "</div>"
      ],
      "text/plain": [
       "                     target\n",
       "datetime                   \n",
       "2018-05-15 20:00  4720655.0\n",
       "2017-05-27 10:00     4999.0\n",
       "2017-05-28 06:00     3357.0\n",
       "2017-05-31 08:00     2591.0\n",
       "2017-05-28 15:00     2550.0\n",
       "...                     ...\n",
       "2018-06-14 22:00        NaN\n",
       "2018-07-04 12:00        NaN\n",
       "2018-07-06 11:00        NaN\n",
       "2020-02-10 14:00        NaN\n",
       "2020-02-10 15:00        NaN\n",
       "\n",
       "[35063 rows x 1 columns]"
      ]
     },
     "execution_count": 71,
     "metadata": {},
     "output_type": "execute_result"
    }
   ],
   "source": [
    "water.sort_values(by='target', ascending=False)"
   ]
  },
  {
   "cell_type": "code",
   "execution_count": 72,
   "id": "039048b9-4d8e-4afa-8f5d-8994e2bdbff8",
   "metadata": {
    "execution": {
     "iopub.execute_input": "2022-11-23T10:04:09.782386Z",
     "iopub.status.busy": "2022-11-23T10:04:09.782386Z",
     "iopub.status.idle": "2022-11-23T10:04:09.798452Z",
     "shell.execute_reply": "2022-11-23T10:04:09.798452Z",
     "shell.execute_reply.started": "2022-11-23T10:04:09.782386Z"
    },
    "tags": []
   },
   "outputs": [],
   "source": [
    "water.target = water.target.round(0)"
   ]
  },
  {
   "cell_type": "code",
   "execution_count": 73,
   "id": "d0a6ee58-74d0-41b3-9d30-c3904cc7100b",
   "metadata": {
    "execution": {
     "iopub.execute_input": "2022-11-23T10:04:11.200064Z",
     "iopub.status.busy": "2022-11-23T10:04:11.200064Z",
     "iopub.status.idle": "2022-11-23T10:04:11.223820Z",
     "shell.execute_reply": "2022-11-23T10:04:11.223820Z",
     "shell.execute_reply.started": "2022-11-23T10:04:11.200064Z"
    },
    "tags": []
   },
   "outputs": [],
   "source": [
    "water.target.replace(np.NaN, 0, inplace=True)"
   ]
  },
  {
   "cell_type": "code",
   "execution_count": 74,
   "id": "60418fa9-8f69-4a5a-92a3-17de55fccd5c",
   "metadata": {
    "execution": {
     "iopub.execute_input": "2022-11-23T10:04:11.383846Z",
     "iopub.status.busy": "2022-11-23T10:04:11.383846Z",
     "iopub.status.idle": "2022-11-23T10:04:11.399554Z",
     "shell.execute_reply": "2022-11-23T10:04:11.399554Z",
     "shell.execute_reply.started": "2022-11-23T10:04:11.383846Z"
    },
    "tags": []
   },
   "outputs": [],
   "source": [
    "water[water.target == water.target.max()] = 0"
   ]
  },
  {
   "cell_type": "code",
   "execution_count": 75,
   "id": "02284c10-1a83-449b-93a4-06b748fb8807",
   "metadata": {
    "execution": {
     "iopub.execute_input": "2022-11-23T10:04:11.567455Z",
     "iopub.status.busy": "2022-11-23T10:04:11.567455Z",
     "iopub.status.idle": "2022-11-23T10:04:11.591420Z",
     "shell.execute_reply": "2022-11-23T10:04:11.591420Z",
     "shell.execute_reply.started": "2022-11-23T10:04:11.567455Z"
    },
    "tags": []
   },
   "outputs": [],
   "source": [
    "for i in range(2):\n",
    "    water[water.target == water.target.min()] = 0"
   ]
  },
  {
   "cell_type": "code",
   "execution_count": 76,
   "id": "9239d35d-b97b-4f0a-8874-7d7a43af1d32",
   "metadata": {
    "execution": {
     "iopub.execute_input": "2022-11-23T10:04:11.825598Z",
     "iopub.status.busy": "2022-11-23T10:04:11.825598Z",
     "iopub.status.idle": "2022-11-23T10:04:12.659957Z",
     "shell.execute_reply": "2022-11-23T10:04:12.657180Z",
     "shell.execute_reply.started": "2022-11-23T10:04:11.825598Z"
    },
    "tags": []
   },
   "outputs": [
    {
     "data": {
      "text/plain": [
       "<AxesSubplot:xlabel='datetime'>"
      ]
     },
     "execution_count": 76,
     "metadata": {},
     "output_type": "execute_result"
    },
    {
     "data": {
      "image/png": "[encoded data removed]",
      "text/plain": [
       "<Figure size 432x288 with 1 Axes>"
      ]
     },
     "metadata": {
      "image/png": {
       "height": 261,
       "width": 381
      },
      "needs_background": "light"
     },
     "output_type": "display_data"
    }
   ],
   "source": [
    "water.plot()"
   ]
  },
  {
   "cell_type": "code",
   "execution_count": 77,
   "id": "cc0dc988-7ac9-473b-9dd6-90c6e9847bff",
   "metadata": {
    "execution": {
     "iopub.execute_input": "2022-11-23T10:04:13.339633Z",
     "iopub.status.busy": "2022-11-23T10:04:13.339633Z",
     "iopub.status.idle": "2022-11-23T10:04:13.387492Z",
     "shell.execute_reply": "2022-11-23T10:04:13.386100Z",
     "shell.execute_reply.started": "2022-11-23T10:04:13.339633Z"
    },
    "tags": []
   },
   "outputs": [
    {
     "data": {
      "text/html": [
       "<div>\n",
       "<style scoped>\n",
       "    .dataframe tbody tr th:only-of-type {\n",
       "        vertical-align: middle;\n",
       "    }\n",
       "\n",
       "    .dataframe tbody tr th {\n",
       "        vertical-align: top;\n",
       "    }\n",
       "\n",
       "    .dataframe thead th {\n",
       "        text-align: right;\n",
       "    }\n",
       "</style>\n",
       "<table border=\"1\" class=\"dataframe\">\n",
       "  <thead>\n",
       "    <tr style=\"text-align: right;\">\n",
       "      <th></th>\n",
       "      <th>target</th>\n",
       "    </tr>\n",
       "    <tr>\n",
       "      <th>datetime</th>\n",
       "      <th></th>\n",
       "    </tr>\n",
       "  </thead>\n",
       "  <tbody>\n",
       "    <tr>\n",
       "      <th>2017-05-23 16:00</th>\n",
       "      <td>0.0</td>\n",
       "    </tr>\n",
       "    <tr>\n",
       "      <th>2017-05-23 18:00</th>\n",
       "      <td>0.0</td>\n",
       "    </tr>\n",
       "    <tr>\n",
       "      <th>2017-05-23 23:00</th>\n",
       "      <td>0.0</td>\n",
       "    </tr>\n",
       "    <tr>\n",
       "      <th>2017-05-24 21:00</th>\n",
       "      <td>0.0</td>\n",
       "    </tr>\n",
       "    <tr>\n",
       "      <th>2017-05-25 00:00</th>\n",
       "      <td>0.0</td>\n",
       "    </tr>\n",
       "    <tr>\n",
       "      <th>...</th>\n",
       "      <td>...</td>\n",
       "    </tr>\n",
       "    <tr>\n",
       "      <th>2017-05-31 03:00</th>\n",
       "      <td>0.0</td>\n",
       "    </tr>\n",
       "    <tr>\n",
       "      <th>2017-05-31 04:00</th>\n",
       "      <td>0.0</td>\n",
       "    </tr>\n",
       "    <tr>\n",
       "      <th>2017-05-31 05:00</th>\n",
       "      <td>0.0</td>\n",
       "    </tr>\n",
       "    <tr>\n",
       "      <th>2017-05-31 06:00</th>\n",
       "      <td>0.0</td>\n",
       "    </tr>\n",
       "    <tr>\n",
       "      <th>2017-05-31 07:00</th>\n",
       "      <td>0.0</td>\n",
       "    </tr>\n",
       "  </tbody>\n",
       "</table>\n",
       "<p>105 rows × 1 columns</p>\n",
       "</div>"
      ],
      "text/plain": [
       "                  target\n",
       "datetime                \n",
       "2017-05-23 16:00     0.0\n",
       "2017-05-23 18:00     0.0\n",
       "2017-05-23 23:00     0.0\n",
       "2017-05-24 21:00     0.0\n",
       "2017-05-25 00:00     0.0\n",
       "...                  ...\n",
       "2017-05-31 03:00     0.0\n",
       "2017-05-31 04:00     0.0\n",
       "2017-05-31 05:00     0.0\n",
       "2017-05-31 06:00     0.0\n",
       "2017-05-31 07:00     0.0\n",
       "\n",
       "[105 rows x 1 columns]"
      ]
     },
     "execution_count": 77,
     "metadata": {},
     "output_type": "execute_result"
    }
   ],
   "source": [
    "water[(water.index.year == 2017) & (water.index.month == 5) & (water.target == 0)]"
   ]
  },
  {
   "cell_type": "markdown",
   "id": "fea95c22-47b6-4f11-bcbc-2358c2e10e5c",
   "metadata": {},
   "source": [
    "### 5월 23, 24일 결측치처리 - 진행중"
   ]
  },
  {
   "cell_type": "code",
   "execution_count": 16,
   "id": "0355302a-a5a7-42cb-8125-5d259230df66",
   "metadata": {
    "execution": {
     "iopub.execute_input": "2022-11-23T08:33:22.972184Z",
     "iopub.status.busy": "2022-11-23T08:33:22.972184Z",
     "iopub.status.idle": "2022-11-23T08:33:23.017158Z",
     "shell.execute_reply": "2022-11-23T08:33:23.015455Z",
     "shell.execute_reply.started": "2022-11-23T08:33:22.972184Z"
    },
    "tags": []
   },
   "outputs": [
    {
     "name": "stdout",
     "output_type": "stream",
     "text": [
      "                  target\n",
      "datetime                \n",
      "2017-05-23 14:00   684.0\n",
      "2017-05-23 15:00   104.0\n",
      "2017-05-23 16:00     0.0\n",
      "2017-05-23 17:00   664.0\n",
      "2017-05-23 18:00     0.0\n",
      "2017-05-23 19:00   366.0\n",
      "2017-05-23 20:00    56.0\n",
      "2017-05-23 21:00   234.0\n",
      "2017-05-23 22:00   486.0\n",
      "2017-05-23 23:00     0.0\n",
      "2017-05-24 14:00   303.0\n",
      "2017-05-24 15:00   366.0\n",
      "2017-05-24 16:00   154.0\n",
      "2017-05-24 17:00   129.0\n",
      "2017-05-24 18:00   171.0\n",
      "2017-05-24 19:00   344.0\n",
      "2017-05-24 20:00   175.0\n",
      "2017-05-24 21:00     0.0\n",
      "2017-05-24 22:00   670.0\n",
      "2017-05-24 23:00   151.0\n"
     ]
    }
   ],
   "source": [
    "print(water[(water.index.year == 2017) & (water.index.month == 5) & (\n",
    "    water.index.day >= 23) & (water.index.day <= 24) & (water.index.hour >= 14)])"
   ]
  },
  {
   "cell_type": "code",
   "execution_count": 356,
   "id": "e691812b-f795-436d-9a18-2602491094dc",
   "metadata": {
    "execution": {
     "iopub.execute_input": "2022-11-23T06:52:14.557743Z",
     "iopub.status.busy": "2022-11-23T06:52:14.557743Z",
     "iopub.status.idle": "2022-11-23T06:52:14.620437Z",
     "shell.execute_reply": "2022-11-23T06:52:14.618392Z",
     "shell.execute_reply.started": "2022-11-23T06:52:14.557743Z"
    },
    "tags": []
   },
   "outputs": [
    {
     "name": "stdout",
     "output_type": "stream",
     "text": [
      "                  target\n",
      "datetime                \n",
      "2017-05-23 15:00   104.0\n",
      "2017-05-23 16:00     0.0\n",
      "2017-05-23 17:00   664.0\n",
      "2018-05-23 15:00   227.0\n",
      "2018-05-23 16:00   133.0\n",
      "2018-05-23 17:00   402.0\n",
      "2019-05-23 15:00    84.0\n",
      "2019-05-23 16:00   228.0\n",
      "2019-05-23 17:00   346.0\n",
      "2020-05-23 15:00   456.0\n",
      "2020-05-23 16:00   260.0\n",
      "2020-05-23 17:00   147.0\n"
     ]
    }
   ],
   "source": [
    "print(water[(water.index.month == 5) & (\n",
    "    water.index.day >= 23) & (water.index.day < 24) & (\n",
    "    water.index.hour >= 15) & (water.index.hour <= 17)])"
   ]
  },
  {
   "cell_type": "code",
   "execution_count": null,
   "id": "6c13e242-76c6-4dd8-a1fa-9186faf803bd",
   "metadata": {
    "execution": {
     "iopub.execute_input": "2022-11-22T00:09:38.015939Z",
     "iopub.status.busy": "2022-11-22T00:09:38.014937Z",
     "iopub.status.idle": "2022-11-22T00:09:38.035662Z",
     "shell.execute_reply": "2022-11-22T00:09:38.034757Z",
     "shell.execute_reply.started": "2022-11-22T00:09:38.015939Z"
    },
    "tags": []
   },
   "outputs": [],
   "source": [
    "filled = water.target[(water.index.year == 2017) & (water.index.month == 5) & (\n",
    "    water.index.day >= 23) & (water.index.day < 24) & (\n",
    "    water.index.hour >= 15) & (water.index.hour <= 17)].sum()\n",
    "fill = water.target[(water.index.year == 2019) & (water.index.month == 5) & (\n",
    "    water.index.day >= 23) & (water.index.day < 24) & (\n",
    "    water.index.hour >= 15) & (water.index.hour <= 17)].sum()"
   ]
  },
  {
   "cell_type": "code",
   "execution_count": null,
   "id": "00f5daf1-99e8-46df-b3bd-170a7102add6",
   "metadata": {
    "execution": {
     "iopub.execute_input": "2022-11-22T00:09:39.481691Z",
     "iopub.status.busy": "2022-11-22T00:09:39.480692Z",
     "iopub.status.idle": "2022-11-22T00:09:39.494723Z",
     "shell.execute_reply": "2022-11-22T00:09:39.493715Z",
     "shell.execute_reply.started": "2022-11-22T00:09:39.481691Z"
    },
    "tags": []
   },
   "outputs": [
    {
     "name": "stdout",
     "output_type": "stream",
     "text": [
      "1.17\n"
     ]
    }
   ],
   "source": [
    "print((filled / fill).round(2))"
   ]
  },
  {
   "cell_type": "code",
   "execution_count": null,
   "id": "08fd44f3-e82c-4fb8-b00c-ee7a8aad622a",
   "metadata": {
    "execution": {
     "iopub.execute_input": "2022-11-22T00:09:44.178277Z",
     "iopub.status.busy": "2022-11-22T00:09:44.178277Z",
     "iopub.status.idle": "2022-11-22T00:09:44.188275Z",
     "shell.execute_reply": "2022-11-22T00:09:44.188275Z",
     "shell.execute_reply.started": "2022-11-22T00:09:44.178277Z"
    },
    "tags": []
   },
   "outputs": [],
   "source": [
    "water[water.index == '2017-05-23 16:00'] = water.target[water.index == '2019-05-23 16:00'] * 1.17\n",
    "water[water.index == '2017-05-23 17:00'] = water.target[water.index == '2019-05-23 17:00'] * 1.17"
   ]
  },
  {
   "cell_type": "code",
   "execution_count": null,
   "id": "1f9f5542-474a-4bb6-8526-15ee096fa1c1",
   "metadata": {
    "execution": {
     "iopub.execute_input": "2022-11-22T01:17:26.784071Z",
     "iopub.status.busy": "2022-11-22T01:17:26.784071Z",
     "iopub.status.idle": "2022-11-22T01:17:26.803256Z",
     "shell.execute_reply": "2022-11-22T01:17:26.802260Z",
     "shell.execute_reply.started": "2022-11-22T01:17:26.784071Z"
    },
    "tags": []
   },
   "outputs": [
    {
     "name": "stdout",
     "output_type": "stream",
     "text": [
      "                  target\n",
      "datetime                \n",
      "2017-05-23 17:00  404.82\n",
      "2017-05-23 18:00  158.76\n",
      "2017-05-23 19:00  366.00\n",
      "2018-05-23 17:00  402.00\n",
      "2018-05-23 18:00  179.00\n",
      "2018-05-23 19:00  369.00\n",
      "2019-05-23 17:00  346.00\n",
      "2019-05-23 18:00  145.00\n",
      "2019-05-23 19:00  319.00\n",
      "2020-05-23 17:00  147.00\n",
      "2020-05-23 18:00  293.00\n",
      "2020-05-23 19:00  520.00\n"
     ]
    }
   ],
   "source": [
    "print(water[(water.index.month == 5) & (\n",
    "    water.index.day >= 23) & (water.index.day < 24) & (water.index.hour >= 17) & (water.index.hour <= 19)])"
   ]
  },
  {
   "cell_type": "code",
   "execution_count": 69,
   "id": "dce5e78b-b80f-456c-81cc-2820456a6153",
   "metadata": {
    "execution": {
     "iopub.execute_input": "2022-11-22T01:16:07.605285Z",
     "iopub.status.busy": "2022-11-22T01:16:07.605285Z",
     "iopub.status.idle": "2022-11-22T01:16:07.671833Z",
     "shell.execute_reply": "2022-11-22T01:16:07.671261Z",
     "shell.execute_reply.started": "2022-11-22T01:16:07.605285Z"
    },
    "tags": []
   },
   "outputs": [],
   "source": [
    "filled = water.target[(water.index.year == 2017) & (water.index.month == 5) & (\n",
    "    water.index.day >= 23) & (water.index.day < 24) & (\n",
    "    water.index.hour > 17) & (water.index.hour < 19)].sum()\n",
    "fill_1 = water.target[(water.index.year == 2018) & (water.index.month == 5) & (\n",
    "    water.index.day >= 23) & (water.index.day < 24) & (\n",
    "    water.index.hour > 17) & (water.index.hour < 19)].sum()\n",
    "fill_2 = water.target[(water.index.year == 2019) & (water.index.month == 5) & (\n",
    "    water.index.day >= 23) & (water.index.day < 24) & (\n",
    "    water.index.hour > 17) & (water.index.hour < 19)].sum()"
   ]
  },
  {
   "cell_type": "code",
   "execution_count": 70,
   "id": "67a2bd95-3bfb-4631-b9d5-d316672f6294",
   "metadata": {
    "execution": {
     "iopub.execute_input": "2022-11-22T01:16:09.152737Z",
     "iopub.status.busy": "2022-11-22T01:16:09.152737Z",
     "iopub.status.idle": "2022-11-22T01:16:09.159738Z",
     "shell.execute_reply": "2022-11-22T01:16:09.158745Z",
     "shell.execute_reply.started": "2022-11-22T01:16:09.152737Z"
    },
    "tags": []
   },
   "outputs": [],
   "source": [
    "tot_fill = (fill_1+fill_2)/2\n",
    "tot_fill = (filled/tot_fill).round(2)"
   ]
  },
  {
   "cell_type": "code",
   "execution_count": 229,
   "id": "7789d7ec-075f-4a56-a332-371a89e62c92",
   "metadata": {
    "execution": {
     "iopub.execute_input": "2022-11-22T03:23:48.766372Z",
     "iopub.status.busy": "2022-11-22T03:23:48.766372Z",
     "iopub.status.idle": "2022-11-22T03:23:48.777642Z",
     "shell.execute_reply": "2022-11-22T03:23:48.777642Z",
     "shell.execute_reply.started": "2022-11-22T03:23:48.766372Z"
    },
    "tags": []
   },
   "outputs": [
    {
     "data": {
      "text/plain": [
       "162.0"
      ]
     },
     "execution_count": 229,
     "metadata": {},
     "output_type": "execute_result"
    }
   ],
   "source": [
    "(water.target[water.index == '2018-05-23 18:00'][0] + water.target[\n",
    "    water.index == '2019-05-23 18:00'][0])/2"
   ]
  },
  {
   "cell_type": "code",
   "execution_count": 75,
   "id": "46183990-925d-4b9c-92d6-5b69965b9443",
   "metadata": {
    "execution": {
     "iopub.execute_input": "2022-11-22T01:17:24.598792Z",
     "iopub.status.busy": "2022-11-22T01:17:24.598792Z",
     "iopub.status.idle": "2022-11-22T01:17:24.610757Z",
     "shell.execute_reply": "2022-11-22T01:17:24.609747Z",
     "shell.execute_reply.started": "2022-11-22T01:17:24.598792Z"
    },
    "tags": []
   },
   "outputs": [],
   "source": [
    "water[water.index == '2017-05-23 18:00'] = ((\n",
    "    water.target[water.index == '2018-05-23 18:00'][0] + water.target[\n",
    "        water.index == '2019-05-23 18:00'][0]) / 2) * 0.98"
   ]
  },
  {
   "cell_type": "code",
   "execution_count": 83,
   "id": "0508a8a8-0f7a-4fa1-9305-5eb63e7a4ee6",
   "metadata": {
    "execution": {
     "iopub.execute_input": "2022-11-22T01:29:24.331178Z",
     "iopub.status.busy": "2022-11-22T01:29:24.331178Z",
     "iopub.status.idle": "2022-11-22T01:29:24.363813Z",
     "shell.execute_reply": "2022-11-22T01:29:24.363442Z",
     "shell.execute_reply.started": "2022-11-22T01:29:24.331178Z"
    },
    "tags": []
   },
   "outputs": [
    {
     "name": "stdout",
     "output_type": "stream",
     "text": [
      "                  target\n",
      "datetime                \n",
      "2017-05-23 22:00   486.0\n",
      "2017-05-23 23:00   519.4\n",
      "2018-05-23 22:00   364.0\n",
      "2018-05-23 23:00   490.0\n",
      "2019-05-23 22:00   475.0\n",
      "2019-05-23 23:00   459.0\n",
      "2020-05-23 22:00   307.0\n",
      "2020-05-23 23:00   132.0\n",
      "                  target\n",
      "datetime                \n",
      "2017-05-24 00:00   249.1\n",
      "2017-05-24 01:00   107.0\n",
      "2018-05-24 00:00   235.0\n",
      "2018-05-24 01:00   153.0\n",
      "2019-05-24 00:00   390.0\n",
      "2019-05-24 01:00   102.0\n",
      "2020-05-24 00:00   198.0\n",
      "2020-05-24 01:00   414.0\n"
     ]
    }
   ],
   "source": [
    "print(water[(water.index.month == 5) & (\n",
    "    water.index.day >= 23) & (water.index.day < 24) & (water.index.hour >= 22)])\n",
    "print(water[(water.index.month == 5) & (\n",
    "    water.index.day >= 24) & (water.index.day <= 24) & (water.index.hour <= 1)])"
   ]
  },
  {
   "cell_type": "code",
   "execution_count": 78,
   "id": "25d85638-247b-4b38-8ff3-6842fe24094b",
   "metadata": {
    "execution": {
     "iopub.execute_input": "2022-11-22T01:26:02.462873Z",
     "iopub.status.busy": "2022-11-22T01:26:02.462873Z",
     "iopub.status.idle": "2022-11-22T01:26:02.498429Z",
     "shell.execute_reply": "2022-11-22T01:26:02.497916Z",
     "shell.execute_reply.started": "2022-11-22T01:26:02.462873Z"
    },
    "tags": []
   },
   "outputs": [],
   "source": [
    "filled = (water.target[(water.index.year == 2017) & (water.index.month == 5) & (\n",
    "    water.index.day >= 23) & (water.index.day < 24) & (\n",
    "    water.index.hour >= 22)].sum() + water.target[\n",
    "    (water.index.year == 2017) & (water.index.month == 5) & (\n",
    "        water.index.day >= 24) & (water.index.day <= 24) & (\n",
    "        water.index.hour <= 1)].sum())/2"
   ]
  },
  {
   "cell_type": "code",
   "execution_count": 79,
   "id": "2d931b9f-544f-4af0-9927-3d70a9bd2331",
   "metadata": {
    "execution": {
     "iopub.execute_input": "2022-11-22T01:26:03.848365Z",
     "iopub.status.busy": "2022-11-22T01:26:03.848365Z",
     "iopub.status.idle": "2022-11-22T01:26:03.873447Z",
     "shell.execute_reply": "2022-11-22T01:26:03.873447Z",
     "shell.execute_reply.started": "2022-11-22T01:26:03.848365Z"
    },
    "tags": []
   },
   "outputs": [],
   "source": [
    "fill = (water.target[(water.index.year == 2018) & (water.index.month == 5) & (\n",
    "    water.index.day >= 23) & (water.index.day < 24) & (\n",
    "    water.index.hour >= 22)].sum() + water.target[\n",
    "    (water.index.year == 2018) & (water.index.month == 5) & (\n",
    "        water.index.day >= 24) & (water.index.day <= 24) & (\n",
    "        water.index.hour <= 1)].sum())/2"
   ]
  },
  {
   "cell_type": "code",
   "execution_count": 81,
   "id": "4f187b7e-737f-4c16-b839-97b76d0b7062",
   "metadata": {
    "execution": {
     "iopub.execute_input": "2022-11-22T01:26:38.830106Z",
     "iopub.status.busy": "2022-11-22T01:26:38.830106Z",
     "iopub.status.idle": "2022-11-22T01:26:38.844864Z",
     "shell.execute_reply": "2022-11-22T01:26:38.843863Z",
     "shell.execute_reply.started": "2022-11-22T01:26:38.830106Z"
    },
    "tags": []
   },
   "outputs": [],
   "source": [
    "tot_fill = ((filled / fill).round(2))"
   ]
  },
  {
   "cell_type": "code",
   "execution_count": 82,
   "id": "43c0d68d-adea-45ce-990f-23b884b25c8d",
   "metadata": {
    "execution": {
     "iopub.execute_input": "2022-11-22T01:29:20.886004Z",
     "iopub.status.busy": "2022-11-22T01:29:20.886004Z",
     "iopub.status.idle": "2022-11-22T01:29:20.903229Z",
     "shell.execute_reply": "2022-11-22T01:29:20.902870Z",
     "shell.execute_reply.started": "2022-11-22T01:29:20.886004Z"
    },
    "tags": []
   },
   "outputs": [],
   "source": [
    "water[water.index == '2017-05-23 23:00'] = water.target[water.index == '2018-05-23 23:00'] * tot_fill\n",
    "water[water.index == '2017-05-24 00:00'] = water.target[water.index == '2018-05-24 00:00'] * tot_fill"
   ]
  },
  {
   "cell_type": "code",
   "execution_count": 87,
   "id": "fa55f9ed-caa2-4e17-b6f8-56b9c9a5e292",
   "metadata": {
    "execution": {
     "iopub.execute_input": "2022-11-22T01:34:45.138977Z",
     "iopub.status.busy": "2022-11-22T01:34:45.138977Z",
     "iopub.status.idle": "2022-11-22T01:34:45.159001Z",
     "shell.execute_reply": "2022-11-22T01:34:45.157982Z",
     "shell.execute_reply.started": "2022-11-22T01:34:45.138977Z"
    },
    "tags": []
   },
   "outputs": [
    {
     "name": "stdout",
     "output_type": "stream",
     "text": [
      "                  target\n",
      "datetime                \n",
      "2017-05-24 20:00   175.0\n",
      "2017-05-24 21:00     NaN\n",
      "2017-05-24 22:00   670.0\n",
      "2018-05-24 20:00   341.0\n",
      "2018-05-24 21:00   313.0\n",
      "2018-05-24 22:00   190.0\n",
      "2019-05-24 20:00   459.0\n",
      "2019-05-24 21:00   204.0\n",
      "2019-05-24 22:00   332.0\n",
      "2020-05-24 20:00   415.0\n",
      "2020-05-24 21:00   357.0\n",
      "2020-05-24 22:00   437.0\n"
     ]
    }
   ],
   "source": [
    "print(water[(water.index.month == 5) & (\n",
    "    water.index.day >= 24) & (water.index.day < 25) & (water.index.hour >= 20) & (water.index.hour <= 22)])"
   ]
  },
  {
   "cell_type": "code",
   "execution_count": 123,
   "id": "fa3b5481-3cb6-4ad2-b567-fb4d545beb69",
   "metadata": {
    "execution": {
     "iopub.execute_input": "2022-11-23T02:28:38.067165Z",
     "iopub.status.busy": "2022-11-23T02:28:38.067165Z",
     "iopub.status.idle": "2022-11-23T02:28:40.173764Z",
     "shell.execute_reply": "2022-11-23T02:28:40.173366Z",
     "shell.execute_reply.started": "2022-11-23T02:28:38.067165Z"
    },
    "tags": []
   },
   "outputs": [
    {
     "data": {
      "text/plain": [
       "<AxesSubplot:xlabel='datetime'>"
      ]
     },
     "execution_count": 123,
     "metadata": {},
     "output_type": "execute_result"
    },
    {
     "data": {
      "image/png": "[encoded data removed]",
      "text/plain": [
       "<Figure size 640x480 with 1 Axes>"
      ]
     },
     "metadata": {
      "image/png": {
       "height": 449,
       "width": 560
      }
     },
     "output_type": "display_data"
    },
    {
     "data": {
      "image/png": "[encoded data removed]",
      "text/plain": [
       "<Figure size 640x480 with 1 Axes>"
      ]
     },
     "metadata": {
      "image/png": {
       "height": 449,
       "width": 560
      }
     },
     "output_type": "display_data"
    },
    {
     "data": {
      "image/png": "[encoded data removed]",
      "text/plain": [
       "<Figure size 640x480 with 1 Axes>"
      ]
     },
     "metadata": {
      "image/png": {
       "height": 465,
       "width": 552
      }
     },
     "output_type": "display_data"
    },
    {
     "data": {
      "image/png": "[encoded data removed]",
      "text/plain": [
       "<Figure size 640x480 with 1 Axes>"
      ]
     },
     "metadata": {
      "image/png": {
       "height": 465,
       "width": 552
      }
     },
     "output_type": "display_data"
    }
   ],
   "source": [
    "water[(water.index.year == 2017)].plot()\n",
    "water[(water.index.year == 2018)].plot()\n",
    "water[(water.index.year == 2019) & (water.index.month == 5) & (\n",
    "    water.index.day >= 23) & (water.index.day <= 24)].plot()\n",
    "water[(water.index.year == 2020) & (water.index.month == 5) & (\n",
    "    water.index.day >= 23) & (water.index.day <= 24)].plot()"
   ]
  },
  {
   "cell_type": "code",
   "execution_count": 196,
   "id": "a871ff08-588a-4e31-ac5c-0bb0869e059c",
   "metadata": {
    "execution": {
     "iopub.execute_input": "2022-11-23T10:04:24.590558Z",
     "iopub.status.busy": "2022-11-23T10:04:24.590558Z",
     "iopub.status.idle": "2022-11-23T10:04:24.626096Z",
     "shell.execute_reply": "2022-11-23T10:04:24.626096Z",
     "shell.execute_reply.started": "2022-11-23T10:04:24.590558Z"
    },
    "tags": []
   },
   "outputs": [
    {
     "data": {
      "text/html": [
       "<div>\n",
       "<style scoped>\n",
       "    .dataframe tbody tr th:only-of-type {\n",
       "        vertical-align: middle;\n",
       "    }\n",
       "\n",
       "    .dataframe tbody tr th {\n",
       "        vertical-align: top;\n",
       "    }\n",
       "\n",
       "    .dataframe thead th {\n",
       "        text-align: right;\n",
       "    }\n",
       "</style>\n",
       "<table border=\"1\" class=\"dataframe\">\n",
       "  <thead>\n",
       "    <tr style=\"text-align: right;\">\n",
       "      <th></th>\n",
       "      <th>target</th>\n",
       "    </tr>\n",
       "    <tr>\n",
       "      <th>datetime</th>\n",
       "      <th></th>\n",
       "    </tr>\n",
       "  </thead>\n",
       "  <tbody>\n",
       "    <tr>\n",
       "      <th>2017-03-14 21:00</th>\n",
       "      <td>0.0</td>\n",
       "    </tr>\n",
       "    <tr>\n",
       "      <th>2017-03-24 15:00</th>\n",
       "      <td>0.0</td>\n",
       "    </tr>\n",
       "    <tr>\n",
       "      <th>2017-03-28 17:00</th>\n",
       "      <td>0.0</td>\n",
       "    </tr>\n",
       "    <tr>\n",
       "      <th>2017-03-30 16:00</th>\n",
       "      <td>0.0</td>\n",
       "    </tr>\n",
       "    <tr>\n",
       "      <th>2017-04-29 14:00</th>\n",
       "      <td>0.0</td>\n",
       "    </tr>\n",
       "    <tr>\n",
       "      <th>...</th>\n",
       "      <td>...</td>\n",
       "    </tr>\n",
       "    <tr>\n",
       "      <th>2017-05-31 03:00</th>\n",
       "      <td>0.0</td>\n",
       "    </tr>\n",
       "    <tr>\n",
       "      <th>2017-05-31 04:00</th>\n",
       "      <td>0.0</td>\n",
       "    </tr>\n",
       "    <tr>\n",
       "      <th>2017-05-31 05:00</th>\n",
       "      <td>0.0</td>\n",
       "    </tr>\n",
       "    <tr>\n",
       "      <th>2017-05-31 06:00</th>\n",
       "      <td>0.0</td>\n",
       "    </tr>\n",
       "    <tr>\n",
       "      <th>2017-05-31 07:00</th>\n",
       "      <td>0.0</td>\n",
       "    </tr>\n",
       "  </tbody>\n",
       "</table>\n",
       "<p>127 rows × 1 columns</p>\n",
       "</div>"
      ],
      "text/plain": [
       "                  target\n",
       "datetime                \n",
       "2017-03-14 21:00     0.0\n",
       "2017-03-24 15:00     0.0\n",
       "2017-03-28 17:00     0.0\n",
       "2017-03-30 16:00     0.0\n",
       "2017-04-29 14:00     0.0\n",
       "...                  ...\n",
       "2017-05-31 03:00     0.0\n",
       "2017-05-31 04:00     0.0\n",
       "2017-05-31 05:00     0.0\n",
       "2017-05-31 06:00     0.0\n",
       "2017-05-31 07:00     0.0\n",
       "\n",
       "[127 rows x 1 columns]"
      ]
     },
     "execution_count": 196,
     "metadata": {},
     "output_type": "execute_result"
    }
   ],
   "source": [
    "water[(water.index.year == 2017) & (water.target == 0)]"
   ]
  },
  {
   "cell_type": "code",
   "execution_count": 197,
   "id": "8cee9852-5262-4913-bd8c-b3ae0980eb9f",
   "metadata": {
    "execution": {
     "iopub.execute_input": "2022-11-23T10:04:25.165207Z",
     "iopub.status.busy": "2022-11-23T10:04:25.165207Z",
     "iopub.status.idle": "2022-11-23T10:04:25.198543Z",
     "shell.execute_reply": "2022-11-23T10:04:25.197259Z",
     "shell.execute_reply.started": "2022-11-23T10:04:25.165207Z"
    },
    "tags": []
   },
   "outputs": [
    {
     "data": {
      "text/html": [
       "<div>\n",
       "<style scoped>\n",
       "    .dataframe tbody tr th:only-of-type {\n",
       "        vertical-align: middle;\n",
       "    }\n",
       "\n",
       "    .dataframe tbody tr th {\n",
       "        vertical-align: top;\n",
       "    }\n",
       "\n",
       "    .dataframe thead th {\n",
       "        text-align: right;\n",
       "    }\n",
       "</style>\n",
       "<table border=\"1\" class=\"dataframe\">\n",
       "  <thead>\n",
       "    <tr style=\"text-align: right;\">\n",
       "      <th></th>\n",
       "      <th>target</th>\n",
       "    </tr>\n",
       "    <tr>\n",
       "      <th>datetime</th>\n",
       "      <th></th>\n",
       "    </tr>\n",
       "  </thead>\n",
       "  <tbody>\n",
       "    <tr>\n",
       "      <th>2018-01-19 15:00</th>\n",
       "      <td>0.0</td>\n",
       "    </tr>\n",
       "    <tr>\n",
       "      <th>2018-02-23 17:00</th>\n",
       "      <td>0.0</td>\n",
       "    </tr>\n",
       "    <tr>\n",
       "      <th>2018-03-02 06:00</th>\n",
       "      <td>0.0</td>\n",
       "    </tr>\n",
       "    <tr>\n",
       "      <th>2018-03-02 07:00</th>\n",
       "      <td>0.0</td>\n",
       "    </tr>\n",
       "    <tr>\n",
       "      <th>2018-03-02 08:00</th>\n",
       "      <td>0.0</td>\n",
       "    </tr>\n",
       "    <tr>\n",
       "      <th>2018-05-15 19:00</th>\n",
       "      <td>0.0</td>\n",
       "    </tr>\n",
       "    <tr>\n",
       "      <th>2018-05-15 20:00</th>\n",
       "      <td>0.0</td>\n",
       "    </tr>\n",
       "    <tr>\n",
       "      <th>2018-06-06 04:00</th>\n",
       "      <td>0.0</td>\n",
       "    </tr>\n",
       "    <tr>\n",
       "      <th>2018-06-06 05:00</th>\n",
       "      <td>0.0</td>\n",
       "    </tr>\n",
       "    <tr>\n",
       "      <th>2018-06-06 06:00</th>\n",
       "      <td>0.0</td>\n",
       "    </tr>\n",
       "    <tr>\n",
       "      <th>2018-06-06 07:00</th>\n",
       "      <td>0.0</td>\n",
       "    </tr>\n",
       "    <tr>\n",
       "      <th>2018-06-06 08:00</th>\n",
       "      <td>0.0</td>\n",
       "    </tr>\n",
       "    <tr>\n",
       "      <th>2018-06-06 12:00</th>\n",
       "      <td>0.0</td>\n",
       "    </tr>\n",
       "    <tr>\n",
       "      <th>2018-06-06 13:00</th>\n",
       "      <td>0.0</td>\n",
       "    </tr>\n",
       "    <tr>\n",
       "      <th>2018-06-06 14:00</th>\n",
       "      <td>0.0</td>\n",
       "    </tr>\n",
       "    <tr>\n",
       "      <th>2018-06-06 15:00</th>\n",
       "      <td>0.0</td>\n",
       "    </tr>\n",
       "    <tr>\n",
       "      <th>2018-06-14 21:00</th>\n",
       "      <td>0.0</td>\n",
       "    </tr>\n",
       "    <tr>\n",
       "      <th>2018-06-14 22:00</th>\n",
       "      <td>0.0</td>\n",
       "    </tr>\n",
       "    <tr>\n",
       "      <th>2018-07-04 12:00</th>\n",
       "      <td>0.0</td>\n",
       "    </tr>\n",
       "    <tr>\n",
       "      <th>2018-07-06 11:00</th>\n",
       "      <td>0.0</td>\n",
       "    </tr>\n",
       "  </tbody>\n",
       "</table>\n",
       "</div>"
      ],
      "text/plain": [
       "                  target\n",
       "datetime                \n",
       "2018-01-19 15:00     0.0\n",
       "2018-02-23 17:00     0.0\n",
       "2018-03-02 06:00     0.0\n",
       "2018-03-02 07:00     0.0\n",
       "2018-03-02 08:00     0.0\n",
       "2018-05-15 19:00     0.0\n",
       "2018-05-15 20:00     0.0\n",
       "2018-06-06 04:00     0.0\n",
       "2018-06-06 05:00     0.0\n",
       "2018-06-06 06:00     0.0\n",
       "2018-06-06 07:00     0.0\n",
       "2018-06-06 08:00     0.0\n",
       "2018-06-06 12:00     0.0\n",
       "2018-06-06 13:00     0.0\n",
       "2018-06-06 14:00     0.0\n",
       "2018-06-06 15:00     0.0\n",
       "2018-06-14 21:00     0.0\n",
       "2018-06-14 22:00     0.0\n",
       "2018-07-04 12:00     0.0\n",
       "2018-07-06 11:00     0.0"
      ]
     },
     "execution_count": 197,
     "metadata": {},
     "output_type": "execute_result"
    }
   ],
   "source": [
    "water[(water.index.year == 2018) & (water.target == 0)]"
   ]
  },
  {
   "cell_type": "code",
   "execution_count": 198,
   "id": "939dd0c8-e147-4388-8d71-f36bd325a7d6",
   "metadata": {
    "execution": {
     "iopub.execute_input": "2022-11-23T10:04:26.082759Z",
     "iopub.status.busy": "2022-11-23T10:04:26.082759Z",
     "iopub.status.idle": "2022-11-23T10:04:26.114388Z",
     "shell.execute_reply": "2022-11-23T10:04:26.114388Z",
     "shell.execute_reply.started": "2022-11-23T10:04:26.082759Z"
    },
    "tags": []
   },
   "outputs": [
    {
     "data": {
      "text/html": [
       "<div>\n",
       "<style scoped>\n",
       "    .dataframe tbody tr th:only-of-type {\n",
       "        vertical-align: middle;\n",
       "    }\n",
       "\n",
       "    .dataframe tbody tr th {\n",
       "        vertical-align: top;\n",
       "    }\n",
       "\n",
       "    .dataframe thead th {\n",
       "        text-align: right;\n",
       "    }\n",
       "</style>\n",
       "<table border=\"1\" class=\"dataframe\">\n",
       "  <thead>\n",
       "    <tr style=\"text-align: right;\">\n",
       "      <th></th>\n",
       "      <th>target</th>\n",
       "    </tr>\n",
       "    <tr>\n",
       "      <th>datetime</th>\n",
       "      <th></th>\n",
       "    </tr>\n",
       "  </thead>\n",
       "  <tbody>\n",
       "    <tr>\n",
       "      <th>2019-01-02 15:00</th>\n",
       "      <td>0.0</td>\n",
       "    </tr>\n",
       "    <tr>\n",
       "      <th>2019-06-19 20:00</th>\n",
       "      <td>0.0</td>\n",
       "    </tr>\n",
       "    <tr>\n",
       "      <th>2019-12-04 19:00</th>\n",
       "      <td>0.0</td>\n",
       "    </tr>\n",
       "  </tbody>\n",
       "</table>\n",
       "</div>"
      ],
      "text/plain": [
       "                  target\n",
       "datetime                \n",
       "2019-01-02 15:00     0.0\n",
       "2019-06-19 20:00     0.0\n",
       "2019-12-04 19:00     0.0"
      ]
     },
     "execution_count": 198,
     "metadata": {},
     "output_type": "execute_result"
    }
   ],
   "source": [
    "water[(water.index.year == 2019) & (water.target == 0)]"
   ]
  },
  {
   "cell_type": "code",
   "execution_count": 199,
   "id": "a2aab868-af4c-4e82-80f1-4b42f7d9993d",
   "metadata": {
    "execution": {
     "iopub.execute_input": "2022-11-23T10:04:27.462487Z",
     "iopub.status.busy": "2022-11-23T10:04:27.462487Z",
     "iopub.status.idle": "2022-11-23T10:04:27.495231Z",
     "shell.execute_reply": "2022-11-23T10:04:27.495231Z",
     "shell.execute_reply.started": "2022-11-23T10:04:27.462487Z"
    },
    "tags": []
   },
   "outputs": [
    {
     "data": {
      "text/html": [
       "<div>\n",
       "<style scoped>\n",
       "    .dataframe tbody tr th:only-of-type {\n",
       "        vertical-align: middle;\n",
       "    }\n",
       "\n",
       "    .dataframe tbody tr th {\n",
       "        vertical-align: top;\n",
       "    }\n",
       "\n",
       "    .dataframe thead th {\n",
       "        text-align: right;\n",
       "    }\n",
       "</style>\n",
       "<table border=\"1\" class=\"dataframe\">\n",
       "  <thead>\n",
       "    <tr style=\"text-align: right;\">\n",
       "      <th></th>\n",
       "      <th>target</th>\n",
       "    </tr>\n",
       "    <tr>\n",
       "      <th>datetime</th>\n",
       "      <th></th>\n",
       "    </tr>\n",
       "  </thead>\n",
       "  <tbody>\n",
       "    <tr>\n",
       "      <th>2020-02-10 14:00</th>\n",
       "      <td>0.0</td>\n",
       "    </tr>\n",
       "    <tr>\n",
       "      <th>2020-02-10 15:00</th>\n",
       "      <td>0.0</td>\n",
       "    </tr>\n",
       "  </tbody>\n",
       "</table>\n",
       "</div>"
      ],
      "text/plain": [
       "                  target\n",
       "datetime                \n",
       "2020-02-10 14:00     0.0\n",
       "2020-02-10 15:00     0.0"
      ]
     },
     "execution_count": 199,
     "metadata": {},
     "output_type": "execute_result"
    }
   ],
   "source": [
    "water[(water.index.year == 2020) & (water.target == 0)]"
   ]
  },
  {
   "cell_type": "code",
   "execution_count": 200,
   "id": "f70b3aeb-9c4f-4b9a-9cdd-6fa1492dd635",
   "metadata": {
    "execution": {
     "iopub.execute_input": "2022-11-23T10:04:28.605059Z",
     "iopub.status.busy": "2022-11-23T10:04:28.605059Z",
     "iopub.status.idle": "2022-11-23T10:04:28.634638Z",
     "shell.execute_reply": "2022-11-23T10:04:28.634638Z",
     "shell.execute_reply.started": "2022-11-23T10:04:28.605059Z"
    },
    "tags": []
   },
   "outputs": [
    {
     "data": {
      "text/plain": [
       "target\n",
       "0.0       152\n",
       "dtype: int64"
      ]
     },
     "execution_count": 200,
     "metadata": {},
     "output_type": "execute_result"
    }
   ],
   "source": [
    "water[water.target == 0].value_counts()"
   ]
  },
  {
   "cell_type": "markdown",
   "id": "8ebaea52",
   "metadata": {},
   "source": [
    "# 함수"
   ]
  },
  {
   "cell_type": "code",
   "execution_count": 78,
   "id": "ee586da5-18f2-4a91-a6a1-6262c08b8c7b",
   "metadata": {
    "execution": {
     "iopub.execute_input": "2022-11-23T10:04:29.189570Z",
     "iopub.status.busy": "2022-11-23T10:04:29.189570Z",
     "iopub.status.idle": "2022-11-23T10:04:29.213757Z",
     "shell.execute_reply": "2022-11-23T10:04:29.213757Z",
     "shell.execute_reply.started": "2022-11-23T10:04:29.189570Z"
    },
    "tags": []
   },
   "outputs": [],
   "source": [
    "def view_time(*args):\n",
    "    year, month, day, hour = args\n",
    "    print(water[(water.index.year == year) & (water.index.month == month) & (water.index.day == day) & (\n",
    "        water.index.hour == hour)])"
   ]
  },
  {
   "cell_type": "code",
   "execution_count": 79,
   "id": "04071c53-aad9-404e-88e0-a640e5ae0b2f",
   "metadata": {
    "execution": {
     "iopub.execute_input": "2022-11-23T10:29:13.153723Z",
     "iopub.status.busy": "2022-11-23T10:29:13.153723Z",
     "iopub.status.idle": "2022-11-23T10:29:13.177589Z",
     "shell.execute_reply": "2022-11-23T10:29:13.177498Z",
     "shell.execute_reply.started": "2022-11-23T10:29:13.153723Z"
    },
    "tags": []
   },
   "outputs": [],
   "source": [
    "def compare_time(*args):\n",
    "    month, day, hour = args\n",
    "    print(water[(water.index.month == month) & (water.index.day == day) & (\n",
    "        water.index.hour >= hour-1) & (water.index.hour <= hour+1)])"
   ]
  },
  {
   "cell_type": "code",
   "execution_count": 80,
   "id": "ca96845e-8f8f-41f5-8d33-01d0afb67c8a",
   "metadata": {
    "execution": {
     "iopub.execute_input": "2022-11-23T10:04:29.629684Z",
     "iopub.status.busy": "2022-11-23T10:04:29.629684Z",
     "iopub.status.idle": "2022-11-23T10:04:29.683334Z",
     "shell.execute_reply": "2022-11-23T10:04:29.681971Z",
     "shell.execute_reply.started": "2022-11-23T10:04:29.629684Z"
    },
    "tags": []
   },
   "outputs": [],
   "source": [
    "# 0이 한개 또는 여러개 조건문\n",
    "def replace_one(month, day, hour, *args):\n",
    "    if len(args) == 2:\n",
    "        a, b = args\n",
    "        filled = water.target[(water.index.year == a) & (water.index.month == month) & (water.index.day >= day-1) & (\n",
    "            water.index.day < day+1) & (water.index.hour >= hour-1) & (water.index.hour <= hour+1)].sum()\n",
    "        fill = water.target[(water.index.year == b) & (water.index.month == month) & (water.index.day >= day-1) & (\n",
    "            water.index.day < day+1) & (water.index.hour >= hour-1) & (water.index.hour <= hour+1)].sum()\n",
    "        a_result = '{}-{}-{} {}:00'.format(a, month, day, hour)\n",
    "        b_result = '{}-{}-{} {}:00'.format(b, month, day, hour)\n",
    "        a_plus = '{}-{}-{} {}:00'.format(a, month, day, hour+1)\n",
    "        b_plus = '{}-{}-{} {}:00'.format(b, month, day, hour+1)\n",
    "        tot_fill = ((filled / fill).round(2))\n",
    "        water[water.index == a_result] = (water.target[water.index == b_result] * tot_fill).round(2)\n",
    "        water[water.index == a_plus] = (water.target[water.index == b_plus] * tot_fill).round(2)\n",
    "    elif len(args) == 3:\n",
    "        a, b, c = args\n",
    "        filled = water.target[(water.index.year == a) & (water.index.month == month) & (water.index.day >= day-1) & (\n",
    "            water.index.day < day+1) & (water.index.hour > hour-1) & (water.index.hour < hour+1)].sum()\n",
    "        fill_1 = water.target[(water.index.year == b) & (water.index.month == month) & (water.index.day >= day-1) & (\n",
    "            water.index.day < day+1) & (water.index.hour > hour-1) & (water.index.hour < hour+1)].sum()\n",
    "        fill_2 = water.target[(water.index.year == c) & (water.index.month == month) & (water.index.day >= day-1) & (\n",
    "            water.index.day < day+1) & (water.index.hour > hour-1) & (water.index.hour < hour+1)].sum()\n",
    "        a_result = '{}-{}-{} {}:00'.format(a, month, day, hour)\n",
    "        b_result = '{}-{}-{} {}:00'.format(b, month, day, hour)\n",
    "        c_result = '{}-{}-{} {}:00'.format(c, month, day, hour)\n",
    "        a_plus = '{}-{}-{} {}:00'.format(a, month, day, hour+1)\n",
    "        b_plus = '{}-{}-{} {}:00'.format(b, month, day, hour+1)\n",
    "        c_plus = '{}-{}-{} {}:00'.format(c, month, day, hour+1)\n",
    "        tot_fill = (fill_1+fill_2)/2\n",
    "        tot_fill = (filled/tot_fill).round(2)\n",
    "        water[water.index == a_result] = (((water.target[water.index == b_result][0] + water.target[\n",
    "            water.index ==  c_result][0]) / 2) * tot_fill).round(2)\n",
    "        water[water.index == a_plus] = (((water.target[water.index == b_plus][0] + water.target[\n",
    "            water.index ==  c_plus][0]) / 2) * tot_fill).round(2)\n",
    "    else:\n",
    "        a, b, c, d = args\n",
    "        filled = water.target[(water.index.year == a) & (water.index.month == month) & (water.index.day >= day-1) & (\n",
    "            water.index.day < day+1) & (water.index.hour > hour-1) & (water.index.hour < hour+1)].sum()\n",
    "        fill_1 = water.target[(water.index.year == b) & (water.index.month == month) & (water.index.day >= day-1) & (\n",
    "            water.index.day < day+1) & (water.index.hour > hour-1) & (water.index.hour < hour+1)].sum()\n",
    "        fill_2 = water.target[(water.index.year == c) & (water.index.month == month) & (water.index.day >= day-1) & (\n",
    "            water.index.day < day+1) & (water.index.hour > hour-1) & (water.index.hour < hour+1)].sum()\n",
    "        fill_3 = water.target[(water.index.year == d) & (water.index.month == month) & (water.index.day >= day-1) & (\n",
    "            water.index.day < day+1) & (water.index.hour > hour-1) & (water.index.hour < hour+1)].sum()\n",
    "        a_result = '{}-{}-{} {}:00'.format(a, month, day, hour)\n",
    "        b_result = '{}-{}-{} {}:00'.format(b, month, day, hour)\n",
    "        c_result = '{}-{}-{} {}:00'.format(c, month, day, hour)\n",
    "        d_result = '{}-{}-{} {}:00'.format(d, month, day, hour)\n",
    "        a_plus = '{}-{}-{} {}:00'.format(a, month, day, hour+1)\n",
    "        b_plus = '{}-{}-{} {}:00'.format(b, month, day, hour+1)\n",
    "        c_plus = '{}-{}-{} {}:00'.format(c, month, day, hour+1)\n",
    "        d_plus = '{}-{}-{} {}:00'.format(d, month, day, hour+1)\n",
    "        tot_fill = (fill_1+fill_2+fill_3)/3\n",
    "        tot_fill = (filled/tot_fill).round(2)\n",
    "        water[water.index == a_result] = (((water.target[water.index == b_result][0] + water.target[\n",
    "            water.index == c_result][0] + (water.target[water.index == d_result][0]) / 3)) * tot_fill).round(2)\n",
    "        water[water.index == a_plus] = (((water.target[water.index == b_plus][0] + water.target[\n",
    "            water.index == c_plus][0] + (water.target[water.index == d_plus][0]) / 3)) * tot_fill).round(2)"
   ]
  },
  {
   "cell_type": "code",
   "execution_count": 81,
   "id": "0eb0480a-8f97-400f-968a-8a33133b4d93",
   "metadata": {
    "execution": {
     "iopub.execute_input": "2022-11-23T10:04:30.534198Z",
     "iopub.status.busy": "2022-11-23T10:04:30.534198Z",
     "iopub.status.idle": "2022-11-23T10:04:30.566197Z",
     "shell.execute_reply": "2022-11-23T10:04:30.566197Z",
     "shell.execute_reply.started": "2022-11-23T10:04:30.534198Z"
    },
    "tags": []
   },
   "outputs": [],
   "source": [
    "def replace_more(year, month, day, hour):\n",
    "    i = 1\n",
    "    count = 1\n",
    "    fill_tot = 0\n",
    "    filled_tot = 0\n",
    "    tot_list = []\n",
    "    df = pd.DataFrame(tot_list)\n",
    "    find = water[water.index == '{}-{}-{} {}:00'.format(year, month, day, hour)]  # 입력값\n",
    "    while True:\n",
    "        if water.target[(find.index - i)[0]] != 0:\n",
    "            # print(water.target[(find.index-i)[0]])  # 어디서 멈추는지 확인\n",
    "            break\n",
    "        else:\n",
    "            count += 1\n",
    "            i += 1\n",
    "            # print(count)  # 값 확인\n",
    "    # count 갯수만큼 다른 년도의 같은 시간대 불러오기(월, 일 동일)\n",
    "    for i in water.index.year.unique().difference([year]):\n",
    "        # print(i)  # 작동확인\n",
    "        for j in range(count):\n",
    "            # print((water[(water.index.year == i) & (water.index.month == month) & (\n",
    "            #     water.index.day == day) & (water.index.hour == hour)].index-j)[0])  # 값 제대로 추출하는지 확인\n",
    "    # 불러온뒤 평균 구하기\n",
    "            fill_tot += water[water.index == (water.target[(water.index.year == i) & (water.index.month == month) & (\n",
    "                water.index.day == day) & (water.index.hour == hour)].index-j)[0]].target[0]\n",
    "            # print(fill_tot)  # 작동확인\n",
    "    fill = (fill_tot/3).round(2)\n",
    "    # print(fill)  # 작동확인\n",
    "    # 원하는 년도와 다른 년도의 평균의 비율을 구함\n",
    "    for i in range(count):\n",
    "        filled_tot += water[water.index == (water.target[(water.index.year == year) & (\n",
    "            water.index.month == month) & (water.index.day == day) & (water.index.hour == hour)].index-i)[0]].target[0]\n",
    "        # print(filled_tot)  # 값확인\n",
    "    rate = filled_tot / fill\n",
    "    rate = rate.round(2)\n",
    "    # print(rate)  # 값 확인\n",
    "    # 각 행의 평균에 비율을 곱해서 결측치 채우기\n",
    "    for i in water.index.year.unique().difference([year]):\n",
    "        for j in range(count):\n",
    "            tot_list.append((water.target[water.index == (water[(water.index.year == i) & (water.index.month == month) & (\n",
    "                water.index.day == day) & (water.index.hour == hour)].index-j)[0]])[0])\n",
    "        df[i]= tot_list[0:count]\n",
    "        # print(df)  # 값 확인\n",
    "        tot_list.clear()\n",
    "    np_df = np.array(df)\n",
    "    for i in range(count):\n",
    "        water[water.index == (water[(water.index.year == year) & (water.index.month == month) & (\n",
    "            water.index.day == day) & (water.index.hour == hour)].index-i)[0]] = (np_df[i].sum()/3*rate).round(2)"
   ]
  },
  {
   "cell_type": "code",
   "execution_count": 82,
   "id": "a2a36ea7-64bf-4c4e-a720-7cc74a417780",
   "metadata": {
    "execution": {
     "iopub.execute_input": "2022-11-23T10:04:31.677638Z",
     "iopub.status.busy": "2022-11-23T10:04:31.677638Z",
     "iopub.status.idle": "2022-11-23T10:04:31.744184Z",
     "shell.execute_reply": "2022-11-23T10:04:31.744184Z",
     "shell.execute_reply.started": "2022-11-23T10:04:31.677638Z"
    },
    "tags": []
   },
   "outputs": [],
   "source": [
    "replace_one(3, 14, 21, 2017, 2018)"
   ]
  },
  {
   "cell_type": "code",
   "execution_count": 83,
   "id": "abe46a59-4d06-43cf-8d99-21bf3a6c1157",
   "metadata": {
    "execution": {
     "iopub.execute_input": "2022-11-23T10:04:31.824744Z",
     "iopub.status.busy": "2022-11-23T10:04:31.824744Z",
     "iopub.status.idle": "2022-11-23T10:04:31.898824Z",
     "shell.execute_reply": "2022-11-23T10:04:31.898824Z",
     "shell.execute_reply.started": "2022-11-23T10:04:31.824744Z"
    },
    "tags": []
   },
   "outputs": [],
   "source": [
    "replace_one(3, 24, 15, 2017, 2019)"
   ]
  },
  {
   "cell_type": "code",
   "execution_count": 84,
   "id": "6c370b08-1672-4c57-9db8-44eba53cc3aa",
   "metadata": {
    "execution": {
     "iopub.execute_input": "2022-11-23T10:04:31.986898Z",
     "iopub.status.busy": "2022-11-23T10:04:31.986898Z",
     "iopub.status.idle": "2022-11-23T10:04:32.068044Z",
     "shell.execute_reply": "2022-11-23T10:04:32.068044Z",
     "shell.execute_reply.started": "2022-11-23T10:04:31.986898Z"
    },
    "tags": []
   },
   "outputs": [],
   "source": [
    "replace_one(3, 28, 17, 2017, 2018)"
   ]
  },
  {
   "cell_type": "code",
   "execution_count": 85,
   "id": "385f1c0a-7ecf-42ae-bed4-3bf8b04e1f87",
   "metadata": {
    "execution": {
     "iopub.execute_input": "2022-11-23T10:04:32.137329Z",
     "iopub.status.busy": "2022-11-23T10:04:32.137329Z",
     "iopub.status.idle": "2022-11-23T10:04:32.214974Z",
     "shell.execute_reply": "2022-11-23T10:04:32.214974Z",
     "shell.execute_reply.started": "2022-11-23T10:04:32.137329Z"
    },
    "tags": []
   },
   "outputs": [],
   "source": [
    "replace_one(3, 30, 16, 2017, 2020)"
   ]
  },
  {
   "cell_type": "code",
   "execution_count": 86,
   "id": "e8e19953-f793-417a-aba2-ecc2603d16b6",
   "metadata": {
    "execution": {
     "iopub.execute_input": "2022-11-23T10:04:32.255822Z",
     "iopub.status.busy": "2022-11-23T10:04:32.255822Z",
     "iopub.status.idle": "2022-11-23T10:04:32.323458Z",
     "shell.execute_reply": "2022-11-23T10:04:32.322097Z",
     "shell.execute_reply.started": "2022-11-23T10:04:32.255822Z"
    },
    "tags": []
   },
   "outputs": [],
   "source": [
    "replace_one(4, 29, 14, 2017, 2018)"
   ]
  },
  {
   "cell_type": "code",
   "execution_count": 87,
   "id": "d74d954f-d29b-4bda-a86d-367ce673bf17",
   "metadata": {
    "execution": {
     "iopub.execute_input": "2022-11-23T10:04:32.395557Z",
     "iopub.status.busy": "2022-11-23T10:04:32.395557Z",
     "iopub.status.idle": "2022-11-23T10:04:32.907534Z",
     "shell.execute_reply": "2022-11-23T10:04:32.905278Z",
     "shell.execute_reply.started": "2022-11-23T10:04:32.395557Z"
    },
    "tags": []
   },
   "outputs": [],
   "source": [
    "replace_more(2020, 2, 10, 16)"
   ]
  },
  {
   "cell_type": "code",
   "execution_count": 88,
   "id": "0cbb8f97-7fdc-4004-804f-fb146bc197f9",
   "metadata": {
    "execution": {
     "iopub.execute_input": "2022-11-23T10:04:32.907534Z",
     "iopub.status.busy": "2022-11-23T10:04:32.907534Z",
     "iopub.status.idle": "2022-11-23T10:04:32.990671Z",
     "shell.execute_reply": "2022-11-23T10:04:32.990671Z",
     "shell.execute_reply.started": "2022-11-23T10:04:32.907534Z"
    },
    "tags": []
   },
   "outputs": [],
   "source": [
    "replace_one(12, 4, 19, 2019, 2020)"
   ]
  },
  {
   "cell_type": "code",
   "execution_count": 89,
   "id": "3a7b32cc-cd64-4cc4-a109-3c0ca62697ab",
   "metadata": {
    "execution": {
     "iopub.execute_input": "2022-11-23T10:04:32.990671Z",
     "iopub.status.busy": "2022-11-23T10:04:32.990671Z",
     "iopub.status.idle": "2022-11-23T10:04:33.058826Z",
     "shell.execute_reply": "2022-11-23T10:04:33.058826Z",
     "shell.execute_reply.started": "2022-11-23T10:04:32.990671Z"
    },
    "tags": []
   },
   "outputs": [],
   "source": [
    "replace_one(6, 19, 20, 2019, 2020)"
   ]
  },
  {
   "cell_type": "code",
   "execution_count": 90,
   "id": "8f14bf5b-ab3d-4bd2-91c1-34577885a03b",
   "metadata": {
    "execution": {
     "iopub.execute_input": "2022-11-23T10:04:33.058826Z",
     "iopub.status.busy": "2022-11-23T10:04:33.058826Z",
     "iopub.status.idle": "2022-11-23T10:04:33.138837Z",
     "shell.execute_reply": "2022-11-23T10:04:33.138837Z",
     "shell.execute_reply.started": "2022-11-23T10:04:33.058826Z"
    },
    "tags": []
   },
   "outputs": [],
   "source": [
    "replace_one(1, 2, 15, 2019, 2018)"
   ]
  },
  {
   "cell_type": "code",
   "execution_count": 91,
   "id": "5724e3bd-453c-4c20-8729-36c9bc9dc03b",
   "metadata": {
    "execution": {
     "iopub.execute_input": "2022-11-23T10:04:33.138837Z",
     "iopub.status.busy": "2022-11-23T10:04:33.138837Z",
     "iopub.status.idle": "2022-11-23T10:04:33.273746Z",
     "shell.execute_reply": "2022-11-23T10:04:33.272346Z",
     "shell.execute_reply.started": "2022-11-23T10:04:33.138837Z"
    },
    "tags": []
   },
   "outputs": [],
   "source": [
    "replace_one(7, 6, 11, 2018, 2017, 2019, 2020)"
   ]
  },
  {
   "cell_type": "code",
   "execution_count": 92,
   "id": "c87c0222-8be6-4981-9830-e8d7892d5b91",
   "metadata": {
    "execution": {
     "iopub.execute_input": "2022-11-23T10:04:33.277811Z",
     "iopub.status.busy": "2022-11-23T10:04:33.277811Z",
     "iopub.status.idle": "2022-11-23T10:04:33.406760Z",
     "shell.execute_reply": "2022-11-23T10:04:33.404704Z",
     "shell.execute_reply.started": "2022-11-23T10:04:33.277811Z"
    },
    "tags": []
   },
   "outputs": [],
   "source": [
    "replace_one(7, 4, 12, 2018, 2017, 2019, 2020)"
   ]
  },
  {
   "cell_type": "code",
   "execution_count": 93,
   "id": "5df5afdc-2258-4fdc-97e3-73ba3984e3ca",
   "metadata": {
    "execution": {
     "iopub.execute_input": "2022-11-23T10:04:33.406760Z",
     "iopub.status.busy": "2022-11-23T10:04:33.406760Z",
     "iopub.status.idle": "2022-11-23T10:04:33.913724Z",
     "shell.execute_reply": "2022-11-23T10:04:33.913724Z",
     "shell.execute_reply.started": "2022-11-23T10:04:33.406760Z"
    },
    "tags": []
   },
   "outputs": [],
   "source": [
    "replace_more(2018, 6, 14, 23)"
   ]
  },
  {
   "cell_type": "code",
   "execution_count": 94,
   "id": "f6d72888-fe7f-46b9-aed3-cf6651c527fc",
   "metadata": {
    "execution": {
     "iopub.execute_input": "2022-11-23T10:04:33.913724Z",
     "iopub.status.busy": "2022-11-23T10:04:33.913724Z",
     "iopub.status.idle": "2022-11-23T10:04:34.729390Z",
     "shell.execute_reply": "2022-11-23T10:04:34.729390Z",
     "shell.execute_reply.started": "2022-11-23T10:04:33.913724Z"
    },
    "tags": []
   },
   "outputs": [],
   "source": [
    "replace_more(2018, 6, 6, 16)"
   ]
  },
  {
   "cell_type": "code",
   "execution_count": 95,
   "id": "158908a1-672c-409d-9c73-728865d4296c",
   "metadata": {
    "execution": {
     "iopub.execute_input": "2022-11-23T10:04:34.729390Z",
     "iopub.status.busy": "2022-11-23T10:04:34.729390Z",
     "iopub.status.idle": "2022-11-23T10:04:35.719021Z",
     "shell.execute_reply": "2022-11-23T10:04:35.719021Z",
     "shell.execute_reply.started": "2022-11-23T10:04:34.729390Z"
    },
    "tags": []
   },
   "outputs": [],
   "source": [
    "replace_more(2018, 6, 6, 9)"
   ]
  },
  {
   "cell_type": "code",
   "execution_count": 96,
   "id": "111a60ce-e87b-425a-9f30-69c22de67a47",
   "metadata": {
    "execution": {
     "iopub.execute_input": "2022-11-23T10:04:35.719021Z",
     "iopub.status.busy": "2022-11-23T10:04:35.719021Z",
     "iopub.status.idle": "2022-11-23T10:04:36.340117Z",
     "shell.execute_reply": "2022-11-23T10:04:36.338538Z",
     "shell.execute_reply.started": "2022-11-23T10:04:35.719021Z"
    },
    "tags": []
   },
   "outputs": [],
   "source": [
    "replace_more(2018, 5, 15, 21)"
   ]
  },
  {
   "cell_type": "code",
   "execution_count": 97,
   "id": "8dc10af6-57fe-44b2-a430-95de7a042dbb",
   "metadata": {
    "execution": {
     "iopub.execute_input": "2022-11-23T10:04:36.340117Z",
     "iopub.status.busy": "2022-11-23T10:04:36.340117Z",
     "iopub.status.idle": "2022-11-23T10:04:37.124762Z",
     "shell.execute_reply": "2022-11-23T10:04:37.122133Z",
     "shell.execute_reply.started": "2022-11-23T10:04:36.340117Z"
    },
    "tags": []
   },
   "outputs": [],
   "source": [
    "replace_more(2018, 3, 2, 9)"
   ]
  },
  {
   "cell_type": "code",
   "execution_count": 98,
   "id": "4f80033b-5925-4d01-9533-5d77d76fab9e",
   "metadata": {
    "execution": {
     "iopub.execute_input": "2022-11-23T10:04:37.124762Z",
     "iopub.status.busy": "2022-11-23T10:04:37.124762Z",
     "iopub.status.idle": "2022-11-23T10:04:37.230472Z",
     "shell.execute_reply": "2022-11-23T10:04:37.230472Z",
     "shell.execute_reply.started": "2022-11-23T10:04:37.124762Z"
    },
    "tags": []
   },
   "outputs": [],
   "source": [
    "replace_one(2, 23, 17, 2018, 2020)"
   ]
  },
  {
   "cell_type": "code",
   "execution_count": 99,
   "id": "aa949754-4786-4840-bc7b-819930d4affc",
   "metadata": {
    "execution": {
     "iopub.execute_input": "2022-11-23T10:04:37.240643Z",
     "iopub.status.busy": "2022-11-23T10:04:37.240134Z",
     "iopub.status.idle": "2022-11-23T10:04:37.338638Z",
     "shell.execute_reply": "2022-11-23T10:04:37.337536Z",
     "shell.execute_reply.started": "2022-11-23T10:04:37.240643Z"
    },
    "tags": []
   },
   "outputs": [],
   "source": [
    "replace_one(1, 19, 15, 2018, 2020)"
   ]
  },
  {
   "cell_type": "code",
   "execution_count": 100,
   "id": "1b9a3259-e411-4ccf-8ca9-1871bde33fc6",
   "metadata": {
    "execution": {
     "iopub.execute_input": "2022-11-23T10:04:37.338638Z",
     "iopub.status.busy": "2022-11-23T10:04:37.338638Z",
     "iopub.status.idle": "2022-11-23T10:04:39.602885Z",
     "shell.execute_reply": "2022-11-23T10:04:39.602885Z",
     "shell.execute_reply.started": "2022-11-23T10:04:37.338638Z"
    },
    "tags": []
   },
   "outputs": [],
   "source": [
    "replace_more(2017, 5, 31, 8)"
   ]
  },
  {
   "cell_type": "code",
   "execution_count": 101,
   "id": "619f4302-f194-4d90-b153-145d5a967924",
   "metadata": {
    "execution": {
     "iopub.execute_input": "2022-11-23T10:04:39.602885Z",
     "iopub.status.busy": "2022-11-23T10:04:39.602885Z",
     "iopub.status.idle": "2022-11-23T10:04:40.424853Z",
     "shell.execute_reply": "2022-11-23T10:04:40.423631Z",
     "shell.execute_reply.started": "2022-11-23T10:04:39.602885Z"
    },
    "tags": []
   },
   "outputs": [],
   "source": [
    "replace_more(2017, 5, 30, 18)"
   ]
  },
  {
   "cell_type": "code",
   "execution_count": 102,
   "id": "4c8d3ae3-e639-4f4f-8d91-d34fccae942c",
   "metadata": {
    "execution": {
     "iopub.execute_input": "2022-11-23T10:04:40.429540Z",
     "iopub.status.busy": "2022-11-23T10:04:40.425355Z",
     "iopub.status.idle": "2022-11-23T10:04:41.622763Z",
     "shell.execute_reply": "2022-11-23T10:04:41.622763Z",
     "shell.execute_reply.started": "2022-11-23T10:04:40.429540Z"
    },
    "tags": []
   },
   "outputs": [],
   "source": [
    "replace_more(2017, 5, 29, 10)"
   ]
  },
  {
   "cell_type": "code",
   "execution_count": 103,
   "id": "e8d9f8a2-458e-43c3-a713-194bac123dfe",
   "metadata": {
    "execution": {
     "iopub.execute_input": "2022-11-23T10:04:41.629666Z",
     "iopub.status.busy": "2022-11-23T10:04:41.628931Z",
     "iopub.status.idle": "2022-11-23T10:04:42.870040Z",
     "shell.execute_reply": "2022-11-23T10:04:42.870040Z",
     "shell.execute_reply.started": "2022-11-23T10:04:41.629666Z"
    },
    "tags": []
   },
   "outputs": [],
   "source": [
    "replace_more(2017, 5, 29, 3)"
   ]
  },
  {
   "cell_type": "code",
   "execution_count": 104,
   "id": "ddc331ef-3e64-4e2a-abfe-3fdda1f3f1cb",
   "metadata": {
    "execution": {
     "iopub.execute_input": "2022-11-23T10:04:42.875134Z",
     "iopub.status.busy": "2022-11-23T10:04:42.872841Z",
     "iopub.status.idle": "2022-11-23T10:04:43.431125Z",
     "shell.execute_reply": "2022-11-23T10:04:43.431125Z",
     "shell.execute_reply.started": "2022-11-23T10:04:42.875134Z"
    },
    "tags": []
   },
   "outputs": [],
   "source": [
    "replace_more(2017, 5, 28, 19)"
   ]
  },
  {
   "cell_type": "code",
   "execution_count": 105,
   "id": "e3283538-9e03-4f73-b266-f39fe1e0f2c3",
   "metadata": {
    "execution": {
     "iopub.execute_input": "2022-11-23T10:04:43.431125Z",
     "iopub.status.busy": "2022-11-23T10:04:43.431125Z",
     "iopub.status.idle": "2022-11-23T10:04:45.015069Z",
     "shell.execute_reply": "2022-11-23T10:04:45.013667Z",
     "shell.execute_reply.started": "2022-11-23T10:04:43.431125Z"
    },
    "tags": []
   },
   "outputs": [],
   "source": [
    "replace_more(2017, 5, 28, 15)"
   ]
  },
  {
   "cell_type": "code",
   "execution_count": 106,
   "id": "6de6357c-ed9a-4167-a48a-2b26632d7a03",
   "metadata": {
    "execution": {
     "iopub.execute_input": "2022-11-23T10:04:45.016253Z",
     "iopub.status.busy": "2022-11-23T10:04:45.016253Z",
     "iopub.status.idle": "2022-11-23T10:04:48.338217Z",
     "shell.execute_reply": "2022-11-23T10:04:48.338217Z",
     "shell.execute_reply.started": "2022-11-23T10:04:45.016253Z"
    },
    "tags": []
   },
   "outputs": [],
   "source": [
    "replace_more(2017, 5, 28, 6)"
   ]
  },
  {
   "cell_type": "code",
   "execution_count": 107,
   "id": "6fd9a4c4-78df-494a-bc45-94223b36ac03",
   "metadata": {
    "execution": {
     "iopub.execute_input": "2022-11-23T10:04:48.338217Z",
     "iopub.status.busy": "2022-11-23T10:04:48.338217Z",
     "iopub.status.idle": "2022-11-23T10:04:51.718113Z",
     "shell.execute_reply": "2022-11-23T10:04:51.718113Z",
     "shell.execute_reply.started": "2022-11-23T10:04:48.338217Z"
    },
    "tags": []
   },
   "outputs": [],
   "source": [
    "replace_more(2017, 5, 27, 10)"
   ]
  },
  {
   "cell_type": "code",
   "execution_count": 108,
   "id": "f47b530d-e612-4e6d-819a-5671ea37bf99",
   "metadata": {
    "execution": {
     "iopub.execute_input": "2022-11-23T10:04:51.718113Z",
     "iopub.status.busy": "2022-11-23T10:04:51.718113Z",
     "iopub.status.idle": "2022-11-23T10:04:52.504456Z",
     "shell.execute_reply": "2022-11-23T10:04:52.504456Z",
     "shell.execute_reply.started": "2022-11-23T10:04:51.718113Z"
    },
    "tags": []
   },
   "outputs": [],
   "source": [
    "replace_more(2017, 5, 26, 12)"
   ]
  },
  {
   "cell_type": "code",
   "execution_count": 109,
   "id": "46109e44-75a0-45a6-bc9b-aeb05173db2b",
   "metadata": {
    "execution": {
     "iopub.execute_input": "2022-11-23T10:04:52.514198Z",
     "iopub.status.busy": "2022-11-23T10:04:52.504456Z",
     "iopub.status.idle": "2022-11-23T10:04:53.459619Z",
     "shell.execute_reply": "2022-11-23T10:04:53.459619Z",
     "shell.execute_reply.started": "2022-11-23T10:04:52.514198Z"
    },
    "tags": []
   },
   "outputs": [],
   "source": [
    "replace_more(2017, 5, 26, 6)"
   ]
  },
  {
   "cell_type": "code",
   "execution_count": 110,
   "id": "5596e93e-a6e9-4cf0-9d50-d766ac244aef",
   "metadata": {
    "execution": {
     "iopub.execute_input": "2022-11-23T10:04:53.463016Z",
     "iopub.status.busy": "2022-11-23T10:04:53.463016Z",
     "iopub.status.idle": "2022-11-23T10:04:53.538049Z",
     "shell.execute_reply": "2022-11-23T10:04:53.538049Z",
     "shell.execute_reply.started": "2022-11-23T10:04:53.463016Z"
    },
    "tags": []
   },
   "outputs": [],
   "source": [
    "replace_one(5, 25, 21, 2017, 2019)"
   ]
  },
  {
   "cell_type": "code",
   "execution_count": 111,
   "id": "5cdc6723-00ae-4e6d-8202-5c8b1a8285c6",
   "metadata": {
    "execution": {
     "iopub.execute_input": "2022-11-23T10:04:53.538049Z",
     "iopub.status.busy": "2022-11-23T10:04:53.538049Z",
     "iopub.status.idle": "2022-11-23T10:04:54.027152Z",
     "shell.execute_reply": "2022-11-23T10:04:54.027152Z",
     "shell.execute_reply.started": "2022-11-23T10:04:53.538049Z"
    },
    "tags": []
   },
   "outputs": [],
   "source": [
    "replace_more(2017, 5, 25, 20)"
   ]
  },
  {
   "cell_type": "code",
   "execution_count": 112,
   "id": "3cd0629e-de1f-485d-b3c5-882c4f47fae9",
   "metadata": {
    "execution": {
     "iopub.execute_input": "2022-11-23T10:04:54.031927Z",
     "iopub.status.busy": "2022-11-23T10:04:54.031424Z",
     "iopub.status.idle": "2022-11-23T10:04:54.168797Z",
     "shell.execute_reply": "2022-11-23T10:04:54.167978Z",
     "shell.execute_reply.started": "2022-11-23T10:04:54.031927Z"
    },
    "tags": []
   },
   "outputs": [],
   "source": [
    "replace_one(5, 25, 16, 2017, 2019, 2020)"
   ]
  },
  {
   "cell_type": "code",
   "execution_count": 113,
   "id": "abef2ad4-7502-4c4c-acd3-fddde1d61c22",
   "metadata": {
    "execution": {
     "iopub.execute_input": "2022-11-23T10:04:54.173253Z",
     "iopub.status.busy": "2022-11-23T10:04:54.171950Z",
     "iopub.status.idle": "2022-11-23T10:04:56.496061Z",
     "shell.execute_reply": "2022-11-23T10:04:56.495644Z",
     "shell.execute_reply.started": "2022-11-23T10:04:54.172751Z"
    },
    "tags": []
   },
   "outputs": [],
   "source": [
    "replace_more(2017, 4, 30, 6)"
   ]
  },
  {
   "cell_type": "code",
   "execution_count": 114,
   "id": "9a415728-0741-4c5b-b82b-2b4df0044035",
   "metadata": {
    "execution": {
     "iopub.execute_input": "2022-11-23T10:04:56.496061Z",
     "iopub.status.busy": "2022-11-23T10:04:56.496061Z",
     "iopub.status.idle": "2022-11-23T10:04:57.136029Z",
     "shell.execute_reply": "2022-11-23T10:04:57.134351Z",
     "shell.execute_reply.started": "2022-11-23T10:04:56.496061Z"
    },
    "tags": []
   },
   "outputs": [],
   "source": [
    "replace_more(2017, 4, 30, 11)"
   ]
  },
  {
   "cell_type": "code",
   "execution_count": 115,
   "id": "e2cf33db-d892-4af2-a976-5c987f03f102",
   "metadata": {
    "execution": {
     "iopub.execute_input": "2022-11-23T10:04:57.138998Z",
     "iopub.status.busy": "2022-11-23T10:04:57.137854Z",
     "iopub.status.idle": "2022-11-23T10:04:57.624045Z",
     "shell.execute_reply": "2022-11-23T10:04:57.622564Z",
     "shell.execute_reply.started": "2022-11-23T10:04:57.138998Z"
    },
    "tags": []
   },
   "outputs": [],
   "source": [
    "replace_more(2017, 5, 25, 13)"
   ]
  },
  {
   "cell_type": "code",
   "execution_count": 116,
   "id": "75d57e00-2be7-4df6-8580-f331f74883a3",
   "metadata": {
    "execution": {
     "iopub.execute_input": "2022-11-23T10:04:57.625351Z",
     "iopub.status.busy": "2022-11-23T10:04:57.625351Z",
     "iopub.status.idle": "2022-11-23T10:04:57.731743Z",
     "shell.execute_reply": "2022-11-23T10:04:57.731743Z",
     "shell.execute_reply.started": "2022-11-23T10:04:57.625351Z"
    },
    "tags": []
   },
   "outputs": [],
   "source": [
    "replace_one(5, 25, 14, 2017, 2019, 2020)"
   ]
  },
  {
   "cell_type": "code",
   "execution_count": 117,
   "id": "73fd7d06-d9d7-40e5-8b99-200992164c4b",
   "metadata": {
    "execution": {
     "iopub.execute_input": "2022-11-23T10:08:20.861624Z",
     "iopub.status.busy": "2022-11-23T10:08:20.860636Z",
     "iopub.status.idle": "2022-11-23T10:08:20.936081Z",
     "shell.execute_reply": "2022-11-23T10:08:20.936081Z",
     "shell.execute_reply.started": "2022-11-23T10:08:20.861624Z"
    },
    "tags": []
   },
   "outputs": [],
   "source": [
    "replace_one(5, 23, 16, 2017, 2019)"
   ]
  },
  {
   "cell_type": "code",
   "execution_count": 118,
   "id": "c31c44ca-e7d9-4f8b-a9df-0ef6289f3c59",
   "metadata": {
    "execution": {
     "iopub.execute_input": "2022-11-23T10:09:03.451444Z",
     "iopub.status.busy": "2022-11-23T10:09:03.451444Z",
     "iopub.status.idle": "2022-11-23T10:09:03.555686Z",
     "shell.execute_reply": "2022-11-23T10:09:03.555686Z",
     "shell.execute_reply.started": "2022-11-23T10:09:03.451444Z"
    },
    "tags": []
   },
   "outputs": [],
   "source": [
    "replace_one(5, 23, 18, 2017, 2018, 2019)"
   ]
  },
  {
   "cell_type": "code",
   "execution_count": 119,
   "id": "db6fdc6e-db9d-412e-89b4-ee2f7ff221f7",
   "metadata": {
    "execution": {
     "iopub.execute_input": "2022-11-23T10:28:17.354212Z",
     "iopub.status.busy": "2022-11-23T10:28:17.354212Z",
     "iopub.status.idle": "2022-11-23T10:28:17.436660Z",
     "shell.execute_reply": "2022-11-23T10:28:17.435221Z",
     "shell.execute_reply.started": "2022-11-23T10:28:17.354212Z"
    }
   },
   "outputs": [
    {
     "ename": "ValueError",
     "evalue": "shape mismatch: value array of shape (0,)  could not be broadcast to indexing result of shape (0,1)",
     "output_type": "error",
     "traceback": [
      "\u001b[1;31m---------------------------------------------------------------------------\u001b[0m",
      "\u001b[1;31mValueError\u001b[0m                                Traceback (most recent call last)",
      "\u001b[1;32m~\\AppData\\Local\\Temp/ipykernel_6068/3118888092.py\u001b[0m in \u001b[0;36m<module>\u001b[1;34m\u001b[0m\n\u001b[1;32m----> 1\u001b[1;33m \u001b[0mreplace_one\u001b[0m\u001b[1;33m(\u001b[0m\u001b[1;36m5\u001b[0m\u001b[1;33m,\u001b[0m \u001b[1;36m23\u001b[0m\u001b[1;33m,\u001b[0m \u001b[1;36m23\u001b[0m\u001b[1;33m,\u001b[0m \u001b[1;36m2017\u001b[0m\u001b[1;33m,\u001b[0m \u001b[1;36m2018\u001b[0m\u001b[1;33m)\u001b[0m\u001b[1;33m\u001b[0m\u001b[1;33m\u001b[0m\u001b[0m\n\u001b[0m",
      "\u001b[1;32m~\\AppData\\Local\\Temp/ipykernel_6068/4091024057.py\u001b[0m in \u001b[0;36mreplace_one\u001b[1;34m(month, day, hour, *args)\u001b[0m\n\u001b[0;32m     13\u001b[0m         \u001b[0mtot_fill\u001b[0m \u001b[1;33m=\u001b[0m \u001b[1;33m(\u001b[0m\u001b[1;33m(\u001b[0m\u001b[0mfilled\u001b[0m \u001b[1;33m/\u001b[0m \u001b[0mfill\u001b[0m\u001b[1;33m)\u001b[0m\u001b[1;33m.\u001b[0m\u001b[0mround\u001b[0m\u001b[1;33m(\u001b[0m\u001b[1;36m2\u001b[0m\u001b[1;33m)\u001b[0m\u001b[1;33m)\u001b[0m\u001b[1;33m\u001b[0m\u001b[1;33m\u001b[0m\u001b[0m\n\u001b[0;32m     14\u001b[0m         \u001b[0mwater\u001b[0m\u001b[1;33m[\u001b[0m\u001b[0mwater\u001b[0m\u001b[1;33m.\u001b[0m\u001b[0mindex\u001b[0m \u001b[1;33m==\u001b[0m \u001b[0ma_result\u001b[0m\u001b[1;33m]\u001b[0m \u001b[1;33m=\u001b[0m \u001b[1;33m(\u001b[0m\u001b[0mwater\u001b[0m\u001b[1;33m.\u001b[0m\u001b[0mtarget\u001b[0m\u001b[1;33m[\u001b[0m\u001b[0mwater\u001b[0m\u001b[1;33m.\u001b[0m\u001b[0mindex\u001b[0m \u001b[1;33m==\u001b[0m \u001b[0mb_result\u001b[0m\u001b[1;33m]\u001b[0m \u001b[1;33m*\u001b[0m \u001b[0mtot_fill\u001b[0m\u001b[1;33m)\u001b[0m\u001b[1;33m.\u001b[0m\u001b[0mround\u001b[0m\u001b[1;33m(\u001b[0m\u001b[1;36m2\u001b[0m\u001b[1;33m)\u001b[0m\u001b[1;33m\u001b[0m\u001b[1;33m\u001b[0m\u001b[0m\n\u001b[1;32m---> 15\u001b[1;33m         \u001b[0mwater\u001b[0m\u001b[1;33m[\u001b[0m\u001b[0mwater\u001b[0m\u001b[1;33m.\u001b[0m\u001b[0mindex\u001b[0m \u001b[1;33m==\u001b[0m \u001b[0ma_plus\u001b[0m\u001b[1;33m]\u001b[0m \u001b[1;33m=\u001b[0m \u001b[1;33m(\u001b[0m\u001b[0mwater\u001b[0m\u001b[1;33m.\u001b[0m\u001b[0mtarget\u001b[0m\u001b[1;33m[\u001b[0m\u001b[0mwater\u001b[0m\u001b[1;33m.\u001b[0m\u001b[0mindex\u001b[0m \u001b[1;33m==\u001b[0m \u001b[0mb_plus\u001b[0m\u001b[1;33m]\u001b[0m \u001b[1;33m*\u001b[0m \u001b[0mtot_fill\u001b[0m\u001b[1;33m)\u001b[0m\u001b[1;33m.\u001b[0m\u001b[0mround\u001b[0m\u001b[1;33m(\u001b[0m\u001b[1;36m2\u001b[0m\u001b[1;33m)\u001b[0m\u001b[1;33m\u001b[0m\u001b[1;33m\u001b[0m\u001b[0m\n\u001b[0m\u001b[0;32m     16\u001b[0m     \u001b[1;32melif\u001b[0m \u001b[0mlen\u001b[0m\u001b[1;33m(\u001b[0m\u001b[0margs\u001b[0m\u001b[1;33m)\u001b[0m \u001b[1;33m==\u001b[0m \u001b[1;36m3\u001b[0m\u001b[1;33m:\u001b[0m\u001b[1;33m\u001b[0m\u001b[1;33m\u001b[0m\u001b[0m\n\u001b[0;32m     17\u001b[0m         \u001b[0ma\u001b[0m\u001b[1;33m,\u001b[0m \u001b[0mb\u001b[0m\u001b[1;33m,\u001b[0m \u001b[0mc\u001b[0m \u001b[1;33m=\u001b[0m \u001b[0margs\u001b[0m\u001b[1;33m\u001b[0m\u001b[1;33m\u001b[0m\u001b[0m\n",
      "\u001b[1;32mC:\\Anaconda3\\lib\\site-packages\\pandas\\core\\frame.py\u001b[0m in \u001b[0;36m__setitem__\u001b[1;34m(self, key, value)\u001b[0m\n\u001b[0;32m   3963\u001b[0m             \u001b[0mself\u001b[0m\u001b[1;33m.\u001b[0m\u001b[0m_setitem_frame\u001b[0m\u001b[1;33m(\u001b[0m\u001b[0mkey\u001b[0m\u001b[1;33m,\u001b[0m \u001b[0mvalue\u001b[0m\u001b[1;33m)\u001b[0m\u001b[1;33m\u001b[0m\u001b[1;33m\u001b[0m\u001b[0m\n\u001b[0;32m   3964\u001b[0m         \u001b[1;32melif\u001b[0m \u001b[0misinstance\u001b[0m\u001b[1;33m(\u001b[0m\u001b[0mkey\u001b[0m\u001b[1;33m,\u001b[0m \u001b[1;33m(\u001b[0m\u001b[0mSeries\u001b[0m\u001b[1;33m,\u001b[0m \u001b[0mnp\u001b[0m\u001b[1;33m.\u001b[0m\u001b[0mndarray\u001b[0m\u001b[1;33m,\u001b[0m \u001b[0mlist\u001b[0m\u001b[1;33m,\u001b[0m \u001b[0mIndex\u001b[0m\u001b[1;33m)\u001b[0m\u001b[1;33m)\u001b[0m\u001b[1;33m:\u001b[0m\u001b[1;33m\u001b[0m\u001b[1;33m\u001b[0m\u001b[0m\n\u001b[1;32m-> 3965\u001b[1;33m             \u001b[0mself\u001b[0m\u001b[1;33m.\u001b[0m\u001b[0m_setitem_array\u001b[0m\u001b[1;33m(\u001b[0m\u001b[0mkey\u001b[0m\u001b[1;33m,\u001b[0m \u001b[0mvalue\u001b[0m\u001b[1;33m)\u001b[0m\u001b[1;33m\u001b[0m\u001b[1;33m\u001b[0m\u001b[0m\n\u001b[0m\u001b[0;32m   3966\u001b[0m         \u001b[1;32melif\u001b[0m \u001b[0misinstance\u001b[0m\u001b[1;33m(\u001b[0m\u001b[0mvalue\u001b[0m\u001b[1;33m,\u001b[0m \u001b[0mDataFrame\u001b[0m\u001b[1;33m)\u001b[0m\u001b[1;33m:\u001b[0m\u001b[1;33m\u001b[0m\u001b[1;33m\u001b[0m\u001b[0m\n\u001b[0;32m   3967\u001b[0m             \u001b[0mself\u001b[0m\u001b[1;33m.\u001b[0m\u001b[0m_set_item_frame_value\u001b[0m\u001b[1;33m(\u001b[0m\u001b[0mkey\u001b[0m\u001b[1;33m,\u001b[0m \u001b[0mvalue\u001b[0m\u001b[1;33m)\u001b[0m\u001b[1;33m\u001b[0m\u001b[1;33m\u001b[0m\u001b[0m\n",
      "\u001b[1;32mC:\\Anaconda3\\lib\\site-packages\\pandas\\core\\frame.py\u001b[0m in \u001b[0;36m_setitem_array\u001b[1;34m(self, key, value)\u001b[0m\n\u001b[0;32m   3998\u001b[0m                 \u001b[1;31m# GH#39931 reindex since iloc does not align\u001b[0m\u001b[1;33m\u001b[0m\u001b[1;33m\u001b[0m\u001b[0m\n\u001b[0;32m   3999\u001b[0m                 \u001b[0mvalue\u001b[0m \u001b[1;33m=\u001b[0m \u001b[0mvalue\u001b[0m\u001b[1;33m.\u001b[0m\u001b[0mreindex\u001b[0m\u001b[1;33m(\u001b[0m\u001b[0mself\u001b[0m\u001b[1;33m.\u001b[0m\u001b[0mindex\u001b[0m\u001b[1;33m.\u001b[0m\u001b[0mtake\u001b[0m\u001b[1;33m(\u001b[0m\u001b[0mindexer\u001b[0m\u001b[1;33m)\u001b[0m\u001b[1;33m)\u001b[0m\u001b[1;33m\u001b[0m\u001b[1;33m\u001b[0m\u001b[0m\n\u001b[1;32m-> 4000\u001b[1;33m             \u001b[0mself\u001b[0m\u001b[1;33m.\u001b[0m\u001b[0miloc\u001b[0m\u001b[1;33m[\u001b[0m\u001b[0mindexer\u001b[0m\u001b[1;33m]\u001b[0m \u001b[1;33m=\u001b[0m \u001b[0mvalue\u001b[0m\u001b[1;33m\u001b[0m\u001b[1;33m\u001b[0m\u001b[0m\n\u001b[0m\u001b[0;32m   4001\u001b[0m \u001b[1;33m\u001b[0m\u001b[0m\n\u001b[0;32m   4002\u001b[0m         \u001b[1;32melse\u001b[0m\u001b[1;33m:\u001b[0m\u001b[1;33m\u001b[0m\u001b[1;33m\u001b[0m\u001b[0m\n",
      "\u001b[1;32mC:\\Anaconda3\\lib\\site-packages\\pandas\\core\\indexing.py\u001b[0m in \u001b[0;36m__setitem__\u001b[1;34m(self, key, value)\u001b[0m\n\u001b[0;32m    816\u001b[0m \u001b[1;33m\u001b[0m\u001b[0m\n\u001b[0;32m    817\u001b[0m         \u001b[0miloc\u001b[0m \u001b[1;33m=\u001b[0m \u001b[0mself\u001b[0m \u001b[1;32mif\u001b[0m \u001b[0mself\u001b[0m\u001b[1;33m.\u001b[0m\u001b[0mname\u001b[0m \u001b[1;33m==\u001b[0m \u001b[1;34m\"iloc\"\u001b[0m \u001b[1;32melse\u001b[0m \u001b[0mself\u001b[0m\u001b[1;33m.\u001b[0m\u001b[0mobj\u001b[0m\u001b[1;33m.\u001b[0m\u001b[0miloc\u001b[0m\u001b[1;33m\u001b[0m\u001b[1;33m\u001b[0m\u001b[0m\n\u001b[1;32m--> 818\u001b[1;33m         \u001b[0miloc\u001b[0m\u001b[1;33m.\u001b[0m\u001b[0m_setitem_with_indexer\u001b[0m\u001b[1;33m(\u001b[0m\u001b[0mindexer\u001b[0m\u001b[1;33m,\u001b[0m \u001b[0mvalue\u001b[0m\u001b[1;33m,\u001b[0m \u001b[0mself\u001b[0m\u001b[1;33m.\u001b[0m\u001b[0mname\u001b[0m\u001b[1;33m)\u001b[0m\u001b[1;33m\u001b[0m\u001b[1;33m\u001b[0m\u001b[0m\n\u001b[0m\u001b[0;32m    819\u001b[0m \u001b[1;33m\u001b[0m\u001b[0m\n\u001b[0;32m    820\u001b[0m     \u001b[1;32mdef\u001b[0m \u001b[0m_validate_key\u001b[0m\u001b[1;33m(\u001b[0m\u001b[0mself\u001b[0m\u001b[1;33m,\u001b[0m \u001b[0mkey\u001b[0m\u001b[1;33m,\u001b[0m \u001b[0maxis\u001b[0m\u001b[1;33m:\u001b[0m \u001b[0mint\u001b[0m\u001b[1;33m)\u001b[0m\u001b[1;33m:\u001b[0m\u001b[1;33m\u001b[0m\u001b[1;33m\u001b[0m\u001b[0m\n",
      "\u001b[1;32mC:\\Anaconda3\\lib\\site-packages\\pandas\\core\\indexing.py\u001b[0m in \u001b[0;36m_setitem_with_indexer\u001b[1;34m(self, indexer, value, name)\u001b[0m\n\u001b[0;32m   1795\u001b[0m             \u001b[0mself\u001b[0m\u001b[1;33m.\u001b[0m\u001b[0m_setitem_with_indexer_split_path\u001b[0m\u001b[1;33m(\u001b[0m\u001b[0mindexer\u001b[0m\u001b[1;33m,\u001b[0m \u001b[0mvalue\u001b[0m\u001b[1;33m,\u001b[0m \u001b[0mname\u001b[0m\u001b[1;33m)\u001b[0m\u001b[1;33m\u001b[0m\u001b[1;33m\u001b[0m\u001b[0m\n\u001b[0;32m   1796\u001b[0m         \u001b[1;32melse\u001b[0m\u001b[1;33m:\u001b[0m\u001b[1;33m\u001b[0m\u001b[1;33m\u001b[0m\u001b[0m\n\u001b[1;32m-> 1797\u001b[1;33m             \u001b[0mself\u001b[0m\u001b[1;33m.\u001b[0m\u001b[0m_setitem_single_block\u001b[0m\u001b[1;33m(\u001b[0m\u001b[0mindexer\u001b[0m\u001b[1;33m,\u001b[0m \u001b[0mvalue\u001b[0m\u001b[1;33m,\u001b[0m \u001b[0mname\u001b[0m\u001b[1;33m)\u001b[0m\u001b[1;33m\u001b[0m\u001b[1;33m\u001b[0m\u001b[0m\n\u001b[0m\u001b[0;32m   1798\u001b[0m \u001b[1;33m\u001b[0m\u001b[0m\n\u001b[0;32m   1799\u001b[0m     \u001b[1;32mdef\u001b[0m \u001b[0m_setitem_with_indexer_split_path\u001b[0m\u001b[1;33m(\u001b[0m\u001b[0mself\u001b[0m\u001b[1;33m,\u001b[0m \u001b[0mindexer\u001b[0m\u001b[1;33m,\u001b[0m \u001b[0mvalue\u001b[0m\u001b[1;33m,\u001b[0m \u001b[0mname\u001b[0m\u001b[1;33m:\u001b[0m \u001b[0mstr\u001b[0m\u001b[1;33m)\u001b[0m\u001b[1;33m:\u001b[0m\u001b[1;33m\u001b[0m\u001b[1;33m\u001b[0m\u001b[0m\n",
      "\u001b[1;32mC:\\Anaconda3\\lib\\site-packages\\pandas\\core\\indexing.py\u001b[0m in \u001b[0;36m_setitem_single_block\u001b[1;34m(self, indexer, value, name)\u001b[0m\n\u001b[0;32m   2076\u001b[0m \u001b[1;33m\u001b[0m\u001b[0m\n\u001b[0;32m   2077\u001b[0m         \u001b[1;31m# actually do the set\u001b[0m\u001b[1;33m\u001b[0m\u001b[1;33m\u001b[0m\u001b[0m\n\u001b[1;32m-> 2078\u001b[1;33m         \u001b[0mself\u001b[0m\u001b[1;33m.\u001b[0m\u001b[0mobj\u001b[0m\u001b[1;33m.\u001b[0m\u001b[0m_mgr\u001b[0m \u001b[1;33m=\u001b[0m \u001b[0mself\u001b[0m\u001b[1;33m.\u001b[0m\u001b[0mobj\u001b[0m\u001b[1;33m.\u001b[0m\u001b[0m_mgr\u001b[0m\u001b[1;33m.\u001b[0m\u001b[0msetitem\u001b[0m\u001b[1;33m(\u001b[0m\u001b[0mindexer\u001b[0m\u001b[1;33m=\u001b[0m\u001b[0mindexer\u001b[0m\u001b[1;33m,\u001b[0m \u001b[0mvalue\u001b[0m\u001b[1;33m=\u001b[0m\u001b[0mvalue\u001b[0m\u001b[1;33m)\u001b[0m\u001b[1;33m\u001b[0m\u001b[1;33m\u001b[0m\u001b[0m\n\u001b[0m\u001b[0;32m   2079\u001b[0m         \u001b[0mself\u001b[0m\u001b[1;33m.\u001b[0m\u001b[0mobj\u001b[0m\u001b[1;33m.\u001b[0m\u001b[0m_maybe_update_cacher\u001b[0m\u001b[1;33m(\u001b[0m\u001b[0mclear\u001b[0m\u001b[1;33m=\u001b[0m\u001b[1;32mTrue\u001b[0m\u001b[1;33m,\u001b[0m \u001b[0minplace\u001b[0m\u001b[1;33m=\u001b[0m\u001b[1;32mTrue\u001b[0m\u001b[1;33m)\u001b[0m\u001b[1;33m\u001b[0m\u001b[1;33m\u001b[0m\u001b[0m\n\u001b[0;32m   2080\u001b[0m \u001b[1;33m\u001b[0m\u001b[0m\n",
      "\u001b[1;32mC:\\Anaconda3\\lib\\site-packages\\pandas\\core\\internals\\managers.py\u001b[0m in \u001b[0;36msetitem\u001b[1;34m(self, indexer, value)\u001b[0m\n\u001b[0;32m    386\u001b[0m             \u001b[0mself\u001b[0m \u001b[1;33m=\u001b[0m \u001b[0mself\u001b[0m\u001b[1;33m.\u001b[0m\u001b[0mcopy\u001b[0m\u001b[1;33m(\u001b[0m\u001b[1;33m)\u001b[0m\u001b[1;33m\u001b[0m\u001b[1;33m\u001b[0m\u001b[0m\n\u001b[0;32m    387\u001b[0m \u001b[1;33m\u001b[0m\u001b[0m\n\u001b[1;32m--> 388\u001b[1;33m         \u001b[1;32mreturn\u001b[0m \u001b[0mself\u001b[0m\u001b[1;33m.\u001b[0m\u001b[0mapply\u001b[0m\u001b[1;33m(\u001b[0m\u001b[1;34m\"setitem\"\u001b[0m\u001b[1;33m,\u001b[0m \u001b[0mindexer\u001b[0m\u001b[1;33m=\u001b[0m\u001b[0mindexer\u001b[0m\u001b[1;33m,\u001b[0m \u001b[0mvalue\u001b[0m\u001b[1;33m=\u001b[0m\u001b[0mvalue\u001b[0m\u001b[1;33m)\u001b[0m\u001b[1;33m\u001b[0m\u001b[1;33m\u001b[0m\u001b[0m\n\u001b[0m\u001b[0;32m    389\u001b[0m \u001b[1;33m\u001b[0m\u001b[0m\n\u001b[0;32m    390\u001b[0m     \u001b[1;32mdef\u001b[0m \u001b[0mputmask\u001b[0m\u001b[1;33m(\u001b[0m\u001b[0mself\u001b[0m\u001b[1;33m,\u001b[0m \u001b[0mmask\u001b[0m\u001b[1;33m,\u001b[0m \u001b[0mnew\u001b[0m\u001b[1;33m,\u001b[0m \u001b[0malign\u001b[0m\u001b[1;33m:\u001b[0m \u001b[0mbool\u001b[0m \u001b[1;33m=\u001b[0m \u001b[1;32mTrue\u001b[0m\u001b[1;33m)\u001b[0m\u001b[1;33m:\u001b[0m\u001b[1;33m\u001b[0m\u001b[1;33m\u001b[0m\u001b[0m\n",
      "\u001b[1;32mC:\\Anaconda3\\lib\\site-packages\\pandas\\core\\internals\\managers.py\u001b[0m in \u001b[0;36mapply\u001b[1;34m(self, f, align_keys, ignore_failures, **kwargs)\u001b[0m\n\u001b[0;32m    345\u001b[0m                     \u001b[0mapplied\u001b[0m \u001b[1;33m=\u001b[0m \u001b[0mb\u001b[0m\u001b[1;33m.\u001b[0m\u001b[0mapply\u001b[0m\u001b[1;33m(\u001b[0m\u001b[0mf\u001b[0m\u001b[1;33m,\u001b[0m \u001b[1;33m**\u001b[0m\u001b[0mkwargs\u001b[0m\u001b[1;33m)\u001b[0m\u001b[1;33m\u001b[0m\u001b[1;33m\u001b[0m\u001b[0m\n\u001b[0;32m    346\u001b[0m                 \u001b[1;32melse\u001b[0m\u001b[1;33m:\u001b[0m\u001b[1;33m\u001b[0m\u001b[1;33m\u001b[0m\u001b[0m\n\u001b[1;32m--> 347\u001b[1;33m                     \u001b[0mapplied\u001b[0m \u001b[1;33m=\u001b[0m \u001b[0mgetattr\u001b[0m\u001b[1;33m(\u001b[0m\u001b[0mb\u001b[0m\u001b[1;33m,\u001b[0m \u001b[0mf\u001b[0m\u001b[1;33m)\u001b[0m\u001b[1;33m(\u001b[0m\u001b[1;33m**\u001b[0m\u001b[0mkwargs\u001b[0m\u001b[1;33m)\u001b[0m\u001b[1;33m\u001b[0m\u001b[1;33m\u001b[0m\u001b[0m\n\u001b[0m\u001b[0;32m    348\u001b[0m             \u001b[1;32mexcept\u001b[0m \u001b[1;33m(\u001b[0m\u001b[0mTypeError\u001b[0m\u001b[1;33m,\u001b[0m \u001b[0mNotImplementedError\u001b[0m\u001b[1;33m)\u001b[0m\u001b[1;33m:\u001b[0m\u001b[1;33m\u001b[0m\u001b[1;33m\u001b[0m\u001b[0m\n\u001b[0;32m    349\u001b[0m                 \u001b[1;32mif\u001b[0m \u001b[1;32mnot\u001b[0m \u001b[0mignore_failures\u001b[0m\u001b[1;33m:\u001b[0m\u001b[1;33m\u001b[0m\u001b[1;33m\u001b[0m\u001b[0m\n",
      "\u001b[1;32mC:\\Anaconda3\\lib\\site-packages\\pandas\\core\\internals\\blocks.py\u001b[0m in \u001b[0;36msetitem\u001b[1;34m(self, indexer, value)\u001b[0m\n\u001b[0;32m    982\u001b[0m                     \u001b[1;31m#  test_iloc_setitem_custom_object\u001b[0m\u001b[1;33m\u001b[0m\u001b[1;33m\u001b[0m\u001b[0m\n\u001b[0;32m    983\u001b[0m                     \u001b[0mcasted\u001b[0m \u001b[1;33m=\u001b[0m \u001b[0msetitem_datetimelike_compat\u001b[0m\u001b[1;33m(\u001b[0m\u001b[0mvalues\u001b[0m\u001b[1;33m,\u001b[0m \u001b[0mlen\u001b[0m\u001b[1;33m(\u001b[0m\u001b[0mvi\u001b[0m\u001b[1;33m)\u001b[0m\u001b[1;33m,\u001b[0m \u001b[0mcasted\u001b[0m\u001b[1;33m)\u001b[0m\u001b[1;33m\u001b[0m\u001b[1;33m\u001b[0m\u001b[0m\n\u001b[1;32m--> 984\u001b[1;33m             \u001b[0mvalues\u001b[0m\u001b[1;33m[\u001b[0m\u001b[0mindexer\u001b[0m\u001b[1;33m]\u001b[0m \u001b[1;33m=\u001b[0m \u001b[0mcasted\u001b[0m\u001b[1;33m\u001b[0m\u001b[1;33m\u001b[0m\u001b[0m\n\u001b[0m\u001b[0;32m    985\u001b[0m         \u001b[1;32mreturn\u001b[0m \u001b[0mself\u001b[0m\u001b[1;33m\u001b[0m\u001b[1;33m\u001b[0m\u001b[0m\n\u001b[0;32m    986\u001b[0m \u001b[1;33m\u001b[0m\u001b[0m\n",
      "\u001b[1;31mValueError\u001b[0m: shape mismatch: value array of shape (0,)  could not be broadcast to indexing result of shape (0,1)"
     ]
    }
   ],
   "source": [
    "replace_one(5, 23, 23, 2017, 2018)"
   ]
  },
  {
   "cell_type": "code",
   "execution_count": 120,
   "id": "6b019170-7541-4eda-a547-d6de8bf51568",
   "metadata": {
    "execution": {
     "iopub.execute_input": "2022-11-23T10:30:27.842021Z",
     "iopub.status.busy": "2022-11-23T10:30:27.842021Z",
     "iopub.status.idle": "2022-11-23T10:30:27.978590Z",
     "shell.execute_reply": "2022-11-23T10:30:27.978590Z",
     "shell.execute_reply.started": "2022-11-23T10:30:27.842021Z"
    },
    "tags": []
   },
   "outputs": [],
   "source": [
    "replace_one(5, 24, 21, 2017, 2018, 2019, 2020)"
   ]
  },
  {
   "cell_type": "code",
   "execution_count": 121,
   "id": "d4bb43fa-7703-4f3c-b315-080fb42ba31f",
   "metadata": {
    "execution": {
     "iopub.execute_input": "2022-11-23T10:31:30.858588Z",
     "iopub.status.busy": "2022-11-23T10:31:30.858087Z",
     "iopub.status.idle": "2022-11-23T10:31:30.927012Z",
     "shell.execute_reply": "2022-11-23T10:31:30.926351Z",
     "shell.execute_reply.started": "2022-11-23T10:31:30.858588Z"
    },
    "tags": []
   },
   "outputs": [],
   "source": [
    "replace_one(5, 25, 0, 2017, 2018)"
   ]
  },
  {
   "cell_type": "code",
   "execution_count": 122,
   "id": "8f9faf28-7aa7-4768-a9d7-fb860b3dae06",
   "metadata": {
    "execution": {
     "iopub.execute_input": "2022-11-23T10:32:42.974005Z",
     "iopub.status.busy": "2022-11-23T10:32:42.974005Z",
     "iopub.status.idle": "2022-11-23T10:32:43.109645Z",
     "shell.execute_reply": "2022-11-23T10:32:43.109645Z",
     "shell.execute_reply.started": "2022-11-23T10:32:42.974005Z"
    },
    "tags": []
   },
   "outputs": [],
   "source": [
    "replace_one(5, 25, 2, 2017, 2018, 2019, 2020)"
   ]
  },
  {
   "cell_type": "code",
   "execution_count": 123,
   "id": "cd023a77-f8eb-4d85-b762-97958f4114f8",
   "metadata": {
    "execution": {
     "iopub.execute_input": "2022-11-23T10:33:38.667668Z",
     "iopub.status.busy": "2022-11-23T10:33:38.666910Z",
     "iopub.status.idle": "2022-11-23T10:33:38.771154Z",
     "shell.execute_reply": "2022-11-23T10:33:38.771154Z",
     "shell.execute_reply.started": "2022-11-23T10:33:38.667668Z"
    },
    "tags": []
   },
   "outputs": [],
   "source": [
    "replace_one(5, 25, 4, 2017, 2018, 2019)"
   ]
  },
  {
   "cell_type": "code",
   "execution_count": 124,
   "id": "52d807fe-1dd5-4f5e-92c1-8c7c8d9eb661",
   "metadata": {
    "execution": {
     "iopub.execute_input": "2022-11-23T10:34:37.124015Z",
     "iopub.status.busy": "2022-11-23T10:34:37.124015Z",
     "iopub.status.idle": "2022-11-23T10:34:37.251739Z",
     "shell.execute_reply": "2022-11-23T10:34:37.249857Z",
     "shell.execute_reply.started": "2022-11-23T10:34:37.124015Z"
    },
    "tags": []
   },
   "outputs": [],
   "source": [
    "replace_one(5, 25, 6, 2017, 2019, 2020)"
   ]
  },
  {
   "cell_type": "code",
   "execution_count": 125,
   "id": "121cd996-38dc-4e91-b4bb-cdce45c8ea1b",
   "metadata": {
    "execution": {
     "iopub.execute_input": "2022-11-23T10:35:17.827635Z",
     "iopub.status.busy": "2022-11-23T10:35:17.827635Z",
     "iopub.status.idle": "2022-11-23T10:35:17.933879Z",
     "shell.execute_reply": "2022-11-23T10:35:17.933879Z",
     "shell.execute_reply.started": "2022-11-23T10:35:17.827635Z"
    },
    "tags": []
   },
   "outputs": [],
   "source": [
    "replace_one(5, 25, 7, 2017, 2019, 2020)"
   ]
  },
  {
   "cell_type": "code",
   "execution_count": null,
   "id": "c39651d1",
   "metadata": {},
   "outputs": [],
   "source": []
  }
 ],
 "metadata": {
  "kernelspec": {
   "display_name": "Python 3 (ipykernel)",
   "language": "python",
   "name": "python3"
  },
  "language_info": {
   "codemirror_mode": {
    "name": "ipython",
    "version": 3
   },
   "file_extension": ".py",
   "mimetype": "text/x-python",
   "name": "python",
   "nbconvert_exporter": "python",
   "pygments_lexer": "ipython3",
   "version": "3.9.7"
  },
  "toc": {
   "base_numbering": 1,
   "nav_menu": {},
   "number_sections": true,
   "sideBar": true,
   "skip_h1_title": false,
   "title_cell": "Table of Contents",
   "title_sidebar": "Contents",
   "toc_cell": false,
   "toc_position": {},
   "toc_section_display": true,
   "toc_window_display": true
  }
 },
 "nbformat": 4,
 "nbformat_minor": 5
}
