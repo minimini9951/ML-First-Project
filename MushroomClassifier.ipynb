{
 "cells": [
  {
   "cell_type": "markdown",
   "id": "bd218288-2ce8-4812-bc8b-8ba44e2664cc",
   "metadata": {},
   "source": [
    "# 필요한 라이브러리 로딩"
   ]
  },
  {
   "cell_type": "code",
   "execution_count": 3,
   "id": "f88fd77d-df98-439c-aee4-f3d568ae7ec5",
   "metadata": {
    "execution": {
     "iopub.execute_input": "2022-11-25T05:26:31.055294Z",
     "iopub.status.busy": "2022-11-25T05:26:31.055294Z",
     "iopub.status.idle": "2022-11-25T05:26:31.064634Z",
     "shell.execute_reply": "2022-11-25T05:26:31.063900Z",
     "shell.execute_reply.started": "2022-11-25T05:26:31.055294Z"
    },
    "tags": []
   },
   "outputs": [],
   "source": [
    "import numpy as np\n",
    "import pandas as pd\n",
    "from ngboost import NGBClassifier\n",
    "from lightgbm import LGBMClassifier\n",
    "from catboost import CatBoostClassifier\n",
    "from xgboost import XGBClassifier\n",
    "from sklearn.preprocessing import LabelEncoder\n",
    "from sklearn.model_selection import train_test_split\n",
    "from sklearn.metrics import accuracy_score, f1_score, precision_score\n",
    "from sklearn.metrics import recall_score, confusion_matrix, mean_squared_error\n",
    "import warnings"
   ]
  },
  {
   "cell_type": "code",
   "execution_count": 4,
   "id": "ead6837c-281a-466e-8e88-cf1fc6848694",
   "metadata": {
    "execution": {
     "iopub.execute_input": "2022-11-25T05:26:38.689476Z",
     "iopub.status.busy": "2022-11-25T05:26:38.689476Z",
     "iopub.status.idle": "2022-11-25T05:26:38.721846Z",
     "shell.execute_reply": "2022-11-25T05:26:38.721846Z",
     "shell.execute_reply.started": "2022-11-25T05:26:38.689476Z"
    },
    "tags": []
   },
   "outputs": [],
   "source": [
    "warnings.simplefilter(action='ignore', category=FutureWarning)\n",
    "%config Completer.use_jedi = False  # 자동완성 속도 증가\n",
    "%config InlineBackend.figure_format = 'retina'"
   ]
  },
  {
   "cell_type": "markdown",
   "id": "60802848-9b1d-4321-a035-266194bfc960",
   "metadata": {},
   "source": [
    "# 데이터 불러오기"
   ]
  },
  {
   "cell_type": "code",
   "execution_count": 5,
   "id": "c98e07c3-e249-441f-9f83-969e9dc9e1d7",
   "metadata": {
    "execution": {
     "iopub.execute_input": "2022-11-25T05:26:46.707587Z",
     "iopub.status.busy": "2022-11-25T05:26:46.704944Z",
     "iopub.status.idle": "2022-11-25T05:26:46.753140Z",
     "shell.execute_reply": "2022-11-25T05:26:46.753140Z",
     "shell.execute_reply.started": "2022-11-25T05:26:46.707587Z"
    },
    "tags": []
   },
   "outputs": [
    {
     "data": {
      "text/plain": [
       "(8124, 23)"
      ]
     },
     "execution_count": 5,
     "metadata": {},
     "output_type": "execute_result"
    }
   ],
   "source": [
    "mush = pd.read_csv('mushrooms.csv')\n",
    "mush.shape  # 행, 열갯수 확인"
   ]
  },
  {
   "cell_type": "markdown",
   "id": "972ee54f-2f8d-48ef-8531-dac4b1001dd7",
   "metadata": {},
   "source": [
    "# 데이터 전처리"
   ]
  },
  {
   "cell_type": "code",
   "execution_count": 6,
   "id": "8b6d91d8-001a-4a6f-b40e-0491274322f4",
   "metadata": {
    "execution": {
     "iopub.execute_input": "2022-11-25T05:26:52.682150Z",
     "iopub.status.busy": "2022-11-25T05:26:52.682150Z",
     "iopub.status.idle": "2022-11-25T05:26:52.714023Z",
     "shell.execute_reply": "2022-11-25T05:26:52.714023Z",
     "shell.execute_reply.started": "2022-11-25T05:26:52.682150Z"
    },
    "tags": []
   },
   "outputs": [
    {
     "name": "stdout",
     "output_type": "stream",
     "text": [
      "<class 'pandas.core.frame.DataFrame'>\n",
      "RangeIndex: 8124 entries, 0 to 8123\n",
      "Data columns (total 23 columns):\n",
      " #   Column                    Non-Null Count  Dtype \n",
      "---  ------                    --------------  ----- \n",
      " 0   class                     8124 non-null   object\n",
      " 1   cap-shape                 8124 non-null   object\n",
      " 2   cap-surface               8124 non-null   object\n",
      " 3   cap-color                 8124 non-null   object\n",
      " 4   bruises                   8124 non-null   object\n",
      " 5   odor                      8124 non-null   object\n",
      " 6   gill-attachment           8124 non-null   object\n",
      " 7   gill-spacing              8124 non-null   object\n",
      " 8   gill-size                 8124 non-null   object\n",
      " 9   gill-color                8124 non-null   object\n",
      " 10  stalk-shape               8124 non-null   object\n",
      " 11  stalk-root                8124 non-null   object\n",
      " 12  stalk-surface-above-ring  8124 non-null   object\n",
      " 13  stalk-surface-below-ring  8124 non-null   object\n",
      " 14  stalk-color-above-ring    8124 non-null   object\n",
      " 15  stalk-color-below-ring    8124 non-null   object\n",
      " 16  veil-type                 8124 non-null   object\n",
      " 17  veil-color                8124 non-null   object\n",
      " 18  ring-number               8124 non-null   object\n",
      " 19  ring-type                 8124 non-null   object\n",
      " 20  spore-print-color         8124 non-null   object\n",
      " 21  population                8124 non-null   object\n",
      " 22  habitat                   8124 non-null   object\n",
      "dtypes: object(23)\n",
      "memory usage: 1.4+ MB\n"
     ]
    }
   ],
   "source": [
    "mush.info()  # 결측치 확인"
   ]
  },
  {
   "cell_type": "code",
   "execution_count": 7,
   "id": "276f23bb-7e11-44b8-824b-496faece7954",
   "metadata": {
    "execution": {
     "iopub.execute_input": "2022-11-25T05:27:04.379677Z",
     "iopub.status.busy": "2022-11-25T05:27:04.379677Z",
     "iopub.status.idle": "2022-11-25T05:27:04.401390Z",
     "shell.execute_reply": "2022-11-25T05:27:04.401390Z",
     "shell.execute_reply.started": "2022-11-25T05:27:04.379677Z"
    },
    "tags": []
   },
   "outputs": [
    {
     "data": {
      "text/html": [
       "<div>\n",
       "<style scoped>\n",
       "    .dataframe tbody tr th:only-of-type {\n",
       "        vertical-align: middle;\n",
       "    }\n",
       "\n",
       "    .dataframe tbody tr th {\n",
       "        vertical-align: top;\n",
       "    }\n",
       "\n",
       "    .dataframe thead th {\n",
       "        text-align: right;\n",
       "    }\n",
       "</style>\n",
       "<table border=\"1\" class=\"dataframe\">\n",
       "  <thead>\n",
       "    <tr style=\"text-align: right;\">\n",
       "      <th></th>\n",
       "      <th>class</th>\n",
       "      <th>cap-shape</th>\n",
       "      <th>cap-surface</th>\n",
       "      <th>cap-color</th>\n",
       "      <th>bruises</th>\n",
       "      <th>odor</th>\n",
       "      <th>gill-attachment</th>\n",
       "      <th>gill-spacing</th>\n",
       "      <th>gill-size</th>\n",
       "      <th>gill-color</th>\n",
       "      <th>...</th>\n",
       "      <th>stalk-surface-below-ring</th>\n",
       "      <th>stalk-color-above-ring</th>\n",
       "      <th>stalk-color-below-ring</th>\n",
       "      <th>veil-type</th>\n",
       "      <th>veil-color</th>\n",
       "      <th>ring-number</th>\n",
       "      <th>ring-type</th>\n",
       "      <th>spore-print-color</th>\n",
       "      <th>population</th>\n",
       "      <th>habitat</th>\n",
       "    </tr>\n",
       "  </thead>\n",
       "  <tbody>\n",
       "    <tr>\n",
       "      <th>0</th>\n",
       "      <td>p</td>\n",
       "      <td>x</td>\n",
       "      <td>s</td>\n",
       "      <td>n</td>\n",
       "      <td>t</td>\n",
       "      <td>p</td>\n",
       "      <td>f</td>\n",
       "      <td>c</td>\n",
       "      <td>n</td>\n",
       "      <td>k</td>\n",
       "      <td>...</td>\n",
       "      <td>s</td>\n",
       "      <td>w</td>\n",
       "      <td>w</td>\n",
       "      <td>p</td>\n",
       "      <td>w</td>\n",
       "      <td>o</td>\n",
       "      <td>p</td>\n",
       "      <td>k</td>\n",
       "      <td>s</td>\n",
       "      <td>u</td>\n",
       "    </tr>\n",
       "    <tr>\n",
       "      <th>1</th>\n",
       "      <td>e</td>\n",
       "      <td>x</td>\n",
       "      <td>s</td>\n",
       "      <td>y</td>\n",
       "      <td>t</td>\n",
       "      <td>a</td>\n",
       "      <td>f</td>\n",
       "      <td>c</td>\n",
       "      <td>b</td>\n",
       "      <td>k</td>\n",
       "      <td>...</td>\n",
       "      <td>s</td>\n",
       "      <td>w</td>\n",
       "      <td>w</td>\n",
       "      <td>p</td>\n",
       "      <td>w</td>\n",
       "      <td>o</td>\n",
       "      <td>p</td>\n",
       "      <td>n</td>\n",
       "      <td>n</td>\n",
       "      <td>g</td>\n",
       "    </tr>\n",
       "    <tr>\n",
       "      <th>2</th>\n",
       "      <td>e</td>\n",
       "      <td>b</td>\n",
       "      <td>s</td>\n",
       "      <td>w</td>\n",
       "      <td>t</td>\n",
       "      <td>l</td>\n",
       "      <td>f</td>\n",
       "      <td>c</td>\n",
       "      <td>b</td>\n",
       "      <td>n</td>\n",
       "      <td>...</td>\n",
       "      <td>s</td>\n",
       "      <td>w</td>\n",
       "      <td>w</td>\n",
       "      <td>p</td>\n",
       "      <td>w</td>\n",
       "      <td>o</td>\n",
       "      <td>p</td>\n",
       "      <td>n</td>\n",
       "      <td>n</td>\n",
       "      <td>m</td>\n",
       "    </tr>\n",
       "    <tr>\n",
       "      <th>3</th>\n",
       "      <td>p</td>\n",
       "      <td>x</td>\n",
       "      <td>y</td>\n",
       "      <td>w</td>\n",
       "      <td>t</td>\n",
       "      <td>p</td>\n",
       "      <td>f</td>\n",
       "      <td>c</td>\n",
       "      <td>n</td>\n",
       "      <td>n</td>\n",
       "      <td>...</td>\n",
       "      <td>s</td>\n",
       "      <td>w</td>\n",
       "      <td>w</td>\n",
       "      <td>p</td>\n",
       "      <td>w</td>\n",
       "      <td>o</td>\n",
       "      <td>p</td>\n",
       "      <td>k</td>\n",
       "      <td>s</td>\n",
       "      <td>u</td>\n",
       "    </tr>\n",
       "    <tr>\n",
       "      <th>4</th>\n",
       "      <td>e</td>\n",
       "      <td>x</td>\n",
       "      <td>s</td>\n",
       "      <td>g</td>\n",
       "      <td>f</td>\n",
       "      <td>n</td>\n",
       "      <td>f</td>\n",
       "      <td>w</td>\n",
       "      <td>b</td>\n",
       "      <td>k</td>\n",
       "      <td>...</td>\n",
       "      <td>s</td>\n",
       "      <td>w</td>\n",
       "      <td>w</td>\n",
       "      <td>p</td>\n",
       "      <td>w</td>\n",
       "      <td>o</td>\n",
       "      <td>e</td>\n",
       "      <td>n</td>\n",
       "      <td>a</td>\n",
       "      <td>g</td>\n",
       "    </tr>\n",
       "    <tr>\n",
       "      <th>...</th>\n",
       "      <td>...</td>\n",
       "      <td>...</td>\n",
       "      <td>...</td>\n",
       "      <td>...</td>\n",
       "      <td>...</td>\n",
       "      <td>...</td>\n",
       "      <td>...</td>\n",
       "      <td>...</td>\n",
       "      <td>...</td>\n",
       "      <td>...</td>\n",
       "      <td>...</td>\n",
       "      <td>...</td>\n",
       "      <td>...</td>\n",
       "      <td>...</td>\n",
       "      <td>...</td>\n",
       "      <td>...</td>\n",
       "      <td>...</td>\n",
       "      <td>...</td>\n",
       "      <td>...</td>\n",
       "      <td>...</td>\n",
       "      <td>...</td>\n",
       "    </tr>\n",
       "    <tr>\n",
       "      <th>8119</th>\n",
       "      <td>e</td>\n",
       "      <td>k</td>\n",
       "      <td>s</td>\n",
       "      <td>n</td>\n",
       "      <td>f</td>\n",
       "      <td>n</td>\n",
       "      <td>a</td>\n",
       "      <td>c</td>\n",
       "      <td>b</td>\n",
       "      <td>y</td>\n",
       "      <td>...</td>\n",
       "      <td>s</td>\n",
       "      <td>o</td>\n",
       "      <td>o</td>\n",
       "      <td>p</td>\n",
       "      <td>o</td>\n",
       "      <td>o</td>\n",
       "      <td>p</td>\n",
       "      <td>b</td>\n",
       "      <td>c</td>\n",
       "      <td>l</td>\n",
       "    </tr>\n",
       "    <tr>\n",
       "      <th>8120</th>\n",
       "      <td>e</td>\n",
       "      <td>x</td>\n",
       "      <td>s</td>\n",
       "      <td>n</td>\n",
       "      <td>f</td>\n",
       "      <td>n</td>\n",
       "      <td>a</td>\n",
       "      <td>c</td>\n",
       "      <td>b</td>\n",
       "      <td>y</td>\n",
       "      <td>...</td>\n",
       "      <td>s</td>\n",
       "      <td>o</td>\n",
       "      <td>o</td>\n",
       "      <td>p</td>\n",
       "      <td>n</td>\n",
       "      <td>o</td>\n",
       "      <td>p</td>\n",
       "      <td>b</td>\n",
       "      <td>v</td>\n",
       "      <td>l</td>\n",
       "    </tr>\n",
       "    <tr>\n",
       "      <th>8121</th>\n",
       "      <td>e</td>\n",
       "      <td>f</td>\n",
       "      <td>s</td>\n",
       "      <td>n</td>\n",
       "      <td>f</td>\n",
       "      <td>n</td>\n",
       "      <td>a</td>\n",
       "      <td>c</td>\n",
       "      <td>b</td>\n",
       "      <td>n</td>\n",
       "      <td>...</td>\n",
       "      <td>s</td>\n",
       "      <td>o</td>\n",
       "      <td>o</td>\n",
       "      <td>p</td>\n",
       "      <td>o</td>\n",
       "      <td>o</td>\n",
       "      <td>p</td>\n",
       "      <td>b</td>\n",
       "      <td>c</td>\n",
       "      <td>l</td>\n",
       "    </tr>\n",
       "    <tr>\n",
       "      <th>8122</th>\n",
       "      <td>p</td>\n",
       "      <td>k</td>\n",
       "      <td>y</td>\n",
       "      <td>n</td>\n",
       "      <td>f</td>\n",
       "      <td>y</td>\n",
       "      <td>f</td>\n",
       "      <td>c</td>\n",
       "      <td>n</td>\n",
       "      <td>b</td>\n",
       "      <td>...</td>\n",
       "      <td>k</td>\n",
       "      <td>w</td>\n",
       "      <td>w</td>\n",
       "      <td>p</td>\n",
       "      <td>w</td>\n",
       "      <td>o</td>\n",
       "      <td>e</td>\n",
       "      <td>w</td>\n",
       "      <td>v</td>\n",
       "      <td>l</td>\n",
       "    </tr>\n",
       "    <tr>\n",
       "      <th>8123</th>\n",
       "      <td>e</td>\n",
       "      <td>x</td>\n",
       "      <td>s</td>\n",
       "      <td>n</td>\n",
       "      <td>f</td>\n",
       "      <td>n</td>\n",
       "      <td>a</td>\n",
       "      <td>c</td>\n",
       "      <td>b</td>\n",
       "      <td>y</td>\n",
       "      <td>...</td>\n",
       "      <td>s</td>\n",
       "      <td>o</td>\n",
       "      <td>o</td>\n",
       "      <td>p</td>\n",
       "      <td>o</td>\n",
       "      <td>o</td>\n",
       "      <td>p</td>\n",
       "      <td>o</td>\n",
       "      <td>c</td>\n",
       "      <td>l</td>\n",
       "    </tr>\n",
       "  </tbody>\n",
       "</table>\n",
       "<p>8124 rows × 23 columns</p>\n",
       "</div>"
      ],
      "text/plain": [
       "     class cap-shape cap-surface cap-color bruises odor gill-attachment  \\\n",
       "0        p         x           s         n       t    p               f   \n",
       "1        e         x           s         y       t    a               f   \n",
       "2        e         b           s         w       t    l               f   \n",
       "3        p         x           y         w       t    p               f   \n",
       "4        e         x           s         g       f    n               f   \n",
       "...    ...       ...         ...       ...     ...  ...             ...   \n",
       "8119     e         k           s         n       f    n               a   \n",
       "8120     e         x           s         n       f    n               a   \n",
       "8121     e         f           s         n       f    n               a   \n",
       "8122     p         k           y         n       f    y               f   \n",
       "8123     e         x           s         n       f    n               a   \n",
       "\n",
       "     gill-spacing gill-size gill-color  ... stalk-surface-below-ring  \\\n",
       "0               c         n          k  ...                        s   \n",
       "1               c         b          k  ...                        s   \n",
       "2               c         b          n  ...                        s   \n",
       "3               c         n          n  ...                        s   \n",
       "4               w         b          k  ...                        s   \n",
       "...           ...       ...        ...  ...                      ...   \n",
       "8119            c         b          y  ...                        s   \n",
       "8120            c         b          y  ...                        s   \n",
       "8121            c         b          n  ...                        s   \n",
       "8122            c         n          b  ...                        k   \n",
       "8123            c         b          y  ...                        s   \n",
       "\n",
       "     stalk-color-above-ring stalk-color-below-ring veil-type veil-color  \\\n",
       "0                         w                      w         p          w   \n",
       "1                         w                      w         p          w   \n",
       "2                         w                      w         p          w   \n",
       "3                         w                      w         p          w   \n",
       "4                         w                      w         p          w   \n",
       "...                     ...                    ...       ...        ...   \n",
       "8119                      o                      o         p          o   \n",
       "8120                      o                      o         p          n   \n",
       "8121                      o                      o         p          o   \n",
       "8122                      w                      w         p          w   \n",
       "8123                      o                      o         p          o   \n",
       "\n",
       "     ring-number ring-type spore-print-color population habitat  \n",
       "0              o         p                 k          s       u  \n",
       "1              o         p                 n          n       g  \n",
       "2              o         p                 n          n       m  \n",
       "3              o         p                 k          s       u  \n",
       "4              o         e                 n          a       g  \n",
       "...          ...       ...               ...        ...     ...  \n",
       "8119           o         p                 b          c       l  \n",
       "8120           o         p                 b          v       l  \n",
       "8121           o         p                 b          c       l  \n",
       "8122           o         e                 w          v       l  \n",
       "8123           o         p                 o          c       l  \n",
       "\n",
       "[8124 rows x 23 columns]"
      ]
     },
     "execution_count": 7,
     "metadata": {},
     "output_type": "execute_result"
    }
   ],
   "source": [
    "df = pd.DataFrame(mush)  # 데이터 프레임으로 변경 후 출력\n",
    "df"
   ]
  },
  {
   "cell_type": "code",
   "execution_count": 9,
   "id": "2e610a3b-e355-42e1-a1a1-2fd1ca1f07fe",
   "metadata": {
    "execution": {
     "iopub.execute_input": "2022-11-25T05:27:33.875109Z",
     "iopub.status.busy": "2022-11-25T05:27:33.875109Z",
     "iopub.status.idle": "2022-11-25T05:27:33.915967Z",
     "shell.execute_reply": "2022-11-25T05:27:33.915967Z",
     "shell.execute_reply.started": "2022-11-25T05:27:33.875109Z"
    },
    "tags": []
   },
   "outputs": [
    {
     "name": "stdout",
     "output_type": "stream",
     "text": [
      "\n",
      "class가 가지고 있는 값의 종류 :  \n",
      "\n",
      "e    4208\n",
      "p    3916\n",
      "Name: class, dtype: int64\n",
      "\n",
      "cap-shape가 가지고 있는 값의 종류 :  \n",
      "\n",
      "x    3656\n",
      "f    3152\n",
      "k     828\n",
      "b     452\n",
      "s      32\n",
      "c       4\n",
      "Name: cap-shape, dtype: int64\n",
      "\n",
      "cap-surface가 가지고 있는 값의 종류 :  \n",
      "\n",
      "y    3244\n",
      "s    2556\n",
      "f    2320\n",
      "g       4\n",
      "Name: cap-surface, dtype: int64\n",
      "\n",
      "cap-color가 가지고 있는 값의 종류 :  \n",
      "\n",
      "n    2284\n",
      "g    1840\n",
      "e    1500\n",
      "y    1072\n",
      "w    1040\n",
      "b     168\n",
      "p     144\n",
      "c      44\n",
      "u      16\n",
      "r      16\n",
      "Name: cap-color, dtype: int64\n",
      "\n",
      "bruises가 가지고 있는 값의 종류 :  \n",
      "\n",
      "f    4748\n",
      "t    3376\n",
      "Name: bruises, dtype: int64\n",
      "\n",
      "odor가 가지고 있는 값의 종류 :  \n",
      "\n",
      "n    3528\n",
      "f    2160\n",
      "y     576\n",
      "s     576\n",
      "a     400\n",
      "l     400\n",
      "p     256\n",
      "c     192\n",
      "m      36\n",
      "Name: odor, dtype: int64\n",
      "\n",
      "gill-attachment가 가지고 있는 값의 종류 :  \n",
      "\n",
      "f    7914\n",
      "a     210\n",
      "Name: gill-attachment, dtype: int64\n",
      "\n",
      "gill-spacing가 가지고 있는 값의 종류 :  \n",
      "\n",
      "c    6812\n",
      "w    1312\n",
      "Name: gill-spacing, dtype: int64\n",
      "\n",
      "gill-size가 가지고 있는 값의 종류 :  \n",
      "\n",
      "b    5612\n",
      "n    2512\n",
      "Name: gill-size, dtype: int64\n",
      "\n",
      "gill-color가 가지고 있는 값의 종류 :  \n",
      "\n",
      "b    1728\n",
      "p    1492\n",
      "w    1202\n",
      "n    1048\n",
      "g     752\n",
      "h     732\n",
      "u     492\n",
      "k     408\n",
      "e      96\n",
      "y      86\n",
      "o      64\n",
      "r      24\n",
      "Name: gill-color, dtype: int64\n",
      "\n",
      "stalk-shape가 가지고 있는 값의 종류 :  \n",
      "\n",
      "t    4608\n",
      "e    3516\n",
      "Name: stalk-shape, dtype: int64\n",
      "\n",
      "stalk-root가 가지고 있는 값의 종류 :  \n",
      "\n",
      "b    3776\n",
      "?    2480\n",
      "e    1120\n",
      "c     556\n",
      "r     192\n",
      "Name: stalk-root, dtype: int64\n",
      "\n",
      "stalk-surface-above-ring가 가지고 있는 값의 종류 :  \n",
      "\n",
      "s    5176\n",
      "k    2372\n",
      "f     552\n",
      "y      24\n",
      "Name: stalk-surface-above-ring, dtype: int64\n",
      "\n",
      "stalk-surface-below-ring가 가지고 있는 값의 종류 :  \n",
      "\n",
      "s    4936\n",
      "k    2304\n",
      "f     600\n",
      "y     284\n",
      "Name: stalk-surface-below-ring, dtype: int64\n",
      "\n",
      "stalk-color-above-ring가 가지고 있는 값의 종류 :  \n",
      "\n",
      "w    4464\n",
      "p    1872\n",
      "g     576\n",
      "n     448\n",
      "b     432\n",
      "o     192\n",
      "e      96\n",
      "c      36\n",
      "y       8\n",
      "Name: stalk-color-above-ring, dtype: int64\n",
      "\n",
      "stalk-color-below-ring가 가지고 있는 값의 종류 :  \n",
      "\n",
      "w    4384\n",
      "p    1872\n",
      "g     576\n",
      "n     512\n",
      "b     432\n",
      "o     192\n",
      "e      96\n",
      "c      36\n",
      "y      24\n",
      "Name: stalk-color-below-ring, dtype: int64\n",
      "\n",
      "veil-type가 가지고 있는 값의 종류 :  \n",
      "\n",
      "p    8124\n",
      "Name: veil-type, dtype: int64\n",
      "\n",
      "veil-color가 가지고 있는 값의 종류 :  \n",
      "\n",
      "w    7924\n",
      "n      96\n",
      "o      96\n",
      "y       8\n",
      "Name: veil-color, dtype: int64\n",
      "\n",
      "ring-number가 가지고 있는 값의 종류 :  \n",
      "\n",
      "o    7488\n",
      "t     600\n",
      "n      36\n",
      "Name: ring-number, dtype: int64\n",
      "\n",
      "ring-type가 가지고 있는 값의 종류 :  \n",
      "\n",
      "p    3968\n",
      "e    2776\n",
      "l    1296\n",
      "f      48\n",
      "n      36\n",
      "Name: ring-type, dtype: int64\n",
      "\n",
      "spore-print-color가 가지고 있는 값의 종류 :  \n",
      "\n",
      "w    2388\n",
      "n    1968\n",
      "k    1872\n",
      "h    1632\n",
      "r      72\n",
      "u      48\n",
      "o      48\n",
      "y      48\n",
      "b      48\n",
      "Name: spore-print-color, dtype: int64\n",
      "\n",
      "population가 가지고 있는 값의 종류 :  \n",
      "\n",
      "v    4040\n",
      "y    1712\n",
      "s    1248\n",
      "n     400\n",
      "a     384\n",
      "c     340\n",
      "Name: population, dtype: int64\n",
      "\n",
      "habitat가 가지고 있는 값의 종류 :  \n",
      "\n",
      "d    3148\n",
      "g    2148\n",
      "p    1144\n",
      "l     832\n",
      "u     368\n",
      "m     292\n",
      "w     192\n",
      "Name: habitat, dtype: int64\n"
     ]
    }
   ],
   "source": [
    "for i in mush.keys():\n",
    "    val = mush[i].value_counts()\n",
    "    print('\\n{}가 가지고 있는 값의 종류 :  \\n\\n{}'.format(i, val))"
   ]
  },
  {
   "cell_type": "code",
   "execution_count": 10,
   "id": "85de0573-32c7-4c18-ae2b-b5e8570f9f84",
   "metadata": {
    "execution": {
     "iopub.execute_input": "2022-11-25T05:27:38.675294Z",
     "iopub.status.busy": "2022-11-25T05:27:38.675294Z",
     "iopub.status.idle": "2022-11-25T05:27:38.691266Z",
     "shell.execute_reply": "2022-11-25T05:27:38.691266Z",
     "shell.execute_reply.started": "2022-11-25T05:27:38.675294Z"
    },
    "tags": []
   },
   "outputs": [
    {
     "data": {
      "text/plain": [
       "23"
      ]
     },
     "execution_count": 10,
     "metadata": {},
     "output_type": "execute_result"
    }
   ],
   "source": [
    "len(df.columns)"
   ]
  },
  {
   "cell_type": "code",
   "execution_count": 11,
   "id": "04d360e3-9f1a-4b46-b33e-c734c0f7f12a",
   "metadata": {
    "execution": {
     "iopub.execute_input": "2022-11-25T05:27:39.100805Z",
     "iopub.status.busy": "2022-11-25T05:27:39.100805Z",
     "iopub.status.idle": "2022-11-25T05:27:39.125246Z",
     "shell.execute_reply": "2022-11-25T05:27:39.125246Z",
     "shell.execute_reply.started": "2022-11-25T05:27:39.100805Z"
    },
    "tags": []
   },
   "outputs": [],
   "source": [
    "# 다 같은 값이 들어있는 컬럼 삭제\n",
    "df = df.drop('veil-type', axis=1)"
   ]
  },
  {
   "cell_type": "code",
   "execution_count": 12,
   "id": "227592de-f43a-48a1-ba0a-7bfcbc5d55b2",
   "metadata": {
    "execution": {
     "iopub.execute_input": "2022-11-25T05:27:40.094682Z",
     "iopub.status.busy": "2022-11-25T05:27:40.094682Z",
     "iopub.status.idle": "2022-11-25T05:27:40.119467Z",
     "shell.execute_reply": "2022-11-25T05:27:40.119467Z",
     "shell.execute_reply.started": "2022-11-25T05:27:40.094682Z"
    },
    "tags": []
   },
   "outputs": [
    {
     "data": {
      "text/plain": [
       "22"
      ]
     },
     "execution_count": 12,
     "metadata": {},
     "output_type": "execute_result"
    }
   ],
   "source": [
    "len(df.columns)"
   ]
  },
  {
   "cell_type": "code",
   "execution_count": 13,
   "id": "c9217aab-bf18-4346-abf0-2a36df192ea7",
   "metadata": {
    "execution": {
     "iopub.execute_input": "2022-11-25T05:28:18.989865Z",
     "iopub.status.busy": "2022-11-25T05:28:18.989865Z",
     "iopub.status.idle": "2022-11-25T05:28:19.030421Z",
     "shell.execute_reply": "2022-11-25T05:28:19.030421Z",
     "shell.execute_reply.started": "2022-11-25T05:28:18.989865Z"
    },
    "tags": []
   },
   "outputs": [],
   "source": [
    "# 라벨 인코딩\n",
    "le = LabelEncoder()\n",
    "new_cat = pd.DataFrame()\n",
    "for i in range(0, 22):\n",
    "    le.fit(df.iloc[:, i])\n",
    "    le_encoded = le.transform(df.iloc[:, i])\n",
    "    new_cat[df.columns[i]] = le_encoded"
   ]
  },
  {
   "cell_type": "code",
   "execution_count": 14,
   "id": "528b5094-8e11-483b-97d0-6d90fcea3d4c",
   "metadata": {
    "execution": {
     "iopub.execute_input": "2022-11-25T05:28:21.186725Z",
     "iopub.status.busy": "2022-11-25T05:28:21.186725Z",
     "iopub.status.idle": "2022-11-25T05:28:21.226741Z",
     "shell.execute_reply": "2022-11-25T05:28:21.226741Z",
     "shell.execute_reply.started": "2022-11-25T05:28:21.186725Z"
    },
    "tags": []
   },
   "outputs": [
    {
     "data": {
      "text/html": [
       "<div>\n",
       "<style scoped>\n",
       "    .dataframe tbody tr th:only-of-type {\n",
       "        vertical-align: middle;\n",
       "    }\n",
       "\n",
       "    .dataframe tbody tr th {\n",
       "        vertical-align: top;\n",
       "    }\n",
       "\n",
       "    .dataframe thead th {\n",
       "        text-align: right;\n",
       "    }\n",
       "</style>\n",
       "<table border=\"1\" class=\"dataframe\">\n",
       "  <thead>\n",
       "    <tr style=\"text-align: right;\">\n",
       "      <th></th>\n",
       "      <th>class</th>\n",
       "      <th>cap-shape</th>\n",
       "      <th>cap-surface</th>\n",
       "      <th>cap-color</th>\n",
       "      <th>bruises</th>\n",
       "      <th>odor</th>\n",
       "      <th>gill-attachment</th>\n",
       "      <th>gill-spacing</th>\n",
       "      <th>gill-size</th>\n",
       "      <th>gill-color</th>\n",
       "      <th>...</th>\n",
       "      <th>stalk-surface-above-ring</th>\n",
       "      <th>stalk-surface-below-ring</th>\n",
       "      <th>stalk-color-above-ring</th>\n",
       "      <th>stalk-color-below-ring</th>\n",
       "      <th>veil-color</th>\n",
       "      <th>ring-number</th>\n",
       "      <th>ring-type</th>\n",
       "      <th>spore-print-color</th>\n",
       "      <th>population</th>\n",
       "      <th>habitat</th>\n",
       "    </tr>\n",
       "  </thead>\n",
       "  <tbody>\n",
       "    <tr>\n",
       "      <th>0</th>\n",
       "      <td>1</td>\n",
       "      <td>5</td>\n",
       "      <td>2</td>\n",
       "      <td>4</td>\n",
       "      <td>1</td>\n",
       "      <td>6</td>\n",
       "      <td>1</td>\n",
       "      <td>0</td>\n",
       "      <td>1</td>\n",
       "      <td>4</td>\n",
       "      <td>...</td>\n",
       "      <td>2</td>\n",
       "      <td>2</td>\n",
       "      <td>7</td>\n",
       "      <td>7</td>\n",
       "      <td>2</td>\n",
       "      <td>1</td>\n",
       "      <td>4</td>\n",
       "      <td>2</td>\n",
       "      <td>3</td>\n",
       "      <td>5</td>\n",
       "    </tr>\n",
       "    <tr>\n",
       "      <th>1</th>\n",
       "      <td>0</td>\n",
       "      <td>5</td>\n",
       "      <td>2</td>\n",
       "      <td>9</td>\n",
       "      <td>1</td>\n",
       "      <td>0</td>\n",
       "      <td>1</td>\n",
       "      <td>0</td>\n",
       "      <td>0</td>\n",
       "      <td>4</td>\n",
       "      <td>...</td>\n",
       "      <td>2</td>\n",
       "      <td>2</td>\n",
       "      <td>7</td>\n",
       "      <td>7</td>\n",
       "      <td>2</td>\n",
       "      <td>1</td>\n",
       "      <td>4</td>\n",
       "      <td>3</td>\n",
       "      <td>2</td>\n",
       "      <td>1</td>\n",
       "    </tr>\n",
       "    <tr>\n",
       "      <th>2</th>\n",
       "      <td>0</td>\n",
       "      <td>0</td>\n",
       "      <td>2</td>\n",
       "      <td>8</td>\n",
       "      <td>1</td>\n",
       "      <td>3</td>\n",
       "      <td>1</td>\n",
       "      <td>0</td>\n",
       "      <td>0</td>\n",
       "      <td>5</td>\n",
       "      <td>...</td>\n",
       "      <td>2</td>\n",
       "      <td>2</td>\n",
       "      <td>7</td>\n",
       "      <td>7</td>\n",
       "      <td>2</td>\n",
       "      <td>1</td>\n",
       "      <td>4</td>\n",
       "      <td>3</td>\n",
       "      <td>2</td>\n",
       "      <td>3</td>\n",
       "    </tr>\n",
       "    <tr>\n",
       "      <th>3</th>\n",
       "      <td>1</td>\n",
       "      <td>5</td>\n",
       "      <td>3</td>\n",
       "      <td>8</td>\n",
       "      <td>1</td>\n",
       "      <td>6</td>\n",
       "      <td>1</td>\n",
       "      <td>0</td>\n",
       "      <td>1</td>\n",
       "      <td>5</td>\n",
       "      <td>...</td>\n",
       "      <td>2</td>\n",
       "      <td>2</td>\n",
       "      <td>7</td>\n",
       "      <td>7</td>\n",
       "      <td>2</td>\n",
       "      <td>1</td>\n",
       "      <td>4</td>\n",
       "      <td>2</td>\n",
       "      <td>3</td>\n",
       "      <td>5</td>\n",
       "    </tr>\n",
       "    <tr>\n",
       "      <th>4</th>\n",
       "      <td>0</td>\n",
       "      <td>5</td>\n",
       "      <td>2</td>\n",
       "      <td>3</td>\n",
       "      <td>0</td>\n",
       "      <td>5</td>\n",
       "      <td>1</td>\n",
       "      <td>1</td>\n",
       "      <td>0</td>\n",
       "      <td>4</td>\n",
       "      <td>...</td>\n",
       "      <td>2</td>\n",
       "      <td>2</td>\n",
       "      <td>7</td>\n",
       "      <td>7</td>\n",
       "      <td>2</td>\n",
       "      <td>1</td>\n",
       "      <td>0</td>\n",
       "      <td>3</td>\n",
       "      <td>0</td>\n",
       "      <td>1</td>\n",
       "    </tr>\n",
       "    <tr>\n",
       "      <th>...</th>\n",
       "      <td>...</td>\n",
       "      <td>...</td>\n",
       "      <td>...</td>\n",
       "      <td>...</td>\n",
       "      <td>...</td>\n",
       "      <td>...</td>\n",
       "      <td>...</td>\n",
       "      <td>...</td>\n",
       "      <td>...</td>\n",
       "      <td>...</td>\n",
       "      <td>...</td>\n",
       "      <td>...</td>\n",
       "      <td>...</td>\n",
       "      <td>...</td>\n",
       "      <td>...</td>\n",
       "      <td>...</td>\n",
       "      <td>...</td>\n",
       "      <td>...</td>\n",
       "      <td>...</td>\n",
       "      <td>...</td>\n",
       "      <td>...</td>\n",
       "    </tr>\n",
       "    <tr>\n",
       "      <th>8119</th>\n",
       "      <td>0</td>\n",
       "      <td>3</td>\n",
       "      <td>2</td>\n",
       "      <td>4</td>\n",
       "      <td>0</td>\n",
       "      <td>5</td>\n",
       "      <td>0</td>\n",
       "      <td>0</td>\n",
       "      <td>0</td>\n",
       "      <td>11</td>\n",
       "      <td>...</td>\n",
       "      <td>2</td>\n",
       "      <td>2</td>\n",
       "      <td>5</td>\n",
       "      <td>5</td>\n",
       "      <td>1</td>\n",
       "      <td>1</td>\n",
       "      <td>4</td>\n",
       "      <td>0</td>\n",
       "      <td>1</td>\n",
       "      <td>2</td>\n",
       "    </tr>\n",
       "    <tr>\n",
       "      <th>8120</th>\n",
       "      <td>0</td>\n",
       "      <td>5</td>\n",
       "      <td>2</td>\n",
       "      <td>4</td>\n",
       "      <td>0</td>\n",
       "      <td>5</td>\n",
       "      <td>0</td>\n",
       "      <td>0</td>\n",
       "      <td>0</td>\n",
       "      <td>11</td>\n",
       "      <td>...</td>\n",
       "      <td>2</td>\n",
       "      <td>2</td>\n",
       "      <td>5</td>\n",
       "      <td>5</td>\n",
       "      <td>0</td>\n",
       "      <td>1</td>\n",
       "      <td>4</td>\n",
       "      <td>0</td>\n",
       "      <td>4</td>\n",
       "      <td>2</td>\n",
       "    </tr>\n",
       "    <tr>\n",
       "      <th>8121</th>\n",
       "      <td>0</td>\n",
       "      <td>2</td>\n",
       "      <td>2</td>\n",
       "      <td>4</td>\n",
       "      <td>0</td>\n",
       "      <td>5</td>\n",
       "      <td>0</td>\n",
       "      <td>0</td>\n",
       "      <td>0</td>\n",
       "      <td>5</td>\n",
       "      <td>...</td>\n",
       "      <td>2</td>\n",
       "      <td>2</td>\n",
       "      <td>5</td>\n",
       "      <td>5</td>\n",
       "      <td>1</td>\n",
       "      <td>1</td>\n",
       "      <td>4</td>\n",
       "      <td>0</td>\n",
       "      <td>1</td>\n",
       "      <td>2</td>\n",
       "    </tr>\n",
       "    <tr>\n",
       "      <th>8122</th>\n",
       "      <td>1</td>\n",
       "      <td>3</td>\n",
       "      <td>3</td>\n",
       "      <td>4</td>\n",
       "      <td>0</td>\n",
       "      <td>8</td>\n",
       "      <td>1</td>\n",
       "      <td>0</td>\n",
       "      <td>1</td>\n",
       "      <td>0</td>\n",
       "      <td>...</td>\n",
       "      <td>2</td>\n",
       "      <td>1</td>\n",
       "      <td>7</td>\n",
       "      <td>7</td>\n",
       "      <td>2</td>\n",
       "      <td>1</td>\n",
       "      <td>0</td>\n",
       "      <td>7</td>\n",
       "      <td>4</td>\n",
       "      <td>2</td>\n",
       "    </tr>\n",
       "    <tr>\n",
       "      <th>8123</th>\n",
       "      <td>0</td>\n",
       "      <td>5</td>\n",
       "      <td>2</td>\n",
       "      <td>4</td>\n",
       "      <td>0</td>\n",
       "      <td>5</td>\n",
       "      <td>0</td>\n",
       "      <td>0</td>\n",
       "      <td>0</td>\n",
       "      <td>11</td>\n",
       "      <td>...</td>\n",
       "      <td>2</td>\n",
       "      <td>2</td>\n",
       "      <td>5</td>\n",
       "      <td>5</td>\n",
       "      <td>1</td>\n",
       "      <td>1</td>\n",
       "      <td>4</td>\n",
       "      <td>4</td>\n",
       "      <td>1</td>\n",
       "      <td>2</td>\n",
       "    </tr>\n",
       "  </tbody>\n",
       "</table>\n",
       "<p>8124 rows × 22 columns</p>\n",
       "</div>"
      ],
      "text/plain": [
       "      class  cap-shape  cap-surface  cap-color  bruises  odor  \\\n",
       "0         1          5            2          4        1     6   \n",
       "1         0          5            2          9        1     0   \n",
       "2         0          0            2          8        1     3   \n",
       "3         1          5            3          8        1     6   \n",
       "4         0          5            2          3        0     5   \n",
       "...     ...        ...          ...        ...      ...   ...   \n",
       "8119      0          3            2          4        0     5   \n",
       "8120      0          5            2          4        0     5   \n",
       "8121      0          2            2          4        0     5   \n",
       "8122      1          3            3          4        0     8   \n",
       "8123      0          5            2          4        0     5   \n",
       "\n",
       "      gill-attachment  gill-spacing  gill-size  gill-color  ...  \\\n",
       "0                   1             0          1           4  ...   \n",
       "1                   1             0          0           4  ...   \n",
       "2                   1             0          0           5  ...   \n",
       "3                   1             0          1           5  ...   \n",
       "4                   1             1          0           4  ...   \n",
       "...               ...           ...        ...         ...  ...   \n",
       "8119                0             0          0          11  ...   \n",
       "8120                0             0          0          11  ...   \n",
       "8121                0             0          0           5  ...   \n",
       "8122                1             0          1           0  ...   \n",
       "8123                0             0          0          11  ...   \n",
       "\n",
       "      stalk-surface-above-ring  stalk-surface-below-ring  \\\n",
       "0                            2                         2   \n",
       "1                            2                         2   \n",
       "2                            2                         2   \n",
       "3                            2                         2   \n",
       "4                            2                         2   \n",
       "...                        ...                       ...   \n",
       "8119                         2                         2   \n",
       "8120                         2                         2   \n",
       "8121                         2                         2   \n",
       "8122                         2                         1   \n",
       "8123                         2                         2   \n",
       "\n",
       "      stalk-color-above-ring  stalk-color-below-ring  veil-color  ring-number  \\\n",
       "0                          7                       7           2            1   \n",
       "1                          7                       7           2            1   \n",
       "2                          7                       7           2            1   \n",
       "3                          7                       7           2            1   \n",
       "4                          7                       7           2            1   \n",
       "...                      ...                     ...         ...          ...   \n",
       "8119                       5                       5           1            1   \n",
       "8120                       5                       5           0            1   \n",
       "8121                       5                       5           1            1   \n",
       "8122                       7                       7           2            1   \n",
       "8123                       5                       5           1            1   \n",
       "\n",
       "      ring-type  spore-print-color  population  habitat  \n",
       "0             4                  2           3        5  \n",
       "1             4                  3           2        1  \n",
       "2             4                  3           2        3  \n",
       "3             4                  2           3        5  \n",
       "4             0                  3           0        1  \n",
       "...         ...                ...         ...      ...  \n",
       "8119          4                  0           1        2  \n",
       "8120          4                  0           4        2  \n",
       "8121          4                  0           1        2  \n",
       "8122          0                  7           4        2  \n",
       "8123          4                  4           1        2  \n",
       "\n",
       "[8124 rows x 22 columns]"
      ]
     },
     "execution_count": 14,
     "metadata": {},
     "output_type": "execute_result"
    }
   ],
   "source": [
    "new_cat  # 라벨 인코딩 적용되었는지 확인"
   ]
  },
  {
   "cell_type": "code",
   "execution_count": 15,
   "id": "3ff605da-802c-491f-88f8-e62e539f31c7",
   "metadata": {
    "execution": {
     "iopub.execute_input": "2022-11-25T05:28:34.744531Z",
     "iopub.status.busy": "2022-11-25T05:28:34.744531Z",
     "iopub.status.idle": "2022-11-25T05:28:34.760447Z",
     "shell.execute_reply": "2022-11-25T05:28:34.760230Z",
     "shell.execute_reply.started": "2022-11-25T05:28:34.744531Z"
    },
    "tags": []
   },
   "outputs": [],
   "source": [
    "X = new_cat.iloc[:, 1:]  # 독립변수 추출\n",
    "y = new_cat.iloc[:, 0]  # 타겟값 추출"
   ]
  },
  {
   "cell_type": "code",
   "execution_count": 16,
   "id": "e96d4b70-36e0-465e-9e9a-99426b7904e4",
   "metadata": {
    "execution": {
     "iopub.execute_input": "2022-11-25T05:28:35.792614Z",
     "iopub.status.busy": "2022-11-25T05:28:35.792614Z",
     "iopub.status.idle": "2022-11-25T05:28:35.809006Z",
     "shell.execute_reply": "2022-11-25T05:28:35.809006Z",
     "shell.execute_reply.started": "2022-11-25T05:28:35.792614Z"
    },
    "tags": []
   },
   "outputs": [],
   "source": [
    "X_train, X_test, y_train, y_test = train_test_split(X, y, test_size=0.2)"
   ]
  },
  {
   "cell_type": "code",
   "execution_count": 17,
   "id": "e0698563-1f05-4e88-acef-022da006830e",
   "metadata": {
    "execution": {
     "iopub.execute_input": "2022-11-25T05:28:36.253137Z",
     "iopub.status.busy": "2022-11-25T05:28:36.253137Z",
     "iopub.status.idle": "2022-11-25T05:28:36.270112Z",
     "shell.execute_reply": "2022-11-25T05:28:36.269099Z",
     "shell.execute_reply.started": "2022-11-25T05:28:36.253137Z"
    },
    "tags": []
   },
   "outputs": [
    {
     "data": {
      "text/plain": [
       "(6499, 21)"
      ]
     },
     "execution_count": 17,
     "metadata": {},
     "output_type": "execute_result"
    }
   ],
   "source": [
    "X_train.shape"
   ]
  },
  {
   "cell_type": "code",
   "execution_count": 18,
   "id": "224b34fc-d91f-439f-896c-f4a66b3a16d4",
   "metadata": {
    "execution": {
     "iopub.execute_input": "2022-11-25T05:28:37.493842Z",
     "iopub.status.busy": "2022-11-25T05:28:37.493842Z",
     "iopub.status.idle": "2022-11-25T05:28:37.518312Z",
     "shell.execute_reply": "2022-11-25T05:28:37.518312Z",
     "shell.execute_reply.started": "2022-11-25T05:28:37.493842Z"
    },
    "tags": []
   },
   "outputs": [
    {
     "data": {
      "text/plain": [
       "(6499,)"
      ]
     },
     "execution_count": 18,
     "metadata": {},
     "output_type": "execute_result"
    }
   ],
   "source": [
    "y_train.shape"
   ]
  },
  {
   "cell_type": "markdown",
   "id": "f25ba1e2-2ea0-456b-a37c-8344f24be376",
   "metadata": {},
   "source": [
    "# 모델학습 후 평가"
   ]
  },
  {
   "cell_type": "markdown",
   "id": "f9f15efb-acb1-4308-b674-0612174e1ac4",
   "metadata": {
    "tags": []
   },
   "source": [
    "## LGBMClassifier"
   ]
  },
  {
   "cell_type": "markdown",
   "id": "0df2db3c-db7c-43dd-b1d4-4920a78b444c",
   "metadata": {},
   "source": [
    "### 모델 학습"
   ]
  },
  {
   "cell_type": "code",
   "execution_count": 19,
   "id": "37f7a6bd-ca22-4247-88a9-219eab61afce",
   "metadata": {
    "execution": {
     "iopub.execute_input": "2022-11-25T05:29:05.905457Z",
     "iopub.status.busy": "2022-11-25T05:29:05.905457Z",
     "iopub.status.idle": "2022-11-25T05:29:06.439909Z",
     "shell.execute_reply": "2022-11-25T05:29:06.439909Z",
     "shell.execute_reply.started": "2022-11-25T05:29:05.905457Z"
    },
    "tags": []
   },
   "outputs": [
    {
     "data": {
      "text/html": [
       "<style>#sk-container-id-1 {color: black;background-color: white;}#sk-container-id-1 pre{padding: 0;}#sk-container-id-1 div.sk-toggleable {background-color: white;}#sk-container-id-1 label.sk-toggleable__label {cursor: pointer;display: block;width: 100%;margin-bottom: 0;padding: 0.3em;box-sizing: border-box;text-align: center;}#sk-container-id-1 label.sk-toggleable__label-arrow:before {content: \"▸\";float: left;margin-right: 0.25em;color: #696969;}#sk-container-id-1 label.sk-toggleable__label-arrow:hover:before {color: black;}#sk-container-id-1 div.sk-estimator:hover label.sk-toggleable__label-arrow:before {color: black;}#sk-container-id-1 div.sk-toggleable__content {max-height: 0;max-width: 0;overflow: hidden;text-align: left;background-color: #f0f8ff;}#sk-container-id-1 div.sk-toggleable__content pre {margin: 0.2em;color: black;border-radius: 0.25em;background-color: #f0f8ff;}#sk-container-id-1 input.sk-toggleable__control:checked~div.sk-toggleable__content {max-height: 200px;max-width: 100%;overflow: auto;}#sk-container-id-1 input.sk-toggleable__control:checked~label.sk-toggleable__label-arrow:before {content: \"▾\";}#sk-container-id-1 div.sk-estimator input.sk-toggleable__control:checked~label.sk-toggleable__label {background-color: #d4ebff;}#sk-container-id-1 div.sk-label input.sk-toggleable__control:checked~label.sk-toggleable__label {background-color: #d4ebff;}#sk-container-id-1 input.sk-hidden--visually {border: 0;clip: rect(1px 1px 1px 1px);clip: rect(1px, 1px, 1px, 1px);height: 1px;margin: -1px;overflow: hidden;padding: 0;position: absolute;width: 1px;}#sk-container-id-1 div.sk-estimator {font-family: monospace;background-color: #f0f8ff;border: 1px dotted black;border-radius: 0.25em;box-sizing: border-box;margin-bottom: 0.5em;}#sk-container-id-1 div.sk-estimator:hover {background-color: #d4ebff;}#sk-container-id-1 div.sk-parallel-item::after {content: \"\";width: 100%;border-bottom: 1px solid gray;flex-grow: 1;}#sk-container-id-1 div.sk-label:hover label.sk-toggleable__label {background-color: #d4ebff;}#sk-container-id-1 div.sk-serial::before {content: \"\";position: absolute;border-left: 1px solid gray;box-sizing: border-box;top: 0;bottom: 0;left: 50%;z-index: 0;}#sk-container-id-1 div.sk-serial {display: flex;flex-direction: column;align-items: center;background-color: white;padding-right: 0.2em;padding-left: 0.2em;position: relative;}#sk-container-id-1 div.sk-item {position: relative;z-index: 1;}#sk-container-id-1 div.sk-parallel {display: flex;align-items: stretch;justify-content: center;background-color: white;position: relative;}#sk-container-id-1 div.sk-item::before, #sk-container-id-1 div.sk-parallel-item::before {content: \"\";position: absolute;border-left: 1px solid gray;box-sizing: border-box;top: 0;bottom: 0;left: 50%;z-index: -1;}#sk-container-id-1 div.sk-parallel-item {display: flex;flex-direction: column;z-index: 1;position: relative;background-color: white;}#sk-container-id-1 div.sk-parallel-item:first-child::after {align-self: flex-end;width: 50%;}#sk-container-id-1 div.sk-parallel-item:last-child::after {align-self: flex-start;width: 50%;}#sk-container-id-1 div.sk-parallel-item:only-child::after {width: 0;}#sk-container-id-1 div.sk-dashed-wrapped {border: 1px dashed gray;margin: 0 0.4em 0.5em 0.4em;box-sizing: border-box;padding-bottom: 0.4em;background-color: white;}#sk-container-id-1 div.sk-label label {font-family: monospace;font-weight: bold;display: inline-block;line-height: 1.2em;}#sk-container-id-1 div.sk-label-container {text-align: center;}#sk-container-id-1 div.sk-container {/* jupyter's `normalize.less` sets `[hidden] { display: none; }` but bootstrap.min.css set `[hidden] { display: none !important; }` so we also need the `!important` here to be able to override the default hidden behavior on the sphinx rendered scikit-learn.org. See: https://github.com/scikit-learn/scikit-learn/issues/21755 */display: inline-block !important;position: relative;}#sk-container-id-1 div.sk-text-repr-fallback {display: none;}</style><div id=\"sk-container-id-1\" class=\"sk-top-container\"><div class=\"sk-text-repr-fallback\"><pre>LGBMClassifier(application=&#x27;binary&#x27;)</pre><b>In a Jupyter environment, please rerun this cell to show the HTML representation or trust the notebook. <br />On GitHub, the HTML representation is unable to render, please try loading this page with nbviewer.org.</b></div><div class=\"sk-container\" hidden><div class=\"sk-item\"><div class=\"sk-estimator sk-toggleable\"><input class=\"sk-toggleable__control sk-hidden--visually\" id=\"sk-estimator-id-1\" type=\"checkbox\" checked><label for=\"sk-estimator-id-1\" class=\"sk-toggleable__label sk-toggleable__label-arrow\">LGBMClassifier</label><div class=\"sk-toggleable__content\"><pre>LGBMClassifier(application=&#x27;binary&#x27;)</pre></div></div></div></div></div>"
      ],
      "text/plain": [
       "LGBMClassifier(application='binary')"
      ]
     },
     "execution_count": 19,
     "metadata": {},
     "output_type": "execute_result"
    }
   ],
   "source": [
    "# gbdt = gradient boosting decision tree\n",
    "gbm = LGBMClassifier(max_depth=-1, application='binary', boosting_type='gbdt')\n",
    "gbm.fit(X_train, y_train)"
   ]
  },
  {
   "cell_type": "markdown",
   "id": "2fd4e4f5-ae67-41ae-bab2-3c4591eb687d",
   "metadata": {},
   "source": [
    "### 모델 평가"
   ]
  },
  {
   "cell_type": "code",
   "execution_count": 20,
   "id": "c3e2c082-8ca4-4524-aabf-3a6d26474379",
   "metadata": {
    "execution": {
     "iopub.execute_input": "2022-11-25T05:29:25.314932Z",
     "iopub.status.busy": "2022-11-25T05:29:25.314932Z",
     "iopub.status.idle": "2022-11-25T05:29:25.330721Z",
     "shell.execute_reply": "2022-11-25T05:29:25.330721Z",
     "shell.execute_reply.started": "2022-11-25T05:29:25.314932Z"
    },
    "tags": []
   },
   "outputs": [
    {
     "name": "stdout",
     "output_type": "stream",
     "text": [
      "1.0\n",
      "1.0\n"
     ]
    }
   ],
   "source": [
    "pred = gbm.predict(X_test)\n",
    "print(accuracy_score(pred, y_test))\n",
    "print(f1_score(pred, y_test))"
   ]
  },
  {
   "cell_type": "markdown",
   "id": "6c2aa2c4-0f05-480a-952f-af6457734d21",
   "metadata": {},
   "source": [
    "## CatBoostClassifier"
   ]
  },
  {
   "cell_type": "markdown",
   "id": "cf961c91-8982-4f53-b61e-706f6948e720",
   "metadata": {},
   "source": [
    "### 모델 학습"
   ]
  },
  {
   "cell_type": "code",
   "execution_count": 21,
   "id": "0d0f3169-6851-43fb-87a6-afc5893a6c2d",
   "metadata": {
    "execution": {
     "iopub.execute_input": "2022-11-25T05:29:39.805260Z",
     "iopub.status.busy": "2022-11-25T05:29:39.805260Z",
     "iopub.status.idle": "2022-11-25T05:29:40.321337Z",
     "shell.execute_reply": "2022-11-25T05:29:40.321337Z",
     "shell.execute_reply.started": "2022-11-25T05:29:39.805260Z"
    },
    "tags": []
   },
   "outputs": [
    {
     "name": "stdout",
     "output_type": "stream",
     "text": [
      "Learning rate set to 0.189243\n",
      "0:\tlearn: 0.3082760\ttotal: 175ms\tremaining: 17.3s\n",
      "1:\tlearn: 0.1223287\ttotal: 177ms\tremaining: 8.69s\n",
      "2:\tlearn: 0.0740286\ttotal: 180ms\tremaining: 5.82s\n",
      "3:\tlearn: 0.0503521\ttotal: 183ms\tremaining: 4.39s\n",
      "4:\tlearn: 0.0356191\ttotal: 185ms\tremaining: 3.52s\n",
      "5:\tlearn: 0.0288164\ttotal: 188ms\tremaining: 2.94s\n",
      "6:\tlearn: 0.0165908\ttotal: 190ms\tremaining: 2.53s\n",
      "7:\tlearn: 0.0121275\ttotal: 193ms\tremaining: 2.22s\n",
      "8:\tlearn: 0.0102235\ttotal: 195ms\tremaining: 1.97s\n",
      "9:\tlearn: 0.0077852\ttotal: 198ms\tremaining: 1.78s\n",
      "10:\tlearn: 0.0069568\ttotal: 200ms\tremaining: 1.62s\n",
      "11:\tlearn: 0.0052860\ttotal: 203ms\tremaining: 1.49s\n",
      "12:\tlearn: 0.0047260\ttotal: 206ms\tremaining: 1.38s\n",
      "13:\tlearn: 0.0041807\ttotal: 209ms\tremaining: 1.28s\n",
      "14:\tlearn: 0.0037511\ttotal: 211ms\tremaining: 1.2s\n",
      "15:\tlearn: 0.0034086\ttotal: 214ms\tremaining: 1.12s\n",
      "16:\tlearn: 0.0027974\ttotal: 216ms\tremaining: 1.05s\n",
      "17:\tlearn: 0.0024028\ttotal: 219ms\tremaining: 997ms\n",
      "18:\tlearn: 0.0022011\ttotal: 222ms\tremaining: 945ms\n",
      "19:\tlearn: 0.0021216\ttotal: 224ms\tremaining: 898ms\n",
      "20:\tlearn: 0.0018679\ttotal: 227ms\tremaining: 855ms\n",
      "21:\tlearn: 0.0017864\ttotal: 230ms\tremaining: 815ms\n",
      "22:\tlearn: 0.0015756\ttotal: 232ms\tremaining: 778ms\n",
      "23:\tlearn: 0.0014483\ttotal: 235ms\tremaining: 744ms\n",
      "24:\tlearn: 0.0013642\ttotal: 237ms\tremaining: 712ms\n",
      "25:\tlearn: 0.0012433\ttotal: 240ms\tremaining: 682ms\n",
      "26:\tlearn: 0.0011780\ttotal: 242ms\tremaining: 655ms\n",
      "27:\tlearn: 0.0011779\ttotal: 244ms\tremaining: 628ms\n",
      "28:\tlearn: 0.0011453\ttotal: 247ms\tremaining: 605ms\n",
      "29:\tlearn: 0.0011453\ttotal: 249ms\tremaining: 581ms\n",
      "30:\tlearn: 0.0011453\ttotal: 251ms\tremaining: 559ms\n",
      "31:\tlearn: 0.0010776\ttotal: 254ms\tremaining: 540ms\n",
      "32:\tlearn: 0.0010776\ttotal: 256ms\tremaining: 520ms\n",
      "33:\tlearn: 0.0010386\ttotal: 259ms\tremaining: 502ms\n",
      "34:\tlearn: 0.0009915\ttotal: 261ms\tremaining: 485ms\n",
      "35:\tlearn: 0.0009433\ttotal: 264ms\tremaining: 469ms\n",
      "36:\tlearn: 0.0008665\ttotal: 266ms\tremaining: 454ms\n",
      "37:\tlearn: 0.0008142\ttotal: 269ms\tremaining: 439ms\n",
      "38:\tlearn: 0.0008143\ttotal: 271ms\tremaining: 424ms\n",
      "39:\tlearn: 0.0008142\ttotal: 273ms\tremaining: 410ms\n",
      "40:\tlearn: 0.0008142\ttotal: 276ms\tremaining: 397ms\n",
      "41:\tlearn: 0.0008142\ttotal: 278ms\tremaining: 384ms\n",
      "42:\tlearn: 0.0008141\ttotal: 280ms\tremaining: 371ms\n",
      "43:\tlearn: 0.0008141\ttotal: 282ms\tremaining: 359ms\n",
      "44:\tlearn: 0.0008141\ttotal: 284ms\tremaining: 347ms\n",
      "45:\tlearn: 0.0008141\ttotal: 287ms\tremaining: 336ms\n",
      "46:\tlearn: 0.0008141\ttotal: 289ms\tremaining: 326ms\n",
      "47:\tlearn: 0.0008141\ttotal: 291ms\tremaining: 315ms\n",
      "48:\tlearn: 0.0008141\ttotal: 293ms\tremaining: 305ms\n",
      "49:\tlearn: 0.0008141\ttotal: 295ms\tremaining: 295ms\n",
      "50:\tlearn: 0.0007761\ttotal: 298ms\tremaining: 286ms\n",
      "51:\tlearn: 0.0007760\ttotal: 300ms\tremaining: 277ms\n",
      "52:\tlearn: 0.0007760\ttotal: 302ms\tremaining: 268ms\n",
      "53:\tlearn: 0.0007760\ttotal: 304ms\tremaining: 259ms\n",
      "54:\tlearn: 0.0007761\ttotal: 306ms\tremaining: 250ms\n",
      "55:\tlearn: 0.0007761\ttotal: 308ms\tremaining: 242ms\n",
      "56:\tlearn: 0.0007761\ttotal: 310ms\tremaining: 234ms\n",
      "57:\tlearn: 0.0007761\ttotal: 312ms\tremaining: 226ms\n",
      "58:\tlearn: 0.0007761\ttotal: 314ms\tremaining: 218ms\n",
      "59:\tlearn: 0.0007716\ttotal: 316ms\tremaining: 211ms\n",
      "60:\tlearn: 0.0007716\ttotal: 319ms\tremaining: 204ms\n",
      "61:\tlearn: 0.0007716\ttotal: 321ms\tremaining: 197ms\n",
      "62:\tlearn: 0.0007716\ttotal: 323ms\tremaining: 190ms\n",
      "63:\tlearn: 0.0007714\ttotal: 325ms\tremaining: 183ms\n",
      "64:\tlearn: 0.0007714\ttotal: 327ms\tremaining: 176ms\n",
      "65:\tlearn: 0.0007714\ttotal: 329ms\tremaining: 170ms\n",
      "66:\tlearn: 0.0007713\ttotal: 331ms\tremaining: 163ms\n",
      "67:\tlearn: 0.0007712\ttotal: 334ms\tremaining: 157ms\n",
      "68:\tlearn: 0.0007712\ttotal: 336ms\tremaining: 151ms\n",
      "69:\tlearn: 0.0007712\ttotal: 338ms\tremaining: 145ms\n",
      "70:\tlearn: 0.0007712\ttotal: 340ms\tremaining: 139ms\n",
      "71:\tlearn: 0.0007712\ttotal: 342ms\tremaining: 133ms\n",
      "72:\tlearn: 0.0007712\ttotal: 344ms\tremaining: 127ms\n",
      "73:\tlearn: 0.0007712\ttotal: 346ms\tremaining: 122ms\n",
      "74:\tlearn: 0.0007712\ttotal: 349ms\tremaining: 116ms\n",
      "75:\tlearn: 0.0007712\ttotal: 351ms\tremaining: 111ms\n",
      "76:\tlearn: 0.0007712\ttotal: 353ms\tremaining: 105ms\n",
      "77:\tlearn: 0.0007712\ttotal: 355ms\tremaining: 100ms\n",
      "78:\tlearn: 0.0007712\ttotal: 357ms\tremaining: 94.9ms\n",
      "79:\tlearn: 0.0007712\ttotal: 359ms\tremaining: 89.8ms\n",
      "80:\tlearn: 0.0007712\ttotal: 361ms\tremaining: 84.7ms\n",
      "81:\tlearn: 0.0007712\ttotal: 363ms\tremaining: 79.8ms\n",
      "82:\tlearn: 0.0007712\ttotal: 366ms\tremaining: 74.9ms\n",
      "83:\tlearn: 0.0007712\ttotal: 367ms\tremaining: 70ms\n",
      "84:\tlearn: 0.0007712\ttotal: 370ms\tremaining: 65.2ms\n",
      "85:\tlearn: 0.0007712\ttotal: 372ms\tremaining: 60.5ms\n",
      "86:\tlearn: 0.0007712\ttotal: 374ms\tremaining: 55.9ms\n",
      "87:\tlearn: 0.0007712\ttotal: 376ms\tremaining: 51.3ms\n",
      "88:\tlearn: 0.0007712\ttotal: 378ms\tremaining: 46.7ms\n",
      "89:\tlearn: 0.0007712\ttotal: 380ms\tremaining: 42.3ms\n",
      "90:\tlearn: 0.0007712\ttotal: 382ms\tremaining: 37.8ms\n",
      "91:\tlearn: 0.0007712\ttotal: 384ms\tremaining: 33.4ms\n",
      "92:\tlearn: 0.0007712\ttotal: 386ms\tremaining: 29.1ms\n",
      "93:\tlearn: 0.0007712\ttotal: 389ms\tremaining: 24.8ms\n",
      "94:\tlearn: 0.0007712\ttotal: 391ms\tremaining: 20.6ms\n",
      "95:\tlearn: 0.0007712\ttotal: 393ms\tremaining: 16.4ms\n",
      "96:\tlearn: 0.0007712\ttotal: 395ms\tremaining: 12.2ms\n",
      "97:\tlearn: 0.0007712\ttotal: 398ms\tremaining: 8.11ms\n",
      "98:\tlearn: 0.0007712\ttotal: 400ms\tremaining: 4.04ms\n",
      "99:\tlearn: 0.0007712\ttotal: 402ms\tremaining: 0us\n",
      "{'iterations': 100, 'random_strength': 1}\n"
     ]
    }
   ],
   "source": [
    "clf_cat = CatBoostClassifier(iterations=100, random_strength=1)\n",
    "fit_model = clf_cat.fit(X_train, y_train)\n",
    "print(fit_model.get_params())"
   ]
  },
  {
   "cell_type": "code",
   "execution_count": 22,
   "id": "17e4c591-3406-4a75-b4e4-dd91bcc1e3f6",
   "metadata": {
    "execution": {
     "iopub.execute_input": "2022-11-25T05:29:50.944013Z",
     "iopub.status.busy": "2022-11-25T05:29:50.944013Z",
     "iopub.status.idle": "2022-11-25T05:29:50.967721Z",
     "shell.execute_reply": "2022-11-25T05:29:50.967721Z",
     "shell.execute_reply.started": "2022-11-25T05:29:50.944013Z"
    },
    "tags": []
   },
   "outputs": [],
   "source": [
    "cat_pred = clf_cat.predict(X_test)\n",
    "train_pred = clf_cat.predict(X_train)"
   ]
  },
  {
   "cell_type": "code",
   "execution_count": 23,
   "id": "6985a2b8-8a1e-41b4-8ec5-18c8e4ce4176",
   "metadata": {
    "execution": {
     "iopub.execute_input": "2022-11-25T05:29:51.604551Z",
     "iopub.status.busy": "2022-11-25T05:29:51.604551Z",
     "iopub.status.idle": "2022-11-25T05:29:51.621234Z",
     "shell.execute_reply": "2022-11-25T05:29:51.621234Z",
     "shell.execute_reply.started": "2022-11-25T05:29:51.604551Z"
    },
    "tags": []
   },
   "outputs": [
    {
     "name": "stdout",
     "output_type": "stream",
     "text": [
      "1.0\n",
      "1.0\n"
     ]
    }
   ],
   "source": [
    "train_score = accuracy_score(y_train, train_pred)\n",
    "score = accuracy_score(y_test, cat_pred)\n",
    "print(train_score)\n",
    "print(score)"
   ]
  },
  {
   "cell_type": "code",
   "execution_count": 24,
   "id": "63d6aaf7-942f-419e-9403-1a7284715445",
   "metadata": {
    "execution": {
     "iopub.execute_input": "2022-11-25T05:29:54.614827Z",
     "iopub.status.busy": "2022-11-25T05:29:54.614827Z",
     "iopub.status.idle": "2022-11-25T05:29:54.638943Z",
     "shell.execute_reply": "2022-11-25T05:29:54.638943Z",
     "shell.execute_reply.started": "2022-11-25T05:29:54.614827Z"
    },
    "tags": []
   },
   "outputs": [
    {
     "name": "stdout",
     "output_type": "stream",
     "text": [
      "1.0\n",
      "1.0\n"
     ]
    }
   ],
   "source": [
    "f1_train = f1_score(y_train, train_pred)\n",
    "f1 = f1_score(y_test, cat_pred)\n",
    "print(f1_train)\n",
    "print(f1)"
   ]
  },
  {
   "cell_type": "markdown",
   "id": "34101d31-5f79-4e92-9b8d-acae4a710077",
   "metadata": {},
   "source": [
    "### 피쳐 중요도 확인\n",
    "- 정확도가 너무 높게 나와서 문제가 있는지 확인하기 위해서 중요도가 높은 열만 추출하기 위해서 중요도를 확인"
   ]
  },
  {
   "cell_type": "code",
   "execution_count": 25,
   "id": "ae657257-ba42-4722-ba8a-ffe36c7f36c8",
   "metadata": {
    "execution": {
     "iopub.execute_input": "2022-11-25T05:30:08.217681Z",
     "iopub.status.busy": "2022-11-25T05:30:08.217681Z",
     "iopub.status.idle": "2022-11-25T05:30:08.233986Z",
     "shell.execute_reply": "2022-11-25T05:30:08.232829Z",
     "shell.execute_reply.started": "2022-11-25T05:30:08.217681Z"
    },
    "tags": []
   },
   "outputs": [
    {
     "name": "stdout",
     "output_type": "stream",
     "text": [
      "[  1.   0.   2.  44. 562.   0.  28.  54.  16.  21.  55.  27.  21.   3.\n",
      "   4.   1.  19.   9.  71.  22.  41.]\n"
     ]
    }
   ],
   "source": [
    "print(f'{clf_cat.feature_importances_.round(1) * 10}')\n",
    "# 5, 8, 11, 19 번째 피쳐가 중요도가 비교적 높음"
   ]
  },
  {
   "cell_type": "code",
   "execution_count": 26,
   "id": "a9c55fbc-a602-464f-8def-cf8c976c41f9",
   "metadata": {
    "execution": {
     "iopub.execute_input": "2022-11-25T05:30:16.788842Z",
     "iopub.status.busy": "2022-11-25T05:30:16.788842Z",
     "iopub.status.idle": "2022-11-25T05:30:16.805237Z",
     "shell.execute_reply": "2022-11-25T05:30:16.805237Z",
     "shell.execute_reply.started": "2022-11-25T05:30:16.788842Z"
    },
    "tags": []
   },
   "outputs": [
    {
     "name": "stdout",
     "output_type": "stream",
     "text": [
      "<class 'pandas.core.frame.DataFrame'>\n",
      "RangeIndex: 8124 entries, 0 to 8123\n",
      "Data columns (total 22 columns):\n",
      " #   Column                    Non-Null Count  Dtype\n",
      "---  ------                    --------------  -----\n",
      " 0   class                     8124 non-null   int32\n",
      " 1   cap-shape                 8124 non-null   int32\n",
      " 2   cap-surface               8124 non-null   int32\n",
      " 3   cap-color                 8124 non-null   int32\n",
      " 4   bruises                   8124 non-null   int32\n",
      " 5   odor                      8124 non-null   int32\n",
      " 6   gill-attachment           8124 non-null   int32\n",
      " 7   gill-spacing              8124 non-null   int32\n",
      " 8   gill-size                 8124 non-null   int32\n",
      " 9   gill-color                8124 non-null   int32\n",
      " 10  stalk-shape               8124 non-null   int32\n",
      " 11  stalk-root                8124 non-null   int32\n",
      " 12  stalk-surface-above-ring  8124 non-null   int32\n",
      " 13  stalk-surface-below-ring  8124 non-null   int32\n",
      " 14  stalk-color-above-ring    8124 non-null   int32\n",
      " 15  stalk-color-below-ring    8124 non-null   int32\n",
      " 16  veil-color                8124 non-null   int32\n",
      " 17  ring-number               8124 non-null   int32\n",
      " 18  ring-type                 8124 non-null   int32\n",
      " 19  spore-print-color         8124 non-null   int32\n",
      " 20  population                8124 non-null   int32\n",
      " 21  habitat                   8124 non-null   int32\n",
      "dtypes: int32(22)\n",
      "memory usage: 698.3 KB\n"
     ]
    }
   ],
   "source": [
    "new_cat.info()"
   ]
  },
  {
   "cell_type": "markdown",
   "id": "67a67fed-ce9f-467b-8a17-443ce182bcf1",
   "metadata": {},
   "source": [
    "### 모델 재학습\n",
    "- 중요도가 비교적 높은 'odor', 'spore-print-color' 열만 학습"
   ]
  },
  {
   "cell_type": "markdown",
   "id": "3080997c-15c6-4d55-b023-d7299d8b3536",
   "metadata": {},
   "source": [
    "#### 데이터 재분리"
   ]
  },
  {
   "cell_type": "code",
   "execution_count": 27,
   "id": "b5f0c5c7-6001-4a14-8195-8568ec505626",
   "metadata": {
    "execution": {
     "iopub.execute_input": "2022-11-25T05:30:32.245686Z",
     "iopub.status.busy": "2022-11-25T05:30:32.245686Z",
     "iopub.status.idle": "2022-11-25T05:30:32.253614Z",
     "shell.execute_reply": "2022-11-25T05:30:32.253473Z",
     "shell.execute_reply.started": "2022-11-25T05:30:32.245686Z"
    },
    "tags": []
   },
   "outputs": [],
   "source": [
    "X_train, X_test, y_train, y_test = train_test_split(\n",
    "    new_cat[['odor']], y, test_size=0.2)"
   ]
  },
  {
   "cell_type": "markdown",
   "id": "a3a5073f-1c78-483a-95a8-bd630a7736a4",
   "metadata": {},
   "source": [
    "#### 모델 학습"
   ]
  },
  {
   "cell_type": "code",
   "execution_count": 28,
   "id": "c4396f87-ae58-4990-ada4-b177b1249cdd",
   "metadata": {
    "execution": {
     "iopub.execute_input": "2022-11-25T05:30:33.865933Z",
     "iopub.status.busy": "2022-11-25T05:30:33.865933Z",
     "iopub.status.idle": "2022-11-25T05:30:34.011633Z",
     "shell.execute_reply": "2022-11-25T05:30:34.011633Z",
     "shell.execute_reply.started": "2022-11-25T05:30:33.865933Z"
    },
    "tags": []
   },
   "outputs": [
    {
     "name": "stdout",
     "output_type": "stream",
     "text": [
      "Learning rate set to 0.189243\n",
      "0:\tlearn: 0.5356992\ttotal: 722us\tremaining: 71.5ms\n",
      "1:\tlearn: 0.4279840\ttotal: 1.49ms\tremaining: 72.9ms\n",
      "2:\tlearn: 0.3497214\ttotal: 2.1ms\tremaining: 67.9ms\n",
      "3:\tlearn: 0.2913816\ttotal: 2.78ms\tremaining: 66.7ms\n",
      "4:\tlearn: 0.2467866\ttotal: 3.38ms\tremaining: 64.2ms\n",
      "5:\tlearn: 0.2121320\ttotal: 3.92ms\tremaining: 61.4ms\n",
      "6:\tlearn: 0.1851932\ttotal: 4.47ms\tremaining: 59.4ms\n",
      "7:\tlearn: 0.1605283\ttotal: 5.16ms\tremaining: 59.4ms\n",
      "8:\tlearn: 0.1438582\ttotal: 5.72ms\tremaining: 57.9ms\n",
      "9:\tlearn: 0.1281380\ttotal: 6.42ms\tremaining: 57.8ms\n",
      "10:\tlearn: 0.1178356\ttotal: 7.11ms\tremaining: 57.5ms\n",
      "11:\tlearn: 0.1076404\ttotal: 7.97ms\tremaining: 58.4ms\n",
      "12:\tlearn: 0.0995505\ttotal: 8.73ms\tremaining: 58.4ms\n",
      "13:\tlearn: 0.0932090\ttotal: 9.52ms\tremaining: 58.5ms\n",
      "14:\tlearn: 0.0881051\ttotal: 10.4ms\tremaining: 58.7ms\n",
      "15:\tlearn: 0.0841123\ttotal: 11.3ms\tremaining: 59.3ms\n",
      "16:\tlearn: 0.0813955\ttotal: 12.2ms\tremaining: 59.3ms\n",
      "17:\tlearn: 0.0798676\ttotal: 13.1ms\tremaining: 59.5ms\n",
      "18:\tlearn: 0.0781135\ttotal: 14ms\tremaining: 59.8ms\n",
      "19:\tlearn: 0.0764496\ttotal: 14.8ms\tremaining: 59.2ms\n",
      "20:\tlearn: 0.0746956\ttotal: 15.7ms\tremaining: 59.1ms\n",
      "21:\tlearn: 0.0735613\ttotal: 16.6ms\tremaining: 58.8ms\n",
      "22:\tlearn: 0.0727981\ttotal: 17.4ms\tremaining: 58.2ms\n",
      "23:\tlearn: 0.0720070\ttotal: 18.1ms\tremaining: 57.4ms\n",
      "24:\tlearn: 0.0711090\ttotal: 19ms\tremaining: 56.9ms\n",
      "25:\tlearn: 0.0707365\ttotal: 19.8ms\tremaining: 56.4ms\n",
      "26:\tlearn: 0.0700243\ttotal: 20.8ms\tremaining: 56.3ms\n",
      "27:\tlearn: 0.0696535\ttotal: 21.7ms\tremaining: 55.9ms\n",
      "28:\tlearn: 0.0691591\ttotal: 22.6ms\tremaining: 55.4ms\n",
      "29:\tlearn: 0.0690378\ttotal: 23.6ms\tremaining: 55ms\n",
      "30:\tlearn: 0.0688531\ttotal: 24.6ms\tremaining: 54.7ms\n",
      "31:\tlearn: 0.0684437\ttotal: 25.7ms\tremaining: 54.6ms\n",
      "32:\tlearn: 0.0682882\ttotal: 26.5ms\tremaining: 53.9ms\n",
      "33:\tlearn: 0.0680009\ttotal: 27.5ms\tremaining: 53.4ms\n",
      "34:\tlearn: 0.0678108\ttotal: 28.5ms\tremaining: 53ms\n",
      "35:\tlearn: 0.0675495\ttotal: 29.6ms\tremaining: 52.7ms\n",
      "36:\tlearn: 0.0673154\ttotal: 30.9ms\tremaining: 52.6ms\n",
      "37:\tlearn: 0.0671807\ttotal: 32ms\tremaining: 52.2ms\n",
      "38:\tlearn: 0.0670535\ttotal: 33.2ms\tremaining: 51.9ms\n",
      "39:\tlearn: 0.0668972\ttotal: 34.3ms\tremaining: 51.5ms\n",
      "40:\tlearn: 0.0667742\ttotal: 35.7ms\tremaining: 51.3ms\n",
      "41:\tlearn: 0.0666767\ttotal: 36.9ms\tremaining: 51ms\n",
      "42:\tlearn: 0.0665699\ttotal: 38ms\tremaining: 50.4ms\n",
      "43:\tlearn: 0.0665379\ttotal: 39ms\tremaining: 49.6ms\n",
      "44:\tlearn: 0.0665092\ttotal: 40.2ms\tremaining: 49.1ms\n",
      "45:\tlearn: 0.0664776\ttotal: 41.2ms\tremaining: 48.3ms\n",
      "46:\tlearn: 0.0664752\ttotal: 41.9ms\tremaining: 47.3ms\n",
      "47:\tlearn: 0.0664140\ttotal: 43.1ms\tremaining: 46.6ms\n",
      "48:\tlearn: 0.0663325\ttotal: 44.4ms\tremaining: 46.2ms\n",
      "49:\tlearn: 0.0663298\ttotal: 45.2ms\tremaining: 45.2ms\n",
      "50:\tlearn: 0.0662815\ttotal: 46.4ms\tremaining: 44.5ms\n",
      "51:\tlearn: 0.0662506\ttotal: 47.7ms\tremaining: 44.1ms\n",
      "52:\tlearn: 0.0662211\ttotal: 48.7ms\tremaining: 43.2ms\n",
      "53:\tlearn: 0.0662088\ttotal: 49.6ms\tremaining: 42.2ms\n",
      "54:\tlearn: 0.0661462\ttotal: 50.7ms\tremaining: 41.5ms\n",
      "55:\tlearn: 0.0661204\ttotal: 51.8ms\tremaining: 40.7ms\n",
      "56:\tlearn: 0.0660816\ttotal: 52.8ms\tremaining: 39.8ms\n",
      "57:\tlearn: 0.0660277\ttotal: 54ms\tremaining: 39.1ms\n",
      "58:\tlearn: 0.0660223\ttotal: 54.9ms\tremaining: 38.2ms\n",
      "59:\tlearn: 0.0660126\ttotal: 55.7ms\tremaining: 37.1ms\n",
      "60:\tlearn: 0.0659594\ttotal: 57ms\tremaining: 36.4ms\n",
      "61:\tlearn: 0.0659249\ttotal: 58.1ms\tremaining: 35.6ms\n",
      "62:\tlearn: 0.0658854\ttotal: 59.2ms\tremaining: 34.8ms\n",
      "63:\tlearn: 0.0658460\ttotal: 60.4ms\tremaining: 34ms\n",
      "64:\tlearn: 0.0658206\ttotal: 61.6ms\tremaining: 33.1ms\n",
      "65:\tlearn: 0.0657910\ttotal: 62.6ms\tremaining: 32.3ms\n",
      "66:\tlearn: 0.0657624\ttotal: 63.8ms\tremaining: 31.4ms\n",
      "67:\tlearn: 0.0657370\ttotal: 65.1ms\tremaining: 30.6ms\n",
      "68:\tlearn: 0.0657074\ttotal: 66.2ms\tremaining: 29.8ms\n",
      "69:\tlearn: 0.0656815\ttotal: 67.5ms\tremaining: 28.9ms\n",
      "70:\tlearn: 0.0656576\ttotal: 68.6ms\tremaining: 28ms\n",
      "71:\tlearn: 0.0656348\ttotal: 69.8ms\tremaining: 27.1ms\n",
      "72:\tlearn: 0.0656153\ttotal: 70.9ms\tremaining: 26.2ms\n",
      "73:\tlearn: 0.0655964\ttotal: 72.1ms\tremaining: 25.3ms\n",
      "74:\tlearn: 0.0655772\ttotal: 73.1ms\tremaining: 24.4ms\n",
      "75:\tlearn: 0.0655637\ttotal: 74.3ms\tremaining: 23.5ms\n",
      "76:\tlearn: 0.0655482\ttotal: 75.5ms\tremaining: 22.5ms\n",
      "77:\tlearn: 0.0655328\ttotal: 76.7ms\tremaining: 21.6ms\n",
      "78:\tlearn: 0.0655213\ttotal: 77.9ms\tremaining: 20.7ms\n",
      "79:\tlearn: 0.0655072\ttotal: 79.2ms\tremaining: 19.8ms\n",
      "80:\tlearn: 0.0654962\ttotal: 80.5ms\tremaining: 18.9ms\n",
      "81:\tlearn: 0.0654851\ttotal: 81.8ms\tremaining: 17.9ms\n",
      "82:\tlearn: 0.0654754\ttotal: 83ms\tremaining: 17ms\n",
      "83:\tlearn: 0.0654641\ttotal: 84.1ms\tremaining: 16ms\n",
      "84:\tlearn: 0.0654546\ttotal: 85.3ms\tremaining: 15.1ms\n",
      "85:\tlearn: 0.0654457\ttotal: 86.5ms\tremaining: 14.1ms\n",
      "86:\tlearn: 0.0654366\ttotal: 87.8ms\tremaining: 13.1ms\n",
      "87:\tlearn: 0.0654285\ttotal: 88.9ms\tremaining: 12.1ms\n",
      "88:\tlearn: 0.0654208\ttotal: 90.1ms\tremaining: 11.1ms\n",
      "89:\tlearn: 0.0654133\ttotal: 91.3ms\tremaining: 10.1ms\n",
      "90:\tlearn: 0.0654065\ttotal: 92.4ms\tremaining: 9.14ms\n",
      "91:\tlearn: 0.0653993\ttotal: 93.6ms\tremaining: 8.14ms\n",
      "92:\tlearn: 0.0653924\ttotal: 94.7ms\tremaining: 7.13ms\n",
      "93:\tlearn: 0.0653864\ttotal: 95.9ms\tremaining: 6.12ms\n",
      "94:\tlearn: 0.0653804\ttotal: 97.1ms\tremaining: 5.11ms\n",
      "95:\tlearn: 0.0653738\ttotal: 98.3ms\tremaining: 4.09ms\n",
      "96:\tlearn: 0.0653686\ttotal: 99.5ms\tremaining: 3.08ms\n",
      "97:\tlearn: 0.0653625\ttotal: 101ms\tremaining: 2.06ms\n",
      "98:\tlearn: 0.0653575\ttotal: 102ms\tremaining: 1.03ms\n",
      "99:\tlearn: 0.0653521\ttotal: 103ms\tremaining: 0us\n",
      "{'iterations': 100, 'random_strength': 1}\n"
     ]
    }
   ],
   "source": [
    "clf_cat = CatBoostClassifier(iterations=100, random_strength=1)\n",
    "fit_model = clf_cat.fit(X_train, y_train)\n",
    "print(fit_model.get_params())"
   ]
  },
  {
   "cell_type": "code",
   "execution_count": 29,
   "id": "1a462aa3-4947-46a4-a406-f0937da5d6b3",
   "metadata": {
    "execution": {
     "iopub.execute_input": "2022-11-25T05:31:10.934701Z",
     "iopub.status.busy": "2022-11-25T05:31:10.934701Z",
     "iopub.status.idle": "2022-11-25T05:31:10.946736Z",
     "shell.execute_reply": "2022-11-25T05:31:10.946055Z",
     "shell.execute_reply.started": "2022-11-25T05:31:10.934701Z"
    },
    "tags": []
   },
   "outputs": [],
   "source": [
    "# 정확도, 정밀도, 재현율, F1_score를 보여주는 함수\n",
    "def get_clf_eval(y_test, pred=None):\n",
    "    confusion = confusion_matrix(y_test, pred)\n",
    "    accuracy = accuracy_score(y_test, pred)\n",
    "    precision = precision_score(y_test, pred)\n",
    "    recall = recall_score(y_test, pred)\n",
    "    f1 = f1_score(y_test, pred)\n",
    "    print('오차 행렬')\n",
    "    print(confusion)\n",
    "    # ROC-AUC print 추가\n",
    "    print('정확도 : {0:.3f}, 정밀도 : {1:.3f}, 재현율 : {2:.3f}, F1 : {3:.3f},\\\n",
    "    '.format(accuracy, precision, recall, f1))"
   ]
  },
  {
   "cell_type": "code",
   "execution_count": 30,
   "id": "7d0adcac-6172-4f65-88a3-229c39d633ad",
   "metadata": {
    "execution": {
     "iopub.execute_input": "2022-11-25T05:31:13.308081Z",
     "iopub.status.busy": "2022-11-25T05:31:13.308081Z",
     "iopub.status.idle": "2022-11-25T05:31:13.331498Z",
     "shell.execute_reply": "2022-11-25T05:31:13.330242Z",
     "shell.execute_reply.started": "2022-11-25T05:31:13.308081Z"
    },
    "tags": []
   },
   "outputs": [
    {
     "name": "stdout",
     "output_type": "stream",
     "text": [
      "Test MSE 0.014153846153846154\n"
     ]
    }
   ],
   "source": [
    "train_pred = clf_cat.predict(X_train)\n",
    "cat_pred = clf_cat.predict(X_test)\n",
    "test_MSE = mean_squared_error(cat_pred, y_test)\n",
    "print('Test MSE', test_MSE)"
   ]
  },
  {
   "cell_type": "code",
   "execution_count": 31,
   "id": "d3aa72e3-aac4-4cc3-a5ea-098b55771ae2",
   "metadata": {
    "execution": {
     "iopub.execute_input": "2022-11-25T05:31:22.978141Z",
     "iopub.status.busy": "2022-11-25T05:31:22.978141Z",
     "iopub.status.idle": "2022-11-25T05:31:22.994351Z",
     "shell.execute_reply": "2022-11-25T05:31:22.994351Z",
     "shell.execute_reply.started": "2022-11-25T05:31:22.978141Z"
    },
    "tags": []
   },
   "outputs": [
    {
     "name": "stdout",
     "output_type": "stream",
     "text": [
      "훈련 데이터 정확도 확인\n",
      "오차 행렬\n",
      "[[3364    0]\n",
      " [  97 3038]]\n",
      "정확도 : 0.985, 정밀도 : 1.000, 재현율 : 0.969, F1 : 0.984,    \n",
      "테스트 데이터 정확도 확인\n",
      "오차 행렬\n",
      "[[844   0]\n",
      " [ 23 758]]\n",
      "정확도 : 0.986, 정밀도 : 1.000, 재현율 : 0.971, F1 : 0.985,    \n"
     ]
    }
   ],
   "source": [
    "print('훈련 데이터 정확도 확인')\n",
    "get_clf_eval(y_train, train_pred)\n",
    "print('테스트 데이터 정확도 확인')\n",
    "get_clf_eval(y_test, cat_pred)"
   ]
  },
  {
   "cell_type": "code",
   "execution_count": 32,
   "id": "c2e072c7-2406-4b4b-b070-a3e4a4f1ba0c",
   "metadata": {
    "execution": {
     "iopub.execute_input": "2022-11-25T05:31:38.501121Z",
     "iopub.status.busy": "2022-11-25T05:31:38.501121Z",
     "iopub.status.idle": "2022-11-25T05:31:38.525654Z",
     "shell.execute_reply": "2022-11-25T05:31:38.525654Z",
     "shell.execute_reply.started": "2022-11-25T05:31:38.501121Z"
    },
    "tags": []
   },
   "outputs": [
    {
     "data": {
      "text/plain": [
       "array([[5.56403134e-04, 9.99443597e-01],\n",
       "       [1.75768638e-04, 9.99824231e-01],\n",
       "       [9.65904880e-01, 3.40951199e-02],\n",
       "       ...,\n",
       "       [9.65904880e-01, 3.40951199e-02],\n",
       "       [9.88600965e-04, 9.99011399e-01],\n",
       "       [3.06487735e-04, 9.99693512e-01]])"
      ]
     },
     "execution_count": 32,
     "metadata": {},
     "output_type": "execute_result"
    }
   ],
   "source": [
    "clf_cat.predict_proba(X_test)"
   ]
  },
  {
   "cell_type": "markdown",
   "id": "2cf18038-9340-4506-8206-8b4e56bc41d5",
   "metadata": {},
   "source": [
    "#### 과대적합 없음 확인"
   ]
  },
  {
   "cell_type": "markdown",
   "id": "83e62e98-d016-4b0f-8a29-c92200e49871",
   "metadata": {
    "execution": {
     "iopub.execute_input": "2022-11-24T08:10:27.521359Z",
     "iopub.status.busy": "2022-11-24T08:10:27.521359Z",
     "iopub.status.idle": "2022-11-24T08:10:28.193059Z",
     "shell.execute_reply": "2022-11-24T08:10:28.191871Z",
     "shell.execute_reply.started": "2022-11-24T08:10:27.521359Z"
    },
    "tags": []
   },
   "source": [
    "### NGBoost"
   ]
  },
  {
   "cell_type": "markdown",
   "id": "b1e71af2-5acf-4eff-881a-cb2c0a733158",
   "metadata": {},
   "source": [
    "#### 모델 학습 후 MSE 확인"
   ]
  },
  {
   "cell_type": "code",
   "execution_count": 33,
   "id": "db20637d-0986-4271-956b-a978cda5a980",
   "metadata": {
    "execution": {
     "iopub.execute_input": "2022-11-25T05:31:52.849459Z",
     "iopub.status.busy": "2022-11-25T05:31:52.849459Z",
     "iopub.status.idle": "2022-11-25T05:31:57.471280Z",
     "shell.execute_reply": "2022-11-25T05:31:57.471280Z",
     "shell.execute_reply.started": "2022-11-25T05:31:52.849459Z"
    },
    "tags": []
   },
   "outputs": [
    {
     "name": "stdout",
     "output_type": "stream",
     "text": [
      "[iter 0] loss=0.6925 val_loss=0.0000 scale=16.0000 norm=32.0000\n",
      "[iter 100] loss=0.0783 val_loss=0.0000 scale=4.0000 norm=5.6292\n",
      "[iter 200] loss=0.0770 val_loss=0.0000 scale=1.0000 norm=1.4533\n",
      "[iter 300] loss=0.0769 val_loss=0.0000 scale=1.0000 norm=1.4712\n",
      "[iter 400] loss=0.0768 val_loss=0.0000 scale=1.0000 norm=1.4782\n",
      "Test MSE 0.018461538461538463\n"
     ]
    }
   ],
   "source": [
    "ngb = NGBClassifier().fit(X_train, y_train)\n",
    "y_pred = ngb.predict(X_test)\n",
    "\n",
    "# test Mean Squared Error\n",
    "test_MSE = mean_squared_error(y_pred, y_test)\n",
    "print('Test MSE', test_MSE)"
   ]
  },
  {
   "cell_type": "markdown",
   "id": "479efd28-d5b6-4d43-97ac-40a886c441e0",
   "metadata": {},
   "source": [
    "#### 모델 평가"
   ]
  },
  {
   "cell_type": "code",
   "execution_count": 34,
   "id": "8837d99d-c6e5-4746-9446-86598af53c82",
   "metadata": {
    "execution": {
     "iopub.execute_input": "2022-11-25T05:32:01.246374Z",
     "iopub.status.busy": "2022-11-25T05:32:01.246374Z",
     "iopub.status.idle": "2022-11-25T05:32:01.270210Z",
     "shell.execute_reply": "2022-11-25T05:32:01.270210Z",
     "shell.execute_reply.started": "2022-11-25T05:32:01.246374Z"
    },
    "tags": []
   },
   "outputs": [
    {
     "name": "stdout",
     "output_type": "stream",
     "text": [
      "훈련 데이터 정확도 확인\n",
      "오차 행렬\n",
      "[[3364    0]\n",
      " [  97 3038]]\n",
      "정확도 : 0.985, 정밀도 : 1.000, 재현율 : 0.969, F1 : 0.984,    \n",
      "테스트 데이터 정확도 확인\n",
      "오차 행렬\n",
      "[[844   0]\n",
      " [ 30 751]]\n",
      "정확도 : 0.982, 정밀도 : 1.000, 재현율 : 0.962, F1 : 0.980,    \n"
     ]
    }
   ],
   "source": [
    "print('훈련 데이터 정확도 확인')\n",
    "get_clf_eval(y_train, train_pred)\n",
    "print('테스트 데이터 정확도 확인')\n",
    "get_clf_eval(y_test, y_pred)"
   ]
  },
  {
   "cell_type": "markdown",
   "id": "9ffee5be-366a-41b4-a0e2-f634eced3d6f",
   "metadata": {},
   "source": [
    "### XGBoost"
   ]
  },
  {
   "cell_type": "markdown",
   "id": "ee4afe14-0cd1-4552-8657-e56ce2681ddc",
   "metadata": {},
   "source": [
    "#### 모델 학습 후 MSE 확인"
   ]
  },
  {
   "cell_type": "code",
   "execution_count": 35,
   "id": "f04c81d1-b4bc-4077-9bdd-88c5951f2cb9",
   "metadata": {
    "execution": {
     "iopub.execute_input": "2022-11-25T05:32:22.131432Z",
     "iopub.status.busy": "2022-11-25T05:32:22.131432Z",
     "iopub.status.idle": "2022-11-25T05:32:22.235803Z",
     "shell.execute_reply": "2022-11-25T05:32:22.235803Z",
     "shell.execute_reply.started": "2022-11-25T05:32:22.131432Z"
    },
    "tags": []
   },
   "outputs": [
    {
     "name": "stdout",
     "output_type": "stream",
     "text": [
      "Test MSE 0.014153846153846154\n"
     ]
    }
   ],
   "source": [
    "xgb = XGBClassifier().fit(X_train, y_train)\n",
    "xg_pred = xgb.predict(X_test)\n",
    "\n",
    "test_MSE = mean_squared_error(xg_pred, y_test)\n",
    "print('Test MSE', test_MSE)"
   ]
  },
  {
   "cell_type": "markdown",
   "id": "5b30a136-ad82-4912-af2d-ac5e4e447060",
   "metadata": {},
   "source": [
    "#### 모델 평가"
   ]
  },
  {
   "cell_type": "code",
   "execution_count": 36,
   "id": "12174b46-51b1-4aa2-b856-cd25e75ae6d8",
   "metadata": {
    "execution": {
     "iopub.execute_input": "2022-11-25T05:32:23.726305Z",
     "iopub.status.busy": "2022-11-25T05:32:23.726305Z",
     "iopub.status.idle": "2022-11-25T05:32:23.742431Z",
     "shell.execute_reply": "2022-11-25T05:32:23.742431Z",
     "shell.execute_reply.started": "2022-11-25T05:32:23.726305Z"
    },
    "tags": []
   },
   "outputs": [
    {
     "name": "stdout",
     "output_type": "stream",
     "text": [
      "훈련 데이터 정확도 확인\n",
      "오차 행렬\n",
      "[[3364    0]\n",
      " [  97 3038]]\n",
      "정확도 : 0.985, 정밀도 : 1.000, 재현율 : 0.969, F1 : 0.984,    \n",
      "테스트 데이터 정확도 확인\n",
      "오차 행렬\n",
      "[[844   0]\n",
      " [ 23 758]]\n",
      "정확도 : 0.986, 정밀도 : 1.000, 재현율 : 0.971, F1 : 0.985,    \n"
     ]
    }
   ],
   "source": [
    "print('훈련 데이터 정확도 확인')\n",
    "get_clf_eval(y_train, train_pred)\n",
    "print('테스트 데이터 정확도 확인')\n",
    "get_clf_eval(y_test, xg_pred)"
   ]
  }
 ],
 "metadata": {
  "kernelspec": {
   "display_name": "Python 3 (ipykernel)",
   "language": "python",
   "name": "python3"
  },
  "language_info": {
   "codemirror_mode": {
    "name": "ipython",
    "version": 3
   },
   "file_extension": ".py",
   "mimetype": "text/x-python",
   "name": "python",
   "nbconvert_exporter": "python",
   "pygments_lexer": "ipython3",
   "version": "3.7.12"
  }
 },
 "nbformat": 4,
 "nbformat_minor": 5
}
