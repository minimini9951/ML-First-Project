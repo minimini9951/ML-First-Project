{
 "cells": [
  {
   "cell_type": "code",
   "execution_count": 73,
   "id": "9477d9b7-ffc0-43e9-86b3-ef367e140441",
   "metadata": {
    "execution": {
     "iopub.execute_input": "2022-11-22T00:07:55.772104Z",
     "iopub.status.busy": "2022-11-22T00:07:55.772104Z",
     "iopub.status.idle": "2022-11-22T00:07:57.114539Z",
     "shell.execute_reply": "2022-11-22T00:07:57.114539Z",
     "shell.execute_reply.started": "2022-11-22T00:07:55.772104Z"
    },
    "tags": []
   },
   "outputs": [],
   "source": [
    "import numpy as np\n",
    "import pandas as pd\n",
    "import seaborn as sns\n",
    "import datetime as dt\n",
    "import matplotlib as mpl\n",
    "from scipy import interpolate\n",
    "import matplotlib.pyplot as plt\n",
    "from sklearn.model_selection import train_test_split\n",
    "import os\n",
    "os.environ[\"OMP_NUM_THREADS\"] = '1'\n",
    "\n",
    "import warnings\n",
    "warnings.simplefilter(action='ignore', category=FutureWarning)\n",
    "\n",
    "%config Completer.use_jedi = False\n",
    "%config InlineBackend.figure_format = 'retina'"
   ]
  },
  {
   "cell_type": "code",
   "execution_count": 154,
   "id": "e76412c5-c53e-43ec-b819-db96033f7702",
   "metadata": {
    "execution": {
     "iopub.execute_input": "2022-11-22T00:07:57.114539Z",
     "iopub.status.busy": "2022-11-22T00:07:57.114539Z",
     "iopub.status.idle": "2022-11-22T00:07:57.146167Z",
     "shell.execute_reply": "2022-11-22T00:07:57.145185Z",
     "shell.execute_reply.started": "2022-11-22T00:07:57.114539Z"
    },
    "tags": []
   },
   "outputs": [],
   "source": [
    "water = pd.read_csv('C:/k_digital/source/data/data_tr_city.csv')"
   ]
  },
  {
   "cell_type": "code",
   "execution_count": 155,
   "id": "100f68df-4774-4db0-b323-f6ab16b459a4",
   "metadata": {
    "execution": {
     "iopub.execute_input": "2022-11-22T00:07:57.269735Z",
     "iopub.status.busy": "2022-11-22T00:07:57.268699Z",
     "iopub.status.idle": "2022-11-22T00:07:57.286640Z",
     "shell.execute_reply": "2022-11-22T00:07:57.285654Z",
     "shell.execute_reply.started": "2022-11-22T00:07:57.269735Z"
    },
    "tags": []
   },
   "outputs": [],
   "source": [
    "water['target'] = water['구미 혁신도시배수지 유출유량 적산차']\n",
    "water = water.drop('구미 혁신도시배수지 유출유량 적산차', axis=1)"
   ]
  },
  {
   "cell_type": "code",
   "execution_count": 158,
   "id": "cdf2365a-6a1d-490e-9e68-38d8a4b22cd9",
   "metadata": {
    "execution": {
     "iopub.execute_input": "2022-11-22T00:07:57.560205Z",
     "iopub.status.busy": "2022-11-22T00:07:57.560205Z",
     "iopub.status.idle": "2022-11-22T00:07:57.579229Z",
     "shell.execute_reply": "2022-11-22T00:07:57.579229Z",
     "shell.execute_reply.started": "2022-11-22T00:07:57.560205Z"
    },
    "tags": []
   },
   "outputs": [],
   "source": [
    "water['datetime'] = water['datetime'].astype('datetime64[ns]')"
   ]
  },
  {
   "cell_type": "code",
   "execution_count": 159,
   "id": "82670422-1392-4556-92bb-c2dba3345148",
   "metadata": {
    "execution": {
     "iopub.execute_input": "2022-11-22T00:07:57.805684Z",
     "iopub.status.busy": "2022-11-22T00:07:57.805684Z",
     "iopub.status.idle": "2022-11-22T00:07:57.826630Z",
     "shell.execute_reply": "2022-11-22T00:07:57.826630Z",
     "shell.execute_reply.started": "2022-11-22T00:07:57.805684Z"
    },
    "tags": []
   },
   "outputs": [
    {
     "data": {
      "text/html": [
       "<div>\n",
       "<style scoped>\n",
       "    .dataframe tbody tr th:only-of-type {\n",
       "        vertical-align: middle;\n",
       "    }\n",
       "\n",
       "    .dataframe tbody tr th {\n",
       "        vertical-align: top;\n",
       "    }\n",
       "\n",
       "    .dataframe thead th {\n",
       "        text-align: right;\n",
       "    }\n",
       "</style>\n",
       "<table border=\"1\" class=\"dataframe\">\n",
       "  <thead>\n",
       "    <tr style=\"text-align: right;\">\n",
       "      <th></th>\n",
       "      <th>target</th>\n",
       "    </tr>\n",
       "    <tr>\n",
       "      <th>datetime</th>\n",
       "      <th></th>\n",
       "    </tr>\n",
       "  </thead>\n",
       "  <tbody>\n",
       "    <tr>\n",
       "      <th>2017-01-01 01:00:00</th>\n",
       "      <td>138.0</td>\n",
       "    </tr>\n",
       "    <tr>\n",
       "      <th>2017-01-01 02:00:00</th>\n",
       "      <td>237.0</td>\n",
       "    </tr>\n",
       "    <tr>\n",
       "      <th>2017-01-01 03:00:00</th>\n",
       "      <td>128.0</td>\n",
       "    </tr>\n",
       "    <tr>\n",
       "      <th>2017-01-01 04:00:00</th>\n",
       "      <td>14.0</td>\n",
       "    </tr>\n",
       "    <tr>\n",
       "      <th>2017-01-01 05:00:00</th>\n",
       "      <td>11.0</td>\n",
       "    </tr>\n",
       "    <tr>\n",
       "      <th>...</th>\n",
       "      <td>...</td>\n",
       "    </tr>\n",
       "    <tr>\n",
       "      <th>2020-12-31 19:00:00</th>\n",
       "      <td>328.0</td>\n",
       "    </tr>\n",
       "    <tr>\n",
       "      <th>2020-12-31 20:00:00</th>\n",
       "      <td>347.0</td>\n",
       "    </tr>\n",
       "    <tr>\n",
       "      <th>2020-12-31 21:00:00</th>\n",
       "      <td>335.0</td>\n",
       "    </tr>\n",
       "    <tr>\n",
       "      <th>2020-12-31 22:00:00</th>\n",
       "      <td>141.0</td>\n",
       "    </tr>\n",
       "    <tr>\n",
       "      <th>2020-12-31 23:00:00</th>\n",
       "      <td>112.0</td>\n",
       "    </tr>\n",
       "  </tbody>\n",
       "</table>\n",
       "<p>35063 rows × 1 columns</p>\n",
       "</div>"
      ],
      "text/plain": [
       "                     target\n",
       "datetime                   \n",
       "2017-01-01 01:00:00   138.0\n",
       "2017-01-01 02:00:00   237.0\n",
       "2017-01-01 03:00:00   128.0\n",
       "2017-01-01 04:00:00    14.0\n",
       "2017-01-01 05:00:00    11.0\n",
       "...                     ...\n",
       "2020-12-31 19:00:00   328.0\n",
       "2020-12-31 20:00:00   347.0\n",
       "2020-12-31 21:00:00   335.0\n",
       "2020-12-31 22:00:00   141.0\n",
       "2020-12-31 23:00:00   112.0\n",
       "\n",
       "[35063 rows x 1 columns]"
      ]
     },
     "execution_count": 159,
     "metadata": {},
     "output_type": "execute_result"
    }
   ],
   "source": [
    "water = water.set_index('datetime')\n",
    "water"
   ]
  },
  {
   "cell_type": "code",
   "execution_count": 160,
   "id": "019f8a62-6bc8-43b2-899f-ff0732e8a79f",
   "metadata": {
    "execution": {
     "iopub.execute_input": "2022-11-22T00:07:59.426364Z",
     "iopub.status.busy": "2022-11-22T00:07:59.426364Z",
     "iopub.status.idle": "2022-11-22T00:07:59.444089Z",
     "shell.execute_reply": "2022-11-22T00:07:59.443187Z",
     "shell.execute_reply.started": "2022-11-22T00:07:59.426364Z"
    },
    "tags": []
   },
   "outputs": [],
   "source": [
    "water.index = water.index.to_period('h')"
   ]
  },
  {
   "cell_type": "code",
   "execution_count": 161,
   "id": "ae44b394-eba3-409c-add9-979d12e862b3",
   "metadata": {
    "execution": {
     "iopub.execute_input": "2022-11-22T00:07:59.620858Z",
     "iopub.status.busy": "2022-11-22T00:07:59.619863Z",
     "iopub.status.idle": "2022-11-22T00:07:59.632849Z",
     "shell.execute_reply": "2022-11-22T00:07:59.631848Z",
     "shell.execute_reply.started": "2022-11-22T00:07:59.620858Z"
    },
    "tags": []
   },
   "outputs": [
    {
     "data": {
      "text/plain": [
       "PeriodIndex(['2017-01-01 01:00', '2017-01-01 02:00', '2017-01-01 03:00',\n",
       "             '2017-01-01 04:00', '2017-01-01 05:00', '2017-01-01 06:00',\n",
       "             '2017-01-01 07:00', '2017-01-01 08:00', '2017-01-01 09:00',\n",
       "             '2017-01-01 10:00',\n",
       "             ...\n",
       "             '2020-12-31 14:00', '2020-12-31 15:00', '2020-12-31 16:00',\n",
       "             '2020-12-31 17:00', '2020-12-31 18:00', '2020-12-31 19:00',\n",
       "             '2020-12-31 20:00', '2020-12-31 21:00', '2020-12-31 22:00',\n",
       "             '2020-12-31 23:00'],\n",
       "            dtype='period[H]', name='datetime', length=35063)"
      ]
     },
     "execution_count": 161,
     "metadata": {},
     "output_type": "execute_result"
    }
   ],
   "source": [
    "water.index"
   ]
  },
  {
   "cell_type": "code",
   "execution_count": 162,
   "id": "0f3ad629-bded-4687-83b9-b06fba66e8ff",
   "metadata": {
    "execution": {
     "iopub.execute_input": "2022-11-22T00:07:59.823194Z",
     "iopub.status.busy": "2022-11-22T00:07:59.823194Z",
     "iopub.status.idle": "2022-11-22T00:08:00.038175Z",
     "shell.execute_reply": "2022-11-22T00:08:00.038175Z",
     "shell.execute_reply.started": "2022-11-22T00:07:59.823194Z"
    },
    "tags": []
   },
   "outputs": [
    {
     "data": {
      "text/plain": [
       "<AxesSubplot:xlabel='datetime'>"
      ]
     },
     "execution_count": 162,
     "metadata": {},
     "output_type": "execute_result"
    },
    {
     "data": {
      "image/png": "[encoded data removed]",
      "text/plain": [
       "<Figure size 432x288 with 1 Axes>"
      ]
     },
     "metadata": {
      "image/png": {
       "height": 272,
       "width": 370
      },
      "needs_background": "light"
     },
     "output_type": "display_data"
    }
   ],
   "source": [
    "water.target.plot()"
   ]
  },
  {
   "cell_type": "code",
   "execution_count": 163,
   "id": "e7817c90-2ffe-425a-a0ec-0aad4e212fb3",
   "metadata": {
    "execution": {
     "iopub.execute_input": "2022-11-22T00:08:01.687816Z",
     "iopub.status.busy": "2022-11-22T00:08:01.687816Z",
     "iopub.status.idle": "2022-11-22T00:08:01.706588Z",
     "shell.execute_reply": "2022-11-22T00:08:01.705604Z",
     "shell.execute_reply.started": "2022-11-22T00:08:01.687816Z"
    },
    "tags": []
   },
   "outputs": [
    {
     "data": {
      "text/html": [
       "<div>\n",
       "<style scoped>\n",
       "    .dataframe tbody tr th:only-of-type {\n",
       "        vertical-align: middle;\n",
       "    }\n",
       "\n",
       "    .dataframe tbody tr th {\n",
       "        vertical-align: top;\n",
       "    }\n",
       "\n",
       "    .dataframe thead th {\n",
       "        text-align: right;\n",
       "    }\n",
       "</style>\n",
       "<table border=\"1\" class=\"dataframe\">\n",
       "  <thead>\n",
       "    <tr style=\"text-align: right;\">\n",
       "      <th></th>\n",
       "      <th>target</th>\n",
       "    </tr>\n",
       "    <tr>\n",
       "      <th>datetime</th>\n",
       "      <th></th>\n",
       "    </tr>\n",
       "  </thead>\n",
       "  <tbody>\n",
       "    <tr>\n",
       "      <th>2018-05-15 20:00</th>\n",
       "      <td>4720655.0</td>\n",
       "    </tr>\n",
       "    <tr>\n",
       "      <th>2017-05-27 10:00</th>\n",
       "      <td>4999.0</td>\n",
       "    </tr>\n",
       "    <tr>\n",
       "      <th>2017-05-28 06:00</th>\n",
       "      <td>3357.0</td>\n",
       "    </tr>\n",
       "    <tr>\n",
       "      <th>2017-05-31 08:00</th>\n",
       "      <td>2591.0</td>\n",
       "    </tr>\n",
       "    <tr>\n",
       "      <th>2017-05-28 15:00</th>\n",
       "      <td>2550.0</td>\n",
       "    </tr>\n",
       "    <tr>\n",
       "      <th>...</th>\n",
       "      <td>...</td>\n",
       "    </tr>\n",
       "    <tr>\n",
       "      <th>2018-06-14 22:00</th>\n",
       "      <td>NaN</td>\n",
       "    </tr>\n",
       "    <tr>\n",
       "      <th>2018-07-04 12:00</th>\n",
       "      <td>NaN</td>\n",
       "    </tr>\n",
       "    <tr>\n",
       "      <th>2018-07-06 11:00</th>\n",
       "      <td>NaN</td>\n",
       "    </tr>\n",
       "    <tr>\n",
       "      <th>2020-02-10 14:00</th>\n",
       "      <td>NaN</td>\n",
       "    </tr>\n",
       "    <tr>\n",
       "      <th>2020-02-10 15:00</th>\n",
       "      <td>NaN</td>\n",
       "    </tr>\n",
       "  </tbody>\n",
       "</table>\n",
       "<p>35063 rows × 1 columns</p>\n",
       "</div>"
      ],
      "text/plain": [
       "                     target\n",
       "datetime                   \n",
       "2018-05-15 20:00  4720655.0\n",
       "2017-05-27 10:00     4999.0\n",
       "2017-05-28 06:00     3357.0\n",
       "2017-05-31 08:00     2591.0\n",
       "2017-05-28 15:00     2550.0\n",
       "...                     ...\n",
       "2018-06-14 22:00        NaN\n",
       "2018-07-04 12:00        NaN\n",
       "2018-07-06 11:00        NaN\n",
       "2020-02-10 14:00        NaN\n",
       "2020-02-10 15:00        NaN\n",
       "\n",
       "[35063 rows x 1 columns]"
      ]
     },
     "execution_count": 163,
     "metadata": {},
     "output_type": "execute_result"
    }
   ],
   "source": [
    "water.sort_values(by='target', ascending=False)"
   ]
  },
  {
   "cell_type": "code",
   "execution_count": 164,
   "id": "039048b9-4d8e-4afa-8f5d-8994e2bdbff8",
   "metadata": {
    "execution": {
     "iopub.execute_input": "2022-11-22T00:08:04.717376Z",
     "iopub.status.busy": "2022-11-22T00:08:04.716331Z",
     "iopub.status.idle": "2022-11-22T00:08:04.728976Z",
     "shell.execute_reply": "2022-11-22T00:08:04.727964Z",
     "shell.execute_reply.started": "2022-11-22T00:08:04.717376Z"
    },
    "tags": []
   },
   "outputs": [],
   "source": [
    "water.target = water.target.round(0)"
   ]
  },
  {
   "cell_type": "code",
   "execution_count": 165,
   "id": "d0a6ee58-74d0-41b3-9d30-c3904cc7100b",
   "metadata": {
    "execution": {
     "iopub.execute_input": "2022-11-22T00:08:05.536107Z",
     "iopub.status.busy": "2022-11-22T00:08:05.536107Z",
     "iopub.status.idle": "2022-11-22T00:08:05.555084Z",
     "shell.execute_reply": "2022-11-22T00:08:05.554084Z",
     "shell.execute_reply.started": "2022-11-22T00:08:05.536107Z"
    },
    "tags": []
   },
   "outputs": [],
   "source": [
    "water.target.replace(0, np.NaN, inplace=True)"
   ]
  },
  {
   "cell_type": "code",
   "execution_count": 166,
   "id": "b5fb8073-0381-4472-aa50-a94898dfc499",
   "metadata": {
    "execution": {
     "iopub.execute_input": "2022-11-22T00:08:05.840157Z",
     "iopub.status.busy": "2022-11-22T00:08:05.840157Z",
     "iopub.status.idle": "2022-11-22T00:08:06.059162Z",
     "shell.execute_reply": "2022-11-22T00:08:06.058163Z",
     "shell.execute_reply.started": "2022-11-22T00:08:05.840157Z"
    },
    "tags": []
   },
   "outputs": [
    {
     "data": {
      "text/plain": [
       "<AxesSubplot:xlabel='datetime'>"
      ]
     },
     "execution_count": 166,
     "metadata": {},
     "output_type": "execute_result"
    },
    {
     "data": {
      "image/png": "[encoded data removed]",
      "text/plain": [
       "<Figure size 432x288 with 1 Axes>"
      ]
     },
     "metadata": {
      "image/png": {
       "height": 272,
       "width": 370
      },
      "needs_background": "light"
     },
     "output_type": "display_data"
    }
   ],
   "source": [
    "water.plot()"
   ]
  },
  {
   "cell_type": "code",
   "execution_count": 167,
   "id": "60418fa9-8f69-4a5a-92a3-17de55fccd5c",
   "metadata": {
    "execution": {
     "iopub.execute_input": "2022-11-22T00:08:15.479126Z",
     "iopub.status.busy": "2022-11-22T00:08:15.479126Z",
     "iopub.status.idle": "2022-11-22T00:08:15.484104Z",
     "shell.execute_reply": "2022-11-22T00:08:15.484104Z",
     "shell.execute_reply.started": "2022-11-22T00:08:15.479126Z"
    },
    "tags": []
   },
   "outputs": [],
   "source": [
    "water[water.target == water.target.max()] = np.nan  # 위아래 평균값 넣기"
   ]
  },
  {
   "cell_type": "code",
   "execution_count": 168,
   "id": "02284c10-1a83-449b-93a4-06b748fb8807",
   "metadata": {
    "execution": {
     "iopub.execute_input": "2022-11-22T00:08:15.924954Z",
     "iopub.status.busy": "2022-11-22T00:08:15.924954Z",
     "iopub.status.idle": "2022-11-22T00:08:15.937062Z",
     "shell.execute_reply": "2022-11-22T00:08:15.936060Z",
     "shell.execute_reply.started": "2022-11-22T00:08:15.924954Z"
    },
    "tags": []
   },
   "outputs": [],
   "source": [
    "for i in range(2):\n",
    "    water[water.target == water.target.min()] = np.nan  # np.NaN"
   ]
  },
  {
   "cell_type": "code",
   "execution_count": 169,
   "id": "9239d35d-b97b-4f0a-8874-7d7a43af1d32",
   "metadata": {
    "execution": {
     "iopub.execute_input": "2022-11-22T00:08:19.229545Z",
     "iopub.status.busy": "2022-11-22T00:08:19.229545Z",
     "iopub.status.idle": "2022-11-22T00:08:19.471325Z",
     "shell.execute_reply": "2022-11-22T00:08:19.470446Z",
     "shell.execute_reply.started": "2022-11-22T00:08:19.229545Z"
    },
    "tags": []
   },
   "outputs": [
    {
     "data": {
      "text/plain": [
       "<AxesSubplot:xlabel='datetime'>"
      ]
     },
     "execution_count": 169,
     "metadata": {},
     "output_type": "execute_result"
    },
    {
     "data": {
      "image/png": "[encoded data removed]",
      "text/plain": [
       "<Figure size 432x288 with 1 Axes>"
      ]
     },
     "metadata": {
      "image/png": {
       "height": 261,
       "width": 381
      },
      "needs_background": "light"
     },
     "output_type": "display_data"
    }
   ],
   "source": [
    "water.plot()"
   ]
  },
  {
   "cell_type": "code",
   "execution_count": 170,
   "id": "cc0dc988-7ac9-473b-9dd6-90c6e9847bff",
   "metadata": {
    "execution": {
     "iopub.execute_input": "2022-11-22T00:08:27.695327Z",
     "iopub.status.busy": "2022-11-22T00:08:27.695327Z",
     "iopub.status.idle": "2022-11-22T00:08:27.721325Z",
     "shell.execute_reply": "2022-11-22T00:08:27.720341Z",
     "shell.execute_reply.started": "2022-11-22T00:08:27.695327Z"
    },
    "tags": []
   },
   "outputs": [
    {
     "data": {
      "text/html": [
       "<div>\n",
       "<style scoped>\n",
       "    .dataframe tbody tr th:only-of-type {\n",
       "        vertical-align: middle;\n",
       "    }\n",
       "\n",
       "    .dataframe tbody tr th {\n",
       "        vertical-align: top;\n",
       "    }\n",
       "\n",
       "    .dataframe thead th {\n",
       "        text-align: right;\n",
       "    }\n",
       "</style>\n",
       "<table border=\"1\" class=\"dataframe\">\n",
       "  <thead>\n",
       "    <tr style=\"text-align: right;\">\n",
       "      <th></th>\n",
       "      <th>target</th>\n",
       "    </tr>\n",
       "    <tr>\n",
       "      <th>datetime</th>\n",
       "      <th></th>\n",
       "    </tr>\n",
       "  </thead>\n",
       "  <tbody>\n",
       "    <tr>\n",
       "      <th>2017-05-23 16:00</th>\n",
       "      <td>NaN</td>\n",
       "    </tr>\n",
       "    <tr>\n",
       "      <th>2017-05-23 18:00</th>\n",
       "      <td>NaN</td>\n",
       "    </tr>\n",
       "    <tr>\n",
       "      <th>2017-05-23 23:00</th>\n",
       "      <td>NaN</td>\n",
       "    </tr>\n",
       "    <tr>\n",
       "      <th>2017-05-24 21:00</th>\n",
       "      <td>NaN</td>\n",
       "    </tr>\n",
       "    <tr>\n",
       "      <th>2017-05-25 00:00</th>\n",
       "      <td>NaN</td>\n",
       "    </tr>\n",
       "    <tr>\n",
       "      <th>...</th>\n",
       "      <td>...</td>\n",
       "    </tr>\n",
       "    <tr>\n",
       "      <th>2017-05-31 03:00</th>\n",
       "      <td>NaN</td>\n",
       "    </tr>\n",
       "    <tr>\n",
       "      <th>2017-05-31 04:00</th>\n",
       "      <td>NaN</td>\n",
       "    </tr>\n",
       "    <tr>\n",
       "      <th>2017-05-31 05:00</th>\n",
       "      <td>NaN</td>\n",
       "    </tr>\n",
       "    <tr>\n",
       "      <th>2017-05-31 06:00</th>\n",
       "      <td>NaN</td>\n",
       "    </tr>\n",
       "    <tr>\n",
       "      <th>2017-05-31 07:00</th>\n",
       "      <td>NaN</td>\n",
       "    </tr>\n",
       "  </tbody>\n",
       "</table>\n",
       "<p>105 rows × 1 columns</p>\n",
       "</div>"
      ],
      "text/plain": [
       "                  target\n",
       "datetime                \n",
       "2017-05-23 16:00     NaN\n",
       "2017-05-23 18:00     NaN\n",
       "2017-05-23 23:00     NaN\n",
       "2017-05-24 21:00     NaN\n",
       "2017-05-25 00:00     NaN\n",
       "...                  ...\n",
       "2017-05-31 03:00     NaN\n",
       "2017-05-31 04:00     NaN\n",
       "2017-05-31 05:00     NaN\n",
       "2017-05-31 06:00     NaN\n",
       "2017-05-31 07:00     NaN\n",
       "\n",
       "[105 rows x 1 columns]"
      ]
     },
     "execution_count": 170,
     "metadata": {},
     "output_type": "execute_result"
    }
   ],
   "source": [
    "water[(water.index.year == 2017) & (water.index.month == 5) & (water.target.isna())]"
   ]
  },
  {
   "cell_type": "markdown",
   "id": "fea95c22-47b6-4f11-bcbc-2358c2e10e5c",
   "metadata": {},
   "source": [
    "### 5월 23일 결측치처리 - 진행중"
   ]
  },
  {
   "cell_type": "code",
   "execution_count": 171,
   "id": "0355302a-a5a7-42cb-8125-5d259230df66",
   "metadata": {
    "execution": {
     "iopub.execute_input": "2022-11-22T00:14:59.089950Z",
     "iopub.status.busy": "2022-11-22T00:14:59.089950Z",
     "iopub.status.idle": "2022-11-22T00:14:59.115705Z",
     "shell.execute_reply": "2022-11-22T00:14:59.115705Z",
     "shell.execute_reply.started": "2022-11-22T00:14:59.089950Z"
    },
    "tags": []
   },
   "outputs": [
    {
     "name": "stdout",
     "output_type": "stream",
     "text": [
      "                  target\n",
      "datetime                \n",
      "2017-05-23 14:00   684.0\n",
      "2017-05-23 15:00   104.0\n",
      "2017-05-23 16:00     NaN\n",
      "2017-05-23 17:00   664.0\n",
      "2017-05-23 18:00     NaN\n",
      "2017-05-23 19:00   366.0\n",
      "2017-05-23 20:00    56.0\n",
      "2017-05-23 21:00   234.0\n",
      "2017-05-23 22:00   486.0\n",
      "2017-05-23 23:00     NaN\n",
      "2017-05-24 14:00   303.0\n",
      "2017-05-24 15:00   366.0\n",
      "2017-05-24 16:00   154.0\n",
      "2017-05-24 17:00   129.0\n",
      "2017-05-24 18:00   171.0\n",
      "2017-05-24 19:00   344.0\n",
      "2017-05-24 20:00   175.0\n",
      "2017-05-24 21:00     NaN\n",
      "2017-05-24 22:00   670.0\n",
      "2017-05-24 23:00   151.0\n"
     ]
    }
   ],
   "source": [
    "print(water[(water.index.year == 2017) & (water.index.month == 5) & (\n",
    "    water.index.day >= 23) & (water.index.day <= 24) & (water.index.hour >= 14)])"
   ]
  },
  {
   "cell_type": "code",
   "execution_count": 172,
   "id": "e691812b-f795-436d-9a18-2602491094dc",
   "metadata": {
    "execution": {
     "iopub.execute_input": "2022-11-22T00:09:49.090759Z",
     "iopub.status.busy": "2022-11-22T00:09:49.089768Z",
     "iopub.status.idle": "2022-11-22T00:09:49.107860Z",
     "shell.execute_reply": "2022-11-22T00:09:49.107860Z",
     "shell.execute_reply.started": "2022-11-22T00:09:49.090759Z"
    },
    "tags": []
   },
   "outputs": [
    {
     "name": "stdout",
     "output_type": "stream",
     "text": [
      "                  target\n",
      "datetime                \n",
      "2017-05-23 15:00   104.0\n",
      "2017-05-23 16:00     NaN\n",
      "2017-05-23 17:00   664.0\n",
      "2018-05-23 15:00   227.0\n",
      "2018-05-23 16:00   133.0\n",
      "2018-05-23 17:00   402.0\n",
      "2019-05-23 15:00    84.0\n",
      "2019-05-23 16:00   228.0\n",
      "2019-05-23 17:00   346.0\n",
      "2020-05-23 15:00   456.0\n",
      "2020-05-23 16:00   260.0\n",
      "2020-05-23 17:00   147.0\n"
     ]
    }
   ],
   "source": [
    "print(water[(water.index.month == 5) & (\n",
    "    water.index.day >= 23) & (water.index.day < 24) & (\n",
    "    water.index.hour >= 15) & (water.index.hour <= 17)])"
   ]
  },
  {
   "cell_type": "code",
   "execution_count": 173,
   "id": "6c13e242-76c6-4dd8-a1fa-9186faf803bd",
   "metadata": {
    "execution": {
     "iopub.execute_input": "2022-11-22T00:09:38.015939Z",
     "iopub.status.busy": "2022-11-22T00:09:38.014937Z",
     "iopub.status.idle": "2022-11-22T00:09:38.035662Z",
     "shell.execute_reply": "2022-11-22T00:09:38.034757Z",
     "shell.execute_reply.started": "2022-11-22T00:09:38.015939Z"
    },
    "tags": []
   },
   "outputs": [],
   "source": [
    "filled = water.target[(water.index.year == 2017) & (water.index.month == 5) & (\n",
    "    water.index.day >= 23) & (water.index.day < 24) & (\n",
    "    water.index.hour >= 15) & (water.index.hour <= 17)].sum()"
   ]
  },
  {
   "cell_type": "code",
   "execution_count": 174,
   "id": "dbdd26b6-2605-4f15-be03-5e8a0e63f578",
   "metadata": {
    "execution": {
     "iopub.execute_input": "2022-11-22T00:09:38.528669Z",
     "iopub.status.busy": "2022-11-22T00:09:38.528669Z",
     "iopub.status.idle": "2022-11-22T00:09:38.556475Z",
     "shell.execute_reply": "2022-11-22T00:09:38.556475Z",
     "shell.execute_reply.started": "2022-11-22T00:09:38.528669Z"
    },
    "tags": []
   },
   "outputs": [],
   "source": [
    "fill = water.target[(water.index.year == 2019) & (water.index.month == 5) & (\n",
    "    water.index.day >= 23) & (water.index.day < 24) & (\n",
    "    water.index.hour >= 15) & (water.index.hour <= 17)].sum()"
   ]
  },
  {
   "cell_type": "code",
   "execution_count": 175,
   "id": "00f5daf1-99e8-46df-b3bd-170a7102add6",
   "metadata": {
    "execution": {
     "iopub.execute_input": "2022-11-22T00:09:39.481691Z",
     "iopub.status.busy": "2022-11-22T00:09:39.480692Z",
     "iopub.status.idle": "2022-11-22T00:09:39.494723Z",
     "shell.execute_reply": "2022-11-22T00:09:39.493715Z",
     "shell.execute_reply.started": "2022-11-22T00:09:39.481691Z"
    },
    "tags": []
   },
   "outputs": [
    {
     "name": "stdout",
     "output_type": "stream",
     "text": [
      "1.17\n"
     ]
    }
   ],
   "source": [
    "print((filled / fill).round(2))"
   ]
  },
  {
   "cell_type": "code",
   "execution_count": 176,
   "id": "08fd44f3-e82c-4fb8-b00c-ee7a8aad622a",
   "metadata": {
    "execution": {
     "iopub.execute_input": "2022-11-22T00:09:44.178277Z",
     "iopub.status.busy": "2022-11-22T00:09:44.178277Z",
     "iopub.status.idle": "2022-11-22T00:09:44.188275Z",
     "shell.execute_reply": "2022-11-22T00:09:44.188275Z",
     "shell.execute_reply.started": "2022-11-22T00:09:44.178277Z"
    },
    "tags": []
   },
   "outputs": [],
   "source": [
    "water[water.index == '2017-05-23 16:00'] = water.target[water.index == '2019-05-23 16:00'] * 1.17\n",
    "water[water.index == '2017-05-23 17:00'] = water.target[water.index == '2019-05-23 17:00'] * 1.17"
   ]
  },
  {
   "cell_type": "code",
   "execution_count": 177,
   "id": "1f9f5542-474a-4bb6-8526-15ee096fa1c1",
   "metadata": {
    "execution": {
     "iopub.execute_input": "2022-11-22T00:11:52.535512Z",
     "iopub.status.busy": "2022-11-22T00:11:52.535512Z",
     "iopub.status.idle": "2022-11-22T00:11:52.556663Z",
     "shell.execute_reply": "2022-11-22T00:11:52.555682Z",
     "shell.execute_reply.started": "2022-11-22T00:11:52.535512Z"
    },
    "tags": []
   },
   "outputs": [
    {
     "name": "stdout",
     "output_type": "stream",
     "text": [
      "                  target\n",
      "datetime                \n",
      "2017-05-23 17:00  404.82\n",
      "2017-05-23 18:00     NaN\n",
      "2017-05-23 19:00  366.00\n",
      "2018-05-23 17:00  402.00\n",
      "2018-05-23 18:00  179.00\n",
      "2018-05-23 19:00  369.00\n",
      "2019-05-23 17:00  346.00\n",
      "2019-05-23 18:00  145.00\n",
      "2019-05-23 19:00  319.00\n",
      "2020-05-23 17:00  147.00\n",
      "2020-05-23 18:00  293.00\n",
      "2020-05-23 19:00  520.00\n"
     ]
    }
   ],
   "source": [
    "print(water[(water.index.month == 5) & (\n",
    "    water.index.day >= 23) & (water.index.day < 24) & (water.index.hour >= 17) & (water.index.hour <= 19)])"
   ]
  },
  {
   "cell_type": "code",
   "execution_count": 178,
   "id": "dce5e78b-b80f-456c-81cc-2820456a6153",
   "metadata": {
    "execution": {
     "iopub.execute_input": "2022-11-22T00:10:11.917833Z",
     "iopub.status.busy": "2022-11-22T00:10:11.917833Z",
     "iopub.status.idle": "2022-11-22T00:10:11.967443Z",
     "shell.execute_reply": "2022-11-22T00:10:11.966771Z",
     "shell.execute_reply.started": "2022-11-22T00:10:11.917833Z"
    },
    "tags": []
   },
   "outputs": [],
   "source": [
    "filled = water.target[(water.index.year == 2017) & (water.index.month == 5) & (\n",
    "    water.index.day >= 23) & (water.index.day < 24) & (\n",
    "    water.index.hour >= 17) & (water.index.hour <= 19)].sum()\n",
    "fill_1 = water.target[(water.index.year == 2018) & (water.index.month == 5) & (\n",
    "    water.index.day >= 23) & (water.index.day < 24) & (\n",
    "    water.index.hour >= 17) & (water.index.hour <= 19)].sum()\n",
    "fill_2 = water.target[(water.index.year == 2019) & (water.index.month == 5) & (\n",
    "    water.index.day >= 23) & (water.index.day < 24) & (\n",
    "    water.index.hour >= 17) & (water.index.hour <= 19)].sum()"
   ]
  },
  {
   "cell_type": "code",
   "execution_count": 179,
   "id": "67a2bd95-3bfb-4631-b9d5-d316672f6294",
   "metadata": {
    "execution": {
     "iopub.execute_input": "2022-11-22T00:10:17.977599Z",
     "iopub.status.busy": "2022-11-22T00:10:17.977599Z",
     "iopub.status.idle": "2022-11-22T00:10:17.980954Z",
     "shell.execute_reply": "2022-11-22T00:10:17.980656Z",
     "shell.execute_reply.started": "2022-11-22T00:10:17.977599Z"
    },
    "tags": []
   },
   "outputs": [],
   "source": [
    "tot_fill = (fill_1+fill_2)/2"
   ]
  },
  {
   "cell_type": "code",
   "execution_count": 180,
   "id": "8864889b-4390-4c11-9992-047fc633d808",
   "metadata": {
    "execution": {
     "iopub.execute_input": "2022-11-22T00:10:19.104902Z",
     "iopub.status.busy": "2022-11-22T00:10:19.103902Z",
     "iopub.status.idle": "2022-11-22T00:10:19.112931Z",
     "shell.execute_reply": "2022-11-22T00:10:19.112931Z",
     "shell.execute_reply.started": "2022-11-22T00:10:19.104902Z"
    },
    "tags": []
   },
   "outputs": [
    {
     "data": {
      "text/plain": [
       "0.88"
      ]
     },
     "execution_count": 180,
     "metadata": {},
     "output_type": "execute_result"
    }
   ],
   "source": [
    "(filled/tot_fill).round(2)"
   ]
  },
  {
   "cell_type": "code",
   "execution_count": 181,
   "id": "7789d7ec-075f-4a56-a332-371a89e62c92",
   "metadata": {
    "execution": {
     "iopub.execute_input": "2022-11-22T00:10:24.430803Z",
     "iopub.status.busy": "2022-11-22T00:10:24.430803Z",
     "iopub.status.idle": "2022-11-22T00:10:24.442261Z",
     "shell.execute_reply": "2022-11-22T00:10:24.441281Z",
     "shell.execute_reply.started": "2022-11-22T00:10:24.430803Z"
    },
    "tags": []
   },
   "outputs": [
    {
     "data": {
      "text/plain": [
       "180.5"
      ]
     },
     "execution_count": 181,
     "metadata": {},
     "output_type": "execute_result"
    }
   ],
   "source": [
    "(water.target[water.index == '2018-05-23 18:00'][0] + water.target[\n",
    "    water.index == '2018-05-24 18:00'][0])/2"
   ]
  },
  {
   "cell_type": "code",
   "execution_count": 182,
   "id": "46183990-925d-4b9c-92d6-5b69965b9443",
   "metadata": {
    "execution": {
     "iopub.execute_input": "2022-11-22T00:11:49.756848Z",
     "iopub.status.busy": "2022-11-22T00:11:49.755847Z",
     "iopub.status.idle": "2022-11-22T00:11:49.777408Z",
     "shell.execute_reply": "2022-11-22T00:11:49.776427Z",
     "shell.execute_reply.started": "2022-11-22T00:11:49.756848Z"
    },
    "tags": []
   },
   "outputs": [],
   "source": [
    "water[water.index == '2017-05-23 18:00'] = ((\n",
    "    water.target[water.index == '2018-05-23 18:00'][0] + water.target[\n",
    "        water.index == '2018-05-24 18:00'][0]) / 2) * 0.88"
   ]
  },
  {
   "cell_type": "code",
   "execution_count": 183,
   "id": "fa3b5481-3cb6-4ad2-b567-fb4d545beb69",
   "metadata": {
    "execution": {
     "iopub.execute_input": "2022-11-22T00:12:00.311982Z",
     "iopub.status.busy": "2022-11-22T00:12:00.311982Z",
     "iopub.status.idle": "2022-11-22T00:12:00.890268Z",
     "shell.execute_reply": "2022-11-22T00:12:00.889365Z",
     "shell.execute_reply.started": "2022-11-22T00:12:00.311982Z"
    },
    "tags": []
   },
   "outputs": [
    {
     "data": {
      "text/plain": [
       "<AxesSubplot:xlabel='datetime'>"
      ]
     },
     "execution_count": 183,
     "metadata": {},
     "output_type": "execute_result"
    },
    {
     "data": {
      "image/png": "[encoded data removed]",
      "text/plain": [
       "<Figure size 432x288 with 1 Axes>"
      ]
     },
     "metadata": {
      "image/png": {
       "height": 283,
       "width": 375
      },
      "needs_background": "light"
     },
     "output_type": "display_data"
    },
    {
     "data": {
      "image/png": "[encoded data removed]",
      "text/plain": [
       "<Figure size 432x288 with 1 Axes>"
      ]
     },
     "metadata": {
      "image/png": {
       "height": 283,
       "width": 375
      },
      "needs_background": "light"
     },
     "output_type": "display_data"
    },
    {
     "data": {
      "image/png": "[encoded data removed]",
      "text/plain": [
       "<Figure size 432x288 with 1 Axes>"
      ]
     },
     "metadata": {
      "image/png": {
       "height": 283,
       "width": 375
      },
      "needs_background": "light"
     },
     "output_type": "display_data"
    },
    {
     "data": {
      "image/png": "[encoded data removed]",
      "text/plain": [
       "<Figure size 432x288 with 1 Axes>"
      ]
     },
     "metadata": {
      "image/png": {
       "height": 283,
       "width": 375
      },
      "needs_background": "light"
     },
     "output_type": "display_data"
    }
   ],
   "source": [
    "water[(water.index.year == 2017) & (water.index.month == 5) & (\n",
    "    water.index.day >= 23) & (water.index.day <= 24)].plot()\n",
    "water[(water.index.year == 2018) & (water.index.month == 5) & (\n",
    "    water.index.day >= 23) & (water.index.day <= 24)].plot()\n",
    "water[(water.index.year == 2019) & (water.index.month == 5) & (\n",
    "    water.index.day >= 23) & (water.index.day <= 24)].plot()\n",
    "water[(water.index.year == 2020) & (water.index.month == 5) & (\n",
    "    water.index.day >= 23) & (water.index.day <= 24)].plot()"
   ]
  },
  {
   "cell_type": "code",
   "execution_count": 184,
   "id": "a871ff08-588a-4e31-ac5c-0bb0869e059c",
   "metadata": {
    "execution": {
     "iopub.execute_input": "2022-11-22T00:12:26.457308Z",
     "iopub.status.busy": "2022-11-22T00:12:26.457308Z",
     "iopub.status.idle": "2022-11-22T00:12:26.477512Z",
     "shell.execute_reply": "2022-11-22T00:12:26.476522Z",
     "shell.execute_reply.started": "2022-11-22T00:12:26.457308Z"
    },
    "tags": []
   },
   "outputs": [
    {
     "data": {
      "text/html": [
       "<div>\n",
       "<style scoped>\n",
       "    .dataframe tbody tr th:only-of-type {\n",
       "        vertical-align: middle;\n",
       "    }\n",
       "\n",
       "    .dataframe tbody tr th {\n",
       "        vertical-align: top;\n",
       "    }\n",
       "\n",
       "    .dataframe thead th {\n",
       "        text-align: right;\n",
       "    }\n",
       "</style>\n",
       "<table border=\"1\" class=\"dataframe\">\n",
       "  <thead>\n",
       "    <tr style=\"text-align: right;\">\n",
       "      <th></th>\n",
       "      <th>target</th>\n",
       "    </tr>\n",
       "    <tr>\n",
       "      <th>datetime</th>\n",
       "      <th></th>\n",
       "    </tr>\n",
       "  </thead>\n",
       "  <tbody>\n",
       "    <tr>\n",
       "      <th>2017-03-14 21:00</th>\n",
       "      <td>NaN</td>\n",
       "    </tr>\n",
       "    <tr>\n",
       "      <th>2017-03-24 15:00</th>\n",
       "      <td>NaN</td>\n",
       "    </tr>\n",
       "    <tr>\n",
       "      <th>2017-03-28 17:00</th>\n",
       "      <td>NaN</td>\n",
       "    </tr>\n",
       "    <tr>\n",
       "      <th>2017-03-30 16:00</th>\n",
       "      <td>NaN</td>\n",
       "    </tr>\n",
       "    <tr>\n",
       "      <th>2017-04-29 14:00</th>\n",
       "      <td>NaN</td>\n",
       "    </tr>\n",
       "    <tr>\n",
       "      <th>...</th>\n",
       "      <td>...</td>\n",
       "    </tr>\n",
       "    <tr>\n",
       "      <th>2017-05-31 03:00</th>\n",
       "      <td>NaN</td>\n",
       "    </tr>\n",
       "    <tr>\n",
       "      <th>2017-05-31 04:00</th>\n",
       "      <td>NaN</td>\n",
       "    </tr>\n",
       "    <tr>\n",
       "      <th>2017-05-31 05:00</th>\n",
       "      <td>NaN</td>\n",
       "    </tr>\n",
       "    <tr>\n",
       "      <th>2017-05-31 06:00</th>\n",
       "      <td>NaN</td>\n",
       "    </tr>\n",
       "    <tr>\n",
       "      <th>2017-05-31 07:00</th>\n",
       "      <td>NaN</td>\n",
       "    </tr>\n",
       "  </tbody>\n",
       "</table>\n",
       "<p>125 rows × 1 columns</p>\n",
       "</div>"
      ],
      "text/plain": [
       "                  target\n",
       "datetime                \n",
       "2017-03-14 21:00     NaN\n",
       "2017-03-24 15:00     NaN\n",
       "2017-03-28 17:00     NaN\n",
       "2017-03-30 16:00     NaN\n",
       "2017-04-29 14:00     NaN\n",
       "...                  ...\n",
       "2017-05-31 03:00     NaN\n",
       "2017-05-31 04:00     NaN\n",
       "2017-05-31 05:00     NaN\n",
       "2017-05-31 06:00     NaN\n",
       "2017-05-31 07:00     NaN\n",
       "\n",
       "[125 rows x 1 columns]"
      ]
     },
     "execution_count": 184,
     "metadata": {},
     "output_type": "execute_result"
    }
   ],
   "source": [
    "water[(water.index.year == 2017) & (water.target.isna())]\n",
    "# 보간법 일부 가능, 다른 년도의 값들을 보고 채워넣어야 할 듯."
   ]
  },
  {
   "cell_type": "code",
   "execution_count": 185,
   "id": "aa704e62-9f1b-4b0b-a1b0-9ddbeb65c8a9",
   "metadata": {
    "execution": {
     "iopub.execute_input": "2022-11-22T00:12:44.337270Z",
     "iopub.status.busy": "2022-11-22T00:12:44.337270Z",
     "iopub.status.idle": "2022-11-22T00:12:44.352287Z",
     "shell.execute_reply": "2022-11-22T00:12:44.351304Z",
     "shell.execute_reply.started": "2022-11-22T00:12:44.337270Z"
    },
    "tags": []
   },
   "outputs": [],
   "source": [
    "water[(water.index.year == 2017) & (water.index.month == 3)] = water[\n",
    "    (water.index.year == 2017) & (water.index.month == 3)].interpolate()"
   ]
  },
  {
   "cell_type": "code",
   "execution_count": 186,
   "id": "7e2ee7f7-3aba-43f1-9402-8a984c632c45",
   "metadata": {
    "execution": {
     "iopub.execute_input": "2022-11-22T00:12:44.640623Z",
     "iopub.status.busy": "2022-11-22T00:12:44.640623Z",
     "iopub.status.idle": "2022-11-22T00:12:44.654769Z",
     "shell.execute_reply": "2022-11-22T00:12:44.654769Z",
     "shell.execute_reply.started": "2022-11-22T00:12:44.640623Z"
    },
    "tags": []
   },
   "outputs": [
    {
     "data": {
      "text/html": [
       "<div>\n",
       "<style scoped>\n",
       "    .dataframe tbody tr th:only-of-type {\n",
       "        vertical-align: middle;\n",
       "    }\n",
       "\n",
       "    .dataframe tbody tr th {\n",
       "        vertical-align: top;\n",
       "    }\n",
       "\n",
       "    .dataframe thead th {\n",
       "        text-align: right;\n",
       "    }\n",
       "</style>\n",
       "<table border=\"1\" class=\"dataframe\">\n",
       "  <thead>\n",
       "    <tr style=\"text-align: right;\">\n",
       "      <th></th>\n",
       "      <th>target</th>\n",
       "    </tr>\n",
       "    <tr>\n",
       "      <th>datetime</th>\n",
       "      <th></th>\n",
       "    </tr>\n",
       "  </thead>\n",
       "  <tbody>\n",
       "    <tr>\n",
       "      <th>2017-04-29 14:00</th>\n",
       "      <td>NaN</td>\n",
       "    </tr>\n",
       "    <tr>\n",
       "      <th>2017-04-29 16:00</th>\n",
       "      <td>NaN</td>\n",
       "    </tr>\n",
       "    <tr>\n",
       "      <th>2017-04-29 17:00</th>\n",
       "      <td>NaN</td>\n",
       "    </tr>\n",
       "    <tr>\n",
       "      <th>2017-04-29 18:00</th>\n",
       "      <td>NaN</td>\n",
       "    </tr>\n",
       "    <tr>\n",
       "      <th>2017-04-29 19:00</th>\n",
       "      <td>NaN</td>\n",
       "    </tr>\n",
       "    <tr>\n",
       "      <th>...</th>\n",
       "      <td>...</td>\n",
       "    </tr>\n",
       "    <tr>\n",
       "      <th>2017-05-31 03:00</th>\n",
       "      <td>NaN</td>\n",
       "    </tr>\n",
       "    <tr>\n",
       "      <th>2017-05-31 04:00</th>\n",
       "      <td>NaN</td>\n",
       "    </tr>\n",
       "    <tr>\n",
       "      <th>2017-05-31 05:00</th>\n",
       "      <td>NaN</td>\n",
       "    </tr>\n",
       "    <tr>\n",
       "      <th>2017-05-31 06:00</th>\n",
       "      <td>NaN</td>\n",
       "    </tr>\n",
       "    <tr>\n",
       "      <th>2017-05-31 07:00</th>\n",
       "      <td>NaN</td>\n",
       "    </tr>\n",
       "  </tbody>\n",
       "</table>\n",
       "<p>121 rows × 1 columns</p>\n",
       "</div>"
      ],
      "text/plain": [
       "                  target\n",
       "datetime                \n",
       "2017-04-29 14:00     NaN\n",
       "2017-04-29 16:00     NaN\n",
       "2017-04-29 17:00     NaN\n",
       "2017-04-29 18:00     NaN\n",
       "2017-04-29 19:00     NaN\n",
       "...                  ...\n",
       "2017-05-31 03:00     NaN\n",
       "2017-05-31 04:00     NaN\n",
       "2017-05-31 05:00     NaN\n",
       "2017-05-31 06:00     NaN\n",
       "2017-05-31 07:00     NaN\n",
       "\n",
       "[121 rows x 1 columns]"
      ]
     },
     "execution_count": 186,
     "metadata": {},
     "output_type": "execute_result"
    }
   ],
   "source": [
    "water[(water.index.year == 2017) & (water.target.isna())]\n",
    "# 3월만 보간법 사용"
   ]
  },
  {
   "cell_type": "code",
   "execution_count": 187,
   "id": "8cee9852-5262-4913-bd8c-b3ae0980eb9f",
   "metadata": {
    "execution": {
     "iopub.execute_input": "2022-11-22T00:12:52.025598Z",
     "iopub.status.busy": "2022-11-22T00:12:52.025598Z",
     "iopub.status.idle": "2022-11-22T00:12:52.041871Z",
     "shell.execute_reply": "2022-11-22T00:12:52.040864Z",
     "shell.execute_reply.started": "2022-11-22T00:12:52.025598Z"
    },
    "tags": []
   },
   "outputs": [
    {
     "data": {
      "text/html": [
       "<div>\n",
       "<style scoped>\n",
       "    .dataframe tbody tr th:only-of-type {\n",
       "        vertical-align: middle;\n",
       "    }\n",
       "\n",
       "    .dataframe tbody tr th {\n",
       "        vertical-align: top;\n",
       "    }\n",
       "\n",
       "    .dataframe thead th {\n",
       "        text-align: right;\n",
       "    }\n",
       "</style>\n",
       "<table border=\"1\" class=\"dataframe\">\n",
       "  <thead>\n",
       "    <tr style=\"text-align: right;\">\n",
       "      <th></th>\n",
       "      <th>target</th>\n",
       "    </tr>\n",
       "    <tr>\n",
       "      <th>datetime</th>\n",
       "      <th></th>\n",
       "    </tr>\n",
       "  </thead>\n",
       "  <tbody>\n",
       "    <tr>\n",
       "      <th>2018-01-19 15:00</th>\n",
       "      <td>NaN</td>\n",
       "    </tr>\n",
       "    <tr>\n",
       "      <th>2018-02-23 17:00</th>\n",
       "      <td>NaN</td>\n",
       "    </tr>\n",
       "    <tr>\n",
       "      <th>2018-03-02 06:00</th>\n",
       "      <td>NaN</td>\n",
       "    </tr>\n",
       "    <tr>\n",
       "      <th>2018-03-02 07:00</th>\n",
       "      <td>NaN</td>\n",
       "    </tr>\n",
       "    <tr>\n",
       "      <th>2018-03-02 08:00</th>\n",
       "      <td>NaN</td>\n",
       "    </tr>\n",
       "    <tr>\n",
       "      <th>2018-05-15 19:00</th>\n",
       "      <td>NaN</td>\n",
       "    </tr>\n",
       "    <tr>\n",
       "      <th>2018-05-15 20:00</th>\n",
       "      <td>NaN</td>\n",
       "    </tr>\n",
       "    <tr>\n",
       "      <th>2018-06-06 04:00</th>\n",
       "      <td>NaN</td>\n",
       "    </tr>\n",
       "    <tr>\n",
       "      <th>2018-06-06 05:00</th>\n",
       "      <td>NaN</td>\n",
       "    </tr>\n",
       "    <tr>\n",
       "      <th>2018-06-06 06:00</th>\n",
       "      <td>NaN</td>\n",
       "    </tr>\n",
       "    <tr>\n",
       "      <th>2018-06-06 07:00</th>\n",
       "      <td>NaN</td>\n",
       "    </tr>\n",
       "    <tr>\n",
       "      <th>2018-06-06 08:00</th>\n",
       "      <td>NaN</td>\n",
       "    </tr>\n",
       "    <tr>\n",
       "      <th>2018-06-06 12:00</th>\n",
       "      <td>NaN</td>\n",
       "    </tr>\n",
       "    <tr>\n",
       "      <th>2018-06-06 13:00</th>\n",
       "      <td>NaN</td>\n",
       "    </tr>\n",
       "    <tr>\n",
       "      <th>2018-06-06 14:00</th>\n",
       "      <td>NaN</td>\n",
       "    </tr>\n",
       "    <tr>\n",
       "      <th>2018-06-06 15:00</th>\n",
       "      <td>NaN</td>\n",
       "    </tr>\n",
       "    <tr>\n",
       "      <th>2018-06-14 21:00</th>\n",
       "      <td>NaN</td>\n",
       "    </tr>\n",
       "    <tr>\n",
       "      <th>2018-06-14 22:00</th>\n",
       "      <td>NaN</td>\n",
       "    </tr>\n",
       "    <tr>\n",
       "      <th>2018-07-04 12:00</th>\n",
       "      <td>NaN</td>\n",
       "    </tr>\n",
       "    <tr>\n",
       "      <th>2018-07-06 11:00</th>\n",
       "      <td>NaN</td>\n",
       "    </tr>\n",
       "  </tbody>\n",
       "</table>\n",
       "</div>"
      ],
      "text/plain": [
       "                  target\n",
       "datetime                \n",
       "2018-01-19 15:00     NaN\n",
       "2018-02-23 17:00     NaN\n",
       "2018-03-02 06:00     NaN\n",
       "2018-03-02 07:00     NaN\n",
       "2018-03-02 08:00     NaN\n",
       "2018-05-15 19:00     NaN\n",
       "2018-05-15 20:00     NaN\n",
       "2018-06-06 04:00     NaN\n",
       "2018-06-06 05:00     NaN\n",
       "2018-06-06 06:00     NaN\n",
       "2018-06-06 07:00     NaN\n",
       "2018-06-06 08:00     NaN\n",
       "2018-06-06 12:00     NaN\n",
       "2018-06-06 13:00     NaN\n",
       "2018-06-06 14:00     NaN\n",
       "2018-06-06 15:00     NaN\n",
       "2018-06-14 21:00     NaN\n",
       "2018-06-14 22:00     NaN\n",
       "2018-07-04 12:00     NaN\n",
       "2018-07-06 11:00     NaN"
      ]
     },
     "execution_count": 187,
     "metadata": {},
     "output_type": "execute_result"
    }
   ],
   "source": [
    "water[(water.index.year == 2018) & (water.target.isna())]\n",
    "# 6월 6일의 결측값을 제외하고는 보간법이 가능함"
   ]
  },
  {
   "cell_type": "code",
   "execution_count": 188,
   "id": "69f9b35c-11fe-4971-aed4-a35727c35a48",
   "metadata": {
    "execution": {
     "iopub.execute_input": "2022-11-22T00:12:59.276056Z",
     "iopub.status.busy": "2022-11-22T00:12:59.275004Z",
     "iopub.status.idle": "2022-11-22T00:12:59.301322Z",
     "shell.execute_reply": "2022-11-22T00:12:59.300320Z",
     "shell.execute_reply.started": "2022-11-22T00:12:59.276056Z"
    },
    "tags": []
   },
   "outputs": [],
   "source": [
    "water[(water.index.year == 2018) & (water.index.month != 6)] = water[\n",
    "    (water.index.year == 2018) & (water.index.month != 6)].interpolate()"
   ]
  },
  {
   "cell_type": "code",
   "execution_count": 189,
   "id": "b0401763-43d6-4cb2-853b-de4a7c44bd93",
   "metadata": {
    "execution": {
     "iopub.execute_input": "2022-11-22T00:13:02.856180Z",
     "iopub.status.busy": "2022-11-22T00:13:02.856180Z",
     "iopub.status.idle": "2022-11-22T00:13:02.867544Z",
     "shell.execute_reply": "2022-11-22T00:13:02.867544Z",
     "shell.execute_reply.started": "2022-11-22T00:13:02.856180Z"
    },
    "tags": []
   },
   "outputs": [
    {
     "data": {
      "text/html": [
       "<div>\n",
       "<style scoped>\n",
       "    .dataframe tbody tr th:only-of-type {\n",
       "        vertical-align: middle;\n",
       "    }\n",
       "\n",
       "    .dataframe tbody tr th {\n",
       "        vertical-align: top;\n",
       "    }\n",
       "\n",
       "    .dataframe thead th {\n",
       "        text-align: right;\n",
       "    }\n",
       "</style>\n",
       "<table border=\"1\" class=\"dataframe\">\n",
       "  <thead>\n",
       "    <tr style=\"text-align: right;\">\n",
       "      <th></th>\n",
       "      <th>target</th>\n",
       "    </tr>\n",
       "    <tr>\n",
       "      <th>datetime</th>\n",
       "      <th></th>\n",
       "    </tr>\n",
       "  </thead>\n",
       "  <tbody>\n",
       "    <tr>\n",
       "      <th>2018-06-06 04:00</th>\n",
       "      <td>NaN</td>\n",
       "    </tr>\n",
       "    <tr>\n",
       "      <th>2018-06-06 05:00</th>\n",
       "      <td>NaN</td>\n",
       "    </tr>\n",
       "    <tr>\n",
       "      <th>2018-06-06 06:00</th>\n",
       "      <td>NaN</td>\n",
       "    </tr>\n",
       "    <tr>\n",
       "      <th>2018-06-06 07:00</th>\n",
       "      <td>NaN</td>\n",
       "    </tr>\n",
       "    <tr>\n",
       "      <th>2018-06-06 08:00</th>\n",
       "      <td>NaN</td>\n",
       "    </tr>\n",
       "    <tr>\n",
       "      <th>2018-06-06 12:00</th>\n",
       "      <td>NaN</td>\n",
       "    </tr>\n",
       "    <tr>\n",
       "      <th>2018-06-06 13:00</th>\n",
       "      <td>NaN</td>\n",
       "    </tr>\n",
       "    <tr>\n",
       "      <th>2018-06-06 14:00</th>\n",
       "      <td>NaN</td>\n",
       "    </tr>\n",
       "    <tr>\n",
       "      <th>2018-06-06 15:00</th>\n",
       "      <td>NaN</td>\n",
       "    </tr>\n",
       "    <tr>\n",
       "      <th>2018-06-14 21:00</th>\n",
       "      <td>NaN</td>\n",
       "    </tr>\n",
       "    <tr>\n",
       "      <th>2018-06-14 22:00</th>\n",
       "      <td>NaN</td>\n",
       "    </tr>\n",
       "  </tbody>\n",
       "</table>\n",
       "</div>"
      ],
      "text/plain": [
       "                  target\n",
       "datetime                \n",
       "2018-06-06 04:00     NaN\n",
       "2018-06-06 05:00     NaN\n",
       "2018-06-06 06:00     NaN\n",
       "2018-06-06 07:00     NaN\n",
       "2018-06-06 08:00     NaN\n",
       "2018-06-06 12:00     NaN\n",
       "2018-06-06 13:00     NaN\n",
       "2018-06-06 14:00     NaN\n",
       "2018-06-06 15:00     NaN\n",
       "2018-06-14 21:00     NaN\n",
       "2018-06-14 22:00     NaN"
      ]
     },
     "execution_count": 189,
     "metadata": {},
     "output_type": "execute_result"
    }
   ],
   "source": [
    "water[(water.index.year == 2018) & (water.target.isna())]\n",
    "# 6월 6일 제외한 값 보간법 사용"
   ]
  },
  {
   "cell_type": "code",
   "execution_count": 190,
   "id": "939dd0c8-e147-4388-8d71-f36bd325a7d6",
   "metadata": {
    "execution": {
     "iopub.execute_input": "2022-11-22T00:13:10.701856Z",
     "iopub.status.busy": "2022-11-22T00:13:10.701856Z",
     "iopub.status.idle": "2022-11-22T00:13:10.723129Z",
     "shell.execute_reply": "2022-11-22T00:13:10.722129Z",
     "shell.execute_reply.started": "2022-11-22T00:13:10.701856Z"
    },
    "tags": []
   },
   "outputs": [
    {
     "data": {
      "text/html": [
       "<div>\n",
       "<style scoped>\n",
       "    .dataframe tbody tr th:only-of-type {\n",
       "        vertical-align: middle;\n",
       "    }\n",
       "\n",
       "    .dataframe tbody tr th {\n",
       "        vertical-align: top;\n",
       "    }\n",
       "\n",
       "    .dataframe thead th {\n",
       "        text-align: right;\n",
       "    }\n",
       "</style>\n",
       "<table border=\"1\" class=\"dataframe\">\n",
       "  <thead>\n",
       "    <tr style=\"text-align: right;\">\n",
       "      <th></th>\n",
       "      <th>target</th>\n",
       "    </tr>\n",
       "    <tr>\n",
       "      <th>datetime</th>\n",
       "      <th></th>\n",
       "    </tr>\n",
       "  </thead>\n",
       "  <tbody>\n",
       "    <tr>\n",
       "      <th>2019-01-02 15:00</th>\n",
       "      <td>NaN</td>\n",
       "    </tr>\n",
       "    <tr>\n",
       "      <th>2019-06-19 20:00</th>\n",
       "      <td>NaN</td>\n",
       "    </tr>\n",
       "    <tr>\n",
       "      <th>2019-12-04 19:00</th>\n",
       "      <td>NaN</td>\n",
       "    </tr>\n",
       "  </tbody>\n",
       "</table>\n",
       "</div>"
      ],
      "text/plain": [
       "                  target\n",
       "datetime                \n",
       "2019-01-02 15:00     NaN\n",
       "2019-06-19 20:00     NaN\n",
       "2019-12-04 19:00     NaN"
      ]
     },
     "execution_count": 190,
     "metadata": {},
     "output_type": "execute_result"
    }
   ],
   "source": [
    "water[(water.index.year == 2019) & (water.target.isna())]\n",
    "# 보간법 사용가능"
   ]
  },
  {
   "cell_type": "code",
   "execution_count": 191,
   "id": "35c6e401-bfc7-4e49-ba20-1392133cb7fe",
   "metadata": {
    "execution": {
     "iopub.execute_input": "2022-11-22T00:13:11.871289Z",
     "iopub.status.busy": "2022-11-22T00:13:11.870306Z",
     "iopub.status.idle": "2022-11-22T00:13:11.888472Z",
     "shell.execute_reply": "2022-11-22T00:13:11.888169Z",
     "shell.execute_reply.started": "2022-11-22T00:13:11.871289Z"
    },
    "tags": []
   },
   "outputs": [],
   "source": [
    "water[(water.index.year == 2019)] = water[(water.index.year == 2019)].interpolate()"
   ]
  },
  {
   "cell_type": "code",
   "execution_count": 192,
   "id": "5b619b49-80f8-4934-bf04-7feb69daf104",
   "metadata": {
    "execution": {
     "iopub.execute_input": "2022-11-22T00:13:12.804747Z",
     "iopub.status.busy": "2022-11-22T00:13:12.804747Z",
     "iopub.status.idle": "2022-11-22T00:13:12.818583Z",
     "shell.execute_reply": "2022-11-22T00:13:12.818583Z",
     "shell.execute_reply.started": "2022-11-22T00:13:12.804747Z"
    },
    "tags": []
   },
   "outputs": [
    {
     "data": {
      "text/html": [
       "<div>\n",
       "<style scoped>\n",
       "    .dataframe tbody tr th:only-of-type {\n",
       "        vertical-align: middle;\n",
       "    }\n",
       "\n",
       "    .dataframe tbody tr th {\n",
       "        vertical-align: top;\n",
       "    }\n",
       "\n",
       "    .dataframe thead th {\n",
       "        text-align: right;\n",
       "    }\n",
       "</style>\n",
       "<table border=\"1\" class=\"dataframe\">\n",
       "  <thead>\n",
       "    <tr style=\"text-align: right;\">\n",
       "      <th></th>\n",
       "      <th>target</th>\n",
       "    </tr>\n",
       "    <tr>\n",
       "      <th>datetime</th>\n",
       "      <th></th>\n",
       "    </tr>\n",
       "  </thead>\n",
       "  <tbody>\n",
       "  </tbody>\n",
       "</table>\n",
       "</div>"
      ],
      "text/plain": [
       "Empty DataFrame\n",
       "Columns: [target]\n",
       "Index: []"
      ]
     },
     "execution_count": 192,
     "metadata": {},
     "output_type": "execute_result"
    }
   ],
   "source": [
    "water[(water.index.year == 2019) & (water.target.isna())]\n",
    "# 값 확인"
   ]
  },
  {
   "cell_type": "code",
   "execution_count": 193,
   "id": "a2aab868-af4c-4e82-80f1-4b42f7d9993d",
   "metadata": {
    "execution": {
     "iopub.execute_input": "2022-11-22T00:13:14.436931Z",
     "iopub.status.busy": "2022-11-22T00:13:14.436931Z",
     "iopub.status.idle": "2022-11-22T00:13:14.461729Z",
     "shell.execute_reply": "2022-11-22T00:13:14.460763Z",
     "shell.execute_reply.started": "2022-11-22T00:13:14.436931Z"
    },
    "tags": []
   },
   "outputs": [
    {
     "data": {
      "text/html": [
       "<div>\n",
       "<style scoped>\n",
       "    .dataframe tbody tr th:only-of-type {\n",
       "        vertical-align: middle;\n",
       "    }\n",
       "\n",
       "    .dataframe tbody tr th {\n",
       "        vertical-align: top;\n",
       "    }\n",
       "\n",
       "    .dataframe thead th {\n",
       "        text-align: right;\n",
       "    }\n",
       "</style>\n",
       "<table border=\"1\" class=\"dataframe\">\n",
       "  <thead>\n",
       "    <tr style=\"text-align: right;\">\n",
       "      <th></th>\n",
       "      <th>target</th>\n",
       "    </tr>\n",
       "    <tr>\n",
       "      <th>datetime</th>\n",
       "      <th></th>\n",
       "    </tr>\n",
       "  </thead>\n",
       "  <tbody>\n",
       "    <tr>\n",
       "      <th>2020-02-10 14:00</th>\n",
       "      <td>NaN</td>\n",
       "    </tr>\n",
       "    <tr>\n",
       "      <th>2020-02-10 15:00</th>\n",
       "      <td>NaN</td>\n",
       "    </tr>\n",
       "  </tbody>\n",
       "</table>\n",
       "</div>"
      ],
      "text/plain": [
       "                  target\n",
       "datetime                \n",
       "2020-02-10 14:00     NaN\n",
       "2020-02-10 15:00     NaN"
      ]
     },
     "execution_count": 193,
     "metadata": {},
     "output_type": "execute_result"
    }
   ],
   "source": [
    "water[(water.index.year == 2020) & (water.target.isna())]\n",
    "# 각 결측치가 바로 붙어있긴 하지만 두개 밖에 없기 때문에 보간법 사용가능"
   ]
  },
  {
   "cell_type": "code",
   "execution_count": 194,
   "id": "d26f50b6-4bb9-47e9-b3b0-2f68c438b257",
   "metadata": {
    "execution": {
     "iopub.execute_input": "2022-11-22T00:13:24.409216Z",
     "iopub.status.busy": "2022-11-22T00:13:24.409216Z",
     "iopub.status.idle": "2022-11-22T00:13:24.432718Z",
     "shell.execute_reply": "2022-11-22T00:13:24.431741Z",
     "shell.execute_reply.started": "2022-11-22T00:13:24.409216Z"
    },
    "tags": []
   },
   "outputs": [],
   "source": [
    "water[(water.index.year == 2020)] = water[(water.index.year == 2020)].interpolate()"
   ]
  },
  {
   "cell_type": "code",
   "execution_count": 195,
   "id": "3594549f-c249-4be0-ade3-6ad6c6151698",
   "metadata": {
    "execution": {
     "iopub.execute_input": "2022-11-22T00:13:25.057500Z",
     "iopub.status.busy": "2022-11-22T00:13:25.057500Z",
     "iopub.status.idle": "2022-11-22T00:13:25.070835Z",
     "shell.execute_reply": "2022-11-22T00:13:25.069892Z",
     "shell.execute_reply.started": "2022-11-22T00:13:25.057500Z"
    },
    "tags": []
   },
   "outputs": [
    {
     "data": {
      "text/html": [
       "<div>\n",
       "<style scoped>\n",
       "    .dataframe tbody tr th:only-of-type {\n",
       "        vertical-align: middle;\n",
       "    }\n",
       "\n",
       "    .dataframe tbody tr th {\n",
       "        vertical-align: top;\n",
       "    }\n",
       "\n",
       "    .dataframe thead th {\n",
       "        text-align: right;\n",
       "    }\n",
       "</style>\n",
       "<table border=\"1\" class=\"dataframe\">\n",
       "  <thead>\n",
       "    <tr style=\"text-align: right;\">\n",
       "      <th></th>\n",
       "      <th>target</th>\n",
       "    </tr>\n",
       "    <tr>\n",
       "      <th>datetime</th>\n",
       "      <th></th>\n",
       "    </tr>\n",
       "  </thead>\n",
       "  <tbody>\n",
       "  </tbody>\n",
       "</table>\n",
       "</div>"
      ],
      "text/plain": [
       "Empty DataFrame\n",
       "Columns: [target]\n",
       "Index: []"
      ]
     },
     "execution_count": 195,
     "metadata": {},
     "output_type": "execute_result"
    }
   ],
   "source": [
    "water[(water.index.year == 2020) & (water.target.isna())]\n",
    "# 값 확인"
   ]
  },
  {
   "cell_type": "code",
   "execution_count": 196,
   "id": "f70b3aeb-9c4f-4b9a-9cdd-6fa1492dd635",
   "metadata": {
    "execution": {
     "iopub.execute_input": "2022-11-22T00:13:27.645533Z",
     "iopub.status.busy": "2022-11-22T00:13:27.644538Z",
     "iopub.status.idle": "2022-11-22T00:13:27.655789Z",
     "shell.execute_reply": "2022-11-22T00:13:27.655625Z",
     "shell.execute_reply.started": "2022-11-22T00:13:27.645533Z"
    },
    "tags": []
   },
   "outputs": [
    {
     "data": {
      "text/plain": [
       "132"
      ]
     },
     "execution_count": 196,
     "metadata": {},
     "output_type": "execute_result"
    }
   ],
   "source": [
    "water.target.isna().sum()"
   ]
  },
  {
   "cell_type": "code",
   "execution_count": null,
   "id": "b46db9cb",
   "metadata": {},
   "outputs": [],
   "source": []
  },
  {
   "cell_type": "code",
   "execution_count": null,
   "id": "7c343ec0",
   "metadata": {},
   "outputs": [],
   "source": []
  },
  {
   "cell_type": "code",
   "execution_count": null,
   "id": "933e3e65",
   "metadata": {},
   "outputs": [],
   "source": []
  },
  {
   "cell_type": "code",
   "execution_count": 197,
   "id": "8df0c959",
   "metadata": {},
   "outputs": [
    {
     "data": {
      "text/html": [
       "<div>\n",
       "<style scoped>\n",
       "    .dataframe tbody tr th:only-of-type {\n",
       "        vertical-align: middle;\n",
       "    }\n",
       "\n",
       "    .dataframe tbody tr th {\n",
       "        vertical-align: top;\n",
       "    }\n",
       "\n",
       "    .dataframe thead th {\n",
       "        text-align: right;\n",
       "    }\n",
       "</style>\n",
       "<table border=\"1\" class=\"dataframe\">\n",
       "  <thead>\n",
       "    <tr style=\"text-align: right;\">\n",
       "      <th></th>\n",
       "      <th>target</th>\n",
       "    </tr>\n",
       "    <tr>\n",
       "      <th>datetime</th>\n",
       "      <th></th>\n",
       "    </tr>\n",
       "  </thead>\n",
       "  <tbody>\n",
       "    <tr>\n",
       "      <th>2017-01-01 01:00</th>\n",
       "      <td>138.0</td>\n",
       "    </tr>\n",
       "    <tr>\n",
       "      <th>2017-01-01 02:00</th>\n",
       "      <td>237.0</td>\n",
       "    </tr>\n",
       "    <tr>\n",
       "      <th>2017-01-01 03:00</th>\n",
       "      <td>128.0</td>\n",
       "    </tr>\n",
       "    <tr>\n",
       "      <th>2017-01-01 04:00</th>\n",
       "      <td>14.0</td>\n",
       "    </tr>\n",
       "    <tr>\n",
       "      <th>2017-01-01 05:00</th>\n",
       "      <td>11.0</td>\n",
       "    </tr>\n",
       "    <tr>\n",
       "      <th>...</th>\n",
       "      <td>...</td>\n",
       "    </tr>\n",
       "    <tr>\n",
       "      <th>2020-12-31 19:00</th>\n",
       "      <td>328.0</td>\n",
       "    </tr>\n",
       "    <tr>\n",
       "      <th>2020-12-31 20:00</th>\n",
       "      <td>347.0</td>\n",
       "    </tr>\n",
       "    <tr>\n",
       "      <th>2020-12-31 21:00</th>\n",
       "      <td>335.0</td>\n",
       "    </tr>\n",
       "    <tr>\n",
       "      <th>2020-12-31 22:00</th>\n",
       "      <td>141.0</td>\n",
       "    </tr>\n",
       "    <tr>\n",
       "      <th>2020-12-31 23:00</th>\n",
       "      <td>112.0</td>\n",
       "    </tr>\n",
       "  </tbody>\n",
       "</table>\n",
       "<p>35063 rows × 1 columns</p>\n",
       "</div>"
      ],
      "text/plain": [
       "                  target\n",
       "datetime                \n",
       "2017-01-01 01:00   138.0\n",
       "2017-01-01 02:00   237.0\n",
       "2017-01-01 03:00   128.0\n",
       "2017-01-01 04:00    14.0\n",
       "2017-01-01 05:00    11.0\n",
       "...                  ...\n",
       "2020-12-31 19:00   328.0\n",
       "2020-12-31 20:00   347.0\n",
       "2020-12-31 21:00   335.0\n",
       "2020-12-31 22:00   141.0\n",
       "2020-12-31 23:00   112.0\n",
       "\n",
       "[35063 rows x 1 columns]"
      ]
     },
     "execution_count": 197,
     "metadata": {},
     "output_type": "execute_result"
    }
   ],
   "source": [
    "water"
   ]
  },
  {
   "cell_type": "code",
   "execution_count": 202,
   "id": "906ca180",
   "metadata": {},
   "outputs": [],
   "source": [
    "train_2019 = water[water.index.year == 2019]"
   ]
  },
  {
   "cell_type": "code",
   "execution_count": 203,
   "id": "d3f1f261",
   "metadata": {},
   "outputs": [],
   "source": [
    "train_2020 = water[water.index.year == 2020]"
   ]
  },
  {
   "cell_type": "code",
   "execution_count": 207,
   "id": "6d4e007c",
   "metadata": {},
   "outputs": [],
   "source": [
    "train = train_2019 + train_2020"
   ]
  },
  {
   "cell_type": "code",
   "execution_count": 210,
   "id": "a982d61c",
   "metadata": {},
   "outputs": [],
   "source": [
    "train.reset_index(level=0, inplace=True)"
   ]
  },
  {
   "cell_type": "code",
   "execution_count": 215,
   "id": "c3679cb7",
   "metadata": {},
   "outputs": [
    {
     "data": {
      "text/html": [
       "<div>\n",
       "<style scoped>\n",
       "    .dataframe tbody tr th:only-of-type {\n",
       "        vertical-align: middle;\n",
       "    }\n",
       "\n",
       "    .dataframe tbody tr th {\n",
       "        vertical-align: top;\n",
       "    }\n",
       "\n",
       "    .dataframe thead th {\n",
       "        text-align: right;\n",
       "    }\n",
       "</style>\n",
       "<table border=\"1\" class=\"dataframe\">\n",
       "  <thead>\n",
       "    <tr style=\"text-align: right;\">\n",
       "      <th></th>\n",
       "      <th>target</th>\n",
       "    </tr>\n",
       "    <tr>\n",
       "      <th>datetime</th>\n",
       "      <th></th>\n",
       "    </tr>\n",
       "  </thead>\n",
       "  <tbody>\n",
       "    <tr>\n",
       "      <th>2019-01-01 00:00</th>\n",
       "      <td>114.0</td>\n",
       "    </tr>\n",
       "    <tr>\n",
       "      <th>2019-01-01 01:00</th>\n",
       "      <td>83.0</td>\n",
       "    </tr>\n",
       "    <tr>\n",
       "      <th>2019-01-01 02:00</th>\n",
       "      <td>68.0</td>\n",
       "    </tr>\n",
       "    <tr>\n",
       "      <th>2019-01-01 03:00</th>\n",
       "      <td>90.0</td>\n",
       "    </tr>\n",
       "    <tr>\n",
       "      <th>2019-01-01 04:00</th>\n",
       "      <td>112.0</td>\n",
       "    </tr>\n",
       "    <tr>\n",
       "      <th>...</th>\n",
       "      <td>...</td>\n",
       "    </tr>\n",
       "    <tr>\n",
       "      <th>2019-12-31 19:00</th>\n",
       "      <td>108.0</td>\n",
       "    </tr>\n",
       "    <tr>\n",
       "      <th>2019-12-31 20:00</th>\n",
       "      <td>170.0</td>\n",
       "    </tr>\n",
       "    <tr>\n",
       "      <th>2019-12-31 21:00</th>\n",
       "      <td>268.0</td>\n",
       "    </tr>\n",
       "    <tr>\n",
       "      <th>2019-12-31 22:00</th>\n",
       "      <td>462.0</td>\n",
       "    </tr>\n",
       "    <tr>\n",
       "      <th>2019-12-31 23:00</th>\n",
       "      <td>369.0</td>\n",
       "    </tr>\n",
       "  </tbody>\n",
       "</table>\n",
       "<p>8760 rows × 1 columns</p>\n",
       "</div>"
      ],
      "text/plain": [
       "                  target\n",
       "datetime                \n",
       "2019-01-01 00:00   114.0\n",
       "2019-01-01 01:00    83.0\n",
       "2019-01-01 02:00    68.0\n",
       "2019-01-01 03:00    90.0\n",
       "2019-01-01 04:00   112.0\n",
       "...                  ...\n",
       "2019-12-31 19:00   108.0\n",
       "2019-12-31 20:00   170.0\n",
       "2019-12-31 21:00   268.0\n",
       "2019-12-31 22:00   462.0\n",
       "2019-12-31 23:00   369.0\n",
       "\n",
       "[8760 rows x 1 columns]"
      ]
     },
     "execution_count": 215,
     "metadata": {},
     "output_type": "execute_result"
    }
   ],
   "source": [
    "train_2019"
   ]
  },
  {
   "cell_type": "code",
   "execution_count": 234,
   "id": "cbe38a80",
   "metadata": {},
   "outputs": [
    {
     "data": {
      "text/plain": [
       "<AxesSubplot:xlabel='datetime'>"
      ]
     },
     "execution_count": 234,
     "metadata": {},
     "output_type": "execute_result"
    },
    {
     "data": {
      "image/png": "[encoded data removed]",
      "text/plain": [
       "<Figure size 432x288 with 1 Axes>"
      ]
     },
     "metadata": {
      "image/png": {
       "height": 272,
       "width": 381
      },
      "needs_background": "light"
     },
     "output_type": "display_data"
    }
   ],
   "source": [
    "train_2019.plot()"
   ]
  },
  {
   "cell_type": "code",
   "execution_count": 7,
   "id": "028664b5",
   "metadata": {},
   "outputs": [],
   "source": [
    "from pmdarima.arima import auto_arima"
   ]
  },
  {
   "cell_type": "code",
   "execution_count": 216,
   "id": "db94e7e7",
   "metadata": {},
   "outputs": [
    {
     "name": "stdout",
     "output_type": "stream",
     "text": [
      " ARIMA(0,1,0)(0,0,0)[0] intercept   : AIC=113427.338, Time=0.46 sec\n",
      " ARIMA(0,1,1)(0,0,0)[0] intercept   : AIC=113146.235, Time=0.76 sec\n",
      " ARIMA(0,1,2)(0,0,0)[0] intercept   : AIC=inf, Time=3.34 sec\n",
      " ARIMA(0,1,3)(0,0,0)[0] intercept   : AIC=inf, Time=4.01 sec\n",
      " ARIMA(1,1,0)(0,0,0)[0] intercept   : AIC=113270.157, Time=0.32 sec\n",
      " ARIMA(1,1,1)(0,0,0)[0] intercept   : AIC=inf, Time=2.90 sec\n",
      " ARIMA(1,1,2)(0,0,0)[0] intercept   : AIC=inf, Time=3.37 sec\n",
      " ARIMA(1,1,3)(0,0,0)[0] intercept   : AIC=inf, Time=6.33 sec\n",
      " ARIMA(2,1,0)(0,0,0)[0] intercept   : AIC=112860.779, Time=0.43 sec\n",
      " ARIMA(2,1,1)(0,0,0)[0] intercept   : AIC=inf, Time=4.07 sec\n",
      " ARIMA(2,1,2)(0,0,0)[0] intercept   : AIC=inf, Time=9.63 sec\n",
      " ARIMA(2,1,3)(0,0,0)[0] intercept   : AIC=inf, Time=5.47 sec\n",
      " ARIMA(3,1,0)(0,0,0)[0] intercept   : AIC=112793.407, Time=0.57 sec\n",
      " ARIMA(3,1,1)(0,0,0)[0] intercept   : AIC=inf, Time=7.42 sec\n",
      " ARIMA(3,1,2)(0,0,0)[0] intercept   : AIC=inf, Time=4.86 sec\n",
      "\n",
      "Best model:  ARIMA(3,1,0)(0,0,0)[0] intercept\n",
      "Total fit time: 54.015 seconds\n"
     ]
    }
   ],
   "source": [
    "model_arima= auto_arima(train_2019,trace=True, error_action='ignore',\n",
    "                        start_p=1,start_q=1,max_p=3,max_q=3,suppress_warnings=True,\n",
    "                        stepwise=False,seasonal=False)"
   ]
  },
  {
   "cell_type": "code",
   "execution_count": 230,
   "id": "c3922d2a",
   "metadata": {},
   "outputs": [
    {
     "name": "stdout",
     "output_type": "stream",
     "text": [
      " ARIMA(0,1,0)(0,0,0)[0] intercept   : AIC=113427.338, Time=0.17 sec\n",
      " ARIMA(0,1,1)(0,0,0)[0] intercept   : AIC=113146.235, Time=0.44 sec\n",
      " ARIMA(0,1,2)(0,0,0)[0] intercept   : AIC=inf, Time=3.28 sec\n",
      " ARIMA(0,1,3)(0,0,0)[0] intercept   : AIC=inf, Time=3.97 sec\n",
      " ARIMA(1,1,0)(0,0,0)[0] intercept   : AIC=113270.157, Time=0.33 sec\n",
      " ARIMA(1,1,1)(0,0,0)[0] intercept   : AIC=inf, Time=3.08 sec\n",
      " ARIMA(1,1,2)(0,0,0)[0] intercept   : AIC=inf, Time=3.49 sec\n",
      " ARIMA(1,1,3)(0,0,0)[0] intercept   : AIC=inf, Time=6.49 sec\n",
      " ARIMA(2,1,0)(0,0,0)[0] intercept   : AIC=112860.779, Time=0.40 sec\n",
      " ARIMA(2,1,1)(0,0,0)[0] intercept   : AIC=inf, Time=4.19 sec\n",
      " ARIMA(2,1,2)(0,0,0)[0] intercept   : AIC=inf, Time=9.34 sec\n",
      " ARIMA(2,1,3)(0,0,0)[0] intercept   : AIC=inf, Time=4.93 sec\n",
      " ARIMA(3,1,0)(0,0,0)[0] intercept   : AIC=112793.407, Time=0.50 sec\n",
      " ARIMA(3,1,1)(0,0,0)[0] intercept   : AIC=inf, Time=6.86 sec\n",
      " ARIMA(3,1,2)(0,0,0)[0] intercept   : AIC=inf, Time=4.52 sec\n",
      "\n",
      "Best model:  ARIMA(3,1,0)(0,0,0)[0] intercept\n",
      "Total fit time: 52.021 seconds\n"
     ]
    }
   ],
   "source": [
    "auto_arima_model = auto_arima(train_2019, \n",
    "                              start_p=0, max_p=3, \n",
    "                              start_q=0, max_q=3, \n",
    "                              seasonal=False,\n",
    "                              d = 1,\n",
    "                              trace=True,\n",
    "                              error_action='ignore',  \n",
    "                              suppress_warnings=True, \n",
    "                              stepwise=False)"
   ]
  },
  {
   "cell_type": "code",
   "execution_count": 231,
   "id": "becce5d3",
   "metadata": {},
   "outputs": [
    {
     "name": "stdout",
     "output_type": "stream",
     "text": [
      " ARIMA(0,2,0)(0,0,0)[0] intercept   : AIC=120588.693, Time=0.16 sec\n",
      " ARIMA(0,2,1)(0,0,0)[0] intercept   : AIC=inf, Time=1.72 sec\n",
      " ARIMA(0,2,2)(0,0,0)[0] intercept   : AIC=inf, Time=3.61 sec\n",
      " ARIMA(0,2,3)(0,0,0)[0] intercept   : AIC=inf, Time=6.89 sec\n",
      " ARIMA(1,2,0)(0,0,0)[0] intercept   : AIC=118358.342, Time=0.34 sec\n",
      " ARIMA(1,2,1)(0,0,0)[0] intercept   : AIC=inf, Time=2.59 sec\n",
      " ARIMA(1,2,2)(0,0,0)[0] intercept   : AIC=inf, Time=3.20 sec\n",
      " ARIMA(1,2,3)(0,0,0)[0] intercept   : AIC=inf, Time=11.64 sec\n",
      " ARIMA(2,2,0)(0,0,0)[0] intercept   : AIC=116663.643, Time=0.43 sec\n",
      " ARIMA(2,2,1)(0,0,0)[0] intercept   : AIC=inf, Time=5.16 sec\n",
      " ARIMA(2,2,2)(0,0,0)[0] intercept   : AIC=inf, Time=11.50 sec\n",
      " ARIMA(2,2,3)(0,0,0)[0] intercept   : AIC=inf, Time=11.95 sec\n",
      " ARIMA(3,2,0)(0,0,0)[0] intercept   : AIC=115920.453, Time=0.56 sec\n",
      " ARIMA(3,2,1)(0,0,0)[0] intercept   : AIC=inf, Time=5.31 sec\n",
      " ARIMA(3,2,2)(0,0,0)[0] intercept   : AIC=inf, Time=4.72 sec\n",
      "\n",
      "Best model:  ARIMA(3,2,0)(0,0,0)[0] intercept\n",
      "Total fit time: 69.840 seconds\n"
     ]
    }
   ],
   "source": [
    "auto_arima_model = auto_arima(train_2019, \n",
    "                              start_p=0, max_p=3, \n",
    "                              start_q=0, max_q=3, \n",
    "                              seasonal=False,\n",
    "                              d = 2,\n",
    "                              trace=True,\n",
    "                              error_action='ignore',  \n",
    "                              suppress_warnings=True, \n",
    "                              stepwise=False)"
   ]
  },
  {
   "cell_type": "code",
   "execution_count": 232,
   "id": "8277ae9e",
   "metadata": {},
   "outputs": [
    {
     "data": {
      "text/html": [
       "<table class=\"simpletable\">\n",
       "<caption>SARIMAX Results</caption>\n",
       "<tr>\n",
       "  <th>Dep. Variable:</th>           <td>y</td>        <th>  No. Observations:  </th>    <td>8760</td>   \n",
       "</tr>\n",
       "<tr>\n",
       "  <th>Model:</th>           <td>SARIMAX(3, 1, 0)</td> <th>  Log Likelihood     </th> <td>-56391.704</td>\n",
       "</tr>\n",
       "<tr>\n",
       "  <th>Date:</th>            <td>Tue, 22 Nov 2022</td> <th>  AIC                </th> <td>112793.407</td>\n",
       "</tr>\n",
       "<tr>\n",
       "  <th>Time:</th>                <td>15:06:10</td>     <th>  BIC                </th> <td>112828.797</td>\n",
       "</tr>\n",
       "<tr>\n",
       "  <th>Sample:</th>             <td>01-01-2019</td>    <th>  HQIC               </th> <td>112805.466</td>\n",
       "</tr>\n",
       "<tr>\n",
       "  <th></th>                   <td>- 12-31-2019</td>   <th>                     </th>      <td> </td>    \n",
       "</tr>\n",
       "<tr>\n",
       "  <th>Covariance Type:</th>        <td>opg</td>       <th>                     </th>      <td> </td>    \n",
       "</tr>\n",
       "</table>\n",
       "<table class=\"simpletable\">\n",
       "<tr>\n",
       "      <td></td>         <th>coef</th>     <th>std err</th>      <th>z</th>      <th>P>|z|</th>  <th>[0.025</th>    <th>0.975]</th>  \n",
       "</tr>\n",
       "<tr>\n",
       "  <th>intercept</th> <td>    0.0455</td> <td>    1.732</td> <td>    0.026</td> <td> 0.979</td> <td>   -3.349</td> <td>    3.440</td>\n",
       "</tr>\n",
       "<tr>\n",
       "  <th>ar.L1</th>     <td>   -0.1819</td> <td>    0.011</td> <td>  -17.261</td> <td> 0.000</td> <td>   -0.203</td> <td>   -0.161</td>\n",
       "</tr>\n",
       "<tr>\n",
       "  <th>ar.L2</th>     <td>   -0.2287</td> <td>    0.011</td> <td>  -21.692</td> <td> 0.000</td> <td>   -0.249</td> <td>   -0.208</td>\n",
       "</tr>\n",
       "<tr>\n",
       "  <th>ar.L3</th>     <td>   -0.0888</td> <td>    0.011</td> <td>   -7.895</td> <td> 0.000</td> <td>   -0.111</td> <td>   -0.067</td>\n",
       "</tr>\n",
       "<tr>\n",
       "  <th>sigma2</th>    <td>  2.29e+04</td> <td>  326.298</td> <td>   70.170</td> <td> 0.000</td> <td> 2.23e+04</td> <td> 2.35e+04</td>\n",
       "</tr>\n",
       "</table>\n",
       "<table class=\"simpletable\">\n",
       "<tr>\n",
       "  <th>Ljung-Box (L1) (Q):</th>     <td>0.89</td> <th>  Jarque-Bera (JB):  </th> <td>205.45</td>\n",
       "</tr>\n",
       "<tr>\n",
       "  <th>Prob(Q):</th>                <td>0.34</td> <th>  Prob(JB):          </th>  <td>0.00</td> \n",
       "</tr>\n",
       "<tr>\n",
       "  <th>Heteroskedasticity (H):</th> <td>1.11</td> <th>  Skew:              </th>  <td>0.31</td> \n",
       "</tr>\n",
       "<tr>\n",
       "  <th>Prob(H) (two-sided):</th>    <td>0.00</td> <th>  Kurtosis:          </th>  <td>3.42</td> \n",
       "</tr>\n",
       "</table><br/><br/>Warnings:<br/>[1] Covariance matrix calculated using the outer product of gradients (complex-step)."
      ],
      "text/plain": [
       "<class 'statsmodels.iolib.summary.Summary'>\n",
       "\"\"\"\n",
       "                               SARIMAX Results                                \n",
       "==============================================================================\n",
       "Dep. Variable:                      y   No. Observations:                 8760\n",
       "Model:               SARIMAX(3, 1, 0)   Log Likelihood              -56391.704\n",
       "Date:                Tue, 22 Nov 2022   AIC                         112793.407\n",
       "Time:                        15:06:10   BIC                         112828.797\n",
       "Sample:                    01-01-2019   HQIC                        112805.466\n",
       "                         - 12-31-2019                                         \n",
       "Covariance Type:                  opg                                         \n",
       "==============================================================================\n",
       "                 coef    std err          z      P>|z|      [0.025      0.975]\n",
       "------------------------------------------------------------------------------\n",
       "intercept      0.0455      1.732      0.026      0.979      -3.349       3.440\n",
       "ar.L1         -0.1819      0.011    -17.261      0.000      -0.203      -0.161\n",
       "ar.L2         -0.2287      0.011    -21.692      0.000      -0.249      -0.208\n",
       "ar.L3         -0.0888      0.011     -7.895      0.000      -0.111      -0.067\n",
       "sigma2       2.29e+04    326.298     70.170      0.000    2.23e+04    2.35e+04\n",
       "===================================================================================\n",
       "Ljung-Box (L1) (Q):                   0.89   Jarque-Bera (JB):               205.45\n",
       "Prob(Q):                              0.34   Prob(JB):                         0.00\n",
       "Heteroskedasticity (H):               1.11   Skew:                             0.31\n",
       "Prob(H) (two-sided):                  0.00   Kurtosis:                         3.42\n",
       "===================================================================================\n",
       "\n",
       "Warnings:\n",
       "[1] Covariance matrix calculated using the outer product of gradients (complex-step).\n",
       "\"\"\""
      ]
     },
     "execution_count": 232,
     "metadata": {},
     "output_type": "execute_result"
    }
   ],
   "source": [
    "model_arima.summary()"
   ]
  },
  {
   "cell_type": "code",
   "execution_count": 242,
   "id": "002ce033",
   "metadata": {},
   "outputs": [],
   "source": [
    "pred_2020_01_01model_arima.predict(n_periods = 25)"
   ]
  },
  {
   "cell_type": "code",
   "execution_count": 248,
   "id": "c8e9aeb3",
   "metadata": {},
   "outputs": [],
   "source": [
    "## 서브미션 시간대별로 300개 가량 periods를 재학습시켜서 도출"
   ]
  },
  {
   "cell_type": "code",
   "execution_count": 246,
   "id": "6651ae28",
   "metadata": {},
   "outputs": [
    {
     "data": {
      "text/plain": [
       "2020-01-01 00:00    332.901863\n",
       "2020-01-01 01:00    343.550953\n",
       "2020-01-01 02:00    358.172142\n",
       "2020-01-01 03:00    356.328446\n",
       "2020-01-01 04:00    352.420378\n",
       "2020-01-01 05:00    352.299912\n",
       "2020-01-01 06:00    353.424615\n",
       "2020-01-01 07:00    353.640066\n",
       "2020-01-01 08:00    353.399852\n",
       "2020-01-01 09:00    353.339860\n",
       "2020-01-01 10:00    353.432020\n",
       "2020-01-01 11:00    353.495757\n",
       "2020-01-01 12:00    353.513869\n",
       "2020-01-01 13:00    353.533269\n",
       "2020-01-01 14:00    353.565390\n",
       "2020-01-01 15:00    353.598955\n",
       "2020-01-01 16:00    353.629234\n",
       "2020-01-01 17:00    353.658651\n",
       "2020-01-01 18:00    353.688848\n",
       "2020-01-01 19:00    353.719392\n",
       "2020-01-01 20:00    353.749771\n",
       "2020-01-01 21:00    353.780031\n",
       "2020-01-01 22:00    353.810320\n",
       "2020-01-01 23:00    353.840646\n",
       "2020-01-02 00:00    353.870969\n",
       "Freq: H, dtype: float64"
      ]
     },
     "execution_count": 246,
     "metadata": {},
     "output_type": "execute_result"
    }
   ],
   "source": [
    "pred_2020_01_01"
   ]
  },
  {
   "cell_type": "code",
   "execution_count": 247,
   "id": "29f21a96",
   "metadata": {},
   "outputs": [
    {
     "data": {
      "text/html": [
       "<div>\n",
       "<style scoped>\n",
       "    .dataframe tbody tr th:only-of-type {\n",
       "        vertical-align: middle;\n",
       "    }\n",
       "\n",
       "    .dataframe tbody tr th {\n",
       "        vertical-align: top;\n",
       "    }\n",
       "\n",
       "    .dataframe thead th {\n",
       "        text-align: right;\n",
       "    }\n",
       "</style>\n",
       "<table border=\"1\" class=\"dataframe\">\n",
       "  <thead>\n",
       "    <tr style=\"text-align: right;\">\n",
       "      <th></th>\n",
       "      <th>target</th>\n",
       "    </tr>\n",
       "    <tr>\n",
       "      <th>datetime</th>\n",
       "      <th></th>\n",
       "    </tr>\n",
       "  </thead>\n",
       "  <tbody>\n",
       "    <tr>\n",
       "      <th>2020-01-01 00:00</th>\n",
       "      <td>233.0</td>\n",
       "    </tr>\n",
       "    <tr>\n",
       "      <th>2020-01-01 01:00</th>\n",
       "      <td>40.0</td>\n",
       "    </tr>\n",
       "    <tr>\n",
       "      <th>2020-01-01 02:00</th>\n",
       "      <td>67.0</td>\n",
       "    </tr>\n",
       "    <tr>\n",
       "      <th>2020-01-01 03:00</th>\n",
       "      <td>151.0</td>\n",
       "    </tr>\n",
       "    <tr>\n",
       "      <th>2020-01-01 04:00</th>\n",
       "      <td>18.0</td>\n",
       "    </tr>\n",
       "    <tr>\n",
       "      <th>...</th>\n",
       "      <td>...</td>\n",
       "    </tr>\n",
       "    <tr>\n",
       "      <th>2020-12-31 19:00</th>\n",
       "      <td>328.0</td>\n",
       "    </tr>\n",
       "    <tr>\n",
       "      <th>2020-12-31 20:00</th>\n",
       "      <td>347.0</td>\n",
       "    </tr>\n",
       "    <tr>\n",
       "      <th>2020-12-31 21:00</th>\n",
       "      <td>335.0</td>\n",
       "    </tr>\n",
       "    <tr>\n",
       "      <th>2020-12-31 22:00</th>\n",
       "      <td>141.0</td>\n",
       "    </tr>\n",
       "    <tr>\n",
       "      <th>2020-12-31 23:00</th>\n",
       "      <td>112.0</td>\n",
       "    </tr>\n",
       "  </tbody>\n",
       "</table>\n",
       "<p>8784 rows × 1 columns</p>\n",
       "</div>"
      ],
      "text/plain": [
       "                  target\n",
       "datetime                \n",
       "2020-01-01 00:00   233.0\n",
       "2020-01-01 01:00    40.0\n",
       "2020-01-01 02:00    67.0\n",
       "2020-01-01 03:00   151.0\n",
       "2020-01-01 04:00    18.0\n",
       "...                  ...\n",
       "2020-12-31 19:00   328.0\n",
       "2020-12-31 20:00   347.0\n",
       "2020-12-31 21:00   335.0\n",
       "2020-12-31 22:00   141.0\n",
       "2020-12-31 23:00   112.0\n",
       "\n",
       "[8784 rows x 1 columns]"
      ]
     },
     "execution_count": 247,
     "metadata": {},
     "output_type": "execute_result"
    }
   ],
   "source": [
    "train_2020"
   ]
  },
  {
   "cell_type": "code",
   "execution_count": 250,
   "id": "205e5c88",
   "metadata": {
    "scrolled": true
   },
   "outputs": [
    {
     "data": {
      "text/plain": [
       "<AxesSubplot:>"
      ]
     },
     "execution_count": 250,
     "metadata": {},
     "output_type": "execute_result"
    },
    {
     "data": {
      "image/png": "[encoded data removed]",
      "text/plain": [
       "<Figure size 432x288 with 1 Axes>"
      ]
     },
     "metadata": {
      "image/png": {
       "height": 270,
       "width": 391
      },
      "needs_background": "light"
     },
     "output_type": "display_data"
    }
   ],
   "source": [
    "pred_2020_01_01.plot()"
   ]
  },
  {
   "cell_type": "code",
   "execution_count": 254,
   "id": "d6a7deca",
   "metadata": {},
   "outputs": [],
   "source": [
    "test = train_2020[(train_2020.index.month == 1) & (train_2020.index.day == 1)]"
   ]
  },
  {
   "cell_type": "code",
   "execution_count": 255,
   "id": "e6fdaa2a",
   "metadata": {},
   "outputs": [
    {
     "data": {
      "text/plain": [
       "<AxesSubplot:xlabel='datetime'>"
      ]
     },
     "execution_count": 255,
     "metadata": {},
     "output_type": "execute_result"
    },
    {
     "data": {
      "image/png": "[encoded data removed]",
      "text/plain": [
       "<Figure size 432x288 with 1 Axes>"
      ]
     },
     "metadata": {
      "image/png": {
       "height": 283,
       "width": 375
      },
      "needs_background": "light"
     },
     "output_type": "display_data"
    }
   ],
   "source": [
    "test.plot()"
   ]
  },
  {
   "cell_type": "code",
   "execution_count": null,
   "id": "915b6b0f",
   "metadata": {},
   "outputs": [],
   "source": []
  },
  {
   "cell_type": "code",
   "execution_count": null,
   "id": "06de5afd",
   "metadata": {},
   "outputs": [],
   "source": []
  },
  {
   "cell_type": "code",
   "execution_count": null,
   "id": "43ac7c36",
   "metadata": {},
   "outputs": [],
   "source": []
  },
  {
   "cell_type": "code",
   "execution_count": null,
   "id": "855cdfc8",
   "metadata": {},
   "outputs": [],
   "source": []
  },
  {
   "cell_type": "code",
   "execution_count": 256,
   "id": "d90116eb",
   "metadata": {},
   "outputs": [
    {
     "data": {
      "text/plain": [
       "datetime.datetime(2022, 11, 22, 16, 24, 48, 682859)"
      ]
     },
     "execution_count": 256,
     "metadata": {},
     "output_type": "execute_result"
    }
   ],
   "source": [
    "from datetime import datetime\n",
    "\n",
    "\n",
    "\n",
    "datetime.today()            # 현재 날짜 가져오기\n"
   ]
  },
  {
   "cell_type": "code",
   "execution_count": 259,
   "id": "d6820ef0",
   "metadata": {},
   "outputs": [
    {
     "data": {
      "text/plain": [
       "Period('2019-12-31 23:00', 'H')"
      ]
     },
     "execution_count": 259,
     "metadata": {},
     "output_type": "execute_result"
    }
   ],
   "source": [
    "train_2020.index[0]"
   ]
  },
  {
   "cell_type": "code",
   "execution_count": 262,
   "id": "86a46f92",
   "metadata": {},
   "outputs": [
    {
     "data": {
      "text/html": [
       "<div>\n",
       "<style scoped>\n",
       "    .dataframe tbody tr th:only-of-type {\n",
       "        vertical-align: middle;\n",
       "    }\n",
       "\n",
       "    .dataframe tbody tr th {\n",
       "        vertical-align: top;\n",
       "    }\n",
       "\n",
       "    .dataframe thead th {\n",
       "        text-align: right;\n",
       "    }\n",
       "</style>\n",
       "<table border=\"1\" class=\"dataframe\">\n",
       "  <thead>\n",
       "    <tr style=\"text-align: right;\">\n",
       "      <th></th>\n",
       "      <th>target</th>\n",
       "    </tr>\n",
       "    <tr>\n",
       "      <th>datetime</th>\n",
       "      <th></th>\n",
       "    </tr>\n",
       "  </thead>\n",
       "  <tbody>\n",
       "    <tr>\n",
       "      <th>2020-01-01 02:00</th>\n",
       "      <td>67.0</td>\n",
       "    </tr>\n",
       "  </tbody>\n",
       "</table>\n",
       "</div>"
      ],
      "text/plain": [
       "                  target\n",
       "datetime                \n",
       "2020-01-01 02:00    67.0"
      ]
     },
     "execution_count": 262,
     "metadata": {},
     "output_type": "execute_result"
    }
   ],
   "source": [
    "train_2020[train_2020.index == train_2020.index[2]]"
   ]
  }
 ],
 "metadata": {
  "kernelspec": {
   "display_name": "Python 3 (ipykernel)",
   "language": "python",
   "name": "python3"
  },
  "language_info": {
   "codemirror_mode": {
    "name": "ipython",
    "version": 3
   },
   "file_extension": ".py",
   "mimetype": "text/x-python",
   "name": "python",
   "nbconvert_exporter": "python",
   "pygments_lexer": "ipython3",
   "version": "3.9.7"
  },
  "toc": {
   "base_numbering": 1,
   "nav_menu": {},
   "number_sections": true,
   "sideBar": true,
   "skip_h1_title": false,
   "title_cell": "Table of Contents",
   "title_sidebar": "Contents",
   "toc_cell": false,
   "toc_position": {},
   "toc_section_display": true,
   "toc_window_display": false
  }
 },
 "nbformat": 4,
 "nbformat_minor": 5
}
