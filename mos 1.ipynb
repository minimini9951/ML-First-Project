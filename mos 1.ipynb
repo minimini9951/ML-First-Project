{
 "cells": [
  {
   "cell_type": "markdown",
   "id": "41c5fab3",
   "metadata": {},
   "source": [
    "###### 11월 14일\n"
   ]
  },
  {
   "cell_type": "markdown",
   "id": "5f984d9f",
   "metadata": {},
   "source": [
    "# 모듈 불러오기"
   ]
  },
  {
   "cell_type": "code",
   "execution_count": 1,
   "id": "74aed261",
   "metadata": {},
   "outputs": [],
   "source": [
    "import numpy as np\n",
    "import pandas as pd\n",
    "\n",
    "import matplotlib as mpl\n",
    "import matplotlib.pyplot as plt\n",
    "import seaborn as sns\n",
    "\n",
    "import warnings\n",
    "\n",
    "# 시각화를 주피터에 \n",
    "%matplotlib inline\n",
    "\n",
    "#한글 폰트를 선명하게 보기위해\n",
    "%config Inlinebackend.fiure_format = 'retina'\n",
    "mpl.rc('font',family = 'malgun gothic')\n",
    "# 유니코드에서 음수로 부호설정\n",
    "mpl.rc('axes',unicode_minus = False)\n",
    "\n",
    "# 차트 설정 \n",
    "sns.set(font = \"malgun gothic\", rc = {'axes.unicode_minus':False}, style = 'darkgrid')\n",
    "plt.rc('figure', figsize = (10,8))\n",
    "warnings.filterwarnings('ignore')"
   ]
  },
  {
   "cell_type": "markdown",
   "id": "b2e0adf7",
   "metadata": {},
   "source": [
    "# 데이터셋 로딩"
   ]
  },
  {
   "cell_type": "code",
   "execution_count": 2,
   "id": "0c1402a7",
   "metadata": {},
   "outputs": [],
   "source": [
    "# 모기지수 : 일 평균 모기 개체수"
   ]
  },
  {
   "cell_type": "code",
   "execution_count": 3,
   "id": "458204e8",
   "metadata": {},
   "outputs": [],
   "source": [
    "mos = pd.read_csv('C:\\\\k_disital\\\\source\\\\mygit\\\\ML-First-Project\\\\mosquito_Indicator.csv')"
   ]
  },
  {
   "cell_type": "code",
   "execution_count": 4,
   "id": "1e63492a",
   "metadata": {},
   "outputs": [
    {
     "data": {
      "text/html": [
       "<div>\n",
       "<style scoped>\n",
       "    .dataframe tbody tr th:only-of-type {\n",
       "        vertical-align: middle;\n",
       "    }\n",
       "\n",
       "    .dataframe tbody tr th {\n",
       "        vertical-align: top;\n",
       "    }\n",
       "\n",
       "    .dataframe thead th {\n",
       "        text-align: right;\n",
       "    }\n",
       "</style>\n",
       "<table border=\"1\" class=\"dataframe\">\n",
       "  <thead>\n",
       "    <tr style=\"text-align: right;\">\n",
       "      <th></th>\n",
       "      <th>date</th>\n",
       "      <th>mosquito_Indicator</th>\n",
       "      <th>rain(mm)</th>\n",
       "      <th>mean_T(℃)</th>\n",
       "      <th>min_T(℃)</th>\n",
       "      <th>max_T(℃)</th>\n",
       "    </tr>\n",
       "  </thead>\n",
       "  <tbody>\n",
       "    <tr>\n",
       "      <th>0</th>\n",
       "      <td>2016-05-01</td>\n",
       "      <td>254.4</td>\n",
       "      <td>0.0</td>\n",
       "      <td>18.8</td>\n",
       "      <td>12.2</td>\n",
       "      <td>26.0</td>\n",
       "    </tr>\n",
       "    <tr>\n",
       "      <th>1</th>\n",
       "      <td>2016-05-02</td>\n",
       "      <td>273.5</td>\n",
       "      <td>16.5</td>\n",
       "      <td>21.1</td>\n",
       "      <td>16.5</td>\n",
       "      <td>28.4</td>\n",
       "    </tr>\n",
       "    <tr>\n",
       "      <th>2</th>\n",
       "      <td>2016-05-03</td>\n",
       "      <td>304.0</td>\n",
       "      <td>27.0</td>\n",
       "      <td>12.9</td>\n",
       "      <td>8.9</td>\n",
       "      <td>17.6</td>\n",
       "    </tr>\n",
       "    <tr>\n",
       "      <th>3</th>\n",
       "      <td>2016-05-04</td>\n",
       "      <td>256.2</td>\n",
       "      <td>0.0</td>\n",
       "      <td>15.7</td>\n",
       "      <td>10.2</td>\n",
       "      <td>20.6</td>\n",
       "    </tr>\n",
       "    <tr>\n",
       "      <th>4</th>\n",
       "      <td>2016-05-05</td>\n",
       "      <td>243.8</td>\n",
       "      <td>7.5</td>\n",
       "      <td>18.9</td>\n",
       "      <td>10.2</td>\n",
       "      <td>26.9</td>\n",
       "    </tr>\n",
       "    <tr>\n",
       "      <th>...</th>\n",
       "      <td>...</td>\n",
       "      <td>...</td>\n",
       "      <td>...</td>\n",
       "      <td>...</td>\n",
       "      <td>...</td>\n",
       "      <td>...</td>\n",
       "    </tr>\n",
       "    <tr>\n",
       "      <th>1337</th>\n",
       "      <td>2019-12-27</td>\n",
       "      <td>5.5</td>\n",
       "      <td>0.0</td>\n",
       "      <td>-1.7</td>\n",
       "      <td>-4.6</td>\n",
       "      <td>2.6</td>\n",
       "    </tr>\n",
       "    <tr>\n",
       "      <th>1338</th>\n",
       "      <td>2019-12-28</td>\n",
       "      <td>5.5</td>\n",
       "      <td>0.0</td>\n",
       "      <td>1.1</td>\n",
       "      <td>-3.6</td>\n",
       "      <td>6.1</td>\n",
       "    </tr>\n",
       "    <tr>\n",
       "      <th>1339</th>\n",
       "      <td>2019-12-29</td>\n",
       "      <td>5.5</td>\n",
       "      <td>1.4</td>\n",
       "      <td>3.8</td>\n",
       "      <td>1.1</td>\n",
       "      <td>6.2</td>\n",
       "    </tr>\n",
       "    <tr>\n",
       "      <th>1340</th>\n",
       "      <td>2019-12-30</td>\n",
       "      <td>5.5</td>\n",
       "      <td>0.4</td>\n",
       "      <td>2.7</td>\n",
       "      <td>-5.7</td>\n",
       "      <td>6.8</td>\n",
       "    </tr>\n",
       "    <tr>\n",
       "      <th>1341</th>\n",
       "      <td>2019-12-31</td>\n",
       "      <td>5.5</td>\n",
       "      <td>0.0</td>\n",
       "      <td>-7.9</td>\n",
       "      <td>-10.9</td>\n",
       "      <td>-4.5</td>\n",
       "    </tr>\n",
       "  </tbody>\n",
       "</table>\n",
       "<p>1342 rows × 6 columns</p>\n",
       "</div>"
      ],
      "text/plain": [
       "            date  mosquito_Indicator  rain(mm)  mean_T(℃)  min_T(℃)  max_T(℃)\n",
       "0     2016-05-01               254.4       0.0       18.8      12.2      26.0\n",
       "1     2016-05-02               273.5      16.5       21.1      16.5      28.4\n",
       "2     2016-05-03               304.0      27.0       12.9       8.9      17.6\n",
       "3     2016-05-04               256.2       0.0       15.7      10.2      20.6\n",
       "4     2016-05-05               243.8       7.5       18.9      10.2      26.9\n",
       "...          ...                 ...       ...        ...       ...       ...\n",
       "1337  2019-12-27                 5.5       0.0       -1.7      -4.6       2.6\n",
       "1338  2019-12-28                 5.5       0.0        1.1      -3.6       6.1\n",
       "1339  2019-12-29                 5.5       1.4        3.8       1.1       6.2\n",
       "1340  2019-12-30                 5.5       0.4        2.7      -5.7       6.8\n",
       "1341  2019-12-31                 5.5       0.0       -7.9     -10.9      -4.5\n",
       "\n",
       "[1342 rows x 6 columns]"
      ]
     },
     "execution_count": 4,
     "metadata": {},
     "output_type": "execute_result"
    }
   ],
   "source": [
    "mos"
   ]
  },
  {
   "cell_type": "code",
   "execution_count": 5,
   "id": "21fa73fd",
   "metadata": {},
   "outputs": [
    {
     "name": "stdout",
     "output_type": "stream",
     "text": [
      "<class 'pandas.core.frame.DataFrame'>\n",
      "RangeIndex: 1342 entries, 0 to 1341\n",
      "Data columns (total 6 columns):\n",
      " #   Column              Non-Null Count  Dtype  \n",
      "---  ------              --------------  -----  \n",
      " 0   date                1342 non-null   object \n",
      " 1   mosquito_Indicator  1342 non-null   float64\n",
      " 2   rain(mm)            1342 non-null   float64\n",
      " 3   mean_T(℃)           1342 non-null   float64\n",
      " 4   min_T(℃)            1342 non-null   float64\n",
      " 5   max_T(℃)            1342 non-null   float64\n",
      "dtypes: float64(5), object(1)\n",
      "memory usage: 63.0+ KB\n"
     ]
    }
   ],
   "source": [
    "mos.info()"
   ]
  },
  {
   "cell_type": "markdown",
   "id": "a6c6a7d5",
   "metadata": {},
   "source": [
    "## 데이터 탐색 EDA"
   ]
  },
  {
   "cell_type": "code",
   "execution_count": 6,
   "id": "cd7f59fb",
   "metadata": {},
   "outputs": [
    {
     "data": {
      "text/plain": [
       "Index(['date', 'mosquito_Indicator', 'rain(mm)', 'mean_T(℃)', 'min_T(℃)',\n",
       "       'max_T(℃)'],\n",
       "      dtype='object')"
      ]
     },
     "execution_count": 6,
     "metadata": {},
     "output_type": "execute_result"
    }
   ],
   "source": [
    "mos.keys()"
   ]
  },
  {
   "cell_type": "code",
   "execution_count": 7,
   "id": "cc5dbb83",
   "metadata": {},
   "outputs": [],
   "source": [
    "#mos.columns !! 나중에 보고 삭제"
   ]
  },
  {
   "cell_type": "code",
   "execution_count": 8,
   "id": "781cce5a",
   "metadata": {},
   "outputs": [],
   "source": [
    "#colums=mos.keys() !! 나중에 보고 필요없으면 삭제"
   ]
  },
  {
   "cell_type": "code",
   "execution_count": 9,
   "id": "8cedfaf9",
   "metadata": {},
   "outputs": [],
   "source": [
    "# !!이거 만들필요가 있나??!!\n",
    "#df = pd.DataFrame(mos , columns=colums)"
   ]
  },
  {
   "cell_type": "code",
   "execution_count": 10,
   "id": "72199093",
   "metadata": {},
   "outputs": [],
   "source": [
    "#df.columns = ['date','mosquito_Indicator','rain','mean_T','min_T','max_T'] !! 나중에 보고 삭제"
   ]
  },
  {
   "cell_type": "code",
   "execution_count": 11,
   "id": "1b56c17f",
   "metadata": {
    "scrolled": true
   },
   "outputs": [
    {
     "data": {
      "text/plain": [
       "count    1342.000000\n",
       "mean      251.991803\n",
       "std       295.871336\n",
       "min         0.000000\n",
       "25%         5.500000\n",
       "50%        91.900000\n",
       "75%       480.400000\n",
       "max      1000.000000\n",
       "Name: mosquito_Indicator, dtype: float64"
      ]
     },
     "execution_count": 11,
     "metadata": {},
     "output_type": "execute_result"
    }
   ],
   "source": [
    "mos['mosquito_Indicator'].describe()"
   ]
  },
  {
   "cell_type": "markdown",
   "id": "8925d91f",
   "metadata": {},
   "source": [
    "### 데이터 시각화"
   ]
  },
  {
   "cell_type": "code",
   "execution_count": 12,
   "id": "2cd01401",
   "metadata": {},
   "outputs": [],
   "source": [
    "def plot_hist(df):\n",
    "    # 하나의 도화지에 20개의 그래프 그리기\n",
    "    plt.rcParams['figure.figsize'] = [20,16]\n",
    "    fig = plt.figure()\n",
    "    \n",
    "    for i in range(len(df.columns)):\n",
    "        ax = fig.add_subplot(3,2,i+1) # 5행5열에서 i+1번째 #ax : 축\n",
    "        plt.hist(df[df.columns[i]],bins = 50)\n",
    "        ax.set_title(df.columns[i])\n",
    "    plt.show()"
   ]
  },
  {
   "cell_type": "code",
   "execution_count": 13,
   "id": "0e17bf96",
   "metadata": {
    "scrolled": false
   },
   "outputs": [
    {
     "data": {
      "image/png": "[encoded data removed]",
      "text/plain": [
       "<Figure size 1440x1152 with 6 Axes>"
      ]
     },
     "metadata": {},
     "output_type": "display_data"
    }
   ],
   "source": [
    "plot_hist(mos)"
   ]
  },
  {
   "cell_type": "markdown",
   "id": "1c3a1d77",
   "metadata": {},
   "source": [
    "### 상관계수"
   ]
  },
  {
   "cell_type": "code",
   "execution_count": 14,
   "id": "4a5c6853",
   "metadata": {},
   "outputs": [
    {
     "data": {
      "text/html": [
       "<div>\n",
       "<style scoped>\n",
       "    .dataframe tbody tr th:only-of-type {\n",
       "        vertical-align: middle;\n",
       "    }\n",
       "\n",
       "    .dataframe tbody tr th {\n",
       "        vertical-align: top;\n",
       "    }\n",
       "\n",
       "    .dataframe thead th {\n",
       "        text-align: right;\n",
       "    }\n",
       "</style>\n",
       "<table border=\"1\" class=\"dataframe\">\n",
       "  <thead>\n",
       "    <tr style=\"text-align: right;\">\n",
       "      <th></th>\n",
       "      <th>mosquito_Indicator</th>\n",
       "      <th>rain(mm)</th>\n",
       "      <th>mean_T(℃)</th>\n",
       "      <th>min_T(℃)</th>\n",
       "      <th>max_T(℃)</th>\n",
       "    </tr>\n",
       "  </thead>\n",
       "  <tbody>\n",
       "    <tr>\n",
       "      <th>mosquito_Indicator</th>\n",
       "      <td>1.000000</td>\n",
       "      <td>0.216325</td>\n",
       "      <td>0.730742</td>\n",
       "      <td>0.746279</td>\n",
       "      <td>0.700929</td>\n",
       "    </tr>\n",
       "    <tr>\n",
       "      <th>rain(mm)</th>\n",
       "      <td>0.216325</td>\n",
       "      <td>1.000000</td>\n",
       "      <td>0.147173</td>\n",
       "      <td>0.189054</td>\n",
       "      <td>0.100173</td>\n",
       "    </tr>\n",
       "    <tr>\n",
       "      <th>mean_T(℃)</th>\n",
       "      <td>0.730742</td>\n",
       "      <td>0.147173</td>\n",
       "      <td>1.000000</td>\n",
       "      <td>0.990174</td>\n",
       "      <td>0.989618</td>\n",
       "    </tr>\n",
       "    <tr>\n",
       "      <th>min_T(℃)</th>\n",
       "      <td>0.746279</td>\n",
       "      <td>0.189054</td>\n",
       "      <td>0.990174</td>\n",
       "      <td>1.000000</td>\n",
       "      <td>0.964941</td>\n",
       "    </tr>\n",
       "    <tr>\n",
       "      <th>max_T(℃)</th>\n",
       "      <td>0.700929</td>\n",
       "      <td>0.100173</td>\n",
       "      <td>0.989618</td>\n",
       "      <td>0.964941</td>\n",
       "      <td>1.000000</td>\n",
       "    </tr>\n",
       "  </tbody>\n",
       "</table>\n",
       "</div>"
      ],
      "text/plain": [
       "                    mosquito_Indicator  rain(mm)  mean_T(℃)  min_T(℃)  \\\n",
       "mosquito_Indicator            1.000000  0.216325   0.730742  0.746279   \n",
       "rain(mm)                      0.216325  1.000000   0.147173  0.189054   \n",
       "mean_T(℃)                     0.730742  0.147173   1.000000  0.990174   \n",
       "min_T(℃)                      0.746279  0.189054   0.990174  1.000000   \n",
       "max_T(℃)                      0.700929  0.100173   0.989618  0.964941   \n",
       "\n",
       "                    max_T(℃)  \n",
       "mosquito_Indicator  0.700929  \n",
       "rain(mm)            0.100173  \n",
       "mean_T(℃)           0.989618  \n",
       "min_T(℃)            0.964941  \n",
       "max_T(℃)            1.000000  "
      ]
     },
     "execution_count": 14,
     "metadata": {},
     "output_type": "execute_result"
    }
   ],
   "source": [
    "mos.corr()"
   ]
  },
  {
   "cell_type": "code",
   "execution_count": 15,
   "id": "6f331d06",
   "metadata": {},
   "outputs": [
    {
     "data": {
      "text/plain": [
       "<AxesSubplot:>"
      ]
     },
     "execution_count": 15,
     "metadata": {},
     "output_type": "execute_result"
    },
    {
     "data": {
      "image/png": "[encoded data removed]",
      "text/plain": [
       "<Figure size 1080x576 with 2 Axes>"
      ]
     },
     "metadata": {},
     "output_type": "display_data"
    }
   ],
   "source": [
    "plt.figure(figsize = (15,8))\n",
    "sns.heatmap(mos.corr(), annot=True)\n",
    "\n"
   ]
  },
  {
   "cell_type": "markdown",
   "id": "287e132b",
   "metadata": {},
   "source": [
    "## 데이터 전처리"
   ]
  },
  {
   "cell_type": "markdown",
   "id": "2d48ad80",
   "metadata": {},
   "source": [
    "### 중복된 데이터 제거"
   ]
  },
  {
   "cell_type": "code",
   "execution_count": 16,
   "id": "b7f2d27e",
   "metadata": {},
   "outputs": [
    {
     "data": {
      "text/plain": [
       "False"
      ]
     },
     "execution_count": 16,
     "metadata": {},
     "output_type": "execute_result"
    }
   ],
   "source": [
    "mos.date.is_unique"
   ]
  },
  {
   "cell_type": "code",
   "execution_count": 17,
   "id": "884b82eb",
   "metadata": {},
   "outputs": [
    {
     "name": "stdout",
     "output_type": "stream",
     "text": [
      "1342\n",
      "1295\n"
     ]
    }
   ],
   "source": [
    "print(mos.date.count())\n",
    "print(mos.date.nunique())"
   ]
  },
  {
   "cell_type": "markdown",
   "id": "277158ac",
   "metadata": {},
   "source": [
    "- https://min23th.tistory.com/45\n",
    "- https://wikidocs.net/154060"
   ]
  },
  {
   "cell_type": "code",
   "execution_count": 18,
   "id": "c146eb70",
   "metadata": {},
   "outputs": [],
   "source": [
    "mos.drop_duplicates(subset='date',ignore_index=True,inplace=True) ### 중복된거 지우는거임\n",
    "\n",
    "#ignore_index=True : 인데스도 같이 수정해줌\n"
   ]
  },
  {
   "cell_type": "code",
   "execution_count": 19,
   "id": "f6924ab9",
   "metadata": {},
   "outputs": [
    {
     "data": {
      "text/plain": [
       "True"
      ]
     },
     "execution_count": 19,
     "metadata": {},
     "output_type": "execute_result"
    }
   ],
   "source": [
    "mos.date.is_unique  ## True란것은 중복이 없다는 것임"
   ]
  },
  {
   "cell_type": "code",
   "execution_count": 20,
   "id": "8bd4f7ef",
   "metadata": {},
   "outputs": [
    {
     "name": "stdout",
     "output_type": "stream",
     "text": [
      "1295\n",
      "1295\n"
     ]
    }
   ],
   "source": [
    "print(mos.date.count())\n",
    "print(mos.date.nunique())"
   ]
  },
  {
   "cell_type": "code",
   "execution_count": 21,
   "id": "6bc9dd5f",
   "metadata": {},
   "outputs": [
    {
     "data": {
      "text/html": [
       "<div>\n",
       "<style scoped>\n",
       "    .dataframe tbody tr th:only-of-type {\n",
       "        vertical-align: middle;\n",
       "    }\n",
       "\n",
       "    .dataframe tbody tr th {\n",
       "        vertical-align: top;\n",
       "    }\n",
       "\n",
       "    .dataframe thead th {\n",
       "        text-align: right;\n",
       "    }\n",
       "</style>\n",
       "<table border=\"1\" class=\"dataframe\">\n",
       "  <thead>\n",
       "    <tr style=\"text-align: right;\">\n",
       "      <th></th>\n",
       "      <th>date</th>\n",
       "      <th>mosquito_Indicator</th>\n",
       "      <th>rain(mm)</th>\n",
       "      <th>mean_T(℃)</th>\n",
       "      <th>min_T(℃)</th>\n",
       "      <th>max_T(℃)</th>\n",
       "    </tr>\n",
       "  </thead>\n",
       "  <tbody>\n",
       "    <tr>\n",
       "      <th>0</th>\n",
       "      <td>2016-05-01</td>\n",
       "      <td>254.4</td>\n",
       "      <td>0.0</td>\n",
       "      <td>18.8</td>\n",
       "      <td>12.2</td>\n",
       "      <td>26.0</td>\n",
       "    </tr>\n",
       "    <tr>\n",
       "      <th>1</th>\n",
       "      <td>2016-05-02</td>\n",
       "      <td>273.5</td>\n",
       "      <td>16.5</td>\n",
       "      <td>21.1</td>\n",
       "      <td>16.5</td>\n",
       "      <td>28.4</td>\n",
       "    </tr>\n",
       "    <tr>\n",
       "      <th>2</th>\n",
       "      <td>2016-05-03</td>\n",
       "      <td>304.0</td>\n",
       "      <td>27.0</td>\n",
       "      <td>12.9</td>\n",
       "      <td>8.9</td>\n",
       "      <td>17.6</td>\n",
       "    </tr>\n",
       "    <tr>\n",
       "      <th>3</th>\n",
       "      <td>2016-05-04</td>\n",
       "      <td>256.2</td>\n",
       "      <td>0.0</td>\n",
       "      <td>15.7</td>\n",
       "      <td>10.2</td>\n",
       "      <td>20.6</td>\n",
       "    </tr>\n",
       "    <tr>\n",
       "      <th>4</th>\n",
       "      <td>2016-05-05</td>\n",
       "      <td>243.8</td>\n",
       "      <td>7.5</td>\n",
       "      <td>18.9</td>\n",
       "      <td>10.2</td>\n",
       "      <td>26.9</td>\n",
       "    </tr>\n",
       "    <tr>\n",
       "      <th>...</th>\n",
       "      <td>...</td>\n",
       "      <td>...</td>\n",
       "      <td>...</td>\n",
       "      <td>...</td>\n",
       "      <td>...</td>\n",
       "      <td>...</td>\n",
       "    </tr>\n",
       "    <tr>\n",
       "      <th>1290</th>\n",
       "      <td>2019-12-27</td>\n",
       "      <td>5.5</td>\n",
       "      <td>0.0</td>\n",
       "      <td>-1.7</td>\n",
       "      <td>-4.6</td>\n",
       "      <td>2.6</td>\n",
       "    </tr>\n",
       "    <tr>\n",
       "      <th>1291</th>\n",
       "      <td>2019-12-28</td>\n",
       "      <td>5.5</td>\n",
       "      <td>0.0</td>\n",
       "      <td>1.1</td>\n",
       "      <td>-3.6</td>\n",
       "      <td>6.1</td>\n",
       "    </tr>\n",
       "    <tr>\n",
       "      <th>1292</th>\n",
       "      <td>2019-12-29</td>\n",
       "      <td>5.5</td>\n",
       "      <td>1.4</td>\n",
       "      <td>3.8</td>\n",
       "      <td>1.1</td>\n",
       "      <td>6.2</td>\n",
       "    </tr>\n",
       "    <tr>\n",
       "      <th>1293</th>\n",
       "      <td>2019-12-30</td>\n",
       "      <td>5.5</td>\n",
       "      <td>0.4</td>\n",
       "      <td>2.7</td>\n",
       "      <td>-5.7</td>\n",
       "      <td>6.8</td>\n",
       "    </tr>\n",
       "    <tr>\n",
       "      <th>1294</th>\n",
       "      <td>2019-12-31</td>\n",
       "      <td>5.5</td>\n",
       "      <td>0.0</td>\n",
       "      <td>-7.9</td>\n",
       "      <td>-10.9</td>\n",
       "      <td>-4.5</td>\n",
       "    </tr>\n",
       "  </tbody>\n",
       "</table>\n",
       "<p>1295 rows × 6 columns</p>\n",
       "</div>"
      ],
      "text/plain": [
       "            date  mosquito_Indicator  rain(mm)  mean_T(℃)  min_T(℃)  max_T(℃)\n",
       "0     2016-05-01               254.4       0.0       18.8      12.2      26.0\n",
       "1     2016-05-02               273.5      16.5       21.1      16.5      28.4\n",
       "2     2016-05-03               304.0      27.0       12.9       8.9      17.6\n",
       "3     2016-05-04               256.2       0.0       15.7      10.2      20.6\n",
       "4     2016-05-05               243.8       7.5       18.9      10.2      26.9\n",
       "...          ...                 ...       ...        ...       ...       ...\n",
       "1290  2019-12-27                 5.5       0.0       -1.7      -4.6       2.6\n",
       "1291  2019-12-28                 5.5       0.0        1.1      -3.6       6.1\n",
       "1292  2019-12-29                 5.5       1.4        3.8       1.1       6.2\n",
       "1293  2019-12-30                 5.5       0.4        2.7      -5.7       6.8\n",
       "1294  2019-12-31                 5.5       0.0       -7.9     -10.9      -4.5\n",
       "\n",
       "[1295 rows x 6 columns]"
      ]
     },
     "execution_count": 21,
     "metadata": {},
     "output_type": "execute_result"
    }
   ],
   "source": [
    "mos"
   ]
  },
  {
   "cell_type": "markdown",
   "id": "97b57685",
   "metadata": {},
   "source": [
    "### 날짜로 데이터타입 변경"
   ]
  },
  {
   "cell_type": "code",
   "execution_count": 22,
   "id": "56e8a3b9",
   "metadata": {},
   "outputs": [],
   "source": [
    "mos['date'] = pd.to_datetime(mos['date'])"
   ]
  },
  {
   "cell_type": "code",
   "execution_count": 23,
   "id": "5b58a228",
   "metadata": {},
   "outputs": [
    {
     "name": "stdout",
     "output_type": "stream",
     "text": [
      "<class 'pandas.core.frame.DataFrame'>\n",
      "RangeIndex: 1295 entries, 0 to 1294\n",
      "Data columns (total 6 columns):\n",
      " #   Column              Non-Null Count  Dtype         \n",
      "---  ------              --------------  -----         \n",
      " 0   date                1295 non-null   datetime64[ns]\n",
      " 1   mosquito_Indicator  1295 non-null   float64       \n",
      " 2   rain(mm)            1295 non-null   float64       \n",
      " 3   mean_T(℃)           1295 non-null   float64       \n",
      " 4   min_T(℃)            1295 non-null   float64       \n",
      " 5   max_T(℃)            1295 non-null   float64       \n",
      "dtypes: datetime64[ns](1), float64(5)\n",
      "memory usage: 60.8 KB\n"
     ]
    }
   ],
   "source": [
    "mos.info()"
   ]
  },
  {
   "cell_type": "markdown",
   "id": "5cabec1c",
   "metadata": {},
   "source": [
    "### 스케일링"
   ]
  },
  {
   "cell_type": "code",
   "execution_count": 24,
   "id": "14e633eb",
   "metadata": {},
   "outputs": [],
   "source": [
    "data = mos.drop(['mosquito_Indicator', 'date'],axis = 1)\n",
    "target = mos['mosquito_Indicator']\n",
    "# !! rain(mm) 넣고 뺴고 해서 값 얼마나 다른지 확인"
   ]
  },
  {
   "cell_type": "code",
   "execution_count": 25,
   "id": "9725fcc6",
   "metadata": {},
   "outputs": [],
   "source": [
    "## rain 뺏을 떄\n",
    "#MAE: 152.595, MSE:  39182.144, RMSE:  197.945, R2:0.544\n",
    "# lr.score(X_train,y_train\n",
    "# 0.5611723963842761\n",
    "\n",
    "# lr.score(X_test, y_test)\n",
    "# 0.5442378010778453\n",
    "\n",
    "\n",
    "##넣었을 떄 \n",
    "# MAE: 152.494, MSE:  39084.151, RMSE:  197.697, R2:0.545\n",
    "                \n",
    "# 0.561818520440136\n",
    "# 0.5453776460188773    \n",
    "\n",
    "## 진짜 얼마 차이 안남.. 근데 다중공산성 검사를 해야한...?이아니라 나머지가 온도라서 당연히 높은거"
   ]
  },
  {
   "cell_type": "code",
   "execution_count": 26,
   "id": "6ec2a82b",
   "metadata": {},
   "outputs": [
    {
     "data": {
      "text/html": [
       "<div>\n",
       "<style scoped>\n",
       "    .dataframe tbody tr th:only-of-type {\n",
       "        vertical-align: middle;\n",
       "    }\n",
       "\n",
       "    .dataframe tbody tr th {\n",
       "        vertical-align: top;\n",
       "    }\n",
       "\n",
       "    .dataframe thead th {\n",
       "        text-align: right;\n",
       "    }\n",
       "</style>\n",
       "<table border=\"1\" class=\"dataframe\">\n",
       "  <thead>\n",
       "    <tr style=\"text-align: right;\">\n",
       "      <th></th>\n",
       "      <th>rain(mm)</th>\n",
       "      <th>mean_T(℃)</th>\n",
       "      <th>min_T(℃)</th>\n",
       "      <th>max_T(℃)</th>\n",
       "    </tr>\n",
       "  </thead>\n",
       "  <tbody>\n",
       "    <tr>\n",
       "      <th>0</th>\n",
       "      <td>0.0</td>\n",
       "      <td>18.8</td>\n",
       "      <td>12.2</td>\n",
       "      <td>26.0</td>\n",
       "    </tr>\n",
       "    <tr>\n",
       "      <th>1</th>\n",
       "      <td>16.5</td>\n",
       "      <td>21.1</td>\n",
       "      <td>16.5</td>\n",
       "      <td>28.4</td>\n",
       "    </tr>\n",
       "    <tr>\n",
       "      <th>2</th>\n",
       "      <td>27.0</td>\n",
       "      <td>12.9</td>\n",
       "      <td>8.9</td>\n",
       "      <td>17.6</td>\n",
       "    </tr>\n",
       "    <tr>\n",
       "      <th>3</th>\n",
       "      <td>0.0</td>\n",
       "      <td>15.7</td>\n",
       "      <td>10.2</td>\n",
       "      <td>20.6</td>\n",
       "    </tr>\n",
       "    <tr>\n",
       "      <th>4</th>\n",
       "      <td>7.5</td>\n",
       "      <td>18.9</td>\n",
       "      <td>10.2</td>\n",
       "      <td>26.9</td>\n",
       "    </tr>\n",
       "    <tr>\n",
       "      <th>...</th>\n",
       "      <td>...</td>\n",
       "      <td>...</td>\n",
       "      <td>...</td>\n",
       "      <td>...</td>\n",
       "    </tr>\n",
       "    <tr>\n",
       "      <th>1290</th>\n",
       "      <td>0.0</td>\n",
       "      <td>-1.7</td>\n",
       "      <td>-4.6</td>\n",
       "      <td>2.6</td>\n",
       "    </tr>\n",
       "    <tr>\n",
       "      <th>1291</th>\n",
       "      <td>0.0</td>\n",
       "      <td>1.1</td>\n",
       "      <td>-3.6</td>\n",
       "      <td>6.1</td>\n",
       "    </tr>\n",
       "    <tr>\n",
       "      <th>1292</th>\n",
       "      <td>1.4</td>\n",
       "      <td>3.8</td>\n",
       "      <td>1.1</td>\n",
       "      <td>6.2</td>\n",
       "    </tr>\n",
       "    <tr>\n",
       "      <th>1293</th>\n",
       "      <td>0.4</td>\n",
       "      <td>2.7</td>\n",
       "      <td>-5.7</td>\n",
       "      <td>6.8</td>\n",
       "    </tr>\n",
       "    <tr>\n",
       "      <th>1294</th>\n",
       "      <td>0.0</td>\n",
       "      <td>-7.9</td>\n",
       "      <td>-10.9</td>\n",
       "      <td>-4.5</td>\n",
       "    </tr>\n",
       "  </tbody>\n",
       "</table>\n",
       "<p>1295 rows × 4 columns</p>\n",
       "</div>"
      ],
      "text/plain": [
       "      rain(mm)  mean_T(℃)  min_T(℃)  max_T(℃)\n",
       "0          0.0       18.8      12.2      26.0\n",
       "1         16.5       21.1      16.5      28.4\n",
       "2         27.0       12.9       8.9      17.6\n",
       "3          0.0       15.7      10.2      20.6\n",
       "4          7.5       18.9      10.2      26.9\n",
       "...        ...        ...       ...       ...\n",
       "1290       0.0       -1.7      -4.6       2.6\n",
       "1291       0.0        1.1      -3.6       6.1\n",
       "1292       1.4        3.8       1.1       6.2\n",
       "1293       0.4        2.7      -5.7       6.8\n",
       "1294       0.0       -7.9     -10.9      -4.5\n",
       "\n",
       "[1295 rows x 4 columns]"
      ]
     },
     "execution_count": 26,
     "metadata": {},
     "output_type": "execute_result"
    }
   ],
   "source": [
    "data"
   ]
  },
  {
   "cell_type": "code",
   "execution_count": 27,
   "id": "5e009c1f",
   "metadata": {},
   "outputs": [
    {
     "data": {
      "text/plain": [
       "0       254.4\n",
       "1       273.5\n",
       "2       304.0\n",
       "3       256.2\n",
       "4       243.8\n",
       "        ...  \n",
       "1290      5.5\n",
       "1291      5.5\n",
       "1292      5.5\n",
       "1293      5.5\n",
       "1294      5.5\n",
       "Name: mosquito_Indicator, Length: 1295, dtype: float64"
      ]
     },
     "execution_count": 27,
     "metadata": {},
     "output_type": "execute_result"
    }
   ],
   "source": [
    "target"
   ]
  },
  {
   "cell_type": "code",
   "execution_count": 28,
   "id": "37512bab",
   "metadata": {},
   "outputs": [],
   "source": [
    "from sklearn.preprocessing import MinMaxScaler\n",
    "sc = MinMaxScaler()\n",
    "scaled = sc.fit_transform(data)"
   ]
  },
  {
   "cell_type": "code",
   "execution_count": 29,
   "id": "d86a7dcc",
   "metadata": {},
   "outputs": [
    {
     "data": {
      "text/plain": [
       "(1295, 4)"
      ]
     },
     "execution_count": 29,
     "metadata": {},
     "output_type": "execute_result"
    }
   ],
   "source": [
    "scaled.shape"
   ]
  },
  {
   "cell_type": "code",
   "execution_count": 30,
   "id": "ed8b08ee",
   "metadata": {},
   "outputs": [],
   "source": [
    "# # '월' 만 분리 !! 나중에 다시 확인\n",
    "# mos['date_m'] = mos['date'].dt.strftime('%m')\n",
    "# mos.head()"
   ]
  },
  {
   "cell_type": "markdown",
   "id": "a042d3fe",
   "metadata": {},
   "source": [
    "### train, test 나누기"
   ]
  },
  {
   "cell_type": "code",
   "execution_count": 31,
   "id": "44cf96e7",
   "metadata": {},
   "outputs": [],
   "source": [
    "from sklearn.model_selection import train_test_split\n",
    "X_train, X_test, y_train, y_test = train_test_split(scaled, target, test_size = 0.2, random_state = 1121)"
   ]
  },
  {
   "cell_type": "markdown",
   "id": "082a8201",
   "metadata": {},
   "source": [
    "# 회귀분석"
   ]
  },
  {
   "cell_type": "markdown",
   "id": "be7d0331",
   "metadata": {},
   "source": [
    "## LinearRegression 알고리즘"
   ]
  },
  {
   "cell_type": "code",
   "execution_count": 32,
   "id": "7603f334",
   "metadata": {},
   "outputs": [],
   "source": [
    "# train\n",
    "from sklearn.linear_model import LinearRegression\n",
    "lr = LinearRegression()\n",
    "lr.fit(X_train, y_train)\n",
    "pred = lr.predict(X_test)     "
   ]
  },
  {
   "cell_type": "code",
   "execution_count": 33,
   "id": "3305ec19",
   "metadata": {},
   "outputs": [
    {
     "name": "stdout",
     "output_type": "stream",
     "text": [
      "MAE: 152.494, MSE:  39084.151, RMSE:  197.697, R2:0.545\n"
     ]
    }
   ],
   "source": [
    "from sklearn.metrics import mean_absolute_error, mean_squared_error, r2_score\n",
    "\n",
    "mae = mean_absolute_error(y_test, pred) # : 에러\n",
    "# 값이 작을수록 (오차가 작을수록) 좋음\n",
    "mse = mean_squared_error(y_test, pred) # : 에러\n",
    "# 값이 작을수록 (오차가 작을수록) 좋음\n",
    "# 오차의 값을 제곱한 값 => 값이 보통 크게 나옴\n",
    "rmse = np.sqrt(mse) # 에러\n",
    "# 값이 작을수록 (오차가 작을수록) 좋음 \n",
    "r2 = r2_score(y_test, pred) # :설명력\n",
    "# 1에 가가울수로 좋음\n",
    "\n",
    "print('MAE: {0:.3f}, MSE: {1: .3f}, RMSE: {2: .3f}, R2:{3:.3f}'.format(mae, mse, rmse, r2))"
   ]
  },
  {
   "cell_type": "code",
   "execution_count": 34,
   "id": "1401d32b",
   "metadata": {},
   "outputs": [
    {
     "name": "stdout",
     "output_type": "stream",
     "text": [
      "0.561818520440136\n",
      "0.5453776460188773\n"
     ]
    }
   ],
   "source": [
    "# r2랑 거의 같은 값 나옴\n",
    "print(lr.score(X_train,y_train))\n",
    "print(lr.score(X_test, y_test))"
   ]
  },
  {
   "cell_type": "code",
   "execution_count": 35,
   "id": "35b85769",
   "metadata": {},
   "outputs": [],
   "source": [
    "# 릿지 alpha : -1\n",
    "# 0.5617292087395449\n",
    "# 0.5456175742772317"
   ]
  },
  {
   "cell_type": "markdown",
   "id": "413b4875",
   "metadata": {},
   "source": [
    "## 다항회귀"
   ]
  },
  {
   "cell_type": "markdown",
   "id": "afb378fe",
   "metadata": {},
   "source": [
    "### 사이킷런 변환기_3차"
   ]
  },
  {
   "cell_type": "code",
   "execution_count": 36,
   "id": "c9f0585d",
   "metadata": {},
   "outputs": [
    {
     "data": {
      "text/plain": [
       "['x0',\n",
       " 'x1',\n",
       " 'x2',\n",
       " 'x3',\n",
       " 'x0^2',\n",
       " 'x0 x1',\n",
       " 'x0 x2',\n",
       " 'x0 x3',\n",
       " 'x1^2',\n",
       " 'x1 x2',\n",
       " 'x1 x3',\n",
       " 'x2^2',\n",
       " 'x2 x3',\n",
       " 'x3^2',\n",
       " 'x0^3',\n",
       " 'x0^2 x1',\n",
       " 'x0^2 x2',\n",
       " 'x0^2 x3',\n",
       " 'x0 x1^2',\n",
       " 'x0 x1 x2',\n",
       " 'x0 x1 x3',\n",
       " 'x0 x2^2',\n",
       " 'x0 x2 x3',\n",
       " 'x0 x3^2',\n",
       " 'x1^3',\n",
       " 'x1^2 x2',\n",
       " 'x1^2 x3',\n",
       " 'x1 x2^2',\n",
       " 'x1 x2 x3',\n",
       " 'x1 x3^2',\n",
       " 'x2^3',\n",
       " 'x2^2 x3',\n",
       " 'x2 x3^2',\n",
       " 'x3^3']"
      ]
     },
     "execution_count": 36,
     "metadata": {},
     "output_type": "execute_result"
    }
   ],
   "source": [
    "from sklearn.preprocessing import PolynomialFeatures\n",
    "poly = PolynomialFeatures(degree=3 , include_bias = False) # 절편 개수(1을 제거)\n",
    "\n",
    "#poly.fit(X_train)\n",
    "train_poly = poly.fit_transform(X_train)\n",
    "test_poly = poly.transform(X_test)\n",
    "\n",
    "poly.get_feature_names()"
   ]
  },
  {
   "cell_type": "code",
   "execution_count": 37,
   "id": "5dff5eb2",
   "metadata": {},
   "outputs": [
    {
     "name": "stdout",
     "output_type": "stream",
     "text": [
      "0.6412912318596309\n",
      "-2.158969368778374\n"
     ]
    }
   ],
   "source": [
    "lr.fit(train_poly,y_train)\n",
    "pred = lr.predict(test_poly)\n",
    "print(lr.score(train_poly, y_train))\n",
    "print(lr.score(test_poly, y_test))"
   ]
  },
  {
   "cell_type": "code",
   "execution_count": 38,
   "id": "674a9fd4",
   "metadata": {},
   "outputs": [
    {
     "name": "stdout",
     "output_type": "stream",
     "text": [
      "(1036, 4)\n",
      "(1036, 1)\n"
     ]
    }
   ],
   "source": [
    "print(X_train.shape)\n",
    "y_train = np.array(y_train).reshape(-1,1) # 2차원으로 차원 변경\n",
    "print(y_train.shape)"
   ]
  },
  {
   "cell_type": "markdown",
   "id": "951a38de",
   "metadata": {},
   "source": [
    "### 사이킷런 변환기_2차\n",
    "- train과 test의 점수차를 줄일 수 있을 수도 있어 사이킷런 변환기 사용\n"
   ]
  },
  {
   "cell_type": "code",
   "execution_count": 39,
   "id": "61b65117",
   "metadata": {},
   "outputs": [
    {
     "data": {
      "text/plain": [
       "['x0',\n",
       " 'x1',\n",
       " 'x2',\n",
       " 'x3',\n",
       " 'x0^2',\n",
       " 'x0 x1',\n",
       " 'x0 x2',\n",
       " 'x0 x3',\n",
       " 'x1^2',\n",
       " 'x1 x2',\n",
       " 'x1 x3',\n",
       " 'x2^2',\n",
       " 'x2 x3',\n",
       " 'x3^2']"
      ]
     },
     "execution_count": 39,
     "metadata": {},
     "output_type": "execute_result"
    }
   ],
   "source": [
    "from sklearn.preprocessing import PolynomialFeatures\n",
    "\n",
    "poly = PolynomialFeatures(degree= 2, include_bias = False) # 절편 개수(1을 제거)\n",
    "\n",
    "#poly.fit(X_train)\n",
    "train_poly = poly.fit_transform(X_train)\n",
    "test_poly = poly.transform(X_test)\n",
    "\n",
    "poly.get_feature_names()"
   ]
  },
  {
   "cell_type": "markdown",
   "id": "29059b07",
   "metadata": {},
   "source": [
    "### 다중회귀_2차"
   ]
  },
  {
   "cell_type": "code",
   "execution_count": 40,
   "id": "b2a38baf",
   "metadata": {},
   "outputs": [
    {
     "name": "stdout",
     "output_type": "stream",
     "text": [
      "0.6013579279220858\n",
      "0.4889815298922211\n"
     ]
    }
   ],
   "source": [
    "lr.fit(train_poly,y_train)\n",
    "pred = lr.predict(test_poly)\n",
    "print(lr.score(train_poly, y_train))\n",
    "print(lr.score(test_poly, y_test))"
   ]
  },
  {
   "cell_type": "markdown",
   "id": "d61a7f0b",
   "metadata": {},
   "source": [
    "### 릿지 규제\n",
    "- 릿지 회귀(Ridge Regression) 모델 : 계수를 제곱한 값을 기준으로 규제 적용"
   ]
  },
  {
   "cell_type": "code",
   "execution_count": 41,
   "id": "7bb47546",
   "metadata": {},
   "outputs": [],
   "source": [
    "from sklearn.linear_model import Ridge, Lasso\n",
    "# 훈련세트와 테스트세트의 정수가 가장 가까운 지점이 최적의 alpha 값이 된다\n",
    "train_score = []\n",
    "test_score = []\n",
    "\n",
    "alpha_list = [0.001, 0.01, 0.1, 1, 10, 100]\n",
    "for alpha in alpha_list:\n",
    "    #릿지모델\n",
    "    ridge = Ridge(alpha = alpha)\n",
    "    #릿지모델 훈련\n",
    "    ridge.fit(X_train, y_train)\n",
    "    train_score.append(ridge.score(X_train, y_train))\n",
    "    test_score.append(ridge.score(X_test,y_test))"
   ]
  },
  {
   "cell_type": "code",
   "execution_count": 42,
   "id": "469eca37",
   "metadata": {},
   "outputs": [
    {
     "data": {
      "image/png": "[encoded data removed]",
      "text/plain": [
       "<Figure size 720x720 with 1 Axes>"
      ]
     },
     "metadata": {},
     "output_type": "display_data"
    }
   ],
   "source": [
    "# 시각화\n",
    "plt.figure(figsize=(10,10))\n",
    "plt.plot(np.log10(alpha_list), train_score) # 로그로 안 보면 크기가 너무 크다.\n",
    "plt.plot(np.log10(alpha_list), test_score)\n",
    "plt.xlabel('alpha')\n",
    "plt.ylabel('score')\n",
    "plt.show()"
   ]
  },
  {
   "cell_type": "markdown",
   "id": "b55ca64c",
   "metadata": {},
   "source": [
    "- 확률일 높은 것 중에 폭이 좁은게 -1(0.1)과 0(1)/ 점수는 낮지만 폭이 좁은건 1(10)"
   ]
  },
  {
   "cell_type": "code",
   "execution_count": 43,
   "id": "77da1d16",
   "metadata": {},
   "outputs": [
    {
     "name": "stdout",
     "output_type": "stream",
     "text": [
      "0.5417508701720717\n",
      "0.5336737589918069\n"
     ]
    }
   ],
   "source": [
    "# alpha가 10(1)\n",
    "ridge = Ridge(alpha = 10)\n",
    "ridge.fit(X_train,y_train)\n",
    "print(ridge.score(X_train,y_train))\n",
    "print(ridge.score(X_test,y_test))"
   ]
  },
  {
   "cell_type": "code",
   "execution_count": 44,
   "id": "298c7efa",
   "metadata": {},
   "outputs": [
    {
     "name": "stdout",
     "output_type": "stream",
     "text": [
      "0.5584720652391784\n",
      "0.5453594913007357\n"
     ]
    }
   ],
   "source": [
    "# alpha가 1\n",
    "ridge = Ridge(alpha = 1)\n",
    "ridge.fit(X_train,y_train)\n",
    "print(ridge.score(X_train,y_train))\n",
    "print(ridge.score(X_test,y_test))"
   ]
  },
  {
   "cell_type": "code",
   "execution_count": 45,
   "id": "344f0fc0",
   "metadata": {},
   "outputs": [
    {
     "name": "stdout",
     "output_type": "stream",
     "text": [
      "0.5617292087395449\n",
      "0.5456175742772317\n"
     ]
    }
   ],
   "source": [
    "# alpha가 -1\n",
    "ridge = Ridge(alpha = 0.1)\n",
    "ridge.fit(X_train,y_train)\n",
    "print(ridge.score(X_train,y_train))\n",
    "print(ridge.score(X_test,y_test))"
   ]
  },
  {
   "cell_type": "markdown",
   "id": "f0b4ca41",
   "metadata": {},
   "source": [
    "- score가 높은 것 중에 폭이 좁은게 -1(0.1)과 0(1)\n",
    "- 점수는 낮지만 폭이 좁은건 1(10)\n",
    "- 편차가 있지만 조금이라 확률이 높은걸 선택"
   ]
  },
  {
   "cell_type": "markdown",
   "id": "ec57b0e9",
   "metadata": {},
   "source": [
    "### 라쏘규제"
   ]
  },
  {
   "cell_type": "code",
   "execution_count": 46,
   "id": "ef46acd8",
   "metadata": {},
   "outputs": [
    {
     "name": "stdout",
     "output_type": "stream",
     "text": [
      "0.555959291121928\n",
      "0.5419116036324951\n"
     ]
    }
   ],
   "source": [
    "lasso = Lasso()\n",
    "\n",
    "lasso.fit(X_train, y_train)\n",
    "print(lasso.score(X_train,y_train))\n",
    "print(lasso.score(X_test,y_test))"
   ]
  },
  {
   "cell_type": "code",
   "execution_count": 47,
   "id": "f57b4e63",
   "metadata": {},
   "outputs": [],
   "source": [
    "train_score = []\n",
    "test_score = []\n",
    "\n",
    "alpha_list = [0.001, 0.01, 0.1, 1, 10, 100]\n",
    "for alpha in alpha_list:\n",
    "    #라쏘모델\n",
    "    lasso = Lasso(alpha = alpha)\n",
    "    #릿지모델 훈련\n",
    "    lasso.fit(X_train, y_train)\n",
    "    #결정계수(R2 score)\n",
    "    train_score.append(lasso.score(X_train,y_train))\n",
    "    test_score.append(lasso.score(X_test,y_test))"
   ]
  },
  {
   "cell_type": "code",
   "execution_count": 48,
   "id": "9d075364",
   "metadata": {},
   "outputs": [
    {
     "data": {
      "image/png": "[encoded data removed]",
      "text/plain": [
       "<Figure size 720x720 with 1 Axes>"
      ]
     },
     "metadata": {},
     "output_type": "display_data"
    }
   ],
   "source": [
    "# 시각화\n",
    "plt.figure(figsize=(10,10))\n",
    "plt.plot(np.log10(alpha_list), train_score) # 로그로 안 보면 크기가 너무 크다.\n",
    "plt.plot(np.log10(alpha_list), test_score)\n",
    "plt.xlabel('alpha')\n",
    "plt.ylabel('score')\n",
    "plt.show()"
   ]
  },
  {
   "cell_type": "markdown",
   "id": "b41c8469",
   "metadata": {},
   "source": [
    "- 시각화로 봤을 때 -1(0.1), 0(1), 1(10) 넣어보기"
   ]
  },
  {
   "cell_type": "code",
   "execution_count": 49,
   "id": "8eda7781",
   "metadata": {},
   "outputs": [
    {
     "name": "stdout",
     "output_type": "stream",
     "text": [
      "0.5332946185403951\n",
      "0.5242197770735639\n"
     ]
    }
   ],
   "source": [
    "# 알파값 10\n",
    "lasso = Lasso(alpha = 10)\n",
    "lasso.fit(X_train,y_train)\n",
    "print(lasso.score(X_train,y_train))\n",
    "print(lasso.score(X_test,y_test))"
   ]
  },
  {
   "cell_type": "code",
   "execution_count": 50,
   "id": "adcd0609",
   "metadata": {},
   "outputs": [
    {
     "name": "stdout",
     "output_type": "stream",
     "text": [
      "0.555959291121928\n",
      "0.5419116036324951\n"
     ]
    }
   ],
   "source": [
    "# 알파값 1\n",
    "lasso = Lasso(alpha = 1)\n",
    "lasso.fit(X_train,y_train)\n",
    "print(lasso.score(X_train,y_train))\n",
    "print(lasso.score(X_test,y_test))"
   ]
  },
  {
   "cell_type": "code",
   "execution_count": 51,
   "id": "a1fe7d9e",
   "metadata": {},
   "outputs": [
    {
     "name": "stdout",
     "output_type": "stream",
     "text": [
      "0.5614372438900941\n",
      "0.5437997463207276\n"
     ]
    }
   ],
   "source": [
    "# 알파값 0.1\n",
    "lasso = Lasso(alpha = 0.1)\n",
    "lasso.fit(X_train,y_train)\n",
    "print(lasso.score(X_train,y_train))\n",
    "print(lasso.score(X_test,y_test))"
   ]
  },
  {
   "cell_type": "markdown",
   "id": "2fb8f351",
   "metadata": {},
   "source": [
    "- 릿지가 미세하게 좋은 결과값이 나옴<br> !! 이거 다시얘기해보기\n",
    "\n",
    "릿지 alpha : -1 <br>\n",
    "0.5617292087395449<br>\n",
    "0.5456175742772317<br>\n",
    "<br>\n",
    "라쏘 alpha : 0.1<br>\n",
    "0.5614372438900941<br>\n",
    "0.5437997463207276<br>"
   ]
  },
  {
   "cell_type": "markdown",
   "id": "a660e64d",
   "metadata": {},
   "source": [
    "# 시계열 분석"
   ]
  },
  {
   "cell_type": "markdown",
   "id": "ff9f07f2",
   "metadata": {},
   "source": [
    "## 전처리 및 시각화"
   ]
  },
  {
   "cell_type": "markdown",
   "id": "e782312e",
   "metadata": {},
   "source": [
    "### 모듈 불러오기"
   ]
  },
  {
   "cell_type": "code",
   "execution_count": 52,
   "id": "643e2230",
   "metadata": {},
   "outputs": [],
   "source": [
    "import warnings\n",
    "\n",
    "import numpy as np\n",
    "import pandas as pd\n",
    "\n",
    "# hide warnings\n",
    "warnings.filterwarnings(\"ignore\")\n"
   ]
  },
  {
   "cell_type": "code",
   "execution_count": 53,
   "id": "cc08424a",
   "metadata": {},
   "outputs": [],
   "source": [
    "# 넘파이 버전 낮추기\n",
    "# !pip install numpy==1.20.3\n",
    "\n",
    "# 터미널 끄고 다시 시작\n",
    "# 한번에 안되면 두번 해보기\n"
   ]
  },
  {
   "cell_type": "code",
   "execution_count": 54,
   "id": "2a7e2fa9",
   "metadata": {},
   "outputs": [
    {
     "name": "stdout",
     "output_type": "stream",
     "text": [
      "1.20.3\n"
     ]
    }
   ],
   "source": [
    "print(np.__version__)"
   ]
  },
  {
   "cell_type": "code",
   "execution_count": 55,
   "id": "8e9bb947",
   "metadata": {},
   "outputs": [],
   "source": [
    "#_centered 이게 미리 설치 되어 있어서 충돌이 일어나 모듈 import가 안되서 함수로 따로 만듬\n",
    "import  scipy.signal.signaltools\n",
    "\n",
    "def _centered(arr, newsize):\n",
    "    # Return the center newsize portion of the array.\n",
    "    newsize = np.asarray(newsize)\n",
    "    currsize = np.array(arr.shape)\n",
    "    startind = (currsize - newsize) // 2\n",
    "    endind = startind + newsize\n",
    "    myslice = [slice(startind[k], endind[k]) for k in range(len(endind))]\n",
    "    return arr[tuple(myslice)]\n",
    "\n",
    "scipy.signal.signaltools._centered = _centered"
   ]
  },
  {
   "cell_type": "code",
   "execution_count": 56,
   "id": "5f16ea1b",
   "metadata": {},
   "outputs": [
    {
     "data": {
      "text/html": [
       "<div>\n",
       "<style scoped>\n",
       "    .dataframe tbody tr th:only-of-type {\n",
       "        vertical-align: middle;\n",
       "    }\n",
       "\n",
       "    .dataframe tbody tr th {\n",
       "        vertical-align: top;\n",
       "    }\n",
       "\n",
       "    .dataframe thead th {\n",
       "        text-align: right;\n",
       "    }\n",
       "</style>\n",
       "<table border=\"1\" class=\"dataframe\">\n",
       "  <thead>\n",
       "    <tr style=\"text-align: right;\">\n",
       "      <th></th>\n",
       "      <th>rain(mm)</th>\n",
       "      <th>mean_T(℃)</th>\n",
       "      <th>min_T(℃)</th>\n",
       "      <th>max_T(℃)</th>\n",
       "      <th>date</th>\n",
       "      <th>Indi</th>\n",
       "    </tr>\n",
       "  </thead>\n",
       "  <tbody>\n",
       "    <tr>\n",
       "      <th>0</th>\n",
       "      <td>0.000000</td>\n",
       "      <td>0.692784</td>\n",
       "      <td>0.623701</td>\n",
       "      <td>0.729622</td>\n",
       "      <td>2016-05-01</td>\n",
       "      <td>254.4</td>\n",
       "    </tr>\n",
       "    <tr>\n",
       "      <th>1</th>\n",
       "      <td>0.114187</td>\n",
       "      <td>0.740206</td>\n",
       "      <td>0.713098</td>\n",
       "      <td>0.777336</td>\n",
       "      <td>2016-05-02</td>\n",
       "      <td>273.5</td>\n",
       "    </tr>\n",
       "    <tr>\n",
       "      <th>2</th>\n",
       "      <td>0.186851</td>\n",
       "      <td>0.571134</td>\n",
       "      <td>0.555094</td>\n",
       "      <td>0.562624</td>\n",
       "      <td>2016-05-03</td>\n",
       "      <td>304.0</td>\n",
       "    </tr>\n",
       "    <tr>\n",
       "      <th>3</th>\n",
       "      <td>0.000000</td>\n",
       "      <td>0.628866</td>\n",
       "      <td>0.582121</td>\n",
       "      <td>0.622266</td>\n",
       "      <td>2016-05-04</td>\n",
       "      <td>256.2</td>\n",
       "    </tr>\n",
       "    <tr>\n",
       "      <th>4</th>\n",
       "      <td>0.051903</td>\n",
       "      <td>0.694845</td>\n",
       "      <td>0.582121</td>\n",
       "      <td>0.747515</td>\n",
       "      <td>2016-05-05</td>\n",
       "      <td>243.8</td>\n",
       "    </tr>\n",
       "    <tr>\n",
       "      <th>...</th>\n",
       "      <td>...</td>\n",
       "      <td>...</td>\n",
       "      <td>...</td>\n",
       "      <td>...</td>\n",
       "      <td>...</td>\n",
       "      <td>...</td>\n",
       "    </tr>\n",
       "    <tr>\n",
       "      <th>1290</th>\n",
       "      <td>0.000000</td>\n",
       "      <td>0.270103</td>\n",
       "      <td>0.274428</td>\n",
       "      <td>0.264414</td>\n",
       "      <td>2019-12-27</td>\n",
       "      <td>5.5</td>\n",
       "    </tr>\n",
       "    <tr>\n",
       "      <th>1291</th>\n",
       "      <td>0.000000</td>\n",
       "      <td>0.327835</td>\n",
       "      <td>0.295218</td>\n",
       "      <td>0.333996</td>\n",
       "      <td>2019-12-28</td>\n",
       "      <td>5.5</td>\n",
       "    </tr>\n",
       "    <tr>\n",
       "      <th>1292</th>\n",
       "      <td>0.009689</td>\n",
       "      <td>0.383505</td>\n",
       "      <td>0.392931</td>\n",
       "      <td>0.335984</td>\n",
       "      <td>2019-12-29</td>\n",
       "      <td>5.5</td>\n",
       "    </tr>\n",
       "    <tr>\n",
       "      <th>1293</th>\n",
       "      <td>0.002768</td>\n",
       "      <td>0.360825</td>\n",
       "      <td>0.251559</td>\n",
       "      <td>0.347913</td>\n",
       "      <td>2019-12-30</td>\n",
       "      <td>5.5</td>\n",
       "    </tr>\n",
       "    <tr>\n",
       "      <th>1294</th>\n",
       "      <td>0.000000</td>\n",
       "      <td>0.142268</td>\n",
       "      <td>0.143451</td>\n",
       "      <td>0.123260</td>\n",
       "      <td>2019-12-31</td>\n",
       "      <td>5.5</td>\n",
       "    </tr>\n",
       "  </tbody>\n",
       "</table>\n",
       "<p>1295 rows × 6 columns</p>\n",
       "</div>"
      ],
      "text/plain": [
       "      rain(mm)  mean_T(℃)  min_T(℃)  max_T(℃)       date   Indi\n",
       "0     0.000000   0.692784  0.623701  0.729622 2016-05-01  254.4\n",
       "1     0.114187   0.740206  0.713098  0.777336 2016-05-02  273.5\n",
       "2     0.186851   0.571134  0.555094  0.562624 2016-05-03  304.0\n",
       "3     0.000000   0.628866  0.582121  0.622266 2016-05-04  256.2\n",
       "4     0.051903   0.694845  0.582121  0.747515 2016-05-05  243.8\n",
       "...        ...        ...       ...       ...        ...    ...\n",
       "1290  0.000000   0.270103  0.274428  0.264414 2019-12-27    5.5\n",
       "1291  0.000000   0.327835  0.295218  0.333996 2019-12-28    5.5\n",
       "1292  0.009689   0.383505  0.392931  0.335984 2019-12-29    5.5\n",
       "1293  0.002768   0.360825  0.251559  0.347913 2019-12-30    5.5\n",
       "1294  0.000000   0.142268  0.143451  0.123260 2019-12-31    5.5\n",
       "\n",
       "[1295 rows x 6 columns]"
      ]
     },
     "execution_count": 56,
     "metadata": {},
     "output_type": "execute_result"
    }
   ],
   "source": [
    "# 스케일링 후 date, Indi 를 합친 df\n",
    "## 전처리 완료된 데이터를 가지고 시계열 df 만들기\n",
    "mos_scaled = pd.DataFrame(scaled, columns=data.columns)\n",
    "mos_scaled['date'] = mos.date\n",
    "mos_scaled['Indi'] = target\n",
    "mos_scaled"
   ]
  },
  {
   "cell_type": "code",
   "execution_count": 57,
   "id": "a56dbd3f",
   "metadata": {
    "scrolled": true
   },
   "outputs": [
    {
     "data": {
      "text/plain": [
       "0      2016-05-01\n",
       "1      2016-05-02\n",
       "2      2016-05-03\n",
       "3      2016-05-04\n",
       "4      2016-05-05\n",
       "          ...    \n",
       "1290   2019-12-27\n",
       "1291   2019-12-28\n",
       "1292   2019-12-29\n",
       "1293   2019-12-30\n",
       "1294   2019-12-31\n",
       "Name: date, Length: 1295, dtype: datetime64[ns]"
      ]
     },
     "execution_count": 57,
     "metadata": {},
     "output_type": "execute_result"
    }
   ],
   "source": [
    "mos_scaled.date"
   ]
  },
  {
   "cell_type": "code",
   "execution_count": 58,
   "id": "64a022fe",
   "metadata": {},
   "outputs": [
    {
     "data": {
      "text/plain": [
       "1295"
      ]
     },
     "execution_count": 58,
     "metadata": {},
     "output_type": "execute_result"
    }
   ],
   "source": [
    "len(mos_scaled.date)"
   ]
  },
  {
   "cell_type": "code",
   "execution_count": 59,
   "id": "432dfb4c",
   "metadata": {},
   "outputs": [],
   "source": [
    "# 일별 \n",
    "mos_p = mos_scaled[['date', 'Indi']]\n",
    "mos_p = mos_p.set_index('date')\n",
    "## 시리즈가 아니라서 예측이 제대로 안된거가 해서 바꿔봤음(승객은 시리즈라서)\n",
    "## 근데 바꿔도 예측값이 5.5 밖에 안나옴 !! 데이터 프레임이나 시리즈나 상관 없음 , 나중에 삭제하기\n",
    "#mos_p = mos_p.Indi"
   ]
  },
  {
   "cell_type": "code",
   "execution_count": 60,
   "id": "832808bc",
   "metadata": {},
   "outputs": [],
   "source": [
    "# mos_pp = mos_scaled[['date', 'Indi']]\n",
    "# mos_pp = mos_pp.set_index('date')"
   ]
  },
  {
   "cell_type": "code",
   "execution_count": 61,
   "id": "8fa6ba16",
   "metadata": {},
   "outputs": [
    {
     "data": {
      "text/plain": [
       "pandas.core.frame.DataFrame"
      ]
     },
     "execution_count": 61,
     "metadata": {},
     "output_type": "execute_result"
    }
   ],
   "source": [
    "\n",
    "type(mos_p)"
   ]
  },
  {
   "cell_type": "code",
   "execution_count": 62,
   "id": "557e765a",
   "metadata": {},
   "outputs": [
    {
     "data": {
      "text/plain": [
       "DatetimeIndex(['2016-05-01', '2016-05-02', '2016-05-03', '2016-05-04',\n",
       "               '2016-05-05', '2016-05-06', '2016-05-07', '2016-05-08',\n",
       "               '2016-05-09', '2016-05-10',\n",
       "               ...\n",
       "               '2019-12-22', '2019-12-23', '2019-12-24', '2019-12-25',\n",
       "               '2019-12-26', '2019-12-27', '2019-12-28', '2019-12-29',\n",
       "               '2019-12-30', '2019-12-31'],\n",
       "              dtype='datetime64[ns]', name='date', length=1295, freq=None)"
      ]
     },
     "execution_count": 62,
     "metadata": {},
     "output_type": "execute_result"
    }
   ],
   "source": [
    "mos_p.index"
   ]
  },
  {
   "cell_type": "markdown",
   "id": "5e6f3759",
   "metadata": {},
   "source": [
    "## 일"
   ]
  },
  {
   "cell_type": "markdown",
   "id": "9757c0c2",
   "metadata": {},
   "source": [
    "### 예측"
   ]
  },
  {
   "cell_type": "code",
   "execution_count": 63,
   "id": "3d148628",
   "metadata": {},
   "outputs": [],
   "source": [
    "# freq= D 로 만들기(시계열 분석할 때 꼭 필요)\n",
    "mos_p.index= mos_p.index.to_period(freq = 'D')"
   ]
  },
  {
   "cell_type": "markdown",
   "id": "0c8ee5c2",
   "metadata": {},
   "source": [
    "#### 모기 데이터 시계열 시각화 ( 일)"
   ]
  },
  {
   "cell_type": "code",
   "execution_count": 64,
   "id": "79d1f7df",
   "metadata": {
    "scrolled": true
   },
   "outputs": [
    {
     "data": {
      "text/plain": [
       "(<Figure size 1152x288 with 1 Axes>, <AxesSubplot:>)"
      ]
     },
     "execution_count": 64,
     "metadata": {},
     "output_type": "execute_result"
    },
    {
     "data": {
      "image/png": "[encoded data removed]",
      "text/plain": [
       "<Figure size 1152x288 with 1 Axes>"
      ]
     },
     "metadata": {},
     "output_type": "display_data"
    }
   ],
   "source": [
    "# 시계열 데이터 그래프\n",
    "# 인덱스가 데이터 타입인 시리즈를 가지고 그레프 그리기\n",
    "from sktime.utils.plotting import plot_series\n",
    "plot_series(mos_p)"
   ]
  },
  {
   "cell_type": "markdown",
   "id": "f0446dc2",
   "metadata": {},
   "source": [
    "#### sktime"
   ]
  },
  {
   "cell_type": "code",
   "execution_count": 65,
   "id": "86de0fb9",
   "metadata": {},
   "outputs": [],
   "source": [
    "from sktime.forecasting.base import ForecastingHorizon\n",
    "from sktime.forecasting.naive import NaiveForecaster\n",
    "\n",
    "# step 1: data specification : 데이터 세팅\n",
    "y = mos_p\n",
    "\n",
    "# step 2: specifying(:지정하다) forecasting horizon : 기간 설정 ( 2년)\n",
    "## 방법 1\n",
    "fh = np.arange(1, 732)\n",
    "\n",
    "## 방법 2\n",
    "# fh = ForecastingHorizon(\n",
    "#     pd.PeriodIndex(pd.date_range(\"2020-01-01\", periods=731, freq=\"D\")), is_relative=False\n",
    "# )\n",
    "\n",
    "# step 3: specifying the forecasting algorithm :알고리즘 인스턴트 생성\n",
    "forecaster = NaiveForecaster(strategy=\"mean\", sp=731)\n",
    "##ValueError: Unknown strategy: first. Expected one of: ('last', 'mean', 'drift':이동).\n",
    "# strategy: 'last': 마지막 값으로 예측? 기간 마지막 값으로 예측?'mean': 평균값으로 예측 'drift': 이동값으로 예측?(상향인지 하향인지(트렌드)파악)\n",
    "\n",
    "# step 4: fitting the forecaster : 학습\n",
    "forecaster.fit(y, fh=fh)\n",
    "\n",
    "# step 5: querying predictions : 연습\n",
    "y_pred = forecaster.predict(fh)"
   ]
  },
  {
   "cell_type": "code",
   "execution_count": 66,
   "id": "407a80ed",
   "metadata": {},
   "outputs": [
    {
     "data": {
      "text/html": [
       "<div>\n",
       "<style scoped>\n",
       "    .dataframe tbody tr th:only-of-type {\n",
       "        vertical-align: middle;\n",
       "    }\n",
       "\n",
       "    .dataframe tbody tr th {\n",
       "        vertical-align: top;\n",
       "    }\n",
       "\n",
       "    .dataframe thead th {\n",
       "        text-align: right;\n",
       "    }\n",
       "</style>\n",
       "<table border=\"1\" class=\"dataframe\">\n",
       "  <thead>\n",
       "    <tr style=\"text-align: right;\">\n",
       "      <th></th>\n",
       "      <th>Indi</th>\n",
       "    </tr>\n",
       "  </thead>\n",
       "  <tbody>\n",
       "    <tr>\n",
       "      <th>2020-01-01</th>\n",
       "      <td>5.5</td>\n",
       "    </tr>\n",
       "    <tr>\n",
       "      <th>2020-01-02</th>\n",
       "      <td>5.5</td>\n",
       "    </tr>\n",
       "    <tr>\n",
       "      <th>2020-01-03</th>\n",
       "      <td>5.5</td>\n",
       "    </tr>\n",
       "    <tr>\n",
       "      <th>2020-01-04</th>\n",
       "      <td>5.5</td>\n",
       "    </tr>\n",
       "    <tr>\n",
       "      <th>2020-01-05</th>\n",
       "      <td>5.5</td>\n",
       "    </tr>\n",
       "    <tr>\n",
       "      <th>...</th>\n",
       "      <td>...</td>\n",
       "    </tr>\n",
       "    <tr>\n",
       "      <th>2021-12-27</th>\n",
       "      <td>5.5</td>\n",
       "    </tr>\n",
       "    <tr>\n",
       "      <th>2021-12-28</th>\n",
       "      <td>5.5</td>\n",
       "    </tr>\n",
       "    <tr>\n",
       "      <th>2021-12-29</th>\n",
       "      <td>5.5</td>\n",
       "    </tr>\n",
       "    <tr>\n",
       "      <th>2021-12-30</th>\n",
       "      <td>5.5</td>\n",
       "    </tr>\n",
       "    <tr>\n",
       "      <th>2021-12-31</th>\n",
       "      <td>5.5</td>\n",
       "    </tr>\n",
       "  </tbody>\n",
       "</table>\n",
       "<p>731 rows × 1 columns</p>\n",
       "</div>"
      ],
      "text/plain": [
       "            Indi\n",
       "2020-01-01   5.5\n",
       "2020-01-02   5.5\n",
       "2020-01-03   5.5\n",
       "2020-01-04   5.5\n",
       "2020-01-05   5.5\n",
       "...          ...\n",
       "2021-12-27   5.5\n",
       "2021-12-28   5.5\n",
       "2021-12-29   5.5\n",
       "2021-12-30   5.5\n",
       "2021-12-31   5.5\n",
       "\n",
       "[731 rows x 1 columns]"
      ]
     },
     "execution_count": 66,
     "metadata": {},
     "output_type": "execute_result"
    }
   ],
   "source": [
    "y_pred"
   ]
  },
  {
   "cell_type": "code",
   "execution_count": 67,
   "id": "b7ba7fe3",
   "metadata": {},
   "outputs": [
    {
     "data": {
      "text/plain": [
       "(<Figure size 1152x288 with 1 Axes>, <AxesSubplot:>)"
      ]
     },
     "execution_count": 67,
     "metadata": {},
     "output_type": "execute_result"
    },
    {
     "data": {
      "image/png": "[encoded data removed]",
      "text/plain": [
       "<Figure size 1152x288 with 1 Axes>"
      ]
     },
     "metadata": {},
     "output_type": "display_data"
    }
   ],
   "source": [
    "# 시각화\n",
    "plot_series(y, y_pred, labels=[\"y\", \"y_pred\"])"
   ]
  },
  {
   "cell_type": "markdown",
   "id": "2671ef38",
   "metadata": {},
   "source": [
    "#### 데이터 분할"
   ]
  },
  {
   "cell_type": "code",
   "execution_count": 68,
   "id": "0abf61d0",
   "metadata": {},
   "outputs": [],
   "source": [
    "from sktime.forecasting.model_selection import temporal_train_test_split\n",
    "y_train, y_test = temporal_train_test_split(y, test_size=0.25)"
   ]
  },
  {
   "cell_type": "code",
   "execution_count": 69,
   "id": "65c77f8b",
   "metadata": {},
   "outputs": [],
   "source": [
    "# 데이터 학습\n",
    "\n",
    "#y_test.index 의 인덱스를 가지고 기간 설정하기\n",
    "fh = ForecastingHorizon(y_test.index, is_relative=False)\n",
    "\n",
    "# step 3: specifying the forecasting algorithm :알고리즘 인스턴트 생성\n",
    "forecaster = NaiveForecaster(strategy=\"mean\", sp=731)\n",
    "\n",
    "# step 4: fitting the forecaster : 학습\n",
    "forecaster.fit(y_train)\n",
    "\n",
    "# step 5: querying predictions : 에측\n",
    "y_pred = forecaster.predict(fh)"
   ]
  },
  {
   "cell_type": "code",
   "execution_count": 70,
   "id": "2c5231ea",
   "metadata": {},
   "outputs": [
    {
     "data": {
      "text/plain": [
       "(324, 1)"
      ]
     },
     "execution_count": 70,
     "metadata": {},
     "output_type": "execute_result"
    }
   ],
   "source": [
    "y_pred.shape"
   ]
  },
  {
   "cell_type": "code",
   "execution_count": 71,
   "id": "195fbf3d",
   "metadata": {},
   "outputs": [
    {
     "data": {
      "text/plain": [
       "(<Figure size 1152x288 with 1 Axes>, <AxesSubplot:>)"
      ]
     },
     "execution_count": 71,
     "metadata": {},
     "output_type": "execute_result"
    },
    {
     "data": {
      "image/png": "[encoded data removed]",
      "text/plain": [
       "<Figure size 1152x288 with 1 Axes>"
      ]
     },
     "metadata": {},
     "output_type": "display_data"
    }
   ],
   "source": [
    "# 시각화\n",
    "plot_series(y_train, y_test, y_pred, labels=[\"y_train\", \"y_test\", \"y_pred\"])"
   ]
  },
  {
   "cell_type": "code",
   "execution_count": 72,
   "id": "27c401ce",
   "metadata": {},
   "outputs": [
    {
     "data": {
      "text/plain": [
       "(<Figure size 1152x288 with 1 Axes>, <AxesSubplot:>)"
      ]
     },
     "execution_count": 72,
     "metadata": {},
     "output_type": "execute_result"
    },
    {
     "data": {
      "image/png": "[encoded data removed]",
      "text/plain": [
       "<Figure size 1152x288 with 1 Axes>"
      ]
     },
     "metadata": {},
     "output_type": "display_data"
    }
   ],
   "source": [
    "plot_series( y_test, y_pred, labels=[ \"y_test\", \"y_pred\"])"
   ]
  },
  {
   "cell_type": "markdown",
   "id": "7c8fe8d5",
   "metadata": {},
   "source": [
    "#### 평가"
   ]
  },
  {
   "cell_type": "code",
   "execution_count": 73,
   "id": "98bf397b",
   "metadata": {},
   "outputs": [
    {
     "name": "stdout",
     "output_type": "stream",
     "text": [
      "MAE: 202.836, MSE:  93518.104, RMSE:  305.807, R2:-0.016\n"
     ]
    }
   ],
   "source": [
    "from sklearn.metrics import mean_absolute_error, mean_squared_error, r2_score\n",
    "\n",
    "mae = mean_absolute_error(y_test, y_pred)\n",
    "mse = mean_squared_error(y_test, y_pred)\n",
    "rmse = np.sqrt(mse)\n",
    "r2 = r2_score(y_test, y_pred)\n",
    "\n",
    "print('MAE: {0:.3f}, MSE: {1: .3f}, RMSE: {2: .3f}, R2:{3:.3f}'.format(mae, mse, rmse, r2))"
   ]
  },
  {
   "cell_type": "markdown",
   "id": "a7bd2f0d",
   "metadata": {},
   "source": [
    "- MAPE는 퍼센트 값을 가지며 0에 가까울수록 회귀 모형의 성능이 좋다고 해석할 수 있음\n",
    "- 0~100% 사이의 값을 가져 이해하기 쉬우므로 성능 비교 해석이 가능\n",
    "- https://acdongpgm.tistory.com/102"
   ]
  },
  {
   "cell_type": "code",
   "execution_count": 74,
   "id": "a30fa7c7",
   "metadata": {},
   "outputs": [],
   "source": [
    "from sktime.performance_metrics.forecasting import mean_absolute_percentage_error"
   ]
  },
  {
   "cell_type": "code",
   "execution_count": 75,
   "id": "4facf9fe",
   "metadata": {},
   "outputs": [
    {
     "data": {
      "text/plain": [
       "8.135113326897706e+16"
      ]
     },
     "execution_count": 75,
     "metadata": {},
     "output_type": "execute_result"
    }
   ],
   "source": [
    "mean_absolute_percentage_error(y_test, y_pred, symmetric=False)\n",
    "# 기본값은 symmetric=False\n",
    "#symmetric=False: 평균절대백분율오차"
   ]
  },
  {
   "cell_type": "code",
   "execution_count": 76,
   "id": "d752440c",
   "metadata": {},
   "outputs": [
    {
     "data": {
      "text/plain": [
       "1.0075897899439359"
      ]
     },
     "execution_count": 76,
     "metadata": {},
     "output_type": "execute_result"
    }
   ],
   "source": [
    "mean_absolute_percentage_error(y_test, y_pred, symmetric=True)\n",
    "# 대칭평균절대백분율오차\n",
    "#이와 같은 숫자를 적절하게 해석하려면 해당 메트릭의 속성을 이해하고(예: 낮을수록 좋음) 적합한 기준선 및 경쟁자 알고리즘과 비교하는 것이 좋습니다(5단계 참조).\n",
    "## symmetric: 번역은 대칭인데... 이게 뭘 의미하는지는 아직 잘 모르ㅔㅆ음!!"
   ]
  },
  {
   "cell_type": "code",
   "execution_count": 77,
   "id": "e0747b22",
   "metadata": {},
   "outputs": [],
   "source": [
    "from sktime.performance_metrics.forecasting import MeanAbsolutePercentageError"
   ]
  },
  {
   "cell_type": "code",
   "execution_count": 102,
   "id": "be1dfc7f",
   "metadata": {},
   "outputs": [
    {
     "data": {
      "text/plain": [
       "True"
      ]
     },
     "execution_count": 102,
     "metadata": {},
     "output_type": "execute_result"
    }
   ],
   "source": [
    "# option 2: using the composable class interface\n",
    "mape = MeanAbsolutePercentageError(symmetric=True)\n",
    "# the class interface allows to easily construct variants of the MAPE\n",
    "#  e.g., the non-symmetric verion\n",
    "# it also allows for inspection of metric properties\n",
    "#  e.g., are higher values better (answer: no)?\n",
    "mape.get_tag(\"lower_is_better\")"
   ]
  },
  {
   "cell_type": "code",
   "execution_count": 103,
   "id": "2a87f888",
   "metadata": {},
   "outputs": [
    {
     "data": {
      "text/plain": [
       "0.9103210326168167"
      ]
     },
     "execution_count": 103,
     "metadata": {},
     "output_type": "execute_result"
    }
   ],
   "source": [
    "mape(y_test, y_pred)"
   ]
  },
  {
   "cell_type": "markdown",
   "id": "4a0fdced",
   "metadata": {},
   "source": [
    "#### 계절성 분석\n",
    "- https://otexts.com/fppkr/decomposition.html\n",
    "- 시계열 패턴 : 추세(trend), 계절성(seasonality), 주기(cycle) 이렇게 세 가지 시계열 패턴\n",
    "- sktime에서는 주기(cycle)는 사용할 수 없음"
   ]
  },
  {
   "cell_type": "code",
   "execution_count": 80,
   "id": "e54b9d9d",
   "metadata": {},
   "outputs": [],
   "source": [
    "from sktime.forecasting.exp_smoothing import ExponentialSmoothing"
   ]
  },
  {
   "cell_type": "code",
   "execution_count": null,
   "id": "3929fa0c",
   "metadata": {},
   "outputs": [],
   "source": [
    "#forecaster = ExponentialSmoothing(trend=\"add\", seasonal=\"add\", sp=365)\n",
    "forecaster = ExponentialSmoothing(seasonal=\"add\", sp=365)\n",
    "\n",
    "#trend must be one of: 'add', 'mul', 'additive'(첨가물), 'multiplicative'\n",
    "#seasonal must be one of: 'add', 'mul', 'additive', 'multiplicative'\n",
    "forecaster.fit(y_train)\n",
    "y_pred = forecaster.predict(fh)\n",
    "plot_series(y_train, y_test, y_pred, labels=[\"y_train\", \"y_test\", \"y_pred\"])\n",
    "mean_absolute_percentage_error(y_test, y_pred, symmetric=False)"
   ]
  },
  {
   "cell_type": "code",
   "execution_count": 90,
   "id": "1991b824",
   "metadata": {},
   "outputs": [],
   "source": [
    "from sktime.forecasting.ets import AutoETS"
   ]
  },
  {
   "cell_type": "code",
   "execution_count": 91,
   "id": "939697e6",
   "metadata": {},
   "outputs": [
    {
     "ename": "KeyboardInterrupt",
     "evalue": "",
     "output_type": "error",
     "traceback": [
      "\u001b[1;31m---------------------------------------------------------------------------\u001b[0m",
      "\u001b[1;31mKeyboardInterrupt\u001b[0m                         Traceback (most recent call last)",
      "\u001b[1;32m~\\AppData\\Local\\Temp/ipykernel_9296/1599971122.py\u001b[0m in \u001b[0;36m<module>\u001b[1;34m\u001b[0m\n\u001b[0;32m      1\u001b[0m \u001b[0mforecaster\u001b[0m \u001b[1;33m=\u001b[0m \u001b[0mAutoETS\u001b[0m\u001b[1;33m(\u001b[0m\u001b[0mauto\u001b[0m\u001b[1;33m=\u001b[0m\u001b[1;32mTrue\u001b[0m\u001b[1;33m,\u001b[0m \u001b[0msp\u001b[0m\u001b[1;33m=\u001b[0m\u001b[1;36m365\u001b[0m\u001b[1;33m,\u001b[0m \u001b[0mn_jobs\u001b[0m\u001b[1;33m=\u001b[0m\u001b[1;33m-\u001b[0m\u001b[1;36m1\u001b[0m\u001b[1;33m)\u001b[0m\u001b[1;33m\u001b[0m\u001b[1;33m\u001b[0m\u001b[0m\n\u001b[0;32m      2\u001b[0m \u001b[1;33m\u001b[0m\u001b[0m\n\u001b[1;32m----> 3\u001b[1;33m \u001b[0mforecaster\u001b[0m\u001b[1;33m.\u001b[0m\u001b[0mfit\u001b[0m\u001b[1;33m(\u001b[0m\u001b[0my_train\u001b[0m\u001b[1;33m)\u001b[0m\u001b[1;33m\u001b[0m\u001b[1;33m\u001b[0m\u001b[0m\n\u001b[0m\u001b[0;32m      4\u001b[0m \u001b[0my_pred\u001b[0m \u001b[1;33m=\u001b[0m \u001b[0mforecaster\u001b[0m\u001b[1;33m.\u001b[0m\u001b[0mpredict\u001b[0m\u001b[1;33m(\u001b[0m\u001b[0mfh\u001b[0m\u001b[1;33m)\u001b[0m\u001b[1;33m\u001b[0m\u001b[1;33m\u001b[0m\u001b[0m\n\u001b[0;32m      5\u001b[0m \u001b[0mplot_series\u001b[0m\u001b[1;33m(\u001b[0m\u001b[0my_train\u001b[0m\u001b[1;33m,\u001b[0m \u001b[0my_test\u001b[0m\u001b[1;33m,\u001b[0m \u001b[0my_pred\u001b[0m\u001b[1;33m,\u001b[0m \u001b[0mlabels\u001b[0m\u001b[1;33m=\u001b[0m\u001b[1;33m[\u001b[0m\u001b[1;34m\"y_train\"\u001b[0m\u001b[1;33m,\u001b[0m \u001b[1;34m\"y_test\"\u001b[0m\u001b[1;33m,\u001b[0m \u001b[1;34m\"y_pred\"\u001b[0m\u001b[1;33m]\u001b[0m\u001b[1;33m)\u001b[0m\u001b[1;33m\u001b[0m\u001b[1;33m\u001b[0m\u001b[0m\n",
      "\u001b[1;32mC:\\Anaconda3\\lib\\site-packages\\sktime\\forecasting\\base\\_base.py\u001b[0m in \u001b[0;36mfit\u001b[1;34m(self, y, X, fh)\u001b[0m\n\u001b[0;32m    261\u001b[0m         \u001b[1;31m# we call the ordinary _fit if no looping/vectorization needed\u001b[0m\u001b[1;33m\u001b[0m\u001b[1;33m\u001b[0m\u001b[0m\n\u001b[0;32m    262\u001b[0m         \u001b[1;32mif\u001b[0m \u001b[1;32mnot\u001b[0m \u001b[0mvectorization_needed\u001b[0m\u001b[1;33m:\u001b[0m\u001b[1;33m\u001b[0m\u001b[1;33m\u001b[0m\u001b[0m\n\u001b[1;32m--> 263\u001b[1;33m             \u001b[0mself\u001b[0m\u001b[1;33m.\u001b[0m\u001b[0m_fit\u001b[0m\u001b[1;33m(\u001b[0m\u001b[0my\u001b[0m\u001b[1;33m=\u001b[0m\u001b[0my_inner\u001b[0m\u001b[1;33m,\u001b[0m \u001b[0mX\u001b[0m\u001b[1;33m=\u001b[0m\u001b[0mX_inner\u001b[0m\u001b[1;33m,\u001b[0m \u001b[0mfh\u001b[0m\u001b[1;33m=\u001b[0m\u001b[0mfh\u001b[0m\u001b[1;33m)\u001b[0m\u001b[1;33m\u001b[0m\u001b[1;33m\u001b[0m\u001b[0m\n\u001b[0m\u001b[0;32m    264\u001b[0m         \u001b[1;32melse\u001b[0m\u001b[1;33m:\u001b[0m\u001b[1;33m\u001b[0m\u001b[1;33m\u001b[0m\u001b[0m\n\u001b[0;32m    265\u001b[0m             \u001b[1;31m# otherwise we call the vectorized version of fit\u001b[0m\u001b[1;33m\u001b[0m\u001b[1;33m\u001b[0m\u001b[0m\n",
      "\u001b[1;32mC:\\Anaconda3\\lib\\site-packages\\sktime\\forecasting\\base\\adapters\\_statsmodels.py\u001b[0m in \u001b[0;36m_fit\u001b[1;34m(self, y, X, fh)\u001b[0m\n\u001b[0;32m     51\u001b[0m         \u001b[1;32mif\u001b[0m \u001b[0misinstance\u001b[0m\u001b[1;33m(\u001b[0m\u001b[0my\u001b[0m\u001b[1;33m,\u001b[0m \u001b[0mpd\u001b[0m\u001b[1;33m.\u001b[0m\u001b[0mSeries\u001b[0m\u001b[1;33m)\u001b[0m \u001b[1;32mand\u001b[0m \u001b[0my\u001b[0m\u001b[1;33m.\u001b[0m\u001b[0mindex\u001b[0m\u001b[1;33m.\u001b[0m\u001b[0mis_integer\u001b[0m\u001b[1;33m(\u001b[0m\u001b[1;33m)\u001b[0m\u001b[1;33m:\u001b[0m\u001b[1;33m\u001b[0m\u001b[1;33m\u001b[0m\u001b[0m\n\u001b[0;32m     52\u001b[0m             \u001b[0my\u001b[0m\u001b[1;33m,\u001b[0m \u001b[0mX\u001b[0m \u001b[1;33m=\u001b[0m \u001b[0m_coerce_int_to_range_index\u001b[0m\u001b[1;33m(\u001b[0m\u001b[0my\u001b[0m\u001b[1;33m,\u001b[0m \u001b[0mX\u001b[0m\u001b[1;33m)\u001b[0m\u001b[1;33m\u001b[0m\u001b[1;33m\u001b[0m\u001b[0m\n\u001b[1;32m---> 53\u001b[1;33m         \u001b[0mself\u001b[0m\u001b[1;33m.\u001b[0m\u001b[0m_fit_forecaster\u001b[0m\u001b[1;33m(\u001b[0m\u001b[0my\u001b[0m\u001b[1;33m,\u001b[0m \u001b[0mX\u001b[0m\u001b[1;33m)\u001b[0m\u001b[1;33m\u001b[0m\u001b[1;33m\u001b[0m\u001b[0m\n\u001b[0m\u001b[0;32m     54\u001b[0m         \u001b[1;32mreturn\u001b[0m \u001b[0mself\u001b[0m\u001b[1;33m\u001b[0m\u001b[1;33m\u001b[0m\u001b[0m\n\u001b[0;32m     55\u001b[0m \u001b[1;33m\u001b[0m\u001b[0m\n",
      "\u001b[1;32mC:\\Anaconda3\\lib\\site-packages\\sktime\\forecasting\\ets.py\u001b[0m in \u001b[0;36m_fit_forecaster\u001b[1;34m(self, y, X)\u001b[0m\n\u001b[0;32m    324\u001b[0m \u001b[1;33m\u001b[0m\u001b[0m\n\u001b[0;32m    325\u001b[0m             \u001b[1;31m# Fit models\u001b[0m\u001b[1;33m\u001b[0m\u001b[1;33m\u001b[0m\u001b[0m\n\u001b[1;32m--> 326\u001b[1;33m             _fitted_results = Parallel(n_jobs=self.n_jobs)(\n\u001b[0m\u001b[0;32m    327\u001b[0m                 \u001b[0mdelayed\u001b[0m\u001b[1;33m(\u001b[0m\u001b[0m_fit\u001b[0m\u001b[1;33m)\u001b[0m\u001b[1;33m(\u001b[0m\u001b[0merror\u001b[0m\u001b[1;33m,\u001b[0m \u001b[0mtrend\u001b[0m\u001b[1;33m,\u001b[0m \u001b[0mseasonal\u001b[0m\u001b[1;33m,\u001b[0m \u001b[0mdamped\u001b[0m\u001b[1;33m)\u001b[0m\u001b[1;33m\u001b[0m\u001b[1;33m\u001b[0m\u001b[0m\n\u001b[0;32m    328\u001b[0m                 for error, trend, seasonal, damped in _iter(\n",
      "\u001b[1;32mC:\\Anaconda3\\lib\\site-packages\\joblib\\parallel.py\u001b[0m in \u001b[0;36m__call__\u001b[1;34m(self, iterable)\u001b[0m\n\u001b[0;32m   1054\u001b[0m \u001b[1;33m\u001b[0m\u001b[0m\n\u001b[0;32m   1055\u001b[0m             \u001b[1;32mwith\u001b[0m \u001b[0mself\u001b[0m\u001b[1;33m.\u001b[0m\u001b[0m_backend\u001b[0m\u001b[1;33m.\u001b[0m\u001b[0mretrieval_context\u001b[0m\u001b[1;33m(\u001b[0m\u001b[1;33m)\u001b[0m\u001b[1;33m:\u001b[0m\u001b[1;33m\u001b[0m\u001b[1;33m\u001b[0m\u001b[0m\n\u001b[1;32m-> 1056\u001b[1;33m                 \u001b[0mself\u001b[0m\u001b[1;33m.\u001b[0m\u001b[0mretrieve\u001b[0m\u001b[1;33m(\u001b[0m\u001b[1;33m)\u001b[0m\u001b[1;33m\u001b[0m\u001b[1;33m\u001b[0m\u001b[0m\n\u001b[0m\u001b[0;32m   1057\u001b[0m             \u001b[1;31m# Make sure that we get a last message telling us we are done\u001b[0m\u001b[1;33m\u001b[0m\u001b[1;33m\u001b[0m\u001b[0m\n\u001b[0;32m   1058\u001b[0m             \u001b[0melapsed_time\u001b[0m \u001b[1;33m=\u001b[0m \u001b[0mtime\u001b[0m\u001b[1;33m.\u001b[0m\u001b[0mtime\u001b[0m\u001b[1;33m(\u001b[0m\u001b[1;33m)\u001b[0m \u001b[1;33m-\u001b[0m \u001b[0mself\u001b[0m\u001b[1;33m.\u001b[0m\u001b[0m_start_time\u001b[0m\u001b[1;33m\u001b[0m\u001b[1;33m\u001b[0m\u001b[0m\n",
      "\u001b[1;32mC:\\Anaconda3\\lib\\site-packages\\joblib\\parallel.py\u001b[0m in \u001b[0;36mretrieve\u001b[1;34m(self)\u001b[0m\n\u001b[0;32m    933\u001b[0m             \u001b[1;32mtry\u001b[0m\u001b[1;33m:\u001b[0m\u001b[1;33m\u001b[0m\u001b[1;33m\u001b[0m\u001b[0m\n\u001b[0;32m    934\u001b[0m                 \u001b[1;32mif\u001b[0m \u001b[0mgetattr\u001b[0m\u001b[1;33m(\u001b[0m\u001b[0mself\u001b[0m\u001b[1;33m.\u001b[0m\u001b[0m_backend\u001b[0m\u001b[1;33m,\u001b[0m \u001b[1;34m'supports_timeout'\u001b[0m\u001b[1;33m,\u001b[0m \u001b[1;32mFalse\u001b[0m\u001b[1;33m)\u001b[0m\u001b[1;33m:\u001b[0m\u001b[1;33m\u001b[0m\u001b[1;33m\u001b[0m\u001b[0m\n\u001b[1;32m--> 935\u001b[1;33m                     \u001b[0mself\u001b[0m\u001b[1;33m.\u001b[0m\u001b[0m_output\u001b[0m\u001b[1;33m.\u001b[0m\u001b[0mextend\u001b[0m\u001b[1;33m(\u001b[0m\u001b[0mjob\u001b[0m\u001b[1;33m.\u001b[0m\u001b[0mget\u001b[0m\u001b[1;33m(\u001b[0m\u001b[0mtimeout\u001b[0m\u001b[1;33m=\u001b[0m\u001b[0mself\u001b[0m\u001b[1;33m.\u001b[0m\u001b[0mtimeout\u001b[0m\u001b[1;33m)\u001b[0m\u001b[1;33m)\u001b[0m\u001b[1;33m\u001b[0m\u001b[1;33m\u001b[0m\u001b[0m\n\u001b[0m\u001b[0;32m    936\u001b[0m                 \u001b[1;32melse\u001b[0m\u001b[1;33m:\u001b[0m\u001b[1;33m\u001b[0m\u001b[1;33m\u001b[0m\u001b[0m\n\u001b[0;32m    937\u001b[0m                     \u001b[0mself\u001b[0m\u001b[1;33m.\u001b[0m\u001b[0m_output\u001b[0m\u001b[1;33m.\u001b[0m\u001b[0mextend\u001b[0m\u001b[1;33m(\u001b[0m\u001b[0mjob\u001b[0m\u001b[1;33m.\u001b[0m\u001b[0mget\u001b[0m\u001b[1;33m(\u001b[0m\u001b[1;33m)\u001b[0m\u001b[1;33m)\u001b[0m\u001b[1;33m\u001b[0m\u001b[1;33m\u001b[0m\u001b[0m\n",
      "\u001b[1;32mC:\\Anaconda3\\lib\\site-packages\\joblib\\_parallel_backends.py\u001b[0m in \u001b[0;36mwrap_future_result\u001b[1;34m(future, timeout)\u001b[0m\n\u001b[0;32m    540\u001b[0m         AsyncResults.get from multiprocessing.\"\"\"\n\u001b[0;32m    541\u001b[0m         \u001b[1;32mtry\u001b[0m\u001b[1;33m:\u001b[0m\u001b[1;33m\u001b[0m\u001b[1;33m\u001b[0m\u001b[0m\n\u001b[1;32m--> 542\u001b[1;33m             \u001b[1;32mreturn\u001b[0m \u001b[0mfuture\u001b[0m\u001b[1;33m.\u001b[0m\u001b[0mresult\u001b[0m\u001b[1;33m(\u001b[0m\u001b[0mtimeout\u001b[0m\u001b[1;33m=\u001b[0m\u001b[0mtimeout\u001b[0m\u001b[1;33m)\u001b[0m\u001b[1;33m\u001b[0m\u001b[1;33m\u001b[0m\u001b[0m\n\u001b[0m\u001b[0;32m    543\u001b[0m         \u001b[1;32mexcept\u001b[0m \u001b[0mCfTimeoutError\u001b[0m \u001b[1;32mas\u001b[0m \u001b[0me\u001b[0m\u001b[1;33m:\u001b[0m\u001b[1;33m\u001b[0m\u001b[1;33m\u001b[0m\u001b[0m\n\u001b[0;32m    544\u001b[0m             \u001b[1;32mraise\u001b[0m \u001b[0mTimeoutError\u001b[0m \u001b[1;32mfrom\u001b[0m \u001b[0me\u001b[0m\u001b[1;33m\u001b[0m\u001b[1;33m\u001b[0m\u001b[0m\n",
      "\u001b[1;32mC:\\Anaconda3\\lib\\concurrent\\futures\\_base.py\u001b[0m in \u001b[0;36mresult\u001b[1;34m(self, timeout)\u001b[0m\n\u001b[0;32m    438\u001b[0m                     \u001b[1;32mreturn\u001b[0m \u001b[0mself\u001b[0m\u001b[1;33m.\u001b[0m\u001b[0m__get_result\u001b[0m\u001b[1;33m(\u001b[0m\u001b[1;33m)\u001b[0m\u001b[1;33m\u001b[0m\u001b[1;33m\u001b[0m\u001b[0m\n\u001b[0;32m    439\u001b[0m \u001b[1;33m\u001b[0m\u001b[0m\n\u001b[1;32m--> 440\u001b[1;33m                 \u001b[0mself\u001b[0m\u001b[1;33m.\u001b[0m\u001b[0m_condition\u001b[0m\u001b[1;33m.\u001b[0m\u001b[0mwait\u001b[0m\u001b[1;33m(\u001b[0m\u001b[0mtimeout\u001b[0m\u001b[1;33m)\u001b[0m\u001b[1;33m\u001b[0m\u001b[1;33m\u001b[0m\u001b[0m\n\u001b[0m\u001b[0;32m    441\u001b[0m \u001b[1;33m\u001b[0m\u001b[0m\n\u001b[0;32m    442\u001b[0m                 \u001b[1;32mif\u001b[0m \u001b[0mself\u001b[0m\u001b[1;33m.\u001b[0m\u001b[0m_state\u001b[0m \u001b[1;32min\u001b[0m \u001b[1;33m[\u001b[0m\u001b[0mCANCELLED\u001b[0m\u001b[1;33m,\u001b[0m \u001b[0mCANCELLED_AND_NOTIFIED\u001b[0m\u001b[1;33m]\u001b[0m\u001b[1;33m:\u001b[0m\u001b[1;33m\u001b[0m\u001b[1;33m\u001b[0m\u001b[0m\n",
      "\u001b[1;32mC:\\Anaconda3\\lib\\threading.py\u001b[0m in \u001b[0;36mwait\u001b[1;34m(self, timeout)\u001b[0m\n\u001b[0;32m    310\u001b[0m         \u001b[1;32mtry\u001b[0m\u001b[1;33m:\u001b[0m    \u001b[1;31m# restore state no matter what (e.g., KeyboardInterrupt)\u001b[0m\u001b[1;33m\u001b[0m\u001b[1;33m\u001b[0m\u001b[0m\n\u001b[0;32m    311\u001b[0m             \u001b[1;32mif\u001b[0m \u001b[0mtimeout\u001b[0m \u001b[1;32mis\u001b[0m \u001b[1;32mNone\u001b[0m\u001b[1;33m:\u001b[0m\u001b[1;33m\u001b[0m\u001b[1;33m\u001b[0m\u001b[0m\n\u001b[1;32m--> 312\u001b[1;33m                 \u001b[0mwaiter\u001b[0m\u001b[1;33m.\u001b[0m\u001b[0macquire\u001b[0m\u001b[1;33m(\u001b[0m\u001b[1;33m)\u001b[0m\u001b[1;33m\u001b[0m\u001b[1;33m\u001b[0m\u001b[0m\n\u001b[0m\u001b[0;32m    313\u001b[0m                 \u001b[0mgotit\u001b[0m \u001b[1;33m=\u001b[0m \u001b[1;32mTrue\u001b[0m\u001b[1;33m\u001b[0m\u001b[1;33m\u001b[0m\u001b[0m\n\u001b[0;32m    314\u001b[0m             \u001b[1;32melse\u001b[0m\u001b[1;33m:\u001b[0m\u001b[1;33m\u001b[0m\u001b[1;33m\u001b[0m\u001b[0m\n",
      "\u001b[1;31mKeyboardInterrupt\u001b[0m: "
     ]
    }
   ],
   "source": [
    "forecaster = AutoETS(auto=True, sp=365, n_jobs=-1)\n",
    "\n",
    "forecaster.fit(y_train)\n",
    "y_pred = forecaster.predict(fh)\n",
    "plot_series(y_train, y_test, y_pred, labels=[\"y_train\", \"y_test\", \"y_pred\"])\n",
    "mean_absolute_percentage_error(y_test, y_pred, symmetric=False)"
   ]
  },
  {
   "cell_type": "markdown",
   "id": "921489b0",
   "metadata": {},
   "source": [
    "!! 다변량 예측은 여러개의 컬럼을 가지고 하나의 타겟을 예측하는게 아니고, 여러가지 컬럼을 동시에 예측하는 건가?"
   ]
  },
  {
   "cell_type": "code",
   "execution_count": null,
   "id": "387d1429",
   "metadata": {},
   "outputs": [],
   "source": [
    "from sktime.forecasting.compose import MultiplexForecaster\n",
    "from sktime.forecasting.exp_smoothing import ExponentialSmoothing\n",
    "from sktime.forecasting.naive import NaiveForecaster\n",
    "from sktime.forecasting.model_selection import (\n",
    "    ForecastingGridSearchCV,\n",
    "    SlidingWindowSplitter,\n",
    ")"
   ]
  },
  {
   "cell_type": "code",
   "execution_count": null,
   "id": "b6047a9a",
   "metadata": {},
   "outputs": [],
   "source": [
    "forecaster = MultiplexForecaster(\n",
    "    forecasters=[\n",
    "        (\"naive\", NaiveForecaster(strategy=\"mean\")),\n",
    "        (\"ets\", ExponentialSmoothing(trend=\"add\", sp=365)),\n",
    "    ]\n",
    ")\n",
    "cv = SlidingWindowSplitter(initial_window=int(len(y_train) * 0.5), window_length=30)\n",
    "forecaster_param_grid = {\"selected_forecaster\": [\"ets\", \"naive\"]}\n",
    "gscv = ForecastingGridSearchCV(forecaster, cv=cv, param_grid=forecaster_param_grid)"
   ]
  },
  {
   "cell_type": "code",
   "execution_count": null,
   "id": "df5277c0",
   "metadata": {},
   "outputs": [],
   "source": [
    "gscv.fit(y_train)\n",
    "y_pred = gscv.predict(fh)\n",
    "plot_series(y_train, y_test, y_pred, labels=[\"y_train\", \"y_test\", \"y_pred\"])\n",
    "mean_absolute_percentage_error(y_test, y_pred, symmetric=False)"
   ]
  },
  {
   "cell_type": "code",
   "execution_count": null,
   "id": "3aa8fad3",
   "metadata": {},
   "outputs": [],
   "source": [
    "from sktime.forecasting.compose import EnsembleForecaster\n"
   ]
  },
  {
   "cell_type": "code",
   "execution_count": null,
   "id": "afd18a6f",
   "metadata": {},
   "outputs": [],
   "source": [
    "ses = ExponentialSmoothing(sp=31)\n",
    "holt = ExponentialSmoothing(trend=\"add\", damped_trend=False, sp=31)\n",
    "damped = ExponentialSmoothing(trend=\"add\", damped_trend=False, sp=31)\n",
    "\n",
    "forecaster = EnsembleForecaster(\n",
    "    [\n",
    "        (\"ses\", ses),\n",
    "        (\"holt\", holt),\n",
    "        (\"damped\", damped),\n",
    "    ]\n",
    ")\n",
    "forecaster.fit(y_train)\n",
    "y_pred = forecaster.predict(fh)\n",
    "plot_series(y_train, y_test, y_pred, labels=[\"y_train\", \"y_test\", \"y_pred\"])\n",
    "mean_absolute_percentage_error(y_test, y_pred, symmetric=False)"
   ]
  },
  {
   "cell_type": "code",
   "execution_count": null,
   "id": "2c324402",
   "metadata": {},
   "outputs": [],
   "source": [
    "### water 이거 써보기"
   ]
  },
  {
   "cell_type": "code",
   "execution_count": null,
   "id": "45efd22d",
   "metadata": {},
   "outputs": [],
   "source": [
    "from sktime.forecasting.all import mean_squared_error\n",
    "from sktime.forecasting.online_learning import (\n",
    "    NormalHedgeEnsemble,\n",
    "    OnlineEnsembleForecaster,\n",
    ")"
   ]
  },
  {
   "cell_type": "code",
   "execution_count": null,
   "id": "12c81f74",
   "metadata": {},
   "outputs": [],
   "source": [
    "hedge_expert = NormalHedgeEnsemble(n_estimators=3, loss_func=mean_squared_error)\n"
   ]
  },
  {
   "cell_type": "code",
   "execution_count": null,
   "id": "237f4036",
   "metadata": {},
   "outputs": [],
   "source": [
    "forecaster = OnlineEnsembleForecaster(\n",
    "    [\n",
    "        (\"ses\", ses),\n",
    "        (\"holt\", holt),\n",
    "        (\"damped\", damped),\n",
    "    ],\n",
    "    ensemble_algorithm=hedge_expert,\n",
    ")\n",
    "\n",
    "forecaster.fit(y=y_train, fh=fh)\n",
    "y_pred = forecaster.update_predict_single(y_test)\n",
    "plot_series(y_train, y_test, y_pred, labels=[\"y_train\", \"y_test\", \"y_pred\"])\n",
    "mean_absolute_percentage_error(y_test, y_pred, symmetric=False)"
   ]
  },
  {
   "cell_type": "markdown",
   "id": "c73c0b02",
   "metadata": {},
   "source": [
    "### 모기 데이터 시계열 시각화 (월)"
   ]
  },
  {
   "cell_type": "code",
   "execution_count": null,
   "id": "2d1b4c65",
   "metadata": {},
   "outputs": [],
   "source": [
    "에러용"
   ]
  },
  {
   "cell_type": "code",
   "execution_count": null,
   "id": "47348c8c",
   "metadata": {},
   "outputs": [],
   "source": [
    "# 월별\n",
    "mos_p_m = mos_scaled[['date', 'Indi']]\n",
    "mos_p_m = mos_p_m.set_index('date')\n",
    "## 시리즈가 아니라서 예측이 제대로 안된거가 해서 바꿔봤음(승객은 시리즈라서)\n",
    "## 근데 바꿔도 예측값이 5.5 밖에 안나옴 !!\n",
    "#mos_p_m = mos_p_m.Indi\n"
   ]
  },
  {
   "cell_type": "code",
   "execution_count": null,
   "id": "bd8f9bfc",
   "metadata": {},
   "outputs": [],
   "source": [
    "mos_p_m.index= mos_p_m.index.to_period(freq = 'M')"
   ]
  },
  {
   "cell_type": "code",
   "execution_count": null,
   "id": "e3deef4f",
   "metadata": {},
   "outputs": [],
   "source": [
    "mos_p_m"
   ]
  },
  {
   "cell_type": "code",
   "execution_count": null,
   "id": "7bbeb550",
   "metadata": {},
   "outputs": [],
   "source": [
    "mos_p_m =mos_p_m.groupby([mos_p_m.index])['Indi'].sum()\n",
    "# 위의 거랑 똑같은 식 : mos_p_m =mos_p_m.groupby([mos_p_m.index]).sum('Indi')"
   ]
  },
  {
   "cell_type": "code",
   "execution_count": null,
   "id": "2bc2ac7a",
   "metadata": {},
   "outputs": [],
   "source": [
    "mos_p_m"
   ]
  },
  {
   "cell_type": "code",
   "execution_count": null,
   "id": "7428f16e",
   "metadata": {},
   "outputs": [],
   "source": [
    "plot_series(mos_p_m)"
   ]
  },
  {
   "cell_type": "code",
   "execution_count": null,
   "id": "a2729aa2",
   "metadata": {},
   "outputs": [],
   "source": [
    "\n",
    "# step 1: data specification : 데이터 세팅\n",
    "y = mos_p_m\n",
    "\n",
    "# step 2: specifying forecasting horizon : 기간 설정\n",
    "### 예측 범위(2020 1월 달 => 31일)\n",
    "fh = np.arange(1, 32)\n",
    "\n",
    "# step 3: specifying the forecasting algorithm\n",
    "forecaster = NaiveForecaster(strategy=\"last\", sp=31)\n",
    "\n",
    "# step 4: fitting the forecaster\n",
    "forecaster.fit(y)\n",
    "\n",
    "# step 5: querying predictions\n",
    "y_pred_m = forecaster.predict(fh)"
   ]
  },
  {
   "cell_type": "code",
   "execution_count": null,
   "id": "37508bea",
   "metadata": {},
   "outputs": [],
   "source": [
    "y_pred_m"
   ]
  },
  {
   "cell_type": "code",
   "execution_count": null,
   "id": "c72c743e",
   "metadata": {},
   "outputs": [],
   "source": [
    "# 시각화\n",
    "plot_series(y, y_pred_m, labels=[\"y\", \"y_pred_m\"])"
   ]
  },
  {
   "cell_type": "markdown",
   "id": "eca2dd0a",
   "metadata": {},
   "source": [
    "### 예측 알고리즘 지정 "
   ]
  },
  {
   "cell_type": "code",
   "execution_count": null,
   "id": "ebe8db3a",
   "metadata": {},
   "outputs": [],
   "source": [
    "from sktime.forecasting.naive import NaiveForecaster\n",
    "forecaster = NaiveForecaster(strategy=\"last\")"
   ]
  },
  {
   "cell_type": "code",
   "execution_count": null,
   "id": "1bb43cee",
   "metadata": {},
   "outputs": [],
   "source": []
  },
  {
   "cell_type": "code",
   "execution_count": null,
   "id": "9c8d1090",
   "metadata": {},
   "outputs": [],
   "source": []
  },
  {
   "cell_type": "markdown",
   "id": "a8ae3bde",
   "metadata": {},
   "source": [
    "### all estimator"
   ]
  },
  {
   "cell_type": "code",
   "execution_count": null,
   "id": "97ffc79a",
   "metadata": {},
   "outputs": [],
   "source": [
    "ㅁㄴㅇㄻㄴㅇㄹ!! 나중에 시간 많을 때 돌려보기"
   ]
  },
  {
   "cell_type": "code",
   "execution_count": null,
   "id": "531948c0",
   "metadata": {},
   "outputs": [],
   "source": [
    "from sktime.registry import all_estimators\n",
    "\n",
    "all_estimators(\n",
    "    \"forecaster\", as_dataframe=True, return_tags=[\"scitype:y\", \"requires-fh-in-fit\"]\n",
    ")"
   ]
  },
  {
   "cell_type": "code",
   "execution_count": null,
   "id": "e860a986",
   "metadata": {},
   "outputs": [],
   "source": [
    "ㅁㄴㅇㄻㄴㅇㄹ!! 나중에 시간 많을 때 돌려보기\n",
    "\n",
    "from sktime.registry import all_estimators\n",
    "\n",
    "all_estimators(\n",
    "    \"forecaster\", as_dataframe=True, return_tags=[\"scitype:y\", \"requires-fh-in-fit\"]\n",
    ")"
   ]
  },
  {
   "cell_type": "code",
   "execution_count": null,
   "id": "bb7dbc57",
   "metadata": {},
   "outputs": [],
   "source": []
  },
  {
   "cell_type": "markdown",
   "id": "a0a821b5",
   "metadata": {},
   "source": [
    "## 분류"
   ]
  },
  {
   "cell_type": "markdown",
   "id": "0cb1dabc",
   "metadata": {},
   "source": [
    "## 회귀"
   ]
  }
 ],
 "metadata": {
  "kernelspec": {
   "display_name": "Python 3 (ipykernel)",
   "language": "python",
   "name": "python3"
  },
  "language_info": {
   "codemirror_mode": {
    "name": "ipython",
    "version": 3
   },
   "file_extension": ".py",
   "mimetype": "text/x-python",
   "name": "python",
   "nbconvert_exporter": "python",
   "pygments_lexer": "ipython3",
   "version": "3.9.7"
  },
  "toc": {
   "base_numbering": 1,
   "nav_menu": {},
   "number_sections": true,
   "sideBar": true,
   "skip_h1_title": false,
   "title_cell": "Table of Contents",
   "title_sidebar": "Contents",
   "toc_cell": false,
   "toc_position": {
    "height": "476px",
    "left": "321px",
    "top": "111.136px",
    "width": "303.807px"
   },
   "toc_section_display": true,
   "toc_window_display": true
  }
 },
 "nbformat": 4,
 "nbformat_minor": 5
}
