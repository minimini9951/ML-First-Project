{
 "cells": [
  {
   "cell_type": "code",
   "execution_count": 2,
   "id": "9477d9b7-ffc0-43e9-86b3-ef367e140441",
   "metadata": {
    "execution": {
     "iopub.execute_input": "2022-11-21T01:59:27.096572Z",
     "iopub.status.busy": "2022-11-21T01:59:27.096572Z",
     "iopub.status.idle": "2022-11-21T01:59:32.057115Z",
     "shell.execute_reply": "2022-11-21T01:59:32.057115Z",
     "shell.execute_reply.started": "2022-11-21T01:59:27.096572Z"
    }
   },
   "outputs": [],
   "source": [
    "import numpy as np\n",
    "import pandas as pd\n",
    "import seaborn as sns\n",
    "import matplotlib as mpl\n",
    "import matplotlib.pyplot as plt\n",
    "from sklearn.model_selection import train_test_split\n",
    "import os\n",
    "os.environ[\"OMP_NUM_THREADS\"] = '1'\n",
    "\n",
    "import warnings\n",
    "warnings.simplefilter(action='ignore', category=FutureWarning)\n",
    "\n",
    "%config Completer.use_jedi = False\n",
    "%config InlineBackend.figure_format = 'retina'"
   ]
  },
  {
   "cell_type": "code",
   "execution_count": 116,
   "id": "e76412c5-c53e-43ec-b819-db96033f7702",
   "metadata": {
    "execution": {
     "iopub.execute_input": "2022-11-21T02:57:33.502549Z",
     "iopub.status.busy": "2022-11-21T02:57:33.502549Z",
     "iopub.status.idle": "2022-11-21T02:57:33.555414Z",
     "shell.execute_reply": "2022-11-21T02:57:33.554366Z",
     "shell.execute_reply.started": "2022-11-21T02:57:33.502549Z"
    },
    "tags": []
   },
   "outputs": [],
   "source": [
    "water_tr = pd.read_csv('C:\\\\k_disital\\\\source\\\\mygit\\\\ML-First-Project\\\\data_city\\\\data_tr_city.csv')\n",
    "water_ts = pd.read_csv('C:\\k_disital\\source\\mygit\\ML-First-Project\\data_city\\\\data_ts_city.csv')"
   ]
  },
  {
   "cell_type": "code",
   "execution_count": 117,
   "id": "d5746c98-19a7-4367-81aa-6f6505f71240",
   "metadata": {
    "execution": {
     "iopub.execute_input": "2022-11-21T02:57:33.652370Z",
     "iopub.status.busy": "2022-11-21T02:57:33.652370Z",
     "iopub.status.idle": "2022-11-21T02:57:33.664605Z",
     "shell.execute_reply": "2022-11-21T02:57:33.663605Z",
     "shell.execute_reply.started": "2022-11-21T02:57:33.652370Z"
    },
    "tags": []
   },
   "outputs": [],
   "source": [
    "#water = pd.concat([water_tr, water_ts])\n",
    "water = water_tr"
   ]
  },
  {
   "cell_type": "code",
   "execution_count": 120,
   "id": "100f68df-4774-4db0-b323-f6ab16b459a4",
   "metadata": {
    "execution": {
     "iopub.execute_input": "2022-11-21T02:57:33.831126Z",
     "iopub.status.busy": "2022-11-21T02:57:33.831126Z",
     "iopub.status.idle": "2022-11-21T02:57:33.847795Z",
     "shell.execute_reply": "2022-11-21T02:57:33.847795Z",
     "shell.execute_reply.started": "2022-11-21T02:57:33.831126Z"
    },
    "tags": []
   },
   "outputs": [],
   "source": [
    "water['target'] = water['구미 혁신도시배수지 유출유량 적산차']\n",
    "water = water.drop('구미 혁신도시배수지 유출유량 적산차', axis=1)"
   ]
  },
  {
   "cell_type": "code",
   "execution_count": 118,
   "id": "cdf2365a-6a1d-490e-9e68-38d8a4b22cd9",
   "metadata": {
    "execution": {
     "iopub.execute_input": "2022-11-21T02:57:33.984443Z",
     "iopub.status.busy": "2022-11-21T02:57:33.984443Z",
     "iopub.status.idle": "2022-11-21T02:57:34.019687Z",
     "shell.execute_reply": "2022-11-21T02:57:34.019687Z",
     "shell.execute_reply.started": "2022-11-21T02:57:33.984443Z"
    },
    "tags": []
   },
   "outputs": [],
   "source": [
    "water['datetime'] = water['datetime'].astype('datetime64[ns]')"
   ]
  },
  {
   "cell_type": "code",
   "execution_count": 7,
   "id": "82670422-1392-4556-92bb-c2dba3345148",
   "metadata": {
    "execution": {
     "iopub.execute_input": "2022-11-21T02:57:34.166349Z",
     "iopub.status.busy": "2022-11-21T02:57:34.166349Z",
     "iopub.status.idle": "2022-11-21T02:57:34.192190Z",
     "shell.execute_reply": "2022-11-21T02:57:34.191271Z",
     "shell.execute_reply.started": "2022-11-21T02:57:34.166349Z"
    },
    "tags": []
   },
   "outputs": [
    {
     "data": {
      "text/html": [
       "<div>\n",
       "<style scoped>\n",
       "    .dataframe tbody tr th:only-of-type {\n",
       "        vertical-align: middle;\n",
       "    }\n",
       "\n",
       "    .dataframe tbody tr th {\n",
       "        vertical-align: top;\n",
       "    }\n",
       "\n",
       "    .dataframe thead th {\n",
       "        text-align: right;\n",
       "    }\n",
       "</style>\n",
       "<table border=\"1\" class=\"dataframe\">\n",
       "  <thead>\n",
       "    <tr style=\"text-align: right;\">\n",
       "      <th></th>\n",
       "      <th>target</th>\n",
       "    </tr>\n",
       "    <tr>\n",
       "      <th>datetime</th>\n",
       "      <th></th>\n",
       "    </tr>\n",
       "  </thead>\n",
       "  <tbody>\n",
       "    <tr>\n",
       "      <th>2017-01-01 01:00:00</th>\n",
       "      <td>138.0</td>\n",
       "    </tr>\n",
       "    <tr>\n",
       "      <th>2017-01-01 02:00:00</th>\n",
       "      <td>237.0</td>\n",
       "    </tr>\n",
       "    <tr>\n",
       "      <th>2017-01-01 03:00:00</th>\n",
       "      <td>128.0</td>\n",
       "    </tr>\n",
       "    <tr>\n",
       "      <th>2017-01-01 04:00:00</th>\n",
       "      <td>14.0</td>\n",
       "    </tr>\n",
       "    <tr>\n",
       "      <th>2017-01-01 05:00:00</th>\n",
       "      <td>11.0</td>\n",
       "    </tr>\n",
       "    <tr>\n",
       "      <th>...</th>\n",
       "      <td>...</td>\n",
       "    </tr>\n",
       "    <tr>\n",
       "      <th>2021-12-17 19:00:00</th>\n",
       "      <td>327.0</td>\n",
       "    </tr>\n",
       "    <tr>\n",
       "      <th>2021-12-17 20:00:00</th>\n",
       "      <td>513.0</td>\n",
       "    </tr>\n",
       "    <tr>\n",
       "      <th>2021-12-17 21:00:00</th>\n",
       "      <td>396.0</td>\n",
       "    </tr>\n",
       "    <tr>\n",
       "      <th>2021-12-17 22:00:00</th>\n",
       "      <td>350.0</td>\n",
       "    </tr>\n",
       "    <tr>\n",
       "      <th>2021-12-17 23:00:00</th>\n",
       "      <td>197.0</td>\n",
       "    </tr>\n",
       "  </tbody>\n",
       "</table>\n",
       "<p>43487 rows × 1 columns</p>\n",
       "</div>"
      ],
      "text/plain": [
       "                     target\n",
       "datetime                   \n",
       "2017-01-01 01:00:00   138.0\n",
       "2017-01-01 02:00:00   237.0\n",
       "2017-01-01 03:00:00   128.0\n",
       "2017-01-01 04:00:00    14.0\n",
       "2017-01-01 05:00:00    11.0\n",
       "...                     ...\n",
       "2021-12-17 19:00:00   327.0\n",
       "2021-12-17 20:00:00   513.0\n",
       "2021-12-17 21:00:00   396.0\n",
       "2021-12-17 22:00:00   350.0\n",
       "2021-12-17 23:00:00   197.0\n",
       "\n",
       "[43487 rows x 1 columns]"
      ]
     },
     "execution_count": 7,
     "metadata": {},
     "output_type": "execute_result"
    }
   ],
   "source": [
    "water = water.set_index('datetime')\n",
    "water"
   ]
  },
  {
   "cell_type": "code",
   "execution_count": 8,
   "id": "019f8a62-6bc8-43b2-899f-ff0732e8a79f",
   "metadata": {
    "execution": {
     "iopub.execute_input": "2022-11-21T02:57:34.417926Z",
     "iopub.status.busy": "2022-11-21T02:57:34.416932Z",
     "iopub.status.idle": "2022-11-21T02:57:34.428175Z",
     "shell.execute_reply": "2022-11-21T02:57:34.426656Z",
     "shell.execute_reply.started": "2022-11-21T02:57:34.417926Z"
    },
    "tags": []
   },
   "outputs": [],
   "source": [
    "water.index = water.index.to_period('h')"
   ]
  },
  {
   "cell_type": "code",
   "execution_count": 9,
   "id": "ae44b394-eba3-409c-add9-979d12e862b3",
   "metadata": {
    "execution": {
     "iopub.execute_input": "2022-11-21T02:57:35.685313Z",
     "iopub.status.busy": "2022-11-21T02:57:35.685313Z",
     "iopub.status.idle": "2022-11-21T02:57:35.695435Z",
     "shell.execute_reply": "2022-11-21T02:57:35.694433Z",
     "shell.execute_reply.started": "2022-11-21T02:57:35.685313Z"
    },
    "tags": []
   },
   "outputs": [
    {
     "data": {
      "text/plain": [
       "PeriodIndex(['2017-01-01 01:00', '2017-01-01 02:00', '2017-01-01 03:00',\n",
       "             '2017-01-01 04:00', '2017-01-01 05:00', '2017-01-01 06:00',\n",
       "             '2017-01-01 07:00', '2017-01-01 08:00', '2017-01-01 09:00',\n",
       "             '2017-01-01 10:00',\n",
       "             ...\n",
       "             '2021-12-17 14:00', '2021-12-17 15:00', '2021-12-17 16:00',\n",
       "             '2021-12-17 17:00', '2021-12-17 18:00', '2021-12-17 19:00',\n",
       "             '2021-12-17 20:00', '2021-12-17 21:00', '2021-12-17 22:00',\n",
       "             '2021-12-17 23:00'],\n",
       "            dtype='period[H]', name='datetime', length=43487)"
      ]
     },
     "execution_count": 9,
     "metadata": {},
     "output_type": "execute_result"
    }
   ],
   "source": [
    "water.index"
   ]
  },
  {
   "cell_type": "code",
   "execution_count": 10,
   "id": "0f3ad629-bded-4687-83b9-b06fba66e8ff",
   "metadata": {
    "execution": {
     "iopub.execute_input": "2022-11-21T02:57:52.886177Z",
     "iopub.status.busy": "2022-11-21T02:57:52.885914Z",
     "iopub.status.idle": "2022-11-21T02:57:53.200537Z",
     "shell.execute_reply": "2022-11-21T02:57:53.200537Z",
     "shell.execute_reply.started": "2022-11-21T02:57:52.886177Z"
    },
    "tags": []
   },
   "outputs": [
    {
     "data": {
      "text/plain": [
       "<AxesSubplot:xlabel='datetime'>"
      ]
     },
     "execution_count": 10,
     "metadata": {},
     "output_type": "execute_result"
    },
    {
     "data": {
      "image/png": "[encoded data removed]",
      "text/plain": [
       "<Figure size 432x288 with 1 Axes>"
      ]
     },
     "metadata": {
      "image/png": {
       "height": 272,
       "width": 370
      },
      "needs_background": "light"
     },
     "output_type": "display_data"
    }
   ],
   "source": [
    "water.plot()"
   ]
  },
  {
   "cell_type": "code",
   "execution_count": 11,
   "id": "79bdb214-771a-49bd-bc03-88ca0bd034a9",
   "metadata": {
    "execution": {
     "iopub.execute_input": "2022-11-21T03:00:00.374079Z",
     "iopub.status.busy": "2022-11-21T03:00:00.372894Z",
     "iopub.status.idle": "2022-11-21T03:00:00.396826Z",
     "shell.execute_reply": "2022-11-21T03:00:00.396327Z",
     "shell.execute_reply.started": "2022-11-21T03:00:00.374079Z"
    },
    "tags": []
   },
   "outputs": [
    {
     "data": {
      "text/plain": [
       "target    8\n",
       "dtype: int64"
      ]
     },
     "execution_count": 11,
     "metadata": {},
     "output_type": "execute_result"
    }
   ],
   "source": [
    "water.isna().sum()"
   ]
  },
  {
   "cell_type": "code",
   "execution_count": 167,
   "id": "e7817c90-2ffe-425a-a0ec-0aad4e212fb3",
   "metadata": {
    "execution": {
     "iopub.execute_input": "2022-11-21T03:01:09.847092Z",
     "iopub.status.busy": "2022-11-21T03:01:09.846093Z",
     "iopub.status.idle": "2022-11-21T03:01:09.862609Z",
     "shell.execute_reply": "2022-11-21T03:01:09.862609Z",
     "shell.execute_reply.started": "2022-11-21T03:01:09.847092Z"
    },
    "tags": []
   },
   "outputs": [
    {
     "data": {
      "text/html": [
       "<div>\n",
       "<style scoped>\n",
       "    .dataframe tbody tr th:only-of-type {\n",
       "        vertical-align: middle;\n",
       "    }\n",
       "\n",
       "    .dataframe tbody tr th {\n",
       "        vertical-align: top;\n",
       "    }\n",
       "\n",
       "    .dataframe thead th {\n",
       "        text-align: right;\n",
       "    }\n",
       "</style>\n",
       "<table border=\"1\" class=\"dataframe\">\n",
       "  <thead>\n",
       "    <tr style=\"text-align: right;\">\n",
       "      <th></th>\n",
       "      <th>target</th>\n",
       "    </tr>\n",
       "    <tr>\n",
       "      <th>datetime</th>\n",
       "      <th></th>\n",
       "    </tr>\n",
       "  </thead>\n",
       "  <tbody>\n",
       "    <tr>\n",
       "      <th>2018-05-15 20:00</th>\n",
       "      <td>4720655.0</td>\n",
       "    </tr>\n",
       "    <tr>\n",
       "      <th>2017-05-27 10:00</th>\n",
       "      <td>4999.0</td>\n",
       "    </tr>\n",
       "    <tr>\n",
       "      <th>2017-05-28 06:00</th>\n",
       "      <td>3357.0</td>\n",
       "    </tr>\n",
       "    <tr>\n",
       "      <th>2017-05-31 08:00</th>\n",
       "      <td>2591.0</td>\n",
       "    </tr>\n",
       "    <tr>\n",
       "      <th>2017-05-28 15:00</th>\n",
       "      <td>2550.0</td>\n",
       "    </tr>\n",
       "    <tr>\n",
       "      <th>...</th>\n",
       "      <td>...</td>\n",
       "    </tr>\n",
       "    <tr>\n",
       "      <th>2018-06-14 22:00</th>\n",
       "      <td>NaN</td>\n",
       "    </tr>\n",
       "    <tr>\n",
       "      <th>2018-07-04 12:00</th>\n",
       "      <td>NaN</td>\n",
       "    </tr>\n",
       "    <tr>\n",
       "      <th>2018-07-06 11:00</th>\n",
       "      <td>NaN</td>\n",
       "    </tr>\n",
       "    <tr>\n",
       "      <th>2020-02-10 14:00</th>\n",
       "      <td>NaN</td>\n",
       "    </tr>\n",
       "    <tr>\n",
       "      <th>2020-02-10 15:00</th>\n",
       "      <td>NaN</td>\n",
       "    </tr>\n",
       "  </tbody>\n",
       "</table>\n",
       "<p>43487 rows × 1 columns</p>\n",
       "</div>"
      ],
      "text/plain": [
       "                     target\n",
       "datetime                   \n",
       "2018-05-15 20:00  4720655.0\n",
       "2017-05-27 10:00     4999.0\n",
       "2017-05-28 06:00     3357.0\n",
       "2017-05-31 08:00     2591.0\n",
       "2017-05-28 15:00     2550.0\n",
       "...                     ...\n",
       "2018-06-14 22:00        NaN\n",
       "2018-07-04 12:00        NaN\n",
       "2018-07-06 11:00        NaN\n",
       "2020-02-10 14:00        NaN\n",
       "2020-02-10 15:00        NaN\n",
       "\n",
       "[43487 rows x 1 columns]"
      ]
     },
     "execution_count": 167,
     "metadata": {},
     "output_type": "execute_result"
    }
   ],
   "source": [
    "water.sort_values(by='target', ascending=False)"
   ]
  },
  {
   "cell_type": "code",
   "execution_count": 166,
   "id": "59f244d0-be77-4d5a-8f60-406759035f8d",
   "metadata": {
    "execution": {
     "iopub.execute_input": "2022-11-21T03:01:04.389607Z",
     "iopub.status.busy": "2022-11-21T03:01:04.389080Z",
     "iopub.status.idle": "2022-11-21T03:01:04.420455Z",
     "shell.execute_reply": "2022-11-21T03:01:04.419527Z",
     "shell.execute_reply.started": "2022-11-21T03:01:04.389607Z"
    },
    "tags": []
   },
   "outputs": [
    {
     "data": {
      "text/html": [
       "<div>\n",
       "<style scoped>\n",
       "    .dataframe tbody tr th:only-of-type {\n",
       "        vertical-align: middle;\n",
       "    }\n",
       "\n",
       "    .dataframe tbody tr th {\n",
       "        vertical-align: top;\n",
       "    }\n",
       "\n",
       "    .dataframe thead th {\n",
       "        text-align: right;\n",
       "    }\n",
       "</style>\n",
       "<table border=\"1\" class=\"dataframe\">\n",
       "  <thead>\n",
       "    <tr style=\"text-align: right;\">\n",
       "      <th></th>\n",
       "      <th>target</th>\n",
       "    </tr>\n",
       "    <tr>\n",
       "      <th>datetime</th>\n",
       "      <th></th>\n",
       "    </tr>\n",
       "  </thead>\n",
       "  <tbody>\n",
       "    <tr>\n",
       "      <th>2019-01-02 15:00</th>\n",
       "      <td>-6093821.0</td>\n",
       "    </tr>\n",
       "    <tr>\n",
       "      <th>2017-03-30 16:00</th>\n",
       "      <td>-2584551.0</td>\n",
       "    </tr>\n",
       "    <tr>\n",
       "      <th>2017-05-28 10:00</th>\n",
       "      <td>0.0</td>\n",
       "    </tr>\n",
       "    <tr>\n",
       "      <th>2017-05-26 13:00</th>\n",
       "      <td>0.0</td>\n",
       "    </tr>\n",
       "    <tr>\n",
       "      <th>2018-06-06 13:00</th>\n",
       "      <td>0.0</td>\n",
       "    </tr>\n",
       "    <tr>\n",
       "      <th>...</th>\n",
       "      <td>...</td>\n",
       "    </tr>\n",
       "    <tr>\n",
       "      <th>2018-06-14 22:00</th>\n",
       "      <td>NaN</td>\n",
       "    </tr>\n",
       "    <tr>\n",
       "      <th>2018-07-04 12:00</th>\n",
       "      <td>NaN</td>\n",
       "    </tr>\n",
       "    <tr>\n",
       "      <th>2018-07-06 11:00</th>\n",
       "      <td>NaN</td>\n",
       "    </tr>\n",
       "    <tr>\n",
       "      <th>2020-02-10 14:00</th>\n",
       "      <td>NaN</td>\n",
       "    </tr>\n",
       "    <tr>\n",
       "      <th>2020-02-10 15:00</th>\n",
       "      <td>NaN</td>\n",
       "    </tr>\n",
       "  </tbody>\n",
       "</table>\n",
       "<p>43487 rows × 1 columns</p>\n",
       "</div>"
      ],
      "text/plain": [
       "                     target\n",
       "datetime                   \n",
       "2019-01-02 15:00 -6093821.0\n",
       "2017-03-30 16:00 -2584551.0\n",
       "2017-05-28 10:00        0.0\n",
       "2017-05-26 13:00        0.0\n",
       "2018-06-06 13:00        0.0\n",
       "...                     ...\n",
       "2018-06-14 22:00        NaN\n",
       "2018-07-04 12:00        NaN\n",
       "2018-07-06 11:00        NaN\n",
       "2020-02-10 14:00        NaN\n",
       "2020-02-10 15:00        NaN\n",
       "\n",
       "[43487 rows x 1 columns]"
      ]
     },
     "execution_count": 166,
     "metadata": {},
     "output_type": "execute_result"
    }
   ],
   "source": [
    "water.sort_values(by='target', ascending=True)"
   ]
  },
  {
   "cell_type": "code",
   "execution_count": 179,
   "id": "723a3282-a913-450b-ade4-17dd3bbebaef",
   "metadata": {
    "execution": {
     "iopub.execute_input": "2022-11-21T03:07:12.355749Z",
     "iopub.status.busy": "2022-11-21T03:07:12.355749Z",
     "iopub.status.idle": "2022-11-21T03:07:12.388928Z",
     "shell.execute_reply": "2022-11-21T03:07:12.387438Z",
     "shell.execute_reply.started": "2022-11-21T03:07:12.355749Z"
    },
    "tags": []
   },
   "outputs": [
    {
     "data": {
      "text/html": [
       "<div>\n",
       "<style scoped>\n",
       "    .dataframe tbody tr th:only-of-type {\n",
       "        vertical-align: middle;\n",
       "    }\n",
       "\n",
       "    .dataframe tbody tr th {\n",
       "        vertical-align: top;\n",
       "    }\n",
       "\n",
       "    .dataframe thead th {\n",
       "        text-align: right;\n",
       "    }\n",
       "</style>\n",
       "<table border=\"1\" class=\"dataframe\">\n",
       "  <thead>\n",
       "    <tr style=\"text-align: right;\">\n",
       "      <th></th>\n",
       "      <th>target</th>\n",
       "    </tr>\n",
       "    <tr>\n",
       "      <th>datetime</th>\n",
       "      <th></th>\n",
       "    </tr>\n",
       "  </thead>\n",
       "  <tbody>\n",
       "    <tr>\n",
       "      <th>2017-01-01 20:00</th>\n",
       "      <td>245.0</td>\n",
       "    </tr>\n",
       "    <tr>\n",
       "      <th>2017-01-02 20:00</th>\n",
       "      <td>252.0</td>\n",
       "    </tr>\n",
       "    <tr>\n",
       "      <th>2017-01-03 20:00</th>\n",
       "      <td>362.0</td>\n",
       "    </tr>\n",
       "    <tr>\n",
       "      <th>2017-01-04 20:00</th>\n",
       "      <td>246.0</td>\n",
       "    </tr>\n",
       "    <tr>\n",
       "      <th>2017-01-05 20:00</th>\n",
       "      <td>76.0</td>\n",
       "    </tr>\n",
       "    <tr>\n",
       "      <th>...</th>\n",
       "      <td>...</td>\n",
       "    </tr>\n",
       "    <tr>\n",
       "      <th>2021-12-13 20:00</th>\n",
       "      <td>689.0</td>\n",
       "    </tr>\n",
       "    <tr>\n",
       "      <th>2021-12-14 20:00</th>\n",
       "      <td>316.0</td>\n",
       "    </tr>\n",
       "    <tr>\n",
       "      <th>2021-12-15 20:00</th>\n",
       "      <td>612.0</td>\n",
       "    </tr>\n",
       "    <tr>\n",
       "      <th>2021-12-16 20:00</th>\n",
       "      <td>176.0</td>\n",
       "    </tr>\n",
       "    <tr>\n",
       "      <th>2021-12-17 20:00</th>\n",
       "      <td>513.0</td>\n",
       "    </tr>\n",
       "  </tbody>\n",
       "</table>\n",
       "<p>1812 rows × 1 columns</p>\n",
       "</div>"
      ],
      "text/plain": [
       "                  target\n",
       "datetime                \n",
       "2017-01-01 20:00   245.0\n",
       "2017-01-02 20:00   252.0\n",
       "2017-01-03 20:00   362.0\n",
       "2017-01-04 20:00   246.0\n",
       "2017-01-05 20:00    76.0\n",
       "...                  ...\n",
       "2021-12-13 20:00   689.0\n",
       "2021-12-14 20:00   316.0\n",
       "2021-12-15 20:00   612.0\n",
       "2021-12-16 20:00   176.0\n",
       "2021-12-17 20:00   513.0\n",
       "\n",
       "[1812 rows x 1 columns]"
      ]
     },
     "execution_count": 179,
     "metadata": {},
     "output_type": "execute_result"
    }
   ],
   "source": [
    "water[water.index.hour == 20]"
   ]
  },
  {
   "cell_type": "code",
   "execution_count": 182,
   "id": "5dd872ed",
   "metadata": {
    "execution": {
     "iopub.execute_input": "2022-11-21T03:11:07.618449Z",
     "iopub.status.busy": "2022-11-21T03:11:07.618449Z",
     "iopub.status.idle": "2022-11-21T03:11:07.649404Z",
     "shell.execute_reply": "2022-11-21T03:11:07.648943Z",
     "shell.execute_reply.started": "2022-11-21T03:11:07.618449Z"
    },
    "tags": []
   },
   "outputs": [
    {
     "data": {
      "text/html": [
       "<div>\n",
       "<style scoped>\n",
       "    .dataframe tbody tr th:only-of-type {\n",
       "        vertical-align: middle;\n",
       "    }\n",
       "\n",
       "    .dataframe tbody tr th {\n",
       "        vertical-align: top;\n",
       "    }\n",
       "\n",
       "    .dataframe thead th {\n",
       "        text-align: right;\n",
       "    }\n",
       "</style>\n",
       "<table border=\"1\" class=\"dataframe\">\n",
       "  <thead>\n",
       "    <tr style=\"text-align: right;\">\n",
       "      <th></th>\n",
       "      <th>target</th>\n",
       "    </tr>\n",
       "    <tr>\n",
       "      <th>datetime</th>\n",
       "      <th></th>\n",
       "    </tr>\n",
       "  </thead>\n",
       "  <tbody>\n",
       "    <tr>\n",
       "      <th>2017-03-28 17:00</th>\n",
       "      <td>0.0</td>\n",
       "    </tr>\n",
       "    <tr>\n",
       "      <th>2017-04-29 14:00</th>\n",
       "      <td>0.0</td>\n",
       "    </tr>\n",
       "    <tr>\n",
       "      <th>2017-04-29 16:00</th>\n",
       "      <td>0.0</td>\n",
       "    </tr>\n",
       "    <tr>\n",
       "      <th>2017-04-29 17:00</th>\n",
       "      <td>0.0</td>\n",
       "    </tr>\n",
       "    <tr>\n",
       "      <th>2017-04-29 18:00</th>\n",
       "      <td>0.0</td>\n",
       "    </tr>\n",
       "    <tr>\n",
       "      <th>...</th>\n",
       "      <td>...</td>\n",
       "    </tr>\n",
       "    <tr>\n",
       "      <th>2018-06-06 14:00</th>\n",
       "      <td>0.0</td>\n",
       "    </tr>\n",
       "    <tr>\n",
       "      <th>2018-06-06 15:00</th>\n",
       "      <td>0.0</td>\n",
       "    </tr>\n",
       "    <tr>\n",
       "      <th>2019-06-19 20:00</th>\n",
       "      <td>0.0</td>\n",
       "    </tr>\n",
       "    <tr>\n",
       "      <th>2019-12-04 19:00</th>\n",
       "      <td>0.0</td>\n",
       "    </tr>\n",
       "    <tr>\n",
       "      <th>2021-03-04 13:00</th>\n",
       "      <td>0.0</td>\n",
       "    </tr>\n",
       "  </tbody>\n",
       "</table>\n",
       "<p>142 rows × 1 columns</p>\n",
       "</div>"
      ],
      "text/plain": [
       "                  target\n",
       "datetime                \n",
       "2017-03-28 17:00     0.0\n",
       "2017-04-29 14:00     0.0\n",
       "2017-04-29 16:00     0.0\n",
       "2017-04-29 17:00     0.0\n",
       "2017-04-29 18:00     0.0\n",
       "...                  ...\n",
       "2018-06-06 14:00     0.0\n",
       "2018-06-06 15:00     0.0\n",
       "2019-06-19 20:00     0.0\n",
       "2019-12-04 19:00     0.0\n",
       "2021-03-04 13:00     0.0\n",
       "\n",
       "[142 rows x 1 columns]"
      ]
     },
     "execution_count": 182,
     "metadata": {},
     "output_type": "execute_result"
    }
   ],
   "source": [
    "water[water.target == 0]"
   ]
  },
  {
   "cell_type": "code",
   "execution_count": 38,
   "id": "fc34fb60",
   "metadata": {},
   "outputs": [],
   "source": [
    "test ="
   ]
  },
  {
   "cell_type": "code",
   "execution_count": 40,
   "id": "74a963e0",
   "metadata": {},
   "outputs": [
    {
     "data": {
      "text/plain": [
       "target    120.0\n",
       "Name: 2018-03-28 16:00, dtype: float64"
      ]
     },
     "execution_count": 40,
     "metadata": {},
     "output_type": "execute_result"
    }
   ],
   "source": [
    "test - 100"
   ]
  },
  {
   "cell_type": "code",
   "execution_count": 72,
   "id": "99b53a3a",
   "metadata": {},
   "outputs": [],
   "source": [
    "a = water[water.index == '2017-03-26 17:00'].iloc[0]\n",
    "b = water[water.index == '2017-03-27 17:00'].iloc[0]\n",
    "c= water[water.index == '2017-03-28 17:00'].iloc[0]\n",
    "d = water[water.index == '2017-03-29 17:00'].iloc[0]\n",
    "e = water[water.index == '2017-04-01 17:00'].iloc[0]"
   ]
  },
  {
   "cell_type": "code",
   "execution_count": 79,
   "id": "450c9554",
   "metadata": {},
   "outputs": [
    {
     "name": "stdout",
     "output_type": "stream",
     "text": [
      "target    364.0\n",
      "Name: 2017-03-26 17:00, dtype: float64 target    228.0\n",
      "Name: 2017-03-27 17:00, dtype: float64 target    0.0\n",
      "Name: 2017-03-28 17:00, dtype: float64 target    151.0\n",
      "Name: 2017-03-29 17:00, dtype: float64 target    136.0\n",
      "Name: 2017-04-01 17:00, dtype: float64\n"
     ]
    }
   ],
   "source": [
    "print(a, b, c, d, e)"
   ]
  },
  {
   "cell_type": "code",
   "execution_count": 82,
   "id": "edf0d66f",
   "metadata": {},
   "outputs": [],
   "source": [
    "a= water[water.index == '2017-03-28 15:00'].iloc[0]\n",
    "b= water[water.index == '2017-03-28 16:00'].iloc[0]\n",
    "c= water[water.index == '2017-03-28 17:00'].iloc[0]\n",
    "d= water[water.index == '2017-03-28 18:00'].iloc[0]\n",
    "e= water[water.index == '2017-03-28 19:00'].iloc[0]"
   ]
  },
  {
   "cell_type": "code",
   "execution_count": 83,
   "id": "baa5c012",
   "metadata": {},
   "outputs": [
    {
     "name": "stdout",
     "output_type": "stream",
     "text": [
      "target    293.0\n",
      "Name: 2017-03-28 15:00, dtype: float64 target    129.0\n",
      "Name: 2017-03-28 16:00, dtype: float64 target    0.0\n",
      "Name: 2017-03-28 17:00, dtype: float64 target    322.0\n",
      "Name: 2017-03-28 18:00, dtype: float64 target    526.0\n",
      "Name: 2017-03-28 19:00, dtype: float64\n"
     ]
    }
   ],
   "source": [
    "print(a, b, c, d, e)"
   ]
  },
  {
   "cell_type": "code",
   "execution_count": 76,
   "id": "a948182b",
   "metadata": {},
   "outputs": [],
   "source": [
    "x = water[water.index == '2017-03-28 16:00'].iloc[0]"
   ]
  },
  {
   "cell_type": "code",
   "execution_count": 53,
   "id": "61368df7",
   "metadata": {},
   "outputs": [
    {
     "data": {
      "text/plain": [
       "target    129.0\n",
       "Name: 2017-03-28 16:00, dtype: float64"
      ]
     },
     "execution_count": 53,
     "metadata": {},
     "output_type": "execute_result"
    }
   ],
   "source": [
    "x"
   ]
  },
  {
   "cell_type": "code",
   "execution_count": 54,
   "id": "53531892",
   "metadata": {},
   "outputs": [
    {
     "data": {
      "text/plain": [
       "target    190.25\n",
       "dtype: float64"
      ]
     },
     "execution_count": 54,
     "metadata": {},
     "output_type": "execute_result"
    }
   ],
   "source": [
    "x+y"
   ]
  },
  {
   "cell_type": "code",
   "execution_count": 55,
   "id": "a11b667e",
   "metadata": {},
   "outputs": [],
   "source": [
    "a = water[water.index == '2017-03-28 16:00'].iloc[0]\n",
    "aa = water[water.index == '2017-03-28 17:00'].iloc[0]\n",
    "aaa = water[water.index == '2017-03-28 18:00'].iloc[0]"
   ]
  },
  {
   "cell_type": "code",
   "execution_count": 56,
   "id": "b824169c",
   "metadata": {},
   "outputs": [
    {
     "name": "stdout",
     "output_type": "stream",
     "text": [
      "target    129.0\n",
      "Name: 2017-03-28 16:00, dtype: float64\n",
      "target    0.0\n",
      "Name: 2017-03-28 17:00, dtype: float64\n",
      "target    322.0\n",
      "Name: 2017-03-28 18:00, dtype: float64\n"
     ]
    }
   ],
   "source": [
    "print(a)\n",
    "print(aa)\n",
    "print(aaa)"
   ]
  },
  {
   "cell_type": "code",
   "execution_count": 84,
   "id": "1de20d65",
   "metadata": {},
   "outputs": [],
   "source": [
    "from sktime.utils.plotting import plot_series"
   ]
  },
  {
   "cell_type": "code",
   "execution_count": 86,
   "id": "b12d299d",
   "metadata": {},
   "outputs": [
    {
     "data": {
      "text/plain": [
       "(<Figure size 1152x288 with 1 Axes>, <AxesSubplot:>)"
      ]
     },
     "execution_count": 86,
     "metadata": {},
     "output_type": "execute_result"
    },
    {
     "data": {
      "image/png": "[encoded data removed]",
      "text/plain": [
       "<Figure size 1152x288 with 1 Axes>"
      ]
     },
     "metadata": {
      "image/png": {
       "height": 258,
       "width": 928
      },
      "needs_background": "light"
     },
     "output_type": "display_data"
    }
   ],
   "source": [
    "plot_series(water)"
   ]
  },
  {
   "cell_type": "code",
   "execution_count": 122,
   "id": "39f8dab7",
   "metadata": {},
   "outputs": [
    {
     "name": "stdout",
     "output_type": "stream",
     "text": [
      "<class 'pandas.core.frame.DataFrame'>\n",
      "RangeIndex: 35063 entries, 0 to 35062\n",
      "Data columns (total 2 columns):\n",
      " #   Column    Non-Null Count  Dtype         \n",
      "---  ------    --------------  -----         \n",
      " 0   datetime  35063 non-null  datetime64[ns]\n",
      " 1   target    35055 non-null  float64       \n",
      "dtypes: datetime64[ns](1), float64(1)\n",
      "memory usage: 548.0 KB\n"
     ]
    }
   ],
   "source": [
    "water.info()"
   ]
  },
  {
   "cell_type": "code",
   "execution_count": 124,
   "id": "10f483f7",
   "metadata": {},
   "outputs": [],
   "source": [
    "year21 = water[water.datetime.dt.year == 2021]"
   ]
  },
  {
   "cell_type": "code",
   "execution_count": 125,
   "id": "c5774e47",
   "metadata": {},
   "outputs": [
    {
     "data": {
      "text/html": [
       "<div>\n",
       "<style scoped>\n",
       "    .dataframe tbody tr th:only-of-type {\n",
       "        vertical-align: middle;\n",
       "    }\n",
       "\n",
       "    .dataframe tbody tr th {\n",
       "        vertical-align: top;\n",
       "    }\n",
       "\n",
       "    .dataframe thead th {\n",
       "        text-align: right;\n",
       "    }\n",
       "</style>\n",
       "<table border=\"1\" class=\"dataframe\">\n",
       "  <thead>\n",
       "    <tr style=\"text-align: right;\">\n",
       "      <th></th>\n",
       "      <th>datetime</th>\n",
       "      <th>target</th>\n",
       "    </tr>\n",
       "  </thead>\n",
       "  <tbody>\n",
       "  </tbody>\n",
       "</table>\n",
       "</div>"
      ],
      "text/plain": [
       "Empty DataFrame\n",
       "Columns: [datetime, target]\n",
       "Index: []"
      ]
     },
     "execution_count": 125,
     "metadata": {},
     "output_type": "execute_result"
    }
   ],
   "source": [
    "year21"
   ]
  },
  {
   "cell_type": "code",
   "execution_count": 96,
   "id": "3e760449",
   "metadata": {},
   "outputs": [
    {
     "data": {
      "text/plain": [
       "target    1\n",
       "dtype: int64"
      ]
     },
     "execution_count": 96,
     "metadata": {},
     "output_type": "execute_result"
    }
   ],
   "source": [
    "year21[year21 == 0].count()"
   ]
  },
  {
   "cell_type": "code",
   "execution_count": 97,
   "id": "5815ee88",
   "metadata": {},
   "outputs": [
    {
     "ename": "NameError",
     "evalue": "name 'interpolate' is not defined",
     "output_type": "error",
     "traceback": [
      "\u001b[1;31m---------------------------------------------------------------------------\u001b[0m",
      "\u001b[1;31mNameError\u001b[0m                                 Traceback (most recent call last)",
      "\u001b[1;32m~\\AppData\\Local\\Temp/ipykernel_3188/1905650349.py\u001b[0m in \u001b[0;36m<module>\u001b[1;34m\u001b[0m\n\u001b[1;32m----> 1\u001b[1;33m f_quadr = interpolate.interp1d(\n\u001b[0m\u001b[0;32m      2\u001b[0m     x, y, kind='quadratic') # cubic\n\u001b[0;32m      3\u001b[0m \u001b[1;33m\u001b[0m\u001b[0m\n\u001b[0;32m      4\u001b[0m \u001b[0my_new_quadr\u001b[0m \u001b[1;33m=\u001b[0m \u001b[0mf_quadr\u001b[0m\u001b[1;33m(\u001b[0m\u001b[0mxnew\u001b[0m\u001b[1;33m)\u001b[0m\u001b[1;33m\u001b[0m\u001b[1;33m\u001b[0m\u001b[0m\n\u001b[0;32m      5\u001b[0m \u001b[1;33m\u001b[0m\u001b[0m\n",
      "\u001b[1;31mNameError\u001b[0m: name 'interpolate' is not defined"
     ]
    }
   ],
   "source": [
    "f_quadr = interpolate.interp1d(\n",
    "    water.index, water.target, kind='quadratic') # cubic\n",
    "\n",
    "y_new_quadr = f_quadr(xnew)\n",
    "\n",
    "plt.plot(x, y, \"o\", xnew, y_new_quadr)\n",
    "plt.show()"
   ]
  },
  {
   "cell_type": "code",
   "execution_count": 106,
   "id": "abe76e6a",
   "metadata": {},
   "outputs": [],
   "source": [
    "year21 = year21.replace(0, np.NaN)"
   ]
  },
  {
   "cell_type": "code",
   "execution_count": 109,
   "id": "43518a6a",
   "metadata": {},
   "outputs": [
    {
     "data": {
      "text/plain": [
       "target    8424\n",
       "dtype: int64"
      ]
     },
     "execution_count": 109,
     "metadata": {},
     "output_type": "execute_result"
    }
   ],
   "source": [
    "year21.isna().count()"
   ]
  },
  {
   "cell_type": "code",
   "execution_count": 111,
   "id": "944ed33b",
   "metadata": {},
   "outputs": [
    {
     "data": {
      "text/html": [
       "<div>\n",
       "<style scoped>\n",
       "    .dataframe tbody tr th:only-of-type {\n",
       "        vertical-align: middle;\n",
       "    }\n",
       "\n",
       "    .dataframe tbody tr th {\n",
       "        vertical-align: top;\n",
       "    }\n",
       "\n",
       "    .dataframe thead th {\n",
       "        text-align: right;\n",
       "    }\n",
       "</style>\n",
       "<table border=\"1\" class=\"dataframe\">\n",
       "  <thead>\n",
       "    <tr style=\"text-align: right;\">\n",
       "      <th></th>\n",
       "      <th>target</th>\n",
       "    </tr>\n",
       "  </thead>\n",
       "  <tbody>\n",
       "    <tr>\n",
       "      <th>2021-03-04 13:00</th>\n",
       "      <td>NaN</td>\n",
       "    </tr>\n",
       "  </tbody>\n",
       "</table>\n",
       "</div>"
      ],
      "text/plain": [
       "                  target\n",
       "2021-03-04 13:00     NaN"
      ]
     },
     "execution_count": 111,
     "metadata": {},
     "output_type": "execute_result"
    }
   ],
   "source": [
    "year21[year21.target.isna()]"
   ]
  },
  {
   "cell_type": "code",
   "execution_count": 115,
   "id": "f11450bc",
   "metadata": {},
   "outputs": [
    {
     "ename": "AttributeError",
     "evalue": "'DataFrame' object has no attribute 'indext'",
     "output_type": "error",
     "traceback": [
      "\u001b[1;31m---------------------------------------------------------------------------\u001b[0m",
      "\u001b[1;31mAttributeError\u001b[0m                            Traceback (most recent call last)",
      "\u001b[1;32m~\\AppData\\Local\\Temp/ipykernel_3188/1221470139.py\u001b[0m in \u001b[0;36m<module>\u001b[1;34m\u001b[0m\n\u001b[0;32m      1\u001b[0m \u001b[1;32mfrom\u001b[0m \u001b[0mscipy\u001b[0m \u001b[1;32mimport\u001b[0m \u001b[0minterpolate\u001b[0m\u001b[1;33m\u001b[0m\u001b[1;33m\u001b[0m\u001b[0m\n\u001b[0;32m      2\u001b[0m f_quadr = interpolate.interp1d(\n\u001b[1;32m----> 3\u001b[1;33m     year21.target,year21.indext, kind='quadratic') # cubic\n\u001b[0m\u001b[0;32m      4\u001b[0m \u001b[1;33m\u001b[0m\u001b[0m\n\u001b[0;32m      5\u001b[0m \u001b[0my_new_quadr\u001b[0m \u001b[1;33m=\u001b[0m \u001b[0mf_quadr\u001b[0m\u001b[1;33m(\u001b[0m\u001b[0myear21\u001b[0m\u001b[1;33m.\u001b[0m\u001b[0mtarget\u001b[0m\u001b[1;33m)\u001b[0m\u001b[1;33m\u001b[0m\u001b[1;33m\u001b[0m\u001b[0m\n",
      "\u001b[1;32mC:\\Anaconda3\\lib\\site-packages\\pandas\\core\\generic.py\u001b[0m in \u001b[0;36m__getattr__\u001b[1;34m(self, name)\u001b[0m\n\u001b[0;32m   5900\u001b[0m         ):\n\u001b[0;32m   5901\u001b[0m             \u001b[1;32mreturn\u001b[0m \u001b[0mself\u001b[0m\u001b[1;33m[\u001b[0m\u001b[0mname\u001b[0m\u001b[1;33m]\u001b[0m\u001b[1;33m\u001b[0m\u001b[1;33m\u001b[0m\u001b[0m\n\u001b[1;32m-> 5902\u001b[1;33m         \u001b[1;32mreturn\u001b[0m \u001b[0mobject\u001b[0m\u001b[1;33m.\u001b[0m\u001b[0m__getattribute__\u001b[0m\u001b[1;33m(\u001b[0m\u001b[0mself\u001b[0m\u001b[1;33m,\u001b[0m \u001b[0mname\u001b[0m\u001b[1;33m)\u001b[0m\u001b[1;33m\u001b[0m\u001b[1;33m\u001b[0m\u001b[0m\n\u001b[0m\u001b[0;32m   5903\u001b[0m \u001b[1;33m\u001b[0m\u001b[0m\n\u001b[0;32m   5904\u001b[0m     \u001b[1;32mdef\u001b[0m \u001b[0m__setattr__\u001b[0m\u001b[1;33m(\u001b[0m\u001b[0mself\u001b[0m\u001b[1;33m,\u001b[0m \u001b[0mname\u001b[0m\u001b[1;33m:\u001b[0m \u001b[0mstr\u001b[0m\u001b[1;33m,\u001b[0m \u001b[0mvalue\u001b[0m\u001b[1;33m)\u001b[0m \u001b[1;33m->\u001b[0m \u001b[1;32mNone\u001b[0m\u001b[1;33m:\u001b[0m\u001b[1;33m\u001b[0m\u001b[1;33m\u001b[0m\u001b[0m\n",
      "\u001b[1;31mAttributeError\u001b[0m: 'DataFrame' object has no attribute 'indext'"
     ]
    }
   ],
   "source": [
    "from scipy import interpolate\n",
    "f_quadr = interpolate.interp1d(\n",
    "    year21.target,year21.indext, kind='quadratic') # cubic\n",
    "\n",
    "y_new_quadr = f_quadr(year21.target)\n",
    "\n",
    "plt.plot(x, y, \"o\", xnew, y_new_quadr)\n",
    "plt.show()"
   ]
  },
  {
   "cell_type": "code",
   "execution_count": null,
   "id": "ac88e657",
   "metadata": {},
   "outputs": [],
   "source": []
  }
 ],
 "metadata": {
  "kernelspec": {
   "display_name": "Python 3 (ipykernel)",
   "language": "python",
   "name": "python3"
  },
  "language_info": {
   "codemirror_mode": {
    "name": "ipython",
    "version": 3
   },
   "file_extension": ".py",
   "mimetype": "text/x-python",
   "name": "python",
   "nbconvert_exporter": "python",
   "pygments_lexer": "ipython3",
   "version": "3.9.7"
  },
  "toc": {
   "base_numbering": 1,
   "nav_menu": {},
   "number_sections": true,
   "sideBar": true,
   "skip_h1_title": false,
   "title_cell": "Table of Contents",
   "title_sidebar": "Contents",
   "toc_cell": false,
   "toc_position": {},
   "toc_section_display": true,
   "toc_window_display": false
  }
 },
 "nbformat": 4,
 "nbformat_minor": 5
}
