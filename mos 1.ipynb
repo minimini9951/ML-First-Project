{
 "cells": [
  {
   "cell_type": "markdown",
   "id": "41c5fab3",
   "metadata": {},
   "source": [
    "###### 11월 14일\n"
   ]
  },
  {
   "cell_type": "markdown",
   "id": "5f984d9f",
   "metadata": {},
   "source": [
    "# 모듈 불러오기"
   ]
  },
  {
   "cell_type": "code",
   "execution_count": 1,
   "id": "74aed261",
   "metadata": {},
   "outputs": [],
   "source": [
    "import numpy as np\n",
    "import pandas as pd\n",
    "\n",
    "import matplotlib as mpl\n",
    "import matplotlib.pyplot as plt\n",
    "import seaborn as sns\n",
    "\n",
    "import warnings\n",
    "\n",
    "# 시각화를 주피터에 \n",
    "%matplotlib inline\n",
    "\n",
    "#한글 폰트를 선명하게 보기위해\n",
    "%config Inlinebackend.fiure_format = 'retina'\n",
    "mpl.rc('font',family = 'malgun gothic')\n",
    "# 유니코드에서 음수로 부호설정\n",
    "mpl.rc('axes',unicode_minus = False)\n",
    "\n",
    "# 차트 설정 \n",
    "sns.set(font = \"malgun gothic\", rc = {'axes.unicode_minus':False}, style = 'darkgrid')\n",
    "plt.rc('figure', figsize = (10,8))\n",
    "warnings.filterwarnings('ignore')"
   ]
  },
  {
   "cell_type": "markdown",
   "id": "b2e0adf7",
   "metadata": {},
   "source": [
    "# 데이터셋 로딩"
   ]
  },
  {
   "cell_type": "code",
   "execution_count": 2,
   "id": "0c1402a7",
   "metadata": {},
   "outputs": [],
   "source": [
    "# 모기지수 : 일 평균 모기 개체수"
   ]
  },
  {
   "cell_type": "code",
   "execution_count": 3,
   "id": "458204e8",
   "metadata": {},
   "outputs": [],
   "source": [
    "mos = pd.read_csv('C:\\\\k_disital\\\\source\\\\mygit\\\\ML-First-Project\\\\mosquito_Indicator.csv')"
   ]
  },
  {
   "cell_type": "code",
   "execution_count": 4,
   "id": "1e63492a",
   "metadata": {},
   "outputs": [
    {
     "data": {
      "text/html": [
       "<div>\n",
       "<style scoped>\n",
       "    .dataframe tbody tr th:only-of-type {\n",
       "        vertical-align: middle;\n",
       "    }\n",
       "\n",
       "    .dataframe tbody tr th {\n",
       "        vertical-align: top;\n",
       "    }\n",
       "\n",
       "    .dataframe thead th {\n",
       "        text-align: right;\n",
       "    }\n",
       "</style>\n",
       "<table border=\"1\" class=\"dataframe\">\n",
       "  <thead>\n",
       "    <tr style=\"text-align: right;\">\n",
       "      <th></th>\n",
       "      <th>date</th>\n",
       "      <th>mosquito_Indicator</th>\n",
       "      <th>rain(mm)</th>\n",
       "      <th>mean_T(℃)</th>\n",
       "      <th>min_T(℃)</th>\n",
       "      <th>max_T(℃)</th>\n",
       "    </tr>\n",
       "  </thead>\n",
       "  <tbody>\n",
       "    <tr>\n",
       "      <th>0</th>\n",
       "      <td>2016-05-01</td>\n",
       "      <td>254.4</td>\n",
       "      <td>0.0</td>\n",
       "      <td>18.8</td>\n",
       "      <td>12.2</td>\n",
       "      <td>26.0</td>\n",
       "    </tr>\n",
       "    <tr>\n",
       "      <th>1</th>\n",
       "      <td>2016-05-02</td>\n",
       "      <td>273.5</td>\n",
       "      <td>16.5</td>\n",
       "      <td>21.1</td>\n",
       "      <td>16.5</td>\n",
       "      <td>28.4</td>\n",
       "    </tr>\n",
       "    <tr>\n",
       "      <th>2</th>\n",
       "      <td>2016-05-03</td>\n",
       "      <td>304.0</td>\n",
       "      <td>27.0</td>\n",
       "      <td>12.9</td>\n",
       "      <td>8.9</td>\n",
       "      <td>17.6</td>\n",
       "    </tr>\n",
       "    <tr>\n",
       "      <th>3</th>\n",
       "      <td>2016-05-04</td>\n",
       "      <td>256.2</td>\n",
       "      <td>0.0</td>\n",
       "      <td>15.7</td>\n",
       "      <td>10.2</td>\n",
       "      <td>20.6</td>\n",
       "    </tr>\n",
       "    <tr>\n",
       "      <th>4</th>\n",
       "      <td>2016-05-05</td>\n",
       "      <td>243.8</td>\n",
       "      <td>7.5</td>\n",
       "      <td>18.9</td>\n",
       "      <td>10.2</td>\n",
       "      <td>26.9</td>\n",
       "    </tr>\n",
       "    <tr>\n",
       "      <th>...</th>\n",
       "      <td>...</td>\n",
       "      <td>...</td>\n",
       "      <td>...</td>\n",
       "      <td>...</td>\n",
       "      <td>...</td>\n",
       "      <td>...</td>\n",
       "    </tr>\n",
       "    <tr>\n",
       "      <th>1337</th>\n",
       "      <td>2019-12-27</td>\n",
       "      <td>5.5</td>\n",
       "      <td>0.0</td>\n",
       "      <td>-1.7</td>\n",
       "      <td>-4.6</td>\n",
       "      <td>2.6</td>\n",
       "    </tr>\n",
       "    <tr>\n",
       "      <th>1338</th>\n",
       "      <td>2019-12-28</td>\n",
       "      <td>5.5</td>\n",
       "      <td>0.0</td>\n",
       "      <td>1.1</td>\n",
       "      <td>-3.6</td>\n",
       "      <td>6.1</td>\n",
       "    </tr>\n",
       "    <tr>\n",
       "      <th>1339</th>\n",
       "      <td>2019-12-29</td>\n",
       "      <td>5.5</td>\n",
       "      <td>1.4</td>\n",
       "      <td>3.8</td>\n",
       "      <td>1.1</td>\n",
       "      <td>6.2</td>\n",
       "    </tr>\n",
       "    <tr>\n",
       "      <th>1340</th>\n",
       "      <td>2019-12-30</td>\n",
       "      <td>5.5</td>\n",
       "      <td>0.4</td>\n",
       "      <td>2.7</td>\n",
       "      <td>-5.7</td>\n",
       "      <td>6.8</td>\n",
       "    </tr>\n",
       "    <tr>\n",
       "      <th>1341</th>\n",
       "      <td>2019-12-31</td>\n",
       "      <td>5.5</td>\n",
       "      <td>0.0</td>\n",
       "      <td>-7.9</td>\n",
       "      <td>-10.9</td>\n",
       "      <td>-4.5</td>\n",
       "    </tr>\n",
       "  </tbody>\n",
       "</table>\n",
       "<p>1342 rows × 6 columns</p>\n",
       "</div>"
      ],
      "text/plain": [
       "            date  mosquito_Indicator  rain(mm)  mean_T(℃)  min_T(℃)  max_T(℃)\n",
       "0     2016-05-01               254.4       0.0       18.8      12.2      26.0\n",
       "1     2016-05-02               273.5      16.5       21.1      16.5      28.4\n",
       "2     2016-05-03               304.0      27.0       12.9       8.9      17.6\n",
       "3     2016-05-04               256.2       0.0       15.7      10.2      20.6\n",
       "4     2016-05-05               243.8       7.5       18.9      10.2      26.9\n",
       "...          ...                 ...       ...        ...       ...       ...\n",
       "1337  2019-12-27                 5.5       0.0       -1.7      -4.6       2.6\n",
       "1338  2019-12-28                 5.5       0.0        1.1      -3.6       6.1\n",
       "1339  2019-12-29                 5.5       1.4        3.8       1.1       6.2\n",
       "1340  2019-12-30                 5.5       0.4        2.7      -5.7       6.8\n",
       "1341  2019-12-31                 5.5       0.0       -7.9     -10.9      -4.5\n",
       "\n",
       "[1342 rows x 6 columns]"
      ]
     },
     "execution_count": 4,
     "metadata": {},
     "output_type": "execute_result"
    }
   ],
   "source": [
    "mos"
   ]
  },
  {
   "cell_type": "code",
   "execution_count": 5,
   "id": "21fa73fd",
   "metadata": {},
   "outputs": [
    {
     "name": "stdout",
     "output_type": "stream",
     "text": [
      "<class 'pandas.core.frame.DataFrame'>\n",
      "RangeIndex: 1342 entries, 0 to 1341\n",
      "Data columns (total 6 columns):\n",
      " #   Column              Non-Null Count  Dtype  \n",
      "---  ------              --------------  -----  \n",
      " 0   date                1342 non-null   object \n",
      " 1   mosquito_Indicator  1342 non-null   float64\n",
      " 2   rain(mm)            1342 non-null   float64\n",
      " 3   mean_T(℃)           1342 non-null   float64\n",
      " 4   min_T(℃)            1342 non-null   float64\n",
      " 5   max_T(℃)            1342 non-null   float64\n",
      "dtypes: float64(5), object(1)\n",
      "memory usage: 63.0+ KB\n"
     ]
    }
   ],
   "source": [
    "mos.info()"
   ]
  },
  {
   "cell_type": "markdown",
   "id": "a6c6a7d5",
   "metadata": {},
   "source": [
    "## 데이터 탐색 EDA"
   ]
  },
  {
   "cell_type": "code",
   "execution_count": 6,
   "id": "cd7f59fb",
   "metadata": {},
   "outputs": [
    {
     "data": {
      "text/plain": [
       "Index(['date', 'mosquito_Indicator', 'rain(mm)', 'mean_T(℃)', 'min_T(℃)',\n",
       "       'max_T(℃)'],\n",
       "      dtype='object')"
      ]
     },
     "execution_count": 6,
     "metadata": {},
     "output_type": "execute_result"
    }
   ],
   "source": [
    "mos.keys()"
   ]
  },
  {
   "cell_type": "code",
   "execution_count": 7,
   "id": "cc5dbb83",
   "metadata": {},
   "outputs": [],
   "source": [
    "#mos.columns !! 나중에 보고 삭제"
   ]
  },
  {
   "cell_type": "code",
   "execution_count": 8,
   "id": "781cce5a",
   "metadata": {},
   "outputs": [],
   "source": [
    "#colums=mos.keys() !! 나중에 보고 필요없으면 삭제"
   ]
  },
  {
   "cell_type": "code",
   "execution_count": 9,
   "id": "8cedfaf9",
   "metadata": {},
   "outputs": [],
   "source": [
    "# !!이거 만들필요가 있나??!!\n",
    "#df = pd.DataFrame(mos , columns=colums)"
   ]
  },
  {
   "cell_type": "code",
   "execution_count": 10,
   "id": "72199093",
   "metadata": {},
   "outputs": [],
   "source": [
    "#df.columns = ['date','mosquito_Indicator','rain','mean_T','min_T','max_T'] !! 나중에 보고 삭제"
   ]
  },
  {
   "cell_type": "markdown",
   "id": "8925d91f",
   "metadata": {},
   "source": [
    "### 데이터 시각화"
   ]
  },
  {
   "cell_type": "code",
   "execution_count": 7,
   "id": "2cd01401",
   "metadata": {},
   "outputs": [],
   "source": [
    "def plot_hist(df):\n",
    "    # 하나의 도화지에 20개의 그래프 그리기\n",
    "    plt.rcParams['figure.figsize'] = [20,16]\n",
    "    fig = plt.figure()\n",
    "    \n",
    "    for i in range(len(df.columns)):\n",
    "        ax = fig.add_subplot(3,2,i+1) # 5행5열에서 i+1번째 #ax : 축\n",
    "        plt.hist(df[df.columns[i]],bins = 50)\n",
    "        ax.set_title(df.columns[i])\n",
    "    plt.show()"
   ]
  },
  {
   "cell_type": "code",
   "execution_count": 78,
   "id": "0e17bf96",
   "metadata": {},
   "outputs": [
    {
     "data": {
      "image/png": "[encoded data removed]",
      "text/plain": [
       "<Figure size 1440x1152 with 6 Axes>"
      ]
     },
     "metadata": {},
     "output_type": "display_data"
    }
   ],
   "source": [
    "plot_hist(mos)"
   ]
  },
  {
   "cell_type": "code",
   "execution_count": 15,
   "id": "1b56c17f",
   "metadata": {
    "scrolled": true
   },
   "outputs": [
    {
     "data": {
      "text/plain": [
       "count    1342.000000\n",
       "mean      251.991803\n",
       "std       295.871336\n",
       "min         0.000000\n",
       "25%         5.500000\n",
       "50%        91.900000\n",
       "75%       480.400000\n",
       "max      1000.000000\n",
       "Name: mosquito_Indicator, dtype: float64"
      ]
     },
     "execution_count": 15,
     "metadata": {},
     "output_type": "execute_result"
    }
   ],
   "source": [
    "mos['mosquito_Indicator'].describe()"
   ]
  },
  {
   "cell_type": "markdown",
   "id": "287e132b",
   "metadata": {},
   "source": [
    "## 데이터 전처리"
   ]
  },
  {
   "cell_type": "markdown",
   "id": "2d48ad80",
   "metadata": {},
   "source": [
    "### 중복된 데이터 제거"
   ]
  },
  {
   "cell_type": "code",
   "execution_count": 8,
   "id": "b7f2d27e",
   "metadata": {},
   "outputs": [
    {
     "data": {
      "text/plain": [
       "False"
      ]
     },
     "execution_count": 8,
     "metadata": {},
     "output_type": "execute_result"
    }
   ],
   "source": [
    "mos.date.is_unique"
   ]
  },
  {
   "cell_type": "code",
   "execution_count": 17,
   "id": "884b82eb",
   "metadata": {},
   "outputs": [
    {
     "name": "stdout",
     "output_type": "stream",
     "text": [
      "1342\n",
      "1295\n"
     ]
    }
   ],
   "source": [
    "print(mos.date.count())\n",
    "print(mos.date.nunique())"
   ]
  },
  {
   "cell_type": "markdown",
   "id": "277158ac",
   "metadata": {},
   "source": [
    "https://min23th.tistory.com/45"
   ]
  },
  {
   "cell_type": "code",
   "execution_count": 18,
   "id": "c146eb70",
   "metadata": {},
   "outputs": [],
   "source": [
    "mos = mos.drop_duplicates(subset=['date']) ### 중복된거 지우는거임"
   ]
  },
  {
   "cell_type": "code",
   "execution_count": 19,
   "id": "f6924ab9",
   "metadata": {},
   "outputs": [
    {
     "data": {
      "text/plain": [
       "True"
      ]
     },
     "execution_count": 19,
     "metadata": {},
     "output_type": "execute_result"
    }
   ],
   "source": [
    "mos.date.is_unique  ## True란것은 중복이 없다는 것임"
   ]
  },
  {
   "cell_type": "code",
   "execution_count": 20,
   "id": "8bd4f7ef",
   "metadata": {},
   "outputs": [
    {
     "name": "stdout",
     "output_type": "stream",
     "text": [
      "1295\n",
      "1295\n"
     ]
    }
   ],
   "source": [
    "print(mos.date.count())\n",
    "print(mos.date.nunique())"
   ]
  },
  {
   "cell_type": "code",
   "execution_count": 21,
   "id": "00631734",
   "metadata": {},
   "outputs": [
    {
     "data": {
      "text/plain": [
       "0       2016-05-01\n",
       "1       2016-05-02\n",
       "2       2016-05-03\n",
       "3       2016-05-04\n",
       "4       2016-05-05\n",
       "           ...    \n",
       "1337    2019-12-27\n",
       "1338    2019-12-28\n",
       "1339    2019-12-29\n",
       "1340    2019-12-30\n",
       "1341    2019-12-31\n",
       "Name: date, Length: 1295, dtype: object"
      ]
     },
     "execution_count": 21,
     "metadata": {},
     "output_type": "execute_result"
    }
   ],
   "source": [
    "mos.date"
   ]
  },
  {
   "cell_type": "markdown",
   "id": "97b57685",
   "metadata": {},
   "source": [
    "### 날짜로 데이터타입 변경"
   ]
  },
  {
   "cell_type": "code",
   "execution_count": 22,
   "id": "56e8a3b9",
   "metadata": {},
   "outputs": [],
   "source": [
    "mos['date'] = pd.to_datetime(mos['date'])"
   ]
  },
  {
   "cell_type": "code",
   "execution_count": 23,
   "id": "5b58a228",
   "metadata": {},
   "outputs": [
    {
     "name": "stdout",
     "output_type": "stream",
     "text": [
      "<class 'pandas.core.frame.DataFrame'>\n",
      "Int64Index: 1295 entries, 0 to 1341\n",
      "Data columns (total 6 columns):\n",
      " #   Column              Non-Null Count  Dtype         \n",
      "---  ------              --------------  -----         \n",
      " 0   date                1295 non-null   datetime64[ns]\n",
      " 1   mosquito_Indicator  1295 non-null   float64       \n",
      " 2   rain(mm)            1295 non-null   float64       \n",
      " 3   mean_T(℃)           1295 non-null   float64       \n",
      " 4   min_T(℃)            1295 non-null   float64       \n",
      " 5   max_T(℃)            1295 non-null   float64       \n",
      "dtypes: datetime64[ns](1), float64(5)\n",
      "memory usage: 70.8 KB\n"
     ]
    }
   ],
   "source": [
    "mos.info()"
   ]
  },
  {
   "cell_type": "markdown",
   "id": "5cabec1c",
   "metadata": {},
   "source": [
    "### 스케일링"
   ]
  },
  {
   "cell_type": "code",
   "execution_count": 24,
   "id": "14e633eb",
   "metadata": {},
   "outputs": [],
   "source": [
    "data = mos.drop(['mosquito_Indicator', 'date'],axis = 1)\n",
    "target = mos['mosquito_Indicator']"
   ]
  },
  {
   "cell_type": "code",
   "execution_count": 25,
   "id": "6ec2a82b",
   "metadata": {},
   "outputs": [
    {
     "data": {
      "text/html": [
       "<div>\n",
       "<style scoped>\n",
       "    .dataframe tbody tr th:only-of-type {\n",
       "        vertical-align: middle;\n",
       "    }\n",
       "\n",
       "    .dataframe tbody tr th {\n",
       "        vertical-align: top;\n",
       "    }\n",
       "\n",
       "    .dataframe thead th {\n",
       "        text-align: right;\n",
       "    }\n",
       "</style>\n",
       "<table border=\"1\" class=\"dataframe\">\n",
       "  <thead>\n",
       "    <tr style=\"text-align: right;\">\n",
       "      <th></th>\n",
       "      <th>rain(mm)</th>\n",
       "      <th>mean_T(℃)</th>\n",
       "      <th>min_T(℃)</th>\n",
       "      <th>max_T(℃)</th>\n",
       "    </tr>\n",
       "  </thead>\n",
       "  <tbody>\n",
       "    <tr>\n",
       "      <th>0</th>\n",
       "      <td>0.0</td>\n",
       "      <td>18.8</td>\n",
       "      <td>12.2</td>\n",
       "      <td>26.0</td>\n",
       "    </tr>\n",
       "    <tr>\n",
       "      <th>1</th>\n",
       "      <td>16.5</td>\n",
       "      <td>21.1</td>\n",
       "      <td>16.5</td>\n",
       "      <td>28.4</td>\n",
       "    </tr>\n",
       "    <tr>\n",
       "      <th>2</th>\n",
       "      <td>27.0</td>\n",
       "      <td>12.9</td>\n",
       "      <td>8.9</td>\n",
       "      <td>17.6</td>\n",
       "    </tr>\n",
       "    <tr>\n",
       "      <th>3</th>\n",
       "      <td>0.0</td>\n",
       "      <td>15.7</td>\n",
       "      <td>10.2</td>\n",
       "      <td>20.6</td>\n",
       "    </tr>\n",
       "    <tr>\n",
       "      <th>4</th>\n",
       "      <td>7.5</td>\n",
       "      <td>18.9</td>\n",
       "      <td>10.2</td>\n",
       "      <td>26.9</td>\n",
       "    </tr>\n",
       "    <tr>\n",
       "      <th>...</th>\n",
       "      <td>...</td>\n",
       "      <td>...</td>\n",
       "      <td>...</td>\n",
       "      <td>...</td>\n",
       "    </tr>\n",
       "    <tr>\n",
       "      <th>1337</th>\n",
       "      <td>0.0</td>\n",
       "      <td>-1.7</td>\n",
       "      <td>-4.6</td>\n",
       "      <td>2.6</td>\n",
       "    </tr>\n",
       "    <tr>\n",
       "      <th>1338</th>\n",
       "      <td>0.0</td>\n",
       "      <td>1.1</td>\n",
       "      <td>-3.6</td>\n",
       "      <td>6.1</td>\n",
       "    </tr>\n",
       "    <tr>\n",
       "      <th>1339</th>\n",
       "      <td>1.4</td>\n",
       "      <td>3.8</td>\n",
       "      <td>1.1</td>\n",
       "      <td>6.2</td>\n",
       "    </tr>\n",
       "    <tr>\n",
       "      <th>1340</th>\n",
       "      <td>0.4</td>\n",
       "      <td>2.7</td>\n",
       "      <td>-5.7</td>\n",
       "      <td>6.8</td>\n",
       "    </tr>\n",
       "    <tr>\n",
       "      <th>1341</th>\n",
       "      <td>0.0</td>\n",
       "      <td>-7.9</td>\n",
       "      <td>-10.9</td>\n",
       "      <td>-4.5</td>\n",
       "    </tr>\n",
       "  </tbody>\n",
       "</table>\n",
       "<p>1295 rows × 4 columns</p>\n",
       "</div>"
      ],
      "text/plain": [
       "      rain(mm)  mean_T(℃)  min_T(℃)  max_T(℃)\n",
       "0          0.0       18.8      12.2      26.0\n",
       "1         16.5       21.1      16.5      28.4\n",
       "2         27.0       12.9       8.9      17.6\n",
       "3          0.0       15.7      10.2      20.6\n",
       "4          7.5       18.9      10.2      26.9\n",
       "...        ...        ...       ...       ...\n",
       "1337       0.0       -1.7      -4.6       2.6\n",
       "1338       0.0        1.1      -3.6       6.1\n",
       "1339       1.4        3.8       1.1       6.2\n",
       "1340       0.4        2.7      -5.7       6.8\n",
       "1341       0.0       -7.9     -10.9      -4.5\n",
       "\n",
       "[1295 rows x 4 columns]"
      ]
     },
     "execution_count": 25,
     "metadata": {},
     "output_type": "execute_result"
    }
   ],
   "source": [
    "data"
   ]
  },
  {
   "cell_type": "code",
   "execution_count": 27,
   "id": "5e009c1f",
   "metadata": {},
   "outputs": [
    {
     "data": {
      "text/plain": [
       "0       254.4\n",
       "1       273.5\n",
       "2       304.0\n",
       "3       256.2\n",
       "4       243.8\n",
       "        ...  \n",
       "1337      5.5\n",
       "1338      5.5\n",
       "1339      5.5\n",
       "1340      5.5\n",
       "1341      5.5\n",
       "Name: mosquito_Indicator, Length: 1295, dtype: float64"
      ]
     },
     "execution_count": 27,
     "metadata": {},
     "output_type": "execute_result"
    }
   ],
   "source": [
    "target\n",
    "## !! 인데스 번호 1341와 길이 1295가 다른것은 인덱스번호는 그대로 남아있기때문"
   ]
  },
  {
   "cell_type": "code",
   "execution_count": 28,
   "id": "37512bab",
   "metadata": {},
   "outputs": [],
   "source": [
    "from sklearn.preprocessing import MinMaxScaler\n",
    "sc = MinMaxScaler()\n",
    "scaled = sc.fit_transform(data)"
   ]
  },
  {
   "cell_type": "code",
   "execution_count": 29,
   "id": "d86a7dcc",
   "metadata": {},
   "outputs": [
    {
     "data": {
      "text/plain": [
       "(1295, 4)"
      ]
     },
     "execution_count": 29,
     "metadata": {},
     "output_type": "execute_result"
    }
   ],
   "source": [
    "scaled.shape"
   ]
  },
  {
   "cell_type": "code",
   "execution_count": 26,
   "id": "ed8b08ee",
   "metadata": {},
   "outputs": [],
   "source": [
    "# # '월' 만 분리 !! 나중에 다시 확인\n",
    "# mos['date_m'] = mos['date'].dt.strftime('%m')\n",
    "# mos.head()"
   ]
  },
  {
   "cell_type": "markdown",
   "id": "a042d3fe",
   "metadata": {},
   "source": [
    "### train, test 나누기"
   ]
  },
  {
   "cell_type": "code",
   "execution_count": 30,
   "id": "44cf96e7",
   "metadata": {},
   "outputs": [],
   "source": [
    "from sklearn.model_selection import train_test_split\n",
    "X_train, X_test, y_train, y_test = train_test_split(scaled, target, test_size = 0.2, random_state = 1121)"
   ]
  },
  {
   "cell_type": "markdown",
   "id": "082a8201",
   "metadata": {},
   "source": [
    "# 회귀분석"
   ]
  },
  {
   "cell_type": "markdown",
   "id": "be7d0331",
   "metadata": {},
   "source": [
    "## LinearRegression 알고리즘"
   ]
  },
  {
   "cell_type": "code",
   "execution_count": 31,
   "id": "7603f334",
   "metadata": {},
   "outputs": [],
   "source": [
    "from sklearn.linear_model import LinearRegression\n",
    "lr = LinearRegression()"
   ]
  },
  {
   "cell_type": "code",
   "execution_count": 32,
   "id": "99b09142",
   "metadata": {},
   "outputs": [],
   "source": [
    "lr.fit(X_train, y_train)\n",
    "pred = lr.predict(X_test)         "
   ]
  },
  {
   "cell_type": "code",
   "execution_count": 30,
   "id": "9da822bc",
   "metadata": {},
   "outputs": [],
   "source": [
    "## !! 책323 metrics.mean_absolute, metrics.mean_squared_error, metrics.r2_score"
   ]
  },
  {
   "cell_type": "code",
   "execution_count": 33,
   "id": "3305ec19",
   "metadata": {},
   "outputs": [
    {
     "name": "stdout",
     "output_type": "stream",
     "text": [
      "MAE: 152.494, MSE:  39084.151, RMSE:  197.697, R2:0.545\n"
     ]
    }
   ],
   "source": [
    "from sklearn.metrics import mean_absolute_error, mean_squared_error, r2_score\n",
    "\n",
    "mae = mean_absolute_error(y_test, pred)\n",
    "mse = mean_squared_error(y_test, pred)\n",
    "rmse = np.sqrt(mse)\n",
    "r2 = r2_score(y_test, pred)\n",
    "\n",
    "print('MAE: {0:.3f}, MSE: {1: .3f}, RMSE: {2: .3f}, R2:{3:.3f}'.format(mae, mse, rmse, r2))"
   ]
  },
  {
   "cell_type": "code",
   "execution_count": 34,
   "id": "1401d32b",
   "metadata": {},
   "outputs": [
    {
     "name": "stdout",
     "output_type": "stream",
     "text": [
      "0.561818520440136\n",
      "0.5453776460188773\n"
     ]
    }
   ],
   "source": [
    "print(lr.score(X_train,y_train))\n",
    "print(lr.score(X_test, y_test))"
   ]
  },
  {
   "cell_type": "markdown",
   "id": "413b4875",
   "metadata": {},
   "source": [
    "## 다항회귀"
   ]
  },
  {
   "cell_type": "markdown",
   "id": "afb378fe",
   "metadata": {},
   "source": [
    "### 사이킷런 변환기_3차"
   ]
  },
  {
   "cell_type": "code",
   "execution_count": 35,
   "id": "c9f0585d",
   "metadata": {},
   "outputs": [
    {
     "data": {
      "text/plain": [
       "['x0',\n",
       " 'x1',\n",
       " 'x2',\n",
       " 'x3',\n",
       " 'x0^2',\n",
       " 'x0 x1',\n",
       " 'x0 x2',\n",
       " 'x0 x3',\n",
       " 'x1^2',\n",
       " 'x1 x2',\n",
       " 'x1 x3',\n",
       " 'x2^2',\n",
       " 'x2 x3',\n",
       " 'x3^2',\n",
       " 'x0^3',\n",
       " 'x0^2 x1',\n",
       " 'x0^2 x2',\n",
       " 'x0^2 x3',\n",
       " 'x0 x1^2',\n",
       " 'x0 x1 x2',\n",
       " 'x0 x1 x3',\n",
       " 'x0 x2^2',\n",
       " 'x0 x2 x3',\n",
       " 'x0 x3^2',\n",
       " 'x1^3',\n",
       " 'x1^2 x2',\n",
       " 'x1^2 x3',\n",
       " 'x1 x2^2',\n",
       " 'x1 x2 x3',\n",
       " 'x1 x3^2',\n",
       " 'x2^3',\n",
       " 'x2^2 x3',\n",
       " 'x2 x3^2',\n",
       " 'x3^3']"
      ]
     },
     "execution_count": 35,
     "metadata": {},
     "output_type": "execute_result"
    }
   ],
   "source": [
    "from sklearn.preprocessing import PolynomialFeatures\n",
    "poly = PolynomialFeatures(degree=3 , include_bias = False) # 절편 개수(1을 제거)\n",
    "\n",
    "#poly.fit(X_train)\n",
    "train_poly = poly.fit_transform(X_train)\n",
    "test_poly = poly.transform(X_test)\n",
    "\n",
    "poly.get_feature_names()"
   ]
  },
  {
   "cell_type": "code",
   "execution_count": 36,
   "id": "5dff5eb2",
   "metadata": {},
   "outputs": [
    {
     "name": "stdout",
     "output_type": "stream",
     "text": [
      "0.6412912318596309\n",
      "-2.158969368778374\n"
     ]
    }
   ],
   "source": [
    "lr.fit(train_poly,y_train)\n",
    "pred = lr.predict(test_poly)\n",
    "print(lr.score(train_poly, y_train))\n",
    "print(lr.score(test_poly, y_test))"
   ]
  },
  {
   "cell_type": "code",
   "execution_count": 37,
   "id": "674a9fd4",
   "metadata": {},
   "outputs": [
    {
     "name": "stdout",
     "output_type": "stream",
     "text": [
      "(1036, 4)\n",
      "(1036, 1)\n"
     ]
    }
   ],
   "source": [
    "print(X_train.shape)\n",
    "y_train = np.array(y_train).reshape(-1,1) # 2차원으로 차원 변경\n",
    "print(y_train.shape)"
   ]
  },
  {
   "cell_type": "markdown",
   "id": "951a38de",
   "metadata": {},
   "source": [
    "### 사이킷런 변환기_2차"
   ]
  },
  {
   "cell_type": "code",
   "execution_count": 38,
   "id": "61b65117",
   "metadata": {},
   "outputs": [
    {
     "data": {
      "text/plain": [
       "['x0',\n",
       " 'x1',\n",
       " 'x2',\n",
       " 'x3',\n",
       " 'x0^2',\n",
       " 'x0 x1',\n",
       " 'x0 x2',\n",
       " 'x0 x3',\n",
       " 'x1^2',\n",
       " 'x1 x2',\n",
       " 'x1 x3',\n",
       " 'x2^2',\n",
       " 'x2 x3',\n",
       " 'x3^2']"
      ]
     },
     "execution_count": 38,
     "metadata": {},
     "output_type": "execute_result"
    }
   ],
   "source": [
    "from sklearn.preprocessing import PolynomialFeatures\n",
    "\n",
    "poly = PolynomialFeatures(degree= 2, include_bias = False) # 절편 개수(1을 제거)\n",
    "\n",
    "#poly.fit(X_train)\n",
    "train_poly = poly.fit_transform(X_train)\n",
    "test_poly = poly.transform(X_test)\n",
    "\n",
    "poly.get_feature_names()"
   ]
  },
  {
   "cell_type": "markdown",
   "id": "29059b07",
   "metadata": {},
   "source": [
    "### 다중회귀_2차"
   ]
  },
  {
   "cell_type": "code",
   "execution_count": 39,
   "id": "b2a38baf",
   "metadata": {},
   "outputs": [
    {
     "name": "stdout",
     "output_type": "stream",
     "text": [
      "0.6013579279220858\n",
      "0.4889815298922211\n"
     ]
    }
   ],
   "source": [
    "lr.fit(train_poly,y_train)\n",
    "pred = lr.predict(test_poly)\n",
    "print(lr.score(train_poly, y_train))\n",
    "print(lr.score(test_poly, y_test))"
   ]
  },
  {
   "cell_type": "markdown",
   "id": "d61a7f0b",
   "metadata": {},
   "source": [
    "### 릿지 규제\n",
    "- 릿지 회귀(Ridge Regression) 모델 : 계수를 제곱한 값을 기준으로 규제 적용"
   ]
  },
  {
   "cell_type": "code",
   "execution_count": 40,
   "id": "7bb47546",
   "metadata": {},
   "outputs": [],
   "source": [
    "from sklearn.linear_model import Ridge, Lasso\n",
    "# 훈련세트와 테스트세트의 정수가 가장 가까운 지점이 최적의 alpha 값이 된다\n",
    "train_score = []\n",
    "test_score = []\n",
    "\n",
    "alpha_list = [0.001, 0.01, 0.1, 1, 10, 100]\n",
    "for alpha in alpha_list:\n",
    "    #릿지모델\n",
    "    ridge = Ridge(alpha = alpha)\n",
    "    #릿지모델 훈련\n",
    "    ridge.fit(X_train, y_train)\n",
    "    train_score.append(ridge.score(X_train, y_train))\n",
    "    test_score.append(ridge.score(X_test,y_test))"
   ]
  },
  {
   "cell_type": "code",
   "execution_count": 41,
   "id": "c975f40c",
   "metadata": {},
   "outputs": [],
   "source": [
    "# print(train_score)\n",
    "# print(test_score)\n",
    "# !!나중에 삭제하기"
   ]
  },
  {
   "cell_type": "code",
   "execution_count": 42,
   "id": "469eca37",
   "metadata": {},
   "outputs": [
    {
     "data": {
      "image/png": "[encoded data removed]",
      "text/plain": [
       "<Figure size 720x720 with 1 Axes>"
      ]
     },
     "metadata": {},
     "output_type": "display_data"
    }
   ],
   "source": [
    "# 시각화\n",
    "plt.figure(figsize=(10,10))\n",
    "plt.plot(np.log10(alpha_list), train_score) # 로그로 안 보면 크기가 너무 크다.\n",
    "plt.plot(np.log10(alpha_list), test_score)\n",
    "plt.xlabel('alpha')\n",
    "plt.ylabel('score')\n",
    "plt.show()"
   ]
  },
  {
   "cell_type": "markdown",
   "id": "b55ca64c",
   "metadata": {},
   "source": [
    "- 확률일 높은 것 중에 폭이 가장 좁은게 -1(0.1)과 0(1)/ 점수는 낮지만 폭이 좁은건 1(10)"
   ]
  },
  {
   "cell_type": "code",
   "execution_count": 43,
   "id": "77da1d16",
   "metadata": {},
   "outputs": [
    {
     "name": "stdout",
     "output_type": "stream",
     "text": [
      "0.5417508701720717\n",
      "0.5336737589918069\n"
     ]
    }
   ],
   "source": [
    "# alpha가 10(1)\n",
    "ridge = Ridge(alpha = 10)\n",
    "ridge.fit(X_train,y_train)\n",
    "print(ridge.score(X_train,y_train))\n",
    "print(ridge.score(X_test,y_test))"
   ]
  },
  {
   "cell_type": "code",
   "execution_count": 44,
   "id": "298c7efa",
   "metadata": {},
   "outputs": [
    {
     "name": "stdout",
     "output_type": "stream",
     "text": [
      "0.5584720652391784\n",
      "0.5453594913007357\n"
     ]
    }
   ],
   "source": [
    "# alpha가 1\n",
    "ridge = Ridge(alpha = 1)\n",
    "ridge.fit(X_train,y_train)\n",
    "print(ridge.score(X_train,y_train))\n",
    "print(ridge.score(X_test,y_test))"
   ]
  },
  {
   "cell_type": "code",
   "execution_count": 45,
   "id": "344f0fc0",
   "metadata": {},
   "outputs": [
    {
     "name": "stdout",
     "output_type": "stream",
     "text": [
      "0.5617292087395449\n",
      "0.5456175742772317\n"
     ]
    }
   ],
   "source": [
    "# alpha가 -1\n",
    "ridge = Ridge(alpha = 0.1)\n",
    "ridge.fit(X_train,y_train)\n",
    "print(ridge.score(X_train,y_train))\n",
    "print(ridge.score(X_test,y_test))"
   ]
  },
  {
   "cell_type": "markdown",
   "id": "f0b4ca41",
   "metadata": {},
   "source": [
    "- 알파값이 0.1(-1)일때가 예측값이 높고, 과대적합이 가장 최소화 되는 구간? !!"
   ]
  },
  {
   "cell_type": "markdown",
   "id": "ec57b0e9",
   "metadata": {},
   "source": [
    "### 라쏘규제"
   ]
  },
  {
   "cell_type": "code",
   "execution_count": 46,
   "id": "ef46acd8",
   "metadata": {},
   "outputs": [
    {
     "name": "stdout",
     "output_type": "stream",
     "text": [
      "0.555959291121928\n",
      "0.5419116036324951\n"
     ]
    }
   ],
   "source": [
    "lasso = Lasso()\n",
    "\n",
    "lasso.fit(X_train, y_train)\n",
    "print(lasso.score(X_train,y_train))\n",
    "print(lasso.score(X_test,y_test))"
   ]
  },
  {
   "cell_type": "code",
   "execution_count": 47,
   "id": "f57b4e63",
   "metadata": {},
   "outputs": [],
   "source": [
    "train_score = []\n",
    "test_score = []\n",
    "\n",
    "alpha_list = [0.001, 0.01, 0.1, 1, 10, 100]\n",
    "for alpha in alpha_list:\n",
    "    #라쏘모델\n",
    "    lasso = Lasso(alpha = alpha)\n",
    "    #릿지모델 훈련\n",
    "    lasso.fit(X_train, y_train)\n",
    "    #결정계수(R2 score)\n",
    "    train_score.append(lasso.score(X_train,y_train))\n",
    "    test_score.append(lasso.score(X_test,y_test))"
   ]
  },
  {
   "cell_type": "code",
   "execution_count": 48,
   "id": "9d075364",
   "metadata": {},
   "outputs": [
    {
     "data": {
      "image/png": "[encoded data removed]",
      "text/plain": [
       "<Figure size 720x720 with 1 Axes>"
      ]
     },
     "metadata": {},
     "output_type": "display_data"
    }
   ],
   "source": [
    "# 시각화\n",
    "plt.figure(figsize=(10,10))\n",
    "plt.plot(np.log10(alpha_list), train_score) # 로그로 안 보면 크기가 너무 크다.\n",
    "plt.plot(np.log10(alpha_list), test_score)\n",
    "plt.xlabel('alpha')\n",
    "plt.ylabel('score')\n",
    "plt.show()"
   ]
  },
  {
   "cell_type": "markdown",
   "id": "b41c8469",
   "metadata": {},
   "source": [
    "- 시각화로 봤을 때 -1(0.1), 0(1), 1(10) 넣어보기"
   ]
  },
  {
   "cell_type": "code",
   "execution_count": 49,
   "id": "a1fe7d9e",
   "metadata": {},
   "outputs": [
    {
     "name": "stdout",
     "output_type": "stream",
     "text": [
      "0.5614372438900941\n",
      "0.5437997463207276\n"
     ]
    }
   ],
   "source": [
    "# 알파값 0.1\n",
    "lasso = Lasso(alpha = 0.1)\n",
    "lasso.fit(X_train,y_train)\n",
    "print(lasso.score(X_train,y_train))\n",
    "print(lasso.score(X_test,y_test))"
   ]
  },
  {
   "cell_type": "code",
   "execution_count": 50,
   "id": "adcd0609",
   "metadata": {},
   "outputs": [
    {
     "name": "stdout",
     "output_type": "stream",
     "text": [
      "0.555959291121928\n",
      "0.5419116036324951\n"
     ]
    }
   ],
   "source": [
    "# 알파값 1\n",
    "lasso = Lasso(alpha = 1)\n",
    "lasso.fit(X_train,y_train)\n",
    "print(lasso.score(X_train,y_train))\n",
    "print(lasso.score(X_test,y_test))"
   ]
  },
  {
   "cell_type": "code",
   "execution_count": 51,
   "id": "8eda7781",
   "metadata": {},
   "outputs": [
    {
     "name": "stdout",
     "output_type": "stream",
     "text": [
      "0.5332946185403951\n",
      "0.5242197770735639\n"
     ]
    }
   ],
   "source": [
    "# 알파값 10\n",
    "lasso = Lasso(alpha = 10)\n",
    "lasso.fit(X_train,y_train)\n",
    "print(lasso.score(X_train,y_train))\n",
    "print(lasso.score(X_test,y_test))"
   ]
  },
  {
   "cell_type": "markdown",
   "id": "2fb8f351",
   "metadata": {},
   "source": [
    "- 릿지가 조금더 좋은 결과값이 나옴\n",
    "-1 <br>\n",
    "0.568638174457321<br>\n",
    "0.553378946756842<br>\n",
    "<br>\n",
    "0.1<br>\n",
    "0.5678192530074133<br>\n",
    "0.5529708289748807<br>"
   ]
  },
  {
   "cell_type": "markdown",
   "id": "a660e64d",
   "metadata": {},
   "source": [
    "# 시계열 분석"
   ]
  },
  {
   "cell_type": "markdown",
   "id": "9757c0c2",
   "metadata": {},
   "source": [
    "## 예측"
   ]
  },
  {
   "cell_type": "markdown",
   "id": "a0a821b5",
   "metadata": {},
   "source": [
    "## 분류"
   ]
  },
  {
   "cell_type": "markdown",
   "id": "0cb1dabc",
   "metadata": {},
   "source": [
    "## 회귀"
   ]
  },
  {
   "cell_type": "markdown",
   "id": "e782312e",
   "metadata": {},
   "source": [
    "### 모듈 불러오기"
   ]
  },
  {
   "cell_type": "code",
   "execution_count": 52,
   "id": "643e2230",
   "metadata": {},
   "outputs": [],
   "source": [
    "import warnings\n",
    "\n",
    "import numpy as np\n",
    "import pandas as pd\n",
    "\n",
    "# hide warnings\n",
    "warnings.filterwarnings(\"ignore\")"
   ]
  },
  {
   "cell_type": "code",
   "execution_count": 53,
   "id": "8e9bb947",
   "metadata": {},
   "outputs": [],
   "source": [
    "#_centered 이게 미리 설치 되어 있어서 충돌이 일어나 모듈 import가 안되서 함수로 따로 만듬\n",
    "import  scipy.signal.signaltools\n",
    "\n",
    "def _centered(arr, newsize):\n",
    "    # Return the center newsize portion of the array.\n",
    "    newsize = np.asarray(newsize)\n",
    "    currsize = np.array(arr.shape)\n",
    "    startind = (currsize - newsize) // 2\n",
    "    endind = startind + newsize\n",
    "    myslice = [slice(startind[k], endind[k]) for k in range(len(endind))]\n",
    "    return arr[tuple(myslice)]\n",
    "\n",
    "scipy.signal.signaltools._centered = _centered"
   ]
  },
  {
   "cell_type": "code",
   "execution_count": 75,
   "id": "55c1f4c4",
   "metadata": {},
   "outputs": [
    {
     "data": {
      "text/plain": [
       "array([[0.        , 0.69278351, 0.62370062, 0.72962227],\n",
       "       [0.11418685, 0.74020619, 0.71309771, 0.77733598],\n",
       "       [0.18685121, 0.57113402, 0.55509356, 0.56262425],\n",
       "       ...,\n",
       "       [0.00968858, 0.38350515, 0.39293139, 0.3359841 ],\n",
       "       [0.00276817, 0.36082474, 0.25155925, 0.34791252],\n",
       "       [0.        , 0.14226804, 0.14345114, 0.12326044]])"
      ]
     },
     "execution_count": 75,
     "metadata": {},
     "output_type": "execute_result"
    }
   ],
   "source": [
    "scaled"
   ]
  },
  {
   "cell_type": "code",
   "execution_count": 78,
   "id": "4c2b83a7",
   "metadata": {},
   "outputs": [
    {
     "data": {
      "text/html": [
       "<div>\n",
       "<style scoped>\n",
       "    .dataframe tbody tr th:only-of-type {\n",
       "        vertical-align: middle;\n",
       "    }\n",
       "\n",
       "    .dataframe tbody tr th {\n",
       "        vertical-align: top;\n",
       "    }\n",
       "\n",
       "    .dataframe thead th {\n",
       "        text-align: right;\n",
       "    }\n",
       "</style>\n",
       "<table border=\"1\" class=\"dataframe\">\n",
       "  <thead>\n",
       "    <tr style=\"text-align: right;\">\n",
       "      <th></th>\n",
       "      <th>date</th>\n",
       "      <th>mosquito_Indicator</th>\n",
       "      <th>rain(mm)</th>\n",
       "      <th>mean_T(℃)</th>\n",
       "      <th>min_T(℃)</th>\n",
       "      <th>max_T(℃)</th>\n",
       "    </tr>\n",
       "  </thead>\n",
       "  <tbody>\n",
       "    <tr>\n",
       "      <th>405</th>\n",
       "      <td>2017-06-11</td>\n",
       "      <td>422.0</td>\n",
       "      <td>0.0</td>\n",
       "      <td>22.8</td>\n",
       "      <td>14.8</td>\n",
       "      <td>29.6</td>\n",
       "    </tr>\n",
       "  </tbody>\n",
       "</table>\n",
       "</div>"
      ],
      "text/plain": [
       "          date  mosquito_Indicator  rain(mm)  mean_T(℃)  min_T(℃)  max_T(℃)\n",
       "405 2017-06-11               422.0       0.0       22.8      14.8      29.6"
      ]
     },
     "execution_count": 78,
     "metadata": {},
     "output_type": "execute_result"
    }
   ],
   "source": [
    "mos[mos['date'] == '2017-06-11']"
   ]
  },
  {
   "cell_type": "code",
   "execution_count": 63,
   "id": "9bac0b5b",
   "metadata": {},
   "outputs": [
    {
     "data": {
      "text/plain": [
       "Index(['rain(mm)', 'mean_T(℃)', 'min_T(℃)', 'max_T(℃)'], dtype='object')"
      ]
     },
     "execution_count": 63,
     "metadata": {},
     "output_type": "execute_result"
    }
   ],
   "source": [
    "data.columns"
   ]
  },
  {
   "cell_type": "code",
   "execution_count": 72,
   "id": "3721149f",
   "metadata": {},
   "outputs": [],
   "source": [
    "mos_scaled = pd.DataFrame(scaled, columns=data.columns)"
   ]
  },
  {
   "cell_type": "code",
   "execution_count": 73,
   "id": "51452f00",
   "metadata": {},
   "outputs": [],
   "source": [
    "mos_scaled['date'] = mos.date"
   ]
  },
  {
   "cell_type": "code",
   "execution_count": 74,
   "id": "be3f89a2",
   "metadata": {},
   "outputs": [
    {
     "data": {
      "text/html": [
       "<div>\n",
       "<style scoped>\n",
       "    .dataframe tbody tr th:only-of-type {\n",
       "        vertical-align: middle;\n",
       "    }\n",
       "\n",
       "    .dataframe tbody tr th {\n",
       "        vertical-align: top;\n",
       "    }\n",
       "\n",
       "    .dataframe thead th {\n",
       "        text-align: right;\n",
       "    }\n",
       "</style>\n",
       "<table border=\"1\" class=\"dataframe\">\n",
       "  <thead>\n",
       "    <tr style=\"text-align: right;\">\n",
       "      <th></th>\n",
       "      <th>rain(mm)</th>\n",
       "      <th>mean_T(℃)</th>\n",
       "      <th>min_T(℃)</th>\n",
       "      <th>max_T(℃)</th>\n",
       "      <th>date</th>\n",
       "    </tr>\n",
       "  </thead>\n",
       "  <tbody>\n",
       "    <tr>\n",
       "      <th>0</th>\n",
       "      <td>0.000000</td>\n",
       "      <td>0.692784</td>\n",
       "      <td>0.623701</td>\n",
       "      <td>0.729622</td>\n",
       "      <td>2016-05-01</td>\n",
       "    </tr>\n",
       "    <tr>\n",
       "      <th>1</th>\n",
       "      <td>0.114187</td>\n",
       "      <td>0.740206</td>\n",
       "      <td>0.713098</td>\n",
       "      <td>0.777336</td>\n",
       "      <td>2016-05-02</td>\n",
       "    </tr>\n",
       "    <tr>\n",
       "      <th>2</th>\n",
       "      <td>0.186851</td>\n",
       "      <td>0.571134</td>\n",
       "      <td>0.555094</td>\n",
       "      <td>0.562624</td>\n",
       "      <td>2016-05-03</td>\n",
       "    </tr>\n",
       "    <tr>\n",
       "      <th>3</th>\n",
       "      <td>0.000000</td>\n",
       "      <td>0.628866</td>\n",
       "      <td>0.582121</td>\n",
       "      <td>0.622266</td>\n",
       "      <td>2016-05-04</td>\n",
       "    </tr>\n",
       "    <tr>\n",
       "      <th>4</th>\n",
       "      <td>0.051903</td>\n",
       "      <td>0.694845</td>\n",
       "      <td>0.582121</td>\n",
       "      <td>0.747515</td>\n",
       "      <td>2016-05-05</td>\n",
       "    </tr>\n",
       "    <tr>\n",
       "      <th>...</th>\n",
       "      <td>...</td>\n",
       "      <td>...</td>\n",
       "      <td>...</td>\n",
       "      <td>...</td>\n",
       "      <td>...</td>\n",
       "    </tr>\n",
       "    <tr>\n",
       "      <th>1290</th>\n",
       "      <td>0.000000</td>\n",
       "      <td>0.270103</td>\n",
       "      <td>0.274428</td>\n",
       "      <td>0.264414</td>\n",
       "      <td>2019-11-13</td>\n",
       "    </tr>\n",
       "    <tr>\n",
       "      <th>1291</th>\n",
       "      <td>0.000000</td>\n",
       "      <td>0.327835</td>\n",
       "      <td>0.295218</td>\n",
       "      <td>0.333996</td>\n",
       "      <td>2019-11-14</td>\n",
       "    </tr>\n",
       "    <tr>\n",
       "      <th>1292</th>\n",
       "      <td>0.009689</td>\n",
       "      <td>0.383505</td>\n",
       "      <td>0.392931</td>\n",
       "      <td>0.335984</td>\n",
       "      <td>2019-11-15</td>\n",
       "    </tr>\n",
       "    <tr>\n",
       "      <th>1293</th>\n",
       "      <td>0.002768</td>\n",
       "      <td>0.360825</td>\n",
       "      <td>0.251559</td>\n",
       "      <td>0.347913</td>\n",
       "      <td>2019-11-16</td>\n",
       "    </tr>\n",
       "    <tr>\n",
       "      <th>1294</th>\n",
       "      <td>0.000000</td>\n",
       "      <td>0.142268</td>\n",
       "      <td>0.143451</td>\n",
       "      <td>0.123260</td>\n",
       "      <td>2019-11-17</td>\n",
       "    </tr>\n",
       "  </tbody>\n",
       "</table>\n",
       "<p>1295 rows × 5 columns</p>\n",
       "</div>"
      ],
      "text/plain": [
       "      rain(mm)  mean_T(℃)  min_T(℃)  max_T(℃)       date\n",
       "0     0.000000   0.692784  0.623701  0.729622 2016-05-01\n",
       "1     0.114187   0.740206  0.713098  0.777336 2016-05-02\n",
       "2     0.186851   0.571134  0.555094  0.562624 2016-05-03\n",
       "3     0.000000   0.628866  0.582121  0.622266 2016-05-04\n",
       "4     0.051903   0.694845  0.582121  0.747515 2016-05-05\n",
       "...        ...        ...       ...       ...        ...\n",
       "1290  0.000000   0.270103  0.274428  0.264414 2019-11-13\n",
       "1291  0.000000   0.327835  0.295218  0.333996 2019-11-14\n",
       "1292  0.009689   0.383505  0.392931  0.335984 2019-11-15\n",
       "1293  0.002768   0.360825  0.251559  0.347913 2019-11-16\n",
       "1294  0.000000   0.142268  0.143451  0.123260 2019-11-17\n",
       "\n",
       "[1295 rows x 5 columns]"
      ]
     },
     "execution_count": 74,
     "metadata": {},
     "output_type": "execute_result"
    }
   ],
   "source": [
    "mos_scaled"
   ]
  },
  {
   "cell_type": "code",
   "execution_count": 90,
   "id": "0f96e033",
   "metadata": {},
   "outputs": [],
   "source": [
    "mos_scaled = pd.DataFrame(scaled, columns=data.columns)"
   ]
  },
  {
   "cell_type": "code",
   "execution_count": 88,
   "id": "bc44d5be",
   "metadata": {},
   "outputs": [],
   "source": [
    "mos_scaled['date'] = mos.date"
   ]
  },
  {
   "cell_type": "code",
   "execution_count": 93,
   "id": "3fc3dca5",
   "metadata": {},
   "outputs": [
    {
     "ename": "ValueError",
     "evalue": "No engine for filetype: 'excel'",
     "output_type": "error",
     "traceback": [
      "\u001b[1;31m---------------------------------------------------------------------------\u001b[0m",
      "\u001b[1;31mOptionError\u001b[0m                               Traceback (most recent call last)",
      "\u001b[1;32mC:\\Anaconda3\\lib\\site-packages\\pandas\\io\\excel\\_base.py\u001b[0m in \u001b[0;36m__new__\u001b[1;34m(cls, path, engine, date_format, datetime_format, mode, storage_options, if_sheet_exists, engine_kwargs, **kwargs)\u001b[0m\n\u001b[0;32m   1143\u001b[0m                 \u001b[1;32mtry\u001b[0m\u001b[1;33m:\u001b[0m\u001b[1;33m\u001b[0m\u001b[1;33m\u001b[0m\u001b[0m\n\u001b[1;32m-> 1144\u001b[1;33m                     \u001b[0mengine\u001b[0m \u001b[1;33m=\u001b[0m \u001b[0mconfig\u001b[0m\u001b[1;33m.\u001b[0m\u001b[0mget_option\u001b[0m\u001b[1;33m(\u001b[0m\u001b[1;34mf\"io.excel.{ext}.writer\"\u001b[0m\u001b[1;33m,\u001b[0m \u001b[0msilent\u001b[0m\u001b[1;33m=\u001b[0m\u001b[1;32mTrue\u001b[0m\u001b[1;33m)\u001b[0m\u001b[1;33m\u001b[0m\u001b[1;33m\u001b[0m\u001b[0m\n\u001b[0m\u001b[0;32m   1145\u001b[0m                     \u001b[1;32mif\u001b[0m \u001b[0mengine\u001b[0m \u001b[1;33m==\u001b[0m \u001b[1;34m\"auto\"\u001b[0m\u001b[1;33m:\u001b[0m\u001b[1;33m\u001b[0m\u001b[1;33m\u001b[0m\u001b[0m\n",
      "\u001b[1;32mC:\\Anaconda3\\lib\\site-packages\\pandas\\_config\\config.py\u001b[0m in \u001b[0;36m__call__\u001b[1;34m(self, *args, **kwds)\u001b[0m\n\u001b[0;32m    262\u001b[0m     \u001b[1;32mdef\u001b[0m \u001b[0m__call__\u001b[0m\u001b[1;33m(\u001b[0m\u001b[0mself\u001b[0m\u001b[1;33m,\u001b[0m \u001b[1;33m*\u001b[0m\u001b[0margs\u001b[0m\u001b[1;33m,\u001b[0m \u001b[1;33m**\u001b[0m\u001b[0mkwds\u001b[0m\u001b[1;33m)\u001b[0m \u001b[1;33m->\u001b[0m \u001b[0mT\u001b[0m\u001b[1;33m:\u001b[0m\u001b[1;33m\u001b[0m\u001b[1;33m\u001b[0m\u001b[0m\n\u001b[1;32m--> 263\u001b[1;33m         \u001b[1;32mreturn\u001b[0m \u001b[0mself\u001b[0m\u001b[1;33m.\u001b[0m\u001b[0m__func__\u001b[0m\u001b[1;33m(\u001b[0m\u001b[1;33m*\u001b[0m\u001b[0margs\u001b[0m\u001b[1;33m,\u001b[0m \u001b[1;33m**\u001b[0m\u001b[0mkwds\u001b[0m\u001b[1;33m)\u001b[0m\u001b[1;33m\u001b[0m\u001b[1;33m\u001b[0m\u001b[0m\n\u001b[0m\u001b[0;32m    264\u001b[0m \u001b[1;33m\u001b[0m\u001b[0m\n",
      "\u001b[1;32mC:\\Anaconda3\\lib\\site-packages\\pandas\\_config\\config.py\u001b[0m in \u001b[0;36m_get_option\u001b[1;34m(pat, silent)\u001b[0m\n\u001b[0;32m    134\u001b[0m \u001b[1;32mdef\u001b[0m \u001b[0m_get_option\u001b[0m\u001b[1;33m(\u001b[0m\u001b[0mpat\u001b[0m\u001b[1;33m:\u001b[0m \u001b[0mstr\u001b[0m\u001b[1;33m,\u001b[0m \u001b[0msilent\u001b[0m\u001b[1;33m:\u001b[0m \u001b[0mbool\u001b[0m \u001b[1;33m=\u001b[0m \u001b[1;32mFalse\u001b[0m\u001b[1;33m)\u001b[0m \u001b[1;33m->\u001b[0m \u001b[0mAny\u001b[0m\u001b[1;33m:\u001b[0m\u001b[1;33m\u001b[0m\u001b[1;33m\u001b[0m\u001b[0m\n\u001b[1;32m--> 135\u001b[1;33m     \u001b[0mkey\u001b[0m \u001b[1;33m=\u001b[0m \u001b[0m_get_single_key\u001b[0m\u001b[1;33m(\u001b[0m\u001b[0mpat\u001b[0m\u001b[1;33m,\u001b[0m \u001b[0msilent\u001b[0m\u001b[1;33m)\u001b[0m\u001b[1;33m\u001b[0m\u001b[1;33m\u001b[0m\u001b[0m\n\u001b[0m\u001b[0;32m    136\u001b[0m \u001b[1;33m\u001b[0m\u001b[0m\n",
      "\u001b[1;32mC:\\Anaconda3\\lib\\site-packages\\pandas\\_config\\config.py\u001b[0m in \u001b[0;36m_get_single_key\u001b[1;34m(pat, silent)\u001b[0m\n\u001b[0;32m    120\u001b[0m             \u001b[0m_warn_if_deprecated\u001b[0m\u001b[1;33m(\u001b[0m\u001b[0mpat\u001b[0m\u001b[1;33m)\u001b[0m\u001b[1;33m\u001b[0m\u001b[1;33m\u001b[0m\u001b[0m\n\u001b[1;32m--> 121\u001b[1;33m         \u001b[1;32mraise\u001b[0m \u001b[0mOptionError\u001b[0m\u001b[1;33m(\u001b[0m\u001b[1;34mf\"No such keys(s): {repr(pat)}\"\u001b[0m\u001b[1;33m)\u001b[0m\u001b[1;33m\u001b[0m\u001b[1;33m\u001b[0m\u001b[0m\n\u001b[0m\u001b[0;32m    122\u001b[0m     \u001b[1;32mif\u001b[0m \u001b[0mlen\u001b[0m\u001b[1;33m(\u001b[0m\u001b[0mkeys\u001b[0m\u001b[1;33m)\u001b[0m \u001b[1;33m>\u001b[0m \u001b[1;36m1\u001b[0m\u001b[1;33m:\u001b[0m\u001b[1;33m\u001b[0m\u001b[1;33m\u001b[0m\u001b[0m\n",
      "\u001b[1;31mOptionError\u001b[0m: \"No such keys(s): 'io.excel.excel.writer'\"",
      "\nThe above exception was the direct cause of the following exception:\n",
      "\u001b[1;31mValueError\u001b[0m                                Traceback (most recent call last)",
      "\u001b[1;32m~\\AppData\\Local\\Temp/ipykernel_11900/3230410742.py\u001b[0m in \u001b[0;36m<module>\u001b[1;34m\u001b[0m\n\u001b[1;32m----> 1\u001b[1;33m \u001b[0mmos_scaled\u001b[0m\u001b[1;33m.\u001b[0m\u001b[0mto_excel\u001b[0m\u001b[1;33m(\u001b[0m\u001b[1;34m'mos_test.excel'\u001b[0m\u001b[1;33m)\u001b[0m\u001b[1;33m\u001b[0m\u001b[1;33m\u001b[0m\u001b[0m\n\u001b[0m",
      "\u001b[1;32mC:\\Anaconda3\\lib\\site-packages\\pandas\\util\\_decorators.py\u001b[0m in \u001b[0;36mwrapper\u001b[1;34m(*args, **kwargs)\u001b[0m\n\u001b[0;32m    209\u001b[0m                 \u001b[1;32melse\u001b[0m\u001b[1;33m:\u001b[0m\u001b[1;33m\u001b[0m\u001b[1;33m\u001b[0m\u001b[0m\n\u001b[0;32m    210\u001b[0m                     \u001b[0mkwargs\u001b[0m\u001b[1;33m[\u001b[0m\u001b[0mnew_arg_name\u001b[0m\u001b[1;33m]\u001b[0m \u001b[1;33m=\u001b[0m \u001b[0mnew_arg_value\u001b[0m\u001b[1;33m\u001b[0m\u001b[1;33m\u001b[0m\u001b[0m\n\u001b[1;32m--> 211\u001b[1;33m             \u001b[1;32mreturn\u001b[0m \u001b[0mfunc\u001b[0m\u001b[1;33m(\u001b[0m\u001b[1;33m*\u001b[0m\u001b[0margs\u001b[0m\u001b[1;33m,\u001b[0m \u001b[1;33m**\u001b[0m\u001b[0mkwargs\u001b[0m\u001b[1;33m)\u001b[0m\u001b[1;33m\u001b[0m\u001b[1;33m\u001b[0m\u001b[0m\n\u001b[0m\u001b[0;32m    212\u001b[0m \u001b[1;33m\u001b[0m\u001b[0m\n\u001b[0;32m    213\u001b[0m         \u001b[1;32mreturn\u001b[0m \u001b[0mcast\u001b[0m\u001b[1;33m(\u001b[0m\u001b[0mF\u001b[0m\u001b[1;33m,\u001b[0m \u001b[0mwrapper\u001b[0m\u001b[1;33m)\u001b[0m\u001b[1;33m\u001b[0m\u001b[1;33m\u001b[0m\u001b[0m\n",
      "\u001b[1;32mC:\\Anaconda3\\lib\\site-packages\\pandas\\util\\_decorators.py\u001b[0m in \u001b[0;36mwrapper\u001b[1;34m(*args, **kwargs)\u001b[0m\n\u001b[0;32m    209\u001b[0m                 \u001b[1;32melse\u001b[0m\u001b[1;33m:\u001b[0m\u001b[1;33m\u001b[0m\u001b[1;33m\u001b[0m\u001b[0m\n\u001b[0;32m    210\u001b[0m                     \u001b[0mkwargs\u001b[0m\u001b[1;33m[\u001b[0m\u001b[0mnew_arg_name\u001b[0m\u001b[1;33m]\u001b[0m \u001b[1;33m=\u001b[0m \u001b[0mnew_arg_value\u001b[0m\u001b[1;33m\u001b[0m\u001b[1;33m\u001b[0m\u001b[0m\n\u001b[1;32m--> 211\u001b[1;33m             \u001b[1;32mreturn\u001b[0m \u001b[0mfunc\u001b[0m\u001b[1;33m(\u001b[0m\u001b[1;33m*\u001b[0m\u001b[0margs\u001b[0m\u001b[1;33m,\u001b[0m \u001b[1;33m**\u001b[0m\u001b[0mkwargs\u001b[0m\u001b[1;33m)\u001b[0m\u001b[1;33m\u001b[0m\u001b[1;33m\u001b[0m\u001b[0m\n\u001b[0m\u001b[0;32m    212\u001b[0m \u001b[1;33m\u001b[0m\u001b[0m\n\u001b[0;32m    213\u001b[0m         \u001b[1;32mreturn\u001b[0m \u001b[0mcast\u001b[0m\u001b[1;33m(\u001b[0m\u001b[0mF\u001b[0m\u001b[1;33m,\u001b[0m \u001b[0mwrapper\u001b[0m\u001b[1;33m)\u001b[0m\u001b[1;33m\u001b[0m\u001b[1;33m\u001b[0m\u001b[0m\n",
      "\u001b[1;32mC:\\Anaconda3\\lib\\site-packages\\pandas\\core\\generic.py\u001b[0m in \u001b[0;36mto_excel\u001b[1;34m(self, excel_writer, sheet_name, na_rep, float_format, columns, header, index, index_label, startrow, startcol, engine, merge_cells, encoding, inf_rep, verbose, freeze_panes, storage_options)\u001b[0m\n\u001b[0;32m   2372\u001b[0m             \u001b[0minf_rep\u001b[0m\u001b[1;33m=\u001b[0m\u001b[0minf_rep\u001b[0m\u001b[1;33m,\u001b[0m\u001b[1;33m\u001b[0m\u001b[1;33m\u001b[0m\u001b[0m\n\u001b[0;32m   2373\u001b[0m         )\n\u001b[1;32m-> 2374\u001b[1;33m         formatter.write(\n\u001b[0m\u001b[0;32m   2375\u001b[0m             \u001b[0mexcel_writer\u001b[0m\u001b[1;33m,\u001b[0m\u001b[1;33m\u001b[0m\u001b[1;33m\u001b[0m\u001b[0m\n\u001b[0;32m   2376\u001b[0m             \u001b[0msheet_name\u001b[0m\u001b[1;33m=\u001b[0m\u001b[0msheet_name\u001b[0m\u001b[1;33m,\u001b[0m\u001b[1;33m\u001b[0m\u001b[1;33m\u001b[0m\u001b[0m\n",
      "\u001b[1;32mC:\\Anaconda3\\lib\\site-packages\\pandas\\io\\formats\\excel.py\u001b[0m in \u001b[0;36mwrite\u001b[1;34m(self, writer, sheet_name, startrow, startcol, freeze_panes, engine, storage_options)\u001b[0m\n\u001b[0;32m    908\u001b[0m             \u001b[1;31m# error: Cannot instantiate abstract class 'ExcelWriter' with abstract\u001b[0m\u001b[1;33m\u001b[0m\u001b[1;33m\u001b[0m\u001b[0m\n\u001b[0;32m    909\u001b[0m             \u001b[1;31m# attributes 'engine', 'save', 'supported_extensions' and 'write_cells'\u001b[0m\u001b[1;33m\u001b[0m\u001b[1;33m\u001b[0m\u001b[0m\n\u001b[1;32m--> 910\u001b[1;33m             writer = ExcelWriter(  # type: ignore[abstract]\n\u001b[0m\u001b[0;32m    911\u001b[0m                 \u001b[0mwriter\u001b[0m\u001b[1;33m,\u001b[0m \u001b[0mengine\u001b[0m\u001b[1;33m=\u001b[0m\u001b[0mengine\u001b[0m\u001b[1;33m,\u001b[0m \u001b[0mstorage_options\u001b[0m\u001b[1;33m=\u001b[0m\u001b[0mstorage_options\u001b[0m\u001b[1;33m\u001b[0m\u001b[1;33m\u001b[0m\u001b[0m\n\u001b[0;32m    912\u001b[0m             )\n",
      "\u001b[1;32mC:\\Anaconda3\\lib\\site-packages\\pandas\\io\\excel\\_base.py\u001b[0m in \u001b[0;36m__new__\u001b[1;34m(cls, path, engine, date_format, datetime_format, mode, storage_options, if_sheet_exists, engine_kwargs, **kwargs)\u001b[0m\n\u001b[0;32m   1146\u001b[0m                         \u001b[0mengine\u001b[0m \u001b[1;33m=\u001b[0m \u001b[0mget_default_engine\u001b[0m\u001b[1;33m(\u001b[0m\u001b[0mext\u001b[0m\u001b[1;33m,\u001b[0m \u001b[0mmode\u001b[0m\u001b[1;33m=\u001b[0m\u001b[1;34m\"writer\"\u001b[0m\u001b[1;33m)\u001b[0m\u001b[1;33m\u001b[0m\u001b[1;33m\u001b[0m\u001b[0m\n\u001b[0;32m   1147\u001b[0m                 \u001b[1;32mexcept\u001b[0m \u001b[0mKeyError\u001b[0m \u001b[1;32mas\u001b[0m \u001b[0merr\u001b[0m\u001b[1;33m:\u001b[0m\u001b[1;33m\u001b[0m\u001b[1;33m\u001b[0m\u001b[0m\n\u001b[1;32m-> 1148\u001b[1;33m                     \u001b[1;32mraise\u001b[0m \u001b[0mValueError\u001b[0m\u001b[1;33m(\u001b[0m\u001b[1;34mf\"No engine for filetype: '{ext}'\"\u001b[0m\u001b[1;33m)\u001b[0m \u001b[1;32mfrom\u001b[0m \u001b[0merr\u001b[0m\u001b[1;33m\u001b[0m\u001b[1;33m\u001b[0m\u001b[0m\n\u001b[0m\u001b[0;32m   1149\u001b[0m \u001b[1;33m\u001b[0m\u001b[0m\n\u001b[0;32m   1150\u001b[0m             \u001b[1;32mif\u001b[0m \u001b[0mengine\u001b[0m \u001b[1;33m==\u001b[0m \u001b[1;34m\"xlwt\"\u001b[0m\u001b[1;33m:\u001b[0m\u001b[1;33m\u001b[0m\u001b[1;33m\u001b[0m\u001b[0m\n",
      "\u001b[1;31mValueError\u001b[0m: No engine for filetype: 'excel'"
     ]
    }
   ],
   "source": [
    "mos_scaled.to_excel('mos_test.excel')"
   ]
  },
  {
   "cell_type": "code",
   "execution_count": 83,
   "id": "587087c4",
   "metadata": {},
   "outputs": [
    {
     "data": {
      "text/plain": [
       "1329   2019-12-22\n",
       "1330   2019-12-23\n",
       "1331   2019-12-24\n",
       "1332   2019-12-25\n",
       "1336   2019-12-26\n",
       "1337   2019-12-27\n",
       "1338   2019-12-28\n",
       "1339   2019-12-29\n",
       "1340   2019-12-30\n",
       "1341   2019-12-31\n",
       "Name: date, dtype: datetime64[ns]"
      ]
     },
     "execution_count": 83,
     "metadata": {},
     "output_type": "execute_result"
    }
   ],
   "source": [
    "mos.date.tail(10)"
   ]
  },
  {
   "cell_type": "code",
   "execution_count": 62,
   "id": "4a26a1c3",
   "metadata": {},
   "outputs": [
    {
     "data": {
      "text/html": [
       "<div>\n",
       "<style scoped>\n",
       "    .dataframe tbody tr th:only-of-type {\n",
       "        vertical-align: middle;\n",
       "    }\n",
       "\n",
       "    .dataframe tbody tr th {\n",
       "        vertical-align: top;\n",
       "    }\n",
       "\n",
       "    .dataframe thead th {\n",
       "        text-align: right;\n",
       "    }\n",
       "</style>\n",
       "<table border=\"1\" class=\"dataframe\">\n",
       "  <thead>\n",
       "    <tr style=\"text-align: right;\">\n",
       "      <th></th>\n",
       "      <th>rain(mm)</th>\n",
       "      <th>mean_T(℃)</th>\n",
       "      <th>min_T(℃)</th>\n",
       "      <th>max_T(℃)</th>\n",
       "      <th>date</th>\n",
       "      <th>Indi</th>\n",
       "    </tr>\n",
       "  </thead>\n",
       "  <tbody>\n",
       "    <tr>\n",
       "      <th>0</th>\n",
       "      <td>0.000000</td>\n",
       "      <td>0.692784</td>\n",
       "      <td>0.623701</td>\n",
       "      <td>0.729622</td>\n",
       "      <td>2016-05-01</td>\n",
       "      <td>254.4</td>\n",
       "    </tr>\n",
       "    <tr>\n",
       "      <th>1</th>\n",
       "      <td>0.114187</td>\n",
       "      <td>0.740206</td>\n",
       "      <td>0.713098</td>\n",
       "      <td>0.777336</td>\n",
       "      <td>2016-05-02</td>\n",
       "      <td>273.5</td>\n",
       "    </tr>\n",
       "    <tr>\n",
       "      <th>2</th>\n",
       "      <td>0.186851</td>\n",
       "      <td>0.571134</td>\n",
       "      <td>0.555094</td>\n",
       "      <td>0.562624</td>\n",
       "      <td>2016-05-03</td>\n",
       "      <td>304.0</td>\n",
       "    </tr>\n",
       "    <tr>\n",
       "      <th>3</th>\n",
       "      <td>0.000000</td>\n",
       "      <td>0.628866</td>\n",
       "      <td>0.582121</td>\n",
       "      <td>0.622266</td>\n",
       "      <td>2016-05-04</td>\n",
       "      <td>256.2</td>\n",
       "    </tr>\n",
       "    <tr>\n",
       "      <th>4</th>\n",
       "      <td>0.051903</td>\n",
       "      <td>0.694845</td>\n",
       "      <td>0.582121</td>\n",
       "      <td>0.747515</td>\n",
       "      <td>2016-05-05</td>\n",
       "      <td>243.8</td>\n",
       "    </tr>\n",
       "    <tr>\n",
       "      <th>...</th>\n",
       "      <td>...</td>\n",
       "      <td>...</td>\n",
       "      <td>...</td>\n",
       "      <td>...</td>\n",
       "      <td>...</td>\n",
       "      <td>...</td>\n",
       "    </tr>\n",
       "    <tr>\n",
       "      <th>1290</th>\n",
       "      <td>0.000000</td>\n",
       "      <td>0.270103</td>\n",
       "      <td>0.274428</td>\n",
       "      <td>0.264414</td>\n",
       "      <td>2019-11-13</td>\n",
       "      <td>5.5</td>\n",
       "    </tr>\n",
       "    <tr>\n",
       "      <th>1291</th>\n",
       "      <td>0.000000</td>\n",
       "      <td>0.327835</td>\n",
       "      <td>0.295218</td>\n",
       "      <td>0.333996</td>\n",
       "      <td>2019-11-14</td>\n",
       "      <td>5.5</td>\n",
       "    </tr>\n",
       "    <tr>\n",
       "      <th>1292</th>\n",
       "      <td>0.009689</td>\n",
       "      <td>0.383505</td>\n",
       "      <td>0.392931</td>\n",
       "      <td>0.335984</td>\n",
       "      <td>2019-11-15</td>\n",
       "      <td>5.5</td>\n",
       "    </tr>\n",
       "    <tr>\n",
       "      <th>1293</th>\n",
       "      <td>0.002768</td>\n",
       "      <td>0.360825</td>\n",
       "      <td>0.251559</td>\n",
       "      <td>0.347913</td>\n",
       "      <td>2019-11-16</td>\n",
       "      <td>5.5</td>\n",
       "    </tr>\n",
       "    <tr>\n",
       "      <th>1294</th>\n",
       "      <td>0.000000</td>\n",
       "      <td>0.142268</td>\n",
       "      <td>0.143451</td>\n",
       "      <td>0.123260</td>\n",
       "      <td>2019-11-17</td>\n",
       "      <td>5.5</td>\n",
       "    </tr>\n",
       "  </tbody>\n",
       "</table>\n",
       "<p>1295 rows × 6 columns</p>\n",
       "</div>"
      ],
      "text/plain": [
       "      rain(mm)  mean_T(℃)  min_T(℃)  max_T(℃)       date   Indi\n",
       "0     0.000000   0.692784  0.623701  0.729622 2016-05-01  254.4\n",
       "1     0.114187   0.740206  0.713098  0.777336 2016-05-02  273.5\n",
       "2     0.186851   0.571134  0.555094  0.562624 2016-05-03  304.0\n",
       "3     0.000000   0.628866  0.582121  0.622266 2016-05-04  256.2\n",
       "4     0.051903   0.694845  0.582121  0.747515 2016-05-05  243.8\n",
       "...        ...        ...       ...       ...        ...    ...\n",
       "1290  0.000000   0.270103  0.274428  0.264414 2019-11-13    5.5\n",
       "1291  0.000000   0.327835  0.295218  0.333996 2019-11-14    5.5\n",
       "1292  0.009689   0.383505  0.392931  0.335984 2019-11-15    5.5\n",
       "1293  0.002768   0.360825  0.251559  0.347913 2019-11-16    5.5\n",
       "1294  0.000000   0.142268  0.143451  0.123260 2019-11-17    5.5\n",
       "\n",
       "[1295 rows x 6 columns]"
      ]
     },
     "execution_count": 62,
     "metadata": {},
     "output_type": "execute_result"
    }
   ],
   "source": [
    "mos_scaled = pd.DataFrame(scaled, columns=data.columns)\n",
    "mos_scaled['date'] = mos.date\n",
    "mos_scaled['Indi'] = target\n",
    "mos_scaled"
   ]
  },
  {
   "cell_type": "code",
   "execution_count": 42,
   "id": "a56dbd3f",
   "metadata": {},
   "outputs": [
    {
     "data": {
      "text/plain": [
       "0     2016-05-01\n",
       "1     2016-05-02\n",
       "2     2016-05-03\n",
       "3     2016-05-04\n",
       "4     2016-05-05\n",
       "         ...    \n",
       "801          NaT\n",
       "802          NaT\n",
       "807          NaT\n",
       "808          NaT\n",
       "809          NaT\n",
       "Name: date, Length: 1295, dtype: datetime64[ns]"
      ]
     },
     "execution_count": 42,
     "metadata": {},
     "output_type": "execute_result"
    }
   ],
   "source": [
    "mos_scaled.date.sort_values()"
   ]
  },
  {
   "cell_type": "code",
   "execution_count": null,
   "id": "25135a07",
   "metadata": {},
   "outputs": [],
   "source": [
    "mos_scaled"
   ]
  },
  {
   "cell_type": "code",
   "execution_count": 61,
   "id": "c686420c",
   "metadata": {},
   "outputs": [
    {
     "data": {
      "text/plain": [
       "0      2016-05-01\n",
       "1      2016-05-02\n",
       "2      2016-05-03\n",
       "3      2016-05-04\n",
       "4      2016-05-05\n",
       "          ...    \n",
       "1290   2019-11-13\n",
       "1291   2019-11-14\n",
       "1292   2019-11-15\n",
       "1293   2019-11-16\n",
       "1294   2019-11-17\n",
       "Name: date, Length: 1295, dtype: datetime64[ns]"
      ]
     },
     "execution_count": 61,
     "metadata": {},
     "output_type": "execute_result"
    }
   ],
   "source": [
    "mos_scaled.date"
   ]
  },
  {
   "cell_type": "code",
   "execution_count": 69,
   "id": "64a022fe",
   "metadata": {},
   "outputs": [
    {
     "data": {
      "text/plain": [
       "1295"
      ]
     },
     "execution_count": 69,
     "metadata": {},
     "output_type": "execute_result"
    }
   ],
   "source": [
    "len(mos_scaled.date)"
   ]
  },
  {
   "cell_type": "code",
   "execution_count": null,
   "id": "46ff7c23",
   "metadata": {},
   "outputs": [],
   "source": []
  },
  {
   "cell_type": "markdown",
   "id": "774de178",
   "metadata": {},
   "source": [
    "#### 대 시험 공장"
   ]
  },
  {
   "cell_type": "code",
   "execution_count": 90,
   "id": "47c971cc",
   "metadata": {},
   "outputs": [],
   "source": [
    "mos_test = mos[['date', 'mosquito_Indicator']]"
   ]
  },
  {
   "cell_type": "code",
   "execution_count": 91,
   "id": "5d83c735",
   "metadata": {},
   "outputs": [],
   "source": [
    "mos_test['date'] = pd.to_datetime(mos_test['date'])"
   ]
  },
  {
   "cell_type": "code",
   "execution_count": 92,
   "id": "f61e15c7",
   "metadata": {},
   "outputs": [
    {
     "data": {
      "text/html": [
       "<div>\n",
       "<style scoped>\n",
       "    .dataframe tbody tr th:only-of-type {\n",
       "        vertical-align: middle;\n",
       "    }\n",
       "\n",
       "    .dataframe tbody tr th {\n",
       "        vertical-align: top;\n",
       "    }\n",
       "\n",
       "    .dataframe thead th {\n",
       "        text-align: right;\n",
       "    }\n",
       "</style>\n",
       "<table border=\"1\" class=\"dataframe\">\n",
       "  <thead>\n",
       "    <tr style=\"text-align: right;\">\n",
       "      <th></th>\n",
       "      <th>date</th>\n",
       "      <th>mosquito_Indicator</th>\n",
       "    </tr>\n",
       "  </thead>\n",
       "  <tbody>\n",
       "    <tr>\n",
       "      <th>0</th>\n",
       "      <td>2016-05-01</td>\n",
       "      <td>254.4</td>\n",
       "    </tr>\n",
       "    <tr>\n",
       "      <th>1</th>\n",
       "      <td>2016-05-02</td>\n",
       "      <td>273.5</td>\n",
       "    </tr>\n",
       "    <tr>\n",
       "      <th>2</th>\n",
       "      <td>2016-05-03</td>\n",
       "      <td>304.0</td>\n",
       "    </tr>\n",
       "    <tr>\n",
       "      <th>3</th>\n",
       "      <td>2016-05-04</td>\n",
       "      <td>256.2</td>\n",
       "    </tr>\n",
       "    <tr>\n",
       "      <th>4</th>\n",
       "      <td>2016-05-05</td>\n",
       "      <td>243.8</td>\n",
       "    </tr>\n",
       "    <tr>\n",
       "      <th>...</th>\n",
       "      <td>...</td>\n",
       "      <td>...</td>\n",
       "    </tr>\n",
       "    <tr>\n",
       "      <th>1337</th>\n",
       "      <td>2019-12-27</td>\n",
       "      <td>5.5</td>\n",
       "    </tr>\n",
       "    <tr>\n",
       "      <th>1338</th>\n",
       "      <td>2019-12-28</td>\n",
       "      <td>5.5</td>\n",
       "    </tr>\n",
       "    <tr>\n",
       "      <th>1339</th>\n",
       "      <td>2019-12-29</td>\n",
       "      <td>5.5</td>\n",
       "    </tr>\n",
       "    <tr>\n",
       "      <th>1340</th>\n",
       "      <td>2019-12-30</td>\n",
       "      <td>5.5</td>\n",
       "    </tr>\n",
       "    <tr>\n",
       "      <th>1341</th>\n",
       "      <td>2019-12-31</td>\n",
       "      <td>5.5</td>\n",
       "    </tr>\n",
       "  </tbody>\n",
       "</table>\n",
       "<p>1295 rows × 2 columns</p>\n",
       "</div>"
      ],
      "text/plain": [
       "           date  mosquito_Indicator\n",
       "0    2016-05-01               254.4\n",
       "1    2016-05-02               273.5\n",
       "2    2016-05-03               304.0\n",
       "3    2016-05-04               256.2\n",
       "4    2016-05-05               243.8\n",
       "...         ...                 ...\n",
       "1337 2019-12-27                 5.5\n",
       "1338 2019-12-28                 5.5\n",
       "1339 2019-12-29                 5.5\n",
       "1340 2019-12-30                 5.5\n",
       "1341 2019-12-31                 5.5\n",
       "\n",
       "[1295 rows x 2 columns]"
      ]
     },
     "execution_count": 92,
     "metadata": {},
     "output_type": "execute_result"
    }
   ],
   "source": [
    "mos_test"
   ]
  },
  {
   "cell_type": "code",
   "execution_count": 94,
   "id": "413ee833",
   "metadata": {},
   "outputs": [],
   "source": [
    "mos_test2 = mos_test.set_index('date')"
   ]
  },
  {
   "cell_type": "code",
   "execution_count": 95,
   "id": "a677f4b2",
   "metadata": {},
   "outputs": [
    {
     "data": {
      "text/plain": [
       "DatetimeIndex(['2016-05-01', '2016-05-02', '2016-05-03', '2016-05-04',\n",
       "               '2016-05-05', '2016-05-06', '2016-05-07', '2016-05-08',\n",
       "               '2016-05-09', '2016-05-10',\n",
       "               ...\n",
       "               '2019-12-22', '2019-12-23', '2019-12-24', '2019-12-25',\n",
       "               '2019-12-26', '2019-12-27', '2019-12-28', '2019-12-29',\n",
       "               '2019-12-30', '2019-12-31'],\n",
       "              dtype='datetime64[ns]', name='date', length=1295, freq=None)"
      ]
     },
     "execution_count": 95,
     "metadata": {},
     "output_type": "execute_result"
    }
   ],
   "source": [
    "mos_test2.index"
   ]
  },
  {
   "cell_type": "code",
   "execution_count": null,
   "id": "60e252c5",
   "metadata": {},
   "outputs": [],
   "source": []
  },
  {
   "cell_type": "code",
   "execution_count": null,
   "id": "8cfb264d",
   "metadata": {},
   "outputs": [],
   "source": []
  },
  {
   "cell_type": "code",
   "execution_count": null,
   "id": "49ff4bed",
   "metadata": {},
   "outputs": [],
   "source": []
  },
  {
   "cell_type": "code",
   "execution_count": 30,
   "id": "432dfb4c",
   "metadata": {},
   "outputs": [
    {
     "data": {
      "text/html": [
       "<div>\n",
       "<style scoped>\n",
       "    .dataframe tbody tr th:only-of-type {\n",
       "        vertical-align: middle;\n",
       "    }\n",
       "\n",
       "    .dataframe tbody tr th {\n",
       "        vertical-align: top;\n",
       "    }\n",
       "\n",
       "    .dataframe thead th {\n",
       "        text-align: right;\n",
       "    }\n",
       "</style>\n",
       "<table border=\"1\" class=\"dataframe\">\n",
       "  <thead>\n",
       "    <tr style=\"text-align: right;\">\n",
       "      <th></th>\n",
       "      <th>Indi</th>\n",
       "    </tr>\n",
       "    <tr>\n",
       "      <th>date</th>\n",
       "      <th></th>\n",
       "    </tr>\n",
       "  </thead>\n",
       "  <tbody>\n",
       "    <tr>\n",
       "      <th>2016-05-01</th>\n",
       "      <td>254.4</td>\n",
       "    </tr>\n",
       "    <tr>\n",
       "      <th>2016-05-02</th>\n",
       "      <td>273.5</td>\n",
       "    </tr>\n",
       "    <tr>\n",
       "      <th>2016-05-03</th>\n",
       "      <td>304.0</td>\n",
       "    </tr>\n",
       "    <tr>\n",
       "      <th>2016-05-04</th>\n",
       "      <td>256.2</td>\n",
       "    </tr>\n",
       "    <tr>\n",
       "      <th>2016-05-05</th>\n",
       "      <td>243.8</td>\n",
       "    </tr>\n",
       "    <tr>\n",
       "      <th>...</th>\n",
       "      <td>...</td>\n",
       "    </tr>\n",
       "    <tr>\n",
       "      <th>2019-12-27</th>\n",
       "      <td>5.5</td>\n",
       "    </tr>\n",
       "    <tr>\n",
       "      <th>2019-12-28</th>\n",
       "      <td>5.5</td>\n",
       "    </tr>\n",
       "    <tr>\n",
       "      <th>2019-12-29</th>\n",
       "      <td>5.5</td>\n",
       "    </tr>\n",
       "    <tr>\n",
       "      <th>2019-12-30</th>\n",
       "      <td>5.5</td>\n",
       "    </tr>\n",
       "    <tr>\n",
       "      <th>2019-12-31</th>\n",
       "      <td>5.5</td>\n",
       "    </tr>\n",
       "  </tbody>\n",
       "</table>\n",
       "<p>1342 rows × 1 columns</p>\n",
       "</div>"
      ],
      "text/plain": [
       "             Indi\n",
       "date             \n",
       "2016-05-01  254.4\n",
       "2016-05-02  273.5\n",
       "2016-05-03  304.0\n",
       "2016-05-04  256.2\n",
       "2016-05-05  243.8\n",
       "...           ...\n",
       "2019-12-27    5.5\n",
       "2019-12-28    5.5\n",
       "2019-12-29    5.5\n",
       "2019-12-30    5.5\n",
       "2019-12-31    5.5\n",
       "\n",
       "[1342 rows x 1 columns]"
      ]
     },
     "execution_count": 30,
     "metadata": {},
     "output_type": "execute_result"
    }
   ],
   "source": [
    "# 일별 \n",
    "mos_p = mos_scaled[['date', 'Indi']]\n",
    "mos_p = mos_p.set_index('date')\n",
    "mos_p"
   ]
  },
  {
   "cell_type": "code",
   "execution_count": 33,
   "id": "557e765a",
   "metadata": {},
   "outputs": [
    {
     "data": {
      "text/html": [
       "<div>\n",
       "<style scoped>\n",
       "    .dataframe tbody tr th:only-of-type {\n",
       "        vertical-align: middle;\n",
       "    }\n",
       "\n",
       "    .dataframe tbody tr th {\n",
       "        vertical-align: top;\n",
       "    }\n",
       "\n",
       "    .dataframe thead th {\n",
       "        text-align: right;\n",
       "    }\n",
       "</style>\n",
       "<table border=\"1\" class=\"dataframe\">\n",
       "  <thead>\n",
       "    <tr style=\"text-align: right;\">\n",
       "      <th></th>\n",
       "      <th>Indi</th>\n",
       "    </tr>\n",
       "  </thead>\n",
       "  <tbody>\n",
       "    <tr>\n",
       "      <th>2016-05-01</th>\n",
       "      <td>254.4</td>\n",
       "    </tr>\n",
       "    <tr>\n",
       "      <th>2016-05-02</th>\n",
       "      <td>273.5</td>\n",
       "    </tr>\n",
       "    <tr>\n",
       "      <th>2016-05-03</th>\n",
       "      <td>304.0</td>\n",
       "    </tr>\n",
       "    <tr>\n",
       "      <th>2016-05-04</th>\n",
       "      <td>256.2</td>\n",
       "    </tr>\n",
       "    <tr>\n",
       "      <th>2016-05-05</th>\n",
       "      <td>243.8</td>\n",
       "    </tr>\n",
       "    <tr>\n",
       "      <th>...</th>\n",
       "      <td>...</td>\n",
       "    </tr>\n",
       "    <tr>\n",
       "      <th>2019-12-27</th>\n",
       "      <td>5.5</td>\n",
       "    </tr>\n",
       "    <tr>\n",
       "      <th>2019-12-28</th>\n",
       "      <td>5.5</td>\n",
       "    </tr>\n",
       "    <tr>\n",
       "      <th>2019-12-29</th>\n",
       "      <td>5.5</td>\n",
       "    </tr>\n",
       "    <tr>\n",
       "      <th>2019-12-30</th>\n",
       "      <td>5.5</td>\n",
       "    </tr>\n",
       "    <tr>\n",
       "      <th>2019-12-31</th>\n",
       "      <td>5.5</td>\n",
       "    </tr>\n",
       "  </tbody>\n",
       "</table>\n",
       "<p>1342 rows × 1 columns</p>\n",
       "</div>"
      ],
      "text/plain": [
       "             Indi\n",
       "2016-05-01  254.4\n",
       "2016-05-02  273.5\n",
       "2016-05-03  304.0\n",
       "2016-05-04  256.2\n",
       "2016-05-05  243.8\n",
       "...           ...\n",
       "2019-12-27    5.5\n",
       "2019-12-28    5.5\n",
       "2019-12-29    5.5\n",
       "2019-12-30    5.5\n",
       "2019-12-31    5.5\n",
       "\n",
       "[1342 rows x 1 columns]"
      ]
     },
     "execution_count": 33,
     "metadata": {},
     "output_type": "execute_result"
    }
   ],
   "source": [
    "mos_p"
   ]
  },
  {
   "cell_type": "code",
   "execution_count": 65,
   "id": "2e5893a7",
   "metadata": {},
   "outputs": [],
   "source": [
    "# datetime -> period로 바꾸기\n",
    "mos_p.index=mos_p.index.to_period('M')\n"
   ]
  },
  {
   "cell_type": "code",
   "execution_count": 34,
   "id": "f7263a25",
   "metadata": {},
   "outputs": [],
   "source": [
    "series_ts = pd.Series(range(len(mos_p.index))\n",
    "\n",
    "                      , index=mos_p.index.sort_values())"
   ]
  },
  {
   "cell_type": "code",
   "execution_count": 35,
   "id": "4ace4cfe",
   "metadata": {},
   "outputs": [
    {
     "data": {
      "text/plain": [
       "2016-05-01       0\n",
       "2016-05-02       1\n",
       "2016-05-03       2\n",
       "2016-05-04       3\n",
       "2016-05-05       4\n",
       "              ... \n",
       "2019-12-27    1337\n",
       "2019-12-28    1338\n",
       "2019-12-29    1339\n",
       "2019-12-30    1340\n",
       "2019-12-31    1341\n",
       "Length: 1342, dtype: int64"
      ]
     },
     "execution_count": 35,
     "metadata": {},
     "output_type": "execute_result"
    }
   ],
   "source": [
    "series_ts"
   ]
  },
  {
   "cell_type": "code",
   "execution_count": 43,
   "id": "b817fd47",
   "metadata": {},
   "outputs": [
    {
     "data": {
      "text/plain": [
       "DatetimeIndex(['2016-05-01', '2016-05-02', '2016-05-03', '2016-05-04',\n",
       "               '2016-05-05', '2016-05-06', '2016-05-07', '2016-05-08',\n",
       "               '2016-05-09', '2016-05-10',\n",
       "               ...\n",
       "               '2019-12-25', '2019-12-25', '2019-12-25', '2019-12-25',\n",
       "               '2019-12-26', '2019-12-27', '2019-12-28', '2019-12-29',\n",
       "               '2019-12-30', '2019-12-31'],\n",
       "              dtype='datetime64[ns]', length=1342, freq=None)"
      ]
     },
     "execution_count": 43,
     "metadata": {},
     "output_type": "execute_result"
    }
   ],
   "source": [
    "mos_p.index"
   ]
  },
  {
   "cell_type": "code",
   "execution_count": 50,
   "id": "c3debbea",
   "metadata": {},
   "outputs": [],
   "source": [
    "mos = mos.drop_duplicates(subset=['date'])"
   ]
  },
  {
   "cell_type": "code",
   "execution_count": 45,
   "id": "29c82295",
   "metadata": {},
   "outputs": [
    {
     "data": {
      "text/plain": [
       "DatetimeIndex(['2019-12-30'], dtype='datetime64[ns]', freq=None)"
      ]
     },
     "execution_count": 45,
     "metadata": {},
     "output_type": "execute_result"
    }
   ],
   "source": [
    "mos_p.index[mos_p.index == '2019-12-30']\n"
   ]
  },
  {
   "cell_type": "code",
   "execution_count": 58,
   "id": "f2b0a901",
   "metadata": {},
   "outputs": [
    {
     "data": {
      "text/html": [
       "<div>\n",
       "<style scoped>\n",
       "    .dataframe tbody tr th:only-of-type {\n",
       "        vertical-align: middle;\n",
       "    }\n",
       "\n",
       "    .dataframe tbody tr th {\n",
       "        vertical-align: top;\n",
       "    }\n",
       "\n",
       "    .dataframe thead th {\n",
       "        text-align: right;\n",
       "    }\n",
       "</style>\n",
       "<table border=\"1\" class=\"dataframe\">\n",
       "  <thead>\n",
       "    <tr style=\"text-align: right;\">\n",
       "      <th></th>\n",
       "      <th>Indi</th>\n",
       "    </tr>\n",
       "  </thead>\n",
       "  <tbody>\n",
       "    <tr>\n",
       "      <th>2016-05-01</th>\n",
       "      <td>254.4</td>\n",
       "    </tr>\n",
       "    <tr>\n",
       "      <th>2016-05-02</th>\n",
       "      <td>273.5</td>\n",
       "    </tr>\n",
       "    <tr>\n",
       "      <th>2016-05-03</th>\n",
       "      <td>304.0</td>\n",
       "    </tr>\n",
       "    <tr>\n",
       "      <th>2016-05-04</th>\n",
       "      <td>256.2</td>\n",
       "    </tr>\n",
       "    <tr>\n",
       "      <th>2016-05-05</th>\n",
       "      <td>243.8</td>\n",
       "    </tr>\n",
       "    <tr>\n",
       "      <th>...</th>\n",
       "      <td>...</td>\n",
       "    </tr>\n",
       "    <tr>\n",
       "      <th>2019-12-27</th>\n",
       "      <td>5.5</td>\n",
       "    </tr>\n",
       "    <tr>\n",
       "      <th>2019-12-28</th>\n",
       "      <td>5.5</td>\n",
       "    </tr>\n",
       "    <tr>\n",
       "      <th>2019-12-29</th>\n",
       "      <td>5.5</td>\n",
       "    </tr>\n",
       "    <tr>\n",
       "      <th>2019-12-30</th>\n",
       "      <td>5.5</td>\n",
       "    </tr>\n",
       "    <tr>\n",
       "      <th>2019-12-31</th>\n",
       "      <td>5.5</td>\n",
       "    </tr>\n",
       "  </tbody>\n",
       "</table>\n",
       "<p>1342 rows × 1 columns</p>\n",
       "</div>"
      ],
      "text/plain": [
       "             Indi\n",
       "2016-05-01  254.4\n",
       "2016-05-02  273.5\n",
       "2016-05-03  304.0\n",
       "2016-05-04  256.2\n",
       "2016-05-05  243.8\n",
       "...           ...\n",
       "2019-12-27    5.5\n",
       "2019-12-28    5.5\n",
       "2019-12-29    5.5\n",
       "2019-12-30    5.5\n",
       "2019-12-31    5.5\n",
       "\n",
       "[1342 rows x 1 columns]"
      ]
     },
     "execution_count": 58,
     "metadata": {},
     "output_type": "execute_result"
    }
   ],
   "source": [
    "mos_p"
   ]
  },
  {
   "cell_type": "code",
   "execution_count": 57,
   "id": "d59c1e85",
   "metadata": {
    "scrolled": true
   },
   "outputs": [
    {
     "data": {
      "text/plain": [
       "False"
      ]
     },
     "execution_count": 57,
     "metadata": {},
     "output_type": "execute_result"
    }
   ],
   "source": [
    "mos_p.index.is_unique"
   ]
  },
  {
   "cell_type": "markdown",
   "id": "0c8ee5c2",
   "metadata": {},
   "source": [
    "### 모기 데이터 시계열 시각화"
   ]
  },
  {
   "cell_type": "code",
   "execution_count": 77,
   "id": "eb5ca9a9",
   "metadata": {},
   "outputs": [
    {
     "data": {
      "text/plain": [
       "0       2016-05-01\n",
       "1       2016-05-02\n",
       "2       2016-05-03\n",
       "3       2016-05-04\n",
       "4       2016-05-05\n",
       "           ...    \n",
       "1337    2019-12-27\n",
       "1338    2019-12-28\n",
       "1339    2019-12-29\n",
       "1340    2019-12-30\n",
       "1341    2019-12-31\n",
       "Name: date, Length: 1295, dtype: object"
      ]
     },
     "execution_count": 77,
     "metadata": {},
     "output_type": "execute_result"
    }
   ],
   "source": [
    "mos.date"
   ]
  },
  {
   "cell_type": "code",
   "execution_count": 96,
   "id": "79d1f7df",
   "metadata": {
    "scrolled": false
   },
   "outputs": [
    {
     "data": {
      "text/plain": [
       "(<Figure size 1152x288 with 1 Axes>, <AxesSubplot:>)"
      ]
     },
     "execution_count": 96,
     "metadata": {},
     "output_type": "execute_result"
    },
    {
     "data": {
      "image/png": "[encoded data removed]",
      "text/plain": [
       "<Figure size 1152x288 with 1 Axes>"
      ]
     },
     "metadata": {},
     "output_type": "display_data"
    }
   ],
   "source": [
    "# 시계열 데이터 그래프\n",
    "# 인덱스가 데이터 타입인 시리즈를 가지고 그레프 그리기\n",
    "from sktime.utils.plotting import plot_series\n",
    "plot_series(mos_test2)"
   ]
  },
  {
   "cell_type": "markdown",
   "id": "c73c0b02",
   "metadata": {},
   "source": [
    "### 월별 그래프 (다시)"
   ]
  },
  {
   "cell_type": "code",
   "execution_count": null,
   "id": "2fe00ea6",
   "metadata": {
    "scrolled": true
   },
   "outputs": [],
   "source": [
    "# 월별 그래프\n",
    "mos_p_m = mos_scaled[['date', 'Indi']]\n",
    "mos_p_m['date']= mos_p.index.strftime('%Y-%m').astype('datetime64')\n",
    "mos_p_m = mos_p_m.set_index('date')\n",
    "mos_p_m = mos_p_m.date.sum()\n",
    "mos_p_m "
   ]
  },
  {
   "cell_type": "code",
   "execution_count": null,
   "id": "9b2000e8",
   "metadata": {},
   "outputs": [],
   "source": [
    "mos_p_m = mos_p.reset_index()\n",
    "mos_p_m.index = mos_p[mos_p.date.day == 1]\n",
    "mos_p_m['mos_p_m'] =mos_p.groupby([mos_p.index.year,mos_p.index.month])['Indi'].sum()\n",
    "mos_p_m"
   ]
  },
  {
   "cell_type": "code",
   "execution_count": null,
   "id": "a0e81604",
   "metadata": {},
   "outputs": [],
   "source": [
    "a=mos_p.groupby([mos_p.index.year,mos_p.index.month])['Indi'].sum()\n",
    "a[1:2]"
   ]
  },
  {
   "cell_type": "code",
   "execution_count": null,
   "id": "6bdd960f",
   "metadata": {},
   "outputs": [],
   "source": [
    "# 월별 그래프\n",
    "mos_p_m = mos_scaled[['date', 'Indi']]\n",
    "mos_p_m['date_m']= mos_p_m.date.dt.strftime('%Y-%m')\n",
    "mos_p_m = mos_p_m.drop_duplicates(subset=['date_m'])\n",
    "# mos_p.groupby([mos_p.index.year,mos_p.index.month])['Indi'].sum()\n",
    "\n",
    "#mos.date.is_unique\n",
    "# mos_p_m = mos_p_m.set_index('date')\n",
    "mos_p_m "
   ]
  },
  {
   "cell_type": "code",
   "execution_count": null,
   "id": "2b8e98a7",
   "metadata": {},
   "outputs": [],
   "source": [
    "# # mod_p.reset_index(inplace=True)\n",
    "mos_p_m= mos_p.index.month.min()\n",
    "    #.dt.strftime('%Y-%m')\n",
    "# # data['FirstOrder'] = FirstOrder\n",
    "# # FirstOrder.head()\n",
    "# mos_p_m\n",
    "\n",
    "mos_p_m\n",
    "\n",
    "mos_p.groupby([mos_p.index.year,mos_p.index.month])['Indi'].sum()"
   ]
  },
  {
   "cell_type": "code",
   "execution_count": null,
   "id": "128d92be",
   "metadata": {},
   "outputs": [],
   "source": [
    "mos.date.min()"
   ]
  },
  {
   "cell_type": "markdown",
   "id": "74c81da6",
   "metadata": {},
   "source": [
    "## 2020 년 1월 모기지수 예측"
   ]
  },
  {
   "cell_type": "markdown",
   "id": "f0446dc2",
   "metadata": {},
   "source": [
    "### 기간(범위) 지정"
   ]
  },
  {
   "cell_type": "code",
   "execution_count": null,
   "id": "643cf3c1",
   "metadata": {},
   "outputs": [],
   "source": [
    "# 예측 범위(2020 1월 달 => 31일)\n",
    "\n",
    "day = np.arange(1,32)"
   ]
  },
  {
   "cell_type": "code",
   "execution_count": null,
   "id": "8ccf192c",
   "metadata": {},
   "outputs": [],
   "source": [
    "from sktime.forecasting.base import ForecastingHorizon\n",
    "\n",
    "# 예측할 날짜 데이터 만들기\n",
    "\n",
    "jan = ForecastingHorizon(\n",
    "    pd.PeriodIndex(pd.date_range(\"2020-01-01\", periods=31, freq=\"D\")), is_relative=False\n",
    ")\n",
    "jan"
   ]
  },
  {
   "cell_type": "code",
   "execution_count": null,
   "id": "9363abd9",
   "metadata": {},
   "outputs": [],
   "source": [
    "cutoff = pd.Period(\"2019-12-31\", freq=\"D\")"
   ]
  },
  {
   "cell_type": "code",
   "execution_count": null,
   "id": "19f49f1b",
   "metadata": {},
   "outputs": [],
   "source": [
    "jan.to_relative(cutoff)"
   ]
  },
  {
   "cell_type": "code",
   "execution_count": null,
   "id": "f2a40fd5",
   "metadata": {},
   "outputs": [],
   "source": [
    "jan.to_absolute(cutoff)"
   ]
  },
  {
   "cell_type": "markdown",
   "id": "eca2dd0a",
   "metadata": {},
   "source": [
    "### 예측 알고리즘 지정 "
   ]
  },
  {
   "cell_type": "code",
   "execution_count": null,
   "id": "ebe8db3a",
   "metadata": {},
   "outputs": [],
   "source": [
    "from sktime.forecasting.naive import NaiveForecaster\n",
    "forecaster = NaiveForecaster(strategy=\"last\")"
   ]
  },
  {
   "cell_type": "markdown",
   "id": "36068f33",
   "metadata": {},
   "source": [
    "### 예측자를 본 데이터에 맞추기"
   ]
  },
  {
   "cell_type": "code",
   "execution_count": null,
   "id": "1bb43cee",
   "metadata": {},
   "outputs": [],
   "source": []
  },
  {
   "cell_type": "markdown",
   "id": "7602fe75",
   "metadata": {},
   "source": [
    "### 예측 요청 "
   ]
  },
  {
   "cell_type": "code",
   "execution_count": null,
   "id": "fe664192",
   "metadata": {},
   "outputs": [],
   "source": []
  }
 ],
 "metadata": {
  "kernelspec": {
   "display_name": "Python 3 (ipykernel)",
   "language": "python",
   "name": "python3"
  },
  "language_info": {
   "codemirror_mode": {
    "name": "ipython",
    "version": 3
   },
   "file_extension": ".py",
   "mimetype": "text/x-python",
   "name": "python",
   "nbconvert_exporter": "python",
   "pygments_lexer": "ipython3",
   "version": "3.9.7"
  },
  "toc": {
   "base_numbering": 1,
   "nav_menu": {},
   "number_sections": true,
   "sideBar": true,
   "skip_h1_title": false,
   "title_cell": "Table of Contents",
   "title_sidebar": "Contents",
   "toc_cell": false,
   "toc_position": {
    "height": "476px",
    "left": "321px",
    "top": "111.136px",
    "width": "303.818px"
   },
   "toc_section_display": true,
   "toc_window_display": true
  }
 },
 "nbformat": 4,
 "nbformat_minor": 5
}
