{
 "cells": [
  {
   "cell_type": "markdown",
   "id": "41c5fab3",
   "metadata": {},
   "source": [
    "###### 11월 14일\n"
   ]
  },
  {
   "cell_type": "markdown",
   "id": "5f984d9f",
   "metadata": {},
   "source": [
    "# 모듈 불러오기"
   ]
  },
  {
   "cell_type": "code",
   "execution_count": 1,
   "id": "74aed261",
   "metadata": {},
   "outputs": [],
   "source": [
    "import numpy as np\n",
    "import pandas as pd\n",
    "\n",
    "import matplotlib as mpl\n",
    "import matplotlib.pyplot as plt\n",
    "import seaborn as sns\n",
    "\n",
    "import warnings\n",
    "\n",
    "# 시각화를 주피터에 \n",
    "%matplotlib inline\n",
    "\n",
    "#한글 폰트를 선명하게 보기위해\n",
    "%config Inlinebackend.fiure_format = 'retina'\n",
    "mpl.rc('font',family = 'malgun gothic')\n",
    "# 유니코드에서 음수로 부호설정\n",
    "mpl.rc('axes',unicode_minus = False)\n",
    "\n",
    "# 차트 설정 \n",
    "sns.set(font = \"malgun gothic\", rc = {'axes.unicode_minus':False}, style = 'darkgrid')\n",
    "plt.rc('figure', figsize = (10,8))\n",
    "warnings.filterwarnings('ignore')"
   ]
  },
  {
   "cell_type": "code",
   "execution_count": 2,
   "id": "0c1402a7",
   "metadata": {},
   "outputs": [],
   "source": [
    "# 모기지수 : 일 평균 모기 개체수"
   ]
  },
  {
   "cell_type": "markdown",
   "id": "b2e0adf7",
   "metadata": {},
   "source": [
    "# 데이터셋 로딩"
   ]
  },
  {
   "cell_type": "code",
   "execution_count": 2,
   "id": "458204e8",
   "metadata": {},
   "outputs": [],
   "source": [
    "mos = pd.read_csv('C:\\\\k_disital\\\\source\\\\mygit\\\\ML-First-Project\\\\mosquito_Indicator.csv')"
   ]
  },
  {
   "cell_type": "code",
   "execution_count": 3,
   "id": "1e63492a",
   "metadata": {},
   "outputs": [
    {
     "data": {
      "text/html": [
       "<div>\n",
       "<style scoped>\n",
       "    .dataframe tbody tr th:only-of-type {\n",
       "        vertical-align: middle;\n",
       "    }\n",
       "\n",
       "    .dataframe tbody tr th {\n",
       "        vertical-align: top;\n",
       "    }\n",
       "\n",
       "    .dataframe thead th {\n",
       "        text-align: right;\n",
       "    }\n",
       "</style>\n",
       "<table border=\"1\" class=\"dataframe\">\n",
       "  <thead>\n",
       "    <tr style=\"text-align: right;\">\n",
       "      <th></th>\n",
       "      <th>date</th>\n",
       "      <th>mosquito_Indicator</th>\n",
       "      <th>rain(mm)</th>\n",
       "      <th>mean_T(℃)</th>\n",
       "      <th>min_T(℃)</th>\n",
       "      <th>max_T(℃)</th>\n",
       "    </tr>\n",
       "  </thead>\n",
       "  <tbody>\n",
       "    <tr>\n",
       "      <th>0</th>\n",
       "      <td>2016-05-01</td>\n",
       "      <td>254.4</td>\n",
       "      <td>0.0</td>\n",
       "      <td>18.8</td>\n",
       "      <td>12.2</td>\n",
       "      <td>26.0</td>\n",
       "    </tr>\n",
       "    <tr>\n",
       "      <th>1</th>\n",
       "      <td>2016-05-02</td>\n",
       "      <td>273.5</td>\n",
       "      <td>16.5</td>\n",
       "      <td>21.1</td>\n",
       "      <td>16.5</td>\n",
       "      <td>28.4</td>\n",
       "    </tr>\n",
       "    <tr>\n",
       "      <th>2</th>\n",
       "      <td>2016-05-03</td>\n",
       "      <td>304.0</td>\n",
       "      <td>27.0</td>\n",
       "      <td>12.9</td>\n",
       "      <td>8.9</td>\n",
       "      <td>17.6</td>\n",
       "    </tr>\n",
       "    <tr>\n",
       "      <th>3</th>\n",
       "      <td>2016-05-04</td>\n",
       "      <td>256.2</td>\n",
       "      <td>0.0</td>\n",
       "      <td>15.7</td>\n",
       "      <td>10.2</td>\n",
       "      <td>20.6</td>\n",
       "    </tr>\n",
       "    <tr>\n",
       "      <th>4</th>\n",
       "      <td>2016-05-05</td>\n",
       "      <td>243.8</td>\n",
       "      <td>7.5</td>\n",
       "      <td>18.9</td>\n",
       "      <td>10.2</td>\n",
       "      <td>26.9</td>\n",
       "    </tr>\n",
       "  </tbody>\n",
       "</table>\n",
       "</div>"
      ],
      "text/plain": [
       "         date  mosquito_Indicator  rain(mm)  mean_T(℃)  min_T(℃)  max_T(℃)\n",
       "0  2016-05-01               254.4       0.0       18.8      12.2      26.0\n",
       "1  2016-05-02               273.5      16.5       21.1      16.5      28.4\n",
       "2  2016-05-03               304.0      27.0       12.9       8.9      17.6\n",
       "3  2016-05-04               256.2       0.0       15.7      10.2      20.6\n",
       "4  2016-05-05               243.8       7.5       18.9      10.2      26.9"
      ]
     },
     "execution_count": 3,
     "metadata": {},
     "output_type": "execute_result"
    }
   ],
   "source": [
    "mos.head()"
   ]
  },
  {
   "cell_type": "markdown",
   "id": "a6c6a7d5",
   "metadata": {},
   "source": [
    "## 데이터 탐색 EDA"
   ]
  },
  {
   "cell_type": "code",
   "execution_count": 4,
   "id": "cd7f59fb",
   "metadata": {},
   "outputs": [
    {
     "data": {
      "text/plain": [
       "Index(['date', 'mosquito_Indicator', 'rain(mm)', 'mean_T(℃)', 'min_T(℃)',\n",
       "       'max_T(℃)'],\n",
       "      dtype='object')"
      ]
     },
     "execution_count": 4,
     "metadata": {},
     "output_type": "execute_result"
    }
   ],
   "source": [
    "mos.keys()"
   ]
  },
  {
   "cell_type": "code",
   "execution_count": 5,
   "id": "cc5dbb83",
   "metadata": {},
   "outputs": [],
   "source": [
    "#mos.columns !! 나중에 보고 삭제"
   ]
  },
  {
   "cell_type": "code",
   "execution_count": 7,
   "id": "781cce5a",
   "metadata": {},
   "outputs": [],
   "source": [
    "#colums=mos.keys() !! 나중에 보고 필요없으면 삭제"
   ]
  },
  {
   "cell_type": "code",
   "execution_count": 8,
   "id": "8cedfaf9",
   "metadata": {},
   "outputs": [],
   "source": [
    "# !!이거 만들필요가 있나??!!\n",
    "#df = pd.DataFrame(mos , columns=colums)"
   ]
  },
  {
   "cell_type": "code",
   "execution_count": 9,
   "id": "72199093",
   "metadata": {},
   "outputs": [],
   "source": [
    "#df.columns = ['date','mosquito_Indicator','rain','mean_T','min_T','max_T'] !! 나중에 보고 삭제"
   ]
  },
  {
   "cell_type": "code",
   "execution_count": 6,
   "id": "47f3f68f",
   "metadata": {},
   "outputs": [
    {
     "data": {
      "text/plain": [
       "Index(['date', 'mosquito_Indicator', 'rain(mm)', 'mean_T(℃)', 'min_T(℃)',\n",
       "       'max_T(℃)'],\n",
       "      dtype='object')"
      ]
     },
     "execution_count": 6,
     "metadata": {},
     "output_type": "execute_result"
    }
   ],
   "source": [
    "mos.keys()"
   ]
  },
  {
   "cell_type": "code",
   "execution_count": 7,
   "id": "f56ca968",
   "metadata": {},
   "outputs": [
    {
     "name": "stdout",
     "output_type": "stream",
     "text": [
      "<class 'pandas.core.frame.DataFrame'>\n",
      "RangeIndex: 1342 entries, 0 to 1341\n",
      "Data columns (total 6 columns):\n",
      " #   Column              Non-Null Count  Dtype  \n",
      "---  ------              --------------  -----  \n",
      " 0   date                1342 non-null   object \n",
      " 1   mosquito_Indicator  1342 non-null   float64\n",
      " 2   rain(mm)            1342 non-null   float64\n",
      " 3   mean_T(℃)           1342 non-null   float64\n",
      " 4   min_T(℃)            1342 non-null   float64\n",
      " 5   max_T(℃)            1342 non-null   float64\n",
      "dtypes: float64(5), object(1)\n",
      "memory usage: 63.0+ KB\n"
     ]
    }
   ],
   "source": [
    "mos.info()"
   ]
  },
  {
   "cell_type": "markdown",
   "id": "8925d91f",
   "metadata": {},
   "source": [
    "### 데이터 시각화"
   ]
  },
  {
   "cell_type": "code",
   "execution_count": 8,
   "id": "2cd01401",
   "metadata": {},
   "outputs": [],
   "source": [
    "def plot_hist(df):\n",
    "    # 하나의 도화지에 20개의 그래프 그리기\n",
    "    plt.rcParams['figure.figsize'] = [20,16]\n",
    "    fig = plt.figure()\n",
    "    \n",
    "    for i in range(len(df.columns)):\n",
    "        ax = fig.add_subplot(3,2,i+1) # 5행5열에서 i+1번째 #ax : 축\n",
    "        plt.hist(df[df.columns[i]],bins = 50)\n",
    "        ax.set_title(df.columns[i])\n",
    "    plt.show()"
   ]
  },
  {
   "cell_type": "code",
   "execution_count": 9,
   "id": "0e17bf96",
   "metadata": {},
   "outputs": [
    {
     "data": {
      "image/png": "[encoded data removed]",
      "text/plain": [
       "<Figure size 1440x1152 with 6 Axes>"
      ]
     },
     "metadata": {},
     "output_type": "display_data"
    }
   ],
   "source": [
    "plot_hist(mos)"
   ]
  },
  {
   "cell_type": "code",
   "execution_count": 10,
   "id": "1b56c17f",
   "metadata": {
    "scrolled": true
   },
   "outputs": [
    {
     "data": {
      "text/plain": [
       "count    1342.000000\n",
       "mean      251.991803\n",
       "std       295.871336\n",
       "min         0.000000\n",
       "25%         5.500000\n",
       "50%        91.900000\n",
       "75%       480.400000\n",
       "max      1000.000000\n",
       "Name: mosquito_Indicator, dtype: float64"
      ]
     },
     "execution_count": 10,
     "metadata": {},
     "output_type": "execute_result"
    }
   ],
   "source": [
    "mos['mosquito_Indicator'].describe()"
   ]
  },
  {
   "cell_type": "code",
   "execution_count": 11,
   "id": "b7f2d27e",
   "metadata": {},
   "outputs": [
    {
     "data": {
      "text/plain": [
       "False"
      ]
     },
     "execution_count": 11,
     "metadata": {},
     "output_type": "execute_result"
    }
   ],
   "source": [
    "mos.date.is_unique"
   ]
  },
  {
   "cell_type": "markdown",
   "id": "277158ac",
   "metadata": {},
   "source": [
    "https://min23th.tistory.com/45"
   ]
  },
  {
   "cell_type": "code",
   "execution_count": 12,
   "id": "c146eb70",
   "metadata": {},
   "outputs": [],
   "source": [
    "mos = mos.drop_duplicates(subset=['date'])"
   ]
  },
  {
   "cell_type": "code",
   "execution_count": 13,
   "id": "f6924ab9",
   "metadata": {},
   "outputs": [
    {
     "data": {
      "text/plain": [
       "True"
      ]
     },
     "execution_count": 13,
     "metadata": {},
     "output_type": "execute_result"
    }
   ],
   "source": [
    "mos.date.is_unique"
   ]
  },
  {
   "cell_type": "markdown",
   "id": "287e132b",
   "metadata": {},
   "source": [
    "## 데이터 전처리"
   ]
  },
  {
   "cell_type": "markdown",
   "id": "97b57685",
   "metadata": {},
   "source": [
    "### 날짜로 데이터타입 변경"
   ]
  },
  {
   "cell_type": "code",
   "execution_count": 14,
   "id": "56e8a3b9",
   "metadata": {},
   "outputs": [],
   "source": [
    "mos['date'] = pd.to_datetime(mos['date'])"
   ]
  },
  {
   "cell_type": "code",
   "execution_count": 15,
   "id": "5b58a228",
   "metadata": {},
   "outputs": [
    {
     "name": "stdout",
     "output_type": "stream",
     "text": [
      "<class 'pandas.core.frame.DataFrame'>\n",
      "Int64Index: 1295 entries, 0 to 1341\n",
      "Data columns (total 6 columns):\n",
      " #   Column              Non-Null Count  Dtype         \n",
      "---  ------              --------------  -----         \n",
      " 0   date                1295 non-null   datetime64[ns]\n",
      " 1   mosquito_Indicator  1295 non-null   float64       \n",
      " 2   rain(mm)            1295 non-null   float64       \n",
      " 3   mean_T(℃)           1295 non-null   float64       \n",
      " 4   min_T(℃)            1295 non-null   float64       \n",
      " 5   max_T(℃)            1295 non-null   float64       \n",
      "dtypes: datetime64[ns](1), float64(5)\n",
      "memory usage: 70.8 KB\n"
     ]
    }
   ],
   "source": [
    "mos.info()"
   ]
  },
  {
   "cell_type": "markdown",
   "id": "5cabec1c",
   "metadata": {},
   "source": [
    "### 스케일링"
   ]
  },
  {
   "cell_type": "code",
   "execution_count": 20,
   "id": "14e633eb",
   "metadata": {},
   "outputs": [],
   "source": [
    "data = mos.drop(['mosquito_Indicator', 'date'],axis = 1)\n",
    "target = mos['mosquito_Indicator']"
   ]
  },
  {
   "cell_type": "code",
   "execution_count": 21,
   "id": "6ec2a82b",
   "metadata": {},
   "outputs": [
    {
     "data": {
      "text/html": [
       "<div>\n",
       "<style scoped>\n",
       "    .dataframe tbody tr th:only-of-type {\n",
       "        vertical-align: middle;\n",
       "    }\n",
       "\n",
       "    .dataframe tbody tr th {\n",
       "        vertical-align: top;\n",
       "    }\n",
       "\n",
       "    .dataframe thead th {\n",
       "        text-align: right;\n",
       "    }\n",
       "</style>\n",
       "<table border=\"1\" class=\"dataframe\">\n",
       "  <thead>\n",
       "    <tr style=\"text-align: right;\">\n",
       "      <th></th>\n",
       "      <th>rain(mm)</th>\n",
       "      <th>mean_T(℃)</th>\n",
       "      <th>min_T(℃)</th>\n",
       "      <th>max_T(℃)</th>\n",
       "    </tr>\n",
       "  </thead>\n",
       "  <tbody>\n",
       "    <tr>\n",
       "      <th>0</th>\n",
       "      <td>0.0</td>\n",
       "      <td>18.8</td>\n",
       "      <td>12.2</td>\n",
       "      <td>26.0</td>\n",
       "    </tr>\n",
       "    <tr>\n",
       "      <th>1</th>\n",
       "      <td>16.5</td>\n",
       "      <td>21.1</td>\n",
       "      <td>16.5</td>\n",
       "      <td>28.4</td>\n",
       "    </tr>\n",
       "    <tr>\n",
       "      <th>2</th>\n",
       "      <td>27.0</td>\n",
       "      <td>12.9</td>\n",
       "      <td>8.9</td>\n",
       "      <td>17.6</td>\n",
       "    </tr>\n",
       "    <tr>\n",
       "      <th>3</th>\n",
       "      <td>0.0</td>\n",
       "      <td>15.7</td>\n",
       "      <td>10.2</td>\n",
       "      <td>20.6</td>\n",
       "    </tr>\n",
       "    <tr>\n",
       "      <th>4</th>\n",
       "      <td>7.5</td>\n",
       "      <td>18.9</td>\n",
       "      <td>10.2</td>\n",
       "      <td>26.9</td>\n",
       "    </tr>\n",
       "    <tr>\n",
       "      <th>...</th>\n",
       "      <td>...</td>\n",
       "      <td>...</td>\n",
       "      <td>...</td>\n",
       "      <td>...</td>\n",
       "    </tr>\n",
       "    <tr>\n",
       "      <th>1337</th>\n",
       "      <td>0.0</td>\n",
       "      <td>-1.7</td>\n",
       "      <td>-4.6</td>\n",
       "      <td>2.6</td>\n",
       "    </tr>\n",
       "    <tr>\n",
       "      <th>1338</th>\n",
       "      <td>0.0</td>\n",
       "      <td>1.1</td>\n",
       "      <td>-3.6</td>\n",
       "      <td>6.1</td>\n",
       "    </tr>\n",
       "    <tr>\n",
       "      <th>1339</th>\n",
       "      <td>1.4</td>\n",
       "      <td>3.8</td>\n",
       "      <td>1.1</td>\n",
       "      <td>6.2</td>\n",
       "    </tr>\n",
       "    <tr>\n",
       "      <th>1340</th>\n",
       "      <td>0.4</td>\n",
       "      <td>2.7</td>\n",
       "      <td>-5.7</td>\n",
       "      <td>6.8</td>\n",
       "    </tr>\n",
       "    <tr>\n",
       "      <th>1341</th>\n",
       "      <td>0.0</td>\n",
       "      <td>-7.9</td>\n",
       "      <td>-10.9</td>\n",
       "      <td>-4.5</td>\n",
       "    </tr>\n",
       "  </tbody>\n",
       "</table>\n",
       "<p>1295 rows × 4 columns</p>\n",
       "</div>"
      ],
      "text/plain": [
       "      rain(mm)  mean_T(℃)  min_T(℃)  max_T(℃)\n",
       "0          0.0       18.8      12.2      26.0\n",
       "1         16.5       21.1      16.5      28.4\n",
       "2         27.0       12.9       8.9      17.6\n",
       "3          0.0       15.7      10.2      20.6\n",
       "4          7.5       18.9      10.2      26.9\n",
       "...        ...        ...       ...       ...\n",
       "1337       0.0       -1.7      -4.6       2.6\n",
       "1338       0.0        1.1      -3.6       6.1\n",
       "1339       1.4        3.8       1.1       6.2\n",
       "1340       0.4        2.7      -5.7       6.8\n",
       "1341       0.0       -7.9     -10.9      -4.5\n",
       "\n",
       "[1295 rows x 4 columns]"
      ]
     },
     "execution_count": 21,
     "metadata": {},
     "output_type": "execute_result"
    }
   ],
   "source": [
    "data"
   ]
  },
  {
   "cell_type": "code",
   "execution_count": 22,
   "id": "5e009c1f",
   "metadata": {},
   "outputs": [
    {
     "data": {
      "text/plain": [
       "0       254.4\n",
       "1       273.5\n",
       "2       304.0\n",
       "3       256.2\n",
       "4       243.8\n",
       "        ...  \n",
       "1337      5.5\n",
       "1338      5.5\n",
       "1339      5.5\n",
       "1340      5.5\n",
       "1341      5.5\n",
       "Name: mosquito_Indicator, Length: 1295, dtype: float64"
      ]
     },
     "execution_count": 22,
     "metadata": {},
     "output_type": "execute_result"
    }
   ],
   "source": [
    "target"
   ]
  },
  {
   "cell_type": "code",
   "execution_count": 23,
   "id": "37512bab",
   "metadata": {},
   "outputs": [],
   "source": [
    "from sklearn.preprocessing import MinMaxScaler\n",
    "sc = MinMaxScaler()\n",
    "scaled = sc.fit_transform(data)"
   ]
  },
  {
   "cell_type": "code",
   "execution_count": 22,
   "id": "ed8b08ee",
   "metadata": {},
   "outputs": [],
   "source": [
    "# # '월' 만 분리 !! 나중에 다시 확인\n",
    "# mos['date_m'] = mos['date'].dt.strftime('%m')\n",
    "# mos.head()"
   ]
  },
  {
   "cell_type": "markdown",
   "id": "a042d3fe",
   "metadata": {},
   "source": [
    "### train, test 나누기"
   ]
  },
  {
   "cell_type": "code",
   "execution_count": 24,
   "id": "44cf96e7",
   "metadata": {},
   "outputs": [],
   "source": [
    "from sklearn.model_selection import train_test_split\n",
    "X_train, X_test, y_train, y_test = train_test_split(scaled, target, test_size = 0.2, random_state = 1121)"
   ]
  },
  {
   "cell_type": "markdown",
   "id": "082a8201",
   "metadata": {},
   "source": [
    "# 회귀분석"
   ]
  },
  {
   "cell_type": "markdown",
   "id": "be7d0331",
   "metadata": {},
   "source": [
    "## LinearRegression 알고리즘"
   ]
  },
  {
   "cell_type": "code",
   "execution_count": 25,
   "id": "7603f334",
   "metadata": {},
   "outputs": [],
   "source": [
    "from sklearn.linear_model import LinearRegression\n",
    "lr = LinearRegression()"
   ]
  },
  {
   "cell_type": "code",
   "execution_count": 26,
   "id": "99b09142",
   "metadata": {},
   "outputs": [],
   "source": [
    "lr.fit(X_train, y_train)\n",
    "pred = lr.predict(X_test)         "
   ]
  },
  {
   "cell_type": "code",
   "execution_count": 26,
   "id": "9da822bc",
   "metadata": {},
   "outputs": [],
   "source": [
    "## !! 책323 metrics.mean_absolute, metrics.mean_squared_error, metrics.r2_score"
   ]
  },
  {
   "cell_type": "code",
   "execution_count": 27,
   "id": "3305ec19",
   "metadata": {},
   "outputs": [
    {
     "name": "stdout",
     "output_type": "stream",
     "text": [
      "MAE: 152.494, MSE:  39084.151, RMSE:  197.697, R2:0.545\n"
     ]
    }
   ],
   "source": [
    "from sklearn.metrics import mean_absolute_error, mean_squared_error, r2_score\n",
    "\n",
    "mae = mean_absolute_error(y_test, pred)\n",
    "mse = mean_squared_error(y_test, pred)\n",
    "rmse = np.sqrt(mse)\n",
    "r2 = r2_score(y_test, pred)\n",
    "\n",
    "print('MAE: {0:.3f}, MSE: {1: .3f}, RMSE: {2: .3f}, R2:{3:.3f}'.format(mae, mse, rmse, r2))"
   ]
  },
  {
   "cell_type": "code",
   "execution_count": 28,
   "id": "1401d32b",
   "metadata": {},
   "outputs": [
    {
     "name": "stdout",
     "output_type": "stream",
     "text": [
      "0.561818520440136\n",
      "0.5453776460188773\n"
     ]
    }
   ],
   "source": [
    "print(lr.score(X_train,y_train))\n",
    "print(lr.score(X_test, y_test))"
   ]
  },
  {
   "cell_type": "markdown",
   "id": "413b4875",
   "metadata": {},
   "source": [
    "## 다항회귀"
   ]
  },
  {
   "cell_type": "markdown",
   "id": "afb378fe",
   "metadata": {},
   "source": [
    "### 사이킷런 변환기_3차"
   ]
  },
  {
   "cell_type": "code",
   "execution_count": 40,
   "id": "c9f0585d",
   "metadata": {},
   "outputs": [
    {
     "data": {
      "text/plain": [
       "['x0',\n",
       " 'x1',\n",
       " 'x2',\n",
       " 'x3',\n",
       " 'x0^2',\n",
       " 'x0 x1',\n",
       " 'x0 x2',\n",
       " 'x0 x3',\n",
       " 'x1^2',\n",
       " 'x1 x2',\n",
       " 'x1 x3',\n",
       " 'x2^2',\n",
       " 'x2 x3',\n",
       " 'x3^2',\n",
       " 'x0^3',\n",
       " 'x0^2 x1',\n",
       " 'x0^2 x2',\n",
       " 'x0^2 x3',\n",
       " 'x0 x1^2',\n",
       " 'x0 x1 x2',\n",
       " 'x0 x1 x3',\n",
       " 'x0 x2^2',\n",
       " 'x0 x2 x3',\n",
       " 'x0 x3^2',\n",
       " 'x1^3',\n",
       " 'x1^2 x2',\n",
       " 'x1^2 x3',\n",
       " 'x1 x2^2',\n",
       " 'x1 x2 x3',\n",
       " 'x1 x3^2',\n",
       " 'x2^3',\n",
       " 'x2^2 x3',\n",
       " 'x2 x3^2',\n",
       " 'x3^3']"
      ]
     },
     "execution_count": 40,
     "metadata": {},
     "output_type": "execute_result"
    }
   ],
   "source": [
    "from sklearn.preprocessing import PolynomialFeatures\n",
    "poly = PolynomialFeatures(degree=3 , include_bias = False) # 절편 개수(1을 제거)\n",
    "\n",
    "#poly.fit(X_train)\n",
    "train_poly = poly.fit_transform(X_train)\n",
    "test_poly = poly.transform(X_test)\n",
    "\n",
    "poly.get_feature_names()"
   ]
  },
  {
   "cell_type": "code",
   "execution_count": 41,
   "id": "5dff5eb2",
   "metadata": {},
   "outputs": [
    {
     "name": "stdout",
     "output_type": "stream",
     "text": [
      "0.6412912318596315\n",
      "-2.1589693687783704\n"
     ]
    }
   ],
   "source": [
    "lr.fit(train_poly,y_train)\n",
    "pred = lr.predict(test_poly)\n",
    "print(lr.score(train_poly, y_train))\n",
    "print(lr.score(test_poly, y_test))"
   ]
  },
  {
   "cell_type": "code",
   "execution_count": 42,
   "id": "674a9fd4",
   "metadata": {},
   "outputs": [
    {
     "name": "stdout",
     "output_type": "stream",
     "text": [
      "(1036, 4)\n",
      "(1036, 1)\n"
     ]
    }
   ],
   "source": [
    "print(X_train.shape)\n",
    "y_train = np.array(y_train).reshape(-1,1) # 2차원으로 차원 변경\n",
    "print(y_train.shape)"
   ]
  },
  {
   "cell_type": "markdown",
   "id": "951a38de",
   "metadata": {},
   "source": [
    "### 사이킷런 변환기_2차"
   ]
  },
  {
   "cell_type": "code",
   "execution_count": 43,
   "id": "61b65117",
   "metadata": {},
   "outputs": [
    {
     "data": {
      "text/plain": [
       "['x0',\n",
       " 'x1',\n",
       " 'x2',\n",
       " 'x3',\n",
       " 'x0^2',\n",
       " 'x0 x1',\n",
       " 'x0 x2',\n",
       " 'x0 x3',\n",
       " 'x1^2',\n",
       " 'x1 x2',\n",
       " 'x1 x3',\n",
       " 'x2^2',\n",
       " 'x2 x3',\n",
       " 'x3^2']"
      ]
     },
     "execution_count": 43,
     "metadata": {},
     "output_type": "execute_result"
    }
   ],
   "source": [
    "from sklearn.preprocessing import PolynomialFeatures\n",
    "\n",
    "poly = PolynomialFeatures(degree= 2, include_bias = False) # 절편 개수(1을 제거)\n",
    "\n",
    "#poly.fit(X_train)\n",
    "train_poly = poly.fit_transform(X_train)\n",
    "test_poly = poly.transform(X_test)\n",
    "\n",
    "poly.get_feature_names()"
   ]
  },
  {
   "cell_type": "markdown",
   "id": "29059b07",
   "metadata": {},
   "source": [
    "### 다중회귀_2차"
   ]
  },
  {
   "cell_type": "code",
   "execution_count": 44,
   "id": "b2a38baf",
   "metadata": {},
   "outputs": [
    {
     "name": "stdout",
     "output_type": "stream",
     "text": [
      "0.6013579279220855\n",
      "0.4889815298922213\n"
     ]
    }
   ],
   "source": [
    "lr.fit(train_poly,y_train)\n",
    "pred = lr.predict(test_poly)\n",
    "print(lr.score(train_poly, y_train))\n",
    "print(lr.score(test_poly, y_test))"
   ]
  },
  {
   "cell_type": "markdown",
   "id": "d61a7f0b",
   "metadata": {},
   "source": [
    "### 릿지 규제\n",
    "- 릿지 회귀(Ridge Regression) 모델 : 계수를 제곱한 값을 기준으로 규제 적용"
   ]
  },
  {
   "cell_type": "code",
   "execution_count": 45,
   "id": "7bb47546",
   "metadata": {},
   "outputs": [],
   "source": [
    "from sklearn.linear_model import Ridge, Lasso\n",
    "# 훈련세트와 테스트세트의 정수가 가장 가까운 지점이 최적의 alpha 값이 된다\n",
    "train_score = []\n",
    "test_score = []\n",
    "\n",
    "alpha_list = [0.001, 0.01, 0.1, 1, 10, 100]\n",
    "for alpha in alpha_list:\n",
    "    #릿지모델\n",
    "    ridge = Ridge(alpha = alpha)\n",
    "    #릿지모델 훈련\n",
    "    ridge.fit(X_train, y_train)\n",
    "    train_score.append(ridge.score(X_train, y_train))\n",
    "    test_score.append(ridge.score(X_test,y_test))"
   ]
  },
  {
   "cell_type": "code",
   "execution_count": 46,
   "id": "c975f40c",
   "metadata": {},
   "outputs": [],
   "source": [
    "# print(train_score)\n",
    "# print(test_score)\n",
    "# !!나중에 삭제하기"
   ]
  },
  {
   "cell_type": "code",
   "execution_count": 47,
   "id": "469eca37",
   "metadata": {},
   "outputs": [
    {
     "data": {
      "image/png": "[encoded data removed]",
      "text/plain": [
       "<Figure size 720x720 with 1 Axes>"
      ]
     },
     "metadata": {},
     "output_type": "display_data"
    }
   ],
   "source": [
    "# 시각화\n",
    "plt.figure(figsize=(10,10))\n",
    "plt.plot(np.log10(alpha_list), train_score) # 로그로 안 보면 크기가 너무 크다.\n",
    "plt.plot(np.log10(alpha_list), test_score)\n",
    "plt.xlabel('alpha')\n",
    "plt.ylabel('score')\n",
    "plt.show()"
   ]
  },
  {
   "cell_type": "markdown",
   "id": "b55ca64c",
   "metadata": {},
   "source": [
    "- 확률일 높은 것 중에 폭이 가장 좁은게 -1(0.1)과 0(1)/ 점수는 낮지만 폭이 좁은건 1(10)"
   ]
  },
  {
   "cell_type": "code",
   "execution_count": 48,
   "id": "77da1d16",
   "metadata": {},
   "outputs": [
    {
     "name": "stdout",
     "output_type": "stream",
     "text": [
      "0.5417508701720717\n",
      "0.5336737589918069\n"
     ]
    }
   ],
   "source": [
    "# alpha가 10(1)\n",
    "ridge = Ridge(alpha = 10)\n",
    "ridge.fit(X_train,y_train)\n",
    "print(ridge.score(X_train,y_train))\n",
    "print(ridge.score(X_test,y_test))"
   ]
  },
  {
   "cell_type": "code",
   "execution_count": 49,
   "id": "298c7efa",
   "metadata": {},
   "outputs": [
    {
     "name": "stdout",
     "output_type": "stream",
     "text": [
      "0.5584720652391784\n",
      "0.5453594913007357\n"
     ]
    }
   ],
   "source": [
    "# alpha가 1\n",
    "ridge = Ridge(alpha = 1)\n",
    "ridge.fit(X_train,y_train)\n",
    "print(ridge.score(X_train,y_train))\n",
    "print(ridge.score(X_test,y_test))"
   ]
  },
  {
   "cell_type": "code",
   "execution_count": 50,
   "id": "344f0fc0",
   "metadata": {},
   "outputs": [
    {
     "name": "stdout",
     "output_type": "stream",
     "text": [
      "0.5617292087395449\n",
      "0.5456175742772317\n"
     ]
    }
   ],
   "source": [
    "# alpha가 -1\n",
    "ridge = Ridge(alpha = 0.1)\n",
    "ridge.fit(X_train,y_train)\n",
    "print(ridge.score(X_train,y_train))\n",
    "print(ridge.score(X_test,y_test))"
   ]
  },
  {
   "cell_type": "markdown",
   "id": "f0b4ca41",
   "metadata": {},
   "source": [
    "- 알파값이 0.1(-1)일때가 예측값이 높고, 과대적합이 가장 최소화 되는 구간? !!"
   ]
  },
  {
   "cell_type": "markdown",
   "id": "ec57b0e9",
   "metadata": {},
   "source": [
    "### 라쏘규제"
   ]
  },
  {
   "cell_type": "code",
   "execution_count": 51,
   "id": "ef46acd8",
   "metadata": {},
   "outputs": [
    {
     "name": "stdout",
     "output_type": "stream",
     "text": [
      "0.555959291121928\n",
      "0.5419116036324951\n"
     ]
    }
   ],
   "source": [
    "lasso = Lasso()\n",
    "\n",
    "lasso.fit(X_train, y_train)\n",
    "print(lasso.score(X_train,y_train))\n",
    "print(lasso.score(X_test,y_test))"
   ]
  },
  {
   "cell_type": "code",
   "execution_count": 52,
   "id": "f57b4e63",
   "metadata": {},
   "outputs": [],
   "source": [
    "train_score = []\n",
    "test_score = []\n",
    "\n",
    "alpha_list = [0.001, 0.01, 0.1, 1, 10, 100]\n",
    "for alpha in alpha_list:\n",
    "    #라쏘모델\n",
    "    lasso = Lasso(alpha = alpha)\n",
    "    #릿지모델 훈련\n",
    "    lasso.fit(X_train, y_train)\n",
    "    #결정계수(R2 score)\n",
    "    train_score.append(lasso.score(X_train,y_train))\n",
    "    test_score.append(lasso.score(X_test,y_test))"
   ]
  },
  {
   "cell_type": "code",
   "execution_count": 53,
   "id": "9d075364",
   "metadata": {},
   "outputs": [
    {
     "data": {
      "image/png": "[encoded data removed]",
      "text/plain": [
       "<Figure size 720x720 with 1 Axes>"
      ]
     },
     "metadata": {},
     "output_type": "display_data"
    }
   ],
   "source": [
    "# 시각화\n",
    "plt.figure(figsize=(10,10))\n",
    "plt.plot(np.log10(alpha_list), train_score) # 로그로 안 보면 크기가 너무 크다.\n",
    "plt.plot(np.log10(alpha_list), test_score)\n",
    "plt.xlabel('alpha')\n",
    "plt.ylabel('score')\n",
    "plt.show()"
   ]
  },
  {
   "cell_type": "markdown",
   "id": "b41c8469",
   "metadata": {},
   "source": [
    "- 시각화로 봤을 때 -1(0.1), 0(1), 1(10) 넣어보기"
   ]
  },
  {
   "cell_type": "code",
   "execution_count": 54,
   "id": "a1fe7d9e",
   "metadata": {},
   "outputs": [
    {
     "name": "stdout",
     "output_type": "stream",
     "text": [
      "0.5614372438900941\n",
      "0.5437997463207276\n"
     ]
    }
   ],
   "source": [
    "# 알파값 0.1\n",
    "lasso = Lasso(alpha = 0.1)\n",
    "lasso.fit(X_train,y_train)\n",
    "print(lasso.score(X_train,y_train))\n",
    "print(lasso.score(X_test,y_test))"
   ]
  },
  {
   "cell_type": "code",
   "execution_count": 55,
   "id": "adcd0609",
   "metadata": {},
   "outputs": [
    {
     "name": "stdout",
     "output_type": "stream",
     "text": [
      "0.555959291121928\n",
      "0.5419116036324951\n"
     ]
    }
   ],
   "source": [
    "# 알파값 1\n",
    "lasso = Lasso(alpha = 1)\n",
    "lasso.fit(X_train,y_train)\n",
    "print(lasso.score(X_train,y_train))\n",
    "print(lasso.score(X_test,y_test))"
   ]
  },
  {
   "cell_type": "code",
   "execution_count": 56,
   "id": "8eda7781",
   "metadata": {},
   "outputs": [
    {
     "name": "stdout",
     "output_type": "stream",
     "text": [
      "0.5332946185403951\n",
      "0.5242197770735639\n"
     ]
    }
   ],
   "source": [
    "# 알파값 10\n",
    "lasso = Lasso(alpha = 10)\n",
    "lasso.fit(X_train,y_train)\n",
    "print(lasso.score(X_train,y_train))\n",
    "print(lasso.score(X_test,y_test))"
   ]
  },
  {
   "cell_type": "markdown",
   "id": "2fb8f351",
   "metadata": {},
   "source": [
    "- 릿지가 조금더 좋은 결과값이 나옴\n",
    "-1 <br>\n",
    "0.568638174457321<br>\n",
    "0.553378946756842<br>\n",
    "<br>\n",
    "0.1<br>\n",
    "0.5678192530074133<br>\n",
    "0.5529708289748807<br>"
   ]
  },
  {
   "cell_type": "markdown",
   "id": "a660e64d",
   "metadata": {},
   "source": [
    "# 시계열 분석"
   ]
  },
  {
   "cell_type": "code",
   "execution_count": 57,
   "id": "ba54661c",
   "metadata": {},
   "outputs": [
    {
     "name": "stdout",
     "output_type": "stream",
     "text": [
      "<class 'pandas.core.frame.DataFrame'>\n",
      "Int64Index: 1295 entries, 0 to 1341\n",
      "Data columns (total 6 columns):\n",
      " #   Column              Non-Null Count  Dtype         \n",
      "---  ------              --------------  -----         \n",
      " 0   date                1295 non-null   datetime64[ns]\n",
      " 1   mosquito_Indicator  1295 non-null   float64       \n",
      " 2   rain(mm)            1295 non-null   float64       \n",
      " 3   mean_T(℃)           1295 non-null   float64       \n",
      " 4   min_T(℃)            1295 non-null   float64       \n",
      " 5   max_T(℃)            1295 non-null   float64       \n",
      "dtypes: datetime64[ns](1), float64(5)\n",
      "memory usage: 70.8 KB\n"
     ]
    }
   ],
   "source": [
    "mos.info()"
   ]
  },
  {
   "cell_type": "code",
   "execution_count": 58,
   "id": "576574d4",
   "metadata": {},
   "outputs": [
    {
     "data": {
      "text/html": [
       "<div>\n",
       "<style scoped>\n",
       "    .dataframe tbody tr th:only-of-type {\n",
       "        vertical-align: middle;\n",
       "    }\n",
       "\n",
       "    .dataframe tbody tr th {\n",
       "        vertical-align: top;\n",
       "    }\n",
       "\n",
       "    .dataframe thead th {\n",
       "        text-align: right;\n",
       "    }\n",
       "</style>\n",
       "<table border=\"1\" class=\"dataframe\">\n",
       "  <thead>\n",
       "    <tr style=\"text-align: right;\">\n",
       "      <th></th>\n",
       "      <th>date</th>\n",
       "      <th>mosquito_Indicator</th>\n",
       "      <th>rain(mm)</th>\n",
       "      <th>mean_T(℃)</th>\n",
       "      <th>min_T(℃)</th>\n",
       "      <th>max_T(℃)</th>\n",
       "    </tr>\n",
       "  </thead>\n",
       "  <tbody>\n",
       "    <tr>\n",
       "      <th>0</th>\n",
       "      <td>2016-05-01</td>\n",
       "      <td>254.4</td>\n",
       "      <td>0.0</td>\n",
       "      <td>18.8</td>\n",
       "      <td>12.2</td>\n",
       "      <td>26.0</td>\n",
       "    </tr>\n",
       "    <tr>\n",
       "      <th>1</th>\n",
       "      <td>2016-05-02</td>\n",
       "      <td>273.5</td>\n",
       "      <td>16.5</td>\n",
       "      <td>21.1</td>\n",
       "      <td>16.5</td>\n",
       "      <td>28.4</td>\n",
       "    </tr>\n",
       "    <tr>\n",
       "      <th>2</th>\n",
       "      <td>2016-05-03</td>\n",
       "      <td>304.0</td>\n",
       "      <td>27.0</td>\n",
       "      <td>12.9</td>\n",
       "      <td>8.9</td>\n",
       "      <td>17.6</td>\n",
       "    </tr>\n",
       "    <tr>\n",
       "      <th>3</th>\n",
       "      <td>2016-05-04</td>\n",
       "      <td>256.2</td>\n",
       "      <td>0.0</td>\n",
       "      <td>15.7</td>\n",
       "      <td>10.2</td>\n",
       "      <td>20.6</td>\n",
       "    </tr>\n",
       "    <tr>\n",
       "      <th>4</th>\n",
       "      <td>2016-05-05</td>\n",
       "      <td>243.8</td>\n",
       "      <td>7.5</td>\n",
       "      <td>18.9</td>\n",
       "      <td>10.2</td>\n",
       "      <td>26.9</td>\n",
       "    </tr>\n",
       "  </tbody>\n",
       "</table>\n",
       "</div>"
      ],
      "text/plain": [
       "        date  mosquito_Indicator  rain(mm)  mean_T(℃)  min_T(℃)  max_T(℃)\n",
       "0 2016-05-01               254.4       0.0       18.8      12.2      26.0\n",
       "1 2016-05-02               273.5      16.5       21.1      16.5      28.4\n",
       "2 2016-05-03               304.0      27.0       12.9       8.9      17.6\n",
       "3 2016-05-04               256.2       0.0       15.7      10.2      20.6\n",
       "4 2016-05-05               243.8       7.5       18.9      10.2      26.9"
      ]
     },
     "execution_count": 58,
     "metadata": {},
     "output_type": "execute_result"
    }
   ],
   "source": [
    "mos.head()"
   ]
  },
  {
   "cell_type": "markdown",
   "id": "e782312e",
   "metadata": {},
   "source": [
    "### 모듈 불러오기"
   ]
  },
  {
   "cell_type": "code",
   "execution_count": 59,
   "id": "643e2230",
   "metadata": {},
   "outputs": [],
   "source": [
    "import warnings\n",
    "\n",
    "import numpy as np\n",
    "import pandas as pd\n",
    "\n",
    "# hide warnings\n",
    "warnings.filterwarnings(\"ignore\")"
   ]
  },
  {
   "cell_type": "code",
   "execution_count": 60,
   "id": "8e9bb947",
   "metadata": {},
   "outputs": [],
   "source": [
    "#_centered 이게 미리 설치 되어 있어서 충돌이 일어나 모듈 import가 안되서 함수로 따로 만듬\n",
    "import  scipy.signal.signaltools\n",
    "\n",
    "def _centered(arr, newsize):\n",
    "    # Return the center newsize portion of the array.\n",
    "    newsize = np.asarray(newsize)\n",
    "    currsize = np.array(arr.shape)\n",
    "    startind = (currsize - newsize) // 2\n",
    "    endind = startind + newsize\n",
    "    myslice = [slice(startind[k], endind[k]) for k in range(len(endind))]\n",
    "    return arr[tuple(myslice)]\n",
    "\n",
    "scipy.signal.signaltools._centered = _centered"
   ]
  },
  {
   "cell_type": "code",
   "execution_count": 61,
   "id": "90a3d080",
   "metadata": {},
   "outputs": [],
   "source": [
    "from sktime.utils.plotting import plot_series"
   ]
  },
  {
   "cell_type": "code",
   "execution_count": 62,
   "id": "b1832193",
   "metadata": {},
   "outputs": [],
   "source": [
    "from sktime.datasets import load_airline\n",
    "y = load_airline()"
   ]
  },
  {
   "cell_type": "code",
   "execution_count": 63,
   "id": "eb788bd2",
   "metadata": {},
   "outputs": [
    {
     "data": {
      "text/plain": [
       "pandas.core.series.Series"
      ]
     },
     "execution_count": 63,
     "metadata": {},
     "output_type": "execute_result"
    }
   ],
   "source": [
    "type(y)"
   ]
  },
  {
   "cell_type": "code",
   "execution_count": 64,
   "id": "fc4cefba",
   "metadata": {},
   "outputs": [
    {
     "data": {
      "text/plain": [
       "Period\n",
       "1949-01    112.0\n",
       "1949-02    118.0\n",
       "1949-03    132.0\n",
       "1949-04    129.0\n",
       "1949-05    121.0\n",
       "           ...  \n",
       "1960-08    606.0\n",
       "1960-09    508.0\n",
       "1960-10    461.0\n",
       "1960-11    390.0\n",
       "1960-12    432.0\n",
       "Freq: M, Name: Number of airline passengers, Length: 144, dtype: float64"
      ]
     },
     "execution_count": 64,
     "metadata": {},
     "output_type": "execute_result"
    }
   ],
   "source": [
    "y\n",
    "# 월별 승객수\n",
    "# 이미 정제가 된 데이터라고 예측 "
   ]
  },
  {
   "cell_type": "code",
   "execution_count": 65,
   "id": "41f90b23",
   "metadata": {},
   "outputs": [
    {
     "name": "stdout",
     "output_type": "stream",
     "text": [
      "<class 'pandas.core.series.Series'>\n",
      "PeriodIndex: 144 entries, 1949-01 to 1960-12\n",
      "Freq: M\n",
      "Series name: Number of airline passengers\n",
      "Non-Null Count  Dtype  \n",
      "--------------  -----  \n",
      "144 non-null    float64\n",
      "dtypes: float64(1)\n",
      "memory usage: 2.2 KB\n"
     ]
    }
   ],
   "source": [
    "y.info()"
   ]
  },
  {
   "cell_type": "code",
   "execution_count": 66,
   "id": "3b278013",
   "metadata": {},
   "outputs": [
    {
     "data": {
      "text/plain": [
       "229.0    3\n",
       "306.0    2\n",
       "405.0    2\n",
       "242.0    2\n",
       "196.0    2\n",
       "        ..\n",
       "191.0    1\n",
       "209.0    1\n",
       "230.0    1\n",
       "218.0    1\n",
       "432.0    1\n",
       "Name: Number of airline passengers, Length: 118, dtype: int64"
      ]
     },
     "execution_count": 66,
     "metadata": {},
     "output_type": "execute_result"
    }
   ],
   "source": [
    "y.value_counts()"
   ]
  },
  {
   "cell_type": "code",
   "execution_count": 67,
   "id": "acac16bc",
   "metadata": {},
   "outputs": [
    {
     "data": {
      "text/plain": [
       "PeriodIndex(['1949-01', '1949-02', '1949-03', '1949-04', '1949-05', '1949-06',\n",
       "             '1949-07', '1949-08', '1949-09', '1949-10',\n",
       "             ...\n",
       "             '1960-03', '1960-04', '1960-05', '1960-06', '1960-07', '1960-08',\n",
       "             '1960-09', '1960-10', '1960-11', '1960-12'],\n",
       "            dtype='period[M]', name='Period', length=144)"
      ]
     },
     "execution_count": 67,
     "metadata": {},
     "output_type": "execute_result"
    }
   ],
   "source": [
    "y.index"
   ]
  },
  {
   "cell_type": "code",
   "execution_count": 68,
   "id": "0a34c357",
   "metadata": {},
   "outputs": [],
   "source": [
    "# 아리마 "
   ]
  },
  {
   "cell_type": "code",
   "execution_count": 69,
   "id": "d5c1204d",
   "metadata": {},
   "outputs": [
    {
     "data": {
      "text/plain": [
       "(<Figure size 1152x288 with 1 Axes>,\n",
       " <AxesSubplot:ylabel='Number of airline passengers'>)"
      ]
     },
     "execution_count": 69,
     "metadata": {},
     "output_type": "execute_result"
    },
    {
     "data": {
      "image/png": "[encoded data removed]",
      "text/plain": [
       "<Figure size 1152x288 with 1 Axes>"
      ]
     },
     "metadata": {},
     "output_type": "display_data"
    }
   ],
   "source": [
    "plot_series(y)"
   ]
  },
  {
   "cell_type": "markdown",
   "id": "0c8ee5c2",
   "metadata": {},
   "source": [
    "### 모기 데이터 시계열 시각화"
   ]
  },
  {
   "cell_type": "code",
   "execution_count": 70,
   "id": "b491e205",
   "metadata": {},
   "outputs": [
    {
     "name": "stdout",
     "output_type": "stream",
     "text": [
      "<class 'pandas.core.frame.DataFrame'>\n",
      "Int64Index: 1295 entries, 0 to 1341\n",
      "Data columns (total 6 columns):\n",
      " #   Column              Non-Null Count  Dtype         \n",
      "---  ------              --------------  -----         \n",
      " 0   date                1295 non-null   datetime64[ns]\n",
      " 1   mosquito_Indicator  1295 non-null   float64       \n",
      " 2   rain(mm)            1295 non-null   float64       \n",
      " 3   mean_T(℃)           1295 non-null   float64       \n",
      " 4   min_T(℃)            1295 non-null   float64       \n",
      " 5   max_T(℃)            1295 non-null   float64       \n",
      "dtypes: datetime64[ns](1), float64(5)\n",
      "memory usage: 70.8 KB\n"
     ]
    }
   ],
   "source": [
    "mos.info()"
   ]
  },
  {
   "cell_type": "code",
   "execution_count": 71,
   "id": "73f6df45",
   "metadata": {},
   "outputs": [
    {
     "data": {
      "text/plain": [
       "0      2016-05-01\n",
       "1      2016-05-02\n",
       "2      2016-05-03\n",
       "3      2016-05-04\n",
       "4      2016-05-05\n",
       "          ...    \n",
       "1337   2019-12-27\n",
       "1338   2019-12-28\n",
       "1339   2019-12-29\n",
       "1340   2019-12-30\n",
       "1341   2019-12-31\n",
       "Name: date, Length: 1295, dtype: datetime64[ns]"
      ]
     },
     "execution_count": 71,
     "metadata": {},
     "output_type": "execute_result"
    }
   ],
   "source": [
    "mos.date"
   ]
  },
  {
   "cell_type": "code",
   "execution_count": 72,
   "id": "3c6edac1",
   "metadata": {},
   "outputs": [
    {
     "data": {
      "text/plain": [
       "0       254.4\n",
       "1       273.5\n",
       "2       304.0\n",
       "3       256.2\n",
       "4       243.8\n",
       "        ...  \n",
       "1337      5.5\n",
       "1338      5.5\n",
       "1339      5.5\n",
       "1340      5.5\n",
       "1341      5.5\n",
       "Name: mosquito_Indicator, Length: 1295, dtype: float64"
      ]
     },
     "execution_count": 72,
     "metadata": {},
     "output_type": "execute_result"
    }
   ],
   "source": [
    "target"
   ]
  },
  {
   "cell_type": "code",
   "execution_count": 73,
   "id": "4a26a1c3",
   "metadata": {},
   "outputs": [
    {
     "data": {
      "text/html": [
       "<div>\n",
       "<style scoped>\n",
       "    .dataframe tbody tr th:only-of-type {\n",
       "        vertical-align: middle;\n",
       "    }\n",
       "\n",
       "    .dataframe tbody tr th {\n",
       "        vertical-align: top;\n",
       "    }\n",
       "\n",
       "    .dataframe thead th {\n",
       "        text-align: right;\n",
       "    }\n",
       "</style>\n",
       "<table border=\"1\" class=\"dataframe\">\n",
       "  <thead>\n",
       "    <tr style=\"text-align: right;\">\n",
       "      <th></th>\n",
       "      <th>rain(mm)</th>\n",
       "      <th>mean_T(℃)</th>\n",
       "      <th>min_T(℃)</th>\n",
       "      <th>max_T(℃)</th>\n",
       "      <th>date</th>\n",
       "      <th>Indi</th>\n",
       "    </tr>\n",
       "  </thead>\n",
       "  <tbody>\n",
       "    <tr>\n",
       "      <th>0</th>\n",
       "      <td>0.000000</td>\n",
       "      <td>0.692784</td>\n",
       "      <td>0.623701</td>\n",
       "      <td>0.729622</td>\n",
       "      <td>2016-05-01</td>\n",
       "      <td>254.4</td>\n",
       "    </tr>\n",
       "    <tr>\n",
       "      <th>1</th>\n",
       "      <td>0.114187</td>\n",
       "      <td>0.740206</td>\n",
       "      <td>0.713098</td>\n",
       "      <td>0.777336</td>\n",
       "      <td>2016-05-02</td>\n",
       "      <td>273.5</td>\n",
       "    </tr>\n",
       "    <tr>\n",
       "      <th>2</th>\n",
       "      <td>0.186851</td>\n",
       "      <td>0.571134</td>\n",
       "      <td>0.555094</td>\n",
       "      <td>0.562624</td>\n",
       "      <td>2016-05-03</td>\n",
       "      <td>304.0</td>\n",
       "    </tr>\n",
       "    <tr>\n",
       "      <th>3</th>\n",
       "      <td>0.000000</td>\n",
       "      <td>0.628866</td>\n",
       "      <td>0.582121</td>\n",
       "      <td>0.622266</td>\n",
       "      <td>2016-05-04</td>\n",
       "      <td>256.2</td>\n",
       "    </tr>\n",
       "    <tr>\n",
       "      <th>4</th>\n",
       "      <td>0.051903</td>\n",
       "      <td>0.694845</td>\n",
       "      <td>0.582121</td>\n",
       "      <td>0.747515</td>\n",
       "      <td>2016-05-05</td>\n",
       "      <td>243.8</td>\n",
       "    </tr>\n",
       "    <tr>\n",
       "      <th>...</th>\n",
       "      <td>...</td>\n",
       "      <td>...</td>\n",
       "      <td>...</td>\n",
       "      <td>...</td>\n",
       "      <td>...</td>\n",
       "      <td>...</td>\n",
       "    </tr>\n",
       "    <tr>\n",
       "      <th>1290</th>\n",
       "      <td>0.000000</td>\n",
       "      <td>0.270103</td>\n",
       "      <td>0.274428</td>\n",
       "      <td>0.264414</td>\n",
       "      <td>2019-11-13</td>\n",
       "      <td>5.5</td>\n",
       "    </tr>\n",
       "    <tr>\n",
       "      <th>1291</th>\n",
       "      <td>0.000000</td>\n",
       "      <td>0.327835</td>\n",
       "      <td>0.295218</td>\n",
       "      <td>0.333996</td>\n",
       "      <td>2019-11-14</td>\n",
       "      <td>5.5</td>\n",
       "    </tr>\n",
       "    <tr>\n",
       "      <th>1292</th>\n",
       "      <td>0.009689</td>\n",
       "      <td>0.383505</td>\n",
       "      <td>0.392931</td>\n",
       "      <td>0.335984</td>\n",
       "      <td>2019-11-15</td>\n",
       "      <td>5.5</td>\n",
       "    </tr>\n",
       "    <tr>\n",
       "      <th>1293</th>\n",
       "      <td>0.002768</td>\n",
       "      <td>0.360825</td>\n",
       "      <td>0.251559</td>\n",
       "      <td>0.347913</td>\n",
       "      <td>2019-11-16</td>\n",
       "      <td>5.5</td>\n",
       "    </tr>\n",
       "    <tr>\n",
       "      <th>1294</th>\n",
       "      <td>0.000000</td>\n",
       "      <td>0.142268</td>\n",
       "      <td>0.143451</td>\n",
       "      <td>0.123260</td>\n",
       "      <td>2019-11-17</td>\n",
       "      <td>5.5</td>\n",
       "    </tr>\n",
       "  </tbody>\n",
       "</table>\n",
       "<p>1295 rows × 6 columns</p>\n",
       "</div>"
      ],
      "text/plain": [
       "      rain(mm)  mean_T(℃)  min_T(℃)  max_T(℃)       date   Indi\n",
       "0     0.000000   0.692784  0.623701  0.729622 2016-05-01  254.4\n",
       "1     0.114187   0.740206  0.713098  0.777336 2016-05-02  273.5\n",
       "2     0.186851   0.571134  0.555094  0.562624 2016-05-03  304.0\n",
       "3     0.000000   0.628866  0.582121  0.622266 2016-05-04  256.2\n",
       "4     0.051903   0.694845  0.582121  0.747515 2016-05-05  243.8\n",
       "...        ...        ...       ...       ...        ...    ...\n",
       "1290  0.000000   0.270103  0.274428  0.264414 2019-11-13    5.5\n",
       "1291  0.000000   0.327835  0.295218  0.333996 2019-11-14    5.5\n",
       "1292  0.009689   0.383505  0.392931  0.335984 2019-11-15    5.5\n",
       "1293  0.002768   0.360825  0.251559  0.347913 2019-11-16    5.5\n",
       "1294  0.000000   0.142268  0.143451  0.123260 2019-11-17    5.5\n",
       "\n",
       "[1295 rows x 6 columns]"
      ]
     },
     "execution_count": 73,
     "metadata": {},
     "output_type": "execute_result"
    }
   ],
   "source": [
    "mos_scaled = pd.DataFrame(scaled, columns=data.columns)\n",
    "mos_scaled['date'] = mos.date\n",
    "mos_scaled['Indi'] = target\n",
    "mos_scaled"
   ]
  },
  {
   "cell_type": "code",
   "execution_count": 74,
   "id": "432dfb4c",
   "metadata": {},
   "outputs": [
    {
     "data": {
      "text/html": [
       "<div>\n",
       "<style scoped>\n",
       "    .dataframe tbody tr th:only-of-type {\n",
       "        vertical-align: middle;\n",
       "    }\n",
       "\n",
       "    .dataframe tbody tr th {\n",
       "        vertical-align: top;\n",
       "    }\n",
       "\n",
       "    .dataframe thead th {\n",
       "        text-align: right;\n",
       "    }\n",
       "</style>\n",
       "<table border=\"1\" class=\"dataframe\">\n",
       "  <thead>\n",
       "    <tr style=\"text-align: right;\">\n",
       "      <th></th>\n",
       "      <th>Indi</th>\n",
       "    </tr>\n",
       "    <tr>\n",
       "      <th>date</th>\n",
       "      <th></th>\n",
       "    </tr>\n",
       "  </thead>\n",
       "  <tbody>\n",
       "    <tr>\n",
       "      <th>2016-05-01</th>\n",
       "      <td>254.4</td>\n",
       "    </tr>\n",
       "    <tr>\n",
       "      <th>2016-05-02</th>\n",
       "      <td>273.5</td>\n",
       "    </tr>\n",
       "    <tr>\n",
       "      <th>2016-05-03</th>\n",
       "      <td>304.0</td>\n",
       "    </tr>\n",
       "    <tr>\n",
       "      <th>2016-05-04</th>\n",
       "      <td>256.2</td>\n",
       "    </tr>\n",
       "    <tr>\n",
       "      <th>2016-05-05</th>\n",
       "      <td>243.8</td>\n",
       "    </tr>\n",
       "    <tr>\n",
       "      <th>...</th>\n",
       "      <td>...</td>\n",
       "    </tr>\n",
       "    <tr>\n",
       "      <th>2019-11-13</th>\n",
       "      <td>5.5</td>\n",
       "    </tr>\n",
       "    <tr>\n",
       "      <th>2019-11-14</th>\n",
       "      <td>5.5</td>\n",
       "    </tr>\n",
       "    <tr>\n",
       "      <th>2019-11-15</th>\n",
       "      <td>5.5</td>\n",
       "    </tr>\n",
       "    <tr>\n",
       "      <th>2019-11-16</th>\n",
       "      <td>5.5</td>\n",
       "    </tr>\n",
       "    <tr>\n",
       "      <th>2019-11-17</th>\n",
       "      <td>5.5</td>\n",
       "    </tr>\n",
       "  </tbody>\n",
       "</table>\n",
       "<p>1295 rows × 1 columns</p>\n",
       "</div>"
      ],
      "text/plain": [
       "             Indi\n",
       "date             \n",
       "2016-05-01  254.4\n",
       "2016-05-02  273.5\n",
       "2016-05-03  304.0\n",
       "2016-05-04  256.2\n",
       "2016-05-05  243.8\n",
       "...           ...\n",
       "2019-11-13    5.5\n",
       "2019-11-14    5.5\n",
       "2019-11-15    5.5\n",
       "2019-11-16    5.5\n",
       "2019-11-17    5.5\n",
       "\n",
       "[1295 rows x 1 columns]"
      ]
     },
     "execution_count": 74,
     "metadata": {},
     "output_type": "execute_result"
    }
   ],
   "source": [
    "# 일별 \n",
    "mos_p = mos_scaled[['date', 'Indi']]\n",
    "mos_p = mos_p.set_index('date')\n",
    "mos_p"
   ]
  },
  {
   "cell_type": "code",
   "execution_count": 75,
   "id": "79d1f7df",
   "metadata": {
    "scrolled": false
   },
   "outputs": [
    {
     "ename": "ValueError",
     "evalue": "The (time) index of input must be sorted monotonically increasing, but found: DatetimeIndex(['2016-05-01', '2016-05-02', '2016-05-03', '2016-05-04',\n               '2016-05-05', '2016-05-06', '2016-05-07', '2016-05-08',\n               '2016-05-09', '2016-05-10',\n               ...\n               '2019-11-08', '2019-11-09', '2019-11-10', '2019-11-11',\n               '2019-11-12', '2019-11-13', '2019-11-14', '2019-11-15',\n               '2019-11-16', '2019-11-17'],\n              dtype='datetime64[ns]', name='date', length=1295, freq=None)",
     "output_type": "error",
     "traceback": [
      "\u001b[1;31m---------------------------------------------------------------------------\u001b[0m",
      "\u001b[1;31mValueError\u001b[0m                                Traceback (most recent call last)",
      "\u001b[1;32m~\\AppData\\Local\\Temp/ipykernel_5552/3397459072.py\u001b[0m in \u001b[0;36m<module>\u001b[1;34m\u001b[0m\n\u001b[0;32m      1\u001b[0m \u001b[1;31m# 시계열 데이터 그래프\u001b[0m\u001b[1;33m\u001b[0m\u001b[1;33m\u001b[0m\u001b[0m\n\u001b[0;32m      2\u001b[0m \u001b[1;31m# 인덱스가 데이터 타입인 시리즈를 가지고 그레프 그리기\u001b[0m\u001b[1;33m\u001b[0m\u001b[1;33m\u001b[0m\u001b[0m\n\u001b[1;32m----> 3\u001b[1;33m \u001b[0mplot_series\u001b[0m\u001b[1;33m(\u001b[0m\u001b[0mmos_p\u001b[0m\u001b[1;33m)\u001b[0m\u001b[1;33m\u001b[0m\u001b[1;33m\u001b[0m\u001b[0m\n\u001b[0m",
      "\u001b[1;32mC:\\Anaconda3\\lib\\site-packages\\sktime\\utils\\plotting.py\u001b[0m in \u001b[0;36mplot_series\u001b[1;34m(labels, markers, x_label, y_label, ax, *series)\u001b[0m\n\u001b[0;32m     48\u001b[0m \u001b[1;33m\u001b[0m\u001b[0m\n\u001b[0;32m     49\u001b[0m     \u001b[1;32mfor\u001b[0m \u001b[0my\u001b[0m \u001b[1;32min\u001b[0m \u001b[0mseries\u001b[0m\u001b[1;33m:\u001b[0m\u001b[1;33m\u001b[0m\u001b[1;33m\u001b[0m\u001b[0m\n\u001b[1;32m---> 50\u001b[1;33m         \u001b[0mcheck_y\u001b[0m\u001b[1;33m(\u001b[0m\u001b[0my\u001b[0m\u001b[1;33m)\u001b[0m\u001b[1;33m\u001b[0m\u001b[1;33m\u001b[0m\u001b[0m\n\u001b[0m\u001b[0;32m     51\u001b[0m \u001b[1;33m\u001b[0m\u001b[0m\n\u001b[0;32m     52\u001b[0m     \u001b[0mseries\u001b[0m \u001b[1;33m=\u001b[0m \u001b[0mlist\u001b[0m\u001b[1;33m(\u001b[0m\u001b[0mseries\u001b[0m\u001b[1;33m)\u001b[0m\u001b[1;33m\u001b[0m\u001b[1;33m\u001b[0m\u001b[0m\n",
      "\u001b[1;32mC:\\Anaconda3\\lib\\site-packages\\sktime\\utils\\validation\\forecasting.py\u001b[0m in \u001b[0;36mcheck_y\u001b[1;34m(y, allow_empty, allow_constant, enforce_index_type)\u001b[0m\n\u001b[0;32m    142\u001b[0m         \u001b[0mIf\u001b[0m \u001b[0my\u001b[0m \u001b[1;32mis\u001b[0m \u001b[0man\u001b[0m \u001b[0minvalid\u001b[0m \u001b[0minput\u001b[0m\u001b[1;33m\u001b[0m\u001b[1;33m\u001b[0m\u001b[0m\n\u001b[0;32m    143\u001b[0m     \"\"\"\n\u001b[1;32m--> 144\u001b[1;33m     y = check_series(\n\u001b[0m\u001b[0;32m    145\u001b[0m         \u001b[0my\u001b[0m\u001b[1;33m,\u001b[0m\u001b[1;33m\u001b[0m\u001b[1;33m\u001b[0m\u001b[0m\n\u001b[0;32m    146\u001b[0m         \u001b[0menforce_univariate\u001b[0m\u001b[1;33m=\u001b[0m\u001b[1;32mTrue\u001b[0m\u001b[1;33m,\u001b[0m\u001b[1;33m\u001b[0m\u001b[1;33m\u001b[0m\u001b[0m\n",
      "\u001b[1;32mC:\\Anaconda3\\lib\\site-packages\\sktime\\utils\\validation\\series.py\u001b[0m in \u001b[0;36mcheck_series\u001b[1;34m(Z, enforce_univariate, enforce_multivariate, allow_empty, allow_numpy, allow_None, enforce_index_type, allow_index_names, var_name)\u001b[0m\n\u001b[0;32m    161\u001b[0m     \u001b[1;31m# check time index if input data is not an NumPy ndarray\u001b[0m\u001b[1;33m\u001b[0m\u001b[1;33m\u001b[0m\u001b[0m\n\u001b[0;32m    162\u001b[0m     \u001b[1;32mif\u001b[0m \u001b[1;32mnot\u001b[0m \u001b[0misinstance\u001b[0m\u001b[1;33m(\u001b[0m\u001b[0mZ\u001b[0m\u001b[1;33m,\u001b[0m \u001b[0mnp\u001b[0m\u001b[1;33m.\u001b[0m\u001b[0mndarray\u001b[0m\u001b[1;33m)\u001b[0m\u001b[1;33m:\u001b[0m\u001b[1;33m\u001b[0m\u001b[1;33m\u001b[0m\u001b[0m\n\u001b[1;32m--> 163\u001b[1;33m         check_time_index(\n\u001b[0m\u001b[0;32m    164\u001b[0m             \u001b[0mZ\u001b[0m\u001b[1;33m.\u001b[0m\u001b[0mindex\u001b[0m\u001b[1;33m,\u001b[0m\u001b[1;33m\u001b[0m\u001b[1;33m\u001b[0m\u001b[0m\n\u001b[0;32m    165\u001b[0m             \u001b[0mallow_empty\u001b[0m\u001b[1;33m=\u001b[0m\u001b[0mallow_empty\u001b[0m\u001b[1;33m,\u001b[0m\u001b[1;33m\u001b[0m\u001b[1;33m\u001b[0m\u001b[0m\n",
      "\u001b[1;32mC:\\Anaconda3\\lib\\site-packages\\sktime\\utils\\validation\\series.py\u001b[0m in \u001b[0;36mcheck_time_index\u001b[1;34m(index, allow_empty, enforce_index_type, var_name)\u001b[0m\n\u001b[0;32m    216\u001b[0m     \u001b[1;31m# Check time index is ordered in time\u001b[0m\u001b[1;33m\u001b[0m\u001b[1;33m\u001b[0m\u001b[0m\n\u001b[0;32m    217\u001b[0m     \u001b[1;32mif\u001b[0m \u001b[1;32mnot\u001b[0m \u001b[0mindex\u001b[0m\u001b[1;33m.\u001b[0m\u001b[0mis_monotonic\u001b[0m\u001b[1;33m:\u001b[0m\u001b[1;33m\u001b[0m\u001b[1;33m\u001b[0m\u001b[0m\n\u001b[1;32m--> 218\u001b[1;33m         raise ValueError(\n\u001b[0m\u001b[0;32m    219\u001b[0m             \u001b[1;34mf\"The (time) index of {var_name} must be sorted monotonically increasing, \"\u001b[0m\u001b[1;33m\u001b[0m\u001b[1;33m\u001b[0m\u001b[0m\n\u001b[0;32m    220\u001b[0m             \u001b[1;34mf\"but found: {index}\"\u001b[0m\u001b[1;33m\u001b[0m\u001b[1;33m\u001b[0m\u001b[0m\n",
      "\u001b[1;31mValueError\u001b[0m: The (time) index of input must be sorted monotonically increasing, but found: DatetimeIndex(['2016-05-01', '2016-05-02', '2016-05-03', '2016-05-04',\n               '2016-05-05', '2016-05-06', '2016-05-07', '2016-05-08',\n               '2016-05-09', '2016-05-10',\n               ...\n               '2019-11-08', '2019-11-09', '2019-11-10', '2019-11-11',\n               '2019-11-12', '2019-11-13', '2019-11-14', '2019-11-15',\n               '2019-11-16', '2019-11-17'],\n              dtype='datetime64[ns]', name='date', length=1295, freq=None)"
     ]
    }
   ],
   "source": [
    "# 시계열 데이터 그래프\n",
    "# 인덱스가 데이터 타입인 시리즈를 가지고 그레프 그리기\n",
    "plot_series(mos_p)"
   ]
  },
  {
   "cell_type": "markdown",
   "id": "c73c0b02",
   "metadata": {},
   "source": [
    "### 월별 그래프 (다시)"
   ]
  },
  {
   "cell_type": "code",
   "execution_count": 311,
   "id": "2fe00ea6",
   "metadata": {
    "scrolled": true
   },
   "outputs": [
    {
     "ename": "NameError",
     "evalue": "name 'date' is not defined",
     "output_type": "error",
     "traceback": [
      "\u001b[1;31m---------------------------------------------------------------------------\u001b[0m",
      "\u001b[1;31mNameError\u001b[0m                                 Traceback (most recent call last)",
      "\u001b[1;32m~\\AppData\\Local\\Temp/ipykernel_16220/731923199.py\u001b[0m in \u001b[0;36m<module>\u001b[1;34m\u001b[0m\n\u001b[0;32m      3\u001b[0m \u001b[0mmos_p_m\u001b[0m\u001b[1;33m[\u001b[0m\u001b[1;34m'date'\u001b[0m\u001b[1;33m]\u001b[0m\u001b[1;33m=\u001b[0m \u001b[0mmos_p\u001b[0m\u001b[1;33m.\u001b[0m\u001b[0mindex\u001b[0m\u001b[1;33m.\u001b[0m\u001b[0mstrftime\u001b[0m\u001b[1;33m(\u001b[0m\u001b[1;34m'%Y-%m'\u001b[0m\u001b[1;33m)\u001b[0m\u001b[1;33m.\u001b[0m\u001b[0mastype\u001b[0m\u001b[1;33m(\u001b[0m\u001b[1;34m'datetime64'\u001b[0m\u001b[1;33m)\u001b[0m\u001b[1;33m\u001b[0m\u001b[1;33m\u001b[0m\u001b[0m\n\u001b[0;32m      4\u001b[0m \u001b[0mmos_p_m\u001b[0m \u001b[1;33m=\u001b[0m \u001b[0mmos_p_m\u001b[0m\u001b[1;33m.\u001b[0m\u001b[0mset_index\u001b[0m\u001b[1;33m(\u001b[0m\u001b[1;34m'date'\u001b[0m\u001b[1;33m)\u001b[0m\u001b[1;33m\u001b[0m\u001b[1;33m\u001b[0m\u001b[0m\n\u001b[1;32m----> 5\u001b[1;33m \u001b[0mmos_p_m\u001b[0m \u001b[1;33m=\u001b[0m \u001b[0mdate\u001b[0m\u001b[1;33m.\u001b[0m\u001b[0msum\u001b[0m\u001b[1;33m(\u001b[0m\u001b[1;33m)\u001b[0m\u001b[1;33m\u001b[0m\u001b[1;33m\u001b[0m\u001b[0m\n\u001b[0m\u001b[0;32m      6\u001b[0m \u001b[0mmos_p_m\u001b[0m\u001b[1;33m\u001b[0m\u001b[1;33m\u001b[0m\u001b[0m\n",
      "\u001b[1;31mNameError\u001b[0m: name 'date' is not defined"
     ]
    }
   ],
   "source": [
    "# 월별 그래프\n",
    "mos_p_m = mos_scaled[['date', 'Indi']]\n",
    "mos_p_m['date']= mos_p.index.strftime('%Y-%m').astype('datetime64')\n",
    "mos_p_m = mos_p_m.set_index('date')\n",
    "mos_p_m = mos_p_m.date.sum()\n",
    "mos_p_m "
   ]
  },
  {
   "cell_type": "code",
   "execution_count": 334,
   "id": "9b2000e8",
   "metadata": {},
   "outputs": [
    {
     "ename": "ValueError",
     "evalue": "Index data must be 1-dimensional",
     "output_type": "error",
     "traceback": [
      "\u001b[1;31m---------------------------------------------------------------------------\u001b[0m",
      "\u001b[1;31mValueError\u001b[0m                                Traceback (most recent call last)",
      "\u001b[1;32m~\\AppData\\Local\\Temp/ipykernel_16220/1009443148.py\u001b[0m in \u001b[0;36m<module>\u001b[1;34m\u001b[0m\n\u001b[1;32m----> 1\u001b[1;33m \u001b[0mmos_p_m\u001b[0m\u001b[1;33m.\u001b[0m\u001b[0mindex\u001b[0m \u001b[1;33m=\u001b[0m \u001b[0mmos_p\u001b[0m\u001b[1;33m[\u001b[0m\u001b[0mmos_p\u001b[0m\u001b[1;33m.\u001b[0m\u001b[0mindex\u001b[0m\u001b[1;33m.\u001b[0m\u001b[0mday\u001b[0m \u001b[1;33m==\u001b[0m \u001b[1;36m1\u001b[0m\u001b[1;33m]\u001b[0m\u001b[1;33m\u001b[0m\u001b[1;33m\u001b[0m\u001b[0m\n\u001b[0m\u001b[0;32m      2\u001b[0m \u001b[0mmos_p_m\u001b[0m\u001b[1;33m[\u001b[0m\u001b[1;34m'mos_p_m'\u001b[0m\u001b[1;33m]\u001b[0m \u001b[1;33m=\u001b[0m\u001b[0mmos_p\u001b[0m\u001b[1;33m.\u001b[0m\u001b[0mgroupby\u001b[0m\u001b[1;33m(\u001b[0m\u001b[1;33m[\u001b[0m\u001b[0mmos_p\u001b[0m\u001b[1;33m.\u001b[0m\u001b[0mindex\u001b[0m\u001b[1;33m.\u001b[0m\u001b[0myear\u001b[0m\u001b[1;33m,\u001b[0m\u001b[0mmos_p\u001b[0m\u001b[1;33m.\u001b[0m\u001b[0mindex\u001b[0m\u001b[1;33m.\u001b[0m\u001b[0mmonth\u001b[0m\u001b[1;33m]\u001b[0m\u001b[1;33m)\u001b[0m\u001b[1;33m[\u001b[0m\u001b[1;34m'Indi'\u001b[0m\u001b[1;33m]\u001b[0m\u001b[1;33m.\u001b[0m\u001b[0msum\u001b[0m\u001b[1;33m(\u001b[0m\u001b[1;33m)\u001b[0m\u001b[1;33m\u001b[0m\u001b[1;33m\u001b[0m\u001b[0m\n\u001b[0;32m      3\u001b[0m \u001b[0mmos_p_m\u001b[0m\u001b[1;33m\u001b[0m\u001b[1;33m\u001b[0m\u001b[0m\n",
      "\u001b[1;32mC:\\Anaconda3\\lib\\site-packages\\pandas\\core\\generic.py\u001b[0m in \u001b[0;36m__setattr__\u001b[1;34m(self, name, value)\u001b[0m\n\u001b[0;32m   5913\u001b[0m         \u001b[1;32mtry\u001b[0m\u001b[1;33m:\u001b[0m\u001b[1;33m\u001b[0m\u001b[1;33m\u001b[0m\u001b[0m\n\u001b[0;32m   5914\u001b[0m             \u001b[0mobject\u001b[0m\u001b[1;33m.\u001b[0m\u001b[0m__getattribute__\u001b[0m\u001b[1;33m(\u001b[0m\u001b[0mself\u001b[0m\u001b[1;33m,\u001b[0m \u001b[0mname\u001b[0m\u001b[1;33m)\u001b[0m\u001b[1;33m\u001b[0m\u001b[1;33m\u001b[0m\u001b[0m\n\u001b[1;32m-> 5915\u001b[1;33m             \u001b[1;32mreturn\u001b[0m \u001b[0mobject\u001b[0m\u001b[1;33m.\u001b[0m\u001b[0m__setattr__\u001b[0m\u001b[1;33m(\u001b[0m\u001b[0mself\u001b[0m\u001b[1;33m,\u001b[0m \u001b[0mname\u001b[0m\u001b[1;33m,\u001b[0m \u001b[0mvalue\u001b[0m\u001b[1;33m)\u001b[0m\u001b[1;33m\u001b[0m\u001b[1;33m\u001b[0m\u001b[0m\n\u001b[0m\u001b[0;32m   5916\u001b[0m         \u001b[1;32mexcept\u001b[0m \u001b[0mAttributeError\u001b[0m\u001b[1;33m:\u001b[0m\u001b[1;33m\u001b[0m\u001b[1;33m\u001b[0m\u001b[0m\n\u001b[0;32m   5917\u001b[0m             \u001b[1;32mpass\u001b[0m\u001b[1;33m\u001b[0m\u001b[1;33m\u001b[0m\u001b[0m\n",
      "\u001b[1;32mC:\\Anaconda3\\lib\\site-packages\\pandas\\_libs\\properties.pyx\u001b[0m in \u001b[0;36mpandas._libs.properties.AxisProperty.__set__\u001b[1;34m()\u001b[0m\n",
      "\u001b[1;32mC:\\Anaconda3\\lib\\site-packages\\pandas\\core\\generic.py\u001b[0m in \u001b[0;36m_set_axis\u001b[1;34m(self, axis, labels)\u001b[0m\n\u001b[0;32m    820\u001b[0m \u001b[1;33m\u001b[0m\u001b[0m\n\u001b[0;32m    821\u001b[0m     \u001b[1;32mdef\u001b[0m \u001b[0m_set_axis\u001b[0m\u001b[1;33m(\u001b[0m\u001b[0mself\u001b[0m\u001b[1;33m,\u001b[0m \u001b[0maxis\u001b[0m\u001b[1;33m:\u001b[0m \u001b[0mint\u001b[0m\u001b[1;33m,\u001b[0m \u001b[0mlabels\u001b[0m\u001b[1;33m:\u001b[0m \u001b[0mAnyArrayLike\u001b[0m \u001b[1;33m|\u001b[0m \u001b[0mlist\u001b[0m\u001b[1;33m)\u001b[0m \u001b[1;33m->\u001b[0m \u001b[1;32mNone\u001b[0m\u001b[1;33m:\u001b[0m\u001b[1;33m\u001b[0m\u001b[1;33m\u001b[0m\u001b[0m\n\u001b[1;32m--> 822\u001b[1;33m         \u001b[0mlabels\u001b[0m \u001b[1;33m=\u001b[0m \u001b[0mensure_index\u001b[0m\u001b[1;33m(\u001b[0m\u001b[0mlabels\u001b[0m\u001b[1;33m)\u001b[0m\u001b[1;33m\u001b[0m\u001b[1;33m\u001b[0m\u001b[0m\n\u001b[0m\u001b[0;32m    823\u001b[0m         \u001b[0mself\u001b[0m\u001b[1;33m.\u001b[0m\u001b[0m_mgr\u001b[0m\u001b[1;33m.\u001b[0m\u001b[0mset_axis\u001b[0m\u001b[1;33m(\u001b[0m\u001b[0maxis\u001b[0m\u001b[1;33m,\u001b[0m \u001b[0mlabels\u001b[0m\u001b[1;33m)\u001b[0m\u001b[1;33m\u001b[0m\u001b[1;33m\u001b[0m\u001b[0m\n\u001b[0;32m    824\u001b[0m         \u001b[0mself\u001b[0m\u001b[1;33m.\u001b[0m\u001b[0m_clear_item_cache\u001b[0m\u001b[1;33m(\u001b[0m\u001b[1;33m)\u001b[0m\u001b[1;33m\u001b[0m\u001b[1;33m\u001b[0m\u001b[0m\n",
      "\u001b[1;32mC:\\Anaconda3\\lib\\site-packages\\pandas\\core\\indexes\\base.py\u001b[0m in \u001b[0;36mensure_index\u001b[1;34m(index_like, copy)\u001b[0m\n\u001b[0;32m   7372\u001b[0m             \u001b[1;32mreturn\u001b[0m \u001b[0mIndex\u001b[0m\u001b[1;33m.\u001b[0m\u001b[0m_with_infer\u001b[0m\u001b[1;33m(\u001b[0m\u001b[0mindex_like\u001b[0m\u001b[1;33m,\u001b[0m \u001b[0mcopy\u001b[0m\u001b[1;33m=\u001b[0m\u001b[0mcopy\u001b[0m\u001b[1;33m,\u001b[0m \u001b[0mtupleize_cols\u001b[0m\u001b[1;33m=\u001b[0m\u001b[1;32mFalse\u001b[0m\u001b[1;33m)\u001b[0m\u001b[1;33m\u001b[0m\u001b[1;33m\u001b[0m\u001b[0m\n\u001b[0;32m   7373\u001b[0m     \u001b[1;32melse\u001b[0m\u001b[1;33m:\u001b[0m\u001b[1;33m\u001b[0m\u001b[1;33m\u001b[0m\u001b[0m\n\u001b[1;32m-> 7374\u001b[1;33m         \u001b[1;32mreturn\u001b[0m \u001b[0mIndex\u001b[0m\u001b[1;33m.\u001b[0m\u001b[0m_with_infer\u001b[0m\u001b[1;33m(\u001b[0m\u001b[0mindex_like\u001b[0m\u001b[1;33m,\u001b[0m \u001b[0mcopy\u001b[0m\u001b[1;33m=\u001b[0m\u001b[0mcopy\u001b[0m\u001b[1;33m)\u001b[0m\u001b[1;33m\u001b[0m\u001b[1;33m\u001b[0m\u001b[0m\n\u001b[0m\u001b[0;32m   7375\u001b[0m \u001b[1;33m\u001b[0m\u001b[0m\n\u001b[0;32m   7376\u001b[0m \u001b[1;33m\u001b[0m\u001b[0m\n",
      "\u001b[1;32mC:\\Anaconda3\\lib\\site-packages\\pandas\\core\\indexes\\base.py\u001b[0m in \u001b[0;36m_with_infer\u001b[1;34m(cls, *args, **kwargs)\u001b[0m\n\u001b[0;32m    715\u001b[0m         \u001b[1;32mwith\u001b[0m \u001b[0mwarnings\u001b[0m\u001b[1;33m.\u001b[0m\u001b[0mcatch_warnings\u001b[0m\u001b[1;33m(\u001b[0m\u001b[1;33m)\u001b[0m\u001b[1;33m:\u001b[0m\u001b[1;33m\u001b[0m\u001b[1;33m\u001b[0m\u001b[0m\n\u001b[0;32m    716\u001b[0m             \u001b[0mwarnings\u001b[0m\u001b[1;33m.\u001b[0m\u001b[0mfilterwarnings\u001b[0m\u001b[1;33m(\u001b[0m\u001b[1;34m\"ignore\"\u001b[0m\u001b[1;33m,\u001b[0m \u001b[1;34m\".*the Index constructor\"\u001b[0m\u001b[1;33m,\u001b[0m \u001b[0mFutureWarning\u001b[0m\u001b[1;33m)\u001b[0m\u001b[1;33m\u001b[0m\u001b[1;33m\u001b[0m\u001b[0m\n\u001b[1;32m--> 717\u001b[1;33m             \u001b[0mresult\u001b[0m \u001b[1;33m=\u001b[0m \u001b[0mcls\u001b[0m\u001b[1;33m(\u001b[0m\u001b[1;33m*\u001b[0m\u001b[0margs\u001b[0m\u001b[1;33m,\u001b[0m \u001b[1;33m**\u001b[0m\u001b[0mkwargs\u001b[0m\u001b[1;33m)\u001b[0m\u001b[1;33m\u001b[0m\u001b[1;33m\u001b[0m\u001b[0m\n\u001b[0m\u001b[0;32m    718\u001b[0m \u001b[1;33m\u001b[0m\u001b[0m\n\u001b[0;32m    719\u001b[0m         \u001b[1;32mif\u001b[0m \u001b[0mresult\u001b[0m\u001b[1;33m.\u001b[0m\u001b[0mdtype\u001b[0m \u001b[1;33m==\u001b[0m \u001b[0m_dtype_obj\u001b[0m \u001b[1;32mand\u001b[0m \u001b[1;32mnot\u001b[0m \u001b[0mresult\u001b[0m\u001b[1;33m.\u001b[0m\u001b[0m_is_multi\u001b[0m\u001b[1;33m:\u001b[0m\u001b[1;33m\u001b[0m\u001b[1;33m\u001b[0m\u001b[0m\n",
      "\u001b[1;32mC:\\Anaconda3\\lib\\site-packages\\pandas\\core\\indexes\\base.py\u001b[0m in \u001b[0;36m__new__\u001b[1;34m(cls, data, dtype, copy, name, tupleize_cols, **kwargs)\u001b[0m\n\u001b[0;32m    546\u001b[0m             \u001b[1;32mraise\u001b[0m \u001b[0mcls\u001b[0m\u001b[1;33m.\u001b[0m\u001b[0m_scalar_data_error\u001b[0m\u001b[1;33m(\u001b[0m\u001b[0mdata\u001b[0m\u001b[1;33m)\u001b[0m\u001b[1;33m\u001b[0m\u001b[1;33m\u001b[0m\u001b[0m\n\u001b[0;32m    547\u001b[0m         \u001b[1;32melif\u001b[0m \u001b[0mhasattr\u001b[0m\u001b[1;33m(\u001b[0m\u001b[0mdata\u001b[0m\u001b[1;33m,\u001b[0m \u001b[1;34m\"__array__\"\u001b[0m\u001b[1;33m)\u001b[0m\u001b[1;33m:\u001b[0m\u001b[1;33m\u001b[0m\u001b[1;33m\u001b[0m\u001b[0m\n\u001b[1;32m--> 548\u001b[1;33m             \u001b[1;32mreturn\u001b[0m \u001b[0mIndex\u001b[0m\u001b[1;33m(\u001b[0m\u001b[0mnp\u001b[0m\u001b[1;33m.\u001b[0m\u001b[0masarray\u001b[0m\u001b[1;33m(\u001b[0m\u001b[0mdata\u001b[0m\u001b[1;33m)\u001b[0m\u001b[1;33m,\u001b[0m \u001b[0mdtype\u001b[0m\u001b[1;33m=\u001b[0m\u001b[0mdtype\u001b[0m\u001b[1;33m,\u001b[0m \u001b[0mcopy\u001b[0m\u001b[1;33m=\u001b[0m\u001b[0mcopy\u001b[0m\u001b[1;33m,\u001b[0m \u001b[0mname\u001b[0m\u001b[1;33m=\u001b[0m\u001b[0mname\u001b[0m\u001b[1;33m,\u001b[0m \u001b[1;33m**\u001b[0m\u001b[0mkwargs\u001b[0m\u001b[1;33m)\u001b[0m\u001b[1;33m\u001b[0m\u001b[1;33m\u001b[0m\u001b[0m\n\u001b[0m\u001b[0;32m    549\u001b[0m         \u001b[1;32melse\u001b[0m\u001b[1;33m:\u001b[0m\u001b[1;33m\u001b[0m\u001b[1;33m\u001b[0m\u001b[0m\n\u001b[0;32m    550\u001b[0m \u001b[1;33m\u001b[0m\u001b[0m\n",
      "\u001b[1;32mC:\\Anaconda3\\lib\\site-packages\\pandas\\core\\indexes\\base.py\u001b[0m in \u001b[0;36m__new__\u001b[1;34m(cls, data, dtype, copy, name, tupleize_cols, **kwargs)\u001b[0m\n\u001b[0;32m    539\u001b[0m \u001b[1;33m\u001b[0m\u001b[0m\n\u001b[0;32m    540\u001b[0m             \u001b[0mklass\u001b[0m \u001b[1;33m=\u001b[0m \u001b[0mcls\u001b[0m\u001b[1;33m.\u001b[0m\u001b[0m_dtype_to_subclass\u001b[0m\u001b[1;33m(\u001b[0m\u001b[0marr\u001b[0m\u001b[1;33m.\u001b[0m\u001b[0mdtype\u001b[0m\u001b[1;33m)\u001b[0m\u001b[1;33m\u001b[0m\u001b[1;33m\u001b[0m\u001b[0m\n\u001b[1;32m--> 541\u001b[1;33m             \u001b[0marr\u001b[0m \u001b[1;33m=\u001b[0m \u001b[0mklass\u001b[0m\u001b[1;33m.\u001b[0m\u001b[0m_ensure_array\u001b[0m\u001b[1;33m(\u001b[0m\u001b[0marr\u001b[0m\u001b[1;33m,\u001b[0m \u001b[0mdtype\u001b[0m\u001b[1;33m,\u001b[0m \u001b[0mcopy\u001b[0m\u001b[1;33m)\u001b[0m\u001b[1;33m\u001b[0m\u001b[1;33m\u001b[0m\u001b[0m\n\u001b[0m\u001b[0;32m    542\u001b[0m             \u001b[0mdisallow_kwargs\u001b[0m\u001b[1;33m(\u001b[0m\u001b[0mkwargs\u001b[0m\u001b[1;33m)\u001b[0m\u001b[1;33m\u001b[0m\u001b[1;33m\u001b[0m\u001b[0m\n\u001b[0;32m    543\u001b[0m             \u001b[1;32mreturn\u001b[0m \u001b[0mklass\u001b[0m\u001b[1;33m.\u001b[0m\u001b[0m_simple_new\u001b[0m\u001b[1;33m(\u001b[0m\u001b[0marr\u001b[0m\u001b[1;33m,\u001b[0m \u001b[0mname\u001b[0m\u001b[1;33m)\u001b[0m\u001b[1;33m\u001b[0m\u001b[1;33m\u001b[0m\u001b[0m\n",
      "\u001b[1;32mC:\\Anaconda3\\lib\\site-packages\\pandas\\core\\indexes\\numeric.py\u001b[0m in \u001b[0;36m_ensure_array\u001b[1;34m(cls, data, dtype, copy)\u001b[0m\n\u001b[0;32m    174\u001b[0m         \u001b[1;32mif\u001b[0m \u001b[0msubarr\u001b[0m\u001b[1;33m.\u001b[0m\u001b[0mndim\u001b[0m \u001b[1;33m>\u001b[0m \u001b[1;36m1\u001b[0m\u001b[1;33m:\u001b[0m\u001b[1;33m\u001b[0m\u001b[1;33m\u001b[0m\u001b[0m\n\u001b[0;32m    175\u001b[0m             \u001b[1;31m# GH#13601, GH#20285, GH#27125\u001b[0m\u001b[1;33m\u001b[0m\u001b[1;33m\u001b[0m\u001b[0m\n\u001b[1;32m--> 176\u001b[1;33m             \u001b[1;32mraise\u001b[0m \u001b[0mValueError\u001b[0m\u001b[1;33m(\u001b[0m\u001b[1;34m\"Index data must be 1-dimensional\"\u001b[0m\u001b[1;33m)\u001b[0m\u001b[1;33m\u001b[0m\u001b[1;33m\u001b[0m\u001b[0m\n\u001b[0m\u001b[0;32m    177\u001b[0m \u001b[1;33m\u001b[0m\u001b[0m\n\u001b[0;32m    178\u001b[0m         \u001b[0msubarr\u001b[0m \u001b[1;33m=\u001b[0m \u001b[0mnp\u001b[0m\u001b[1;33m.\u001b[0m\u001b[0masarray\u001b[0m\u001b[1;33m(\u001b[0m\u001b[0msubarr\u001b[0m\u001b[1;33m)\u001b[0m\u001b[1;33m\u001b[0m\u001b[1;33m\u001b[0m\u001b[0m\n",
      "\u001b[1;31mValueError\u001b[0m: Index data must be 1-dimensional"
     ]
    }
   ],
   "source": [
    "mos_p_m = mos_p.reset_index()\n",
    "mos_p_m.index = mos_p[mos_p.date.day == 1]\n",
    "mos_p_m['mos_p_m'] =mos_p.groupby([mos_p.index.year,mos_p.index.month])['Indi'].sum()\n",
    "mos_p_m"
   ]
  },
  {
   "cell_type": "code",
   "execution_count": 341,
   "id": "a0e81604",
   "metadata": {},
   "outputs": [
    {
     "data": {
      "text/plain": [
       "2016  6    19221.2\n",
       "dtype: float64"
      ]
     },
     "execution_count": 341,
     "metadata": {},
     "output_type": "execute_result"
    }
   ],
   "source": [
    "a=mos_p.groupby([mos_p.index.year,mos_p.index.month])['Indi'].sum()\n",
    "a[1:2]"
   ]
  },
  {
   "cell_type": "code",
   "execution_count": 331,
   "id": "6bdd960f",
   "metadata": {},
   "outputs": [
    {
     "data": {
      "text/html": [
       "<div>\n",
       "<style scoped>\n",
       "    .dataframe tbody tr th:only-of-type {\n",
       "        vertical-align: middle;\n",
       "    }\n",
       "\n",
       "    .dataframe tbody tr th {\n",
       "        vertical-align: top;\n",
       "    }\n",
       "\n",
       "    .dataframe thead th {\n",
       "        text-align: right;\n",
       "    }\n",
       "</style>\n",
       "<table border=\"1\" class=\"dataframe\">\n",
       "  <thead>\n",
       "    <tr style=\"text-align: right;\">\n",
       "      <th></th>\n",
       "      <th>date</th>\n",
       "      <th>Indi</th>\n",
       "      <th>date_m</th>\n",
       "    </tr>\n",
       "  </thead>\n",
       "  <tbody>\n",
       "    <tr>\n",
       "      <th>0</th>\n",
       "      <td>2016-05-01</td>\n",
       "      <td>254.4</td>\n",
       "      <td>2016-05</td>\n",
       "    </tr>\n",
       "    <tr>\n",
       "      <th>31</th>\n",
       "      <td>2016-06-01</td>\n",
       "      <td>460.2</td>\n",
       "      <td>2016-06</td>\n",
       "    </tr>\n",
       "    <tr>\n",
       "      <th>61</th>\n",
       "      <td>2016-07-01</td>\n",
       "      <td>518.3</td>\n",
       "      <td>2016-07</td>\n",
       "    </tr>\n",
       "    <tr>\n",
       "      <th>92</th>\n",
       "      <td>2016-08-01</td>\n",
       "      <td>380.7</td>\n",
       "      <td>2016-08</td>\n",
       "    </tr>\n",
       "    <tr>\n",
       "      <th>123</th>\n",
       "      <td>2016-09-01</td>\n",
       "      <td>545.4</td>\n",
       "      <td>2016-09</td>\n",
       "    </tr>\n",
       "    <tr>\n",
       "      <th>152</th>\n",
       "      <td>2016-10-01</td>\n",
       "      <td>513.2</td>\n",
       "      <td>2016-10</td>\n",
       "    </tr>\n",
       "    <tr>\n",
       "      <th>183</th>\n",
       "      <td>2016-11-01</td>\n",
       "      <td>25.0</td>\n",
       "      <td>2016-11</td>\n",
       "    </tr>\n",
       "    <tr>\n",
       "      <th>212</th>\n",
       "      <td>2016-12-01</td>\n",
       "      <td>2.5</td>\n",
       "      <td>2016-12</td>\n",
       "    </tr>\n",
       "    <tr>\n",
       "      <th>242</th>\n",
       "      <td>2017-01-01</td>\n",
       "      <td>1.0</td>\n",
       "      <td>2017-01</td>\n",
       "    </tr>\n",
       "    <tr>\n",
       "      <th>273</th>\n",
       "      <td>2017-02-01</td>\n",
       "      <td>0.6</td>\n",
       "      <td>2017-02</td>\n",
       "    </tr>\n",
       "    <tr>\n",
       "      <th>301</th>\n",
       "      <td>2017-03-01</td>\n",
       "      <td>2.3</td>\n",
       "      <td>2017-03</td>\n",
       "    </tr>\n",
       "    <tr>\n",
       "      <th>331</th>\n",
       "      <td>2017-04-01</td>\n",
       "      <td>11.8</td>\n",
       "      <td>2017-04</td>\n",
       "    </tr>\n",
       "    <tr>\n",
       "      <th>361</th>\n",
       "      <td>2017-05-01</td>\n",
       "      <td>65.3</td>\n",
       "      <td>2017-05</td>\n",
       "    </tr>\n",
       "    <tr>\n",
       "      <th>392</th>\n",
       "      <td>2017-06-01</td>\n",
       "      <td>406.9</td>\n",
       "      <td>2017-06</td>\n",
       "    </tr>\n",
       "    <tr>\n",
       "      <th>428</th>\n",
       "      <td>2017-07-01</td>\n",
       "      <td>754.1</td>\n",
       "      <td>2017-07</td>\n",
       "    </tr>\n",
       "    <tr>\n",
       "      <th>462</th>\n",
       "      <td>2017-08-01</td>\n",
       "      <td>529.3</td>\n",
       "      <td>2017-08</td>\n",
       "    </tr>\n",
       "    <tr>\n",
       "      <th>494</th>\n",
       "      <td>2017-09-01</td>\n",
       "      <td>460.7</td>\n",
       "      <td>2017-09</td>\n",
       "    </tr>\n",
       "    <tr>\n",
       "      <th>534</th>\n",
       "      <td>2017-10-01</td>\n",
       "      <td>329.5</td>\n",
       "      <td>2017-10</td>\n",
       "    </tr>\n",
       "    <tr>\n",
       "      <th>565</th>\n",
       "      <td>2017-11-01</td>\n",
       "      <td>5.5</td>\n",
       "      <td>2017-11</td>\n",
       "    </tr>\n",
       "    <tr>\n",
       "      <th>594</th>\n",
       "      <td>2017-12-01</td>\n",
       "      <td>5.5</td>\n",
       "      <td>2017-12</td>\n",
       "    </tr>\n",
       "    <tr>\n",
       "      <th>630</th>\n",
       "      <td>2018-01-01</td>\n",
       "      <td>5.5</td>\n",
       "      <td>2018-01</td>\n",
       "    </tr>\n",
       "    <tr>\n",
       "      <th>662</th>\n",
       "      <td>2018-02-01</td>\n",
       "      <td>5.5</td>\n",
       "      <td>2018-02</td>\n",
       "    </tr>\n",
       "    <tr>\n",
       "      <th>697</th>\n",
       "      <td>2018-03-01</td>\n",
       "      <td>5.5</td>\n",
       "      <td>2018-03</td>\n",
       "    </tr>\n",
       "    <tr>\n",
       "      <th>731</th>\n",
       "      <td>2018-04-01</td>\n",
       "      <td>10.0</td>\n",
       "      <td>2018-04</td>\n",
       "    </tr>\n",
       "    <tr>\n",
       "      <th>761</th>\n",
       "      <td>2018-05-01</td>\n",
       "      <td>24.0</td>\n",
       "      <td>2018-05</td>\n",
       "    </tr>\n",
       "    <tr>\n",
       "      <th>792</th>\n",
       "      <td>2018-06-01</td>\n",
       "      <td>413.6</td>\n",
       "      <td>2018-06</td>\n",
       "    </tr>\n",
       "    <tr>\n",
       "      <th>828</th>\n",
       "      <td>2018-07-01</td>\n",
       "      <td>602.2</td>\n",
       "      <td>2018-07</td>\n",
       "    </tr>\n",
       "    <tr>\n",
       "      <th>859</th>\n",
       "      <td>2018-08-01</td>\n",
       "      <td>81.0</td>\n",
       "      <td>2018-08</td>\n",
       "    </tr>\n",
       "    <tr>\n",
       "      <th>890</th>\n",
       "      <td>2018-09-01</td>\n",
       "      <td>508.6</td>\n",
       "      <td>2018-09</td>\n",
       "    </tr>\n",
       "    <tr>\n",
       "      <th>920</th>\n",
       "      <td>2018-10-01</td>\n",
       "      <td>197.3</td>\n",
       "      <td>2018-10</td>\n",
       "    </tr>\n",
       "    <tr>\n",
       "      <th>935</th>\n",
       "      <td>2018-11-08</td>\n",
       "      <td>5.5</td>\n",
       "      <td>2018-11</td>\n",
       "    </tr>\n",
       "    <tr>\n",
       "      <th>950</th>\n",
       "      <td>2018-12-01</td>\n",
       "      <td>5.5</td>\n",
       "      <td>2018-12</td>\n",
       "    </tr>\n",
       "    <tr>\n",
       "      <th>981</th>\n",
       "      <td>2019-01-01</td>\n",
       "      <td>5.5</td>\n",
       "      <td>2019-01</td>\n",
       "    </tr>\n",
       "    <tr>\n",
       "      <th>1012</th>\n",
       "      <td>2019-02-01</td>\n",
       "      <td>5.5</td>\n",
       "      <td>2019-02</td>\n",
       "    </tr>\n",
       "    <tr>\n",
       "      <th>1040</th>\n",
       "      <td>2019-03-01</td>\n",
       "      <td>5.5</td>\n",
       "      <td>2019-03</td>\n",
       "    </tr>\n",
       "    <tr>\n",
       "      <th>1071</th>\n",
       "      <td>2019-04-01</td>\n",
       "      <td>6.7</td>\n",
       "      <td>2019-04</td>\n",
       "    </tr>\n",
       "    <tr>\n",
       "      <th>1101</th>\n",
       "      <td>2019-05-01</td>\n",
       "      <td>2.2</td>\n",
       "      <td>2019-05</td>\n",
       "    </tr>\n",
       "    <tr>\n",
       "      <th>1132</th>\n",
       "      <td>2019-06-01</td>\n",
       "      <td>571.6</td>\n",
       "      <td>2019-06</td>\n",
       "    </tr>\n",
       "    <tr>\n",
       "      <th>1155</th>\n",
       "      <td>2019-07-01</td>\n",
       "      <td>713.5</td>\n",
       "      <td>2019-07</td>\n",
       "    </tr>\n",
       "    <tr>\n",
       "      <th>1186</th>\n",
       "      <td>2019-08-01</td>\n",
       "      <td>568.7</td>\n",
       "      <td>2019-08</td>\n",
       "    </tr>\n",
       "    <tr>\n",
       "      <th>1217</th>\n",
       "      <td>2019-09-01</td>\n",
       "      <td>623.9</td>\n",
       "      <td>2019-09</td>\n",
       "    </tr>\n",
       "    <tr>\n",
       "      <th>1247</th>\n",
       "      <td>2019-10-01</td>\n",
       "      <td>748.0</td>\n",
       "      <td>2019-10</td>\n",
       "    </tr>\n",
       "    <tr>\n",
       "      <th>1278</th>\n",
       "      <td>2019-11-01</td>\n",
       "      <td>5.5</td>\n",
       "      <td>2019-11</td>\n",
       "    </tr>\n",
       "    <tr>\n",
       "      <th>1308</th>\n",
       "      <td>2019-12-01</td>\n",
       "      <td>5.5</td>\n",
       "      <td>2019-12</td>\n",
       "    </tr>\n",
       "  </tbody>\n",
       "</table>\n",
       "</div>"
      ],
      "text/plain": [
       "           date   Indi   date_m\n",
       "0    2016-05-01  254.4  2016-05\n",
       "31   2016-06-01  460.2  2016-06\n",
       "61   2016-07-01  518.3  2016-07\n",
       "92   2016-08-01  380.7  2016-08\n",
       "123  2016-09-01  545.4  2016-09\n",
       "152  2016-10-01  513.2  2016-10\n",
       "183  2016-11-01   25.0  2016-11\n",
       "212  2016-12-01    2.5  2016-12\n",
       "242  2017-01-01    1.0  2017-01\n",
       "273  2017-02-01    0.6  2017-02\n",
       "301  2017-03-01    2.3  2017-03\n",
       "331  2017-04-01   11.8  2017-04\n",
       "361  2017-05-01   65.3  2017-05\n",
       "392  2017-06-01  406.9  2017-06\n",
       "428  2017-07-01  754.1  2017-07\n",
       "462  2017-08-01  529.3  2017-08\n",
       "494  2017-09-01  460.7  2017-09\n",
       "534  2017-10-01  329.5  2017-10\n",
       "565  2017-11-01    5.5  2017-11\n",
       "594  2017-12-01    5.5  2017-12\n",
       "630  2018-01-01    5.5  2018-01\n",
       "662  2018-02-01    5.5  2018-02\n",
       "697  2018-03-01    5.5  2018-03\n",
       "731  2018-04-01   10.0  2018-04\n",
       "761  2018-05-01   24.0  2018-05\n",
       "792  2018-06-01  413.6  2018-06\n",
       "828  2018-07-01  602.2  2018-07\n",
       "859  2018-08-01   81.0  2018-08\n",
       "890  2018-09-01  508.6  2018-09\n",
       "920  2018-10-01  197.3  2018-10\n",
       "935  2018-11-08    5.5  2018-11\n",
       "950  2018-12-01    5.5  2018-12\n",
       "981  2019-01-01    5.5  2019-01\n",
       "1012 2019-02-01    5.5  2019-02\n",
       "1040 2019-03-01    5.5  2019-03\n",
       "1071 2019-04-01    6.7  2019-04\n",
       "1101 2019-05-01    2.2  2019-05\n",
       "1132 2019-06-01  571.6  2019-06\n",
       "1155 2019-07-01  713.5  2019-07\n",
       "1186 2019-08-01  568.7  2019-08\n",
       "1217 2019-09-01  623.9  2019-09\n",
       "1247 2019-10-01  748.0  2019-10\n",
       "1278 2019-11-01    5.5  2019-11\n",
       "1308 2019-12-01    5.5  2019-12"
      ]
     },
     "execution_count": 331,
     "metadata": {},
     "output_type": "execute_result"
    }
   ],
   "source": [
    "# 월별 그래프\n",
    "mos_p_m = mos_scaled[['date', 'Indi']]\n",
    "mos_p_m['date_m']= mos_p_m.date.dt.strftime('%Y-%m')\n",
    "mos_p_m = mos_p_m.drop_duplicates(subset=['date_m'])\n",
    "# mos_p.groupby([mos_p.index.year,mos_p.index.month])['Indi'].sum()\n",
    "\n",
    "#mos.date.is_unique\n",
    "# mos_p_m = mos_p_m.set_index('date')\n",
    "mos_p_m "
   ]
  },
  {
   "cell_type": "code",
   "execution_count": 322,
   "id": "2b8e98a7",
   "metadata": {},
   "outputs": [
    {
     "data": {
      "text/plain": [
       "1"
      ]
     },
     "execution_count": 322,
     "metadata": {},
     "output_type": "execute_result"
    }
   ],
   "source": [
    "# # mod_p.reset_index(inplace=True)\n",
    "mos_p_m= mos_p.index.month.min()\n",
    "    #.dt.strftime('%Y-%m')\n",
    "# # data['FirstOrder'] = FirstOrder\n",
    "# # FirstOrder.head()\n",
    "# mos_p_m\n",
    "\n",
    "mos_p_m\n",
    "\n",
    "mos_p.groupby([mos_p.index.year,mos_p.index.month])['Indi'].sum()"
   ]
  },
  {
   "cell_type": "code",
   "execution_count": 323,
   "id": "128d92be",
   "metadata": {},
   "outputs": [
    {
     "data": {
      "text/plain": [
       "Timestamp('2016-05-01 00:00:00')"
      ]
     },
     "execution_count": 323,
     "metadata": {},
     "output_type": "execute_result"
    }
   ],
   "source": [
    "mos.date.min()"
   ]
  },
  {
   "cell_type": "markdown",
   "id": "74c81da6",
   "metadata": {},
   "source": [
    "## 2020 년 1월 모기지수 예측"
   ]
  },
  {
   "cell_type": "markdown",
   "id": "f0446dc2",
   "metadata": {},
   "source": [
    "### 기간(범위) 지정"
   ]
  },
  {
   "cell_type": "code",
   "execution_count": 345,
   "id": "643cf3c1",
   "metadata": {},
   "outputs": [],
   "source": [
    "# 예측 범위(2020 1월 달 => 31일)\n",
    "\n",
    "day = np.arange(1,32)"
   ]
  },
  {
   "cell_type": "code",
   "execution_count": 346,
   "id": "8ccf192c",
   "metadata": {},
   "outputs": [
    {
     "data": {
      "text/plain": [
       "ForecastingHorizon(['2020-01-01', '2020-01-02', '2020-01-03', '2020-01-04',\n",
       "             '2020-01-05', '2020-01-06', '2020-01-07', '2020-01-08',\n",
       "             '2020-01-09', '2020-01-10', '2020-01-11', '2020-01-12',\n",
       "             '2020-01-13', '2020-01-14', '2020-01-15', '2020-01-16',\n",
       "             '2020-01-17', '2020-01-18', '2020-01-19', '2020-01-20',\n",
       "             '2020-01-21', '2020-01-22', '2020-01-23', '2020-01-24',\n",
       "             '2020-01-25', '2020-01-26', '2020-01-27', '2020-01-28',\n",
       "             '2020-01-29', '2020-01-30', '2020-01-31'],\n",
       "            dtype='period[D]', is_relative=False)"
      ]
     },
     "execution_count": 346,
     "metadata": {},
     "output_type": "execute_result"
    }
   ],
   "source": [
    "from sktime.forecasting.base import ForecastingHorizon\n",
    "\n",
    "# 예측할 날짜 데이터 만들기\n",
    "\n",
    "jan = ForecastingHorizon(\n",
    "    pd.PeriodIndex(pd.date_range(\"2020-01-01\", periods=31, freq=\"D\")), is_relative=False\n",
    ")\n",
    "jan"
   ]
  },
  {
   "cell_type": "code",
   "execution_count": 347,
   "id": "9363abd9",
   "metadata": {},
   "outputs": [],
   "source": [
    "cutoff = pd.Period(\"2019-12-31\", freq=\"D\")"
   ]
  },
  {
   "cell_type": "code",
   "execution_count": 348,
   "id": "19f49f1b",
   "metadata": {},
   "outputs": [
    {
     "data": {
      "text/plain": [
       "ForecastingHorizon([ 1,  2,  3,  4,  5,  6,  7,  8,  9, 10, 11, 12, 13, 14, 15, 16, 17,\n",
       "            18, 19, 20, 21, 22, 23, 24, 25, 26, 27, 28, 29, 30, 31],\n",
       "           dtype='int64', is_relative=True)"
      ]
     },
     "execution_count": 348,
     "metadata": {},
     "output_type": "execute_result"
    }
   ],
   "source": [
    "jan.to_relative(cutoff)"
   ]
  },
  {
   "cell_type": "code",
   "execution_count": 349,
   "id": "f2a40fd5",
   "metadata": {},
   "outputs": [
    {
     "data": {
      "text/plain": [
       "ForecastingHorizon(['2020-01-01', '2020-01-02', '2020-01-03', '2020-01-04',\n",
       "             '2020-01-05', '2020-01-06', '2020-01-07', '2020-01-08',\n",
       "             '2020-01-09', '2020-01-10', '2020-01-11', '2020-01-12',\n",
       "             '2020-01-13', '2020-01-14', '2020-01-15', '2020-01-16',\n",
       "             '2020-01-17', '2020-01-18', '2020-01-19', '2020-01-20',\n",
       "             '2020-01-21', '2020-01-22', '2020-01-23', '2020-01-24',\n",
       "             '2020-01-25', '2020-01-26', '2020-01-27', '2020-01-28',\n",
       "             '2020-01-29', '2020-01-30', '2020-01-31'],\n",
       "            dtype='period[D]', is_relative=False)"
      ]
     },
     "execution_count": 349,
     "metadata": {},
     "output_type": "execute_result"
    }
   ],
   "source": [
    "jan.to_absolute(cutoff)"
   ]
  },
  {
   "cell_type": "markdown",
   "id": "eca2dd0a",
   "metadata": {},
   "source": [
    "### 예측 알고리즘 지정 "
   ]
  },
  {
   "cell_type": "code",
   "execution_count": 350,
   "id": "ebe8db3a",
   "metadata": {},
   "outputs": [
    {
     "ename": "ImportError",
     "evalue": "Numba needs NumPy 1.20 or less",
     "output_type": "error",
     "traceback": [
      "\u001b[1;31m---------------------------------------------------------------------------\u001b[0m",
      "\u001b[1;31mImportError\u001b[0m                               Traceback (most recent call last)",
      "\u001b[1;32m~\\AppData\\Local\\Temp/ipykernel_16220/672971185.py\u001b[0m in \u001b[0;36m<module>\u001b[1;34m\u001b[0m\n\u001b[1;32m----> 1\u001b[1;33m \u001b[1;32mfrom\u001b[0m \u001b[0msktime\u001b[0m\u001b[1;33m.\u001b[0m\u001b[0mforecasting\u001b[0m\u001b[1;33m.\u001b[0m\u001b[0mnaive\u001b[0m \u001b[1;32mimport\u001b[0m \u001b[0mNaiveForecaster\u001b[0m\u001b[1;33m\u001b[0m\u001b[1;33m\u001b[0m\u001b[0m\n\u001b[0m\u001b[0;32m      2\u001b[0m \u001b[0mforecaster\u001b[0m \u001b[1;33m=\u001b[0m \u001b[0mNaiveForecaster\u001b[0m\u001b[1;33m(\u001b[0m\u001b[0mstrategy\u001b[0m\u001b[1;33m=\u001b[0m\u001b[1;34m\"last\"\u001b[0m\u001b[1;33m)\u001b[0m\u001b[1;33m\u001b[0m\u001b[1;33m\u001b[0m\u001b[0m\n",
      "\u001b[1;32mC:\\Anaconda3\\lib\\site-packages\\sktime\\forecasting\\naive.py\u001b[0m in \u001b[0;36m<module>\u001b[1;34m\u001b[0m\n\u001b[0;32m     24\u001b[0m \u001b[1;32mfrom\u001b[0m \u001b[0msktime\u001b[0m\u001b[1;33m.\u001b[0m\u001b[0mforecasting\u001b[0m\u001b[1;33m.\u001b[0m\u001b[0mbase\u001b[0m\u001b[1;33m.\u001b[0m\u001b[0m_base\u001b[0m \u001b[1;32mimport\u001b[0m \u001b[0mDEFAULT_ALPHA\u001b[0m\u001b[1;33m,\u001b[0m \u001b[0mBaseForecaster\u001b[0m\u001b[1;33m\u001b[0m\u001b[1;33m\u001b[0m\u001b[0m\n\u001b[0;32m     25\u001b[0m \u001b[1;32mfrom\u001b[0m \u001b[0msktime\u001b[0m\u001b[1;33m.\u001b[0m\u001b[0mforecasting\u001b[0m\u001b[1;33m.\u001b[0m\u001b[0mbase\u001b[0m\u001b[1;33m.\u001b[0m\u001b[0m_sktime\u001b[0m \u001b[1;32mimport\u001b[0m \u001b[0m_BaseWindowForecaster\u001b[0m\u001b[1;33m\u001b[0m\u001b[1;33m\u001b[0m\u001b[0m\n\u001b[1;32m---> 26\u001b[1;33m \u001b[1;32mfrom\u001b[0m \u001b[0msktime\u001b[0m\u001b[1;33m.\u001b[0m\u001b[0mforecasting\u001b[0m\u001b[1;33m.\u001b[0m\u001b[0mcompose\u001b[0m \u001b[1;32mimport\u001b[0m \u001b[0mColumnEnsembleForecaster\u001b[0m\u001b[1;33m\u001b[0m\u001b[1;33m\u001b[0m\u001b[0m\n\u001b[0m\u001b[0;32m     27\u001b[0m \u001b[1;32mfrom\u001b[0m \u001b[0msktime\u001b[0m\u001b[1;33m.\u001b[0m\u001b[0mutils\u001b[0m\u001b[1;33m.\u001b[0m\u001b[0mvalidation\u001b[0m \u001b[1;32mimport\u001b[0m \u001b[0mcheck_window_length\u001b[0m\u001b[1;33m\u001b[0m\u001b[1;33m\u001b[0m\u001b[0m\n\u001b[0;32m     28\u001b[0m \u001b[1;32mfrom\u001b[0m \u001b[0msktime\u001b[0m\u001b[1;33m.\u001b[0m\u001b[0mutils\u001b[0m\u001b[1;33m.\u001b[0m\u001b[0mvalidation\u001b[0m\u001b[1;33m.\u001b[0m\u001b[0mforecasting\u001b[0m \u001b[1;32mimport\u001b[0m \u001b[0mcheck_sp\u001b[0m\u001b[1;33m\u001b[0m\u001b[1;33m\u001b[0m\u001b[0m\n",
      "\u001b[1;32mC:\\Anaconda3\\lib\\site-packages\\sktime\\forecasting\\compose\\__init__.py\u001b[0m in \u001b[0;36m<module>\u001b[1;34m\u001b[0m\n\u001b[0;32m     32\u001b[0m )\n\u001b[0;32m     33\u001b[0m \u001b[1;32mfrom\u001b[0m \u001b[0msktime\u001b[0m\u001b[1;33m.\u001b[0m\u001b[0mforecasting\u001b[0m\u001b[1;33m.\u001b[0m\u001b[0mcompose\u001b[0m\u001b[1;33m.\u001b[0m\u001b[0m_multiplexer\u001b[0m \u001b[1;32mimport\u001b[0m \u001b[0mMultiplexForecaster\u001b[0m\u001b[1;33m\u001b[0m\u001b[1;33m\u001b[0m\u001b[0m\n\u001b[1;32m---> 34\u001b[1;33m from sktime.forecasting.compose._pipeline import (\n\u001b[0m\u001b[0;32m     35\u001b[0m     \u001b[0mForecastingPipeline\u001b[0m\u001b[1;33m,\u001b[0m\u001b[1;33m\u001b[0m\u001b[1;33m\u001b[0m\u001b[0m\n\u001b[0;32m     36\u001b[0m     \u001b[0mForecastX\u001b[0m\u001b[1;33m,\u001b[0m\u001b[1;33m\u001b[0m\u001b[1;33m\u001b[0m\u001b[0m\n",
      "\u001b[1;32mC:\\Anaconda3\\lib\\site-packages\\sktime\\forecasting\\compose\\_pipeline.py\u001b[0m in \u001b[0;36m<module>\u001b[1;34m\u001b[0m\n\u001b[0;32m     10\u001b[0m \u001b[1;32mfrom\u001b[0m \u001b[0msktime\u001b[0m\u001b[1;33m.\u001b[0m\u001b[0mbase\u001b[0m \u001b[1;32mimport\u001b[0m \u001b[0m_HeterogenousMetaEstimator\u001b[0m\u001b[1;33m\u001b[0m\u001b[1;33m\u001b[0m\u001b[0m\n\u001b[0;32m     11\u001b[0m \u001b[1;32mfrom\u001b[0m \u001b[0msktime\u001b[0m\u001b[1;33m.\u001b[0m\u001b[0mforecasting\u001b[0m\u001b[1;33m.\u001b[0m\u001b[0mbase\u001b[0m\u001b[1;33m.\u001b[0m\u001b[0m_base\u001b[0m \u001b[1;32mimport\u001b[0m \u001b[0mBaseForecaster\u001b[0m\u001b[1;33m\u001b[0m\u001b[1;33m\u001b[0m\u001b[0m\n\u001b[1;32m---> 12\u001b[1;33m \u001b[1;32mfrom\u001b[0m \u001b[0msktime\u001b[0m\u001b[1;33m.\u001b[0m\u001b[0mregistry\u001b[0m \u001b[1;32mimport\u001b[0m \u001b[0mscitype\u001b[0m\u001b[1;33m\u001b[0m\u001b[1;33m\u001b[0m\u001b[0m\n\u001b[0m\u001b[0;32m     13\u001b[0m \u001b[1;32mfrom\u001b[0m \u001b[0msktime\u001b[0m\u001b[1;33m.\u001b[0m\u001b[0mutils\u001b[0m\u001b[1;33m.\u001b[0m\u001b[0mvalidation\u001b[0m\u001b[1;33m.\u001b[0m\u001b[0mseries\u001b[0m \u001b[1;32mimport\u001b[0m \u001b[0mcheck_series\u001b[0m\u001b[1;33m\u001b[0m\u001b[1;33m\u001b[0m\u001b[0m\n\u001b[0;32m     14\u001b[0m \u001b[1;33m\u001b[0m\u001b[0m\n",
      "\u001b[1;32mC:\\Anaconda3\\lib\\site-packages\\sktime\\registry\\__init__.py\u001b[0m in \u001b[0;36m<module>\u001b[1;34m\u001b[0m\n\u001b[0;32m      2\u001b[0m \u001b[1;34m\"\"\"Implements registry for sktime estimator base classes and tags.\"\"\"\u001b[0m\u001b[1;33m\u001b[0m\u001b[1;33m\u001b[0m\u001b[0m\n\u001b[0;32m      3\u001b[0m \u001b[1;33m\u001b[0m\u001b[0m\n\u001b[1;32m----> 4\u001b[1;33m from sktime.registry._base_classes import (\n\u001b[0m\u001b[0;32m      5\u001b[0m     \u001b[0mBASE_CLASS_LIST\u001b[0m\u001b[1;33m,\u001b[0m\u001b[1;33m\u001b[0m\u001b[1;33m\u001b[0m\u001b[0m\n\u001b[0;32m      6\u001b[0m     \u001b[0mBASE_CLASS_LOOKUP\u001b[0m\u001b[1;33m,\u001b[0m\u001b[1;33m\u001b[0m\u001b[1;33m\u001b[0m\u001b[0m\n",
      "\u001b[1;32mC:\\Anaconda3\\lib\\site-packages\\sktime\\registry\\_base_classes.py\u001b[0m in \u001b[0;36m<module>\u001b[1;34m\u001b[0m\n\u001b[0;32m     62\u001b[0m \u001b[1;32mfrom\u001b[0m \u001b[0msktime\u001b[0m\u001b[1;33m.\u001b[0m\u001b[0mannotation\u001b[0m\u001b[1;33m.\u001b[0m\u001b[0mbase\u001b[0m \u001b[1;32mimport\u001b[0m \u001b[0mBaseSeriesAnnotator\u001b[0m\u001b[1;33m\u001b[0m\u001b[1;33m\u001b[0m\u001b[0m\n\u001b[0;32m     63\u001b[0m \u001b[1;32mfrom\u001b[0m \u001b[0msktime\u001b[0m\u001b[1;33m.\u001b[0m\u001b[0mclassification\u001b[0m\u001b[1;33m.\u001b[0m\u001b[0mbase\u001b[0m \u001b[1;32mimport\u001b[0m \u001b[0mBaseClassifier\u001b[0m\u001b[1;33m\u001b[0m\u001b[1;33m\u001b[0m\u001b[0m\n\u001b[1;32m---> 64\u001b[1;33m \u001b[1;32mfrom\u001b[0m \u001b[0msktime\u001b[0m\u001b[1;33m.\u001b[0m\u001b[0mclassification\u001b[0m\u001b[1;33m.\u001b[0m\u001b[0mearly_classification\u001b[0m \u001b[1;32mimport\u001b[0m \u001b[0mBaseEarlyClassifier\u001b[0m\u001b[1;33m\u001b[0m\u001b[1;33m\u001b[0m\u001b[0m\n\u001b[0m\u001b[0;32m     65\u001b[0m \u001b[1;32mfrom\u001b[0m \u001b[0msktime\u001b[0m\u001b[1;33m.\u001b[0m\u001b[0mclustering\u001b[0m\u001b[1;33m.\u001b[0m\u001b[0mbase\u001b[0m \u001b[1;32mimport\u001b[0m \u001b[0mBaseClusterer\u001b[0m\u001b[1;33m\u001b[0m\u001b[1;33m\u001b[0m\u001b[0m\n\u001b[0;32m     66\u001b[0m from sktime.dists_kernels._base import (\n",
      "\u001b[1;32mC:\\Anaconda3\\lib\\site-packages\\sktime\\classification\\early_classification\\__init__.py\u001b[0m in \u001b[0;36m<module>\u001b[1;34m\u001b[0m\n\u001b[0;32m      7\u001b[0m ]\n\u001b[0;32m      8\u001b[0m \u001b[1;33m\u001b[0m\u001b[0m\n\u001b[1;32m----> 9\u001b[1;33m from sktime.classification.early_classification._probability_threshold import (\n\u001b[0m\u001b[0;32m     10\u001b[0m     \u001b[0mProbabilityThresholdEarlyClassifier\u001b[0m\u001b[1;33m,\u001b[0m\u001b[1;33m\u001b[0m\u001b[1;33m\u001b[0m\u001b[0m\n\u001b[0;32m     11\u001b[0m )\n",
      "\u001b[1;32mC:\\Anaconda3\\lib\\site-packages\\sktime\\classification\\early_classification\\_probability_threshold.py\u001b[0m in \u001b[0;36m<module>\u001b[1;34m\u001b[0m\n\u001b[0;32m     18\u001b[0m \u001b[1;32mfrom\u001b[0m \u001b[0msktime\u001b[0m\u001b[1;33m.\u001b[0m\u001b[0mbase\u001b[0m\u001b[1;33m.\u001b[0m\u001b[0m_base\u001b[0m \u001b[1;32mimport\u001b[0m \u001b[0m_clone_estimator\u001b[0m\u001b[1;33m\u001b[0m\u001b[1;33m\u001b[0m\u001b[0m\n\u001b[0;32m     19\u001b[0m \u001b[1;32mfrom\u001b[0m \u001b[0msktime\u001b[0m\u001b[1;33m.\u001b[0m\u001b[0mclassification\u001b[0m\u001b[1;33m.\u001b[0m\u001b[0mbase\u001b[0m \u001b[1;32mimport\u001b[0m \u001b[0mBaseClassifier\u001b[0m\u001b[1;33m\u001b[0m\u001b[1;33m\u001b[0m\u001b[0m\n\u001b[1;32m---> 20\u001b[1;33m \u001b[1;32mfrom\u001b[0m \u001b[0msktime\u001b[0m\u001b[1;33m.\u001b[0m\u001b[0mclassification\u001b[0m\u001b[1;33m.\u001b[0m\u001b[0minterval_based\u001b[0m \u001b[1;32mimport\u001b[0m \u001b[0mCanonicalIntervalForest\u001b[0m\u001b[1;33m\u001b[0m\u001b[1;33m\u001b[0m\u001b[0m\n\u001b[0m\u001b[0;32m     21\u001b[0m \u001b[1;32mfrom\u001b[0m \u001b[0msktime\u001b[0m\u001b[1;33m.\u001b[0m\u001b[0mutils\u001b[0m\u001b[1;33m.\u001b[0m\u001b[0mvalidation\u001b[0m\u001b[1;33m.\u001b[0m\u001b[0mpanel\u001b[0m \u001b[1;32mimport\u001b[0m \u001b[0mcheck_X\u001b[0m\u001b[1;33m\u001b[0m\u001b[1;33m\u001b[0m\u001b[0m\n\u001b[0;32m     22\u001b[0m \u001b[1;33m\u001b[0m\u001b[0m\n",
      "\u001b[1;32mC:\\Anaconda3\\lib\\site-packages\\sktime\\classification\\interval_based\\__init__.py\u001b[0m in \u001b[0;36m<module>\u001b[1;34m\u001b[0m\n\u001b[0;32m      9\u001b[0m ]\n\u001b[0;32m     10\u001b[0m \u001b[1;33m\u001b[0m\u001b[0m\n\u001b[1;32m---> 11\u001b[1;33m \u001b[1;32mfrom\u001b[0m \u001b[0msktime\u001b[0m\u001b[1;33m.\u001b[0m\u001b[0mclassification\u001b[0m\u001b[1;33m.\u001b[0m\u001b[0minterval_based\u001b[0m\u001b[1;33m.\u001b[0m\u001b[0m_cif\u001b[0m \u001b[1;32mimport\u001b[0m \u001b[0mCanonicalIntervalForest\u001b[0m\u001b[1;33m\u001b[0m\u001b[1;33m\u001b[0m\u001b[0m\n\u001b[0m\u001b[0;32m     12\u001b[0m \u001b[1;32mfrom\u001b[0m \u001b[0msktime\u001b[0m\u001b[1;33m.\u001b[0m\u001b[0mclassification\u001b[0m\u001b[1;33m.\u001b[0m\u001b[0minterval_based\u001b[0m\u001b[1;33m.\u001b[0m\u001b[0m_drcif\u001b[0m \u001b[1;32mimport\u001b[0m \u001b[0mDrCIF\u001b[0m\u001b[1;33m\u001b[0m\u001b[1;33m\u001b[0m\u001b[0m\n\u001b[0;32m     13\u001b[0m \u001b[1;32mfrom\u001b[0m \u001b[0msktime\u001b[0m\u001b[1;33m.\u001b[0m\u001b[0mclassification\u001b[0m\u001b[1;33m.\u001b[0m\u001b[0minterval_based\u001b[0m\u001b[1;33m.\u001b[0m\u001b[0m_rise\u001b[0m \u001b[1;32mimport\u001b[0m \u001b[0mRandomIntervalSpectralEnsemble\u001b[0m\u001b[1;33m\u001b[0m\u001b[1;33m\u001b[0m\u001b[0m\n",
      "\u001b[1;32mC:\\Anaconda3\\lib\\site-packages\\sktime\\classification\\interval_based\\_cif.py\u001b[0m in \u001b[0;36m<module>\u001b[1;34m\u001b[0m\n\u001b[0;32m     16\u001b[0m \u001b[1;32mfrom\u001b[0m \u001b[0msklearn\u001b[0m\u001b[1;33m.\u001b[0m\u001b[0mutils\u001b[0m \u001b[1;32mimport\u001b[0m \u001b[0mcheck_random_state\u001b[0m\u001b[1;33m\u001b[0m\u001b[1;33m\u001b[0m\u001b[0m\n\u001b[0;32m     17\u001b[0m \u001b[1;33m\u001b[0m\u001b[0m\n\u001b[1;32m---> 18\u001b[1;33m from sktime._contrib.vector_classifiers._continuous_interval_tree import (\n\u001b[0m\u001b[0;32m     19\u001b[0m     \u001b[0mContinuousIntervalTree\u001b[0m\u001b[1;33m,\u001b[0m\u001b[1;33m\u001b[0m\u001b[1;33m\u001b[0m\u001b[0m\n\u001b[0;32m     20\u001b[0m     \u001b[0m_drcif_feature\u001b[0m\u001b[1;33m,\u001b[0m\u001b[1;33m\u001b[0m\u001b[1;33m\u001b[0m\u001b[0m\n",
      "\u001b[1;32mC:\\Anaconda3\\lib\\site-packages\\sktime\\_contrib\\vector_classifiers\\_continuous_interval_tree.py\u001b[0m in \u001b[0;36m<module>\u001b[1;34m\u001b[0m\n\u001b[0;32m     13\u001b[0m \u001b[1;33m\u001b[0m\u001b[0m\n\u001b[0;32m     14\u001b[0m \u001b[1;32mimport\u001b[0m \u001b[0mnumpy\u001b[0m \u001b[1;32mas\u001b[0m \u001b[0mnp\u001b[0m\u001b[1;33m\u001b[0m\u001b[1;33m\u001b[0m\u001b[0m\n\u001b[1;32m---> 15\u001b[1;33m \u001b[1;32mfrom\u001b[0m \u001b[0mnumba\u001b[0m \u001b[1;32mimport\u001b[0m \u001b[0mnjit\u001b[0m\u001b[1;33m\u001b[0m\u001b[1;33m\u001b[0m\u001b[0m\n\u001b[0m\u001b[0;32m     16\u001b[0m \u001b[1;32mfrom\u001b[0m \u001b[0msklearn\u001b[0m \u001b[1;32mimport\u001b[0m \u001b[0mpreprocessing\u001b[0m\u001b[1;33m\u001b[0m\u001b[1;33m\u001b[0m\u001b[0m\n\u001b[0;32m     17\u001b[0m \u001b[1;32mfrom\u001b[0m \u001b[0msklearn\u001b[0m\u001b[1;33m.\u001b[0m\u001b[0mbase\u001b[0m \u001b[1;32mimport\u001b[0m \u001b[0mBaseEstimator\u001b[0m\u001b[1;33m\u001b[0m\u001b[1;33m\u001b[0m\u001b[0m\n",
      "\u001b[1;32mC:\\Anaconda3\\lib\\site-packages\\numba\\__init__.py\u001b[0m in \u001b[0;36m<module>\u001b[1;34m\u001b[0m\n\u001b[0;32m    196\u001b[0m \u001b[1;33m\u001b[0m\u001b[0m\n\u001b[0;32m    197\u001b[0m \u001b[0m_ensure_llvm\u001b[0m\u001b[1;33m(\u001b[0m\u001b[1;33m)\u001b[0m\u001b[1;33m\u001b[0m\u001b[1;33m\u001b[0m\u001b[0m\n\u001b[1;32m--> 198\u001b[1;33m \u001b[0m_ensure_critical_deps\u001b[0m\u001b[1;33m(\u001b[0m\u001b[1;33m)\u001b[0m\u001b[1;33m\u001b[0m\u001b[1;33m\u001b[0m\u001b[0m\n\u001b[0m\u001b[0;32m    199\u001b[0m \u001b[1;33m\u001b[0m\u001b[0m\n\u001b[0;32m    200\u001b[0m \u001b[1;31m# we know llvmlite is working as the above tests passed, import it now as SVML\u001b[0m\u001b[1;33m\u001b[0m\u001b[1;33m\u001b[0m\u001b[0m\n",
      "\u001b[1;32mC:\\Anaconda3\\lib\\site-packages\\numba\\__init__.py\u001b[0m in \u001b[0;36m_ensure_critical_deps\u001b[1;34m()\u001b[0m\n\u001b[0;32m    136\u001b[0m         \u001b[1;32mraise\u001b[0m \u001b[0mImportError\u001b[0m\u001b[1;33m(\u001b[0m\u001b[1;34m\"Numba needs NumPy 1.17 or greater\"\u001b[0m\u001b[1;33m)\u001b[0m\u001b[1;33m\u001b[0m\u001b[1;33m\u001b[0m\u001b[0m\n\u001b[0;32m    137\u001b[0m     \u001b[1;32melif\u001b[0m \u001b[0mnumpy_version\u001b[0m \u001b[1;33m>\u001b[0m \u001b[1;33m(\u001b[0m\u001b[1;36m1\u001b[0m\u001b[1;33m,\u001b[0m \u001b[1;36m20\u001b[0m\u001b[1;33m)\u001b[0m\u001b[1;33m:\u001b[0m\u001b[1;33m\u001b[0m\u001b[1;33m\u001b[0m\u001b[0m\n\u001b[1;32m--> 138\u001b[1;33m         \u001b[1;32mraise\u001b[0m \u001b[0mImportError\u001b[0m\u001b[1;33m(\u001b[0m\u001b[1;34m\"Numba needs NumPy 1.20 or less\"\u001b[0m\u001b[1;33m)\u001b[0m\u001b[1;33m\u001b[0m\u001b[1;33m\u001b[0m\u001b[0m\n\u001b[0m\u001b[0;32m    139\u001b[0m \u001b[1;33m\u001b[0m\u001b[0m\n\u001b[0;32m    140\u001b[0m     \u001b[1;32mtry\u001b[0m\u001b[1;33m:\u001b[0m\u001b[1;33m\u001b[0m\u001b[1;33m\u001b[0m\u001b[0m\n",
      "\u001b[1;31mImportError\u001b[0m: Numba needs NumPy 1.20 or less"
     ]
    }
   ],
   "source": [
    "from sktime.forecasting.naive import NaiveForecaster\n",
    "forecaster = NaiveForecaster(strategy=\"last\")"
   ]
  },
  {
   "cell_type": "markdown",
   "id": "36068f33",
   "metadata": {},
   "source": [
    "### 예측자를 본 데이터에 맞추기"
   ]
  },
  {
   "cell_type": "code",
   "execution_count": null,
   "id": "1bb43cee",
   "metadata": {},
   "outputs": [],
   "source": []
  },
  {
   "cell_type": "markdown",
   "id": "7602fe75",
   "metadata": {},
   "source": [
    "### 예측 요청 "
   ]
  },
  {
   "cell_type": "code",
   "execution_count": null,
   "id": "fe664192",
   "metadata": {},
   "outputs": [],
   "source": []
  }
 ],
 "metadata": {
  "kernelspec": {
   "display_name": "Python 3 (ipykernel)",
   "language": "python",
   "name": "python3"
  },
  "language_info": {
   "codemirror_mode": {
    "name": "ipython",
    "version": 3
   },
   "file_extension": ".py",
   "mimetype": "text/x-python",
   "name": "python",
   "nbconvert_exporter": "python",
   "pygments_lexer": "ipython3",
   "version": "3.9.7"
  },
  "toc": {
   "base_numbering": 1,
   "nav_menu": {},
   "number_sections": true,
   "sideBar": true,
   "skip_h1_title": false,
   "title_cell": "Table of Contents",
   "title_sidebar": "Contents",
   "toc_cell": false,
   "toc_position": {
    "height": "calc(100% - 180px)",
    "left": "10px",
    "top": "150px",
    "width": "303.825px"
   },
   "toc_section_display": true,
   "toc_window_display": true
  }
 },
 "nbformat": 4,
 "nbformat_minor": 5
}
