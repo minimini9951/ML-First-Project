{
 "cells": [
  {
   "cell_type": "markdown",
   "id": "41c5fab3",
   "metadata": {},
   "source": [
    "###### 11월 14일\n"
   ]
  },
  {
   "cell_type": "markdown",
   "id": "5f984d9f",
   "metadata": {},
   "source": [
    "# 모듈 불러오기"
   ]
  },
  {
   "cell_type": "code",
   "execution_count": 12,
   "id": "74aed261",
   "metadata": {},
   "outputs": [],
   "source": [
    "import numpy as np\n",
    "import pandas as pd\n",
    "\n",
    "import matplotlib as mpl\n",
    "import matplotlib.pyplot as plt\n",
    "import seaborn as sns\n",
    "\n",
    "import warnings\n",
    "\n",
    "# 시각화를 주피터에 \n",
    "%matplotlib inline\n",
    "\n",
    "#한글 폰트를 선명하게 보기위해\n",
    "%config Inlinebackend.fiure_format = 'retina'\n",
    "mpl.rc('font',family = 'malgun gothic')\n",
    "# 유니코드에서 음수로 부호설정\n",
    "mpl.rc('axes',unicode_minus = False)\n",
    "\n",
    "# 차트 설정 \n",
    "sns.set(font = \"malgun gothic\", rc = {'axes.unicode_minus':False}, style = 'darkgrid')\n",
    "plt.rc('figure', figsize = (10,8))\n",
    "warnings.filterwarnings('ignore')"
   ]
  },
  {
   "cell_type": "markdown",
   "id": "b2e0adf7",
   "metadata": {},
   "source": [
    "# 데이터셋 로딩"
   ]
  },
  {
   "cell_type": "code",
   "execution_count": 13,
   "id": "458204e8",
   "metadata": {},
   "outputs": [],
   "source": [
    "mos = pd.read_csv('C:\\\\k_disital\\\\source\\\\mygit\\\\ML-First-Project\\\\mosquito_Indicator.csv')"
   ]
  },
  {
   "cell_type": "code",
   "execution_count": 14,
   "id": "1e63492a",
   "metadata": {},
   "outputs": [
    {
     "data": {
      "text/html": [
       "<div>\n",
       "<style scoped>\n",
       "    .dataframe tbody tr th:only-of-type {\n",
       "        vertical-align: middle;\n",
       "    }\n",
       "\n",
       "    .dataframe tbody tr th {\n",
       "        vertical-align: top;\n",
       "    }\n",
       "\n",
       "    .dataframe thead th {\n",
       "        text-align: right;\n",
       "    }\n",
       "</style>\n",
       "<table border=\"1\" class=\"dataframe\">\n",
       "  <thead>\n",
       "    <tr style=\"text-align: right;\">\n",
       "      <th></th>\n",
       "      <th>date</th>\n",
       "      <th>mosquito_Indicator</th>\n",
       "      <th>rain(mm)</th>\n",
       "      <th>mean_T(℃)</th>\n",
       "      <th>min_T(℃)</th>\n",
       "      <th>max_T(℃)</th>\n",
       "    </tr>\n",
       "  </thead>\n",
       "  <tbody>\n",
       "    <tr>\n",
       "      <th>0</th>\n",
       "      <td>2016-05-01</td>\n",
       "      <td>254.4</td>\n",
       "      <td>0.0</td>\n",
       "      <td>18.8</td>\n",
       "      <td>12.2</td>\n",
       "      <td>26.0</td>\n",
       "    </tr>\n",
       "    <tr>\n",
       "      <th>1</th>\n",
       "      <td>2016-05-02</td>\n",
       "      <td>273.5</td>\n",
       "      <td>16.5</td>\n",
       "      <td>21.1</td>\n",
       "      <td>16.5</td>\n",
       "      <td>28.4</td>\n",
       "    </tr>\n",
       "    <tr>\n",
       "      <th>2</th>\n",
       "      <td>2016-05-03</td>\n",
       "      <td>304.0</td>\n",
       "      <td>27.0</td>\n",
       "      <td>12.9</td>\n",
       "      <td>8.9</td>\n",
       "      <td>17.6</td>\n",
       "    </tr>\n",
       "    <tr>\n",
       "      <th>3</th>\n",
       "      <td>2016-05-04</td>\n",
       "      <td>256.2</td>\n",
       "      <td>0.0</td>\n",
       "      <td>15.7</td>\n",
       "      <td>10.2</td>\n",
       "      <td>20.6</td>\n",
       "    </tr>\n",
       "    <tr>\n",
       "      <th>4</th>\n",
       "      <td>2016-05-05</td>\n",
       "      <td>243.8</td>\n",
       "      <td>7.5</td>\n",
       "      <td>18.9</td>\n",
       "      <td>10.2</td>\n",
       "      <td>26.9</td>\n",
       "    </tr>\n",
       "  </tbody>\n",
       "</table>\n",
       "</div>"
      ],
      "text/plain": [
       "         date  mosquito_Indicator  rain(mm)  mean_T(℃)  min_T(℃)  max_T(℃)\n",
       "0  2016-05-01               254.4       0.0       18.8      12.2      26.0\n",
       "1  2016-05-02               273.5      16.5       21.1      16.5      28.4\n",
       "2  2016-05-03               304.0      27.0       12.9       8.9      17.6\n",
       "3  2016-05-04               256.2       0.0       15.7      10.2      20.6\n",
       "4  2016-05-05               243.8       7.5       18.9      10.2      26.9"
      ]
     },
     "execution_count": 14,
     "metadata": {},
     "output_type": "execute_result"
    }
   ],
   "source": [
    "mos.head()"
   ]
  },
  {
   "cell_type": "code",
   "execution_count": 15,
   "id": "cd7f59fb",
   "metadata": {},
   "outputs": [
    {
     "data": {
      "text/plain": [
       "Index(['date', 'mosquito_Indicator', 'rain(mm)', 'mean_T(℃)', 'min_T(℃)',\n",
       "       'max_T(℃)'],\n",
       "      dtype='object')"
      ]
     },
     "execution_count": 15,
     "metadata": {},
     "output_type": "execute_result"
    }
   ],
   "source": [
    "mos.keys()"
   ]
  },
  {
   "cell_type": "code",
   "execution_count": 16,
   "id": "781cce5a",
   "metadata": {},
   "outputs": [],
   "source": [
    "colums=mos.keys()"
   ]
  },
  {
   "cell_type": "code",
   "execution_count": 18,
   "id": "8cedfaf9",
   "metadata": {},
   "outputs": [],
   "source": [
    "df = pd.DataFrame(mos , columns=colums)"
   ]
  },
  {
   "cell_type": "code",
   "execution_count": 19,
   "id": "72199093",
   "metadata": {},
   "outputs": [],
   "source": [
    "df.columns = ['date','mosquito_Indicator','rain','mean_T','min_T','max_T']"
   ]
  },
  {
   "cell_type": "code",
   "execution_count": 20,
   "id": "47f3f68f",
   "metadata": {},
   "outputs": [
    {
     "data": {
      "text/plain": [
       "Index(['date', 'mosquito_Indicator', 'rain', 'mean_T', 'min_T', 'max_T'], dtype='object')"
      ]
     },
     "execution_count": 20,
     "metadata": {},
     "output_type": "execute_result"
    }
   ],
   "source": [
    "mos.keys()"
   ]
  },
  {
   "cell_type": "code",
   "execution_count": 22,
   "id": "f56ca968",
   "metadata": {},
   "outputs": [
    {
     "name": "stdout",
     "output_type": "stream",
     "text": [
      "<class 'pandas.core.frame.DataFrame'>\n",
      "RangeIndex: 1342 entries, 0 to 1341\n",
      "Data columns (total 6 columns):\n",
      " #   Column              Non-Null Count  Dtype  \n",
      "---  ------              --------------  -----  \n",
      " 0   date                1342 non-null   object \n",
      " 1   mosquito_Indicator  1342 non-null   float64\n",
      " 2   rain                1342 non-null   float64\n",
      " 3   mean_T              1342 non-null   float64\n",
      " 4   min_T               1342 non-null   float64\n",
      " 5   max_T               1342 non-null   float64\n",
      "dtypes: float64(5), object(1)\n",
      "memory usage: 63.0+ KB\n"
     ]
    }
   ],
   "source": [
    "mos.info()"
   ]
  },
  {
   "cell_type": "code",
   "execution_count": 21,
   "id": "14e633eb",
   "metadata": {},
   "outputs": [],
   "source": [
    "data =df.drop('mosquito_Indicator',axis = 1)\n",
    "target = df['mosquito_Indicator']"
   ]
  },
  {
   "cell_type": "code",
   "execution_count": null,
   "id": "230c37b8",
   "metadata": {},
   "outputs": [],
   "source": []
  }
 ],
 "metadata": {
  "kernelspec": {
   "display_name": "Python 3 (ipykernel)",
   "language": "python",
   "name": "python3"
  },
  "language_info": {
   "codemirror_mode": {
    "name": "ipython",
    "version": 3
   },
   "file_extension": ".py",
   "mimetype": "text/x-python",
   "name": "python",
   "nbconvert_exporter": "python",
   "pygments_lexer": "ipython3",
   "version": "3.9.7"
  },
  "toc": {
   "base_numbering": 1,
   "nav_menu": {},
   "number_sections": true,
   "sideBar": true,
   "skip_h1_title": false,
   "title_cell": "Table of Contents",
   "title_sidebar": "Contents",
   "toc_cell": false,
   "toc_position": {},
   "toc_section_display": true,
   "toc_window_display": false
  }
 },
 "nbformat": 4,
 "nbformat_minor": 5
}
