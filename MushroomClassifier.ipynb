{
 "cells": [
  {
   "cell_type": "code",
   "execution_count": 277,
   "id": "f88fd77d-df98-439c-aee4-f3d568ae7ec5",
   "metadata": {
    "execution": {
     "iopub.execute_input": "2022-11-15T08:16:16.568380Z",
     "iopub.status.busy": "2022-11-15T08:16:16.568273Z",
     "iopub.status.idle": "2022-11-15T08:16:16.596526Z",
     "shell.execute_reply": "2022-11-15T08:16:16.594864Z",
     "shell.execute_reply.started": "2022-11-15T08:16:16.568380Z"
    },
    "tags": []
   },
   "outputs": [],
   "source": [
    "import numpy as np\n",
    "import pandas as pd\n",
    "import seaborn as sns\n",
    "import matplotlib as mpl\n",
    "import matplotlib.pyplot as plt\n",
    "from lightgbm import LGBMClassifier\n",
    "from catboost import CatBoostClassifier\n",
    "from sklearn.preprocessing import LabelEncoder\n",
    "from sklearn.model_selection import train_test_split\n",
    "from sklearn.metrics import accuracy_score, f1_score\n",
    "\n",
    "import os\n",
    "os.environ[\"OMP_NUM_THREADS\"] = '1'\n",
    "\n",
    "import warnings\n",
    "warnings.simplefilter(action='ignore', category=FutureWarning)\n",
    "\n",
    "%config Completer.use_jedi = False\n",
    "%config InlineBackend.figure_format = 'retina'"
   ]
  },
  {
   "cell_type": "code",
   "execution_count": 2,
   "id": "c98e07c3-e249-441f-9f83-969e9dc9e1d7",
   "metadata": {
    "execution": {
     "iopub.execute_input": "2022-11-15T05:13:13.601500Z",
     "iopub.status.busy": "2022-11-15T05:13:13.601500Z",
     "iopub.status.idle": "2022-11-15T05:13:13.642033Z",
     "shell.execute_reply": "2022-11-15T05:13:13.640850Z",
     "shell.execute_reply.started": "2022-11-15T05:13:13.601500Z"
    },
    "tags": []
   },
   "outputs": [],
   "source": [
    "mush = pd.read_csv('mushrooms.csv')"
   ]
  },
  {
   "cell_type": "code",
   "execution_count": 3,
   "id": "9bfdb6e7-fe8a-4f69-837f-b591c79c64b3",
   "metadata": {
    "execution": {
     "iopub.execute_input": "2022-11-15T05:13:13.642033Z",
     "iopub.status.busy": "2022-11-15T05:13:13.642033Z",
     "iopub.status.idle": "2022-11-15T05:13:13.665129Z",
     "shell.execute_reply": "2022-11-15T05:13:13.663065Z",
     "shell.execute_reply.started": "2022-11-15T05:13:13.642033Z"
    },
    "tags": []
   },
   "outputs": [
    {
     "data": {
      "text/plain": [
       "(8124, 23)"
      ]
     },
     "execution_count": 3,
     "metadata": {},
     "output_type": "execute_result"
    }
   ],
   "source": [
    "mush.shape"
   ]
  },
  {
   "cell_type": "code",
   "execution_count": 4,
   "id": "962d9f08-0973-4bc1-8330-cc85e65f86c5",
   "metadata": {
    "execution": {
     "iopub.execute_input": "2022-11-15T05:13:13.665129Z",
     "iopub.status.busy": "2022-11-15T05:13:13.665129Z",
     "iopub.status.idle": "2022-11-15T05:13:13.743707Z",
     "shell.execute_reply": "2022-11-15T05:13:13.743707Z",
     "shell.execute_reply.started": "2022-11-15T05:13:13.665129Z"
    },
    "tags": []
   },
   "outputs": [
    {
     "data": {
      "text/plain": [
       "Index(['class', 'cap-shape', 'cap-surface', 'cap-color', 'bruises', 'odor',\n",
       "       'gill-attachment', 'gill-spacing', 'gill-size', 'gill-color',\n",
       "       'stalk-shape', 'stalk-root', 'stalk-surface-above-ring',\n",
       "       'stalk-surface-below-ring', 'stalk-color-above-ring',\n",
       "       'stalk-color-below-ring', 'veil-type', 'veil-color', 'ring-number',\n",
       "       'ring-type', 'spore-print-color', 'population', 'habitat'],\n",
       "      dtype='object')"
      ]
     },
     "execution_count": 4,
     "metadata": {},
     "output_type": "execute_result"
    }
   ],
   "source": [
    "mush.keys()"
   ]
  },
  {
   "cell_type": "code",
   "execution_count": 5,
   "id": "8b6d91d8-001a-4a6f-b40e-0491274322f4",
   "metadata": {
    "execution": {
     "iopub.execute_input": "2022-11-15T05:13:13.743707Z",
     "iopub.status.busy": "2022-11-15T05:13:13.743707Z",
     "iopub.status.idle": "2022-11-15T05:13:13.776082Z",
     "shell.execute_reply": "2022-11-15T05:13:13.775580Z",
     "shell.execute_reply.started": "2022-11-15T05:13:13.743707Z"
    },
    "tags": []
   },
   "outputs": [
    {
     "name": "stdout",
     "output_type": "stream",
     "text": [
      "<class 'pandas.core.frame.DataFrame'>\n",
      "RangeIndex: 8124 entries, 0 to 8123\n",
      "Data columns (total 23 columns):\n",
      " #   Column                    Non-Null Count  Dtype \n",
      "---  ------                    --------------  ----- \n",
      " 0   class                     8124 non-null   object\n",
      " 1   cap-shape                 8124 non-null   object\n",
      " 2   cap-surface               8124 non-null   object\n",
      " 3   cap-color                 8124 non-null   object\n",
      " 4   bruises                   8124 non-null   object\n",
      " 5   odor                      8124 non-null   object\n",
      " 6   gill-attachment           8124 non-null   object\n",
      " 7   gill-spacing              8124 non-null   object\n",
      " 8   gill-size                 8124 non-null   object\n",
      " 9   gill-color                8124 non-null   object\n",
      " 10  stalk-shape               8124 non-null   object\n",
      " 11  stalk-root                8124 non-null   object\n",
      " 12  stalk-surface-above-ring  8124 non-null   object\n",
      " 13  stalk-surface-below-ring  8124 non-null   object\n",
      " 14  stalk-color-above-ring    8124 non-null   object\n",
      " 15  stalk-color-below-ring    8124 non-null   object\n",
      " 16  veil-type                 8124 non-null   object\n",
      " 17  veil-color                8124 non-null   object\n",
      " 18  ring-number               8124 non-null   object\n",
      " 19  ring-type                 8124 non-null   object\n",
      " 20  spore-print-color         8124 non-null   object\n",
      " 21  population                8124 non-null   object\n",
      " 22  habitat                   8124 non-null   object\n",
      "dtypes: object(23)\n",
      "memory usage: 1.4+ MB\n"
     ]
    }
   ],
   "source": [
    "mush.info()"
   ]
  },
  {
   "cell_type": "code",
   "execution_count": 6,
   "id": "276f23bb-7e11-44b8-824b-496faece7954",
   "metadata": {
    "execution": {
     "iopub.execute_input": "2022-11-15T05:13:13.776082Z",
     "iopub.status.busy": "2022-11-15T05:13:13.776082Z",
     "iopub.status.idle": "2022-11-15T05:13:13.792855Z",
     "shell.execute_reply": "2022-11-15T05:13:13.791647Z",
     "shell.execute_reply.started": "2022-11-15T05:13:13.776082Z"
    },
    "tags": []
   },
   "outputs": [],
   "source": [
    "df = pd.DataFrame(mush)"
   ]
  },
  {
   "cell_type": "code",
   "execution_count": 307,
   "id": "645682d0-59fa-4ab5-9c23-3aeb11dedfc7",
   "metadata": {
    "execution": {
     "iopub.execute_input": "2022-11-15T08:53:02.585323Z",
     "iopub.status.busy": "2022-11-15T08:53:02.585323Z",
     "iopub.status.idle": "2022-11-15T08:53:02.634324Z",
     "shell.execute_reply": "2022-11-15T08:53:02.633186Z",
     "shell.execute_reply.started": "2022-11-15T08:53:02.585323Z"
    },
    "tags": []
   },
   "outputs": [
    {
     "data": {
      "text/html": [
       "<div>\n",
       "<style scoped>\n",
       "    .dataframe tbody tr th:only-of-type {\n",
       "        vertical-align: middle;\n",
       "    }\n",
       "\n",
       "    .dataframe tbody tr th {\n",
       "        vertical-align: top;\n",
       "    }\n",
       "\n",
       "    .dataframe thead th {\n",
       "        text-align: right;\n",
       "    }\n",
       "</style>\n",
       "<table border=\"1\" class=\"dataframe\">\n",
       "  <thead>\n",
       "    <tr style=\"text-align: right;\">\n",
       "      <th></th>\n",
       "      <th>class</th>\n",
       "      <th>cap-shape</th>\n",
       "      <th>cap-surface</th>\n",
       "      <th>cap-color</th>\n",
       "      <th>bruises</th>\n",
       "      <th>odor</th>\n",
       "      <th>gill-attachment</th>\n",
       "      <th>gill-spacing</th>\n",
       "      <th>gill-size</th>\n",
       "      <th>gill-color</th>\n",
       "      <th>...</th>\n",
       "      <th>stalk-surface-above-ring</th>\n",
       "      <th>stalk-surface-below-ring</th>\n",
       "      <th>stalk-color-above-ring</th>\n",
       "      <th>stalk-color-below-ring</th>\n",
       "      <th>veil-color</th>\n",
       "      <th>ring-number</th>\n",
       "      <th>ring-type</th>\n",
       "      <th>spore-print-color</th>\n",
       "      <th>population</th>\n",
       "      <th>habitat</th>\n",
       "    </tr>\n",
       "  </thead>\n",
       "  <tbody>\n",
       "    <tr>\n",
       "      <th>0</th>\n",
       "      <td>p</td>\n",
       "      <td>x</td>\n",
       "      <td>s</td>\n",
       "      <td>n</td>\n",
       "      <td>t</td>\n",
       "      <td>p</td>\n",
       "      <td>f</td>\n",
       "      <td>c</td>\n",
       "      <td>n</td>\n",
       "      <td>k</td>\n",
       "      <td>...</td>\n",
       "      <td>s</td>\n",
       "      <td>s</td>\n",
       "      <td>w</td>\n",
       "      <td>w</td>\n",
       "      <td>w</td>\n",
       "      <td>o</td>\n",
       "      <td>p</td>\n",
       "      <td>k</td>\n",
       "      <td>s</td>\n",
       "      <td>u</td>\n",
       "    </tr>\n",
       "    <tr>\n",
       "      <th>1</th>\n",
       "      <td>e</td>\n",
       "      <td>x</td>\n",
       "      <td>s</td>\n",
       "      <td>y</td>\n",
       "      <td>t</td>\n",
       "      <td>a</td>\n",
       "      <td>f</td>\n",
       "      <td>c</td>\n",
       "      <td>b</td>\n",
       "      <td>k</td>\n",
       "      <td>...</td>\n",
       "      <td>s</td>\n",
       "      <td>s</td>\n",
       "      <td>w</td>\n",
       "      <td>w</td>\n",
       "      <td>w</td>\n",
       "      <td>o</td>\n",
       "      <td>p</td>\n",
       "      <td>n</td>\n",
       "      <td>n</td>\n",
       "      <td>g</td>\n",
       "    </tr>\n",
       "    <tr>\n",
       "      <th>2</th>\n",
       "      <td>e</td>\n",
       "      <td>b</td>\n",
       "      <td>s</td>\n",
       "      <td>w</td>\n",
       "      <td>t</td>\n",
       "      <td>l</td>\n",
       "      <td>f</td>\n",
       "      <td>c</td>\n",
       "      <td>b</td>\n",
       "      <td>n</td>\n",
       "      <td>...</td>\n",
       "      <td>s</td>\n",
       "      <td>s</td>\n",
       "      <td>w</td>\n",
       "      <td>w</td>\n",
       "      <td>w</td>\n",
       "      <td>o</td>\n",
       "      <td>p</td>\n",
       "      <td>n</td>\n",
       "      <td>n</td>\n",
       "      <td>m</td>\n",
       "    </tr>\n",
       "    <tr>\n",
       "      <th>3</th>\n",
       "      <td>p</td>\n",
       "      <td>x</td>\n",
       "      <td>y</td>\n",
       "      <td>w</td>\n",
       "      <td>t</td>\n",
       "      <td>p</td>\n",
       "      <td>f</td>\n",
       "      <td>c</td>\n",
       "      <td>n</td>\n",
       "      <td>n</td>\n",
       "      <td>...</td>\n",
       "      <td>s</td>\n",
       "      <td>s</td>\n",
       "      <td>w</td>\n",
       "      <td>w</td>\n",
       "      <td>w</td>\n",
       "      <td>o</td>\n",
       "      <td>p</td>\n",
       "      <td>k</td>\n",
       "      <td>s</td>\n",
       "      <td>u</td>\n",
       "    </tr>\n",
       "    <tr>\n",
       "      <th>4</th>\n",
       "      <td>e</td>\n",
       "      <td>x</td>\n",
       "      <td>s</td>\n",
       "      <td>g</td>\n",
       "      <td>f</td>\n",
       "      <td>n</td>\n",
       "      <td>f</td>\n",
       "      <td>w</td>\n",
       "      <td>b</td>\n",
       "      <td>k</td>\n",
       "      <td>...</td>\n",
       "      <td>s</td>\n",
       "      <td>s</td>\n",
       "      <td>w</td>\n",
       "      <td>w</td>\n",
       "      <td>w</td>\n",
       "      <td>o</td>\n",
       "      <td>e</td>\n",
       "      <td>n</td>\n",
       "      <td>a</td>\n",
       "      <td>g</td>\n",
       "    </tr>\n",
       "    <tr>\n",
       "      <th>...</th>\n",
       "      <td>...</td>\n",
       "      <td>...</td>\n",
       "      <td>...</td>\n",
       "      <td>...</td>\n",
       "      <td>...</td>\n",
       "      <td>...</td>\n",
       "      <td>...</td>\n",
       "      <td>...</td>\n",
       "      <td>...</td>\n",
       "      <td>...</td>\n",
       "      <td>...</td>\n",
       "      <td>...</td>\n",
       "      <td>...</td>\n",
       "      <td>...</td>\n",
       "      <td>...</td>\n",
       "      <td>...</td>\n",
       "      <td>...</td>\n",
       "      <td>...</td>\n",
       "      <td>...</td>\n",
       "      <td>...</td>\n",
       "      <td>...</td>\n",
       "    </tr>\n",
       "    <tr>\n",
       "      <th>8119</th>\n",
       "      <td>e</td>\n",
       "      <td>k</td>\n",
       "      <td>s</td>\n",
       "      <td>n</td>\n",
       "      <td>f</td>\n",
       "      <td>n</td>\n",
       "      <td>a</td>\n",
       "      <td>c</td>\n",
       "      <td>b</td>\n",
       "      <td>y</td>\n",
       "      <td>...</td>\n",
       "      <td>s</td>\n",
       "      <td>s</td>\n",
       "      <td>o</td>\n",
       "      <td>o</td>\n",
       "      <td>o</td>\n",
       "      <td>o</td>\n",
       "      <td>p</td>\n",
       "      <td>b</td>\n",
       "      <td>c</td>\n",
       "      <td>l</td>\n",
       "    </tr>\n",
       "    <tr>\n",
       "      <th>8120</th>\n",
       "      <td>e</td>\n",
       "      <td>x</td>\n",
       "      <td>s</td>\n",
       "      <td>n</td>\n",
       "      <td>f</td>\n",
       "      <td>n</td>\n",
       "      <td>a</td>\n",
       "      <td>c</td>\n",
       "      <td>b</td>\n",
       "      <td>y</td>\n",
       "      <td>...</td>\n",
       "      <td>s</td>\n",
       "      <td>s</td>\n",
       "      <td>o</td>\n",
       "      <td>o</td>\n",
       "      <td>n</td>\n",
       "      <td>o</td>\n",
       "      <td>p</td>\n",
       "      <td>b</td>\n",
       "      <td>v</td>\n",
       "      <td>l</td>\n",
       "    </tr>\n",
       "    <tr>\n",
       "      <th>8121</th>\n",
       "      <td>e</td>\n",
       "      <td>f</td>\n",
       "      <td>s</td>\n",
       "      <td>n</td>\n",
       "      <td>f</td>\n",
       "      <td>n</td>\n",
       "      <td>a</td>\n",
       "      <td>c</td>\n",
       "      <td>b</td>\n",
       "      <td>n</td>\n",
       "      <td>...</td>\n",
       "      <td>s</td>\n",
       "      <td>s</td>\n",
       "      <td>o</td>\n",
       "      <td>o</td>\n",
       "      <td>o</td>\n",
       "      <td>o</td>\n",
       "      <td>p</td>\n",
       "      <td>b</td>\n",
       "      <td>c</td>\n",
       "      <td>l</td>\n",
       "    </tr>\n",
       "    <tr>\n",
       "      <th>8122</th>\n",
       "      <td>p</td>\n",
       "      <td>k</td>\n",
       "      <td>y</td>\n",
       "      <td>n</td>\n",
       "      <td>f</td>\n",
       "      <td>y</td>\n",
       "      <td>f</td>\n",
       "      <td>c</td>\n",
       "      <td>n</td>\n",
       "      <td>b</td>\n",
       "      <td>...</td>\n",
       "      <td>s</td>\n",
       "      <td>k</td>\n",
       "      <td>w</td>\n",
       "      <td>w</td>\n",
       "      <td>w</td>\n",
       "      <td>o</td>\n",
       "      <td>e</td>\n",
       "      <td>w</td>\n",
       "      <td>v</td>\n",
       "      <td>l</td>\n",
       "    </tr>\n",
       "    <tr>\n",
       "      <th>8123</th>\n",
       "      <td>e</td>\n",
       "      <td>x</td>\n",
       "      <td>s</td>\n",
       "      <td>n</td>\n",
       "      <td>f</td>\n",
       "      <td>n</td>\n",
       "      <td>a</td>\n",
       "      <td>c</td>\n",
       "      <td>b</td>\n",
       "      <td>y</td>\n",
       "      <td>...</td>\n",
       "      <td>s</td>\n",
       "      <td>s</td>\n",
       "      <td>o</td>\n",
       "      <td>o</td>\n",
       "      <td>o</td>\n",
       "      <td>o</td>\n",
       "      <td>p</td>\n",
       "      <td>o</td>\n",
       "      <td>c</td>\n",
       "      <td>l</td>\n",
       "    </tr>\n",
       "  </tbody>\n",
       "</table>\n",
       "<p>8124 rows × 22 columns</p>\n",
       "</div>"
      ],
      "text/plain": [
       "     class cap-shape cap-surface cap-color bruises odor gill-attachment  \\\n",
       "0        p         x           s         n       t    p               f   \n",
       "1        e         x           s         y       t    a               f   \n",
       "2        e         b           s         w       t    l               f   \n",
       "3        p         x           y         w       t    p               f   \n",
       "4        e         x           s         g       f    n               f   \n",
       "...    ...       ...         ...       ...     ...  ...             ...   \n",
       "8119     e         k           s         n       f    n               a   \n",
       "8120     e         x           s         n       f    n               a   \n",
       "8121     e         f           s         n       f    n               a   \n",
       "8122     p         k           y         n       f    y               f   \n",
       "8123     e         x           s         n       f    n               a   \n",
       "\n",
       "     gill-spacing gill-size gill-color  ... stalk-surface-above-ring  \\\n",
       "0               c         n          k  ...                        s   \n",
       "1               c         b          k  ...                        s   \n",
       "2               c         b          n  ...                        s   \n",
       "3               c         n          n  ...                        s   \n",
       "4               w         b          k  ...                        s   \n",
       "...           ...       ...        ...  ...                      ...   \n",
       "8119            c         b          y  ...                        s   \n",
       "8120            c         b          y  ...                        s   \n",
       "8121            c         b          n  ...                        s   \n",
       "8122            c         n          b  ...                        s   \n",
       "8123            c         b          y  ...                        s   \n",
       "\n",
       "     stalk-surface-below-ring stalk-color-above-ring stalk-color-below-ring  \\\n",
       "0                           s                      w                      w   \n",
       "1                           s                      w                      w   \n",
       "2                           s                      w                      w   \n",
       "3                           s                      w                      w   \n",
       "4                           s                      w                      w   \n",
       "...                       ...                    ...                    ...   \n",
       "8119                        s                      o                      o   \n",
       "8120                        s                      o                      o   \n",
       "8121                        s                      o                      o   \n",
       "8122                        k                      w                      w   \n",
       "8123                        s                      o                      o   \n",
       "\n",
       "     veil-color ring-number ring-type spore-print-color population habitat  \n",
       "0             w           o         p                 k          s       u  \n",
       "1             w           o         p                 n          n       g  \n",
       "2             w           o         p                 n          n       m  \n",
       "3             w           o         p                 k          s       u  \n",
       "4             w           o         e                 n          a       g  \n",
       "...         ...         ...       ...               ...        ...     ...  \n",
       "8119          o           o         p                 b          c       l  \n",
       "8120          n           o         p                 b          v       l  \n",
       "8121          o           o         p                 b          c       l  \n",
       "8122          w           o         e                 w          v       l  \n",
       "8123          o           o         p                 o          c       l  \n",
       "\n",
       "[8124 rows x 22 columns]"
      ]
     },
     "execution_count": 307,
     "metadata": {},
     "output_type": "execute_result"
    }
   ],
   "source": [
    "df"
   ]
  },
  {
   "cell_type": "code",
   "execution_count": 8,
   "id": "04d360e3-9f1a-4b46-b33e-c734c0f7f12a",
   "metadata": {
    "execution": {
     "iopub.execute_input": "2022-11-15T05:13:13.824163Z",
     "iopub.status.busy": "2022-11-15T05:13:13.824163Z",
     "iopub.status.idle": "2022-11-15T05:13:13.839922Z",
     "shell.execute_reply": "2022-11-15T05:13:13.838946Z",
     "shell.execute_reply.started": "2022-11-15T05:13:13.824163Z"
    },
    "tags": []
   },
   "outputs": [],
   "source": [
    "df = df.drop('veil-type', axis=1)"
   ]
  },
  {
   "cell_type": "code",
   "execution_count": 9,
   "id": "a8f3158d-bc88-44f0-b914-8851f7f61ae8",
   "metadata": {
    "execution": {
     "iopub.execute_input": "2022-11-15T05:13:13.839922Z",
     "iopub.status.busy": "2022-11-15T05:13:13.839922Z",
     "iopub.status.idle": "2022-11-15T05:13:13.854465Z",
     "shell.execute_reply": "2022-11-15T05:13:13.853731Z",
     "shell.execute_reply.started": "2022-11-15T05:13:13.839922Z"
    },
    "tags": []
   },
   "outputs": [
    {
     "data": {
      "text/plain": [
       "'habitat'"
      ]
     },
     "execution_count": 9,
     "metadata": {},
     "output_type": "execute_result"
    }
   ],
   "source": [
    "df.columns[21]"
   ]
  },
  {
   "cell_type": "code",
   "execution_count": 308,
   "id": "227592de-f43a-48a1-ba0a-7bfcbc5d55b2",
   "metadata": {
    "execution": {
     "iopub.execute_input": "2022-11-15T08:53:16.328485Z",
     "iopub.status.busy": "2022-11-15T08:53:16.328099Z",
     "iopub.status.idle": "2022-11-15T08:53:16.394237Z",
     "shell.execute_reply": "2022-11-15T08:53:16.392533Z",
     "shell.execute_reply.started": "2022-11-15T08:53:16.328485Z"
    },
    "tags": []
   },
   "outputs": [
    {
     "name": "stdout",
     "output_type": "stream",
     "text": [
      "<class 'pandas.core.frame.DataFrame'>\n",
      "RangeIndex: 8124 entries, 0 to 8123\n",
      "Data columns (total 22 columns):\n",
      " #   Column                    Non-Null Count  Dtype \n",
      "---  ------                    --------------  ----- \n",
      " 0   class                     8124 non-null   object\n",
      " 1   cap-shape                 8124 non-null   object\n",
      " 2   cap-surface               8124 non-null   object\n",
      " 3   cap-color                 8124 non-null   object\n",
      " 4   bruises                   8124 non-null   object\n",
      " 5   odor                      8124 non-null   object\n",
      " 6   gill-attachment           8124 non-null   object\n",
      " 7   gill-spacing              8124 non-null   object\n",
      " 8   gill-size                 8124 non-null   object\n",
      " 9   gill-color                8124 non-null   object\n",
      " 10  stalk-shape               8124 non-null   object\n",
      " 11  stalk-root                8124 non-null   object\n",
      " 12  stalk-surface-above-ring  8124 non-null   object\n",
      " 13  stalk-surface-below-ring  8124 non-null   object\n",
      " 14  stalk-color-above-ring    8124 non-null   object\n",
      " 15  stalk-color-below-ring    8124 non-null   object\n",
      " 16  veil-color                8124 non-null   object\n",
      " 17  ring-number               8124 non-null   object\n",
      " 18  ring-type                 8124 non-null   object\n",
      " 19  spore-print-color         8124 non-null   object\n",
      " 20  population                8124 non-null   object\n",
      " 21  habitat                   8124 non-null   object\n",
      "dtypes: object(22)\n",
      "memory usage: 1.4+ MB\n"
     ]
    }
   ],
   "source": [
    "df.info()"
   ]
  },
  {
   "cell_type": "code",
   "execution_count": 10,
   "id": "c9217aab-bf18-4346-abf0-2a36df192ea7",
   "metadata": {
    "execution": {
     "iopub.execute_input": "2022-11-15T05:13:13.854465Z",
     "iopub.status.busy": "2022-11-15T05:13:13.854465Z",
     "iopub.status.idle": "2022-11-15T05:13:13.901434Z",
     "shell.execute_reply": "2022-11-15T05:13:13.900723Z",
     "shell.execute_reply.started": "2022-11-15T05:13:13.854465Z"
    },
    "tags": []
   },
   "outputs": [],
   "source": [
    "le = LabelEncoder()\n",
    "new_cat = pd.DataFrame()\n",
    "for i in range(0, 22):\n",
    "    le.fit(df.iloc[:, i])\n",
    "    le_encoded = le.transform(df.iloc[:, i])\n",
    "    new_cat[df.columns[i]] = le_encoded"
   ]
  },
  {
   "cell_type": "code",
   "execution_count": 11,
   "id": "528b5094-8e11-483b-97d0-6d90fcea3d4c",
   "metadata": {
    "execution": {
     "iopub.execute_input": "2022-11-15T05:13:13.904036Z",
     "iopub.status.busy": "2022-11-15T05:13:13.901934Z",
     "iopub.status.idle": "2022-11-15T05:13:13.926679Z",
     "shell.execute_reply": "2022-11-15T05:13:13.926253Z",
     "shell.execute_reply.started": "2022-11-15T05:13:13.904036Z"
    },
    "tags": []
   },
   "outputs": [
    {
     "data": {
      "text/html": [
       "<div>\n",
       "<style scoped>\n",
       "    .dataframe tbody tr th:only-of-type {\n",
       "        vertical-align: middle;\n",
       "    }\n",
       "\n",
       "    .dataframe tbody tr th {\n",
       "        vertical-align: top;\n",
       "    }\n",
       "\n",
       "    .dataframe thead th {\n",
       "        text-align: right;\n",
       "    }\n",
       "</style>\n",
       "<table border=\"1\" class=\"dataframe\">\n",
       "  <thead>\n",
       "    <tr style=\"text-align: right;\">\n",
       "      <th></th>\n",
       "      <th>class</th>\n",
       "      <th>cap-shape</th>\n",
       "      <th>cap-surface</th>\n",
       "      <th>cap-color</th>\n",
       "      <th>bruises</th>\n",
       "      <th>odor</th>\n",
       "      <th>gill-attachment</th>\n",
       "      <th>gill-spacing</th>\n",
       "      <th>gill-size</th>\n",
       "      <th>gill-color</th>\n",
       "      <th>...</th>\n",
       "      <th>stalk-surface-above-ring</th>\n",
       "      <th>stalk-surface-below-ring</th>\n",
       "      <th>stalk-color-above-ring</th>\n",
       "      <th>stalk-color-below-ring</th>\n",
       "      <th>veil-color</th>\n",
       "      <th>ring-number</th>\n",
       "      <th>ring-type</th>\n",
       "      <th>spore-print-color</th>\n",
       "      <th>population</th>\n",
       "      <th>habitat</th>\n",
       "    </tr>\n",
       "  </thead>\n",
       "  <tbody>\n",
       "    <tr>\n",
       "      <th>0</th>\n",
       "      <td>1</td>\n",
       "      <td>5</td>\n",
       "      <td>2</td>\n",
       "      <td>4</td>\n",
       "      <td>1</td>\n",
       "      <td>6</td>\n",
       "      <td>1</td>\n",
       "      <td>0</td>\n",
       "      <td>1</td>\n",
       "      <td>4</td>\n",
       "      <td>...</td>\n",
       "      <td>2</td>\n",
       "      <td>2</td>\n",
       "      <td>7</td>\n",
       "      <td>7</td>\n",
       "      <td>2</td>\n",
       "      <td>1</td>\n",
       "      <td>4</td>\n",
       "      <td>2</td>\n",
       "      <td>3</td>\n",
       "      <td>5</td>\n",
       "    </tr>\n",
       "    <tr>\n",
       "      <th>1</th>\n",
       "      <td>0</td>\n",
       "      <td>5</td>\n",
       "      <td>2</td>\n",
       "      <td>9</td>\n",
       "      <td>1</td>\n",
       "      <td>0</td>\n",
       "      <td>1</td>\n",
       "      <td>0</td>\n",
       "      <td>0</td>\n",
       "      <td>4</td>\n",
       "      <td>...</td>\n",
       "      <td>2</td>\n",
       "      <td>2</td>\n",
       "      <td>7</td>\n",
       "      <td>7</td>\n",
       "      <td>2</td>\n",
       "      <td>1</td>\n",
       "      <td>4</td>\n",
       "      <td>3</td>\n",
       "      <td>2</td>\n",
       "      <td>1</td>\n",
       "    </tr>\n",
       "    <tr>\n",
       "      <th>2</th>\n",
       "      <td>0</td>\n",
       "      <td>0</td>\n",
       "      <td>2</td>\n",
       "      <td>8</td>\n",
       "      <td>1</td>\n",
       "      <td>3</td>\n",
       "      <td>1</td>\n",
       "      <td>0</td>\n",
       "      <td>0</td>\n",
       "      <td>5</td>\n",
       "      <td>...</td>\n",
       "      <td>2</td>\n",
       "      <td>2</td>\n",
       "      <td>7</td>\n",
       "      <td>7</td>\n",
       "      <td>2</td>\n",
       "      <td>1</td>\n",
       "      <td>4</td>\n",
       "      <td>3</td>\n",
       "      <td>2</td>\n",
       "      <td>3</td>\n",
       "    </tr>\n",
       "    <tr>\n",
       "      <th>3</th>\n",
       "      <td>1</td>\n",
       "      <td>5</td>\n",
       "      <td>3</td>\n",
       "      <td>8</td>\n",
       "      <td>1</td>\n",
       "      <td>6</td>\n",
       "      <td>1</td>\n",
       "      <td>0</td>\n",
       "      <td>1</td>\n",
       "      <td>5</td>\n",
       "      <td>...</td>\n",
       "      <td>2</td>\n",
       "      <td>2</td>\n",
       "      <td>7</td>\n",
       "      <td>7</td>\n",
       "      <td>2</td>\n",
       "      <td>1</td>\n",
       "      <td>4</td>\n",
       "      <td>2</td>\n",
       "      <td>3</td>\n",
       "      <td>5</td>\n",
       "    </tr>\n",
       "    <tr>\n",
       "      <th>4</th>\n",
       "      <td>0</td>\n",
       "      <td>5</td>\n",
       "      <td>2</td>\n",
       "      <td>3</td>\n",
       "      <td>0</td>\n",
       "      <td>5</td>\n",
       "      <td>1</td>\n",
       "      <td>1</td>\n",
       "      <td>0</td>\n",
       "      <td>4</td>\n",
       "      <td>...</td>\n",
       "      <td>2</td>\n",
       "      <td>2</td>\n",
       "      <td>7</td>\n",
       "      <td>7</td>\n",
       "      <td>2</td>\n",
       "      <td>1</td>\n",
       "      <td>0</td>\n",
       "      <td>3</td>\n",
       "      <td>0</td>\n",
       "      <td>1</td>\n",
       "    </tr>\n",
       "    <tr>\n",
       "      <th>...</th>\n",
       "      <td>...</td>\n",
       "      <td>...</td>\n",
       "      <td>...</td>\n",
       "      <td>...</td>\n",
       "      <td>...</td>\n",
       "      <td>...</td>\n",
       "      <td>...</td>\n",
       "      <td>...</td>\n",
       "      <td>...</td>\n",
       "      <td>...</td>\n",
       "      <td>...</td>\n",
       "      <td>...</td>\n",
       "      <td>...</td>\n",
       "      <td>...</td>\n",
       "      <td>...</td>\n",
       "      <td>...</td>\n",
       "      <td>...</td>\n",
       "      <td>...</td>\n",
       "      <td>...</td>\n",
       "      <td>...</td>\n",
       "      <td>...</td>\n",
       "    </tr>\n",
       "    <tr>\n",
       "      <th>8119</th>\n",
       "      <td>0</td>\n",
       "      <td>3</td>\n",
       "      <td>2</td>\n",
       "      <td>4</td>\n",
       "      <td>0</td>\n",
       "      <td>5</td>\n",
       "      <td>0</td>\n",
       "      <td>0</td>\n",
       "      <td>0</td>\n",
       "      <td>11</td>\n",
       "      <td>...</td>\n",
       "      <td>2</td>\n",
       "      <td>2</td>\n",
       "      <td>5</td>\n",
       "      <td>5</td>\n",
       "      <td>1</td>\n",
       "      <td>1</td>\n",
       "      <td>4</td>\n",
       "      <td>0</td>\n",
       "      <td>1</td>\n",
       "      <td>2</td>\n",
       "    </tr>\n",
       "    <tr>\n",
       "      <th>8120</th>\n",
       "      <td>0</td>\n",
       "      <td>5</td>\n",
       "      <td>2</td>\n",
       "      <td>4</td>\n",
       "      <td>0</td>\n",
       "      <td>5</td>\n",
       "      <td>0</td>\n",
       "      <td>0</td>\n",
       "      <td>0</td>\n",
       "      <td>11</td>\n",
       "      <td>...</td>\n",
       "      <td>2</td>\n",
       "      <td>2</td>\n",
       "      <td>5</td>\n",
       "      <td>5</td>\n",
       "      <td>0</td>\n",
       "      <td>1</td>\n",
       "      <td>4</td>\n",
       "      <td>0</td>\n",
       "      <td>4</td>\n",
       "      <td>2</td>\n",
       "    </tr>\n",
       "    <tr>\n",
       "      <th>8121</th>\n",
       "      <td>0</td>\n",
       "      <td>2</td>\n",
       "      <td>2</td>\n",
       "      <td>4</td>\n",
       "      <td>0</td>\n",
       "      <td>5</td>\n",
       "      <td>0</td>\n",
       "      <td>0</td>\n",
       "      <td>0</td>\n",
       "      <td>5</td>\n",
       "      <td>...</td>\n",
       "      <td>2</td>\n",
       "      <td>2</td>\n",
       "      <td>5</td>\n",
       "      <td>5</td>\n",
       "      <td>1</td>\n",
       "      <td>1</td>\n",
       "      <td>4</td>\n",
       "      <td>0</td>\n",
       "      <td>1</td>\n",
       "      <td>2</td>\n",
       "    </tr>\n",
       "    <tr>\n",
       "      <th>8122</th>\n",
       "      <td>1</td>\n",
       "      <td>3</td>\n",
       "      <td>3</td>\n",
       "      <td>4</td>\n",
       "      <td>0</td>\n",
       "      <td>8</td>\n",
       "      <td>1</td>\n",
       "      <td>0</td>\n",
       "      <td>1</td>\n",
       "      <td>0</td>\n",
       "      <td>...</td>\n",
       "      <td>2</td>\n",
       "      <td>1</td>\n",
       "      <td>7</td>\n",
       "      <td>7</td>\n",
       "      <td>2</td>\n",
       "      <td>1</td>\n",
       "      <td>0</td>\n",
       "      <td>7</td>\n",
       "      <td>4</td>\n",
       "      <td>2</td>\n",
       "    </tr>\n",
       "    <tr>\n",
       "      <th>8123</th>\n",
       "      <td>0</td>\n",
       "      <td>5</td>\n",
       "      <td>2</td>\n",
       "      <td>4</td>\n",
       "      <td>0</td>\n",
       "      <td>5</td>\n",
       "      <td>0</td>\n",
       "      <td>0</td>\n",
       "      <td>0</td>\n",
       "      <td>11</td>\n",
       "      <td>...</td>\n",
       "      <td>2</td>\n",
       "      <td>2</td>\n",
       "      <td>5</td>\n",
       "      <td>5</td>\n",
       "      <td>1</td>\n",
       "      <td>1</td>\n",
       "      <td>4</td>\n",
       "      <td>4</td>\n",
       "      <td>1</td>\n",
       "      <td>2</td>\n",
       "    </tr>\n",
       "  </tbody>\n",
       "</table>\n",
       "<p>8124 rows × 22 columns</p>\n",
       "</div>"
      ],
      "text/plain": [
       "      class  cap-shape  cap-surface  cap-color  bruises  odor  \\\n",
       "0         1          5            2          4        1     6   \n",
       "1         0          5            2          9        1     0   \n",
       "2         0          0            2          8        1     3   \n",
       "3         1          5            3          8        1     6   \n",
       "4         0          5            2          3        0     5   \n",
       "...     ...        ...          ...        ...      ...   ...   \n",
       "8119      0          3            2          4        0     5   \n",
       "8120      0          5            2          4        0     5   \n",
       "8121      0          2            2          4        0     5   \n",
       "8122      1          3            3          4        0     8   \n",
       "8123      0          5            2          4        0     5   \n",
       "\n",
       "      gill-attachment  gill-spacing  gill-size  gill-color  ...  \\\n",
       "0                   1             0          1           4  ...   \n",
       "1                   1             0          0           4  ...   \n",
       "2                   1             0          0           5  ...   \n",
       "3                   1             0          1           5  ...   \n",
       "4                   1             1          0           4  ...   \n",
       "...               ...           ...        ...         ...  ...   \n",
       "8119                0             0          0          11  ...   \n",
       "8120                0             0          0          11  ...   \n",
       "8121                0             0          0           5  ...   \n",
       "8122                1             0          1           0  ...   \n",
       "8123                0             0          0          11  ...   \n",
       "\n",
       "      stalk-surface-above-ring  stalk-surface-below-ring  \\\n",
       "0                            2                         2   \n",
       "1                            2                         2   \n",
       "2                            2                         2   \n",
       "3                            2                         2   \n",
       "4                            2                         2   \n",
       "...                        ...                       ...   \n",
       "8119                         2                         2   \n",
       "8120                         2                         2   \n",
       "8121                         2                         2   \n",
       "8122                         2                         1   \n",
       "8123                         2                         2   \n",
       "\n",
       "      stalk-color-above-ring  stalk-color-below-ring  veil-color  ring-number  \\\n",
       "0                          7                       7           2            1   \n",
       "1                          7                       7           2            1   \n",
       "2                          7                       7           2            1   \n",
       "3                          7                       7           2            1   \n",
       "4                          7                       7           2            1   \n",
       "...                      ...                     ...         ...          ...   \n",
       "8119                       5                       5           1            1   \n",
       "8120                       5                       5           0            1   \n",
       "8121                       5                       5           1            1   \n",
       "8122                       7                       7           2            1   \n",
       "8123                       5                       5           1            1   \n",
       "\n",
       "      ring-type  spore-print-color  population  habitat  \n",
       "0             4                  2           3        5  \n",
       "1             4                  3           2        1  \n",
       "2             4                  3           2        3  \n",
       "3             4                  2           3        5  \n",
       "4             0                  3           0        1  \n",
       "...         ...                ...         ...      ...  \n",
       "8119          4                  0           1        2  \n",
       "8120          4                  0           4        2  \n",
       "8121          4                  0           1        2  \n",
       "8122          0                  7           4        2  \n",
       "8123          4                  4           1        2  \n",
       "\n",
       "[8124 rows x 22 columns]"
      ]
     },
     "execution_count": 11,
     "metadata": {},
     "output_type": "execute_result"
    }
   ],
   "source": [
    "new_cat"
   ]
  },
  {
   "cell_type": "code",
   "execution_count": 65,
   "id": "6ba29be6-c6c5-4404-8e39-7eea5271fcef",
   "metadata": {
    "execution": {
     "iopub.execute_input": "2022-11-15T05:53:35.618882Z",
     "iopub.status.busy": "2022-11-15T05:53:35.618882Z",
     "iopub.status.idle": "2022-11-15T05:53:35.648879Z",
     "shell.execute_reply": "2022-11-15T05:53:35.648879Z",
     "shell.execute_reply.started": "2022-11-15T05:53:35.618882Z"
    },
    "tags": []
   },
   "outputs": [],
   "source": [
    "a = np.array(new_cat)"
   ]
  },
  {
   "cell_type": "code",
   "execution_count": 69,
   "id": "3ff605da-802c-491f-88f8-e62e539f31c7",
   "metadata": {
    "execution": {
     "iopub.execute_input": "2022-11-15T05:54:10.415553Z",
     "iopub.status.busy": "2022-11-15T05:54:10.415553Z",
     "iopub.status.idle": "2022-11-15T05:54:10.423560Z",
     "shell.execute_reply": "2022-11-15T05:54:10.423560Z",
     "shell.execute_reply.started": "2022-11-15T05:54:10.415553Z"
    },
    "tags": []
   },
   "outputs": [],
   "source": [
    "X = a[:, 1:]"
   ]
  },
  {
   "cell_type": "code",
   "execution_count": 70,
   "id": "b2ba7738-9ff0-4d0a-8b18-6235e1291741",
   "metadata": {
    "execution": {
     "iopub.execute_input": "2022-11-15T05:54:11.487824Z",
     "iopub.status.busy": "2022-11-15T05:54:11.487824Z",
     "iopub.status.idle": "2022-11-15T05:54:11.503531Z",
     "shell.execute_reply": "2022-11-15T05:54:11.503531Z",
     "shell.execute_reply.started": "2022-11-15T05:54:11.487824Z"
    },
    "tags": []
   },
   "outputs": [],
   "source": [
    "y = a[:, 0]"
   ]
  },
  {
   "cell_type": "code",
   "execution_count": 204,
   "id": "e96d4b70-36e0-465e-9e9a-99426b7904e4",
   "metadata": {
    "execution": {
     "iopub.execute_input": "2022-11-15T06:42:12.141705Z",
     "iopub.status.busy": "2022-11-15T06:42:12.141705Z",
     "iopub.status.idle": "2022-11-15T06:42:12.165861Z",
     "shell.execute_reply": "2022-11-15T06:42:12.165861Z",
     "shell.execute_reply.started": "2022-11-15T06:42:12.141705Z"
    },
    "tags": []
   },
   "outputs": [],
   "source": [
    "X_train, X_test, y_train, y_test = train_test_split(X, y, test_size=0.2)"
   ]
  },
  {
   "cell_type": "code",
   "execution_count": 205,
   "id": "e0698563-1f05-4e88-acef-022da006830e",
   "metadata": {
    "execution": {
     "iopub.execute_input": "2022-11-15T06:42:12.421043Z",
     "iopub.status.busy": "2022-11-15T06:42:12.413141Z",
     "iopub.status.idle": "2022-11-15T06:42:12.435823Z",
     "shell.execute_reply": "2022-11-15T06:42:12.435823Z",
     "shell.execute_reply.started": "2022-11-15T06:42:12.421043Z"
    },
    "tags": []
   },
   "outputs": [
    {
     "data": {
      "text/plain": [
       "(6499, 21)"
      ]
     },
     "execution_count": 205,
     "metadata": {},
     "output_type": "execute_result"
    }
   ],
   "source": [
    "X_train.shape"
   ]
  },
  {
   "cell_type": "code",
   "execution_count": 206,
   "id": "030c892d-ae22-40e9-a8e7-300301112523",
   "metadata": {
    "execution": {
     "iopub.execute_input": "2022-11-15T06:42:12.754444Z",
     "iopub.status.busy": "2022-11-15T06:42:12.754444Z",
     "iopub.status.idle": "2022-11-15T06:42:12.770781Z",
     "shell.execute_reply": "2022-11-15T06:42:12.770781Z",
     "shell.execute_reply.started": "2022-11-15T06:42:12.754444Z"
    },
    "tags": []
   },
   "outputs": [
    {
     "data": {
      "text/plain": [
       "(1625, 21)"
      ]
     },
     "execution_count": 206,
     "metadata": {},
     "output_type": "execute_result"
    }
   ],
   "source": [
    "X_test.shape"
   ]
  },
  {
   "cell_type": "code",
   "execution_count": 207,
   "id": "224b34fc-d91f-439f-896c-f4a66b3a16d4",
   "metadata": {
    "execution": {
     "iopub.execute_input": "2022-11-15T06:42:13.096517Z",
     "iopub.status.busy": "2022-11-15T06:42:13.096517Z",
     "iopub.status.idle": "2022-11-15T06:42:13.113854Z",
     "shell.execute_reply": "2022-11-15T06:42:13.112834Z",
     "shell.execute_reply.started": "2022-11-15T06:42:13.096517Z"
    },
    "tags": []
   },
   "outputs": [
    {
     "data": {
      "text/plain": [
       "(6499,)"
      ]
     },
     "execution_count": 207,
     "metadata": {},
     "output_type": "execute_result"
    }
   ],
   "source": [
    "y_train.shape"
   ]
  },
  {
   "cell_type": "code",
   "execution_count": 287,
   "id": "37f7a6bd-ca22-4247-88a9-219eab61afce",
   "metadata": {
    "execution": {
     "iopub.execute_input": "2022-11-15T08:26:06.278612Z",
     "iopub.status.busy": "2022-11-15T08:26:06.278612Z",
     "iopub.status.idle": "2022-11-15T08:26:06.644106Z",
     "shell.execute_reply": "2022-11-15T08:26:06.644106Z",
     "shell.execute_reply.started": "2022-11-15T08:26:06.278612Z"
    },
    "tags": []
   },
   "outputs": [
    {
     "data": {
      "text/html": [
       "<style>#sk-container-id-2 {color: black;background-color: white;}#sk-container-id-2 pre{padding: 0;}#sk-container-id-2 div.sk-toggleable {background-color: white;}#sk-container-id-2 label.sk-toggleable__label {cursor: pointer;display: block;width: 100%;margin-bottom: 0;padding: 0.3em;box-sizing: border-box;text-align: center;}#sk-container-id-2 label.sk-toggleable__label-arrow:before {content: \"▸\";float: left;margin-right: 0.25em;color: #696969;}#sk-container-id-2 label.sk-toggleable__label-arrow:hover:before {color: black;}#sk-container-id-2 div.sk-estimator:hover label.sk-toggleable__label-arrow:before {color: black;}#sk-container-id-2 div.sk-toggleable__content {max-height: 0;max-width: 0;overflow: hidden;text-align: left;background-color: #f0f8ff;}#sk-container-id-2 div.sk-toggleable__content pre {margin: 0.2em;color: black;border-radius: 0.25em;background-color: #f0f8ff;}#sk-container-id-2 input.sk-toggleable__control:checked~div.sk-toggleable__content {max-height: 200px;max-width: 100%;overflow: auto;}#sk-container-id-2 input.sk-toggleable__control:checked~label.sk-toggleable__label-arrow:before {content: \"▾\";}#sk-container-id-2 div.sk-estimator input.sk-toggleable__control:checked~label.sk-toggleable__label {background-color: #d4ebff;}#sk-container-id-2 div.sk-label input.sk-toggleable__control:checked~label.sk-toggleable__label {background-color: #d4ebff;}#sk-container-id-2 input.sk-hidden--visually {border: 0;clip: rect(1px 1px 1px 1px);clip: rect(1px, 1px, 1px, 1px);height: 1px;margin: -1px;overflow: hidden;padding: 0;position: absolute;width: 1px;}#sk-container-id-2 div.sk-estimator {font-family: monospace;background-color: #f0f8ff;border: 1px dotted black;border-radius: 0.25em;box-sizing: border-box;margin-bottom: 0.5em;}#sk-container-id-2 div.sk-estimator:hover {background-color: #d4ebff;}#sk-container-id-2 div.sk-parallel-item::after {content: \"\";width: 100%;border-bottom: 1px solid gray;flex-grow: 1;}#sk-container-id-2 div.sk-label:hover label.sk-toggleable__label {background-color: #d4ebff;}#sk-container-id-2 div.sk-serial::before {content: \"\";position: absolute;border-left: 1px solid gray;box-sizing: border-box;top: 0;bottom: 0;left: 50%;z-index: 0;}#sk-container-id-2 div.sk-serial {display: flex;flex-direction: column;align-items: center;background-color: white;padding-right: 0.2em;padding-left: 0.2em;position: relative;}#sk-container-id-2 div.sk-item {position: relative;z-index: 1;}#sk-container-id-2 div.sk-parallel {display: flex;align-items: stretch;justify-content: center;background-color: white;position: relative;}#sk-container-id-2 div.sk-item::before, #sk-container-id-2 div.sk-parallel-item::before {content: \"\";position: absolute;border-left: 1px solid gray;box-sizing: border-box;top: 0;bottom: 0;left: 50%;z-index: -1;}#sk-container-id-2 div.sk-parallel-item {display: flex;flex-direction: column;z-index: 1;position: relative;background-color: white;}#sk-container-id-2 div.sk-parallel-item:first-child::after {align-self: flex-end;width: 50%;}#sk-container-id-2 div.sk-parallel-item:last-child::after {align-self: flex-start;width: 50%;}#sk-container-id-2 div.sk-parallel-item:only-child::after {width: 0;}#sk-container-id-2 div.sk-dashed-wrapped {border: 1px dashed gray;margin: 0 0.4em 0.5em 0.4em;box-sizing: border-box;padding-bottom: 0.4em;background-color: white;}#sk-container-id-2 div.sk-label label {font-family: monospace;font-weight: bold;display: inline-block;line-height: 1.2em;}#sk-container-id-2 div.sk-label-container {text-align: center;}#sk-container-id-2 div.sk-container {/* jupyter's `normalize.less` sets `[hidden] { display: none; }` but bootstrap.min.css set `[hidden] { display: none !important; }` so we also need the `!important` here to be able to override the default hidden behavior on the sphinx rendered scikit-learn.org. See: https://github.com/scikit-learn/scikit-learn/issues/21755 */display: inline-block !important;position: relative;}#sk-container-id-2 div.sk-text-repr-fallback {display: none;}</style><div id=\"sk-container-id-2\" class=\"sk-top-container\"><div class=\"sk-text-repr-fallback\"><pre>LGBMClassifier(application=&#x27;binary&#x27;)</pre><b>In a Jupyter environment, please rerun this cell to show the HTML representation or trust the notebook. <br />On GitHub, the HTML representation is unable to render, please try loading this page with nbviewer.org.</b></div><div class=\"sk-container\" hidden><div class=\"sk-item\"><div class=\"sk-estimator sk-toggleable\"><input class=\"sk-toggleable__control sk-hidden--visually\" id=\"sk-estimator-id-2\" type=\"checkbox\" checked><label for=\"sk-estimator-id-2\" class=\"sk-toggleable__label sk-toggleable__label-arrow\">LGBMClassifier</label><div class=\"sk-toggleable__content\"><pre>LGBMClassifier(application=&#x27;binary&#x27;)</pre></div></div></div></div></div>"
      ],
      "text/plain": [
       "LGBMClassifier(application='binary')"
      ]
     },
     "execution_count": 287,
     "metadata": {},
     "output_type": "execute_result"
    }
   ],
   "source": [
    "gbm = LGBMClassifier(max_depth=-1, application='binary', boosting_type='gbdt')\n",
    "gbm.fit(X_train, y_train)"
   ]
  },
  {
   "cell_type": "code",
   "execution_count": 289,
   "id": "c3e2c082-8ca4-4524-aabf-3a6d26474379",
   "metadata": {
    "execution": {
     "iopub.execute_input": "2022-11-15T08:28:00.609788Z",
     "iopub.status.busy": "2022-11-15T08:28:00.601872Z",
     "iopub.status.idle": "2022-11-15T08:28:00.629602Z",
     "shell.execute_reply": "2022-11-15T08:28:00.629602Z",
     "shell.execute_reply.started": "2022-11-15T08:28:00.609788Z"
    },
    "tags": []
   },
   "outputs": [
    {
     "name": "stdout",
     "output_type": "stream",
     "text": [
      "1.0\n",
      "1.0\n"
     ]
    }
   ],
   "source": [
    "pred = gbm.predict(X_test)\n",
    "print(accuracy_score(pred, y_test))\n",
    "print(f1_score(pred, y_test))"
   ]
  },
  {
   "cell_type": "code",
   "execution_count": 300,
   "id": "9d56a707-6ca6-4e6a-bd31-4777b734c19e",
   "metadata": {
    "execution": {
     "iopub.execute_input": "2022-11-15T08:31:17.271251Z",
     "iopub.status.busy": "2022-11-15T08:31:17.271251Z",
     "iopub.status.idle": "2022-11-15T08:31:17.283083Z",
     "shell.execute_reply": "2022-11-15T08:31:17.282422Z",
     "shell.execute_reply.started": "2022-11-15T08:31:17.271251Z"
    },
    "tags": []
   },
   "outputs": [
    {
     "data": {
      "text/plain": [
       "array([12.4, 11.8, 20.9,  3.7, 40.8,  7. ,  9.9, 15.3, 53.7,  2.8, 17.3,\n",
       "        0.4, 17.7,  4. ,  1.9,  0.1,  2.9,  3.7, 31.2, 16.6, 20.8])"
      ]
     },
     "execution_count": 300,
     "metadata": {},
     "output_type": "execute_result"
    }
   ],
   "source": [
    "gbm.feature_importances_/10  # [8], [4], [18]"
   ]
  },
  {
   "cell_type": "code",
   "execution_count": 247,
   "id": "0d0f3169-6851-43fb-87a6-afc5893a6c2d",
   "metadata": {
    "execution": {
     "iopub.execute_input": "2022-11-15T07:01:46.433906Z",
     "iopub.status.busy": "2022-11-15T07:01:46.433906Z",
     "iopub.status.idle": "2022-11-15T07:01:46.739218Z",
     "shell.execute_reply": "2022-11-15T07:01:46.739218Z",
     "shell.execute_reply.started": "2022-11-15T07:01:46.433906Z"
    },
    "tags": []
   },
   "outputs": [
    {
     "name": "stdout",
     "output_type": "stream",
     "text": [
      "Learning rate set to 0.189243\n",
      "0:\tlearn: 0.3767471\ttotal: 3.25ms\tremaining: 322ms\n",
      "1:\tlearn: 0.3038138\ttotal: 6.41ms\tremaining: 314ms\n",
      "2:\tlearn: 0.1869815\ttotal: 8.86ms\tremaining: 286ms\n",
      "3:\tlearn: 0.1277612\ttotal: 11.5ms\tremaining: 276ms\n",
      "4:\tlearn: 0.0904214\ttotal: 13.8ms\tremaining: 262ms\n",
      "5:\tlearn: 0.0659019\ttotal: 16.1ms\tremaining: 252ms\n",
      "6:\tlearn: 0.0591043\ttotal: 18.2ms\tremaining: 242ms\n",
      "7:\tlearn: 0.0425306\ttotal: 20.4ms\tremaining: 235ms\n",
      "8:\tlearn: 0.0348307\ttotal: 22.9ms\tremaining: 231ms\n",
      "9:\tlearn: 0.0321197\ttotal: 25.7ms\tremaining: 232ms\n",
      "10:\tlearn: 0.0317485\ttotal: 27.5ms\tremaining: 222ms\n",
      "11:\tlearn: 0.0283975\ttotal: 29.8ms\tremaining: 219ms\n",
      "12:\tlearn: 0.0273432\ttotal: 32ms\tremaining: 214ms\n",
      "13:\tlearn: 0.0255046\ttotal: 34.2ms\tremaining: 210ms\n",
      "14:\tlearn: 0.0214671\ttotal: 36.8ms\tremaining: 208ms\n",
      "15:\tlearn: 0.0185867\ttotal: 39.5ms\tremaining: 207ms\n",
      "16:\tlearn: 0.0176213\ttotal: 41.6ms\tremaining: 203ms\n",
      "17:\tlearn: 0.0164684\ttotal: 43.8ms\tremaining: 199ms\n",
      "18:\tlearn: 0.0146061\ttotal: 45.9ms\tremaining: 196ms\n",
      "19:\tlearn: 0.0138313\ttotal: 48.2ms\tremaining: 193ms\n",
      "20:\tlearn: 0.0122626\ttotal: 50.3ms\tremaining: 189ms\n",
      "21:\tlearn: 0.0111874\ttotal: 52.5ms\tremaining: 186ms\n",
      "22:\tlearn: 0.0102981\ttotal: 54.8ms\tremaining: 183ms\n",
      "23:\tlearn: 0.0077845\ttotal: 56.8ms\tremaining: 180ms\n",
      "24:\tlearn: 0.0071436\ttotal: 59ms\tremaining: 177ms\n",
      "25:\tlearn: 0.0065323\ttotal: 61.3ms\tremaining: 174ms\n",
      "26:\tlearn: 0.0054733\ttotal: 63.5ms\tremaining: 172ms\n",
      "27:\tlearn: 0.0052323\ttotal: 65.6ms\tremaining: 169ms\n",
      "28:\tlearn: 0.0045674\ttotal: 67.8ms\tremaining: 166ms\n",
      "29:\tlearn: 0.0042010\ttotal: 69.9ms\tremaining: 163ms\n",
      "30:\tlearn: 0.0039205\ttotal: 72.1ms\tremaining: 161ms\n",
      "31:\tlearn: 0.0037844\ttotal: 74.1ms\tremaining: 157ms\n",
      "32:\tlearn: 0.0032910\ttotal: 76.3ms\tremaining: 155ms\n",
      "33:\tlearn: 0.0032032\ttotal: 78.5ms\tremaining: 152ms\n",
      "34:\tlearn: 0.0028512\ttotal: 80.7ms\tremaining: 150ms\n",
      "35:\tlearn: 0.0028512\ttotal: 82.4ms\tremaining: 147ms\n",
      "36:\tlearn: 0.0028231\ttotal: 84.3ms\tremaining: 144ms\n",
      "37:\tlearn: 0.0027197\ttotal: 86.3ms\tremaining: 141ms\n",
      "38:\tlearn: 0.0025888\ttotal: 88.4ms\tremaining: 138ms\n",
      "39:\tlearn: 0.0025365\ttotal: 90.6ms\tremaining: 136ms\n",
      "40:\tlearn: 0.0022972\ttotal: 92.9ms\tremaining: 134ms\n",
      "41:\tlearn: 0.0022483\ttotal: 95.1ms\tremaining: 131ms\n",
      "42:\tlearn: 0.0021815\ttotal: 97.4ms\tremaining: 129ms\n",
      "43:\tlearn: 0.0019514\ttotal: 99.6ms\tremaining: 127ms\n",
      "44:\tlearn: 0.0018214\ttotal: 102ms\tremaining: 124ms\n",
      "45:\tlearn: 0.0016998\ttotal: 104ms\tremaining: 122ms\n",
      "46:\tlearn: 0.0015826\ttotal: 106ms\tremaining: 120ms\n",
      "47:\tlearn: 0.0015001\ttotal: 108ms\tremaining: 117ms\n",
      "48:\tlearn: 0.0013944\ttotal: 110ms\tremaining: 114ms\n",
      "49:\tlearn: 0.0012435\ttotal: 112ms\tremaining: 112ms\n",
      "50:\tlearn: 0.0011973\ttotal: 114ms\tremaining: 110ms\n",
      "51:\tlearn: 0.0011470\ttotal: 116ms\tremaining: 107ms\n",
      "52:\tlearn: 0.0010286\ttotal: 118ms\tremaining: 105ms\n",
      "53:\tlearn: 0.0009334\ttotal: 121ms\tremaining: 103ms\n",
      "54:\tlearn: 0.0008337\ttotal: 123ms\tremaining: 100ms\n",
      "55:\tlearn: 0.0007900\ttotal: 125ms\tremaining: 98.2ms\n",
      "56:\tlearn: 0.0007350\ttotal: 127ms\tremaining: 95.8ms\n",
      "57:\tlearn: 0.0007350\ttotal: 128ms\tremaining: 93ms\n",
      "58:\tlearn: 0.0007349\ttotal: 130ms\tremaining: 90.5ms\n",
      "59:\tlearn: 0.0006916\ttotal: 132ms\tremaining: 88.3ms\n",
      "60:\tlearn: 0.0006915\ttotal: 134ms\tremaining: 85.9ms\n",
      "61:\tlearn: 0.0006915\ttotal: 136ms\tremaining: 83.4ms\n",
      "62:\tlearn: 0.0006915\ttotal: 138ms\tremaining: 81ms\n",
      "63:\tlearn: 0.0006915\ttotal: 140ms\tremaining: 78.6ms\n",
      "64:\tlearn: 0.0006914\ttotal: 142ms\tremaining: 76.3ms\n",
      "65:\tlearn: 0.0006914\ttotal: 143ms\tremaining: 73.8ms\n",
      "66:\tlearn: 0.0006913\ttotal: 145ms\tremaining: 71.3ms\n",
      "67:\tlearn: 0.0006913\ttotal: 146ms\tremaining: 68.9ms\n",
      "68:\tlearn: 0.0006913\ttotal: 148ms\tremaining: 66.5ms\n",
      "69:\tlearn: 0.0006913\ttotal: 150ms\tremaining: 64.2ms\n",
      "70:\tlearn: 0.0006913\ttotal: 151ms\tremaining: 61.9ms\n",
      "71:\tlearn: 0.0006787\ttotal: 153ms\tremaining: 59.5ms\n",
      "72:\tlearn: 0.0006786\ttotal: 155ms\tremaining: 57.3ms\n",
      "73:\tlearn: 0.0006786\ttotal: 157ms\tremaining: 55.1ms\n",
      "74:\tlearn: 0.0006785\ttotal: 158ms\tremaining: 52.8ms\n",
      "75:\tlearn: 0.0006785\ttotal: 160ms\tremaining: 50.6ms\n",
      "76:\tlearn: 0.0006785\ttotal: 162ms\tremaining: 48.4ms\n",
      "77:\tlearn: 0.0006784\ttotal: 163ms\tremaining: 46.1ms\n",
      "78:\tlearn: 0.0006784\ttotal: 165ms\tremaining: 43.8ms\n",
      "79:\tlearn: 0.0006783\ttotal: 166ms\tremaining: 41.6ms\n",
      "80:\tlearn: 0.0006783\ttotal: 168ms\tremaining: 39.4ms\n",
      "81:\tlearn: 0.0006782\ttotal: 169ms\tremaining: 37.2ms\n",
      "82:\tlearn: 0.0006782\ttotal: 171ms\tremaining: 35ms\n",
      "83:\tlearn: 0.0006781\ttotal: 173ms\tremaining: 32.9ms\n",
      "84:\tlearn: 0.0006781\ttotal: 174ms\tremaining: 30.7ms\n",
      "85:\tlearn: 0.0006781\ttotal: 176ms\tremaining: 28.6ms\n",
      "86:\tlearn: 0.0006780\ttotal: 177ms\tremaining: 26.5ms\n",
      "87:\tlearn: 0.0006780\ttotal: 179ms\tremaining: 24.4ms\n",
      "88:\tlearn: 0.0006780\ttotal: 180ms\tremaining: 22.3ms\n",
      "89:\tlearn: 0.0006780\ttotal: 182ms\tremaining: 20.2ms\n",
      "90:\tlearn: 0.0006779\ttotal: 184ms\tremaining: 18.2ms\n",
      "91:\tlearn: 0.0006773\ttotal: 185ms\tremaining: 16.1ms\n",
      "92:\tlearn: 0.0006773\ttotal: 187ms\tremaining: 14.1ms\n",
      "93:\tlearn: 0.0006773\ttotal: 188ms\tremaining: 12ms\n",
      "94:\tlearn: 0.0006773\ttotal: 190ms\tremaining: 9.99ms\n",
      "95:\tlearn: 0.0006772\ttotal: 191ms\tremaining: 7.98ms\n",
      "96:\tlearn: 0.0006772\ttotal: 193ms\tremaining: 5.97ms\n",
      "97:\tlearn: 0.0006772\ttotal: 194ms\tremaining: 3.97ms\n",
      "98:\tlearn: 0.0006772\ttotal: 196ms\tremaining: 1.98ms\n",
      "99:\tlearn: 0.0006772\ttotal: 198ms\tremaining: 0us\n",
      "{'iterations': 100, 'random_strength': 10}\n"
     ]
    }
   ],
   "source": [
    "clf_cat = CatBoostClassifier(iterations=100, random_strength=10)\n",
    "fit_model = clf_cat.fit(X_train, y_train)\n",
    "print(fit_model.get_params())"
   ]
  },
  {
   "cell_type": "code",
   "execution_count": 229,
   "id": "17e4c591-3406-4a75-b4e4-dd91bcc1e3f6",
   "metadata": {
    "execution": {
     "iopub.execute_input": "2022-11-15T06:42:51.966851Z",
     "iopub.status.busy": "2022-11-15T06:42:51.966851Z",
     "iopub.status.idle": "2022-11-15T06:42:51.987915Z",
     "shell.execute_reply": "2022-11-15T06:42:51.986959Z",
     "shell.execute_reply.started": "2022-11-15T06:42:51.966851Z"
    },
    "tags": []
   },
   "outputs": [],
   "source": [
    "cat_pred = clf_cat.predict(X_test)"
   ]
  },
  {
   "cell_type": "code",
   "execution_count": 230,
   "id": "611c518a-da35-48d6-8928-a65cfb300abb",
   "metadata": {
    "execution": {
     "iopub.execute_input": "2022-11-15T06:42:54.228809Z",
     "iopub.status.busy": "2022-11-15T06:42:54.228809Z",
     "iopub.status.idle": "2022-11-15T06:42:54.280579Z",
     "shell.execute_reply": "2022-11-15T06:42:54.280579Z",
     "shell.execute_reply.started": "2022-11-15T06:42:54.228809Z"
    },
    "tags": []
   },
   "outputs": [],
   "source": [
    "train_pred = clf_cat.predict(X_train)"
   ]
  },
  {
   "cell_type": "code",
   "execution_count": 231,
   "id": "3637615a-b611-40d7-855d-96589a8570b3",
   "metadata": {
    "execution": {
     "iopub.execute_input": "2022-11-15T06:42:54.574237Z",
     "iopub.status.busy": "2022-11-15T06:42:54.574237Z",
     "iopub.status.idle": "2022-11-15T06:42:54.590254Z",
     "shell.execute_reply": "2022-11-15T06:42:54.590254Z",
     "shell.execute_reply.started": "2022-11-15T06:42:54.574237Z"
    },
    "tags": []
   },
   "outputs": [],
   "source": [
    "b = pd.DataFrame(cat_pred)\n",
    "c = pd.DataFrame(y_test)"
   ]
  },
  {
   "cell_type": "code",
   "execution_count": 232,
   "id": "de506bd1-eb7e-4382-9b31-caad2fa37bc2",
   "metadata": {
    "execution": {
     "iopub.execute_input": "2022-11-15T06:42:54.906594Z",
     "iopub.status.busy": "2022-11-15T06:42:54.906594Z",
     "iopub.status.idle": "2022-11-15T06:42:54.931274Z",
     "shell.execute_reply": "2022-11-15T06:42:54.931274Z",
     "shell.execute_reply.started": "2022-11-15T06:42:54.906594Z"
    },
    "tags": []
   },
   "outputs": [
    {
     "data": {
      "text/plain": [
       "0    845\n",
       "1    780\n",
       "dtype: int64"
      ]
     },
     "execution_count": 232,
     "metadata": {},
     "output_type": "execute_result"
    }
   ],
   "source": [
    "b.value_counts()"
   ]
  },
  {
   "cell_type": "code",
   "execution_count": 233,
   "id": "ed3c9a44-2fb4-4495-9ce3-4120ddd3609b",
   "metadata": {
    "execution": {
     "iopub.execute_input": "2022-11-15T06:42:55.401782Z",
     "iopub.status.busy": "2022-11-15T06:42:55.393771Z",
     "iopub.status.idle": "2022-11-15T06:42:55.423865Z",
     "shell.execute_reply": "2022-11-15T06:42:55.423865Z",
     "shell.execute_reply.started": "2022-11-15T06:42:55.401782Z"
    },
    "tags": []
   },
   "outputs": [
    {
     "data": {
      "text/plain": [
       "0    845\n",
       "1    780\n",
       "dtype: int64"
      ]
     },
     "execution_count": 233,
     "metadata": {},
     "output_type": "execute_result"
    }
   ],
   "source": [
    "c.value_counts()"
   ]
  },
  {
   "cell_type": "code",
   "execution_count": 234,
   "id": "00d7c233-6b2a-4217-b6cb-ab8907918d1b",
   "metadata": {
    "execution": {
     "iopub.execute_input": "2022-11-15T06:42:56.393614Z",
     "iopub.status.busy": "2022-11-15T06:42:56.393614Z",
     "iopub.status.idle": "2022-11-15T06:42:56.411267Z",
     "shell.execute_reply": "2022-11-15T06:42:56.409524Z",
     "shell.execute_reply.started": "2022-11-15T06:42:56.393614Z"
    },
    "tags": []
   },
   "outputs": [
    {
     "name": "stdout",
     "output_type": "stream",
     "text": [
      "1.0\n"
     ]
    }
   ],
   "source": [
    "score = accuracy_score(y_test, cat_pred)\n",
    "print(score)"
   ]
  },
  {
   "cell_type": "code",
   "execution_count": 235,
   "id": "6985a2b8-8a1e-41b4-8ec5-18c8e4ce4176",
   "metadata": {
    "execution": {
     "iopub.execute_input": "2022-11-15T06:42:56.781332Z",
     "iopub.status.busy": "2022-11-15T06:42:56.781332Z",
     "iopub.status.idle": "2022-11-15T06:42:56.798101Z",
     "shell.execute_reply": "2022-11-15T06:42:56.798101Z",
     "shell.execute_reply.started": "2022-11-15T06:42:56.781332Z"
    },
    "tags": []
   },
   "outputs": [
    {
     "name": "stdout",
     "output_type": "stream",
     "text": [
      "1.0\n"
     ]
    }
   ],
   "source": [
    "train_score = accuracy_score(y_train, train_pred)\n",
    "print(train_score)"
   ]
  },
  {
   "cell_type": "code",
   "execution_count": 236,
   "id": "63d6aaf7-942f-419e-9403-1a7284715445",
   "metadata": {
    "execution": {
     "iopub.execute_input": "2022-11-15T06:42:57.193060Z",
     "iopub.status.busy": "2022-11-15T06:42:57.187328Z",
     "iopub.status.idle": "2022-11-15T06:42:57.210638Z",
     "shell.execute_reply": "2022-11-15T06:42:57.210638Z",
     "shell.execute_reply.started": "2022-11-15T06:42:57.193060Z"
    },
    "tags": []
   },
   "outputs": [
    {
     "name": "stdout",
     "output_type": "stream",
     "text": [
      "1.0\n"
     ]
    }
   ],
   "source": [
    "f1 = f1_score(y_test, cat_pred)\n",
    "print(f1)"
   ]
  },
  {
   "cell_type": "code",
   "execution_count": 237,
   "id": "1eadd03c-9922-44b7-a4b9-2f53b0ef2b1b",
   "metadata": {
    "execution": {
     "iopub.execute_input": "2022-11-15T06:42:57.723918Z",
     "iopub.status.busy": "2022-11-15T06:42:57.723918Z",
     "iopub.status.idle": "2022-11-15T06:42:57.742607Z",
     "shell.execute_reply": "2022-11-15T06:42:57.742022Z",
     "shell.execute_reply.started": "2022-11-15T06:42:57.723918Z"
    },
    "tags": []
   },
   "outputs": [
    {
     "name": "stdout",
     "output_type": "stream",
     "text": [
      "1.0\n"
     ]
    }
   ],
   "source": [
    "f1_train = f1_score(y_train, train_pred)\n",
    "print(f1_train)"
   ]
  },
  {
   "cell_type": "code",
   "execution_count": 301,
   "id": "ae657257-ba42-4722-ba8a-ffe36c7f36c8",
   "metadata": {
    "execution": {
     "iopub.execute_input": "2022-11-15T08:32:42.130161Z",
     "iopub.status.busy": "2022-11-15T08:32:42.130161Z",
     "iopub.status.idle": "2022-11-15T08:32:42.146036Z",
     "shell.execute_reply": "2022-11-15T08:32:42.145697Z",
     "shell.execute_reply.started": "2022-11-15T08:32:42.130161Z"
    },
    "tags": []
   },
   "outputs": [
    {
     "name": "stdout",
     "output_type": "stream",
     "text": [
      "[ 0.54580421  4.04570181  0.96774168  3.75218123 12.91022477  0.05825597\n",
      "  5.93623535 15.26892759  1.04873334  7.2106307  11.55055153  8.98459037\n",
      "  4.13290232  4.93882161  0.37246438  0.23646017  0.79457511  2.89044579\n",
      "  9.64947593  1.35661036  3.34866576]\n"
     ]
    }
   ],
   "source": [
    "print(f'{clf_cat.feature_importances_}')  # [7], [4], [10]"
   ]
  },
  {
   "cell_type": "code",
   "execution_count": 340,
   "id": "b5f0c5c7-6001-4a14-8195-8568ec505626",
   "metadata": {
    "execution": {
     "iopub.execute_input": "2022-11-15T09:54:01.557644Z",
     "iopub.status.busy": "2022-11-15T09:54:01.557644Z",
     "iopub.status.idle": "2022-11-15T09:54:01.600859Z",
     "shell.execute_reply": "2022-11-15T09:54:01.599008Z",
     "shell.execute_reply.started": "2022-11-15T09:54:01.557644Z"
    },
    "tags": []
   },
   "outputs": [],
   "source": [
    "X_train, X_test, y_train, y_test = train_test_split(new_cat[['gill-color', 'odor', 'stalk-root']], y, test_size=0.2)"
   ]
  },
  {
   "cell_type": "code",
   "execution_count": 341,
   "id": "72554441-68c8-4d18-9b1a-a41d94251bc1",
   "metadata": {
    "execution": {
     "iopub.execute_input": "2022-11-15T09:54:02.073553Z",
     "iopub.status.busy": "2022-11-15T09:54:02.073553Z",
     "iopub.status.idle": "2022-11-15T09:54:02.089769Z",
     "shell.execute_reply": "2022-11-15T09:54:02.089769Z",
     "shell.execute_reply.started": "2022-11-15T09:54:02.073553Z"
    },
    "tags": []
   },
   "outputs": [],
   "source": [
    "X_train = np.array(X_train)\n",
    "X_test = np.array(X_test)"
   ]
  },
  {
   "cell_type": "code",
   "execution_count": 342,
   "id": "c4396f87-ae58-4990-ada4-b177b1249cdd",
   "metadata": {
    "execution": {
     "iopub.execute_input": "2022-11-15T09:54:02.325639Z",
     "iopub.status.busy": "2022-11-15T09:54:02.325639Z",
     "iopub.status.idle": "2022-11-15T09:54:02.609773Z",
     "shell.execute_reply": "2022-11-15T09:54:02.609773Z",
     "shell.execute_reply.started": "2022-11-15T09:54:02.325639Z"
    },
    "tags": []
   },
   "outputs": [
    {
     "name": "stdout",
     "output_type": "stream",
     "text": [
      "Learning rate set to 0.189243\n",
      "0:\tlearn: 0.5680344\ttotal: 1.83ms\tremaining: 181ms\n",
      "1:\tlearn: 0.4675894\ttotal: 4.08ms\tremaining: 200ms\n",
      "2:\tlearn: 0.3942756\ttotal: 5.59ms\tremaining: 181ms\n",
      "3:\tlearn: 0.3604342\ttotal: 7.05ms\tremaining: 169ms\n",
      "4:\tlearn: 0.2999586\ttotal: 8.76ms\tremaining: 167ms\n",
      "5:\tlearn: 0.2557031\ttotal: 10ms\tremaining: 157ms\n",
      "6:\tlearn: 0.2286213\ttotal: 11.5ms\tremaining: 152ms\n",
      "7:\tlearn: 0.2043221\ttotal: 13.3ms\tremaining: 153ms\n",
      "8:\tlearn: 0.1922642\ttotal: 15.1ms\tremaining: 152ms\n",
      "9:\tlearn: 0.1728460\ttotal: 17.5ms\tremaining: 157ms\n",
      "10:\tlearn: 0.1545532\ttotal: 19.8ms\tremaining: 160ms\n",
      "11:\tlearn: 0.1373235\ttotal: 21.8ms\tremaining: 160ms\n",
      "12:\tlearn: 0.1329662\ttotal: 23.7ms\tremaining: 159ms\n",
      "13:\tlearn: 0.1193569\ttotal: 25.7ms\tremaining: 158ms\n",
      "14:\tlearn: 0.1121772\ttotal: 27.9ms\tremaining: 158ms\n",
      "15:\tlearn: 0.1028023\ttotal: 30ms\tremaining: 158ms\n",
      "16:\tlearn: 0.0984454\ttotal: 32.7ms\tremaining: 160ms\n",
      "17:\tlearn: 0.0924447\ttotal: 34.6ms\tremaining: 158ms\n",
      "18:\tlearn: 0.0901721\ttotal: 35.9ms\tremaining: 153ms\n",
      "19:\tlearn: 0.0867809\ttotal: 37.9ms\tremaining: 152ms\n",
      "20:\tlearn: 0.0814338\ttotal: 40.3ms\tremaining: 152ms\n",
      "21:\tlearn: 0.0766985\ttotal: 42.3ms\tremaining: 150ms\n",
      "22:\tlearn: 0.0734821\ttotal: 44.9ms\tremaining: 150ms\n",
      "23:\tlearn: 0.0708932\ttotal: 47ms\tremaining: 149ms\n",
      "24:\tlearn: 0.0678756\ttotal: 48.9ms\tremaining: 147ms\n",
      "25:\tlearn: 0.0659095\ttotal: 50.6ms\tremaining: 144ms\n",
      "26:\tlearn: 0.0643779\ttotal: 52.9ms\tremaining: 143ms\n",
      "27:\tlearn: 0.0618199\ttotal: 55.2ms\tremaining: 142ms\n",
      "28:\tlearn: 0.0607052\ttotal: 57.8ms\tremaining: 142ms\n",
      "29:\tlearn: 0.0591444\ttotal: 60.5ms\tremaining: 141ms\n",
      "30:\tlearn: 0.0585842\ttotal: 62.3ms\tremaining: 139ms\n",
      "31:\tlearn: 0.0575663\ttotal: 64.1ms\tremaining: 136ms\n",
      "32:\tlearn: 0.0563653\ttotal: 65.9ms\tremaining: 134ms\n",
      "33:\tlearn: 0.0550662\ttotal: 68.1ms\tremaining: 132ms\n",
      "34:\tlearn: 0.0532016\ttotal: 70.2ms\tremaining: 130ms\n",
      "35:\tlearn: 0.0524629\ttotal: 72.3ms\tremaining: 128ms\n",
      "36:\tlearn: 0.0516939\ttotal: 74.3ms\tremaining: 127ms\n",
      "37:\tlearn: 0.0514992\ttotal: 76.1ms\tremaining: 124ms\n",
      "38:\tlearn: 0.0501877\ttotal: 78.3ms\tremaining: 123ms\n",
      "39:\tlearn: 0.0492053\ttotal: 80.4ms\tremaining: 121ms\n",
      "40:\tlearn: 0.0489520\ttotal: 82.5ms\tremaining: 119ms\n",
      "41:\tlearn: 0.0478975\ttotal: 85.2ms\tremaining: 118ms\n",
      "42:\tlearn: 0.0469999\ttotal: 87.9ms\tremaining: 117ms\n",
      "43:\tlearn: 0.0466846\ttotal: 90.3ms\tremaining: 115ms\n",
      "44:\tlearn: 0.0461008\ttotal: 92ms\tremaining: 112ms\n",
      "45:\tlearn: 0.0453108\ttotal: 94ms\tremaining: 110ms\n",
      "46:\tlearn: 0.0444797\ttotal: 95.9ms\tremaining: 108ms\n",
      "47:\tlearn: 0.0443241\ttotal: 98.3ms\tremaining: 106ms\n",
      "48:\tlearn: 0.0438994\ttotal: 101ms\tremaining: 105ms\n",
      "49:\tlearn: 0.0435374\ttotal: 103ms\tremaining: 103ms\n",
      "50:\tlearn: 0.0429629\ttotal: 105ms\tremaining: 101ms\n",
      "51:\tlearn: 0.0421628\ttotal: 108ms\tremaining: 99.4ms\n",
      "52:\tlearn: 0.0419436\ttotal: 109ms\tremaining: 97.1ms\n",
      "53:\tlearn: 0.0413569\ttotal: 111ms\tremaining: 94.8ms\n",
      "54:\tlearn: 0.0409816\ttotal: 114ms\tremaining: 93.2ms\n",
      "55:\tlearn: 0.0402809\ttotal: 116ms\tremaining: 91.4ms\n",
      "56:\tlearn: 0.0399531\ttotal: 118ms\tremaining: 89.4ms\n",
      "57:\tlearn: 0.0396109\ttotal: 121ms\tremaining: 87.5ms\n",
      "58:\tlearn: 0.0393761\ttotal: 123ms\tremaining: 85.5ms\n",
      "59:\tlearn: 0.0390692\ttotal: 125ms\tremaining: 83ms\n",
      "60:\tlearn: 0.0384274\ttotal: 127ms\tremaining: 81.1ms\n",
      "61:\tlearn: 0.0377084\ttotal: 129ms\tremaining: 79ms\n",
      "62:\tlearn: 0.0375163\ttotal: 131ms\tremaining: 77.2ms\n",
      "63:\tlearn: 0.0371072\ttotal: 134ms\tremaining: 75.3ms\n",
      "64:\tlearn: 0.0366691\ttotal: 136ms\tremaining: 73.5ms\n",
      "65:\tlearn: 0.0364373\ttotal: 139ms\tremaining: 71.5ms\n",
      "66:\tlearn: 0.0362354\ttotal: 141ms\tremaining: 69.4ms\n",
      "67:\tlearn: 0.0359613\ttotal: 143ms\tremaining: 67.4ms\n",
      "68:\tlearn: 0.0356447\ttotal: 146ms\tremaining: 65.4ms\n",
      "69:\tlearn: 0.0353946\ttotal: 148ms\tremaining: 63.4ms\n",
      "70:\tlearn: 0.0350598\ttotal: 151ms\tremaining: 61.6ms\n",
      "71:\tlearn: 0.0348819\ttotal: 153ms\tremaining: 59.6ms\n",
      "72:\tlearn: 0.0346683\ttotal: 155ms\tremaining: 57.5ms\n",
      "73:\tlearn: 0.0343845\ttotal: 158ms\tremaining: 55.4ms\n",
      "74:\tlearn: 0.0340330\ttotal: 160ms\tremaining: 53.4ms\n",
      "75:\tlearn: 0.0338642\ttotal: 163ms\tremaining: 51.4ms\n",
      "76:\tlearn: 0.0336183\ttotal: 165ms\tremaining: 49.3ms\n",
      "77:\tlearn: 0.0333603\ttotal: 167ms\tremaining: 47.2ms\n",
      "78:\tlearn: 0.0332140\ttotal: 170ms\tremaining: 45.2ms\n",
      "79:\tlearn: 0.0330806\ttotal: 172ms\tremaining: 42.9ms\n",
      "80:\tlearn: 0.0328653\ttotal: 173ms\tremaining: 40.7ms\n",
      "81:\tlearn: 0.0327452\ttotal: 176ms\tremaining: 38.6ms\n",
      "82:\tlearn: 0.0325276\ttotal: 178ms\tremaining: 36.5ms\n",
      "83:\tlearn: 0.0324250\ttotal: 180ms\tremaining: 34.3ms\n",
      "84:\tlearn: 0.0321293\ttotal: 183ms\tremaining: 32.2ms\n",
      "85:\tlearn: 0.0319468\ttotal: 185ms\tremaining: 30.1ms\n",
      "86:\tlearn: 0.0317532\ttotal: 187ms\tremaining: 27.9ms\n",
      "87:\tlearn: 0.0315535\ttotal: 189ms\tremaining: 25.8ms\n",
      "88:\tlearn: 0.0313884\ttotal: 192ms\tremaining: 23.7ms\n",
      "89:\tlearn: 0.0313049\ttotal: 194ms\tremaining: 21.6ms\n",
      "90:\tlearn: 0.0311687\ttotal: 197ms\tremaining: 19.5ms\n",
      "91:\tlearn: 0.0310962\ttotal: 200ms\tremaining: 17.4ms\n",
      "92:\tlearn: 0.0309393\ttotal: 202ms\tremaining: 15.2ms\n",
      "93:\tlearn: 0.0307851\ttotal: 204ms\tremaining: 13ms\n",
      "94:\tlearn: 0.0306576\ttotal: 206ms\tremaining: 10.9ms\n",
      "95:\tlearn: 0.0305262\ttotal: 209ms\tremaining: 8.69ms\n",
      "96:\tlearn: 0.0304263\ttotal: 211ms\tremaining: 6.51ms\n",
      "97:\tlearn: 0.0303311\ttotal: 213ms\tremaining: 4.34ms\n",
      "98:\tlearn: 0.0301555\ttotal: 215ms\tremaining: 2.17ms\n",
      "99:\tlearn: 0.0300981\ttotal: 217ms\tremaining: 0us\n",
      "{'iterations': 100, 'random_strength': 10}\n"
     ]
    }
   ],
   "source": [
    "clf_cat = CatBoostClassifier(iterations=100, random_strength=10)\n",
    "fit_model = clf_cat.fit(X_train, y_train)\n",
    "print(fit_model.get_params())"
   ]
  },
  {
   "cell_type": "code",
   "execution_count": 343,
   "id": "456461e2-5ef1-49f1-91c6-073aa5e32eac",
   "metadata": {
    "execution": {
     "iopub.execute_input": "2022-11-15T09:54:04.910302Z",
     "iopub.status.busy": "2022-11-15T09:54:04.910302Z",
     "iopub.status.idle": "2022-11-15T09:54:04.935018Z",
     "shell.execute_reply": "2022-11-15T09:54:04.933851Z",
     "shell.execute_reply.started": "2022-11-15T09:54:04.910302Z"
    },
    "tags": []
   },
   "outputs": [],
   "source": [
    "cat_pred = clf_cat.predict(X_test)\n",
    "b = pd.DataFrame(cat_pred)\n",
    "c = pd.DataFrame(y_test)"
   ]
  },
  {
   "cell_type": "code",
   "execution_count": 344,
   "id": "a62ec901-dad9-45fe-a97a-961b226a79e3",
   "metadata": {
    "execution": {
     "iopub.execute_input": "2022-11-15T09:54:05.319438Z",
     "iopub.status.busy": "2022-11-15T09:54:05.319438Z",
     "iopub.status.idle": "2022-11-15T09:54:05.344210Z",
     "shell.execute_reply": "2022-11-15T09:54:05.344210Z",
     "shell.execute_reply.started": "2022-11-15T09:54:05.319438Z"
    },
    "tags": []
   },
   "outputs": [
    {
     "name": "stdout",
     "output_type": "stream",
     "text": [
      "0.9907692307692307\n",
      "0.9904882688649335\n"
     ]
    }
   ],
   "source": [
    "score = accuracy_score(y_test, cat_pred)\n",
    "print(score)\n",
    "f1 = f1_score(y_test, cat_pred)\n",
    "print(f1)"
   ]
  },
  {
   "cell_type": "code",
   "execution_count": 345,
   "id": "7d0adcac-6172-4f65-88a3-229c39d633ad",
   "metadata": {
    "execution": {
     "iopub.execute_input": "2022-11-15T09:54:06.580528Z",
     "iopub.status.busy": "2022-11-15T09:54:06.580528Z",
     "iopub.status.idle": "2022-11-15T09:54:06.604933Z",
     "shell.execute_reply": "2022-11-15T09:54:06.604933Z",
     "shell.execute_reply.started": "2022-11-15T09:54:06.580528Z"
    },
    "tags": []
   },
   "outputs": [],
   "source": [
    "train_pred = clf_cat.predict(X_train)"
   ]
  },
  {
   "cell_type": "code",
   "execution_count": 346,
   "id": "77e8dca5-97af-429b-976d-b8074d10534c",
   "metadata": {
    "execution": {
     "iopub.execute_input": "2022-11-15T09:54:07.160941Z",
     "iopub.status.busy": "2022-11-15T09:54:07.160941Z",
     "iopub.status.idle": "2022-11-15T09:54:07.190765Z",
     "shell.execute_reply": "2022-11-15T09:54:07.189460Z",
     "shell.execute_reply.started": "2022-11-15T09:54:07.160941Z"
    },
    "tags": []
   },
   "outputs": [
    {
     "name": "stdout",
     "output_type": "stream",
     "text": [
      "0.9924603785197723\n",
      "0.9920852850912615\n"
     ]
    }
   ],
   "source": [
    "train_score = accuracy_score(y_train, train_pred)\n",
    "print(train_score)\n",
    "f1_train = f1_score(y_train, train_pred)\n",
    "print(f1_train)"
   ]
  }
 ],
 "metadata": {
  "kernelspec": {
   "display_name": "Python 3 (ipykernel)",
   "language": "python",
   "name": "python3"
  },
  "language_info": {
   "codemirror_mode": {
    "name": "ipython",
    "version": 3
   },
   "file_extension": ".py",
   "mimetype": "text/x-python",
   "name": "python",
   "nbconvert_exporter": "python",
   "pygments_lexer": "ipython3",
   "version": "3.9.0"
  }
 },
 "nbformat": 4,
 "nbformat_minor": 5
}
